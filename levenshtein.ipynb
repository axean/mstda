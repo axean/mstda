{
 "cells": [
  {
   "cell_type": "markdown",
   "id": "e146ae17",
   "metadata": {},
   "source": [
    "https://en.wikipedia.org/wiki/Levenshtein_distance"
   ]
  },
  {
   "cell_type": "code",
   "execution_count": 1,
   "id": "b0c58967",
   "metadata": {},
   "outputs": [
    {
     "data": {
      "text/plain": [
       "2"
      ]
     },
     "execution_count": 1,
     "metadata": {},
     "output_type": "execute_result"
    }
   ],
   "source": [
    "from rich import print\n",
    "from enchant.utils import levenshtein\n",
    "import random\n",
    "\n",
    "levenshtein(\"12345678\",\"13245678\")"
   ]
  },
  {
   "cell_type": "code",
   "execution_count": 2,
   "id": "fe9c5968",
   "metadata": {},
   "outputs": [],
   "source": [
    "ols_oeselma = \"\"\"\n",
    " OEselma Silicon Count & 0.108439 & 0.004239 & 0.000530 & 0.003220 & 0.029690 \\\\\n",
    " OEselma Bromine Count & 0.265308 & 0.034856 & 0.032839 & 0.067323 & 0.253755 \\\\\n",
    " OEselma Iodine Count & 0.287843 & 0.028450 & 0.043962 & 0.074060 & 0.257294 \\\\\n",
    " OEselma Tsa & 261.688962 & 414.138860 & 416.314089 & 106.106942 & 0.405470 \\\\\n",
    " OEselma Rot Bond Count & 7.213711 & 6.681677 & 6.712394 & 2.944185 & 0.408137 \\\\\n",
    " OEselma Mol Volume 2D & 371.986946 & 592.330629 & 590.853288 & 157.692542 & 0.423920 \\\\\n",
    " OEselma Atom Count & 15.766603 & 25.429675 & 25.634004 & 7.037158 & 0.446333 \\\\\n",
    " OEselma Mw & 227.821937 & 373.328639 & 374.298888 & 104.350362 & 0.458035 \\\\\n",
    " OEselma Bond Count & 16.980448 & 26.935092 & 27.305614 & 7.864136 & 0.463129 \\\\\n",
    " OEselma Npsa & 200.207940 & 307.642466 & 312.725652 & 92.760671 & 0.463322 \\\\\n",
    " OEselma Carbon Count & 11.377305 & 17.636929 & 17.933263 & 5.364070 & 0.471471 \\\\\n",
    " OEselma Phosphorous Count & 0.474829 & 0.122751 & 0.123941 & 0.224827 & 0.473491 \\\\\n",
    " OEselma Part Flex Chain & 4.183248 & 4.829146 & 4.997881 & 2.108171 & 0.503955 \\\\\n",
    " OEselma Psa & 101.197251 & 106.494461 & 103.579013 & 52.274907 & 0.516564 \\\\\n",
    " OEselma Ertl Tpsa & 94.357347 & 102.704204 & 100.456871 & 49.051269 & 0.519846 \\\\\n",
    " OEselma Polar Count & 5.731492 & 6.059067 & 5.917903 & 3.004033 & 0.524128 \\\\\n",
    " OEselma Hba Lipinski & 5.725688 & 6.789826 & 6.721928 & 3.011111 & 0.525895 \\\\\n",
    " OEselma Fluorine Count & 0.933018 & 0.276967 & 0.297140 & 0.495503 & 0.531076 \\\\\n",
    " OEselma Rigid Frag Count & 3.579486 & 5.023363 & 5.022775 & 2.000506 & 0.558881 \\\\\n",
    " OEselma Hbd & 3.482418 & 2.674517 & 2.719809 & 1.948421 & 0.559502 \\\\\n",
    " OEselma Hbd Lipinski & 3.595447 & 2.940744 & 2.995763 & 2.017538 & 0.561137 \\\\\n",
    " OEselma Oxygen Count & 4.226225 & 4.206029 & 4.072034 & 2.389511 & 0.565401 \\\\\n",
    " OEselma Hba & 4.799591 & 5.812529 & 5.852754 & 2.729655 & 0.568727 \\\\\n",
    " OEselma Max Flex Chain 1 & 2.645862 & 2.943565 & 3.036547 & 1.515677 & 0.572848 \\\\\n",
    " OEselma Max Flex Chain 2 & 1.948082 & 1.691916 & 1.710275 & 1.116195 & 0.572972 \\\\\n",
    " OEselma Max Flex Chain 3 & 1.623217 & 1.148954 & 1.129237 & 0.932263 & 0.574331 \\\\\n",
    " OEselma Clorine Count & 0.515279 & 0.168629 & 0.181144 & 0.298271 & 0.578853 \\\\\n",
    " OEselma Neg Ioniz & 1.108872 & 0.539802 & 0.462394 & 0.650857 & 0.586955 \\\\\n",
    " OEselma Nitrogen Count & 2.861234 & 2.583797 & 2.649894 & 1.709653 & 0.597523 \\\\\n",
    " OEselma Rigid Bond Count & 10.405612 & 16.273575 & 16.576271 & 6.257895 & 0.601396 \\\\\n",
    " OEselma Nonpolar Count & 9.445993 & 12.086764 & 12.570445 & 5.846501 & 0.618940 \\\\\n",
    " OEselma Pos Ioniz & 1.323273 & 1.011211 & 1.046081 & 0.821974 & 0.621167 \\\\\n",
    " OEselma Ring Count & 1.811629 & 2.602073 & 2.675847 & 1.149428 & 0.634472 \\\\\n",
    " OEselma Halogen Count & 1.127074 & 0.508902 & 0.555085 & 0.739378 & 0.656016 \\\\\n",
    " OEselma Max Rigid Chain & 4.269220 & 6.990578 & 7.165254 & 2.869323 & 0.672095 \\\\\n",
    " OEselma Sulphur Count & 0.642512 & 0.289119 & 0.291843 & 0.442843 & 0.689237 \\\\\n",
    " OEselma Nonpolar Count Per Mw & 0.020729 & 0.031652 & 0.033239 & 0.015105 & 0.728698 \\\\\n",
    " OEselma Aromatic Ring Count & 1.351165 & 1.607348 & 1.683263 & 1.001529 & 0.741233 \\\\\n",
    " OEselma Polar Count Per Mw & 0.009170 & 0.016298 & 0.016026 & 0.006958 & 0.758783 \\\\\n",
    "\"\"\""
   ]
  },
  {
   "cell_type": "code",
   "execution_count": 3,
   "id": "1ab684f0",
   "metadata": {},
   "outputs": [],
   "source": [
    "cnn_oeselma = \"\"\"\n",
    " OEselma Silicon Count & 0.108439 & 0.004239 & 0.001059 & 0.001745 & 0.016093 \\\\\n",
    " OEselma Iodine Count & 0.287843 & 0.028450 & 0.025953 & 0.029030 & 0.100853 \\\\\n",
    " OEselma Bromine Count & 0.265308 & 0.034856 & 0.034428 & 0.036573 & 0.137850 \\\\\n",
    " OEselma Phosphorous Count & 0.474829 & 0.122751 & 0.115466 & 0.118135 & 0.248795 \\\\\n",
    " OEselma Fluorine Count & 0.933018 & 0.276967 & 0.262712 & 0.267226 & 0.286411 \\\\\n",
    " OEselma Clorine Count & 0.515279 & 0.168629 & 0.160487 & 0.163946 & 0.318170 \\\\\n",
    " OEselma Neg Ioniz & 1.108872 & 0.539802 & 0.452860 & 0.457865 & 0.412911 \\\\\n",
    " OEselma Halogen Count & 1.127074 & 0.508902 & 0.483581 & 0.481674 & 0.427367 \\\\\n",
    " OEselma Sulphur Count & 0.642512 & 0.289119 & 0.280720 & 0.288122 & 0.448431 \\\\\n",
    " OEselma Part Flex Chain & 4.183248 & 4.829146 & 4.808263 & 1.967213 & 0.470260 \\\\\n",
    " OEselma Rot Bond Count & 7.213711 & 6.681677 & 6.401483 & 3.489025 & 0.483666 \\\\\n",
    " OEselma Npsa & 200.207940 & 307.642466 & 305.795517 & 98.622901 & 0.492602 \\\\\n",
    " OEselma Tsa & 261.688962 & 414.138860 & 405.405720 & 131.697137 & 0.503258 \\\\\n",
    " OEselma Oxygen Count & 4.226225 & 4.206029 & 3.956038 & 2.135425 & 0.505279 \\\\\n",
    " OEselma Hba & 4.799591 & 5.812529 & 5.663136 & 2.456341 & 0.511781 \\\\\n",
    " OEselma Mw & 227.821937 & 373.328639 & 362.211229 & 119.079400 & 0.522686 \\\\\n",
    " OEselma Hbd & 3.482418 & 2.674517 & 2.534958 & 1.830414 & 0.525616 \\\\\n",
    " OEselma Ertl Tpsa & 94.357347 & 102.704204 & 96.960223 & 50.082845 & 0.530778 \\\\\n",
    " OEselma Polar Count & 5.731492 & 6.059067 & 5.700212 & 3.074848 & 0.536483 \\\\\n",
    " OEselma Psa & 101.197251 & 106.494461 & 99.604419 & 54.736046 & 0.540885 \\\\\n",
    " OEselma Hbd Lipinski & 3.595447 & 2.940744 & 2.795021 & 1.959633 & 0.545032 \\\\\n",
    " OEselma Mol Volume 2D & 371.986946 & 592.330629 & 575.865486 & 204.456468 & 0.549633 \\\\\n",
    " OEselma Rigid Bond Count & 10.405612 & 16.273575 & 16.369703 & 5.730955 & 0.550756 \\\\\n",
    " OEselma Carbon Count & 11.377305 & 17.636929 & 17.591631 & 6.268767 & 0.550989 \\\\\n",
    " OEselma Hba Lipinski & 5.725688 & 6.789826 & 6.522246 & 3.158857 & 0.551699 \\\\\n",
    " OEselma Nonpolar Count & 9.445993 & 12.086764 & 12.375000 & 5.434184 & 0.575290 \\\\\n",
    " OEselma Ring Count & 1.811629 & 2.602073 & 2.652542 & 1.084616 & 0.598697 \\\\\n",
    " OEselma Atom Count & 15.766603 & 25.429675 & 25.002119 & 9.567522 & 0.606822 \\\\\n",
    " OEselma Max Rigid Chain & 4.269220 & 6.990578 & 7.162076 & 2.596076 & 0.608091 \\\\\n",
    " OEselma Bond Count & 16.980448 & 26.935092 & 26.652542 & 10.376671 & 0.611095 \\\\\n",
    " OEselma Rigid Frag Count & 3.579486 & 5.023363 & 4.927436 & 2.196631 & 0.613672 \\\\\n",
    " OEselma Max Flex Chain 1 & 2.645862 & 2.943565 & 2.967691 & 1.632688 & 0.617072 \\\\\n",
    " OEselma Max Flex Chain 3 & 1.623217 & 1.148954 & 1.181674 & 1.041896 & 0.641871 \\\\\n",
    " OEselma Max Flex Chain 2 & 1.948082 & 1.691916 & 1.758475 & 1.251045 & 0.642193 \\\\\n",
    " OEselma Pos Ioniz & 1.323273 & 1.011211 & 0.969280 & 0.850462 & 0.642695 \\\\\n",
    " OEselma Nitrogen Count & 2.861234 & 2.583797 & 2.566208 & 1.887779 & 0.659778 \\\\\n",
    " OEselma Nonpolar Count Per Mw & 0.020729 & 0.031652 & 0.033686 & 0.014295 & 0.689639 \\\\\n",
    " OEselma Aromatic Ring Count & 1.351165 & 1.607348 & 1.655720 & 0.990535 & 0.733097 \\\\\n",
    " OEselma Polar Count Per Mw & 0.009170 & 0.016298 & 0.015956 & 0.007268 & 0.792535 \\\\\n",
    "\"\"\""
   ]
  },
  {
   "cell_type": "code",
   "execution_count": 10,
   "id": "3040b060",
   "metadata": {},
   "outputs": [
    {
     "data": {
      "text/html": [
       "<pre style=\"white-space:pre;overflow-x:auto;line-height:normal;font-family:Menlo,'DejaVu Sans Mono',consolas,'Courier New',monospace\"><span style=\"font-weight: bold\">{</span>\n",
       "    <span style=\"color: #008000; text-decoration-color: #008000\">' OEselma Silicon Count '</span>: <span style=\"color: #008080; text-decoration-color: #008080; font-weight: bold\">0</span>,\n",
       "    <span style=\"color: #008000; text-decoration-color: #008000\">' OEselma Bromine Count '</span>: <span style=\"color: #008080; text-decoration-color: #008080; font-weight: bold\">1</span>,\n",
       "    <span style=\"color: #008000; text-decoration-color: #008000\">' OEselma Iodine Count '</span>: <span style=\"color: #008080; text-decoration-color: #008080; font-weight: bold\">2</span>,\n",
       "    <span style=\"color: #008000; text-decoration-color: #008000\">' OEselma Tsa '</span>: <span style=\"color: #008080; text-decoration-color: #008080; font-weight: bold\">3</span>,\n",
       "    <span style=\"color: #008000; text-decoration-color: #008000\">' OEselma Rot Bond Count '</span>: <span style=\"color: #008080; text-decoration-color: #008080; font-weight: bold\">4</span>,\n",
       "    <span style=\"color: #008000; text-decoration-color: #008000\">' OEselma Mol Volume 2D '</span>: <span style=\"color: #008080; text-decoration-color: #008080; font-weight: bold\">5</span>,\n",
       "    <span style=\"color: #008000; text-decoration-color: #008000\">' OEselma Atom Count '</span>: <span style=\"color: #008080; text-decoration-color: #008080; font-weight: bold\">6</span>,\n",
       "    <span style=\"color: #008000; text-decoration-color: #008000\">' OEselma Mw '</span>: <span style=\"color: #008080; text-decoration-color: #008080; font-weight: bold\">7</span>,\n",
       "    <span style=\"color: #008000; text-decoration-color: #008000\">' OEselma Bond Count '</span>: <span style=\"color: #008080; text-decoration-color: #008080; font-weight: bold\">8</span>,\n",
       "    <span style=\"color: #008000; text-decoration-color: #008000\">' OEselma Npsa '</span>: <span style=\"color: #008080; text-decoration-color: #008080; font-weight: bold\">9</span>,\n",
       "    <span style=\"color: #008000; text-decoration-color: #008000\">' OEselma Carbon Count '</span>: <span style=\"color: #008080; text-decoration-color: #008080; font-weight: bold\">10</span>,\n",
       "    <span style=\"color: #008000; text-decoration-color: #008000\">' OEselma Phosphorous Count '</span>: <span style=\"color: #008080; text-decoration-color: #008080; font-weight: bold\">11</span>,\n",
       "    <span style=\"color: #008000; text-decoration-color: #008000\">' OEselma Part Flex Chain '</span>: <span style=\"color: #008080; text-decoration-color: #008080; font-weight: bold\">12</span>,\n",
       "    <span style=\"color: #008000; text-decoration-color: #008000\">' OEselma Psa '</span>: <span style=\"color: #008080; text-decoration-color: #008080; font-weight: bold\">13</span>,\n",
       "    <span style=\"color: #008000; text-decoration-color: #008000\">' OEselma Ertl Tpsa '</span>: <span style=\"color: #008080; text-decoration-color: #008080; font-weight: bold\">14</span>,\n",
       "    <span style=\"color: #008000; text-decoration-color: #008000\">' OEselma Polar Count '</span>: <span style=\"color: #008080; text-decoration-color: #008080; font-weight: bold\">15</span>,\n",
       "    <span style=\"color: #008000; text-decoration-color: #008000\">' OEselma Hba Lipinski '</span>: <span style=\"color: #008080; text-decoration-color: #008080; font-weight: bold\">16</span>,\n",
       "    <span style=\"color: #008000; text-decoration-color: #008000\">' OEselma Fluorine Count '</span>: <span style=\"color: #008080; text-decoration-color: #008080; font-weight: bold\">17</span>,\n",
       "    <span style=\"color: #008000; text-decoration-color: #008000\">' OEselma Rigid Frag Count '</span>: <span style=\"color: #008080; text-decoration-color: #008080; font-weight: bold\">18</span>,\n",
       "    <span style=\"color: #008000; text-decoration-color: #008000\">' OEselma Hbd '</span>: <span style=\"color: #008080; text-decoration-color: #008080; font-weight: bold\">19</span>,\n",
       "    <span style=\"color: #008000; text-decoration-color: #008000\">' OEselma Hbd Lipinski '</span>: <span style=\"color: #008080; text-decoration-color: #008080; font-weight: bold\">20</span>,\n",
       "    <span style=\"color: #008000; text-decoration-color: #008000\">' OEselma Oxygen Count '</span>: <span style=\"color: #008080; text-decoration-color: #008080; font-weight: bold\">21</span>,\n",
       "    <span style=\"color: #008000; text-decoration-color: #008000\">' OEselma Hba '</span>: <span style=\"color: #008080; text-decoration-color: #008080; font-weight: bold\">22</span>,\n",
       "    <span style=\"color: #008000; text-decoration-color: #008000\">' OEselma Max Flex Chain 1 '</span>: <span style=\"color: #008080; text-decoration-color: #008080; font-weight: bold\">23</span>,\n",
       "    <span style=\"color: #008000; text-decoration-color: #008000\">' OEselma Max Flex Chain 2 '</span>: <span style=\"color: #008080; text-decoration-color: #008080; font-weight: bold\">24</span>,\n",
       "    <span style=\"color: #008000; text-decoration-color: #008000\">' OEselma Max Flex Chain 3 '</span>: <span style=\"color: #008080; text-decoration-color: #008080; font-weight: bold\">25</span>,\n",
       "    <span style=\"color: #008000; text-decoration-color: #008000\">' OEselma Clorine Count '</span>: <span style=\"color: #008080; text-decoration-color: #008080; font-weight: bold\">26</span>,\n",
       "    <span style=\"color: #008000; text-decoration-color: #008000\">' OEselma Neg Ioniz '</span>: <span style=\"color: #008080; text-decoration-color: #008080; font-weight: bold\">27</span>,\n",
       "    <span style=\"color: #008000; text-decoration-color: #008000\">' OEselma Nitrogen Count '</span>: <span style=\"color: #008080; text-decoration-color: #008080; font-weight: bold\">28</span>,\n",
       "    <span style=\"color: #008000; text-decoration-color: #008000\">' OEselma Rigid Bond Count '</span>: <span style=\"color: #008080; text-decoration-color: #008080; font-weight: bold\">29</span>,\n",
       "    <span style=\"color: #008000; text-decoration-color: #008000\">' OEselma Nonpolar Count '</span>: <span style=\"color: #008080; text-decoration-color: #008080; font-weight: bold\">30</span>,\n",
       "    <span style=\"color: #008000; text-decoration-color: #008000\">' OEselma Pos Ioniz '</span>: <span style=\"color: #008080; text-decoration-color: #008080; font-weight: bold\">31</span>,\n",
       "    <span style=\"color: #008000; text-decoration-color: #008000\">' OEselma Ring Count '</span>: <span style=\"color: #008080; text-decoration-color: #008080; font-weight: bold\">32</span>,\n",
       "    <span style=\"color: #008000; text-decoration-color: #008000\">' OEselma Halogen Count '</span>: <span style=\"color: #008080; text-decoration-color: #008080; font-weight: bold\">33</span>,\n",
       "    <span style=\"color: #008000; text-decoration-color: #008000\">' OEselma Max Rigid Chain '</span>: <span style=\"color: #008080; text-decoration-color: #008080; font-weight: bold\">34</span>,\n",
       "    <span style=\"color: #008000; text-decoration-color: #008000\">' OEselma Sulphur Count '</span>: <span style=\"color: #008080; text-decoration-color: #008080; font-weight: bold\">35</span>,\n",
       "    <span style=\"color: #008000; text-decoration-color: #008000\">' OEselma Nonpolar Count Per Mw '</span>: <span style=\"color: #008080; text-decoration-color: #008080; font-weight: bold\">36</span>,\n",
       "    <span style=\"color: #008000; text-decoration-color: #008000\">' OEselma Aromatic Ring Count '</span>: <span style=\"color: #008080; text-decoration-color: #008080; font-weight: bold\">37</span>,\n",
       "    <span style=\"color: #008000; text-decoration-color: #008000\">' OEselma Polar Count Per Mw '</span>: <span style=\"color: #008080; text-decoration-color: #008080; font-weight: bold\">38</span>\n",
       "<span style=\"font-weight: bold\">}</span>\n",
       "</pre>\n"
      ],
      "text/plain": [
       "\u001b[1m{\u001b[0m\n",
       "    \u001b[32m' OEselma Silicon Count '\u001b[0m: \u001b[1;36m0\u001b[0m,\n",
       "    \u001b[32m' OEselma Bromine Count '\u001b[0m: \u001b[1;36m1\u001b[0m,\n",
       "    \u001b[32m' OEselma Iodine Count '\u001b[0m: \u001b[1;36m2\u001b[0m,\n",
       "    \u001b[32m' OEselma Tsa '\u001b[0m: \u001b[1;36m3\u001b[0m,\n",
       "    \u001b[32m' OEselma Rot Bond Count '\u001b[0m: \u001b[1;36m4\u001b[0m,\n",
       "    \u001b[32m' OEselma Mol Volume 2D '\u001b[0m: \u001b[1;36m5\u001b[0m,\n",
       "    \u001b[32m' OEselma Atom Count '\u001b[0m: \u001b[1;36m6\u001b[0m,\n",
       "    \u001b[32m' OEselma Mw '\u001b[0m: \u001b[1;36m7\u001b[0m,\n",
       "    \u001b[32m' OEselma Bond Count '\u001b[0m: \u001b[1;36m8\u001b[0m,\n",
       "    \u001b[32m' OEselma Npsa '\u001b[0m: \u001b[1;36m9\u001b[0m,\n",
       "    \u001b[32m' OEselma Carbon Count '\u001b[0m: \u001b[1;36m10\u001b[0m,\n",
       "    \u001b[32m' OEselma Phosphorous Count '\u001b[0m: \u001b[1;36m11\u001b[0m,\n",
       "    \u001b[32m' OEselma Part Flex Chain '\u001b[0m: \u001b[1;36m12\u001b[0m,\n",
       "    \u001b[32m' OEselma Psa '\u001b[0m: \u001b[1;36m13\u001b[0m,\n",
       "    \u001b[32m' OEselma Ertl Tpsa '\u001b[0m: \u001b[1;36m14\u001b[0m,\n",
       "    \u001b[32m' OEselma Polar Count '\u001b[0m: \u001b[1;36m15\u001b[0m,\n",
       "    \u001b[32m' OEselma Hba Lipinski '\u001b[0m: \u001b[1;36m16\u001b[0m,\n",
       "    \u001b[32m' OEselma Fluorine Count '\u001b[0m: \u001b[1;36m17\u001b[0m,\n",
       "    \u001b[32m' OEselma Rigid Frag Count '\u001b[0m: \u001b[1;36m18\u001b[0m,\n",
       "    \u001b[32m' OEselma Hbd '\u001b[0m: \u001b[1;36m19\u001b[0m,\n",
       "    \u001b[32m' OEselma Hbd Lipinski '\u001b[0m: \u001b[1;36m20\u001b[0m,\n",
       "    \u001b[32m' OEselma Oxygen Count '\u001b[0m: \u001b[1;36m21\u001b[0m,\n",
       "    \u001b[32m' OEselma Hba '\u001b[0m: \u001b[1;36m22\u001b[0m,\n",
       "    \u001b[32m' OEselma Max Flex Chain 1 '\u001b[0m: \u001b[1;36m23\u001b[0m,\n",
       "    \u001b[32m' OEselma Max Flex Chain 2 '\u001b[0m: \u001b[1;36m24\u001b[0m,\n",
       "    \u001b[32m' OEselma Max Flex Chain 3 '\u001b[0m: \u001b[1;36m25\u001b[0m,\n",
       "    \u001b[32m' OEselma Clorine Count '\u001b[0m: \u001b[1;36m26\u001b[0m,\n",
       "    \u001b[32m' OEselma Neg Ioniz '\u001b[0m: \u001b[1;36m27\u001b[0m,\n",
       "    \u001b[32m' OEselma Nitrogen Count '\u001b[0m: \u001b[1;36m28\u001b[0m,\n",
       "    \u001b[32m' OEselma Rigid Bond Count '\u001b[0m: \u001b[1;36m29\u001b[0m,\n",
       "    \u001b[32m' OEselma Nonpolar Count '\u001b[0m: \u001b[1;36m30\u001b[0m,\n",
       "    \u001b[32m' OEselma Pos Ioniz '\u001b[0m: \u001b[1;36m31\u001b[0m,\n",
       "    \u001b[32m' OEselma Ring Count '\u001b[0m: \u001b[1;36m32\u001b[0m,\n",
       "    \u001b[32m' OEselma Halogen Count '\u001b[0m: \u001b[1;36m33\u001b[0m,\n",
       "    \u001b[32m' OEselma Max Rigid Chain '\u001b[0m: \u001b[1;36m34\u001b[0m,\n",
       "    \u001b[32m' OEselma Sulphur Count '\u001b[0m: \u001b[1;36m35\u001b[0m,\n",
       "    \u001b[32m' OEselma Nonpolar Count Per Mw '\u001b[0m: \u001b[1;36m36\u001b[0m,\n",
       "    \u001b[32m' OEselma Aromatic Ring Count '\u001b[0m: \u001b[1;36m37\u001b[0m,\n",
       "    \u001b[32m' OEselma Polar Count Per Mw '\u001b[0m: \u001b[1;36m38\u001b[0m\n",
       "\u001b[1m}\u001b[0m\n"
      ]
     },
     "metadata": {},
     "output_type": "display_data"
    },
    {
     "data": {
      "text/html": [
       "<pre style=\"white-space:pre;overflow-x:auto;line-height:normal;font-family:Menlo,'DejaVu Sans Mono',consolas,'Courier New',monospace\"><span style=\"font-weight: bold\">{</span>\n",
       "    <span style=\"color: #008000; text-decoration-color: #008000\">' OEselma Silicon Count '</span>: <span style=\"color: #008080; text-decoration-color: #008080; font-weight: bold\">0</span>,\n",
       "    <span style=\"color: #008000; text-decoration-color: #008000\">' OEselma Iodine Count '</span>: <span style=\"color: #008080; text-decoration-color: #008080; font-weight: bold\">2</span>,\n",
       "    <span style=\"color: #008000; text-decoration-color: #008000\">' OEselma Bromine Count '</span>: <span style=\"color: #008080; text-decoration-color: #008080; font-weight: bold\">1</span>,\n",
       "    <span style=\"color: #008000; text-decoration-color: #008000\">' OEselma Phosphorous Count '</span>: <span style=\"color: #008080; text-decoration-color: #008080; font-weight: bold\">11</span>,\n",
       "    <span style=\"color: #008000; text-decoration-color: #008000\">' OEselma Fluorine Count '</span>: <span style=\"color: #008080; text-decoration-color: #008080; font-weight: bold\">17</span>,\n",
       "    <span style=\"color: #008000; text-decoration-color: #008000\">' OEselma Clorine Count '</span>: <span style=\"color: #008080; text-decoration-color: #008080; font-weight: bold\">26</span>,\n",
       "    <span style=\"color: #008000; text-decoration-color: #008000\">' OEselma Neg Ioniz '</span>: <span style=\"color: #008080; text-decoration-color: #008080; font-weight: bold\">27</span>,\n",
       "    <span style=\"color: #008000; text-decoration-color: #008000\">' OEselma Halogen Count '</span>: <span style=\"color: #008080; text-decoration-color: #008080; font-weight: bold\">33</span>,\n",
       "    <span style=\"color: #008000; text-decoration-color: #008000\">' OEselma Sulphur Count '</span>: <span style=\"color: #008080; text-decoration-color: #008080; font-weight: bold\">35</span>,\n",
       "    <span style=\"color: #008000; text-decoration-color: #008000\">' OEselma Part Flex Chain '</span>: <span style=\"color: #008080; text-decoration-color: #008080; font-weight: bold\">12</span>,\n",
       "    <span style=\"color: #008000; text-decoration-color: #008000\">' OEselma Rot Bond Count '</span>: <span style=\"color: #008080; text-decoration-color: #008080; font-weight: bold\">4</span>,\n",
       "    <span style=\"color: #008000; text-decoration-color: #008000\">' OEselma Npsa '</span>: <span style=\"color: #008080; text-decoration-color: #008080; font-weight: bold\">9</span>,\n",
       "    <span style=\"color: #008000; text-decoration-color: #008000\">' OEselma Tsa '</span>: <span style=\"color: #008080; text-decoration-color: #008080; font-weight: bold\">3</span>,\n",
       "    <span style=\"color: #008000; text-decoration-color: #008000\">' OEselma Oxygen Count '</span>: <span style=\"color: #008080; text-decoration-color: #008080; font-weight: bold\">21</span>,\n",
       "    <span style=\"color: #008000; text-decoration-color: #008000\">' OEselma Hba '</span>: <span style=\"color: #008080; text-decoration-color: #008080; font-weight: bold\">22</span>,\n",
       "    <span style=\"color: #008000; text-decoration-color: #008000\">' OEselma Mw '</span>: <span style=\"color: #008080; text-decoration-color: #008080; font-weight: bold\">7</span>,\n",
       "    <span style=\"color: #008000; text-decoration-color: #008000\">' OEselma Hbd '</span>: <span style=\"color: #008080; text-decoration-color: #008080; font-weight: bold\">19</span>,\n",
       "    <span style=\"color: #008000; text-decoration-color: #008000\">' OEselma Ertl Tpsa '</span>: <span style=\"color: #008080; text-decoration-color: #008080; font-weight: bold\">14</span>,\n",
       "    <span style=\"color: #008000; text-decoration-color: #008000\">' OEselma Polar Count '</span>: <span style=\"color: #008080; text-decoration-color: #008080; font-weight: bold\">15</span>,\n",
       "    <span style=\"color: #008000; text-decoration-color: #008000\">' OEselma Psa '</span>: <span style=\"color: #008080; text-decoration-color: #008080; font-weight: bold\">13</span>,\n",
       "    <span style=\"color: #008000; text-decoration-color: #008000\">' OEselma Hbd Lipinski '</span>: <span style=\"color: #008080; text-decoration-color: #008080; font-weight: bold\">20</span>,\n",
       "    <span style=\"color: #008000; text-decoration-color: #008000\">' OEselma Mol Volume 2D '</span>: <span style=\"color: #008080; text-decoration-color: #008080; font-weight: bold\">5</span>,\n",
       "    <span style=\"color: #008000; text-decoration-color: #008000\">' OEselma Rigid Bond Count '</span>: <span style=\"color: #008080; text-decoration-color: #008080; font-weight: bold\">29</span>,\n",
       "    <span style=\"color: #008000; text-decoration-color: #008000\">' OEselma Carbon Count '</span>: <span style=\"color: #008080; text-decoration-color: #008080; font-weight: bold\">10</span>,\n",
       "    <span style=\"color: #008000; text-decoration-color: #008000\">' OEselma Hba Lipinski '</span>: <span style=\"color: #008080; text-decoration-color: #008080; font-weight: bold\">16</span>,\n",
       "    <span style=\"color: #008000; text-decoration-color: #008000\">' OEselma Nonpolar Count '</span>: <span style=\"color: #008080; text-decoration-color: #008080; font-weight: bold\">30</span>,\n",
       "    <span style=\"color: #008000; text-decoration-color: #008000\">' OEselma Ring Count '</span>: <span style=\"color: #008080; text-decoration-color: #008080; font-weight: bold\">32</span>,\n",
       "    <span style=\"color: #008000; text-decoration-color: #008000\">' OEselma Atom Count '</span>: <span style=\"color: #008080; text-decoration-color: #008080; font-weight: bold\">6</span>,\n",
       "    <span style=\"color: #008000; text-decoration-color: #008000\">' OEselma Max Rigid Chain '</span>: <span style=\"color: #008080; text-decoration-color: #008080; font-weight: bold\">34</span>,\n",
       "    <span style=\"color: #008000; text-decoration-color: #008000\">' OEselma Bond Count '</span>: <span style=\"color: #008080; text-decoration-color: #008080; font-weight: bold\">8</span>,\n",
       "    <span style=\"color: #008000; text-decoration-color: #008000\">' OEselma Rigid Frag Count '</span>: <span style=\"color: #008080; text-decoration-color: #008080; font-weight: bold\">18</span>,\n",
       "    <span style=\"color: #008000; text-decoration-color: #008000\">' OEselma Max Flex Chain 1 '</span>: <span style=\"color: #008080; text-decoration-color: #008080; font-weight: bold\">23</span>,\n",
       "    <span style=\"color: #008000; text-decoration-color: #008000\">' OEselma Max Flex Chain 3 '</span>: <span style=\"color: #008080; text-decoration-color: #008080; font-weight: bold\">25</span>,\n",
       "    <span style=\"color: #008000; text-decoration-color: #008000\">' OEselma Max Flex Chain 2 '</span>: <span style=\"color: #008080; text-decoration-color: #008080; font-weight: bold\">24</span>,\n",
       "    <span style=\"color: #008000; text-decoration-color: #008000\">' OEselma Pos Ioniz '</span>: <span style=\"color: #008080; text-decoration-color: #008080; font-weight: bold\">31</span>,\n",
       "    <span style=\"color: #008000; text-decoration-color: #008000\">' OEselma Nitrogen Count '</span>: <span style=\"color: #008080; text-decoration-color: #008080; font-weight: bold\">28</span>,\n",
       "    <span style=\"color: #008000; text-decoration-color: #008000\">' OEselma Nonpolar Count Per Mw '</span>: <span style=\"color: #008080; text-decoration-color: #008080; font-weight: bold\">36</span>,\n",
       "    <span style=\"color: #008000; text-decoration-color: #008000\">' OEselma Aromatic Ring Count '</span>: <span style=\"color: #008080; text-decoration-color: #008080; font-weight: bold\">37</span>,\n",
       "    <span style=\"color: #008000; text-decoration-color: #008000\">' OEselma Polar Count Per Mw '</span>: <span style=\"color: #008080; text-decoration-color: #008080; font-weight: bold\">38</span>\n",
       "<span style=\"font-weight: bold\">}</span>\n",
       "</pre>\n"
      ],
      "text/plain": [
       "\u001b[1m{\u001b[0m\n",
       "    \u001b[32m' OEselma Silicon Count '\u001b[0m: \u001b[1;36m0\u001b[0m,\n",
       "    \u001b[32m' OEselma Iodine Count '\u001b[0m: \u001b[1;36m2\u001b[0m,\n",
       "    \u001b[32m' OEselma Bromine Count '\u001b[0m: \u001b[1;36m1\u001b[0m,\n",
       "    \u001b[32m' OEselma Phosphorous Count '\u001b[0m: \u001b[1;36m11\u001b[0m,\n",
       "    \u001b[32m' OEselma Fluorine Count '\u001b[0m: \u001b[1;36m17\u001b[0m,\n",
       "    \u001b[32m' OEselma Clorine Count '\u001b[0m: \u001b[1;36m26\u001b[0m,\n",
       "    \u001b[32m' OEselma Neg Ioniz '\u001b[0m: \u001b[1;36m27\u001b[0m,\n",
       "    \u001b[32m' OEselma Halogen Count '\u001b[0m: \u001b[1;36m33\u001b[0m,\n",
       "    \u001b[32m' OEselma Sulphur Count '\u001b[0m: \u001b[1;36m35\u001b[0m,\n",
       "    \u001b[32m' OEselma Part Flex Chain '\u001b[0m: \u001b[1;36m12\u001b[0m,\n",
       "    \u001b[32m' OEselma Rot Bond Count '\u001b[0m: \u001b[1;36m4\u001b[0m,\n",
       "    \u001b[32m' OEselma Npsa '\u001b[0m: \u001b[1;36m9\u001b[0m,\n",
       "    \u001b[32m' OEselma Tsa '\u001b[0m: \u001b[1;36m3\u001b[0m,\n",
       "    \u001b[32m' OEselma Oxygen Count '\u001b[0m: \u001b[1;36m21\u001b[0m,\n",
       "    \u001b[32m' OEselma Hba '\u001b[0m: \u001b[1;36m22\u001b[0m,\n",
       "    \u001b[32m' OEselma Mw '\u001b[0m: \u001b[1;36m7\u001b[0m,\n",
       "    \u001b[32m' OEselma Hbd '\u001b[0m: \u001b[1;36m19\u001b[0m,\n",
       "    \u001b[32m' OEselma Ertl Tpsa '\u001b[0m: \u001b[1;36m14\u001b[0m,\n",
       "    \u001b[32m' OEselma Polar Count '\u001b[0m: \u001b[1;36m15\u001b[0m,\n",
       "    \u001b[32m' OEselma Psa '\u001b[0m: \u001b[1;36m13\u001b[0m,\n",
       "    \u001b[32m' OEselma Hbd Lipinski '\u001b[0m: \u001b[1;36m20\u001b[0m,\n",
       "    \u001b[32m' OEselma Mol Volume 2D '\u001b[0m: \u001b[1;36m5\u001b[0m,\n",
       "    \u001b[32m' OEselma Rigid Bond Count '\u001b[0m: \u001b[1;36m29\u001b[0m,\n",
       "    \u001b[32m' OEselma Carbon Count '\u001b[0m: \u001b[1;36m10\u001b[0m,\n",
       "    \u001b[32m' OEselma Hba Lipinski '\u001b[0m: \u001b[1;36m16\u001b[0m,\n",
       "    \u001b[32m' OEselma Nonpolar Count '\u001b[0m: \u001b[1;36m30\u001b[0m,\n",
       "    \u001b[32m' OEselma Ring Count '\u001b[0m: \u001b[1;36m32\u001b[0m,\n",
       "    \u001b[32m' OEselma Atom Count '\u001b[0m: \u001b[1;36m6\u001b[0m,\n",
       "    \u001b[32m' OEselma Max Rigid Chain '\u001b[0m: \u001b[1;36m34\u001b[0m,\n",
       "    \u001b[32m' OEselma Bond Count '\u001b[0m: \u001b[1;36m8\u001b[0m,\n",
       "    \u001b[32m' OEselma Rigid Frag Count '\u001b[0m: \u001b[1;36m18\u001b[0m,\n",
       "    \u001b[32m' OEselma Max Flex Chain 1 '\u001b[0m: \u001b[1;36m23\u001b[0m,\n",
       "    \u001b[32m' OEselma Max Flex Chain 3 '\u001b[0m: \u001b[1;36m25\u001b[0m,\n",
       "    \u001b[32m' OEselma Max Flex Chain 2 '\u001b[0m: \u001b[1;36m24\u001b[0m,\n",
       "    \u001b[32m' OEselma Pos Ioniz '\u001b[0m: \u001b[1;36m31\u001b[0m,\n",
       "    \u001b[32m' OEselma Nitrogen Count '\u001b[0m: \u001b[1;36m28\u001b[0m,\n",
       "    \u001b[32m' OEselma Nonpolar Count Per Mw '\u001b[0m: \u001b[1;36m36\u001b[0m,\n",
       "    \u001b[32m' OEselma Aromatic Ring Count '\u001b[0m: \u001b[1;36m37\u001b[0m,\n",
       "    \u001b[32m' OEselma Polar Count Per Mw '\u001b[0m: \u001b[1;36m38\u001b[0m\n",
       "\u001b[1m}\u001b[0m\n"
      ]
     },
     "metadata": {},
     "output_type": "display_data"
    }
   ],
   "source": [
    "def process(ordering):\n",
    "    a = ordering.split(\"\\n\")\n",
    "    b = list()\n",
    "    for l in a:\n",
    "        b.append(l.split(\"&\")[0])\n",
    "        \n",
    "    return filter(lambda l : l != '', b)\n",
    "\n",
    "def parse(ordering):\n",
    "    b = process(ordering)\n",
    "    \n",
    "    return {v : k for k,v in enumerate(b)}\n",
    "\n",
    "match = parse(ols_oeselma)\n",
    "compare = { l : match[l] for l in process(cnn_oeselma) }\n",
    "\n",
    "print(match)\n",
    "print(compare)"
   ]
  },
  {
   "cell_type": "code",
   "execution_count": 19,
   "id": "031eec92",
   "metadata": {},
   "outputs": [
    {
     "data": {
      "text/html": [
       "<pre style=\"white-space:pre;overflow-x:auto;line-height:normal;font-family:Menlo,'DejaVu Sans Mono',consolas,'Courier New',monospace\">abcdefghijklmnopqrstuvwxyzABCDEFGHIJKLMNOPQRSTUVWXYZ\n",
       "</pre>\n"
      ],
      "text/plain": [
       "abcdefghijklmnopqrstuvwxyzABCDEFGHIJKLMNOPQRSTUVWXYZ\n"
      ]
     },
     "metadata": {},
     "output_type": "display_data"
    }
   ],
   "source": [
    "lalph = \"abcdefghijklmnopqrstuvwxyz\"\n",
    "ualph = str.upper(lalph)\n",
    "alph = lalph + ualph\n",
    "print(alph)"
   ]
  },
  {
   "cell_type": "code",
   "execution_count": 24,
   "id": "42742e5e",
   "metadata": {},
   "outputs": [
    {
     "data": {
      "text/html": [
       "<pre style=\"white-space:pre;overflow-x:auto;line-height:normal;font-family:Menlo,'DejaVu Sans Mono',consolas,'Courier New',monospace\">abcdefghijklmnopqrstuvwxyzABCDEFGHIJKLM\n",
       "</pre>\n"
      ],
      "text/plain": [
       "abcdefghijklmnopqrstuvwxyzABCDEFGHIJKLM\n"
      ]
     },
     "metadata": {},
     "output_type": "display_data"
    },
    {
     "data": {
      "text/html": [
       "<pre style=\"white-space:pre;overflow-x:auto;line-height:normal;font-family:Menlo,'DejaVu Sans Mono',consolas,'Courier New',monospace\">acblrABHJmejdvwhtopnufDkqEGgIisxzyFCKLM\n",
       "</pre>\n"
      ],
      "text/plain": [
       "acblrABHJmejdvwhtopnufDkqEGgIisxzyFCKLM\n"
      ]
     },
     "metadata": {},
     "output_type": "display_data"
    },
    {
     "data": {
      "text/plain": [
       "33"
      ]
     },
     "execution_count": 24,
     "metadata": {},
     "output_type": "execute_result"
    }
   ],
   "source": [
    "ascii_match = { k : alph[v] for k,v in match.items() }\n",
    "ascii_compare = { k : alph[v] for k,v in compare.items() }\n",
    "OLS = \"\".join(list(ascii_match.values()))\n",
    "CNN = \"\".join(list(ascii_compare.values()))\n",
    "print(OLS)\n",
    "print(CNN)\n",
    "levenshtein(OLS, CNN)"
   ]
  },
  {
   "cell_type": "code",
   "execution_count": 69,
   "id": "6c8d335d",
   "metadata": {},
   "outputs": [
    {
     "data": {
      "text/html": [
       "<pre style=\"white-space:pre;overflow-x:auto;line-height:normal;font-family:Menlo,'DejaVu Sans Mono',consolas,'Courier New',monospace\">nmEiyswIGvaqfrCogklFdpcMjJbuxHDLehzBKAt\n",
       "</pre>\n"
      ],
      "text/plain": [
       "nmEiyswIGvaqfrCogklFdpcMjJbuxHDLehzBKAt\n"
      ]
     },
     "metadata": {},
     "output_type": "display_data"
    },
    {
     "data": {
      "text/html": [
       "<pre style=\"white-space:pre;overflow-x:auto;line-height:normal;font-family:Menlo,'DejaVu Sans Mono',consolas,'Courier New',monospace\">ABCDEFGHIJKLMabcdefghijklmnopqrstuvwxyz\n",
       "</pre>\n"
      ],
      "text/plain": [
       "ABCDEFGHIJKLMabcdefghijklmnopqrstuvwxyz\n"
      ]
     },
     "metadata": {},
     "output_type": "display_data"
    }
   ],
   "source": [
    "print(''.join(random.sample(OLS,len(OLS))))\n",
    "print(''.join(sorted(''.join(random.sample(OLS,len(OLS))))))"
   ]
  },
  {
   "cell_type": "code",
   "execution_count": 60,
   "id": "d586dbec",
   "metadata": {},
   "outputs": [
    {
     "data": {
      "text/html": [
       "<pre style=\"white-space:pre;overflow-x:auto;line-height:normal;font-family:Menlo,'DejaVu Sans Mono',consolas,'Courier New',monospace\"><span style=\"color: #008080; text-decoration-color: #008080; font-weight: bold\">37.114</span>\n",
       "</pre>\n"
      ],
      "text/plain": [
       "\u001b[1;36m37.114\u001b[0m\n"
      ]
     },
     "metadata": {},
     "output_type": "display_data"
    }
   ],
   "source": [
    "avg_ldist = list()\n",
    "for i in range(1000):\n",
    "    ldist = levenshtein(OLS, ''.join(random.sample(OLS,len(OLS))))\n",
    "    avg_ldist.append(ldist)\n",
    "print(sum(avg_ldist)/len(avg_ldist))"
   ]
  }
 ],
 "metadata": {
  "kernelspec": {
   "display_name": "Python 3",
   "language": "python",
   "name": "python3"
  },
  "language_info": {
   "codemirror_mode": {
    "name": "ipython",
    "version": 3
   },
   "file_extension": ".py",
   "mimetype": "text/x-python",
   "name": "python",
   "nbconvert_exporter": "python",
   "pygments_lexer": "ipython3",
   "version": "3.8.8"
  }
 },
 "nbformat": 4,
 "nbformat_minor": 5
}
