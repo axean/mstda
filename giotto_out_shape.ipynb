{
 "cells": [
  {
   "cell_type": "code",
   "execution_count": 1,
   "id": "e807f39c",
   "metadata": {},
   "outputs": [],
   "source": [
    "import numpy as np\n",
    "from gtda.homology import VietorisRipsPersistence\n",
    "from gtda.homology import EuclideanCechPersistence\n",
    "import itertools\n",
    "\n",
    "import matplotlib.pyplot as plt  # Not a requirement of giotto-tda, but is needed here\n",
    "from rich import print"
   ]
  },
  {
   "cell_type": "code",
   "execution_count": 2,
   "id": "57907d49",
   "metadata": {},
   "outputs": [],
   "source": [
    "# Initialize the Vietoris–Rips transformer\n",
    "VR = VietorisRipsPersistence(homology_dimensions=(0,1,2,))#, max_edge_length=np.inf)"
   ]
  },
  {
   "cell_type": "code",
   "execution_count": 3,
   "id": "4e94f881",
   "metadata": {},
   "outputs": [],
   "source": [
    "# Create n_samples point clouds of n_points points\n",
    "\n",
    "A = np.random.rand(70, 2)\n",
    "B = np.random.rand(70, 2)\n",
    "\n",
    "# Compute persistence diagrams of all point clouds\n",
    "diag_A = VR.fit_transform([A])\n",
    "diag_B = VR.fit_transform([B])\n",
    "diag_AB = VR.fit_transform([A,B])"
   ]
  },
  {
   "cell_type": "code",
   "execution_count": 4,
   "id": "9f7ee70f",
   "metadata": {},
   "outputs": [
    {
     "data": {
      "text/plain": [
       "<matplotlib.image.AxesImage at 0x7fe62c8a9340>"
      ]
     },
     "execution_count": 4,
     "metadata": {},
     "output_type": "execute_result"
    },
    {
     "data": {
      "image/png": "[encoded data removed]",
      "text/plain": [
       "<Figure size 432x288 with 1 Axes>"
      ]
     },
     "metadata": {
      "needs_background": "light"
     },
     "output_type": "display_data"
    }
   ],
   "source": [
    "from gtda.diagrams import PersistenceImage\n",
    "\n",
    "F = PersistenceImage()\n",
    "plt.imshow(F.fit_transform(EuclideanCechPersistence(max_edge_length = np.sqrt(2)).fit_transform([A,B]))[0][0])"
   ]
  },
  {
   "cell_type": "code",
   "execution_count": 5,
   "id": "39b761d1",
   "metadata": {},
   "outputs": [
    {
     "data": {
      "text/html": [
       "<pre style=\"white-space:pre;overflow-x:auto;line-height:normal;font-family:Menlo,'DejaVu Sans Mono',consolas,'Courier New',monospace\"><span style=\"font-weight: bold\">(</span><span style=\"color: #008080; text-decoration-color: #008080; font-weight: bold\">1</span>, <span style=\"color: #008080; text-decoration-color: #008080; font-weight: bold\">87</span>, <span style=\"color: #008080; text-decoration-color: #008080; font-weight: bold\">3</span><span style=\"font-weight: bold\">)</span>\n",
       "</pre>\n"
      ],
      "text/plain": [
       "\u001b[1m(\u001b[0m\u001b[1;36m1\u001b[0m, \u001b[1;36m87\u001b[0m, \u001b[1;36m3\u001b[0m\u001b[1m)\u001b[0m\n"
      ]
     },
     "metadata": {},
     "output_type": "display_data"
    },
    {
     "data": {
      "text/html": [
       "<pre style=\"white-space:pre;overflow-x:auto;line-height:normal;font-family:Menlo,'DejaVu Sans Mono',consolas,'Courier New',monospace\"><span style=\"font-weight: bold\">(</span><span style=\"color: #008080; text-decoration-color: #008080; font-weight: bold\">1</span>, <span style=\"color: #008080; text-decoration-color: #008080; font-weight: bold\">84</span>, <span style=\"color: #008080; text-decoration-color: #008080; font-weight: bold\">3</span><span style=\"font-weight: bold\">)</span>\n",
       "</pre>\n"
      ],
      "text/plain": [
       "\u001b[1m(\u001b[0m\u001b[1;36m1\u001b[0m, \u001b[1;36m84\u001b[0m, \u001b[1;36m3\u001b[0m\u001b[1m)\u001b[0m\n"
      ]
     },
     "metadata": {},
     "output_type": "display_data"
    },
    {
     "data": {
      "text/html": [
       "<pre style=\"white-space:pre;overflow-x:auto;line-height:normal;font-family:Menlo,'DejaVu Sans Mono',consolas,'Courier New',monospace\"><span style=\"font-weight: bold\">(</span><span style=\"color: #008080; text-decoration-color: #008080; font-weight: bold\">2</span>, <span style=\"color: #008080; text-decoration-color: #008080; font-weight: bold\">87</span>, <span style=\"color: #008080; text-decoration-color: #008080; font-weight: bold\">3</span><span style=\"font-weight: bold\">)</span>\n",
       "</pre>\n"
      ],
      "text/plain": [
       "\u001b[1m(\u001b[0m\u001b[1;36m2\u001b[0m, \u001b[1;36m87\u001b[0m, \u001b[1;36m3\u001b[0m\u001b[1m)\u001b[0m\n"
      ]
     },
     "metadata": {},
     "output_type": "display_data"
    }
   ],
   "source": [
    "print(diag_A.shape)\n",
    "print(diag_B.shape)\n",
    "print(diag_AB.shape)"
   ]
  },
  {
   "cell_type": "code",
   "execution_count": 6,
   "id": "79ac46ac",
   "metadata": {},
   "outputs": [
    {
     "data": {
      "text/plain": [
       "<matplotlib.image.AxesImage at 0x7fe62c599af0>"
      ]
     },
     "execution_count": 6,
     "metadata": {},
     "output_type": "execute_result"
    },
    {
     "data": {
      "image/png": "[encoded data removed]",
      "text/plain": [
       "<Figure size 1440x1440 with 4 Axes>"
      ]
     },
     "metadata": {
      "needs_background": "light"
     },
     "output_type": "display_data"
    }
   ],
   "source": [
    "fig = plt.figure(figsize=(20,20))\n",
    "ax = fig.add_subplot(221)\n",
    "ax.imshow(diag_A[0])\n",
    "\n",
    "ax = fig.add_subplot(222)\n",
    "ax.imshow(diag_B[0])\n",
    "\n",
    "ax = fig.add_subplot(223)\n",
    "ax.imshow(diag_AB[0])\n",
    "\n",
    "ax = fig.add_subplot(224)\n",
    "ax.imshow(diag_AB[1])"
   ]
  },
  {
   "cell_type": "code",
   "execution_count": 7,
   "id": "7ff8346e",
   "metadata": {},
   "outputs": [
    {
     "data": {
      "text/html": [
       "<pre style=\"white-space:pre;overflow-x:auto;line-height:normal;font-family:Menlo,'DejaVu Sans Mono',consolas,'Courier New',monospace\"><span style=\"font-weight: bold\">[</span><span style=\"color: #008080; text-decoration-color: #008080; font-weight: bold\">0</span>.         <span style=\"color: #008080; text-decoration-color: #008080; font-weight: bold\">0.01531273</span> <span style=\"color: #008080; text-decoration-color: #008080; font-weight: bold\">0</span>.        <span style=\"font-weight: bold\">]</span> <span style=\"color: #008080; text-decoration-color: #008080; font-weight: bold\">1</span>\n",
       "</pre>\n"
      ],
      "text/plain": [
       "\u001b[1m[\u001b[0m\u001b[1;36m0\u001b[0m.         \u001b[1;36m0.01531273\u001b[0m \u001b[1;36m0\u001b[0m.        \u001b[1m]\u001b[0m \u001b[1;36m1\u001b[0m\n"
      ]
     },
     "metadata": {},
     "output_type": "display_data"
    },
    {
     "data": {
      "text/html": [
       "<pre style=\"white-space:pre;overflow-x:auto;line-height:normal;font-family:Menlo,'DejaVu Sans Mono',consolas,'Courier New',monospace\"><span style=\"font-weight: bold\">[</span><span style=\"color: #008080; text-decoration-color: #008080; font-weight: bold\">0</span>.         <span style=\"color: #008080; text-decoration-color: #008080; font-weight: bold\">0.01749325</span> <span style=\"color: #008080; text-decoration-color: #008080; font-weight: bold\">0</span>.        <span style=\"font-weight: bold\">]</span> <span style=\"color: #008080; text-decoration-color: #008080; font-weight: bold\">1</span>\n",
       "</pre>\n"
      ],
      "text/plain": [
       "\u001b[1m[\u001b[0m\u001b[1;36m0\u001b[0m.         \u001b[1;36m0.01749325\u001b[0m \u001b[1;36m0\u001b[0m.        \u001b[1m]\u001b[0m \u001b[1;36m1\u001b[0m\n"
      ]
     },
     "metadata": {},
     "output_type": "display_data"
    },
    {
     "data": {
      "text/html": [
       "<pre style=\"white-space:pre;overflow-x:auto;line-height:normal;font-family:Menlo,'DejaVu Sans Mono',consolas,'Courier New',monospace\"><span style=\"font-weight: bold\">[</span><span style=\"color: #008080; text-decoration-color: #008080; font-weight: bold\">0</span>.         <span style=\"color: #008080; text-decoration-color: #008080; font-weight: bold\">0.02479015</span> <span style=\"color: #008080; text-decoration-color: #008080; font-weight: bold\">0</span>.        <span style=\"font-weight: bold\">]</span> <span style=\"color: #008080; text-decoration-color: #008080; font-weight: bold\">1</span>\n",
       "</pre>\n"
      ],
      "text/plain": [
       "\u001b[1m[\u001b[0m\u001b[1;36m0\u001b[0m.         \u001b[1;36m0.02479015\u001b[0m \u001b[1;36m0\u001b[0m.        \u001b[1m]\u001b[0m \u001b[1;36m1\u001b[0m\n"
      ]
     },
     "metadata": {},
     "output_type": "display_data"
    },
    {
     "data": {
      "text/html": [
       "<pre style=\"white-space:pre;overflow-x:auto;line-height:normal;font-family:Menlo,'DejaVu Sans Mono',consolas,'Courier New',monospace\"><span style=\"font-weight: bold\">[</span><span style=\"color: #008080; text-decoration-color: #008080; font-weight: bold\">0</span>.        <span style=\"color: #008080; text-decoration-color: #008080; font-weight: bold\">0.0272955</span> <span style=\"color: #008080; text-decoration-color: #008080; font-weight: bold\">0</span>.       <span style=\"font-weight: bold\">]</span> <span style=\"color: #008080; text-decoration-color: #008080; font-weight: bold\">1</span>\n",
       "</pre>\n"
      ],
      "text/plain": [
       "\u001b[1m[\u001b[0m\u001b[1;36m0\u001b[0m.        \u001b[1;36m0.0272955\u001b[0m \u001b[1;36m0\u001b[0m.       \u001b[1m]\u001b[0m \u001b[1;36m1\u001b[0m\n"
      ]
     },
     "metadata": {},
     "output_type": "display_data"
    },
    {
     "data": {
      "text/html": [
       "<pre style=\"white-space:pre;overflow-x:auto;line-height:normal;font-family:Menlo,'DejaVu Sans Mono',consolas,'Courier New',monospace\"><span style=\"font-weight: bold\">[</span><span style=\"color: #008080; text-decoration-color: #008080; font-weight: bold\">0</span>.         <span style=\"color: #008080; text-decoration-color: #008080; font-weight: bold\">0.03388522</span> <span style=\"color: #008080; text-decoration-color: #008080; font-weight: bold\">0</span>.        <span style=\"font-weight: bold\">]</span> <span style=\"color: #008080; text-decoration-color: #008080; font-weight: bold\">1</span>\n",
       "</pre>\n"
      ],
      "text/plain": [
       "\u001b[1m[\u001b[0m\u001b[1;36m0\u001b[0m.         \u001b[1;36m0.03388522\u001b[0m \u001b[1;36m0\u001b[0m.        \u001b[1m]\u001b[0m \u001b[1;36m1\u001b[0m\n"
      ]
     },
     "metadata": {},
     "output_type": "display_data"
    },
    {
     "data": {
      "text/html": [
       "<pre style=\"white-space:pre;overflow-x:auto;line-height:normal;font-family:Menlo,'DejaVu Sans Mono',consolas,'Courier New',monospace\"><span style=\"font-weight: bold\">[</span><span style=\"color: #008080; text-decoration-color: #008080; font-weight: bold\">0</span>.         <span style=\"color: #008080; text-decoration-color: #008080; font-weight: bold\">0.03462047</span> <span style=\"color: #008080; text-decoration-color: #008080; font-weight: bold\">0</span>.        <span style=\"font-weight: bold\">]</span> <span style=\"color: #008080; text-decoration-color: #008080; font-weight: bold\">1</span>\n",
       "</pre>\n"
      ],
      "text/plain": [
       "\u001b[1m[\u001b[0m\u001b[1;36m0\u001b[0m.         \u001b[1;36m0.03462047\u001b[0m \u001b[1;36m0\u001b[0m.        \u001b[1m]\u001b[0m \u001b[1;36m1\u001b[0m\n"
      ]
     },
     "metadata": {},
     "output_type": "display_data"
    },
    {
     "data": {
      "text/html": [
       "<pre style=\"white-space:pre;overflow-x:auto;line-height:normal;font-family:Menlo,'DejaVu Sans Mono',consolas,'Courier New',monospace\"><span style=\"font-weight: bold\">[</span><span style=\"color: #008080; text-decoration-color: #008080; font-weight: bold\">0</span>.         <span style=\"color: #008080; text-decoration-color: #008080; font-weight: bold\">0.03466671</span> <span style=\"color: #008080; text-decoration-color: #008080; font-weight: bold\">0</span>.        <span style=\"font-weight: bold\">]</span> <span style=\"color: #008080; text-decoration-color: #008080; font-weight: bold\">1</span>\n",
       "</pre>\n"
      ],
      "text/plain": [
       "\u001b[1m[\u001b[0m\u001b[1;36m0\u001b[0m.         \u001b[1;36m0.03466671\u001b[0m \u001b[1;36m0\u001b[0m.        \u001b[1m]\u001b[0m \u001b[1;36m1\u001b[0m\n"
      ]
     },
     "metadata": {},
     "output_type": "display_data"
    },
    {
     "data": {
      "text/html": [
       "<pre style=\"white-space:pre;overflow-x:auto;line-height:normal;font-family:Menlo,'DejaVu Sans Mono',consolas,'Courier New',monospace\"><span style=\"font-weight: bold\">[</span><span style=\"color: #008080; text-decoration-color: #008080; font-weight: bold\">0</span>.         <span style=\"color: #008080; text-decoration-color: #008080; font-weight: bold\">0.03886526</span> <span style=\"color: #008080; text-decoration-color: #008080; font-weight: bold\">0</span>.        <span style=\"font-weight: bold\">]</span> <span style=\"color: #008080; text-decoration-color: #008080; font-weight: bold\">1</span>\n",
       "</pre>\n"
      ],
      "text/plain": [
       "\u001b[1m[\u001b[0m\u001b[1;36m0\u001b[0m.         \u001b[1;36m0.03886526\u001b[0m \u001b[1;36m0\u001b[0m.        \u001b[1m]\u001b[0m \u001b[1;36m1\u001b[0m\n"
      ]
     },
     "metadata": {},
     "output_type": "display_data"
    },
    {
     "data": {
      "text/html": [
       "<pre style=\"white-space:pre;overflow-x:auto;line-height:normal;font-family:Menlo,'DejaVu Sans Mono',consolas,'Courier New',monospace\"><span style=\"font-weight: bold\">[</span><span style=\"color: #008080; text-decoration-color: #008080; font-weight: bold\">0</span>.         <span style=\"color: #008080; text-decoration-color: #008080; font-weight: bold\">0.04095924</span> <span style=\"color: #008080; text-decoration-color: #008080; font-weight: bold\">0</span>.        <span style=\"font-weight: bold\">]</span> <span style=\"color: #008080; text-decoration-color: #008080; font-weight: bold\">1</span>\n",
       "</pre>\n"
      ],
      "text/plain": [
       "\u001b[1m[\u001b[0m\u001b[1;36m0\u001b[0m.         \u001b[1;36m0.04095924\u001b[0m \u001b[1;36m0\u001b[0m.        \u001b[1m]\u001b[0m \u001b[1;36m1\u001b[0m\n"
      ]
     },
     "metadata": {},
     "output_type": "display_data"
    },
    {
     "data": {
      "text/html": [
       "<pre style=\"white-space:pre;overflow-x:auto;line-height:normal;font-family:Menlo,'DejaVu Sans Mono',consolas,'Courier New',monospace\"><span style=\"font-weight: bold\">[</span><span style=\"color: #008080; text-decoration-color: #008080; font-weight: bold\">0</span>.         <span style=\"color: #008080; text-decoration-color: #008080; font-weight: bold\">0.04124245</span> <span style=\"color: #008080; text-decoration-color: #008080; font-weight: bold\">0</span>.        <span style=\"font-weight: bold\">]</span> <span style=\"color: #008080; text-decoration-color: #008080; font-weight: bold\">1</span>\n",
       "</pre>\n"
      ],
      "text/plain": [
       "\u001b[1m[\u001b[0m\u001b[1;36m0\u001b[0m.         \u001b[1;36m0.04124245\u001b[0m \u001b[1;36m0\u001b[0m.        \u001b[1m]\u001b[0m \u001b[1;36m1\u001b[0m\n"
      ]
     },
     "metadata": {},
     "output_type": "display_data"
    },
    {
     "data": {
      "text/html": [
       "<pre style=\"white-space:pre;overflow-x:auto;line-height:normal;font-family:Menlo,'DejaVu Sans Mono',consolas,'Courier New',monospace\"><span style=\"font-weight: bold\">[</span><span style=\"color: #008080; text-decoration-color: #008080; font-weight: bold\">0</span>.         <span style=\"color: #008080; text-decoration-color: #008080; font-weight: bold\">0.04182527</span> <span style=\"color: #008080; text-decoration-color: #008080; font-weight: bold\">0</span>.        <span style=\"font-weight: bold\">]</span> <span style=\"color: #008080; text-decoration-color: #008080; font-weight: bold\">1</span>\n",
       "</pre>\n"
      ],
      "text/plain": [
       "\u001b[1m[\u001b[0m\u001b[1;36m0\u001b[0m.         \u001b[1;36m0.04182527\u001b[0m \u001b[1;36m0\u001b[0m.        \u001b[1m]\u001b[0m \u001b[1;36m1\u001b[0m\n"
      ]
     },
     "metadata": {},
     "output_type": "display_data"
    },
    {
     "data": {
      "text/html": [
       "<pre style=\"white-space:pre;overflow-x:auto;line-height:normal;font-family:Menlo,'DejaVu Sans Mono',consolas,'Courier New',monospace\"><span style=\"font-weight: bold\">[</span><span style=\"color: #008080; text-decoration-color: #008080; font-weight: bold\">0</span>.         <span style=\"color: #008080; text-decoration-color: #008080; font-weight: bold\">0.04311409</span> <span style=\"color: #008080; text-decoration-color: #008080; font-weight: bold\">0</span>.        <span style=\"font-weight: bold\">]</span> <span style=\"color: #008080; text-decoration-color: #008080; font-weight: bold\">1</span>\n",
       "</pre>\n"
      ],
      "text/plain": [
       "\u001b[1m[\u001b[0m\u001b[1;36m0\u001b[0m.         \u001b[1;36m0.04311409\u001b[0m \u001b[1;36m0\u001b[0m.        \u001b[1m]\u001b[0m \u001b[1;36m1\u001b[0m\n"
      ]
     },
     "metadata": {},
     "output_type": "display_data"
    },
    {
     "data": {
      "text/html": [
       "<pre style=\"white-space:pre;overflow-x:auto;line-height:normal;font-family:Menlo,'DejaVu Sans Mono',consolas,'Courier New',monospace\"><span style=\"font-weight: bold\">[</span><span style=\"color: #008080; text-decoration-color: #008080; font-weight: bold\">0</span>.         <span style=\"color: #008080; text-decoration-color: #008080; font-weight: bold\">0.04361195</span> <span style=\"color: #008080; text-decoration-color: #008080; font-weight: bold\">0</span>.        <span style=\"font-weight: bold\">]</span> <span style=\"color: #008080; text-decoration-color: #008080; font-weight: bold\">1</span>\n",
       "</pre>\n"
      ],
      "text/plain": [
       "\u001b[1m[\u001b[0m\u001b[1;36m0\u001b[0m.         \u001b[1;36m0.04361195\u001b[0m \u001b[1;36m0\u001b[0m.        \u001b[1m]\u001b[0m \u001b[1;36m1\u001b[0m\n"
      ]
     },
     "metadata": {},
     "output_type": "display_data"
    },
    {
     "data": {
      "text/html": [
       "<pre style=\"white-space:pre;overflow-x:auto;line-height:normal;font-family:Menlo,'DejaVu Sans Mono',consolas,'Courier New',monospace\"><span style=\"font-weight: bold\">[</span><span style=\"color: #008080; text-decoration-color: #008080; font-weight: bold\">0</span>.         <span style=\"color: #008080; text-decoration-color: #008080; font-weight: bold\">0.04401448</span> <span style=\"color: #008080; text-decoration-color: #008080; font-weight: bold\">0</span>.        <span style=\"font-weight: bold\">]</span> <span style=\"color: #008080; text-decoration-color: #008080; font-weight: bold\">1</span>\n",
       "</pre>\n"
      ],
      "text/plain": [
       "\u001b[1m[\u001b[0m\u001b[1;36m0\u001b[0m.         \u001b[1;36m0.04401448\u001b[0m \u001b[1;36m0\u001b[0m.        \u001b[1m]\u001b[0m \u001b[1;36m1\u001b[0m\n"
      ]
     },
     "metadata": {},
     "output_type": "display_data"
    },
    {
     "data": {
      "text/html": [
       "<pre style=\"white-space:pre;overflow-x:auto;line-height:normal;font-family:Menlo,'DejaVu Sans Mono',consolas,'Courier New',monospace\"><span style=\"font-weight: bold\">[</span><span style=\"color: #008080; text-decoration-color: #008080; font-weight: bold\">0</span>.         <span style=\"color: #008080; text-decoration-color: #008080; font-weight: bold\">0.04428072</span> <span style=\"color: #008080; text-decoration-color: #008080; font-weight: bold\">0</span>.        <span style=\"font-weight: bold\">]</span> <span style=\"color: #008080; text-decoration-color: #008080; font-weight: bold\">1</span>\n",
       "</pre>\n"
      ],
      "text/plain": [
       "\u001b[1m[\u001b[0m\u001b[1;36m0\u001b[0m.         \u001b[1;36m0.04428072\u001b[0m \u001b[1;36m0\u001b[0m.        \u001b[1m]\u001b[0m \u001b[1;36m1\u001b[0m\n"
      ]
     },
     "metadata": {},
     "output_type": "display_data"
    },
    {
     "data": {
      "text/html": [
       "<pre style=\"white-space:pre;overflow-x:auto;line-height:normal;font-family:Menlo,'DejaVu Sans Mono',consolas,'Courier New',monospace\"><span style=\"font-weight: bold\">[</span><span style=\"color: #008080; text-decoration-color: #008080; font-weight: bold\">0</span>.         <span style=\"color: #008080; text-decoration-color: #008080; font-weight: bold\">0.04486542</span> <span style=\"color: #008080; text-decoration-color: #008080; font-weight: bold\">0</span>.        <span style=\"font-weight: bold\">]</span> <span style=\"color: #008080; text-decoration-color: #008080; font-weight: bold\">1</span>\n",
       "</pre>\n"
      ],
      "text/plain": [
       "\u001b[1m[\u001b[0m\u001b[1;36m0\u001b[0m.         \u001b[1;36m0.04486542\u001b[0m \u001b[1;36m0\u001b[0m.        \u001b[1m]\u001b[0m \u001b[1;36m1\u001b[0m\n"
      ]
     },
     "metadata": {},
     "output_type": "display_data"
    },
    {
     "data": {
      "text/html": [
       "<pre style=\"white-space:pre;overflow-x:auto;line-height:normal;font-family:Menlo,'DejaVu Sans Mono',consolas,'Courier New',monospace\"><span style=\"font-weight: bold\">[</span><span style=\"color: #008080; text-decoration-color: #008080; font-weight: bold\">0</span>.         <span style=\"color: #008080; text-decoration-color: #008080; font-weight: bold\">0.04518325</span> <span style=\"color: #008080; text-decoration-color: #008080; font-weight: bold\">0</span>.        <span style=\"font-weight: bold\">]</span> <span style=\"color: #008080; text-decoration-color: #008080; font-weight: bold\">1</span>\n",
       "</pre>\n"
      ],
      "text/plain": [
       "\u001b[1m[\u001b[0m\u001b[1;36m0\u001b[0m.         \u001b[1;36m0.04518325\u001b[0m \u001b[1;36m0\u001b[0m.        \u001b[1m]\u001b[0m \u001b[1;36m1\u001b[0m\n"
      ]
     },
     "metadata": {},
     "output_type": "display_data"
    },
    {
     "data": {
      "text/html": [
       "<pre style=\"white-space:pre;overflow-x:auto;line-height:normal;font-family:Menlo,'DejaVu Sans Mono',consolas,'Courier New',monospace\"><span style=\"font-weight: bold\">[</span><span style=\"color: #008080; text-decoration-color: #008080; font-weight: bold\">0</span>.        <span style=\"color: #008080; text-decoration-color: #008080; font-weight: bold\">0.0457722</span> <span style=\"color: #008080; text-decoration-color: #008080; font-weight: bold\">0</span>.       <span style=\"font-weight: bold\">]</span> <span style=\"color: #008080; text-decoration-color: #008080; font-weight: bold\">1</span>\n",
       "</pre>\n"
      ],
      "text/plain": [
       "\u001b[1m[\u001b[0m\u001b[1;36m0\u001b[0m.        \u001b[1;36m0.0457722\u001b[0m \u001b[1;36m0\u001b[0m.       \u001b[1m]\u001b[0m \u001b[1;36m1\u001b[0m\n"
      ]
     },
     "metadata": {},
     "output_type": "display_data"
    },
    {
     "data": {
      "text/html": [
       "<pre style=\"white-space:pre;overflow-x:auto;line-height:normal;font-family:Menlo,'DejaVu Sans Mono',consolas,'Courier New',monospace\"><span style=\"font-weight: bold\">[</span><span style=\"color: #008080; text-decoration-color: #008080; font-weight: bold\">0</span>.        <span style=\"color: #008080; text-decoration-color: #008080; font-weight: bold\">0.0464186</span> <span style=\"color: #008080; text-decoration-color: #008080; font-weight: bold\">0</span>.       <span style=\"font-weight: bold\">]</span> <span style=\"color: #008080; text-decoration-color: #008080; font-weight: bold\">1</span>\n",
       "</pre>\n"
      ],
      "text/plain": [
       "\u001b[1m[\u001b[0m\u001b[1;36m0\u001b[0m.        \u001b[1;36m0.0464186\u001b[0m \u001b[1;36m0\u001b[0m.       \u001b[1m]\u001b[0m \u001b[1;36m1\u001b[0m\n"
      ]
     },
     "metadata": {},
     "output_type": "display_data"
    },
    {
     "data": {
      "text/html": [
       "<pre style=\"white-space:pre;overflow-x:auto;line-height:normal;font-family:Menlo,'DejaVu Sans Mono',consolas,'Courier New',monospace\"><span style=\"font-weight: bold\">[</span><span style=\"color: #008080; text-decoration-color: #008080; font-weight: bold\">0</span>.         <span style=\"color: #008080; text-decoration-color: #008080; font-weight: bold\">0.04708745</span> <span style=\"color: #008080; text-decoration-color: #008080; font-weight: bold\">0</span>.        <span style=\"font-weight: bold\">]</span> <span style=\"color: #008080; text-decoration-color: #008080; font-weight: bold\">1</span>\n",
       "</pre>\n"
      ],
      "text/plain": [
       "\u001b[1m[\u001b[0m\u001b[1;36m0\u001b[0m.         \u001b[1;36m0.04708745\u001b[0m \u001b[1;36m0\u001b[0m.        \u001b[1m]\u001b[0m \u001b[1;36m1\u001b[0m\n"
      ]
     },
     "metadata": {},
     "output_type": "display_data"
    },
    {
     "data": {
      "text/html": [
       "<pre style=\"white-space:pre;overflow-x:auto;line-height:normal;font-family:Menlo,'DejaVu Sans Mono',consolas,'Courier New',monospace\"><span style=\"font-weight: bold\">[</span><span style=\"color: #008080; text-decoration-color: #008080; font-weight: bold\">0</span>.         <span style=\"color: #008080; text-decoration-color: #008080; font-weight: bold\">0.05274653</span> <span style=\"color: #008080; text-decoration-color: #008080; font-weight: bold\">0</span>.        <span style=\"font-weight: bold\">]</span> <span style=\"color: #008080; text-decoration-color: #008080; font-weight: bold\">1</span>\n",
       "</pre>\n"
      ],
      "text/plain": [
       "\u001b[1m[\u001b[0m\u001b[1;36m0\u001b[0m.         \u001b[1;36m0.05274653\u001b[0m \u001b[1;36m0\u001b[0m.        \u001b[1m]\u001b[0m \u001b[1;36m1\u001b[0m\n"
      ]
     },
     "metadata": {},
     "output_type": "display_data"
    },
    {
     "data": {
      "text/html": [
       "<pre style=\"white-space:pre;overflow-x:auto;line-height:normal;font-family:Menlo,'DejaVu Sans Mono',consolas,'Courier New',monospace\"><span style=\"font-weight: bold\">[</span><span style=\"color: #008080; text-decoration-color: #008080; font-weight: bold\">0</span>.         <span style=\"color: #008080; text-decoration-color: #008080; font-weight: bold\">0.05295927</span> <span style=\"color: #008080; text-decoration-color: #008080; font-weight: bold\">0</span>.        <span style=\"font-weight: bold\">]</span> <span style=\"color: #008080; text-decoration-color: #008080; font-weight: bold\">1</span>\n",
       "</pre>\n"
      ],
      "text/plain": [
       "\u001b[1m[\u001b[0m\u001b[1;36m0\u001b[0m.         \u001b[1;36m0.05295927\u001b[0m \u001b[1;36m0\u001b[0m.        \u001b[1m]\u001b[0m \u001b[1;36m1\u001b[0m\n"
      ]
     },
     "metadata": {},
     "output_type": "display_data"
    },
    {
     "data": {
      "text/html": [
       "<pre style=\"white-space:pre;overflow-x:auto;line-height:normal;font-family:Menlo,'DejaVu Sans Mono',consolas,'Courier New',monospace\"><span style=\"font-weight: bold\">[</span><span style=\"color: #008080; text-decoration-color: #008080; font-weight: bold\">0</span>.         <span style=\"color: #008080; text-decoration-color: #008080; font-weight: bold\">0.05378934</span> <span style=\"color: #008080; text-decoration-color: #008080; font-weight: bold\">0</span>.        <span style=\"font-weight: bold\">]</span> <span style=\"color: #008080; text-decoration-color: #008080; font-weight: bold\">1</span>\n",
       "</pre>\n"
      ],
      "text/plain": [
       "\u001b[1m[\u001b[0m\u001b[1;36m0\u001b[0m.         \u001b[1;36m0.05378934\u001b[0m \u001b[1;36m0\u001b[0m.        \u001b[1m]\u001b[0m \u001b[1;36m1\u001b[0m\n"
      ]
     },
     "metadata": {},
     "output_type": "display_data"
    },
    {
     "data": {
      "text/html": [
       "<pre style=\"white-space:pre;overflow-x:auto;line-height:normal;font-family:Menlo,'DejaVu Sans Mono',consolas,'Courier New',monospace\"><span style=\"font-weight: bold\">[</span><span style=\"color: #008080; text-decoration-color: #008080; font-weight: bold\">0</span>.         <span style=\"color: #008080; text-decoration-color: #008080; font-weight: bold\">0.05814808</span> <span style=\"color: #008080; text-decoration-color: #008080; font-weight: bold\">0</span>.        <span style=\"font-weight: bold\">]</span> <span style=\"color: #008080; text-decoration-color: #008080; font-weight: bold\">1</span>\n",
       "</pre>\n"
      ],
      "text/plain": [
       "\u001b[1m[\u001b[0m\u001b[1;36m0\u001b[0m.         \u001b[1;36m0.05814808\u001b[0m \u001b[1;36m0\u001b[0m.        \u001b[1m]\u001b[0m \u001b[1;36m1\u001b[0m\n"
      ]
     },
     "metadata": {},
     "output_type": "display_data"
    },
    {
     "data": {
      "text/html": [
       "<pre style=\"white-space:pre;overflow-x:auto;line-height:normal;font-family:Menlo,'DejaVu Sans Mono',consolas,'Courier New',monospace\"><span style=\"font-weight: bold\">[</span><span style=\"color: #008080; text-decoration-color: #008080; font-weight: bold\">0</span>.         <span style=\"color: #008080; text-decoration-color: #008080; font-weight: bold\">0.05834948</span> <span style=\"color: #008080; text-decoration-color: #008080; font-weight: bold\">0</span>.        <span style=\"font-weight: bold\">]</span> <span style=\"color: #008080; text-decoration-color: #008080; font-weight: bold\">1</span>\n",
       "</pre>\n"
      ],
      "text/plain": [
       "\u001b[1m[\u001b[0m\u001b[1;36m0\u001b[0m.         \u001b[1;36m0.05834948\u001b[0m \u001b[1;36m0\u001b[0m.        \u001b[1m]\u001b[0m \u001b[1;36m1\u001b[0m\n"
      ]
     },
     "metadata": {},
     "output_type": "display_data"
    },
    {
     "data": {
      "text/html": [
       "<pre style=\"white-space:pre;overflow-x:auto;line-height:normal;font-family:Menlo,'DejaVu Sans Mono',consolas,'Courier New',monospace\"><span style=\"font-weight: bold\">[</span><span style=\"color: #008080; text-decoration-color: #008080; font-weight: bold\">0</span>.         <span style=\"color: #008080; text-decoration-color: #008080; font-weight: bold\">0.06036689</span> <span style=\"color: #008080; text-decoration-color: #008080; font-weight: bold\">0</span>.        <span style=\"font-weight: bold\">]</span> <span style=\"color: #008080; text-decoration-color: #008080; font-weight: bold\">1</span>\n",
       "</pre>\n"
      ],
      "text/plain": [
       "\u001b[1m[\u001b[0m\u001b[1;36m0\u001b[0m.         \u001b[1;36m0.06036689\u001b[0m \u001b[1;36m0\u001b[0m.        \u001b[1m]\u001b[0m \u001b[1;36m1\u001b[0m\n"
      ]
     },
     "metadata": {},
     "output_type": "display_data"
    },
    {
     "data": {
      "text/html": [
       "<pre style=\"white-space:pre;overflow-x:auto;line-height:normal;font-family:Menlo,'DejaVu Sans Mono',consolas,'Courier New',monospace\"><span style=\"font-weight: bold\">[</span><span style=\"color: #008080; text-decoration-color: #008080; font-weight: bold\">0</span>.         <span style=\"color: #008080; text-decoration-color: #008080; font-weight: bold\">0.06065175</span> <span style=\"color: #008080; text-decoration-color: #008080; font-weight: bold\">0</span>.        <span style=\"font-weight: bold\">]</span> <span style=\"color: #008080; text-decoration-color: #008080; font-weight: bold\">1</span>\n",
       "</pre>\n"
      ],
      "text/plain": [
       "\u001b[1m[\u001b[0m\u001b[1;36m0\u001b[0m.         \u001b[1;36m0.06065175\u001b[0m \u001b[1;36m0\u001b[0m.        \u001b[1m]\u001b[0m \u001b[1;36m1\u001b[0m\n"
      ]
     },
     "metadata": {},
     "output_type": "display_data"
    },
    {
     "data": {
      "text/html": [
       "<pre style=\"white-space:pre;overflow-x:auto;line-height:normal;font-family:Menlo,'DejaVu Sans Mono',consolas,'Courier New',monospace\"><span style=\"font-weight: bold\">[</span><span style=\"color: #008080; text-decoration-color: #008080; font-weight: bold\">0</span>.         <span style=\"color: #008080; text-decoration-color: #008080; font-weight: bold\">0.06168418</span> <span style=\"color: #008080; text-decoration-color: #008080; font-weight: bold\">0</span>.        <span style=\"font-weight: bold\">]</span> <span style=\"color: #008080; text-decoration-color: #008080; font-weight: bold\">1</span>\n",
       "</pre>\n"
      ],
      "text/plain": [
       "\u001b[1m[\u001b[0m\u001b[1;36m0\u001b[0m.         \u001b[1;36m0.06168418\u001b[0m \u001b[1;36m0\u001b[0m.        \u001b[1m]\u001b[0m \u001b[1;36m1\u001b[0m\n"
      ]
     },
     "metadata": {},
     "output_type": "display_data"
    },
    {
     "data": {
      "text/html": [
       "<pre style=\"white-space:pre;overflow-x:auto;line-height:normal;font-family:Menlo,'DejaVu Sans Mono',consolas,'Courier New',monospace\"><span style=\"font-weight: bold\">[</span><span style=\"color: #008080; text-decoration-color: #008080; font-weight: bold\">0</span>.         <span style=\"color: #008080; text-decoration-color: #008080; font-weight: bold\">0.06192262</span> <span style=\"color: #008080; text-decoration-color: #008080; font-weight: bold\">0</span>.        <span style=\"font-weight: bold\">]</span> <span style=\"color: #008080; text-decoration-color: #008080; font-weight: bold\">1</span>\n",
       "</pre>\n"
      ],
      "text/plain": [
       "\u001b[1m[\u001b[0m\u001b[1;36m0\u001b[0m.         \u001b[1;36m0.06192262\u001b[0m \u001b[1;36m0\u001b[0m.        \u001b[1m]\u001b[0m \u001b[1;36m1\u001b[0m\n"
      ]
     },
     "metadata": {},
     "output_type": "display_data"
    },
    {
     "data": {
      "text/html": [
       "<pre style=\"white-space:pre;overflow-x:auto;line-height:normal;font-family:Menlo,'DejaVu Sans Mono',consolas,'Courier New',monospace\"><span style=\"font-weight: bold\">[</span><span style=\"color: #008080; text-decoration-color: #008080; font-weight: bold\">0</span>.         <span style=\"color: #008080; text-decoration-color: #008080; font-weight: bold\">0.06933911</span> <span style=\"color: #008080; text-decoration-color: #008080; font-weight: bold\">0</span>.        <span style=\"font-weight: bold\">]</span> <span style=\"color: #008080; text-decoration-color: #008080; font-weight: bold\">1</span>\n",
       "</pre>\n"
      ],
      "text/plain": [
       "\u001b[1m[\u001b[0m\u001b[1;36m0\u001b[0m.         \u001b[1;36m0.06933911\u001b[0m \u001b[1;36m0\u001b[0m.        \u001b[1m]\u001b[0m \u001b[1;36m1\u001b[0m\n"
      ]
     },
     "metadata": {},
     "output_type": "display_data"
    },
    {
     "data": {
      "text/html": [
       "<pre style=\"white-space:pre;overflow-x:auto;line-height:normal;font-family:Menlo,'DejaVu Sans Mono',consolas,'Courier New',monospace\"><span style=\"font-weight: bold\">[</span><span style=\"color: #008080; text-decoration-color: #008080; font-weight: bold\">0</span>.         <span style=\"color: #008080; text-decoration-color: #008080; font-weight: bold\">0.07247343</span> <span style=\"color: #008080; text-decoration-color: #008080; font-weight: bold\">0</span>.        <span style=\"font-weight: bold\">]</span> <span style=\"color: #008080; text-decoration-color: #008080; font-weight: bold\">1</span>\n",
       "</pre>\n"
      ],
      "text/plain": [
       "\u001b[1m[\u001b[0m\u001b[1;36m0\u001b[0m.         \u001b[1;36m0.07247343\u001b[0m \u001b[1;36m0\u001b[0m.        \u001b[1m]\u001b[0m \u001b[1;36m1\u001b[0m\n"
      ]
     },
     "metadata": {},
     "output_type": "display_data"
    },
    {
     "data": {
      "text/html": [
       "<pre style=\"white-space:pre;overflow-x:auto;line-height:normal;font-family:Menlo,'DejaVu Sans Mono',consolas,'Courier New',monospace\"><span style=\"font-weight: bold\">[</span><span style=\"color: #008080; text-decoration-color: #008080; font-weight: bold\">0</span>.         <span style=\"color: #008080; text-decoration-color: #008080; font-weight: bold\">0.07452643</span> <span style=\"color: #008080; text-decoration-color: #008080; font-weight: bold\">0</span>.        <span style=\"font-weight: bold\">]</span> <span style=\"color: #008080; text-decoration-color: #008080; font-weight: bold\">1</span>\n",
       "</pre>\n"
      ],
      "text/plain": [
       "\u001b[1m[\u001b[0m\u001b[1;36m0\u001b[0m.         \u001b[1;36m0.07452643\u001b[0m \u001b[1;36m0\u001b[0m.        \u001b[1m]\u001b[0m \u001b[1;36m1\u001b[0m\n"
      ]
     },
     "metadata": {},
     "output_type": "display_data"
    },
    {
     "data": {
      "text/html": [
       "<pre style=\"white-space:pre;overflow-x:auto;line-height:normal;font-family:Menlo,'DejaVu Sans Mono',consolas,'Courier New',monospace\"><span style=\"font-weight: bold\">[</span><span style=\"color: #008080; text-decoration-color: #008080; font-weight: bold\">0</span>.         <span style=\"color: #008080; text-decoration-color: #008080; font-weight: bold\">0.07746354</span> <span style=\"color: #008080; text-decoration-color: #008080; font-weight: bold\">0</span>.        <span style=\"font-weight: bold\">]</span> <span style=\"color: #008080; text-decoration-color: #008080; font-weight: bold\">1</span>\n",
       "</pre>\n"
      ],
      "text/plain": [
       "\u001b[1m[\u001b[0m\u001b[1;36m0\u001b[0m.         \u001b[1;36m0.07746354\u001b[0m \u001b[1;36m0\u001b[0m.        \u001b[1m]\u001b[0m \u001b[1;36m1\u001b[0m\n"
      ]
     },
     "metadata": {},
     "output_type": "display_data"
    },
    {
     "data": {
      "text/html": [
       "<pre style=\"white-space:pre;overflow-x:auto;line-height:normal;font-family:Menlo,'DejaVu Sans Mono',consolas,'Courier New',monospace\"><span style=\"font-weight: bold\">[</span><span style=\"color: #008080; text-decoration-color: #008080; font-weight: bold\">0</span>.         <span style=\"color: #008080; text-decoration-color: #008080; font-weight: bold\">0.07882563</span> <span style=\"color: #008080; text-decoration-color: #008080; font-weight: bold\">0</span>.        <span style=\"font-weight: bold\">]</span> <span style=\"color: #008080; text-decoration-color: #008080; font-weight: bold\">1</span>\n",
       "</pre>\n"
      ],
      "text/plain": [
       "\u001b[1m[\u001b[0m\u001b[1;36m0\u001b[0m.         \u001b[1;36m0.07882563\u001b[0m \u001b[1;36m0\u001b[0m.        \u001b[1m]\u001b[0m \u001b[1;36m1\u001b[0m\n"
      ]
     },
     "metadata": {},
     "output_type": "display_data"
    },
    {
     "data": {
      "text/html": [
       "<pre style=\"white-space:pre;overflow-x:auto;line-height:normal;font-family:Menlo,'DejaVu Sans Mono',consolas,'Courier New',monospace\"><span style=\"font-weight: bold\">[</span><span style=\"color: #008080; text-decoration-color: #008080; font-weight: bold\">0</span>.         <span style=\"color: #008080; text-decoration-color: #008080; font-weight: bold\">0.08012231</span> <span style=\"color: #008080; text-decoration-color: #008080; font-weight: bold\">0</span>.        <span style=\"font-weight: bold\">]</span> <span style=\"color: #008080; text-decoration-color: #008080; font-weight: bold\">1</span>\n",
       "</pre>\n"
      ],
      "text/plain": [
       "\u001b[1m[\u001b[0m\u001b[1;36m0\u001b[0m.         \u001b[1;36m0.08012231\u001b[0m \u001b[1;36m0\u001b[0m.        \u001b[1m]\u001b[0m \u001b[1;36m1\u001b[0m\n"
      ]
     },
     "metadata": {},
     "output_type": "display_data"
    },
    {
     "data": {
      "text/html": [
       "<pre style=\"white-space:pre;overflow-x:auto;line-height:normal;font-family:Menlo,'DejaVu Sans Mono',consolas,'Courier New',monospace\"><span style=\"font-weight: bold\">[</span><span style=\"color: #008080; text-decoration-color: #008080; font-weight: bold\">0</span>.         <span style=\"color: #008080; text-decoration-color: #008080; font-weight: bold\">0.08223117</span> <span style=\"color: #008080; text-decoration-color: #008080; font-weight: bold\">0</span>.        <span style=\"font-weight: bold\">]</span> <span style=\"color: #008080; text-decoration-color: #008080; font-weight: bold\">1</span>\n",
       "</pre>\n"
      ],
      "text/plain": [
       "\u001b[1m[\u001b[0m\u001b[1;36m0\u001b[0m.         \u001b[1;36m0.08223117\u001b[0m \u001b[1;36m0\u001b[0m.        \u001b[1m]\u001b[0m \u001b[1;36m1\u001b[0m\n"
      ]
     },
     "metadata": {},
     "output_type": "display_data"
    },
    {
     "data": {
      "text/html": [
       "<pre style=\"white-space:pre;overflow-x:auto;line-height:normal;font-family:Menlo,'DejaVu Sans Mono',consolas,'Courier New',monospace\"><span style=\"font-weight: bold\">[</span><span style=\"color: #008080; text-decoration-color: #008080; font-weight: bold\">0</span>.         <span style=\"color: #008080; text-decoration-color: #008080; font-weight: bold\">0.08384793</span> <span style=\"color: #008080; text-decoration-color: #008080; font-weight: bold\">0</span>.        <span style=\"font-weight: bold\">]</span> <span style=\"color: #008080; text-decoration-color: #008080; font-weight: bold\">1</span>\n",
       "</pre>\n"
      ],
      "text/plain": [
       "\u001b[1m[\u001b[0m\u001b[1;36m0\u001b[0m.         \u001b[1;36m0.08384793\u001b[0m \u001b[1;36m0\u001b[0m.        \u001b[1m]\u001b[0m \u001b[1;36m1\u001b[0m\n"
      ]
     },
     "metadata": {},
     "output_type": "display_data"
    },
    {
     "data": {
      "text/html": [
       "<pre style=\"white-space:pre;overflow-x:auto;line-height:normal;font-family:Menlo,'DejaVu Sans Mono',consolas,'Courier New',monospace\"><span style=\"font-weight: bold\">[</span><span style=\"color: #008080; text-decoration-color: #008080; font-weight: bold\">0</span>.         <span style=\"color: #008080; text-decoration-color: #008080; font-weight: bold\">0.08502036</span> <span style=\"color: #008080; text-decoration-color: #008080; font-weight: bold\">0</span>.        <span style=\"font-weight: bold\">]</span> <span style=\"color: #008080; text-decoration-color: #008080; font-weight: bold\">1</span>\n",
       "</pre>\n"
      ],
      "text/plain": [
       "\u001b[1m[\u001b[0m\u001b[1;36m0\u001b[0m.         \u001b[1;36m0.08502036\u001b[0m \u001b[1;36m0\u001b[0m.        \u001b[1m]\u001b[0m \u001b[1;36m1\u001b[0m\n"
      ]
     },
     "metadata": {},
     "output_type": "display_data"
    },
    {
     "data": {
      "text/html": [
       "<pre style=\"white-space:pre;overflow-x:auto;line-height:normal;font-family:Menlo,'DejaVu Sans Mono',consolas,'Courier New',monospace\"><span style=\"font-weight: bold\">[</span><span style=\"color: #008080; text-decoration-color: #008080; font-weight: bold\">0</span>.         <span style=\"color: #008080; text-decoration-color: #008080; font-weight: bold\">0.08699989</span> <span style=\"color: #008080; text-decoration-color: #008080; font-weight: bold\">0</span>.        <span style=\"font-weight: bold\">]</span> <span style=\"color: #008080; text-decoration-color: #008080; font-weight: bold\">1</span>\n",
       "</pre>\n"
      ],
      "text/plain": [
       "\u001b[1m[\u001b[0m\u001b[1;36m0\u001b[0m.         \u001b[1;36m0.08699989\u001b[0m \u001b[1;36m0\u001b[0m.        \u001b[1m]\u001b[0m \u001b[1;36m1\u001b[0m\n"
      ]
     },
     "metadata": {},
     "output_type": "display_data"
    },
    {
     "data": {
      "text/html": [
       "<pre style=\"white-space:pre;overflow-x:auto;line-height:normal;font-family:Menlo,'DejaVu Sans Mono',consolas,'Courier New',monospace\"><span style=\"font-weight: bold\">[</span><span style=\"color: #008080; text-decoration-color: #008080; font-weight: bold\">0</span>.         <span style=\"color: #008080; text-decoration-color: #008080; font-weight: bold\">0.08781685</span> <span style=\"color: #008080; text-decoration-color: #008080; font-weight: bold\">0</span>.        <span style=\"font-weight: bold\">]</span> <span style=\"color: #008080; text-decoration-color: #008080; font-weight: bold\">1</span>\n",
       "</pre>\n"
      ],
      "text/plain": [
       "\u001b[1m[\u001b[0m\u001b[1;36m0\u001b[0m.         \u001b[1;36m0.08781685\u001b[0m \u001b[1;36m0\u001b[0m.        \u001b[1m]\u001b[0m \u001b[1;36m1\u001b[0m\n"
      ]
     },
     "metadata": {},
     "output_type": "display_data"
    },
    {
     "data": {
      "text/html": [
       "<pre style=\"white-space:pre;overflow-x:auto;line-height:normal;font-family:Menlo,'DejaVu Sans Mono',consolas,'Courier New',monospace\"><span style=\"font-weight: bold\">[</span><span style=\"color: #008080; text-decoration-color: #008080; font-weight: bold\">0</span>.         <span style=\"color: #008080; text-decoration-color: #008080; font-weight: bold\">0.09126405</span> <span style=\"color: #008080; text-decoration-color: #008080; font-weight: bold\">0</span>.        <span style=\"font-weight: bold\">]</span> <span style=\"color: #008080; text-decoration-color: #008080; font-weight: bold\">1</span>\n",
       "</pre>\n"
      ],
      "text/plain": [
       "\u001b[1m[\u001b[0m\u001b[1;36m0\u001b[0m.         \u001b[1;36m0.09126405\u001b[0m \u001b[1;36m0\u001b[0m.        \u001b[1m]\u001b[0m \u001b[1;36m1\u001b[0m\n"
      ]
     },
     "metadata": {},
     "output_type": "display_data"
    },
    {
     "data": {
      "text/html": [
       "<pre style=\"white-space:pre;overflow-x:auto;line-height:normal;font-family:Menlo,'DejaVu Sans Mono',consolas,'Courier New',monospace\"><span style=\"font-weight: bold\">[</span><span style=\"color: #008080; text-decoration-color: #008080; font-weight: bold\">0</span>.         <span style=\"color: #008080; text-decoration-color: #008080; font-weight: bold\">0.09135111</span> <span style=\"color: #008080; text-decoration-color: #008080; font-weight: bold\">0</span>.        <span style=\"font-weight: bold\">]</span> <span style=\"color: #008080; text-decoration-color: #008080; font-weight: bold\">1</span>\n",
       "</pre>\n"
      ],
      "text/plain": [
       "\u001b[1m[\u001b[0m\u001b[1;36m0\u001b[0m.         \u001b[1;36m0.09135111\u001b[0m \u001b[1;36m0\u001b[0m.        \u001b[1m]\u001b[0m \u001b[1;36m1\u001b[0m\n"
      ]
     },
     "metadata": {},
     "output_type": "display_data"
    },
    {
     "data": {
      "text/html": [
       "<pre style=\"white-space:pre;overflow-x:auto;line-height:normal;font-family:Menlo,'DejaVu Sans Mono',consolas,'Courier New',monospace\"><span style=\"font-weight: bold\">[</span><span style=\"color: #008080; text-decoration-color: #008080; font-weight: bold\">0</span>.         <span style=\"color: #008080; text-decoration-color: #008080; font-weight: bold\">0.09153735</span> <span style=\"color: #008080; text-decoration-color: #008080; font-weight: bold\">0</span>.        <span style=\"font-weight: bold\">]</span> <span style=\"color: #008080; text-decoration-color: #008080; font-weight: bold\">1</span>\n",
       "</pre>\n"
      ],
      "text/plain": [
       "\u001b[1m[\u001b[0m\u001b[1;36m0\u001b[0m.         \u001b[1;36m0.09153735\u001b[0m \u001b[1;36m0\u001b[0m.        \u001b[1m]\u001b[0m \u001b[1;36m1\u001b[0m\n"
      ]
     },
     "metadata": {},
     "output_type": "display_data"
    },
    {
     "data": {
      "text/html": [
       "<pre style=\"white-space:pre;overflow-x:auto;line-height:normal;font-family:Menlo,'DejaVu Sans Mono',consolas,'Courier New',monospace\"><span style=\"font-weight: bold\">[</span><span style=\"color: #008080; text-decoration-color: #008080; font-weight: bold\">0</span>.         <span style=\"color: #008080; text-decoration-color: #008080; font-weight: bold\">0.09221251</span> <span style=\"color: #008080; text-decoration-color: #008080; font-weight: bold\">0</span>.        <span style=\"font-weight: bold\">]</span> <span style=\"color: #008080; text-decoration-color: #008080; font-weight: bold\">1</span>\n",
       "</pre>\n"
      ],
      "text/plain": [
       "\u001b[1m[\u001b[0m\u001b[1;36m0\u001b[0m.         \u001b[1;36m0.09221251\u001b[0m \u001b[1;36m0\u001b[0m.        \u001b[1m]\u001b[0m \u001b[1;36m1\u001b[0m\n"
      ]
     },
     "metadata": {},
     "output_type": "display_data"
    },
    {
     "data": {
      "text/html": [
       "<pre style=\"white-space:pre;overflow-x:auto;line-height:normal;font-family:Menlo,'DejaVu Sans Mono',consolas,'Courier New',monospace\"><span style=\"font-weight: bold\">[</span><span style=\"color: #008080; text-decoration-color: #008080; font-weight: bold\">0</span>.        <span style=\"color: #008080; text-decoration-color: #008080; font-weight: bold\">0.0934618</span> <span style=\"color: #008080; text-decoration-color: #008080; font-weight: bold\">0</span>.       <span style=\"font-weight: bold\">]</span> <span style=\"color: #008080; text-decoration-color: #008080; font-weight: bold\">1</span>\n",
       "</pre>\n"
      ],
      "text/plain": [
       "\u001b[1m[\u001b[0m\u001b[1;36m0\u001b[0m.        \u001b[1;36m0.0934618\u001b[0m \u001b[1;36m0\u001b[0m.       \u001b[1m]\u001b[0m \u001b[1;36m1\u001b[0m\n"
      ]
     },
     "metadata": {},
     "output_type": "display_data"
    },
    {
     "data": {
      "text/html": [
       "<pre style=\"white-space:pre;overflow-x:auto;line-height:normal;font-family:Menlo,'DejaVu Sans Mono',consolas,'Courier New',monospace\"><span style=\"font-weight: bold\">[</span><span style=\"color: #008080; text-decoration-color: #008080; font-weight: bold\">0</span>.         <span style=\"color: #008080; text-decoration-color: #008080; font-weight: bold\">0.09570532</span> <span style=\"color: #008080; text-decoration-color: #008080; font-weight: bold\">0</span>.        <span style=\"font-weight: bold\">]</span> <span style=\"color: #008080; text-decoration-color: #008080; font-weight: bold\">1</span>\n",
       "</pre>\n"
      ],
      "text/plain": [
       "\u001b[1m[\u001b[0m\u001b[1;36m0\u001b[0m.         \u001b[1;36m0.09570532\u001b[0m \u001b[1;36m0\u001b[0m.        \u001b[1m]\u001b[0m \u001b[1;36m1\u001b[0m\n"
      ]
     },
     "metadata": {},
     "output_type": "display_data"
    },
    {
     "data": {
      "text/html": [
       "<pre style=\"white-space:pre;overflow-x:auto;line-height:normal;font-family:Menlo,'DejaVu Sans Mono',consolas,'Courier New',monospace\"><span style=\"font-weight: bold\">[</span><span style=\"color: #008080; text-decoration-color: #008080; font-weight: bold\">0</span>.         <span style=\"color: #008080; text-decoration-color: #008080; font-weight: bold\">0.09695227</span> <span style=\"color: #008080; text-decoration-color: #008080; font-weight: bold\">0</span>.        <span style=\"font-weight: bold\">]</span> <span style=\"color: #008080; text-decoration-color: #008080; font-weight: bold\">1</span>\n",
       "</pre>\n"
      ],
      "text/plain": [
       "\u001b[1m[\u001b[0m\u001b[1;36m0\u001b[0m.         \u001b[1;36m0.09695227\u001b[0m \u001b[1;36m0\u001b[0m.        \u001b[1m]\u001b[0m \u001b[1;36m1\u001b[0m\n"
      ]
     },
     "metadata": {},
     "output_type": "display_data"
    },
    {
     "data": {
      "text/html": [
       "<pre style=\"white-space:pre;overflow-x:auto;line-height:normal;font-family:Menlo,'DejaVu Sans Mono',consolas,'Courier New',monospace\"><span style=\"font-weight: bold\">[</span><span style=\"color: #008080; text-decoration-color: #008080; font-weight: bold\">0</span>.         <span style=\"color: #008080; text-decoration-color: #008080; font-weight: bold\">0.09858976</span> <span style=\"color: #008080; text-decoration-color: #008080; font-weight: bold\">0</span>.        <span style=\"font-weight: bold\">]</span> <span style=\"color: #008080; text-decoration-color: #008080; font-weight: bold\">1</span>\n",
       "</pre>\n"
      ],
      "text/plain": [
       "\u001b[1m[\u001b[0m\u001b[1;36m0\u001b[0m.         \u001b[1;36m0.09858976\u001b[0m \u001b[1;36m0\u001b[0m.        \u001b[1m]\u001b[0m \u001b[1;36m1\u001b[0m\n"
      ]
     },
     "metadata": {},
     "output_type": "display_data"
    },
    {
     "data": {
      "text/html": [
       "<pre style=\"white-space:pre;overflow-x:auto;line-height:normal;font-family:Menlo,'DejaVu Sans Mono',consolas,'Courier New',monospace\"><span style=\"font-weight: bold\">[</span><span style=\"color: #008080; text-decoration-color: #008080; font-weight: bold\">0</span>.         <span style=\"color: #008080; text-decoration-color: #008080; font-weight: bold\">0.09964924</span> <span style=\"color: #008080; text-decoration-color: #008080; font-weight: bold\">0</span>.        <span style=\"font-weight: bold\">]</span> <span style=\"color: #008080; text-decoration-color: #008080; font-weight: bold\">1</span>\n",
       "</pre>\n"
      ],
      "text/plain": [
       "\u001b[1m[\u001b[0m\u001b[1;36m0\u001b[0m.         \u001b[1;36m0.09964924\u001b[0m \u001b[1;36m0\u001b[0m.        \u001b[1m]\u001b[0m \u001b[1;36m1\u001b[0m\n"
      ]
     },
     "metadata": {},
     "output_type": "display_data"
    },
    {
     "data": {
      "text/html": [
       "<pre style=\"white-space:pre;overflow-x:auto;line-height:normal;font-family:Menlo,'DejaVu Sans Mono',consolas,'Courier New',monospace\"><span style=\"font-weight: bold\">[</span><span style=\"color: #008080; text-decoration-color: #008080; font-weight: bold\">0</span>.       <span style=\"color: #008080; text-decoration-color: #008080; font-weight: bold\">0.101804</span> <span style=\"color: #008080; text-decoration-color: #008080; font-weight: bold\">0</span>.      <span style=\"font-weight: bold\">]</span> <span style=\"color: #008080; text-decoration-color: #008080; font-weight: bold\">1</span>\n",
       "</pre>\n"
      ],
      "text/plain": [
       "\u001b[1m[\u001b[0m\u001b[1;36m0\u001b[0m.       \u001b[1;36m0.101804\u001b[0m \u001b[1;36m0\u001b[0m.      \u001b[1m]\u001b[0m \u001b[1;36m1\u001b[0m\n"
      ]
     },
     "metadata": {},
     "output_type": "display_data"
    },
    {
     "data": {
      "text/html": [
       "<pre style=\"white-space:pre;overflow-x:auto;line-height:normal;font-family:Menlo,'DejaVu Sans Mono',consolas,'Courier New',monospace\"><span style=\"font-weight: bold\">[</span><span style=\"color: #008080; text-decoration-color: #008080; font-weight: bold\">0</span>.         <span style=\"color: #008080; text-decoration-color: #008080; font-weight: bold\">0.10367145</span> <span style=\"color: #008080; text-decoration-color: #008080; font-weight: bold\">0</span>.        <span style=\"font-weight: bold\">]</span> <span style=\"color: #008080; text-decoration-color: #008080; font-weight: bold\">1</span>\n",
       "</pre>\n"
      ],
      "text/plain": [
       "\u001b[1m[\u001b[0m\u001b[1;36m0\u001b[0m.         \u001b[1;36m0.10367145\u001b[0m \u001b[1;36m0\u001b[0m.        \u001b[1m]\u001b[0m \u001b[1;36m1\u001b[0m\n"
      ]
     },
     "metadata": {},
     "output_type": "display_data"
    },
    {
     "data": {
      "text/html": [
       "<pre style=\"white-space:pre;overflow-x:auto;line-height:normal;font-family:Menlo,'DejaVu Sans Mono',consolas,'Courier New',monospace\"><span style=\"font-weight: bold\">[</span><span style=\"color: #008080; text-decoration-color: #008080; font-weight: bold\">0</span>.         <span style=\"color: #008080; text-decoration-color: #008080; font-weight: bold\">0.10674743</span> <span style=\"color: #008080; text-decoration-color: #008080; font-weight: bold\">0</span>.        <span style=\"font-weight: bold\">]</span> <span style=\"color: #008080; text-decoration-color: #008080; font-weight: bold\">1</span>\n",
       "</pre>\n"
      ],
      "text/plain": [
       "\u001b[1m[\u001b[0m\u001b[1;36m0\u001b[0m.         \u001b[1;36m0.10674743\u001b[0m \u001b[1;36m0\u001b[0m.        \u001b[1m]\u001b[0m \u001b[1;36m1\u001b[0m\n"
      ]
     },
     "metadata": {},
     "output_type": "display_data"
    },
    {
     "data": {
      "text/html": [
       "<pre style=\"white-space:pre;overflow-x:auto;line-height:normal;font-family:Menlo,'DejaVu Sans Mono',consolas,'Courier New',monospace\"><span style=\"font-weight: bold\">[</span><span style=\"color: #008080; text-decoration-color: #008080; font-weight: bold\">0</span>.        <span style=\"color: #008080; text-decoration-color: #008080; font-weight: bold\">0.1080796</span> <span style=\"color: #008080; text-decoration-color: #008080; font-weight: bold\">0</span>.       <span style=\"font-weight: bold\">]</span> <span style=\"color: #008080; text-decoration-color: #008080; font-weight: bold\">1</span>\n",
       "</pre>\n"
      ],
      "text/plain": [
       "\u001b[1m[\u001b[0m\u001b[1;36m0\u001b[0m.        \u001b[1;36m0.1080796\u001b[0m \u001b[1;36m0\u001b[0m.       \u001b[1m]\u001b[0m \u001b[1;36m1\u001b[0m\n"
      ]
     },
     "metadata": {},
     "output_type": "display_data"
    },
    {
     "data": {
      "text/html": [
       "<pre style=\"white-space:pre;overflow-x:auto;line-height:normal;font-family:Menlo,'DejaVu Sans Mono',consolas,'Courier New',monospace\"><span style=\"font-weight: bold\">[</span><span style=\"color: #008080; text-decoration-color: #008080; font-weight: bold\">0</span>.        <span style=\"color: #008080; text-decoration-color: #008080; font-weight: bold\">0.1098771</span> <span style=\"color: #008080; text-decoration-color: #008080; font-weight: bold\">0</span>.       <span style=\"font-weight: bold\">]</span> <span style=\"color: #008080; text-decoration-color: #008080; font-weight: bold\">1</span>\n",
       "</pre>\n"
      ],
      "text/plain": [
       "\u001b[1m[\u001b[0m\u001b[1;36m0\u001b[0m.        \u001b[1;36m0.1098771\u001b[0m \u001b[1;36m0\u001b[0m.       \u001b[1m]\u001b[0m \u001b[1;36m1\u001b[0m\n"
      ]
     },
     "metadata": {},
     "output_type": "display_data"
    },
    {
     "data": {
      "text/html": [
       "<pre style=\"white-space:pre;overflow-x:auto;line-height:normal;font-family:Menlo,'DejaVu Sans Mono',consolas,'Courier New',monospace\"><span style=\"font-weight: bold\">[</span><span style=\"color: #008080; text-decoration-color: #008080; font-weight: bold\">0</span>.        <span style=\"color: #008080; text-decoration-color: #008080; font-weight: bold\">0.1103197</span> <span style=\"color: #008080; text-decoration-color: #008080; font-weight: bold\">0</span>.       <span style=\"font-weight: bold\">]</span> <span style=\"color: #008080; text-decoration-color: #008080; font-weight: bold\">1</span>\n",
       "</pre>\n"
      ],
      "text/plain": [
       "\u001b[1m[\u001b[0m\u001b[1;36m0\u001b[0m.        \u001b[1;36m0.1103197\u001b[0m \u001b[1;36m0\u001b[0m.       \u001b[1m]\u001b[0m \u001b[1;36m1\u001b[0m\n"
      ]
     },
     "metadata": {},
     "output_type": "display_data"
    },
    {
     "data": {
      "text/html": [
       "<pre style=\"white-space:pre;overflow-x:auto;line-height:normal;font-family:Menlo,'DejaVu Sans Mono',consolas,'Courier New',monospace\"><span style=\"font-weight: bold\">[</span><span style=\"color: #008080; text-decoration-color: #008080; font-weight: bold\">0</span>.         <span style=\"color: #008080; text-decoration-color: #008080; font-weight: bold\">0.11733751</span> <span style=\"color: #008080; text-decoration-color: #008080; font-weight: bold\">0</span>.        <span style=\"font-weight: bold\">]</span> <span style=\"color: #008080; text-decoration-color: #008080; font-weight: bold\">1</span>\n",
       "</pre>\n"
      ],
      "text/plain": [
       "\u001b[1m[\u001b[0m\u001b[1;36m0\u001b[0m.         \u001b[1;36m0.11733751\u001b[0m \u001b[1;36m0\u001b[0m.        \u001b[1m]\u001b[0m \u001b[1;36m1\u001b[0m\n"
      ]
     },
     "metadata": {},
     "output_type": "display_data"
    },
    {
     "data": {
      "text/html": [
       "<pre style=\"white-space:pre;overflow-x:auto;line-height:normal;font-family:Menlo,'DejaVu Sans Mono',consolas,'Courier New',monospace\"><span style=\"font-weight: bold\">[</span><span style=\"color: #008080; text-decoration-color: #008080; font-weight: bold\">0</span>.         <span style=\"color: #008080; text-decoration-color: #008080; font-weight: bold\">0.11953293</span> <span style=\"color: #008080; text-decoration-color: #008080; font-weight: bold\">0</span>.        <span style=\"font-weight: bold\">]</span> <span style=\"color: #008080; text-decoration-color: #008080; font-weight: bold\">1</span>\n",
       "</pre>\n"
      ],
      "text/plain": [
       "\u001b[1m[\u001b[0m\u001b[1;36m0\u001b[0m.         \u001b[1;36m0.11953293\u001b[0m \u001b[1;36m0\u001b[0m.        \u001b[1m]\u001b[0m \u001b[1;36m1\u001b[0m\n"
      ]
     },
     "metadata": {},
     "output_type": "display_data"
    },
    {
     "data": {
      "text/html": [
       "<pre style=\"white-space:pre;overflow-x:auto;line-height:normal;font-family:Menlo,'DejaVu Sans Mono',consolas,'Courier New',monospace\"><span style=\"font-weight: bold\">[</span><span style=\"color: #008080; text-decoration-color: #008080; font-weight: bold\">0</span>.        <span style=\"color: #008080; text-decoration-color: #008080; font-weight: bold\">0.1198747</span> <span style=\"color: #008080; text-decoration-color: #008080; font-weight: bold\">0</span>.       <span style=\"font-weight: bold\">]</span> <span style=\"color: #008080; text-decoration-color: #008080; font-weight: bold\">1</span>\n",
       "</pre>\n"
      ],
      "text/plain": [
       "\u001b[1m[\u001b[0m\u001b[1;36m0\u001b[0m.        \u001b[1;36m0.1198747\u001b[0m \u001b[1;36m0\u001b[0m.       \u001b[1m]\u001b[0m \u001b[1;36m1\u001b[0m\n"
      ]
     },
     "metadata": {},
     "output_type": "display_data"
    },
    {
     "data": {
      "text/html": [
       "<pre style=\"white-space:pre;overflow-x:auto;line-height:normal;font-family:Menlo,'DejaVu Sans Mono',consolas,'Courier New',monospace\"><span style=\"font-weight: bold\">[</span><span style=\"color: #008080; text-decoration-color: #008080; font-weight: bold\">0</span>.         <span style=\"color: #008080; text-decoration-color: #008080; font-weight: bold\">0.12169254</span> <span style=\"color: #008080; text-decoration-color: #008080; font-weight: bold\">0</span>.        <span style=\"font-weight: bold\">]</span> <span style=\"color: #008080; text-decoration-color: #008080; font-weight: bold\">1</span>\n",
       "</pre>\n"
      ],
      "text/plain": [
       "\u001b[1m[\u001b[0m\u001b[1;36m0\u001b[0m.         \u001b[1;36m0.12169254\u001b[0m \u001b[1;36m0\u001b[0m.        \u001b[1m]\u001b[0m \u001b[1;36m1\u001b[0m\n"
      ]
     },
     "metadata": {},
     "output_type": "display_data"
    },
    {
     "data": {
      "text/html": [
       "<pre style=\"white-space:pre;overflow-x:auto;line-height:normal;font-family:Menlo,'DejaVu Sans Mono',consolas,'Courier New',monospace\"><span style=\"font-weight: bold\">[</span><span style=\"color: #008080; text-decoration-color: #008080; font-weight: bold\">0</span>.         <span style=\"color: #008080; text-decoration-color: #008080; font-weight: bold\">0.12326959</span> <span style=\"color: #008080; text-decoration-color: #008080; font-weight: bold\">0</span>.        <span style=\"font-weight: bold\">]</span> <span style=\"color: #008080; text-decoration-color: #008080; font-weight: bold\">1</span>\n",
       "</pre>\n"
      ],
      "text/plain": [
       "\u001b[1m[\u001b[0m\u001b[1;36m0\u001b[0m.         \u001b[1;36m0.12326959\u001b[0m \u001b[1;36m0\u001b[0m.        \u001b[1m]\u001b[0m \u001b[1;36m1\u001b[0m\n"
      ]
     },
     "metadata": {},
     "output_type": "display_data"
    },
    {
     "data": {
      "text/html": [
       "<pre style=\"white-space:pre;overflow-x:auto;line-height:normal;font-family:Menlo,'DejaVu Sans Mono',consolas,'Courier New',monospace\"><span style=\"font-weight: bold\">[</span><span style=\"color: #008080; text-decoration-color: #008080; font-weight: bold\">0</span>.         <span style=\"color: #008080; text-decoration-color: #008080; font-weight: bold\">0.12707578</span> <span style=\"color: #008080; text-decoration-color: #008080; font-weight: bold\">0</span>.        <span style=\"font-weight: bold\">]</span> <span style=\"color: #008080; text-decoration-color: #008080; font-weight: bold\">1</span>\n",
       "</pre>\n"
      ],
      "text/plain": [
       "\u001b[1m[\u001b[0m\u001b[1;36m0\u001b[0m.         \u001b[1;36m0.12707578\u001b[0m \u001b[1;36m0\u001b[0m.        \u001b[1m]\u001b[0m \u001b[1;36m1\u001b[0m\n"
      ]
     },
     "metadata": {},
     "output_type": "display_data"
    },
    {
     "data": {
      "text/html": [
       "<pre style=\"white-space:pre;overflow-x:auto;line-height:normal;font-family:Menlo,'DejaVu Sans Mono',consolas,'Courier New',monospace\"><span style=\"font-weight: bold\">[</span><span style=\"color: #008080; text-decoration-color: #008080; font-weight: bold\">0</span>.         <span style=\"color: #008080; text-decoration-color: #008080; font-weight: bold\">0.12769955</span> <span style=\"color: #008080; text-decoration-color: #008080; font-weight: bold\">0</span>.        <span style=\"font-weight: bold\">]</span> <span style=\"color: #008080; text-decoration-color: #008080; font-weight: bold\">1</span>\n",
       "</pre>\n"
      ],
      "text/plain": [
       "\u001b[1m[\u001b[0m\u001b[1;36m0\u001b[0m.         \u001b[1;36m0.12769955\u001b[0m \u001b[1;36m0\u001b[0m.        \u001b[1m]\u001b[0m \u001b[1;36m1\u001b[0m\n"
      ]
     },
     "metadata": {},
     "output_type": "display_data"
    },
    {
     "data": {
      "text/html": [
       "<pre style=\"white-space:pre;overflow-x:auto;line-height:normal;font-family:Menlo,'DejaVu Sans Mono',consolas,'Courier New',monospace\"><span style=\"font-weight: bold\">[</span><span style=\"color: #008080; text-decoration-color: #008080; font-weight: bold\">0</span>.         <span style=\"color: #008080; text-decoration-color: #008080; font-weight: bold\">0.14697573</span> <span style=\"color: #008080; text-decoration-color: #008080; font-weight: bold\">0</span>.        <span style=\"font-weight: bold\">]</span> <span style=\"color: #008080; text-decoration-color: #008080; font-weight: bold\">1</span>\n",
       "</pre>\n"
      ],
      "text/plain": [
       "\u001b[1m[\u001b[0m\u001b[1;36m0\u001b[0m.         \u001b[1;36m0.14697573\u001b[0m \u001b[1;36m0\u001b[0m.        \u001b[1m]\u001b[0m \u001b[1;36m1\u001b[0m\n"
      ]
     },
     "metadata": {},
     "output_type": "display_data"
    },
    {
     "data": {
      "text/html": [
       "<pre style=\"white-space:pre;overflow-x:auto;line-height:normal;font-family:Menlo,'DejaVu Sans Mono',consolas,'Courier New',monospace\"><span style=\"font-weight: bold\">[</span><span style=\"color: #008080; text-decoration-color: #008080; font-weight: bold\">0</span>.         <span style=\"color: #008080; text-decoration-color: #008080; font-weight: bold\">0.14797193</span> <span style=\"color: #008080; text-decoration-color: #008080; font-weight: bold\">0</span>.        <span style=\"font-weight: bold\">]</span> <span style=\"color: #008080; text-decoration-color: #008080; font-weight: bold\">1</span>\n",
       "</pre>\n"
      ],
      "text/plain": [
       "\u001b[1m[\u001b[0m\u001b[1;36m0\u001b[0m.         \u001b[1;36m0.14797193\u001b[0m \u001b[1;36m0\u001b[0m.        \u001b[1m]\u001b[0m \u001b[1;36m1\u001b[0m\n"
      ]
     },
     "metadata": {},
     "output_type": "display_data"
    },
    {
     "data": {
      "text/html": [
       "<pre style=\"white-space:pre;overflow-x:auto;line-height:normal;font-family:Menlo,'DejaVu Sans Mono',consolas,'Courier New',monospace\"><span style=\"font-weight: bold\">[</span><span style=\"color: #008080; text-decoration-color: #008080; font-weight: bold\">0</span>.         <span style=\"color: #008080; text-decoration-color: #008080; font-weight: bold\">0.15441419</span> <span style=\"color: #008080; text-decoration-color: #008080; font-weight: bold\">0</span>.        <span style=\"font-weight: bold\">]</span> <span style=\"color: #008080; text-decoration-color: #008080; font-weight: bold\">1</span>\n",
       "</pre>\n"
      ],
      "text/plain": [
       "\u001b[1m[\u001b[0m\u001b[1;36m0\u001b[0m.         \u001b[1;36m0.15441419\u001b[0m \u001b[1;36m0\u001b[0m.        \u001b[1m]\u001b[0m \u001b[1;36m1\u001b[0m\n"
      ]
     },
     "metadata": {},
     "output_type": "display_data"
    },
    {
     "data": {
      "text/html": [
       "<pre style=\"white-space:pre;overflow-x:auto;line-height:normal;font-family:Menlo,'DejaVu Sans Mono',consolas,'Courier New',monospace\"><span style=\"font-weight: bold\">[</span><span style=\"color: #008080; text-decoration-color: #008080; font-weight: bold\">0</span>.         <span style=\"color: #008080; text-decoration-color: #008080; font-weight: bold\">0.15722105</span> <span style=\"color: #008080; text-decoration-color: #008080; font-weight: bold\">0</span>.        <span style=\"font-weight: bold\">]</span> <span style=\"color: #008080; text-decoration-color: #008080; font-weight: bold\">1</span>\n",
       "</pre>\n"
      ],
      "text/plain": [
       "\u001b[1m[\u001b[0m\u001b[1;36m0\u001b[0m.         \u001b[1;36m0.15722105\u001b[0m \u001b[1;36m0\u001b[0m.        \u001b[1m]\u001b[0m \u001b[1;36m1\u001b[0m\n"
      ]
     },
     "metadata": {},
     "output_type": "display_data"
    },
    {
     "data": {
      "text/html": [
       "<pre style=\"white-space:pre;overflow-x:auto;line-height:normal;font-family:Menlo,'DejaVu Sans Mono',consolas,'Courier New',monospace\"><span style=\"font-weight: bold\">[</span><span style=\"color: #008080; text-decoration-color: #008080; font-weight: bold\">0</span>.         <span style=\"color: #008080; text-decoration-color: #008080; font-weight: bold\">0.15917304</span> <span style=\"color: #008080; text-decoration-color: #008080; font-weight: bold\">0</span>.        <span style=\"font-weight: bold\">]</span> <span style=\"color: #008080; text-decoration-color: #008080; font-weight: bold\">1</span>\n",
       "</pre>\n"
      ],
      "text/plain": [
       "\u001b[1m[\u001b[0m\u001b[1;36m0\u001b[0m.         \u001b[1;36m0.15917304\u001b[0m \u001b[1;36m0\u001b[0m.        \u001b[1m]\u001b[0m \u001b[1;36m1\u001b[0m\n"
      ]
     },
     "metadata": {},
     "output_type": "display_data"
    },
    {
     "data": {
      "text/html": [
       "<pre style=\"white-space:pre;overflow-x:auto;line-height:normal;font-family:Menlo,'DejaVu Sans Mono',consolas,'Courier New',monospace\"><span style=\"font-weight: bold\">[</span><span style=\"color: #008080; text-decoration-color: #008080; font-weight: bold\">0</span>.         <span style=\"color: #008080; text-decoration-color: #008080; font-weight: bold\">0.16351797</span> <span style=\"color: #008080; text-decoration-color: #008080; font-weight: bold\">0</span>.        <span style=\"font-weight: bold\">]</span> <span style=\"color: #008080; text-decoration-color: #008080; font-weight: bold\">1</span>\n",
       "</pre>\n"
      ],
      "text/plain": [
       "\u001b[1m[\u001b[0m\u001b[1;36m0\u001b[0m.         \u001b[1;36m0.16351797\u001b[0m \u001b[1;36m0\u001b[0m.        \u001b[1m]\u001b[0m \u001b[1;36m1\u001b[0m\n"
      ]
     },
     "metadata": {},
     "output_type": "display_data"
    },
    {
     "data": {
      "text/html": [
       "<pre style=\"white-space:pre;overflow-x:auto;line-height:normal;font-family:Menlo,'DejaVu Sans Mono',consolas,'Courier New',monospace\"><span style=\"font-weight: bold\">[</span><span style=\"color: #008080; text-decoration-color: #008080; font-weight: bold\">0</span>.         <span style=\"color: #008080; text-decoration-color: #008080; font-weight: bold\">0.17201325</span> <span style=\"color: #008080; text-decoration-color: #008080; font-weight: bold\">0</span>.        <span style=\"font-weight: bold\">]</span> <span style=\"color: #008080; text-decoration-color: #008080; font-weight: bold\">1</span>\n",
       "</pre>\n"
      ],
      "text/plain": [
       "\u001b[1m[\u001b[0m\u001b[1;36m0\u001b[0m.         \u001b[1;36m0.17201325\u001b[0m \u001b[1;36m0\u001b[0m.        \u001b[1m]\u001b[0m \u001b[1;36m1\u001b[0m\n"
      ]
     },
     "metadata": {},
     "output_type": "display_data"
    },
    {
     "data": {
      "text/html": [
       "<pre style=\"white-space:pre;overflow-x:auto;line-height:normal;font-family:Menlo,'DejaVu Sans Mono',consolas,'Courier New',monospace\"><span style=\"font-weight: bold\">[</span><span style=\"color: #008080; text-decoration-color: #008080; font-weight: bold\">0.26479301</span> <span style=\"color: #008080; text-decoration-color: #008080; font-weight: bold\">0.2761088</span>  <span style=\"color: #008080; text-decoration-color: #008080; font-weight: bold\">1</span>.        <span style=\"font-weight: bold\">]</span> <span style=\"color: #008080; text-decoration-color: #008080; font-weight: bold\">1</span>\n",
       "</pre>\n"
      ],
      "text/plain": [
       "\u001b[1m[\u001b[0m\u001b[1;36m0.26479301\u001b[0m \u001b[1;36m0.2761088\u001b[0m  \u001b[1;36m1\u001b[0m.        \u001b[1m]\u001b[0m \u001b[1;36m1\u001b[0m\n"
      ]
     },
     "metadata": {},
     "output_type": "display_data"
    },
    {
     "data": {
      "text/html": [
       "<pre style=\"white-space:pre;overflow-x:auto;line-height:normal;font-family:Menlo,'DejaVu Sans Mono',consolas,'Courier New',monospace\"><span style=\"font-weight: bold\">[</span><span style=\"color: #008080; text-decoration-color: #008080; font-weight: bold\">0.2641623</span>  <span style=\"color: #008080; text-decoration-color: #008080; font-weight: bold\">0.28237349</span> <span style=\"color: #008080; text-decoration-color: #008080; font-weight: bold\">1</span>.        <span style=\"font-weight: bold\">]</span> <span style=\"color: #008080; text-decoration-color: #008080; font-weight: bold\">1</span>\n",
       "</pre>\n"
      ],
      "text/plain": [
       "\u001b[1m[\u001b[0m\u001b[1;36m0.2641623\u001b[0m  \u001b[1;36m0.28237349\u001b[0m \u001b[1;36m1\u001b[0m.        \u001b[1m]\u001b[0m \u001b[1;36m1\u001b[0m\n"
      ]
     },
     "metadata": {},
     "output_type": "display_data"
    },
    {
     "data": {
      "text/html": [
       "<pre style=\"white-space:pre;overflow-x:auto;line-height:normal;font-family:Menlo,'DejaVu Sans Mono',consolas,'Courier New',monospace\"><span style=\"font-weight: bold\">[</span><span style=\"color: #008080; text-decoration-color: #008080; font-weight: bold\">0.25878134</span> <span style=\"color: #008080; text-decoration-color: #008080; font-weight: bold\">0.29041198</span> <span style=\"color: #008080; text-decoration-color: #008080; font-weight: bold\">1</span>.        <span style=\"font-weight: bold\">]</span> <span style=\"color: #008080; text-decoration-color: #008080; font-weight: bold\">1</span>\n",
       "</pre>\n"
      ],
      "text/plain": [
       "\u001b[1m[\u001b[0m\u001b[1;36m0.25878134\u001b[0m \u001b[1;36m0.29041198\u001b[0m \u001b[1;36m1\u001b[0m.        \u001b[1m]\u001b[0m \u001b[1;36m1\u001b[0m\n"
      ]
     },
     "metadata": {},
     "output_type": "display_data"
    },
    {
     "data": {
      "text/html": [
       "<pre style=\"white-space:pre;overflow-x:auto;line-height:normal;font-family:Menlo,'DejaVu Sans Mono',consolas,'Courier New',monospace\"><span style=\"font-weight: bold\">[</span><span style=\"color: #008080; text-decoration-color: #008080; font-weight: bold\">0.21931644</span> <span style=\"color: #008080; text-decoration-color: #008080; font-weight: bold\">0.22409831</span> <span style=\"color: #008080; text-decoration-color: #008080; font-weight: bold\">1</span>.        <span style=\"font-weight: bold\">]</span> <span style=\"color: #008080; text-decoration-color: #008080; font-weight: bold\">1</span>\n",
       "</pre>\n"
      ],
      "text/plain": [
       "\u001b[1m[\u001b[0m\u001b[1;36m0.21931644\u001b[0m \u001b[1;36m0.22409831\u001b[0m \u001b[1;36m1\u001b[0m.        \u001b[1m]\u001b[0m \u001b[1;36m1\u001b[0m\n"
      ]
     },
     "metadata": {},
     "output_type": "display_data"
    },
    {
     "data": {
      "text/html": [
       "<pre style=\"white-space:pre;overflow-x:auto;line-height:normal;font-family:Menlo,'DejaVu Sans Mono',consolas,'Courier New',monospace\"><span style=\"font-weight: bold\">[</span><span style=\"color: #008080; text-decoration-color: #008080; font-weight: bold\">0.21561445</span> <span style=\"color: #008080; text-decoration-color: #008080; font-weight: bold\">0.21902826</span> <span style=\"color: #008080; text-decoration-color: #008080; font-weight: bold\">1</span>.        <span style=\"font-weight: bold\">]</span> <span style=\"color: #008080; text-decoration-color: #008080; font-weight: bold\">1</span>\n",
       "</pre>\n"
      ],
      "text/plain": [
       "\u001b[1m[\u001b[0m\u001b[1;36m0.21561445\u001b[0m \u001b[1;36m0.21902826\u001b[0m \u001b[1;36m1\u001b[0m.        \u001b[1m]\u001b[0m \u001b[1;36m1\u001b[0m\n"
      ]
     },
     "metadata": {},
     "output_type": "display_data"
    },
    {
     "data": {
      "text/html": [
       "<pre style=\"white-space:pre;overflow-x:auto;line-height:normal;font-family:Menlo,'DejaVu Sans Mono',consolas,'Courier New',monospace\"><span style=\"font-weight: bold\">[</span><span style=\"color: #008080; text-decoration-color: #008080; font-weight: bold\">0.21314086</span> <span style=\"color: #008080; text-decoration-color: #008080; font-weight: bold\">0.22215955</span> <span style=\"color: #008080; text-decoration-color: #008080; font-weight: bold\">1</span>.        <span style=\"font-weight: bold\">]</span> <span style=\"color: #008080; text-decoration-color: #008080; font-weight: bold\">1</span>\n",
       "</pre>\n"
      ],
      "text/plain": [
       "\u001b[1m[\u001b[0m\u001b[1;36m0.21314086\u001b[0m \u001b[1;36m0.22215955\u001b[0m \u001b[1;36m1\u001b[0m.        \u001b[1m]\u001b[0m \u001b[1;36m1\u001b[0m\n"
      ]
     },
     "metadata": {},
     "output_type": "display_data"
    },
    {
     "data": {
      "text/html": [
       "<pre style=\"white-space:pre;overflow-x:auto;line-height:normal;font-family:Menlo,'DejaVu Sans Mono',consolas,'Courier New',monospace\"><span style=\"font-weight: bold\">[</span><span style=\"color: #008080; text-decoration-color: #008080; font-weight: bold\">0.20097843</span> <span style=\"color: #008080; text-decoration-color: #008080; font-weight: bold\">0.23356996</span> <span style=\"color: #008080; text-decoration-color: #008080; font-weight: bold\">1</span>.        <span style=\"font-weight: bold\">]</span> <span style=\"color: #008080; text-decoration-color: #008080; font-weight: bold\">1</span>\n",
       "</pre>\n"
      ],
      "text/plain": [
       "\u001b[1m[\u001b[0m\u001b[1;36m0.20097843\u001b[0m \u001b[1;36m0.23356996\u001b[0m \u001b[1;36m1\u001b[0m.        \u001b[1m]\u001b[0m \u001b[1;36m1\u001b[0m\n"
      ]
     },
     "metadata": {},
     "output_type": "display_data"
    },
    {
     "data": {
      "text/html": [
       "<pre style=\"white-space:pre;overflow-x:auto;line-height:normal;font-family:Menlo,'DejaVu Sans Mono',consolas,'Courier New',monospace\"><span style=\"font-weight: bold\">[</span><span style=\"color: #008080; text-decoration-color: #008080; font-weight: bold\">0.1967456</span>  <span style=\"color: #008080; text-decoration-color: #008080; font-weight: bold\">0.21726188</span> <span style=\"color: #008080; text-decoration-color: #008080; font-weight: bold\">1</span>.        <span style=\"font-weight: bold\">]</span> <span style=\"color: #008080; text-decoration-color: #008080; font-weight: bold\">1</span>\n",
       "</pre>\n"
      ],
      "text/plain": [
       "\u001b[1m[\u001b[0m\u001b[1;36m0.1967456\u001b[0m  \u001b[1;36m0.21726188\u001b[0m \u001b[1;36m1\u001b[0m.        \u001b[1m]\u001b[0m \u001b[1;36m1\u001b[0m\n"
      ]
     },
     "metadata": {},
     "output_type": "display_data"
    },
    {
     "data": {
      "text/html": [
       "<pre style=\"white-space:pre;overflow-x:auto;line-height:normal;font-family:Menlo,'DejaVu Sans Mono',consolas,'Courier New',monospace\"><span style=\"font-weight: bold\">[</span><span style=\"color: #008080; text-decoration-color: #008080; font-weight: bold\">0.19175917</span> <span style=\"color: #008080; text-decoration-color: #008080; font-weight: bold\">0.2046262</span>  <span style=\"color: #008080; text-decoration-color: #008080; font-weight: bold\">1</span>.        <span style=\"font-weight: bold\">]</span> <span style=\"color: #008080; text-decoration-color: #008080; font-weight: bold\">1</span>\n",
       "</pre>\n"
      ],
      "text/plain": [
       "\u001b[1m[\u001b[0m\u001b[1;36m0.19175917\u001b[0m \u001b[1;36m0.2046262\u001b[0m  \u001b[1;36m1\u001b[0m.        \u001b[1m]\u001b[0m \u001b[1;36m1\u001b[0m\n"
      ]
     },
     "metadata": {},
     "output_type": "display_data"
    },
    {
     "data": {
      "text/html": [
       "<pre style=\"white-space:pre;overflow-x:auto;line-height:normal;font-family:Menlo,'DejaVu Sans Mono',consolas,'Courier New',monospace\"><span style=\"font-weight: bold\">[</span><span style=\"color: #008080; text-decoration-color: #008080; font-weight: bold\">0.18421736</span> <span style=\"color: #008080; text-decoration-color: #008080; font-weight: bold\">0.20236239</span> <span style=\"color: #008080; text-decoration-color: #008080; font-weight: bold\">1</span>.        <span style=\"font-weight: bold\">]</span> <span style=\"color: #008080; text-decoration-color: #008080; font-weight: bold\">1</span>\n",
       "</pre>\n"
      ],
      "text/plain": [
       "\u001b[1m[\u001b[0m\u001b[1;36m0.18421736\u001b[0m \u001b[1;36m0.20236239\u001b[0m \u001b[1;36m1\u001b[0m.        \u001b[1m]\u001b[0m \u001b[1;36m1\u001b[0m\n"
      ]
     },
     "metadata": {},
     "output_type": "display_data"
    },
    {
     "data": {
      "text/html": [
       "<pre style=\"white-space:pre;overflow-x:auto;line-height:normal;font-family:Menlo,'DejaVu Sans Mono',consolas,'Courier New',monospace\"><span style=\"font-weight: bold\">[</span><span style=\"color: #008080; text-decoration-color: #008080; font-weight: bold\">0.18193731</span> <span style=\"color: #008080; text-decoration-color: #008080; font-weight: bold\">0.27187532</span> <span style=\"color: #008080; text-decoration-color: #008080; font-weight: bold\">1</span>.        <span style=\"font-weight: bold\">]</span> <span style=\"color: #008080; text-decoration-color: #008080; font-weight: bold\">1</span>\n",
       "</pre>\n"
      ],
      "text/plain": [
       "\u001b[1m[\u001b[0m\u001b[1;36m0.18193731\u001b[0m \u001b[1;36m0.27187532\u001b[0m \u001b[1;36m1\u001b[0m.        \u001b[1m]\u001b[0m \u001b[1;36m1\u001b[0m\n"
      ]
     },
     "metadata": {},
     "output_type": "display_data"
    },
    {
     "data": {
      "text/html": [
       "<pre style=\"white-space:pre;overflow-x:auto;line-height:normal;font-family:Menlo,'DejaVu Sans Mono',consolas,'Courier New',monospace\"><span style=\"font-weight: bold\">[</span><span style=\"color: #008080; text-decoration-color: #008080; font-weight: bold\">0.16999009</span> <span style=\"color: #008080; text-decoration-color: #008080; font-weight: bold\">0.17210233</span> <span style=\"color: #008080; text-decoration-color: #008080; font-weight: bold\">1</span>.        <span style=\"font-weight: bold\">]</span> <span style=\"color: #008080; text-decoration-color: #008080; font-weight: bold\">1</span>\n",
       "</pre>\n"
      ],
      "text/plain": [
       "\u001b[1m[\u001b[0m\u001b[1;36m0.16999009\u001b[0m \u001b[1;36m0.17210233\u001b[0m \u001b[1;36m1\u001b[0m.        \u001b[1m]\u001b[0m \u001b[1;36m1\u001b[0m\n"
      ]
     },
     "metadata": {},
     "output_type": "display_data"
    },
    {
     "data": {
      "text/html": [
       "<pre style=\"white-space:pre;overflow-x:auto;line-height:normal;font-family:Menlo,'DejaVu Sans Mono',consolas,'Courier New',monospace\"><span style=\"font-weight: bold\">[</span><span style=\"color: #008080; text-decoration-color: #008080; font-weight: bold\">0.16489175</span> <span style=\"color: #008080; text-decoration-color: #008080; font-weight: bold\">0.17329295</span> <span style=\"color: #008080; text-decoration-color: #008080; font-weight: bold\">1</span>.        <span style=\"font-weight: bold\">]</span> <span style=\"color: #008080; text-decoration-color: #008080; font-weight: bold\">1</span>\n",
       "</pre>\n"
      ],
      "text/plain": [
       "\u001b[1m[\u001b[0m\u001b[1;36m0.16489175\u001b[0m \u001b[1;36m0.17329295\u001b[0m \u001b[1;36m1\u001b[0m.        \u001b[1m]\u001b[0m \u001b[1;36m1\u001b[0m\n"
      ]
     },
     "metadata": {},
     "output_type": "display_data"
    },
    {
     "data": {
      "text/html": [
       "<pre style=\"white-space:pre;overflow-x:auto;line-height:normal;font-family:Menlo,'DejaVu Sans Mono',consolas,'Courier New',monospace\"><span style=\"font-weight: bold\">[</span><span style=\"color: #008080; text-decoration-color: #008080; font-weight: bold\">0.16323557</span> <span style=\"color: #008080; text-decoration-color: #008080; font-weight: bold\">0.20240165</span> <span style=\"color: #008080; text-decoration-color: #008080; font-weight: bold\">1</span>.        <span style=\"font-weight: bold\">]</span> <span style=\"color: #008080; text-decoration-color: #008080; font-weight: bold\">1</span>\n",
       "</pre>\n"
      ],
      "text/plain": [
       "\u001b[1m[\u001b[0m\u001b[1;36m0.16323557\u001b[0m \u001b[1;36m0.20240165\u001b[0m \u001b[1;36m1\u001b[0m.        \u001b[1m]\u001b[0m \u001b[1;36m1\u001b[0m\n"
      ]
     },
     "metadata": {},
     "output_type": "display_data"
    },
    {
     "data": {
      "text/html": [
       "<pre style=\"white-space:pre;overflow-x:auto;line-height:normal;font-family:Menlo,'DejaVu Sans Mono',consolas,'Courier New',monospace\"><span style=\"font-weight: bold\">[</span><span style=\"color: #008080; text-decoration-color: #008080; font-weight: bold\">0.1352994</span>  <span style=\"color: #008080; text-decoration-color: #008080; font-weight: bold\">0.14266607</span> <span style=\"color: #008080; text-decoration-color: #008080; font-weight: bold\">1</span>.        <span style=\"font-weight: bold\">]</span> <span style=\"color: #008080; text-decoration-color: #008080; font-weight: bold\">1</span>\n",
       "</pre>\n"
      ],
      "text/plain": [
       "\u001b[1m[\u001b[0m\u001b[1;36m0.1352994\u001b[0m  \u001b[1;36m0.14266607\u001b[0m \u001b[1;36m1\u001b[0m.        \u001b[1m]\u001b[0m \u001b[1;36m1\u001b[0m\n"
      ]
     },
     "metadata": {},
     "output_type": "display_data"
    },
    {
     "data": {
      "text/html": [
       "<pre style=\"white-space:pre;overflow-x:auto;line-height:normal;font-family:Menlo,'DejaVu Sans Mono',consolas,'Courier New',monospace\"><span style=\"font-weight: bold\">[</span><span style=\"color: #008080; text-decoration-color: #008080; font-weight: bold\">0.12708941</span> <span style=\"color: #008080; text-decoration-color: #008080; font-weight: bold\">0.183449</span>   <span style=\"color: #008080; text-decoration-color: #008080; font-weight: bold\">1</span>.        <span style=\"font-weight: bold\">]</span> <span style=\"color: #008080; text-decoration-color: #008080; font-weight: bold\">1</span>\n",
       "</pre>\n"
      ],
      "text/plain": [
       "\u001b[1m[\u001b[0m\u001b[1;36m0.12708941\u001b[0m \u001b[1;36m0.183449\u001b[0m   \u001b[1;36m1\u001b[0m.        \u001b[1m]\u001b[0m \u001b[1;36m1\u001b[0m\n"
      ]
     },
     "metadata": {},
     "output_type": "display_data"
    },
    {
     "data": {
      "text/html": [
       "<pre style=\"white-space:pre;overflow-x:auto;line-height:normal;font-family:Menlo,'DejaVu Sans Mono',consolas,'Courier New',monospace\"><span style=\"font-weight: bold\">[</span><span style=\"color: #008080; text-decoration-color: #008080; font-weight: bold\">0.07591389</span> <span style=\"color: #008080; text-decoration-color: #008080; font-weight: bold\">0.08452931</span> <span style=\"color: #008080; text-decoration-color: #008080; font-weight: bold\">1</span>.        <span style=\"font-weight: bold\">]</span> <span style=\"color: #008080; text-decoration-color: #008080; font-weight: bold\">1</span>\n",
       "</pre>\n"
      ],
      "text/plain": [
       "\u001b[1m[\u001b[0m\u001b[1;36m0.07591389\u001b[0m \u001b[1;36m0.08452931\u001b[0m \u001b[1;36m1\u001b[0m.        \u001b[1m]\u001b[0m \u001b[1;36m1\u001b[0m\n"
      ]
     },
     "metadata": {},
     "output_type": "display_data"
    },
    {
     "data": {
      "text/html": [
       "<pre style=\"white-space:pre;overflow-x:auto;line-height:normal;font-family:Menlo,'DejaVu Sans Mono',consolas,'Courier New',monospace\"><span style=\"font-weight: bold\">[</span><span style=\"color: #008080; text-decoration-color: #008080; font-weight: bold\">0</span>. <span style=\"color: #008080; text-decoration-color: #008080; font-weight: bold\">0</span>. <span style=\"color: #008080; text-decoration-color: #008080; font-weight: bold\">2</span>.<span style=\"font-weight: bold\">]</span> <span style=\"color: #008080; text-decoration-color: #008080; font-weight: bold\">1</span>\n",
       "</pre>\n"
      ],
      "text/plain": [
       "\u001b[1m[\u001b[0m\u001b[1;36m0\u001b[0m. \u001b[1;36m0\u001b[0m. \u001b[1;36m2\u001b[0m.\u001b[1m]\u001b[0m \u001b[1;36m1\u001b[0m\n"
      ]
     },
     "metadata": {},
     "output_type": "display_data"
    }
   ],
   "source": [
    "for d in diag_AB[0]:\n",
    "    cntr = 0\n",
    "    for f in diag_AB[0]:\n",
    "        if np.array_equal(d,f):\n",
    "            cntr +=1\n",
    "    print(d, cntr)"
   ]
  },
  {
   "cell_type": "code",
   "execution_count": 8,
   "id": "edb90e48",
   "metadata": {},
   "outputs": [
    {
     "data": {
      "text/html": [
       "<pre style=\"white-space:pre;overflow-x:auto;line-height:normal;font-family:Menlo,'DejaVu Sans Mono',consolas,'Courier New',monospace\"><span style=\"font-weight: bold\">[</span><span style=\"color: #008080; text-decoration-color: #008080; font-weight: bold\">0</span>.         <span style=\"color: #008080; text-decoration-color: #008080; font-weight: bold\">0.00756312</span> <span style=\"color: #008080; text-decoration-color: #008080; font-weight: bold\">0</span>.        <span style=\"font-weight: bold\">]</span> <span style=\"color: #008080; text-decoration-color: #008080; font-weight: bold\">1</span>\n",
       "</pre>\n"
      ],
      "text/plain": [
       "\u001b[1m[\u001b[0m\u001b[1;36m0\u001b[0m.         \u001b[1;36m0.00756312\u001b[0m \u001b[1;36m0\u001b[0m.        \u001b[1m]\u001b[0m \u001b[1;36m1\u001b[0m\n"
      ]
     },
     "metadata": {},
     "output_type": "display_data"
    },
    {
     "data": {
      "text/html": [
       "<pre style=\"white-space:pre;overflow-x:auto;line-height:normal;font-family:Menlo,'DejaVu Sans Mono',consolas,'Courier New',monospace\"><span style=\"font-weight: bold\">[</span><span style=\"color: #008080; text-decoration-color: #008080; font-weight: bold\">0</span>.         <span style=\"color: #008080; text-decoration-color: #008080; font-weight: bold\">0.00850851</span> <span style=\"color: #008080; text-decoration-color: #008080; font-weight: bold\">0</span>.        <span style=\"font-weight: bold\">]</span> <span style=\"color: #008080; text-decoration-color: #008080; font-weight: bold\">1</span>\n",
       "</pre>\n"
      ],
      "text/plain": [
       "\u001b[1m[\u001b[0m\u001b[1;36m0\u001b[0m.         \u001b[1;36m0.00850851\u001b[0m \u001b[1;36m0\u001b[0m.        \u001b[1m]\u001b[0m \u001b[1;36m1\u001b[0m\n"
      ]
     },
     "metadata": {},
     "output_type": "display_data"
    },
    {
     "data": {
      "text/html": [
       "<pre style=\"white-space:pre;overflow-x:auto;line-height:normal;font-family:Menlo,'DejaVu Sans Mono',consolas,'Courier New',monospace\"><span style=\"font-weight: bold\">[</span><span style=\"color: #008080; text-decoration-color: #008080; font-weight: bold\">0</span>.         <span style=\"color: #008080; text-decoration-color: #008080; font-weight: bold\">0.02203136</span> <span style=\"color: #008080; text-decoration-color: #008080; font-weight: bold\">0</span>.        <span style=\"font-weight: bold\">]</span> <span style=\"color: #008080; text-decoration-color: #008080; font-weight: bold\">1</span>\n",
       "</pre>\n"
      ],
      "text/plain": [
       "\u001b[1m[\u001b[0m\u001b[1;36m0\u001b[0m.         \u001b[1;36m0.02203136\u001b[0m \u001b[1;36m0\u001b[0m.        \u001b[1m]\u001b[0m \u001b[1;36m1\u001b[0m\n"
      ]
     },
     "metadata": {},
     "output_type": "display_data"
    },
    {
     "data": {
      "text/html": [
       "<pre style=\"white-space:pre;overflow-x:auto;line-height:normal;font-family:Menlo,'DejaVu Sans Mono',consolas,'Courier New',monospace\"><span style=\"font-weight: bold\">[</span><span style=\"color: #008080; text-decoration-color: #008080; font-weight: bold\">0</span>.         <span style=\"color: #008080; text-decoration-color: #008080; font-weight: bold\">0.02691423</span> <span style=\"color: #008080; text-decoration-color: #008080; font-weight: bold\">0</span>.        <span style=\"font-weight: bold\">]</span> <span style=\"color: #008080; text-decoration-color: #008080; font-weight: bold\">1</span>\n",
       "</pre>\n"
      ],
      "text/plain": [
       "\u001b[1m[\u001b[0m\u001b[1;36m0\u001b[0m.         \u001b[1;36m0.02691423\u001b[0m \u001b[1;36m0\u001b[0m.        \u001b[1m]\u001b[0m \u001b[1;36m1\u001b[0m\n"
      ]
     },
     "metadata": {},
     "output_type": "display_data"
    },
    {
     "data": {
      "text/html": [
       "<pre style=\"white-space:pre;overflow-x:auto;line-height:normal;font-family:Menlo,'DejaVu Sans Mono',consolas,'Courier New',monospace\"><span style=\"font-weight: bold\">[</span><span style=\"color: #008080; text-decoration-color: #008080; font-weight: bold\">0</span>.         <span style=\"color: #008080; text-decoration-color: #008080; font-weight: bold\">0.02786582</span> <span style=\"color: #008080; text-decoration-color: #008080; font-weight: bold\">0</span>.        <span style=\"font-weight: bold\">]</span> <span style=\"color: #008080; text-decoration-color: #008080; font-weight: bold\">1</span>\n",
       "</pre>\n"
      ],
      "text/plain": [
       "\u001b[1m[\u001b[0m\u001b[1;36m0\u001b[0m.         \u001b[1;36m0.02786582\u001b[0m \u001b[1;36m0\u001b[0m.        \u001b[1m]\u001b[0m \u001b[1;36m1\u001b[0m\n"
      ]
     },
     "metadata": {},
     "output_type": "display_data"
    },
    {
     "data": {
      "text/html": [
       "<pre style=\"white-space:pre;overflow-x:auto;line-height:normal;font-family:Menlo,'DejaVu Sans Mono',consolas,'Courier New',monospace\"><span style=\"font-weight: bold\">[</span><span style=\"color: #008080; text-decoration-color: #008080; font-weight: bold\">0</span>.         <span style=\"color: #008080; text-decoration-color: #008080; font-weight: bold\">0.02881265</span> <span style=\"color: #008080; text-decoration-color: #008080; font-weight: bold\">0</span>.        <span style=\"font-weight: bold\">]</span> <span style=\"color: #008080; text-decoration-color: #008080; font-weight: bold\">1</span>\n",
       "</pre>\n"
      ],
      "text/plain": [
       "\u001b[1m[\u001b[0m\u001b[1;36m0\u001b[0m.         \u001b[1;36m0.02881265\u001b[0m \u001b[1;36m0\u001b[0m.        \u001b[1m]\u001b[0m \u001b[1;36m1\u001b[0m\n"
      ]
     },
     "metadata": {},
     "output_type": "display_data"
    },
    {
     "data": {
      "text/html": [
       "<pre style=\"white-space:pre;overflow-x:auto;line-height:normal;font-family:Menlo,'DejaVu Sans Mono',consolas,'Courier New',monospace\"><span style=\"font-weight: bold\">[</span><span style=\"color: #008080; text-decoration-color: #008080; font-weight: bold\">0</span>.         <span style=\"color: #008080; text-decoration-color: #008080; font-weight: bold\">0.03057356</span> <span style=\"color: #008080; text-decoration-color: #008080; font-weight: bold\">0</span>.        <span style=\"font-weight: bold\">]</span> <span style=\"color: #008080; text-decoration-color: #008080; font-weight: bold\">1</span>\n",
       "</pre>\n"
      ],
      "text/plain": [
       "\u001b[1m[\u001b[0m\u001b[1;36m0\u001b[0m.         \u001b[1;36m0.03057356\u001b[0m \u001b[1;36m0\u001b[0m.        \u001b[1m]\u001b[0m \u001b[1;36m1\u001b[0m\n"
      ]
     },
     "metadata": {},
     "output_type": "display_data"
    },
    {
     "data": {
      "text/html": [
       "<pre style=\"white-space:pre;overflow-x:auto;line-height:normal;font-family:Menlo,'DejaVu Sans Mono',consolas,'Courier New',monospace\"><span style=\"font-weight: bold\">[</span><span style=\"color: #008080; text-decoration-color: #008080; font-weight: bold\">0</span>.        <span style=\"color: #008080; text-decoration-color: #008080; font-weight: bold\">0.0322778</span> <span style=\"color: #008080; text-decoration-color: #008080; font-weight: bold\">0</span>.       <span style=\"font-weight: bold\">]</span> <span style=\"color: #008080; text-decoration-color: #008080; font-weight: bold\">1</span>\n",
       "</pre>\n"
      ],
      "text/plain": [
       "\u001b[1m[\u001b[0m\u001b[1;36m0\u001b[0m.        \u001b[1;36m0.0322778\u001b[0m \u001b[1;36m0\u001b[0m.       \u001b[1m]\u001b[0m \u001b[1;36m1\u001b[0m\n"
      ]
     },
     "metadata": {},
     "output_type": "display_data"
    },
    {
     "data": {
      "text/html": [
       "<pre style=\"white-space:pre;overflow-x:auto;line-height:normal;font-family:Menlo,'DejaVu Sans Mono',consolas,'Courier New',monospace\"><span style=\"font-weight: bold\">[</span><span style=\"color: #008080; text-decoration-color: #008080; font-weight: bold\">0</span>.         <span style=\"color: #008080; text-decoration-color: #008080; font-weight: bold\">0.03430581</span> <span style=\"color: #008080; text-decoration-color: #008080; font-weight: bold\">0</span>.        <span style=\"font-weight: bold\">]</span> <span style=\"color: #008080; text-decoration-color: #008080; font-weight: bold\">1</span>\n",
       "</pre>\n"
      ],
      "text/plain": [
       "\u001b[1m[\u001b[0m\u001b[1;36m0\u001b[0m.         \u001b[1;36m0.03430581\u001b[0m \u001b[1;36m0\u001b[0m.        \u001b[1m]\u001b[0m \u001b[1;36m1\u001b[0m\n"
      ]
     },
     "metadata": {},
     "output_type": "display_data"
    },
    {
     "data": {
      "text/html": [
       "<pre style=\"white-space:pre;overflow-x:auto;line-height:normal;font-family:Menlo,'DejaVu Sans Mono',consolas,'Courier New',monospace\"><span style=\"font-weight: bold\">[</span><span style=\"color: #008080; text-decoration-color: #008080; font-weight: bold\">0</span>.         <span style=\"color: #008080; text-decoration-color: #008080; font-weight: bold\">0.03654153</span> <span style=\"color: #008080; text-decoration-color: #008080; font-weight: bold\">0</span>.        <span style=\"font-weight: bold\">]</span> <span style=\"color: #008080; text-decoration-color: #008080; font-weight: bold\">1</span>\n",
       "</pre>\n"
      ],
      "text/plain": [
       "\u001b[1m[\u001b[0m\u001b[1;36m0\u001b[0m.         \u001b[1;36m0.03654153\u001b[0m \u001b[1;36m0\u001b[0m.        \u001b[1m]\u001b[0m \u001b[1;36m1\u001b[0m\n"
      ]
     },
     "metadata": {},
     "output_type": "display_data"
    },
    {
     "data": {
      "text/html": [
       "<pre style=\"white-space:pre;overflow-x:auto;line-height:normal;font-family:Menlo,'DejaVu Sans Mono',consolas,'Courier New',monospace\"><span style=\"font-weight: bold\">[</span><span style=\"color: #008080; text-decoration-color: #008080; font-weight: bold\">0</span>.         <span style=\"color: #008080; text-decoration-color: #008080; font-weight: bold\">0.03704468</span> <span style=\"color: #008080; text-decoration-color: #008080; font-weight: bold\">0</span>.        <span style=\"font-weight: bold\">]</span> <span style=\"color: #008080; text-decoration-color: #008080; font-weight: bold\">1</span>\n",
       "</pre>\n"
      ],
      "text/plain": [
       "\u001b[1m[\u001b[0m\u001b[1;36m0\u001b[0m.         \u001b[1;36m0.03704468\u001b[0m \u001b[1;36m0\u001b[0m.        \u001b[1m]\u001b[0m \u001b[1;36m1\u001b[0m\n"
      ]
     },
     "metadata": {},
     "output_type": "display_data"
    },
    {
     "data": {
      "text/html": [
       "<pre style=\"white-space:pre;overflow-x:auto;line-height:normal;font-family:Menlo,'DejaVu Sans Mono',consolas,'Courier New',monospace\"><span style=\"font-weight: bold\">[</span><span style=\"color: #008080; text-decoration-color: #008080; font-weight: bold\">0</span>.         <span style=\"color: #008080; text-decoration-color: #008080; font-weight: bold\">0.03996892</span> <span style=\"color: #008080; text-decoration-color: #008080; font-weight: bold\">0</span>.        <span style=\"font-weight: bold\">]</span> <span style=\"color: #008080; text-decoration-color: #008080; font-weight: bold\">1</span>\n",
       "</pre>\n"
      ],
      "text/plain": [
       "\u001b[1m[\u001b[0m\u001b[1;36m0\u001b[0m.         \u001b[1;36m0.03996892\u001b[0m \u001b[1;36m0\u001b[0m.        \u001b[1m]\u001b[0m \u001b[1;36m1\u001b[0m\n"
      ]
     },
     "metadata": {},
     "output_type": "display_data"
    },
    {
     "data": {
      "text/html": [
       "<pre style=\"white-space:pre;overflow-x:auto;line-height:normal;font-family:Menlo,'DejaVu Sans Mono',consolas,'Courier New',monospace\"><span style=\"font-weight: bold\">[</span><span style=\"color: #008080; text-decoration-color: #008080; font-weight: bold\">0</span>.        <span style=\"color: #008080; text-decoration-color: #008080; font-weight: bold\">0.0412185</span> <span style=\"color: #008080; text-decoration-color: #008080; font-weight: bold\">0</span>.       <span style=\"font-weight: bold\">]</span> <span style=\"color: #008080; text-decoration-color: #008080; font-weight: bold\">1</span>\n",
       "</pre>\n"
      ],
      "text/plain": [
       "\u001b[1m[\u001b[0m\u001b[1;36m0\u001b[0m.        \u001b[1;36m0.0412185\u001b[0m \u001b[1;36m0\u001b[0m.       \u001b[1m]\u001b[0m \u001b[1;36m1\u001b[0m\n"
      ]
     },
     "metadata": {},
     "output_type": "display_data"
    },
    {
     "data": {
      "text/html": [
       "<pre style=\"white-space:pre;overflow-x:auto;line-height:normal;font-family:Menlo,'DejaVu Sans Mono',consolas,'Courier New',monospace\"><span style=\"font-weight: bold\">[</span><span style=\"color: #008080; text-decoration-color: #008080; font-weight: bold\">0</span>.         <span style=\"color: #008080; text-decoration-color: #008080; font-weight: bold\">0.04148968</span> <span style=\"color: #008080; text-decoration-color: #008080; font-weight: bold\">0</span>.        <span style=\"font-weight: bold\">]</span> <span style=\"color: #008080; text-decoration-color: #008080; font-weight: bold\">1</span>\n",
       "</pre>\n"
      ],
      "text/plain": [
       "\u001b[1m[\u001b[0m\u001b[1;36m0\u001b[0m.         \u001b[1;36m0.04148968\u001b[0m \u001b[1;36m0\u001b[0m.        \u001b[1m]\u001b[0m \u001b[1;36m1\u001b[0m\n"
      ]
     },
     "metadata": {},
     "output_type": "display_data"
    },
    {
     "data": {
      "text/html": [
       "<pre style=\"white-space:pre;overflow-x:auto;line-height:normal;font-family:Menlo,'DejaVu Sans Mono',consolas,'Courier New',monospace\"><span style=\"font-weight: bold\">[</span><span style=\"color: #008080; text-decoration-color: #008080; font-weight: bold\">0</span>.         <span style=\"color: #008080; text-decoration-color: #008080; font-weight: bold\">0.04167359</span> <span style=\"color: #008080; text-decoration-color: #008080; font-weight: bold\">0</span>.        <span style=\"font-weight: bold\">]</span> <span style=\"color: #008080; text-decoration-color: #008080; font-weight: bold\">1</span>\n",
       "</pre>\n"
      ],
      "text/plain": [
       "\u001b[1m[\u001b[0m\u001b[1;36m0\u001b[0m.         \u001b[1;36m0.04167359\u001b[0m \u001b[1;36m0\u001b[0m.        \u001b[1m]\u001b[0m \u001b[1;36m1\u001b[0m\n"
      ]
     },
     "metadata": {},
     "output_type": "display_data"
    },
    {
     "data": {
      "text/html": [
       "<pre style=\"white-space:pre;overflow-x:auto;line-height:normal;font-family:Menlo,'DejaVu Sans Mono',consolas,'Courier New',monospace\"><span style=\"font-weight: bold\">[</span><span style=\"color: #008080; text-decoration-color: #008080; font-weight: bold\">0</span>.         <span style=\"color: #008080; text-decoration-color: #008080; font-weight: bold\">0.04344597</span> <span style=\"color: #008080; text-decoration-color: #008080; font-weight: bold\">0</span>.        <span style=\"font-weight: bold\">]</span> <span style=\"color: #008080; text-decoration-color: #008080; font-weight: bold\">1</span>\n",
       "</pre>\n"
      ],
      "text/plain": [
       "\u001b[1m[\u001b[0m\u001b[1;36m0\u001b[0m.         \u001b[1;36m0.04344597\u001b[0m \u001b[1;36m0\u001b[0m.        \u001b[1m]\u001b[0m \u001b[1;36m1\u001b[0m\n"
      ]
     },
     "metadata": {},
     "output_type": "display_data"
    },
    {
     "data": {
      "text/html": [
       "<pre style=\"white-space:pre;overflow-x:auto;line-height:normal;font-family:Menlo,'DejaVu Sans Mono',consolas,'Courier New',monospace\"><span style=\"font-weight: bold\">[</span><span style=\"color: #008080; text-decoration-color: #008080; font-weight: bold\">0</span>.         <span style=\"color: #008080; text-decoration-color: #008080; font-weight: bold\">0.04476749</span> <span style=\"color: #008080; text-decoration-color: #008080; font-weight: bold\">0</span>.        <span style=\"font-weight: bold\">]</span> <span style=\"color: #008080; text-decoration-color: #008080; font-weight: bold\">1</span>\n",
       "</pre>\n"
      ],
      "text/plain": [
       "\u001b[1m[\u001b[0m\u001b[1;36m0\u001b[0m.         \u001b[1;36m0.04476749\u001b[0m \u001b[1;36m0\u001b[0m.        \u001b[1m]\u001b[0m \u001b[1;36m1\u001b[0m\n"
      ]
     },
     "metadata": {},
     "output_type": "display_data"
    },
    {
     "data": {
      "text/html": [
       "<pre style=\"white-space:pre;overflow-x:auto;line-height:normal;font-family:Menlo,'DejaVu Sans Mono',consolas,'Courier New',monospace\"><span style=\"font-weight: bold\">[</span><span style=\"color: #008080; text-decoration-color: #008080; font-weight: bold\">0</span>.         <span style=\"color: #008080; text-decoration-color: #008080; font-weight: bold\">0.04477095</span> <span style=\"color: #008080; text-decoration-color: #008080; font-weight: bold\">0</span>.        <span style=\"font-weight: bold\">]</span> <span style=\"color: #008080; text-decoration-color: #008080; font-weight: bold\">1</span>\n",
       "</pre>\n"
      ],
      "text/plain": [
       "\u001b[1m[\u001b[0m\u001b[1;36m0\u001b[0m.         \u001b[1;36m0.04477095\u001b[0m \u001b[1;36m0\u001b[0m.        \u001b[1m]\u001b[0m \u001b[1;36m1\u001b[0m\n"
      ]
     },
     "metadata": {},
     "output_type": "display_data"
    },
    {
     "data": {
      "text/html": [
       "<pre style=\"white-space:pre;overflow-x:auto;line-height:normal;font-family:Menlo,'DejaVu Sans Mono',consolas,'Courier New',monospace\"><span style=\"font-weight: bold\">[</span><span style=\"color: #008080; text-decoration-color: #008080; font-weight: bold\">0</span>.         <span style=\"color: #008080; text-decoration-color: #008080; font-weight: bold\">0.04699394</span> <span style=\"color: #008080; text-decoration-color: #008080; font-weight: bold\">0</span>.        <span style=\"font-weight: bold\">]</span> <span style=\"color: #008080; text-decoration-color: #008080; font-weight: bold\">1</span>\n",
       "</pre>\n"
      ],
      "text/plain": [
       "\u001b[1m[\u001b[0m\u001b[1;36m0\u001b[0m.         \u001b[1;36m0.04699394\u001b[0m \u001b[1;36m0\u001b[0m.        \u001b[1m]\u001b[0m \u001b[1;36m1\u001b[0m\n"
      ]
     },
     "metadata": {},
     "output_type": "display_data"
    },
    {
     "data": {
      "text/html": [
       "<pre style=\"white-space:pre;overflow-x:auto;line-height:normal;font-family:Menlo,'DejaVu Sans Mono',consolas,'Courier New',monospace\"><span style=\"font-weight: bold\">[</span><span style=\"color: #008080; text-decoration-color: #008080; font-weight: bold\">0</span>.         <span style=\"color: #008080; text-decoration-color: #008080; font-weight: bold\">0.04843784</span> <span style=\"color: #008080; text-decoration-color: #008080; font-weight: bold\">0</span>.        <span style=\"font-weight: bold\">]</span> <span style=\"color: #008080; text-decoration-color: #008080; font-weight: bold\">1</span>\n",
       "</pre>\n"
      ],
      "text/plain": [
       "\u001b[1m[\u001b[0m\u001b[1;36m0\u001b[0m.         \u001b[1;36m0.04843784\u001b[0m \u001b[1;36m0\u001b[0m.        \u001b[1m]\u001b[0m \u001b[1;36m1\u001b[0m\n"
      ]
     },
     "metadata": {},
     "output_type": "display_data"
    },
    {
     "data": {
      "text/html": [
       "<pre style=\"white-space:pre;overflow-x:auto;line-height:normal;font-family:Menlo,'DejaVu Sans Mono',consolas,'Courier New',monospace\"><span style=\"font-weight: bold\">[</span><span style=\"color: #008080; text-decoration-color: #008080; font-weight: bold\">0</span>.         <span style=\"color: #008080; text-decoration-color: #008080; font-weight: bold\">0.04865921</span> <span style=\"color: #008080; text-decoration-color: #008080; font-weight: bold\">0</span>.        <span style=\"font-weight: bold\">]</span> <span style=\"color: #008080; text-decoration-color: #008080; font-weight: bold\">1</span>\n",
       "</pre>\n"
      ],
      "text/plain": [
       "\u001b[1m[\u001b[0m\u001b[1;36m0\u001b[0m.         \u001b[1;36m0.04865921\u001b[0m \u001b[1;36m0\u001b[0m.        \u001b[1m]\u001b[0m \u001b[1;36m1\u001b[0m\n"
      ]
     },
     "metadata": {},
     "output_type": "display_data"
    },
    {
     "data": {
      "text/html": [
       "<pre style=\"white-space:pre;overflow-x:auto;line-height:normal;font-family:Menlo,'DejaVu Sans Mono',consolas,'Courier New',monospace\"><span style=\"font-weight: bold\">[</span><span style=\"color: #008080; text-decoration-color: #008080; font-weight: bold\">0</span>.         <span style=\"color: #008080; text-decoration-color: #008080; font-weight: bold\">0.04990238</span> <span style=\"color: #008080; text-decoration-color: #008080; font-weight: bold\">0</span>.        <span style=\"font-weight: bold\">]</span> <span style=\"color: #008080; text-decoration-color: #008080; font-weight: bold\">1</span>\n",
       "</pre>\n"
      ],
      "text/plain": [
       "\u001b[1m[\u001b[0m\u001b[1;36m0\u001b[0m.         \u001b[1;36m0.04990238\u001b[0m \u001b[1;36m0\u001b[0m.        \u001b[1m]\u001b[0m \u001b[1;36m1\u001b[0m\n"
      ]
     },
     "metadata": {},
     "output_type": "display_data"
    },
    {
     "data": {
      "text/html": [
       "<pre style=\"white-space:pre;overflow-x:auto;line-height:normal;font-family:Menlo,'DejaVu Sans Mono',consolas,'Courier New',monospace\"><span style=\"font-weight: bold\">[</span><span style=\"color: #008080; text-decoration-color: #008080; font-weight: bold\">0</span>.         <span style=\"color: #008080; text-decoration-color: #008080; font-weight: bold\">0.05155984</span> <span style=\"color: #008080; text-decoration-color: #008080; font-weight: bold\">0</span>.        <span style=\"font-weight: bold\">]</span> <span style=\"color: #008080; text-decoration-color: #008080; font-weight: bold\">1</span>\n",
       "</pre>\n"
      ],
      "text/plain": [
       "\u001b[1m[\u001b[0m\u001b[1;36m0\u001b[0m.         \u001b[1;36m0.05155984\u001b[0m \u001b[1;36m0\u001b[0m.        \u001b[1m]\u001b[0m \u001b[1;36m1\u001b[0m\n"
      ]
     },
     "metadata": {},
     "output_type": "display_data"
    },
    {
     "data": {
      "text/html": [
       "<pre style=\"white-space:pre;overflow-x:auto;line-height:normal;font-family:Menlo,'DejaVu Sans Mono',consolas,'Courier New',monospace\"><span style=\"font-weight: bold\">[</span><span style=\"color: #008080; text-decoration-color: #008080; font-weight: bold\">0</span>.         <span style=\"color: #008080; text-decoration-color: #008080; font-weight: bold\">0.05234434</span> <span style=\"color: #008080; text-decoration-color: #008080; font-weight: bold\">0</span>.        <span style=\"font-weight: bold\">]</span> <span style=\"color: #008080; text-decoration-color: #008080; font-weight: bold\">1</span>\n",
       "</pre>\n"
      ],
      "text/plain": [
       "\u001b[1m[\u001b[0m\u001b[1;36m0\u001b[0m.         \u001b[1;36m0.05234434\u001b[0m \u001b[1;36m0\u001b[0m.        \u001b[1m]\u001b[0m \u001b[1;36m1\u001b[0m\n"
      ]
     },
     "metadata": {},
     "output_type": "display_data"
    },
    {
     "data": {
      "text/html": [
       "<pre style=\"white-space:pre;overflow-x:auto;line-height:normal;font-family:Menlo,'DejaVu Sans Mono',consolas,'Courier New',monospace\"><span style=\"font-weight: bold\">[</span><span style=\"color: #008080; text-decoration-color: #008080; font-weight: bold\">0</span>.         <span style=\"color: #008080; text-decoration-color: #008080; font-weight: bold\">0.05283032</span> <span style=\"color: #008080; text-decoration-color: #008080; font-weight: bold\">0</span>.        <span style=\"font-weight: bold\">]</span> <span style=\"color: #008080; text-decoration-color: #008080; font-weight: bold\">1</span>\n",
       "</pre>\n"
      ],
      "text/plain": [
       "\u001b[1m[\u001b[0m\u001b[1;36m0\u001b[0m.         \u001b[1;36m0.05283032\u001b[0m \u001b[1;36m0\u001b[0m.        \u001b[1m]\u001b[0m \u001b[1;36m1\u001b[0m\n"
      ]
     },
     "metadata": {},
     "output_type": "display_data"
    },
    {
     "data": {
      "text/html": [
       "<pre style=\"white-space:pre;overflow-x:auto;line-height:normal;font-family:Menlo,'DejaVu Sans Mono',consolas,'Courier New',monospace\"><span style=\"font-weight: bold\">[</span><span style=\"color: #008080; text-decoration-color: #008080; font-weight: bold\">0</span>.       <span style=\"color: #008080; text-decoration-color: #008080; font-weight: bold\">0.056972</span> <span style=\"color: #008080; text-decoration-color: #008080; font-weight: bold\">0</span>.      <span style=\"font-weight: bold\">]</span> <span style=\"color: #008080; text-decoration-color: #008080; font-weight: bold\">1</span>\n",
       "</pre>\n"
      ],
      "text/plain": [
       "\u001b[1m[\u001b[0m\u001b[1;36m0\u001b[0m.       \u001b[1;36m0.056972\u001b[0m \u001b[1;36m0\u001b[0m.      \u001b[1m]\u001b[0m \u001b[1;36m1\u001b[0m\n"
      ]
     },
     "metadata": {},
     "output_type": "display_data"
    },
    {
     "data": {
      "text/html": [
       "<pre style=\"white-space:pre;overflow-x:auto;line-height:normal;font-family:Menlo,'DejaVu Sans Mono',consolas,'Courier New',monospace\"><span style=\"font-weight: bold\">[</span><span style=\"color: #008080; text-decoration-color: #008080; font-weight: bold\">0</span>.         <span style=\"color: #008080; text-decoration-color: #008080; font-weight: bold\">0.05743338</span> <span style=\"color: #008080; text-decoration-color: #008080; font-weight: bold\">0</span>.        <span style=\"font-weight: bold\">]</span> <span style=\"color: #008080; text-decoration-color: #008080; font-weight: bold\">1</span>\n",
       "</pre>\n"
      ],
      "text/plain": [
       "\u001b[1m[\u001b[0m\u001b[1;36m0\u001b[0m.         \u001b[1;36m0.05743338\u001b[0m \u001b[1;36m0\u001b[0m.        \u001b[1m]\u001b[0m \u001b[1;36m1\u001b[0m\n"
      ]
     },
     "metadata": {},
     "output_type": "display_data"
    },
    {
     "data": {
      "text/html": [
       "<pre style=\"white-space:pre;overflow-x:auto;line-height:normal;font-family:Menlo,'DejaVu Sans Mono',consolas,'Courier New',monospace\"><span style=\"font-weight: bold\">[</span><span style=\"color: #008080; text-decoration-color: #008080; font-weight: bold\">0</span>.         <span style=\"color: #008080; text-decoration-color: #008080; font-weight: bold\">0.05817095</span> <span style=\"color: #008080; text-decoration-color: #008080; font-weight: bold\">0</span>.        <span style=\"font-weight: bold\">]</span> <span style=\"color: #008080; text-decoration-color: #008080; font-weight: bold\">1</span>\n",
       "</pre>\n"
      ],
      "text/plain": [
       "\u001b[1m[\u001b[0m\u001b[1;36m0\u001b[0m.         \u001b[1;36m0.05817095\u001b[0m \u001b[1;36m0\u001b[0m.        \u001b[1m]\u001b[0m \u001b[1;36m1\u001b[0m\n"
      ]
     },
     "metadata": {},
     "output_type": "display_data"
    },
    {
     "data": {
      "text/html": [
       "<pre style=\"white-space:pre;overflow-x:auto;line-height:normal;font-family:Menlo,'DejaVu Sans Mono',consolas,'Courier New',monospace\"><span style=\"font-weight: bold\">[</span><span style=\"color: #008080; text-decoration-color: #008080; font-weight: bold\">0</span>.        <span style=\"color: #008080; text-decoration-color: #008080; font-weight: bold\">0.0602726</span> <span style=\"color: #008080; text-decoration-color: #008080; font-weight: bold\">0</span>.       <span style=\"font-weight: bold\">]</span> <span style=\"color: #008080; text-decoration-color: #008080; font-weight: bold\">1</span>\n",
       "</pre>\n"
      ],
      "text/plain": [
       "\u001b[1m[\u001b[0m\u001b[1;36m0\u001b[0m.        \u001b[1;36m0.0602726\u001b[0m \u001b[1;36m0\u001b[0m.       \u001b[1m]\u001b[0m \u001b[1;36m1\u001b[0m\n"
      ]
     },
     "metadata": {},
     "output_type": "display_data"
    },
    {
     "data": {
      "text/html": [
       "<pre style=\"white-space:pre;overflow-x:auto;line-height:normal;font-family:Menlo,'DejaVu Sans Mono',consolas,'Courier New',monospace\"><span style=\"font-weight: bold\">[</span><span style=\"color: #008080; text-decoration-color: #008080; font-weight: bold\">0</span>.         <span style=\"color: #008080; text-decoration-color: #008080; font-weight: bold\">0.06226543</span> <span style=\"color: #008080; text-decoration-color: #008080; font-weight: bold\">0</span>.        <span style=\"font-weight: bold\">]</span> <span style=\"color: #008080; text-decoration-color: #008080; font-weight: bold\">1</span>\n",
       "</pre>\n"
      ],
      "text/plain": [
       "\u001b[1m[\u001b[0m\u001b[1;36m0\u001b[0m.         \u001b[1;36m0.06226543\u001b[0m \u001b[1;36m0\u001b[0m.        \u001b[1m]\u001b[0m \u001b[1;36m1\u001b[0m\n"
      ]
     },
     "metadata": {},
     "output_type": "display_data"
    },
    {
     "data": {
      "text/html": [
       "<pre style=\"white-space:pre;overflow-x:auto;line-height:normal;font-family:Menlo,'DejaVu Sans Mono',consolas,'Courier New',monospace\"><span style=\"font-weight: bold\">[</span><span style=\"color: #008080; text-decoration-color: #008080; font-weight: bold\">0</span>.         <span style=\"color: #008080; text-decoration-color: #008080; font-weight: bold\">0.06229206</span> <span style=\"color: #008080; text-decoration-color: #008080; font-weight: bold\">0</span>.        <span style=\"font-weight: bold\">]</span> <span style=\"color: #008080; text-decoration-color: #008080; font-weight: bold\">1</span>\n",
       "</pre>\n"
      ],
      "text/plain": [
       "\u001b[1m[\u001b[0m\u001b[1;36m0\u001b[0m.         \u001b[1;36m0.06229206\u001b[0m \u001b[1;36m0\u001b[0m.        \u001b[1m]\u001b[0m \u001b[1;36m1\u001b[0m\n"
      ]
     },
     "metadata": {},
     "output_type": "display_data"
    },
    {
     "data": {
      "text/html": [
       "<pre style=\"white-space:pre;overflow-x:auto;line-height:normal;font-family:Menlo,'DejaVu Sans Mono',consolas,'Courier New',monospace\"><span style=\"font-weight: bold\">[</span><span style=\"color: #008080; text-decoration-color: #008080; font-weight: bold\">0</span>.         <span style=\"color: #008080; text-decoration-color: #008080; font-weight: bold\">0.06349709</span> <span style=\"color: #008080; text-decoration-color: #008080; font-weight: bold\">0</span>.        <span style=\"font-weight: bold\">]</span> <span style=\"color: #008080; text-decoration-color: #008080; font-weight: bold\">1</span>\n",
       "</pre>\n"
      ],
      "text/plain": [
       "\u001b[1m[\u001b[0m\u001b[1;36m0\u001b[0m.         \u001b[1;36m0.06349709\u001b[0m \u001b[1;36m0\u001b[0m.        \u001b[1m]\u001b[0m \u001b[1;36m1\u001b[0m\n"
      ]
     },
     "metadata": {},
     "output_type": "display_data"
    },
    {
     "data": {
      "text/html": [
       "<pre style=\"white-space:pre;overflow-x:auto;line-height:normal;font-family:Menlo,'DejaVu Sans Mono',consolas,'Courier New',monospace\"><span style=\"font-weight: bold\">[</span><span style=\"color: #008080; text-decoration-color: #008080; font-weight: bold\">0</span>.         <span style=\"color: #008080; text-decoration-color: #008080; font-weight: bold\">0.06523006</span> <span style=\"color: #008080; text-decoration-color: #008080; font-weight: bold\">0</span>.        <span style=\"font-weight: bold\">]</span> <span style=\"color: #008080; text-decoration-color: #008080; font-weight: bold\">1</span>\n",
       "</pre>\n"
      ],
      "text/plain": [
       "\u001b[1m[\u001b[0m\u001b[1;36m0\u001b[0m.         \u001b[1;36m0.06523006\u001b[0m \u001b[1;36m0\u001b[0m.        \u001b[1m]\u001b[0m \u001b[1;36m1\u001b[0m\n"
      ]
     },
     "metadata": {},
     "output_type": "display_data"
    },
    {
     "data": {
      "text/html": [
       "<pre style=\"white-space:pre;overflow-x:auto;line-height:normal;font-family:Menlo,'DejaVu Sans Mono',consolas,'Courier New',monospace\"><span style=\"font-weight: bold\">[</span><span style=\"color: #008080; text-decoration-color: #008080; font-weight: bold\">0</span>.         <span style=\"color: #008080; text-decoration-color: #008080; font-weight: bold\">0.07123774</span> <span style=\"color: #008080; text-decoration-color: #008080; font-weight: bold\">0</span>.        <span style=\"font-weight: bold\">]</span> <span style=\"color: #008080; text-decoration-color: #008080; font-weight: bold\">1</span>\n",
       "</pre>\n"
      ],
      "text/plain": [
       "\u001b[1m[\u001b[0m\u001b[1;36m0\u001b[0m.         \u001b[1;36m0.07123774\u001b[0m \u001b[1;36m0\u001b[0m.        \u001b[1m]\u001b[0m \u001b[1;36m1\u001b[0m\n"
      ]
     },
     "metadata": {},
     "output_type": "display_data"
    },
    {
     "data": {
      "text/html": [
       "<pre style=\"white-space:pre;overflow-x:auto;line-height:normal;font-family:Menlo,'DejaVu Sans Mono',consolas,'Courier New',monospace\"><span style=\"font-weight: bold\">[</span><span style=\"color: #008080; text-decoration-color: #008080; font-weight: bold\">0</span>.         <span style=\"color: #008080; text-decoration-color: #008080; font-weight: bold\">0.07376839</span> <span style=\"color: #008080; text-decoration-color: #008080; font-weight: bold\">0</span>.        <span style=\"font-weight: bold\">]</span> <span style=\"color: #008080; text-decoration-color: #008080; font-weight: bold\">1</span>\n",
       "</pre>\n"
      ],
      "text/plain": [
       "\u001b[1m[\u001b[0m\u001b[1;36m0\u001b[0m.         \u001b[1;36m0.07376839\u001b[0m \u001b[1;36m0\u001b[0m.        \u001b[1m]\u001b[0m \u001b[1;36m1\u001b[0m\n"
      ]
     },
     "metadata": {},
     "output_type": "display_data"
    },
    {
     "data": {
      "text/html": [
       "<pre style=\"white-space:pre;overflow-x:auto;line-height:normal;font-family:Menlo,'DejaVu Sans Mono',consolas,'Courier New',monospace\"><span style=\"font-weight: bold\">[</span><span style=\"color: #008080; text-decoration-color: #008080; font-weight: bold\">0</span>.         <span style=\"color: #008080; text-decoration-color: #008080; font-weight: bold\">0.07971372</span> <span style=\"color: #008080; text-decoration-color: #008080; font-weight: bold\">0</span>.        <span style=\"font-weight: bold\">]</span> <span style=\"color: #008080; text-decoration-color: #008080; font-weight: bold\">1</span>\n",
       "</pre>\n"
      ],
      "text/plain": [
       "\u001b[1m[\u001b[0m\u001b[1;36m0\u001b[0m.         \u001b[1;36m0.07971372\u001b[0m \u001b[1;36m0\u001b[0m.        \u001b[1m]\u001b[0m \u001b[1;36m1\u001b[0m\n"
      ]
     },
     "metadata": {},
     "output_type": "display_data"
    },
    {
     "data": {
      "text/html": [
       "<pre style=\"white-space:pre;overflow-x:auto;line-height:normal;font-family:Menlo,'DejaVu Sans Mono',consolas,'Courier New',monospace\"><span style=\"font-weight: bold\">[</span><span style=\"color: #008080; text-decoration-color: #008080; font-weight: bold\">0</span>.         <span style=\"color: #008080; text-decoration-color: #008080; font-weight: bold\">0.08317983</span> <span style=\"color: #008080; text-decoration-color: #008080; font-weight: bold\">0</span>.        <span style=\"font-weight: bold\">]</span> <span style=\"color: #008080; text-decoration-color: #008080; font-weight: bold\">1</span>\n",
       "</pre>\n"
      ],
      "text/plain": [
       "\u001b[1m[\u001b[0m\u001b[1;36m0\u001b[0m.         \u001b[1;36m0.08317983\u001b[0m \u001b[1;36m0\u001b[0m.        \u001b[1m]\u001b[0m \u001b[1;36m1\u001b[0m\n"
      ]
     },
     "metadata": {},
     "output_type": "display_data"
    },
    {
     "data": {
      "text/html": [
       "<pre style=\"white-space:pre;overflow-x:auto;line-height:normal;font-family:Menlo,'DejaVu Sans Mono',consolas,'Courier New',monospace\"><span style=\"font-weight: bold\">[</span><span style=\"color: #008080; text-decoration-color: #008080; font-weight: bold\">0</span>.         <span style=\"color: #008080; text-decoration-color: #008080; font-weight: bold\">0.08900011</span> <span style=\"color: #008080; text-decoration-color: #008080; font-weight: bold\">0</span>.        <span style=\"font-weight: bold\">]</span> <span style=\"color: #008080; text-decoration-color: #008080; font-weight: bold\">1</span>\n",
       "</pre>\n"
      ],
      "text/plain": [
       "\u001b[1m[\u001b[0m\u001b[1;36m0\u001b[0m.         \u001b[1;36m0.08900011\u001b[0m \u001b[1;36m0\u001b[0m.        \u001b[1m]\u001b[0m \u001b[1;36m1\u001b[0m\n"
      ]
     },
     "metadata": {},
     "output_type": "display_data"
    },
    {
     "data": {
      "text/html": [
       "<pre style=\"white-space:pre;overflow-x:auto;line-height:normal;font-family:Menlo,'DejaVu Sans Mono',consolas,'Courier New',monospace\"><span style=\"font-weight: bold\">[</span><span style=\"color: #008080; text-decoration-color: #008080; font-weight: bold\">0</span>.         <span style=\"color: #008080; text-decoration-color: #008080; font-weight: bold\">0.08982383</span> <span style=\"color: #008080; text-decoration-color: #008080; font-weight: bold\">0</span>.        <span style=\"font-weight: bold\">]</span> <span style=\"color: #008080; text-decoration-color: #008080; font-weight: bold\">1</span>\n",
       "</pre>\n"
      ],
      "text/plain": [
       "\u001b[1m[\u001b[0m\u001b[1;36m0\u001b[0m.         \u001b[1;36m0.08982383\u001b[0m \u001b[1;36m0\u001b[0m.        \u001b[1m]\u001b[0m \u001b[1;36m1\u001b[0m\n"
      ]
     },
     "metadata": {},
     "output_type": "display_data"
    },
    {
     "data": {
      "text/html": [
       "<pre style=\"white-space:pre;overflow-x:auto;line-height:normal;font-family:Menlo,'DejaVu Sans Mono',consolas,'Courier New',monospace\"><span style=\"font-weight: bold\">[</span><span style=\"color: #008080; text-decoration-color: #008080; font-weight: bold\">0</span>.         <span style=\"color: #008080; text-decoration-color: #008080; font-weight: bold\">0.09084152</span> <span style=\"color: #008080; text-decoration-color: #008080; font-weight: bold\">0</span>.        <span style=\"font-weight: bold\">]</span> <span style=\"color: #008080; text-decoration-color: #008080; font-weight: bold\">1</span>\n",
       "</pre>\n"
      ],
      "text/plain": [
       "\u001b[1m[\u001b[0m\u001b[1;36m0\u001b[0m.         \u001b[1;36m0.09084152\u001b[0m \u001b[1;36m0\u001b[0m.        \u001b[1m]\u001b[0m \u001b[1;36m1\u001b[0m\n"
      ]
     },
     "metadata": {},
     "output_type": "display_data"
    },
    {
     "data": {
      "text/html": [
       "<pre style=\"white-space:pre;overflow-x:auto;line-height:normal;font-family:Menlo,'DejaVu Sans Mono',consolas,'Courier New',monospace\"><span style=\"font-weight: bold\">[</span><span style=\"color: #008080; text-decoration-color: #008080; font-weight: bold\">0</span>.         <span style=\"color: #008080; text-decoration-color: #008080; font-weight: bold\">0.09166197</span> <span style=\"color: #008080; text-decoration-color: #008080; font-weight: bold\">0</span>.        <span style=\"font-weight: bold\">]</span> <span style=\"color: #008080; text-decoration-color: #008080; font-weight: bold\">1</span>\n",
       "</pre>\n"
      ],
      "text/plain": [
       "\u001b[1m[\u001b[0m\u001b[1;36m0\u001b[0m.         \u001b[1;36m0.09166197\u001b[0m \u001b[1;36m0\u001b[0m.        \u001b[1m]\u001b[0m \u001b[1;36m1\u001b[0m\n"
      ]
     },
     "metadata": {},
     "output_type": "display_data"
    },
    {
     "data": {
      "text/html": [
       "<pre style=\"white-space:pre;overflow-x:auto;line-height:normal;font-family:Menlo,'DejaVu Sans Mono',consolas,'Courier New',monospace\"><span style=\"font-weight: bold\">[</span><span style=\"color: #008080; text-decoration-color: #008080; font-weight: bold\">0</span>.         <span style=\"color: #008080; text-decoration-color: #008080; font-weight: bold\">0.09287968</span> <span style=\"color: #008080; text-decoration-color: #008080; font-weight: bold\">0</span>.        <span style=\"font-weight: bold\">]</span> <span style=\"color: #008080; text-decoration-color: #008080; font-weight: bold\">1</span>\n",
       "</pre>\n"
      ],
      "text/plain": [
       "\u001b[1m[\u001b[0m\u001b[1;36m0\u001b[0m.         \u001b[1;36m0.09287968\u001b[0m \u001b[1;36m0\u001b[0m.        \u001b[1m]\u001b[0m \u001b[1;36m1\u001b[0m\n"
      ]
     },
     "metadata": {},
     "output_type": "display_data"
    },
    {
     "data": {
      "text/html": [
       "<pre style=\"white-space:pre;overflow-x:auto;line-height:normal;font-family:Menlo,'DejaVu Sans Mono',consolas,'Courier New',monospace\"><span style=\"font-weight: bold\">[</span><span style=\"color: #008080; text-decoration-color: #008080; font-weight: bold\">0</span>.         <span style=\"color: #008080; text-decoration-color: #008080; font-weight: bold\">0.09333415</span> <span style=\"color: #008080; text-decoration-color: #008080; font-weight: bold\">0</span>.        <span style=\"font-weight: bold\">]</span> <span style=\"color: #008080; text-decoration-color: #008080; font-weight: bold\">1</span>\n",
       "</pre>\n"
      ],
      "text/plain": [
       "\u001b[1m[\u001b[0m\u001b[1;36m0\u001b[0m.         \u001b[1;36m0.09333415\u001b[0m \u001b[1;36m0\u001b[0m.        \u001b[1m]\u001b[0m \u001b[1;36m1\u001b[0m\n"
      ]
     },
     "metadata": {},
     "output_type": "display_data"
    },
    {
     "data": {
      "text/html": [
       "<pre style=\"white-space:pre;overflow-x:auto;line-height:normal;font-family:Menlo,'DejaVu Sans Mono',consolas,'Courier New',monospace\"><span style=\"font-weight: bold\">[</span><span style=\"color: #008080; text-decoration-color: #008080; font-weight: bold\">0</span>.         <span style=\"color: #008080; text-decoration-color: #008080; font-weight: bold\">0.09623092</span> <span style=\"color: #008080; text-decoration-color: #008080; font-weight: bold\">0</span>.        <span style=\"font-weight: bold\">]</span> <span style=\"color: #008080; text-decoration-color: #008080; font-weight: bold\">1</span>\n",
       "</pre>\n"
      ],
      "text/plain": [
       "\u001b[1m[\u001b[0m\u001b[1;36m0\u001b[0m.         \u001b[1;36m0.09623092\u001b[0m \u001b[1;36m0\u001b[0m.        \u001b[1m]\u001b[0m \u001b[1;36m1\u001b[0m\n"
      ]
     },
     "metadata": {},
     "output_type": "display_data"
    },
    {
     "data": {
      "text/html": [
       "<pre style=\"white-space:pre;overflow-x:auto;line-height:normal;font-family:Menlo,'DejaVu Sans Mono',consolas,'Courier New',monospace\"><span style=\"font-weight: bold\">[</span><span style=\"color: #008080; text-decoration-color: #008080; font-weight: bold\">0</span>.         <span style=\"color: #008080; text-decoration-color: #008080; font-weight: bold\">0.09801926</span> <span style=\"color: #008080; text-decoration-color: #008080; font-weight: bold\">0</span>.        <span style=\"font-weight: bold\">]</span> <span style=\"color: #008080; text-decoration-color: #008080; font-weight: bold\">1</span>\n",
       "</pre>\n"
      ],
      "text/plain": [
       "\u001b[1m[\u001b[0m\u001b[1;36m0\u001b[0m.         \u001b[1;36m0.09801926\u001b[0m \u001b[1;36m0\u001b[0m.        \u001b[1m]\u001b[0m \u001b[1;36m1\u001b[0m\n"
      ]
     },
     "metadata": {},
     "output_type": "display_data"
    },
    {
     "data": {
      "text/html": [
       "<pre style=\"white-space:pre;overflow-x:auto;line-height:normal;font-family:Menlo,'DejaVu Sans Mono',consolas,'Courier New',monospace\"><span style=\"font-weight: bold\">[</span><span style=\"color: #008080; text-decoration-color: #008080; font-weight: bold\">0</span>.        <span style=\"color: #008080; text-decoration-color: #008080; font-weight: bold\">0.1065386</span> <span style=\"color: #008080; text-decoration-color: #008080; font-weight: bold\">0</span>.       <span style=\"font-weight: bold\">]</span> <span style=\"color: #008080; text-decoration-color: #008080; font-weight: bold\">1</span>\n",
       "</pre>\n"
      ],
      "text/plain": [
       "\u001b[1m[\u001b[0m\u001b[1;36m0\u001b[0m.        \u001b[1;36m0.1065386\u001b[0m \u001b[1;36m0\u001b[0m.       \u001b[1m]\u001b[0m \u001b[1;36m1\u001b[0m\n"
      ]
     },
     "metadata": {},
     "output_type": "display_data"
    },
    {
     "data": {
      "text/html": [
       "<pre style=\"white-space:pre;overflow-x:auto;line-height:normal;font-family:Menlo,'DejaVu Sans Mono',consolas,'Courier New',monospace\"><span style=\"font-weight: bold\">[</span><span style=\"color: #008080; text-decoration-color: #008080; font-weight: bold\">0</span>.         <span style=\"color: #008080; text-decoration-color: #008080; font-weight: bold\">0.10794348</span> <span style=\"color: #008080; text-decoration-color: #008080; font-weight: bold\">0</span>.        <span style=\"font-weight: bold\">]</span> <span style=\"color: #008080; text-decoration-color: #008080; font-weight: bold\">1</span>\n",
       "</pre>\n"
      ],
      "text/plain": [
       "\u001b[1m[\u001b[0m\u001b[1;36m0\u001b[0m.         \u001b[1;36m0.10794348\u001b[0m \u001b[1;36m0\u001b[0m.        \u001b[1m]\u001b[0m \u001b[1;36m1\u001b[0m\n"
      ]
     },
     "metadata": {},
     "output_type": "display_data"
    },
    {
     "data": {
      "text/html": [
       "<pre style=\"white-space:pre;overflow-x:auto;line-height:normal;font-family:Menlo,'DejaVu Sans Mono',consolas,'Courier New',monospace\"><span style=\"font-weight: bold\">[</span><span style=\"color: #008080; text-decoration-color: #008080; font-weight: bold\">0</span>.         <span style=\"color: #008080; text-decoration-color: #008080; font-weight: bold\">0.11225225</span> <span style=\"color: #008080; text-decoration-color: #008080; font-weight: bold\">0</span>.        <span style=\"font-weight: bold\">]</span> <span style=\"color: #008080; text-decoration-color: #008080; font-weight: bold\">1</span>\n",
       "</pre>\n"
      ],
      "text/plain": [
       "\u001b[1m[\u001b[0m\u001b[1;36m0\u001b[0m.         \u001b[1;36m0.11225225\u001b[0m \u001b[1;36m0\u001b[0m.        \u001b[1m]\u001b[0m \u001b[1;36m1\u001b[0m\n"
      ]
     },
     "metadata": {},
     "output_type": "display_data"
    },
    {
     "data": {
      "text/html": [
       "<pre style=\"white-space:pre;overflow-x:auto;line-height:normal;font-family:Menlo,'DejaVu Sans Mono',consolas,'Courier New',monospace\"><span style=\"font-weight: bold\">[</span><span style=\"color: #008080; text-decoration-color: #008080; font-weight: bold\">0</span>.         <span style=\"color: #008080; text-decoration-color: #008080; font-weight: bold\">0.11231546</span> <span style=\"color: #008080; text-decoration-color: #008080; font-weight: bold\">0</span>.        <span style=\"font-weight: bold\">]</span> <span style=\"color: #008080; text-decoration-color: #008080; font-weight: bold\">1</span>\n",
       "</pre>\n"
      ],
      "text/plain": [
       "\u001b[1m[\u001b[0m\u001b[1;36m0\u001b[0m.         \u001b[1;36m0.11231546\u001b[0m \u001b[1;36m0\u001b[0m.        \u001b[1m]\u001b[0m \u001b[1;36m1\u001b[0m\n"
      ]
     },
     "metadata": {},
     "output_type": "display_data"
    },
    {
     "data": {
      "text/html": [
       "<pre style=\"white-space:pre;overflow-x:auto;line-height:normal;font-family:Menlo,'DejaVu Sans Mono',consolas,'Courier New',monospace\"><span style=\"font-weight: bold\">[</span><span style=\"color: #008080; text-decoration-color: #008080; font-weight: bold\">0</span>.         <span style=\"color: #008080; text-decoration-color: #008080; font-weight: bold\">0.11237226</span> <span style=\"color: #008080; text-decoration-color: #008080; font-weight: bold\">0</span>.        <span style=\"font-weight: bold\">]</span> <span style=\"color: #008080; text-decoration-color: #008080; font-weight: bold\">1</span>\n",
       "</pre>\n"
      ],
      "text/plain": [
       "\u001b[1m[\u001b[0m\u001b[1;36m0\u001b[0m.         \u001b[1;36m0.11237226\u001b[0m \u001b[1;36m0\u001b[0m.        \u001b[1m]\u001b[0m \u001b[1;36m1\u001b[0m\n"
      ]
     },
     "metadata": {},
     "output_type": "display_data"
    },
    {
     "data": {
      "text/html": [
       "<pre style=\"white-space:pre;overflow-x:auto;line-height:normal;font-family:Menlo,'DejaVu Sans Mono',consolas,'Courier New',monospace\"><span style=\"font-weight: bold\">[</span><span style=\"color: #008080; text-decoration-color: #008080; font-weight: bold\">0</span>.         <span style=\"color: #008080; text-decoration-color: #008080; font-weight: bold\">0.11277205</span> <span style=\"color: #008080; text-decoration-color: #008080; font-weight: bold\">0</span>.        <span style=\"font-weight: bold\">]</span> <span style=\"color: #008080; text-decoration-color: #008080; font-weight: bold\">1</span>\n",
       "</pre>\n"
      ],
      "text/plain": [
       "\u001b[1m[\u001b[0m\u001b[1;36m0\u001b[0m.         \u001b[1;36m0.11277205\u001b[0m \u001b[1;36m0\u001b[0m.        \u001b[1m]\u001b[0m \u001b[1;36m1\u001b[0m\n"
      ]
     },
     "metadata": {},
     "output_type": "display_data"
    },
    {
     "data": {
      "text/html": [
       "<pre style=\"white-space:pre;overflow-x:auto;line-height:normal;font-family:Menlo,'DejaVu Sans Mono',consolas,'Courier New',monospace\"><span style=\"font-weight: bold\">[</span><span style=\"color: #008080; text-decoration-color: #008080; font-weight: bold\">0</span>.         <span style=\"color: #008080; text-decoration-color: #008080; font-weight: bold\">0.11567321</span> <span style=\"color: #008080; text-decoration-color: #008080; font-weight: bold\">0</span>.        <span style=\"font-weight: bold\">]</span> <span style=\"color: #008080; text-decoration-color: #008080; font-weight: bold\">1</span>\n",
       "</pre>\n"
      ],
      "text/plain": [
       "\u001b[1m[\u001b[0m\u001b[1;36m0\u001b[0m.         \u001b[1;36m0.11567321\u001b[0m \u001b[1;36m0\u001b[0m.        \u001b[1m]\u001b[0m \u001b[1;36m1\u001b[0m\n"
      ]
     },
     "metadata": {},
     "output_type": "display_data"
    },
    {
     "data": {
      "text/html": [
       "<pre style=\"white-space:pre;overflow-x:auto;line-height:normal;font-family:Menlo,'DejaVu Sans Mono',consolas,'Courier New',monospace\"><span style=\"font-weight: bold\">[</span><span style=\"color: #008080; text-decoration-color: #008080; font-weight: bold\">0</span>.         <span style=\"color: #008080; text-decoration-color: #008080; font-weight: bold\">0.11620268</span> <span style=\"color: #008080; text-decoration-color: #008080; font-weight: bold\">0</span>.        <span style=\"font-weight: bold\">]</span> <span style=\"color: #008080; text-decoration-color: #008080; font-weight: bold\">1</span>\n",
       "</pre>\n"
      ],
      "text/plain": [
       "\u001b[1m[\u001b[0m\u001b[1;36m0\u001b[0m.         \u001b[1;36m0.11620268\u001b[0m \u001b[1;36m0\u001b[0m.        \u001b[1m]\u001b[0m \u001b[1;36m1\u001b[0m\n"
      ]
     },
     "metadata": {},
     "output_type": "display_data"
    },
    {
     "data": {
      "text/html": [
       "<pre style=\"white-space:pre;overflow-x:auto;line-height:normal;font-family:Menlo,'DejaVu Sans Mono',consolas,'Courier New',monospace\"><span style=\"font-weight: bold\">[</span><span style=\"color: #008080; text-decoration-color: #008080; font-weight: bold\">0</span>.         <span style=\"color: #008080; text-decoration-color: #008080; font-weight: bold\">0.11899907</span> <span style=\"color: #008080; text-decoration-color: #008080; font-weight: bold\">0</span>.        <span style=\"font-weight: bold\">]</span> <span style=\"color: #008080; text-decoration-color: #008080; font-weight: bold\">1</span>\n",
       "</pre>\n"
      ],
      "text/plain": [
       "\u001b[1m[\u001b[0m\u001b[1;36m0\u001b[0m.         \u001b[1;36m0.11899907\u001b[0m \u001b[1;36m0\u001b[0m.        \u001b[1m]\u001b[0m \u001b[1;36m1\u001b[0m\n"
      ]
     },
     "metadata": {},
     "output_type": "display_data"
    },
    {
     "data": {
      "text/html": [
       "<pre style=\"white-space:pre;overflow-x:auto;line-height:normal;font-family:Menlo,'DejaVu Sans Mono',consolas,'Courier New',monospace\"><span style=\"font-weight: bold\">[</span><span style=\"color: #008080; text-decoration-color: #008080; font-weight: bold\">0</span>.         <span style=\"color: #008080; text-decoration-color: #008080; font-weight: bold\">0.12517196</span> <span style=\"color: #008080; text-decoration-color: #008080; font-weight: bold\">0</span>.        <span style=\"font-weight: bold\">]</span> <span style=\"color: #008080; text-decoration-color: #008080; font-weight: bold\">1</span>\n",
       "</pre>\n"
      ],
      "text/plain": [
       "\u001b[1m[\u001b[0m\u001b[1;36m0\u001b[0m.         \u001b[1;36m0.12517196\u001b[0m \u001b[1;36m0\u001b[0m.        \u001b[1m]\u001b[0m \u001b[1;36m1\u001b[0m\n"
      ]
     },
     "metadata": {},
     "output_type": "display_data"
    },
    {
     "data": {
      "text/html": [
       "<pre style=\"white-space:pre;overflow-x:auto;line-height:normal;font-family:Menlo,'DejaVu Sans Mono',consolas,'Courier New',monospace\"><span style=\"font-weight: bold\">[</span><span style=\"color: #008080; text-decoration-color: #008080; font-weight: bold\">0</span>.         <span style=\"color: #008080; text-decoration-color: #008080; font-weight: bold\">0.12578279</span> <span style=\"color: #008080; text-decoration-color: #008080; font-weight: bold\">0</span>.        <span style=\"font-weight: bold\">]</span> <span style=\"color: #008080; text-decoration-color: #008080; font-weight: bold\">1</span>\n",
       "</pre>\n"
      ],
      "text/plain": [
       "\u001b[1m[\u001b[0m\u001b[1;36m0\u001b[0m.         \u001b[1;36m0.12578279\u001b[0m \u001b[1;36m0\u001b[0m.        \u001b[1m]\u001b[0m \u001b[1;36m1\u001b[0m\n"
      ]
     },
     "metadata": {},
     "output_type": "display_data"
    },
    {
     "data": {
      "text/html": [
       "<pre style=\"white-space:pre;overflow-x:auto;line-height:normal;font-family:Menlo,'DejaVu Sans Mono',consolas,'Courier New',monospace\"><span style=\"font-weight: bold\">[</span><span style=\"color: #008080; text-decoration-color: #008080; font-weight: bold\">0</span>.         <span style=\"color: #008080; text-decoration-color: #008080; font-weight: bold\">0.12991735</span> <span style=\"color: #008080; text-decoration-color: #008080; font-weight: bold\">0</span>.        <span style=\"font-weight: bold\">]</span> <span style=\"color: #008080; text-decoration-color: #008080; font-weight: bold\">1</span>\n",
       "</pre>\n"
      ],
      "text/plain": [
       "\u001b[1m[\u001b[0m\u001b[1;36m0\u001b[0m.         \u001b[1;36m0.12991735\u001b[0m \u001b[1;36m0\u001b[0m.        \u001b[1m]\u001b[0m \u001b[1;36m1\u001b[0m\n"
      ]
     },
     "metadata": {},
     "output_type": "display_data"
    },
    {
     "data": {
      "text/html": [
       "<pre style=\"white-space:pre;overflow-x:auto;line-height:normal;font-family:Menlo,'DejaVu Sans Mono',consolas,'Courier New',monospace\"><span style=\"font-weight: bold\">[</span><span style=\"color: #008080; text-decoration-color: #008080; font-weight: bold\">0</span>.         <span style=\"color: #008080; text-decoration-color: #008080; font-weight: bold\">0.13058507</span> <span style=\"color: #008080; text-decoration-color: #008080; font-weight: bold\">0</span>.        <span style=\"font-weight: bold\">]</span> <span style=\"color: #008080; text-decoration-color: #008080; font-weight: bold\">1</span>\n",
       "</pre>\n"
      ],
      "text/plain": [
       "\u001b[1m[\u001b[0m\u001b[1;36m0\u001b[0m.         \u001b[1;36m0.13058507\u001b[0m \u001b[1;36m0\u001b[0m.        \u001b[1m]\u001b[0m \u001b[1;36m1\u001b[0m\n"
      ]
     },
     "metadata": {},
     "output_type": "display_data"
    },
    {
     "data": {
      "text/html": [
       "<pre style=\"white-space:pre;overflow-x:auto;line-height:normal;font-family:Menlo,'DejaVu Sans Mono',consolas,'Courier New',monospace\"><span style=\"font-weight: bold\">[</span><span style=\"color: #008080; text-decoration-color: #008080; font-weight: bold\">0</span>.         <span style=\"color: #008080; text-decoration-color: #008080; font-weight: bold\">0.13329428</span> <span style=\"color: #008080; text-decoration-color: #008080; font-weight: bold\">0</span>.        <span style=\"font-weight: bold\">]</span> <span style=\"color: #008080; text-decoration-color: #008080; font-weight: bold\">1</span>\n",
       "</pre>\n"
      ],
      "text/plain": [
       "\u001b[1m[\u001b[0m\u001b[1;36m0\u001b[0m.         \u001b[1;36m0.13329428\u001b[0m \u001b[1;36m0\u001b[0m.        \u001b[1m]\u001b[0m \u001b[1;36m1\u001b[0m\n"
      ]
     },
     "metadata": {},
     "output_type": "display_data"
    },
    {
     "data": {
      "text/html": [
       "<pre style=\"white-space:pre;overflow-x:auto;line-height:normal;font-family:Menlo,'DejaVu Sans Mono',consolas,'Courier New',monospace\"><span style=\"font-weight: bold\">[</span><span style=\"color: #008080; text-decoration-color: #008080; font-weight: bold\">0</span>.         <span style=\"color: #008080; text-decoration-color: #008080; font-weight: bold\">0.14085217</span> <span style=\"color: #008080; text-decoration-color: #008080; font-weight: bold\">0</span>.        <span style=\"font-weight: bold\">]</span> <span style=\"color: #008080; text-decoration-color: #008080; font-weight: bold\">1</span>\n",
       "</pre>\n"
      ],
      "text/plain": [
       "\u001b[1m[\u001b[0m\u001b[1;36m0\u001b[0m.         \u001b[1;36m0.14085217\u001b[0m \u001b[1;36m0\u001b[0m.        \u001b[1m]\u001b[0m \u001b[1;36m1\u001b[0m\n"
      ]
     },
     "metadata": {},
     "output_type": "display_data"
    },
    {
     "data": {
      "text/html": [
       "<pre style=\"white-space:pre;overflow-x:auto;line-height:normal;font-family:Menlo,'DejaVu Sans Mono',consolas,'Courier New',monospace\"><span style=\"font-weight: bold\">[</span><span style=\"color: #008080; text-decoration-color: #008080; font-weight: bold\">0</span>.         <span style=\"color: #008080; text-decoration-color: #008080; font-weight: bold\">0.14098755</span> <span style=\"color: #008080; text-decoration-color: #008080; font-weight: bold\">0</span>.        <span style=\"font-weight: bold\">]</span> <span style=\"color: #008080; text-decoration-color: #008080; font-weight: bold\">1</span>\n",
       "</pre>\n"
      ],
      "text/plain": [
       "\u001b[1m[\u001b[0m\u001b[1;36m0\u001b[0m.         \u001b[1;36m0.14098755\u001b[0m \u001b[1;36m0\u001b[0m.        \u001b[1m]\u001b[0m \u001b[1;36m1\u001b[0m\n"
      ]
     },
     "metadata": {},
     "output_type": "display_data"
    },
    {
     "data": {
      "text/html": [
       "<pre style=\"white-space:pre;overflow-x:auto;line-height:normal;font-family:Menlo,'DejaVu Sans Mono',consolas,'Courier New',monospace\"><span style=\"font-weight: bold\">[</span><span style=\"color: #008080; text-decoration-color: #008080; font-weight: bold\">0</span>.         <span style=\"color: #008080; text-decoration-color: #008080; font-weight: bold\">0.15170749</span> <span style=\"color: #008080; text-decoration-color: #008080; font-weight: bold\">0</span>.        <span style=\"font-weight: bold\">]</span> <span style=\"color: #008080; text-decoration-color: #008080; font-weight: bold\">1</span>\n",
       "</pre>\n"
      ],
      "text/plain": [
       "\u001b[1m[\u001b[0m\u001b[1;36m0\u001b[0m.         \u001b[1;36m0.15170749\u001b[0m \u001b[1;36m0\u001b[0m.        \u001b[1m]\u001b[0m \u001b[1;36m1\u001b[0m\n"
      ]
     },
     "metadata": {},
     "output_type": "display_data"
    },
    {
     "data": {
      "text/html": [
       "<pre style=\"white-space:pre;overflow-x:auto;line-height:normal;font-family:Menlo,'DejaVu Sans Mono',consolas,'Courier New',monospace\"><span style=\"font-weight: bold\">[</span><span style=\"color: #008080; text-decoration-color: #008080; font-weight: bold\">0</span>.        <span style=\"color: #008080; text-decoration-color: #008080; font-weight: bold\">0.1530066</span> <span style=\"color: #008080; text-decoration-color: #008080; font-weight: bold\">0</span>.       <span style=\"font-weight: bold\">]</span> <span style=\"color: #008080; text-decoration-color: #008080; font-weight: bold\">1</span>\n",
       "</pre>\n"
      ],
      "text/plain": [
       "\u001b[1m[\u001b[0m\u001b[1;36m0\u001b[0m.        \u001b[1;36m0.1530066\u001b[0m \u001b[1;36m0\u001b[0m.       \u001b[1m]\u001b[0m \u001b[1;36m1\u001b[0m\n"
      ]
     },
     "metadata": {},
     "output_type": "display_data"
    },
    {
     "data": {
      "text/html": [
       "<pre style=\"white-space:pre;overflow-x:auto;line-height:normal;font-family:Menlo,'DejaVu Sans Mono',consolas,'Courier New',monospace\"><span style=\"font-weight: bold\">[</span><span style=\"color: #008080; text-decoration-color: #008080; font-weight: bold\">0</span>.         <span style=\"color: #008080; text-decoration-color: #008080; font-weight: bold\">0.15421961</span> <span style=\"color: #008080; text-decoration-color: #008080; font-weight: bold\">0</span>.        <span style=\"font-weight: bold\">]</span> <span style=\"color: #008080; text-decoration-color: #008080; font-weight: bold\">1</span>\n",
       "</pre>\n"
      ],
      "text/plain": [
       "\u001b[1m[\u001b[0m\u001b[1;36m0\u001b[0m.         \u001b[1;36m0.15421961\u001b[0m \u001b[1;36m0\u001b[0m.        \u001b[1m]\u001b[0m \u001b[1;36m1\u001b[0m\n"
      ]
     },
     "metadata": {},
     "output_type": "display_data"
    },
    {
     "data": {
      "text/html": [
       "<pre style=\"white-space:pre;overflow-x:auto;line-height:normal;font-family:Menlo,'DejaVu Sans Mono',consolas,'Courier New',monospace\"><span style=\"font-weight: bold\">[</span><span style=\"color: #008080; text-decoration-color: #008080; font-weight: bold\">0</span>.         <span style=\"color: #008080; text-decoration-color: #008080; font-weight: bold\">0.15543924</span> <span style=\"color: #008080; text-decoration-color: #008080; font-weight: bold\">0</span>.        <span style=\"font-weight: bold\">]</span> <span style=\"color: #008080; text-decoration-color: #008080; font-weight: bold\">1</span>\n",
       "</pre>\n"
      ],
      "text/plain": [
       "\u001b[1m[\u001b[0m\u001b[1;36m0\u001b[0m.         \u001b[1;36m0.15543924\u001b[0m \u001b[1;36m0\u001b[0m.        \u001b[1m]\u001b[0m \u001b[1;36m1\u001b[0m\n"
      ]
     },
     "metadata": {},
     "output_type": "display_data"
    },
    {
     "data": {
      "text/html": [
       "<pre style=\"white-space:pre;overflow-x:auto;line-height:normal;font-family:Menlo,'DejaVu Sans Mono',consolas,'Courier New',monospace\"><span style=\"font-weight: bold\">[</span><span style=\"color: #008080; text-decoration-color: #008080; font-weight: bold\">0</span>.         <span style=\"color: #008080; text-decoration-color: #008080; font-weight: bold\">0.15725847</span> <span style=\"color: #008080; text-decoration-color: #008080; font-weight: bold\">0</span>.        <span style=\"font-weight: bold\">]</span> <span style=\"color: #008080; text-decoration-color: #008080; font-weight: bold\">1</span>\n",
       "</pre>\n"
      ],
      "text/plain": [
       "\u001b[1m[\u001b[0m\u001b[1;36m0\u001b[0m.         \u001b[1;36m0.15725847\u001b[0m \u001b[1;36m0\u001b[0m.        \u001b[1m]\u001b[0m \u001b[1;36m1\u001b[0m\n"
      ]
     },
     "metadata": {},
     "output_type": "display_data"
    },
    {
     "data": {
      "text/html": [
       "<pre style=\"white-space:pre;overflow-x:auto;line-height:normal;font-family:Menlo,'DejaVu Sans Mono',consolas,'Courier New',monospace\"><span style=\"font-weight: bold\">[</span><span style=\"color: #008080; text-decoration-color: #008080; font-weight: bold\">0</span>.         <span style=\"color: #008080; text-decoration-color: #008080; font-weight: bold\">0.16441183</span> <span style=\"color: #008080; text-decoration-color: #008080; font-weight: bold\">0</span>.        <span style=\"font-weight: bold\">]</span> <span style=\"color: #008080; text-decoration-color: #008080; font-weight: bold\">1</span>\n",
       "</pre>\n"
      ],
      "text/plain": [
       "\u001b[1m[\u001b[0m\u001b[1;36m0\u001b[0m.         \u001b[1;36m0.16441183\u001b[0m \u001b[1;36m0\u001b[0m.        \u001b[1m]\u001b[0m \u001b[1;36m1\u001b[0m\n"
      ]
     },
     "metadata": {},
     "output_type": "display_data"
    },
    {
     "data": {
      "text/html": [
       "<pre style=\"white-space:pre;overflow-x:auto;line-height:normal;font-family:Menlo,'DejaVu Sans Mono',consolas,'Courier New',monospace\"><span style=\"font-weight: bold\">[</span><span style=\"color: #008080; text-decoration-color: #008080; font-weight: bold\">0</span>.         <span style=\"color: #008080; text-decoration-color: #008080; font-weight: bold\">0.17863604</span> <span style=\"color: #008080; text-decoration-color: #008080; font-weight: bold\">0</span>.        <span style=\"font-weight: bold\">]</span> <span style=\"color: #008080; text-decoration-color: #008080; font-weight: bold\">1</span>\n",
       "</pre>\n"
      ],
      "text/plain": [
       "\u001b[1m[\u001b[0m\u001b[1;36m0\u001b[0m.         \u001b[1;36m0.17863604\u001b[0m \u001b[1;36m0\u001b[0m.        \u001b[1m]\u001b[0m \u001b[1;36m1\u001b[0m\n"
      ]
     },
     "metadata": {},
     "output_type": "display_data"
    },
    {
     "data": {
      "text/html": [
       "<pre style=\"white-space:pre;overflow-x:auto;line-height:normal;font-family:Menlo,'DejaVu Sans Mono',consolas,'Courier New',monospace\"><span style=\"font-weight: bold\">[</span><span style=\"color: #008080; text-decoration-color: #008080; font-weight: bold\">0</span>.         <span style=\"color: #008080; text-decoration-color: #008080; font-weight: bold\">0.19373782</span> <span style=\"color: #008080; text-decoration-color: #008080; font-weight: bold\">0</span>.        <span style=\"font-weight: bold\">]</span> <span style=\"color: #008080; text-decoration-color: #008080; font-weight: bold\">1</span>\n",
       "</pre>\n"
      ],
      "text/plain": [
       "\u001b[1m[\u001b[0m\u001b[1;36m0\u001b[0m.         \u001b[1;36m0.19373782\u001b[0m \u001b[1;36m0\u001b[0m.        \u001b[1m]\u001b[0m \u001b[1;36m1\u001b[0m\n"
      ]
     },
     "metadata": {},
     "output_type": "display_data"
    },
    {
     "data": {
      "text/html": [
       "<pre style=\"white-space:pre;overflow-x:auto;line-height:normal;font-family:Menlo,'DejaVu Sans Mono',consolas,'Courier New',monospace\"><span style=\"font-weight: bold\">[</span><span style=\"color: #008080; text-decoration-color: #008080; font-weight: bold\">0.26013485</span> <span style=\"color: #008080; text-decoration-color: #008080; font-weight: bold\">0.32161999</span> <span style=\"color: #008080; text-decoration-color: #008080; font-weight: bold\">1</span>.        <span style=\"font-weight: bold\">]</span> <span style=\"color: #008080; text-decoration-color: #008080; font-weight: bold\">1</span>\n",
       "</pre>\n"
      ],
      "text/plain": [
       "\u001b[1m[\u001b[0m\u001b[1;36m0.26013485\u001b[0m \u001b[1;36m0.32161999\u001b[0m \u001b[1;36m1\u001b[0m.        \u001b[1m]\u001b[0m \u001b[1;36m1\u001b[0m\n"
      ]
     },
     "metadata": {},
     "output_type": "display_data"
    },
    {
     "data": {
      "text/html": [
       "<pre style=\"white-space:pre;overflow-x:auto;line-height:normal;font-family:Menlo,'DejaVu Sans Mono',consolas,'Courier New',monospace\"><span style=\"font-weight: bold\">[</span><span style=\"color: #008080; text-decoration-color: #008080; font-weight: bold\">0.23324563</span> <span style=\"color: #008080; text-decoration-color: #008080; font-weight: bold\">0.25439039</span> <span style=\"color: #008080; text-decoration-color: #008080; font-weight: bold\">1</span>.        <span style=\"font-weight: bold\">]</span> <span style=\"color: #008080; text-decoration-color: #008080; font-weight: bold\">1</span>\n",
       "</pre>\n"
      ],
      "text/plain": [
       "\u001b[1m[\u001b[0m\u001b[1;36m0.23324563\u001b[0m \u001b[1;36m0.25439039\u001b[0m \u001b[1;36m1\u001b[0m.        \u001b[1m]\u001b[0m \u001b[1;36m1\u001b[0m\n"
      ]
     },
     "metadata": {},
     "output_type": "display_data"
    },
    {
     "data": {
      "text/html": [
       "<pre style=\"white-space:pre;overflow-x:auto;line-height:normal;font-family:Menlo,'DejaVu Sans Mono',consolas,'Courier New',monospace\"><span style=\"font-weight: bold\">[</span><span style=\"color: #008080; text-decoration-color: #008080; font-weight: bold\">0.17983496</span> <span style=\"color: #008080; text-decoration-color: #008080; font-weight: bold\">0.19294193</span> <span style=\"color: #008080; text-decoration-color: #008080; font-weight: bold\">1</span>.        <span style=\"font-weight: bold\">]</span> <span style=\"color: #008080; text-decoration-color: #008080; font-weight: bold\">1</span>\n",
       "</pre>\n"
      ],
      "text/plain": [
       "\u001b[1m[\u001b[0m\u001b[1;36m0.17983496\u001b[0m \u001b[1;36m0.19294193\u001b[0m \u001b[1;36m1\u001b[0m.        \u001b[1m]\u001b[0m \u001b[1;36m1\u001b[0m\n"
      ]
     },
     "metadata": {},
     "output_type": "display_data"
    },
    {
     "data": {
      "text/html": [
       "<pre style=\"white-space:pre;overflow-x:auto;line-height:normal;font-family:Menlo,'DejaVu Sans Mono',consolas,'Courier New',monospace\"><span style=\"font-weight: bold\">[</span><span style=\"color: #008080; text-decoration-color: #008080; font-weight: bold\">0.17212391</span> <span style=\"color: #008080; text-decoration-color: #008080; font-weight: bold\">0.17212988</span> <span style=\"color: #008080; text-decoration-color: #008080; font-weight: bold\">1</span>.        <span style=\"font-weight: bold\">]</span> <span style=\"color: #008080; text-decoration-color: #008080; font-weight: bold\">1</span>\n",
       "</pre>\n"
      ],
      "text/plain": [
       "\u001b[1m[\u001b[0m\u001b[1;36m0.17212391\u001b[0m \u001b[1;36m0.17212988\u001b[0m \u001b[1;36m1\u001b[0m.        \u001b[1m]\u001b[0m \u001b[1;36m1\u001b[0m\n"
      ]
     },
     "metadata": {},
     "output_type": "display_data"
    },
    {
     "data": {
      "text/html": [
       "<pre style=\"white-space:pre;overflow-x:auto;line-height:normal;font-family:Menlo,'DejaVu Sans Mono',consolas,'Courier New',monospace\"><span style=\"font-weight: bold\">[</span><span style=\"color: #008080; text-decoration-color: #008080; font-weight: bold\">0.16995215</span> <span style=\"color: #008080; text-decoration-color: #008080; font-weight: bold\">0.27919164</span> <span style=\"color: #008080; text-decoration-color: #008080; font-weight: bold\">1</span>.        <span style=\"font-weight: bold\">]</span> <span style=\"color: #008080; text-decoration-color: #008080; font-weight: bold\">1</span>\n",
       "</pre>\n"
      ],
      "text/plain": [
       "\u001b[1m[\u001b[0m\u001b[1;36m0.16995215\u001b[0m \u001b[1;36m0.27919164\u001b[0m \u001b[1;36m1\u001b[0m.        \u001b[1m]\u001b[0m \u001b[1;36m1\u001b[0m\n"
      ]
     },
     "metadata": {},
     "output_type": "display_data"
    },
    {
     "data": {
      "text/html": [
       "<pre style=\"white-space:pre;overflow-x:auto;line-height:normal;font-family:Menlo,'DejaVu Sans Mono',consolas,'Courier New',monospace\"><span style=\"font-weight: bold\">[</span><span style=\"color: #008080; text-decoration-color: #008080; font-weight: bold\">0.16932786</span> <span style=\"color: #008080; text-decoration-color: #008080; font-weight: bold\">0.27511626</span> <span style=\"color: #008080; text-decoration-color: #008080; font-weight: bold\">1</span>.        <span style=\"font-weight: bold\">]</span> <span style=\"color: #008080; text-decoration-color: #008080; font-weight: bold\">1</span>\n",
       "</pre>\n"
      ],
      "text/plain": [
       "\u001b[1m[\u001b[0m\u001b[1;36m0.16932786\u001b[0m \u001b[1;36m0.27511626\u001b[0m \u001b[1;36m1\u001b[0m.        \u001b[1m]\u001b[0m \u001b[1;36m1\u001b[0m\n"
      ]
     },
     "metadata": {},
     "output_type": "display_data"
    },
    {
     "data": {
      "text/html": [
       "<pre style=\"white-space:pre;overflow-x:auto;line-height:normal;font-family:Menlo,'DejaVu Sans Mono',consolas,'Courier New',monospace\"><span style=\"font-weight: bold\">[</span><span style=\"color: #008080; text-decoration-color: #008080; font-weight: bold\">0.15950753</span> <span style=\"color: #008080; text-decoration-color: #008080; font-weight: bold\">0.18987322</span> <span style=\"color: #008080; text-decoration-color: #008080; font-weight: bold\">1</span>.        <span style=\"font-weight: bold\">]</span> <span style=\"color: #008080; text-decoration-color: #008080; font-weight: bold\">1</span>\n",
       "</pre>\n"
      ],
      "text/plain": [
       "\u001b[1m[\u001b[0m\u001b[1;36m0.15950753\u001b[0m \u001b[1;36m0.18987322\u001b[0m \u001b[1;36m1\u001b[0m.        \u001b[1m]\u001b[0m \u001b[1;36m1\u001b[0m\n"
      ]
     },
     "metadata": {},
     "output_type": "display_data"
    },
    {
     "data": {
      "text/html": [
       "<pre style=\"white-space:pre;overflow-x:auto;line-height:normal;font-family:Menlo,'DejaVu Sans Mono',consolas,'Courier New',monospace\"><span style=\"font-weight: bold\">[</span><span style=\"color: #008080; text-decoration-color: #008080; font-weight: bold\">0.15755656</span> <span style=\"color: #008080; text-decoration-color: #008080; font-weight: bold\">0.19747746</span> <span style=\"color: #008080; text-decoration-color: #008080; font-weight: bold\">1</span>.        <span style=\"font-weight: bold\">]</span> <span style=\"color: #008080; text-decoration-color: #008080; font-weight: bold\">1</span>\n",
       "</pre>\n"
      ],
      "text/plain": [
       "\u001b[1m[\u001b[0m\u001b[1;36m0.15755656\u001b[0m \u001b[1;36m0.19747746\u001b[0m \u001b[1;36m1\u001b[0m.        \u001b[1m]\u001b[0m \u001b[1;36m1\u001b[0m\n"
      ]
     },
     "metadata": {},
     "output_type": "display_data"
    },
    {
     "data": {
      "text/html": [
       "<pre style=\"white-space:pre;overflow-x:auto;line-height:normal;font-family:Menlo,'DejaVu Sans Mono',consolas,'Courier New',monospace\"><span style=\"font-weight: bold\">[</span><span style=\"color: #008080; text-decoration-color: #008080; font-weight: bold\">0.15371226</span> <span style=\"color: #008080; text-decoration-color: #008080; font-weight: bold\">0.19713865</span> <span style=\"color: #008080; text-decoration-color: #008080; font-weight: bold\">1</span>.        <span style=\"font-weight: bold\">]</span> <span style=\"color: #008080; text-decoration-color: #008080; font-weight: bold\">1</span>\n",
       "</pre>\n"
      ],
      "text/plain": [
       "\u001b[1m[\u001b[0m\u001b[1;36m0.15371226\u001b[0m \u001b[1;36m0.19713865\u001b[0m \u001b[1;36m1\u001b[0m.        \u001b[1m]\u001b[0m \u001b[1;36m1\u001b[0m\n"
      ]
     },
     "metadata": {},
     "output_type": "display_data"
    },
    {
     "data": {
      "text/html": [
       "<pre style=\"white-space:pre;overflow-x:auto;line-height:normal;font-family:Menlo,'DejaVu Sans Mono',consolas,'Courier New',monospace\"><span style=\"font-weight: bold\">[</span><span style=\"color: #008080; text-decoration-color: #008080; font-weight: bold\">0.15203799</span> <span style=\"color: #008080; text-decoration-color: #008080; font-weight: bold\">0.15537323</span> <span style=\"color: #008080; text-decoration-color: #008080; font-weight: bold\">1</span>.        <span style=\"font-weight: bold\">]</span> <span style=\"color: #008080; text-decoration-color: #008080; font-weight: bold\">1</span>\n",
       "</pre>\n"
      ],
      "text/plain": [
       "\u001b[1m[\u001b[0m\u001b[1;36m0.15203799\u001b[0m \u001b[1;36m0.15537323\u001b[0m \u001b[1;36m1\u001b[0m.        \u001b[1m]\u001b[0m \u001b[1;36m1\u001b[0m\n"
      ]
     },
     "metadata": {},
     "output_type": "display_data"
    },
    {
     "data": {
      "text/html": [
       "<pre style=\"white-space:pre;overflow-x:auto;line-height:normal;font-family:Menlo,'DejaVu Sans Mono',consolas,'Courier New',monospace\"><span style=\"font-weight: bold\">[</span><span style=\"color: #008080; text-decoration-color: #008080; font-weight: bold\">0.15092355</span> <span style=\"color: #008080; text-decoration-color: #008080; font-weight: bold\">0.15971442</span> <span style=\"color: #008080; text-decoration-color: #008080; font-weight: bold\">1</span>.        <span style=\"font-weight: bold\">]</span> <span style=\"color: #008080; text-decoration-color: #008080; font-weight: bold\">1</span>\n",
       "</pre>\n"
      ],
      "text/plain": [
       "\u001b[1m[\u001b[0m\u001b[1;36m0.15092355\u001b[0m \u001b[1;36m0.15971442\u001b[0m \u001b[1;36m1\u001b[0m.        \u001b[1m]\u001b[0m \u001b[1;36m1\u001b[0m\n"
      ]
     },
     "metadata": {},
     "output_type": "display_data"
    },
    {
     "data": {
      "text/html": [
       "<pre style=\"white-space:pre;overflow-x:auto;line-height:normal;font-family:Menlo,'DejaVu Sans Mono',consolas,'Courier New',monospace\"><span style=\"font-weight: bold\">[</span><span style=\"color: #008080; text-decoration-color: #008080; font-weight: bold\">0.1362133</span>  <span style=\"color: #008080; text-decoration-color: #008080; font-weight: bold\">0.16357638</span> <span style=\"color: #008080; text-decoration-color: #008080; font-weight: bold\">1</span>.        <span style=\"font-weight: bold\">]</span> <span style=\"color: #008080; text-decoration-color: #008080; font-weight: bold\">1</span>\n",
       "</pre>\n"
      ],
      "text/plain": [
       "\u001b[1m[\u001b[0m\u001b[1;36m0.1362133\u001b[0m  \u001b[1;36m0.16357638\u001b[0m \u001b[1;36m1\u001b[0m.        \u001b[1m]\u001b[0m \u001b[1;36m1\u001b[0m\n"
      ]
     },
     "metadata": {},
     "output_type": "display_data"
    },
    {
     "data": {
      "text/html": [
       "<pre style=\"white-space:pre;overflow-x:auto;line-height:normal;font-family:Menlo,'DejaVu Sans Mono',consolas,'Courier New',monospace\"><span style=\"font-weight: bold\">[</span><span style=\"color: #008080; text-decoration-color: #008080; font-weight: bold\">0.10084794</span> <span style=\"color: #008080; text-decoration-color: #008080; font-weight: bold\">0.114763</span>   <span style=\"color: #008080; text-decoration-color: #008080; font-weight: bold\">1</span>.        <span style=\"font-weight: bold\">]</span> <span style=\"color: #008080; text-decoration-color: #008080; font-weight: bold\">1</span>\n",
       "</pre>\n"
      ],
      "text/plain": [
       "\u001b[1m[\u001b[0m\u001b[1;36m0.10084794\u001b[0m \u001b[1;36m0.114763\u001b[0m   \u001b[1;36m1\u001b[0m.        \u001b[1m]\u001b[0m \u001b[1;36m1\u001b[0m\n"
      ]
     },
     "metadata": {},
     "output_type": "display_data"
    },
    {
     "data": {
      "text/html": [
       "<pre style=\"white-space:pre;overflow-x:auto;line-height:normal;font-family:Menlo,'DejaVu Sans Mono',consolas,'Courier New',monospace\"><span style=\"font-weight: bold\">[</span><span style=\"color: #008080; text-decoration-color: #008080; font-weight: bold\">0.07473399</span> <span style=\"color: #008080; text-decoration-color: #008080; font-weight: bold\">0.08700498</span> <span style=\"color: #008080; text-decoration-color: #008080; font-weight: bold\">1</span>.        <span style=\"font-weight: bold\">]</span> <span style=\"color: #008080; text-decoration-color: #008080; font-weight: bold\">1</span>\n",
       "</pre>\n"
      ],
      "text/plain": [
       "\u001b[1m[\u001b[0m\u001b[1;36m0.07473399\u001b[0m \u001b[1;36m0.08700498\u001b[0m \u001b[1;36m1\u001b[0m.        \u001b[1m]\u001b[0m \u001b[1;36m1\u001b[0m\n"
      ]
     },
     "metadata": {},
     "output_type": "display_data"
    },
    {
     "data": {
      "text/html": [
       "<pre style=\"white-space:pre;overflow-x:auto;line-height:normal;font-family:Menlo,'DejaVu Sans Mono',consolas,'Courier New',monospace\"><span style=\"font-weight: bold\">[</span><span style=\"color: #008080; text-decoration-color: #008080; font-weight: bold\">0.07473399</span> <span style=\"color: #008080; text-decoration-color: #008080; font-weight: bold\">0.07473399</span> <span style=\"color: #008080; text-decoration-color: #008080; font-weight: bold\">1</span>.        <span style=\"font-weight: bold\">]</span> <span style=\"color: #008080; text-decoration-color: #008080; font-weight: bold\">3</span>\n",
       "</pre>\n"
      ],
      "text/plain": [
       "\u001b[1m[\u001b[0m\u001b[1;36m0.07473399\u001b[0m \u001b[1;36m0.07473399\u001b[0m \u001b[1;36m1\u001b[0m.        \u001b[1m]\u001b[0m \u001b[1;36m3\u001b[0m\n"
      ]
     },
     "metadata": {},
     "output_type": "display_data"
    },
    {
     "data": {
      "text/html": [
       "<pre style=\"white-space:pre;overflow-x:auto;line-height:normal;font-family:Menlo,'DejaVu Sans Mono',consolas,'Courier New',monospace\"><span style=\"font-weight: bold\">[</span><span style=\"color: #008080; text-decoration-color: #008080; font-weight: bold\">0.07473399</span> <span style=\"color: #008080; text-decoration-color: #008080; font-weight: bold\">0.07473399</span> <span style=\"color: #008080; text-decoration-color: #008080; font-weight: bold\">1</span>.        <span style=\"font-weight: bold\">]</span> <span style=\"color: #008080; text-decoration-color: #008080; font-weight: bold\">3</span>\n",
       "</pre>\n"
      ],
      "text/plain": [
       "\u001b[1m[\u001b[0m\u001b[1;36m0.07473399\u001b[0m \u001b[1;36m0.07473399\u001b[0m \u001b[1;36m1\u001b[0m.        \u001b[1m]\u001b[0m \u001b[1;36m3\u001b[0m\n"
      ]
     },
     "metadata": {},
     "output_type": "display_data"
    },
    {
     "data": {
      "text/html": [
       "<pre style=\"white-space:pre;overflow-x:auto;line-height:normal;font-family:Menlo,'DejaVu Sans Mono',consolas,'Courier New',monospace\"><span style=\"font-weight: bold\">[</span><span style=\"color: #008080; text-decoration-color: #008080; font-weight: bold\">0.07473399</span> <span style=\"color: #008080; text-decoration-color: #008080; font-weight: bold\">0.07473399</span> <span style=\"color: #008080; text-decoration-color: #008080; font-weight: bold\">1</span>.        <span style=\"font-weight: bold\">]</span> <span style=\"color: #008080; text-decoration-color: #008080; font-weight: bold\">3</span>\n",
       "</pre>\n"
      ],
      "text/plain": [
       "\u001b[1m[\u001b[0m\u001b[1;36m0.07473399\u001b[0m \u001b[1;36m0.07473399\u001b[0m \u001b[1;36m1\u001b[0m.        \u001b[1m]\u001b[0m \u001b[1;36m3\u001b[0m\n"
      ]
     },
     "metadata": {},
     "output_type": "display_data"
    },
    {
     "data": {
      "text/html": [
       "<pre style=\"white-space:pre;overflow-x:auto;line-height:normal;font-family:Menlo,'DejaVu Sans Mono',consolas,'Courier New',monospace\"><span style=\"font-weight: bold\">[</span><span style=\"color: #008080; text-decoration-color: #008080; font-weight: bold\">0</span>. <span style=\"color: #008080; text-decoration-color: #008080; font-weight: bold\">0</span>. <span style=\"color: #008080; text-decoration-color: #008080; font-weight: bold\">2</span>.<span style=\"font-weight: bold\">]</span> <span style=\"color: #008080; text-decoration-color: #008080; font-weight: bold\">1</span>\n",
       "</pre>\n"
      ],
      "text/plain": [
       "\u001b[1m[\u001b[0m\u001b[1;36m0\u001b[0m. \u001b[1;36m0\u001b[0m. \u001b[1;36m2\u001b[0m.\u001b[1m]\u001b[0m \u001b[1;36m1\u001b[0m\n"
      ]
     },
     "metadata": {},
     "output_type": "display_data"
    }
   ],
   "source": [
    "for d in diag_AB[1]:\n",
    "    cntr = 0\n",
    "    for f in diag_AB[1]:\n",
    "        if np.array_equal(d,f):\n",
    "            cntr +=1\n",
    "    print(d, cntr)"
   ]
  }
 ],
 "metadata": {
  "kernelspec": {
   "display_name": "Python 3: Topological Data Analysis",
   "language": "python",
   "name": "az1"
  },
  "language_info": {
   "codemirror_mode": {
    "name": "ipython",
    "version": 3
   },
   "file_extension": ".py",
   "mimetype": "text/x-python",
   "name": "python",
   "nbconvert_exporter": "python",
   "pygments_lexer": "ipython3",
   "version": "3.9.7"
  }
 },
 "nbformat": 4,
 "nbformat_minor": 5
}
