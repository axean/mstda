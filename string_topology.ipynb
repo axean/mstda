{
 "cells": [
  {
   "cell_type": "code",
   "execution_count": 1,
   "id": "5cfdbe9b",
   "metadata": {},
   "outputs": [
    {
     "name": "stderr",
     "output_type": "stream",
     "text": [
      "2021-12-23 21:13:04.516818: W tensorflow/stream_executor/platform/default/dso_loader.cc:64] Could not load dynamic library 'libcudart.so.11.0'; dlerror: libcudart.so.11.0: cannot open shared object file: No such file or directory\n",
      "2021-12-23 21:13:04.516872: I tensorflow/stream_executor/cuda/cudart_stub.cc:29] Ignore above cudart dlerror if you do not have a GPU set up on your machine.\n"
     ]
    }
   ],
   "source": [
    "import json\n",
    "import numpy as np\n",
    "import matplotlib.pyplot as plt\n",
    "import tensorflow as tf\n",
    "\n",
    "with open(\"data/Drugbank2019_MS_CFMID4.0.json\", mode = \"r\") as drugbank:\n",
    "    db = json.load(drugbank)"
   ]
  },
  {
   "cell_type": "code",
   "execution_count": null,
   "id": "dc3ec9c1",
   "metadata": {},
   "outputs": [
    {
     "data": {
      "application/vnd.jupyter.widget-view+json": {
       "model_id": "4a8e6426e2594f92add865dab2b76fdd",
       "version_major": 2,
       "version_minor": 0
      },
      "text/plain": [
       "  0%|          | 0/9701 [00:00<?, ?it/s]"
      ]
     },
     "metadata": {},
     "output_type": "display_data"
    }
   ],
   "source": [
    "from tqdm.notebook import tqdm\n",
    "%matplotlib inline\n",
    "point_clouds = list()\n",
    "for m,ms in tqdm(list(db.items())):\n",
    "    try:\n",
    "        ms.pop(\"frag\")\n",
    "    except KeyError:\n",
    "        pass\n",
    "    \n",
    "    sigma = 6\n",
    "    num = 1000\n",
    "    max_mass = max([ max( db[m][e][\"mz\"] ) for e in ms.keys() ])\n",
    "    min_mass = min([ min( db[m][e][\"mz\"] ) for e in ms.keys() ])\n",
    "    x = np.linspace(\n",
    "        max(min_mass, 0),\n",
    "        max_mass,\n",
    "        num = num\n",
    "    )\n",
    "    #mixtures = np.zeros((num, len(ms.values() )))\n",
    "    mixtures = np.zeros((num, 2 ))\n",
    "    for idx, energy in enumerate(ms.values()):\n",
    "        if idx == 2:\n",
    "            continue     \n",
    "        mix = [\n",
    "            intens * np.exp(-.5*np.power((x - peak)/sigma,2))\n",
    "            for peak,intens in zip(energy[\"mz\"], energy[\"intens\"])\n",
    "        ]\n",
    "        mix = np.sum(mix, axis = 0)\n",
    "        mixtures[:,idx] = mix / mix.max()\n",
    "    point_clouds.append(mixtures)"
   ]
  },
  {
   "cell_type": "code",
   "execution_count": null,
   "id": "59654aed",
   "metadata": {},
   "outputs": [],
   "source": [
    "# idea; create a matrix which is the \"state\" of the complex at some fixed epislon,\n",
    "# then evolve it using the same principles in markov chain mult.\n",
    "\n",
    "# 1: represent a filtration step as a markov chain\n",
    "%matplotlib inline\n",
    "fig = plt.figure()\n",
    "#ax = fig.add_subplot(projection = \"3d\")\n",
    "ax = fig.add_subplot()\n",
    "\n",
    "ms = tf.convert_to_tensor(point_clouds[0], dtype=tf.float32)\n",
    "#ax.scatter(ms[:,0], ms[:,1], ms[:,2], s = 10, marker = \".\")\n",
    "ax.scatter(ms[:,0], ms[:,1], s = 10, marker = \".\")"
   ]
  },
  {
   "cell_type": "code",
   "execution_count": null,
   "id": "f798a164",
   "metadata": {},
   "outputs": [],
   "source": [
    "ms.shape"
   ]
  },
  {
   "cell_type": "code",
   "execution_count": null,
   "id": "cc359d2d",
   "metadata": {},
   "outputs": [],
   "source": [
    "t1 = tf.reshape(ms, (1,ms.shape[0],ms.shape[1]))\n",
    "t2 = tf.reshape(ms, (ms.shape[0],1,ms.shape[1]))\n",
    "\n",
    "result = tf.norm(t1-t2, ord='euclidean', axis=2,)\n",
    "\n",
    "fig = plt.figure()\n",
    "result = (result < 0.1).numpy()\n",
    "for i in range(result.shape[0]):\n",
    "    for j in range(result.shape[1]):\n",
    "        if i == j:\n",
    "            result[i,j] = False\n",
    "        \n",
    "plt.imshow(result)"
   ]
  },
  {
   "cell_type": "code",
   "execution_count": null,
   "id": "649a5413",
   "metadata": {},
   "outputs": [],
   "source": [
    "import networkx as nx\n",
    "%matplotlib inline\n",
    "\n",
    "G = nx.Graph(result)\n",
    "\n",
    "fig = plt.figure(figsize=(10,10))\n",
    "nx.draw(G, pos = { idx : pos for idx,pos in enumerate(ms) }, node_size = 10)"
   ]
  }
 ],
 "metadata": {
  "kernelspec": {
   "display_name": "Python 3 AZ1: Topological data Analysis",
   "language": "python",
   "name": "az1"
  },
  "language_info": {
   "codemirror_mode": {
    "name": "ipython",
    "version": 3
   },
   "file_extension": ".py",
   "mimetype": "text/x-python",
   "name": "python",
   "nbconvert_exporter": "python",
   "pygments_lexer": "ipython3",
   "version": "3.9.7"
  }
 },
 "nbformat": 4,
 "nbformat_minor": 5
}
