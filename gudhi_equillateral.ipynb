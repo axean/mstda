{
 "cells": [
  {
   "cell_type": "code",
   "execution_count": 1,
   "id": "bbcad212",
   "metadata": {},
   "outputs": [
    {
     "name": "stderr",
     "output_type": "stream",
     "text": [
      "2021-12-25 20:35:44.746303: W tensorflow/stream_executor/platform/default/dso_loader.cc:64] Could not load dynamic library 'libcudart.so.11.0'; dlerror: libcudart.so.11.0: cannot open shared object file: No such file or directory\n",
      "2021-12-25 20:35:44.746337: I tensorflow/stream_executor/cuda/cudart_stub.cc:29] Ignore above cudart dlerror if you do not have a GPU set up on your machine.\n"
     ]
    }
   ],
   "source": [
    "from IPython.display import Image\n",
    "from os import chdir\n",
    "import numpy as np\n",
    "import gudhi as gd\n",
    "import matplotlib.pyplot as plt\n",
    "import tensorflow as tf"
   ]
  },
  {
   "cell_type": "code",
   "execution_count": 2,
   "id": "627afd2c",
   "metadata": {},
   "outputs": [
    {
     "data": {
      "image/png": "[encoded data removed]",
      "text/plain": [
       "<Figure size 432x288 with 1 Axes>"
      ]
     },
     "metadata": {
      "needs_background": "light"
     },
     "output_type": "display_data"
    }
   ],
   "source": [
    "mx = np.asarray([\n",
    "    [0,0],\n",
    "    [0.5, 0],\n",
    "    [0.25, 0.5 * np.sqrt(3)/2 ],\n",
    "    [ 0.75/3, (0.5 * np.sqrt(3)/2)/3 ],\n",
    "])\n",
    "\n",
    "#mx = np.random.rand(100,2)\n",
    "\n",
    "fig = plt.figure()\n",
    "ax = fig.add_subplot()\n",
    "ax.scatter(mx[:,0], mx[:,1], color = \"blue\")\n",
    "for i, p in enumerate(mx):\n",
    "    ax.text(*tuple(p + .01), str(i))"
   ]
  },
  {
   "cell_type": "code",
   "execution_count": 3,
   "id": "977d3971",
   "metadata": {},
   "outputs": [
    {
     "name": "stderr",
     "output_type": "stream",
     "text": [
      "2021-12-25 20:35:47.370786: W tensorflow/stream_executor/platform/default/dso_loader.cc:64] Could not load dynamic library 'libcuda.so.1'; dlerror: libcuda.so.1: cannot open shared object file: No such file or directory\n",
      "2021-12-25 20:35:47.370829: W tensorflow/stream_executor/cuda/cuda_driver.cc:269] failed call to cuInit: UNKNOWN ERROR (303)\n",
      "2021-12-25 20:35:47.370854: I tensorflow/stream_executor/cuda/cuda_diagnostics.cc:156] kernel driver does not appear to be running on this host (UX305FA): /proc/driver/nvidia/version does not exist\n",
      "2021-12-25 20:35:47.371657: I tensorflow/core/platform/cpu_feature_guard.cc:151] This TensorFlow binary is optimized with oneAPI Deep Neural Network Library (oneDNN) to use the following CPU instructions in performance-critical operations:  AVX2 FMA\n",
      "To enable them in other operations, rebuild TensorFlow with the appropriate compiler flags.\n"
     ]
    }
   ],
   "source": [
    "mx = tf.convert_to_tensor(mx, dtype=tf.float32)\n",
    "\n",
    "ALPHA = True\n",
    "RIPS = not ALPHA\n",
    "\n",
    "if ALPHA:\n",
    "    skeleton = gd.AlphaComplex(\n",
    "        #distance_matrix = result,\n",
    "        points = mx,\n",
    "        #max_edge_length = np.ceil(result.max())\n",
    "    )\n",
    "    st = skeleton.create_simplex_tree()\n",
    "elif RIPS:\n",
    "    t1 = tf.reshape(mx, (1,mx.shape[0],mx.shape[1]))\n",
    "    t2 = tf.reshape(mx, (mx.shape[0],1,mx.shape[1]))\n",
    "    result = tf.norm(t1-t2, ord='euclidean', axis=2,)\n",
    "    result = result.numpy()\n",
    "    skeleton = gd.RipsComplex(\n",
    "        distance_matrix = result,\n",
    "        max_edge_length = np.ceil(result.max())\n",
    "    )\n",
    "    st = skeleton.create_simplex_tree(max_dimension = 3)"
   ]
  },
  {
   "cell_type": "code",
   "execution_count": 4,
   "id": "7bfb4749",
   "metadata": {},
   "outputs": [
    {
     "data": {
      "text/plain": [
       "0.28867513459481287"
      ]
     },
     "execution_count": 4,
     "metadata": {},
     "output_type": "execute_result"
    }
   ],
   "source": [
    "distance_to_centroid = (np.sin(np.pi/3)/3) # from origin\n",
    "\n",
    "distance_to_centroid"
   ]
  },
  {
   "cell_type": "code",
   "execution_count": 5,
   "id": "bdbe0381",
   "metadata": {},
   "outputs": [
    {
     "name": "stdout",
     "output_type": "stream",
     "text": [
      "radius = 0.00000 \tsimplex = [0]\n",
      "radius = 0.00000 \tsimplex = [1]\n",
      "radius = 0.00000 \tsimplex = [2]\n",
      "radius = 0.00000 \tsimplex = [3]\n",
      "radius = 0.14434 \tsimplex = [2, 3]\n",
      "radius = 0.14434 \tsimplex = [0, 3]\n",
      "radius = 0.14434 \tsimplex = [1, 3]\n",
      "radius = 0.28868 \tsimplex = [0, 2]\n",
      "radius = 0.28868 \tsimplex = [1, 2]\n",
      "radius = 0.28868 \tsimplex = [0, 2, 3]\n",
      "radius = 0.28868 \tsimplex = [1, 2, 3]\n",
      "radius = 0.28868 \tsimplex = [0, 1]\n",
      "radius = 0.28868 \tsimplex = [0, 1, 3]\n"
     ]
    }
   ],
   "source": [
    "if ALPHA:\n",
    "    for s in sorted(st.get_filtration(), key = lambda t : t[1]):\n",
    "        print(\"radius = {:.5f}\".format(np.sqrt(s[1])), \"\\tsimplex =\", s[0])\n",
    "elif RIPS:\n",
    "    for s in sorted(st.get_filtration(), key = lambda t : t[1]):\n",
    "        print(\"radius = {:.5f}\".format(s[1]), \"\\tsimplex =\", s[0])"
   ]
  },
  {
   "cell_type": "code",
   "execution_count": 6,
   "id": "87360600",
   "metadata": {},
   "outputs": [
    {
     "name": "stderr",
     "output_type": "stream",
     "text": [
      "usetex mode requires TeX.\n"
     ]
    },
    {
     "data": {
      "text/plain": [
       "<AxesSubplot:title={'center':'Persistence barcode'}>"
      ]
     },
     "execution_count": 6,
     "metadata": {},
     "output_type": "execute_result"
    },
    {
     "data": {
      "image/png": "[encoded data removed]",
      "text/plain": [
       "<Figure size 432x288 with 1 Axes>"
      ]
     },
     "metadata": {
      "needs_background": "light"
     },
     "output_type": "display_data"
    }
   ],
   "source": [
    "gd.plot_persistence_barcode(st.persistence())"
   ]
  }
 ],
 "metadata": {
  "kernelspec": {
   "display_name": "Python 3 AZ1: Topological data Analysis",
   "language": "python",
   "name": "az1"
  },
  "language_info": {
   "codemirror_mode": {
    "name": "ipython",
    "version": 3
   },
   "file_extension": ".py",
   "mimetype": "text/x-python",
   "name": "python",
   "nbconvert_exporter": "python",
   "pygments_lexer": "ipython3",
   "version": "3.9.7"
  }
 },
 "nbformat": 4,
 "nbformat_minor": 5
}
