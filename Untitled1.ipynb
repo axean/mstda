{
 "cells": [
  {
   "cell_type": "code",
   "execution_count": 1,
   "id": "bd8a106a",
   "metadata": {},
   "outputs": [],
   "source": [
    "def l(wheel):\n",
    "    return tuple([ wheel[0], (wheel[1]+1)%3 , (wheel[2] + 1)%3 ])\n",
    "def r(wheel):\n",
    "    return tuple([ (wheel[0] + 1)%3, (wheel[1] + 1)%3, wheel[2]])"
   ]
  },
  {
   "cell_type": "code",
   "execution_count": 7,
   "id": "5e3ab972",
   "metadata": {
    "scrolled": false
   },
   "outputs": [
    {
     "name": "stdout",
     "output_type": "stream",
     "text": [
      "possible states\n",
      "(1, 1, 3) \t ['right', 'right', 'right', 'right']\n",
      "(3, 1, 1) \t ['right', 'right', 'right', 'left']\n",
      "(3, 1, 1) \t ['right', 'right', 'left', 'right']\n",
      "(2, 1, 2) \t ['right', 'right', 'left', 'left']\n",
      "(3, 1, 1) \t ['right', 'left', 'right', 'right']\n",
      "(2, 1, 2) \t ['right', 'left', 'right', 'left']\n",
      "(2, 1, 2) \t ['right', 'left', 'left', 'right']\n",
      "(1, 1, 3) \t ['right', 'left', 'left', 'left']\n",
      "(3, 1, 1) \t ['left', 'right', 'right', 'right']\n",
      "(2, 1, 2) \t ['left', 'right', 'right', 'left']\n",
      "(2, 1, 2) \t ['left', 'right', 'left', 'right']\n",
      "(1, 1, 3) \t ['left', 'right', 'left', 'left']\n",
      "(2, 1, 2) \t ['left', 'left', 'right', 'right']\n",
      "(1, 1, 3) \t ['left', 'left', 'right', 'left']\n",
      "(1, 1, 3) \t ['left', 'left', 'left', 'right']\n",
      "(3, 1, 1) \t ['left', 'left', 'left', 'left']\n"
     ]
    }
   ],
   "source": [
    "def print_wheel(wheel):\n",
    "    translate = {0 : 3, 1 : 1, 2 : 2}\n",
    "    return [translate[w] for w in wheel]\n",
    "#\n",
    "def getbin(n, s=['']):\n",
    "    if n > 0:\n",
    "        return [\n",
    "            *getbin(n - 1, [i + '0' for i in s]),\n",
    "            *getbin(n - 1, [j + '1' for j in s])\n",
    "        ]\n",
    "    return s\n",
    "#\n",
    "possible_states = list()\n",
    "paths = list()\n",
    "for B in getbin(4):\n",
    "    init_state = [0,0,0]\n",
    "    state = init_state\n",
    "    app = list()\n",
    "    for b in B:\n",
    "        if int(b):\n",
    "            state = l(state)\n",
    "            app.append(\"left\")\n",
    "        else:\n",
    "            state = r(state)\n",
    "            app.append(\"right\")\n",
    "    possible_states.append(tuple(print_wheel(state)))\n",
    "    paths.append(app)\n",
    "\n",
    "print(\"possible states\")\n",
    "for i,ps in enumerate(possible_states):\n",
    "    print(ps, \"\\t\", paths[i] )"
   ]
  }
 ],
 "metadata": {
  "kernelspec": {
   "display_name": "Python 3 AZ1: Topological data Analysis",
   "language": "python",
   "name": "az1"
  },
  "language_info": {
   "codemirror_mode": {
    "name": "ipython",
    "version": 3
   },
   "file_extension": ".py",
   "mimetype": "text/x-python",
   "name": "python",
   "nbconvert_exporter": "python",
   "pygments_lexer": "ipython3",
   "version": "3.9.7"
  }
 },
 "nbformat": 4,
 "nbformat_minor": 5
}
