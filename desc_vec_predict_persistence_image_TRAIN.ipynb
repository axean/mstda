{
 "cells": [
  {
   "cell_type": "code",
   "execution_count": 27,
   "id": "0b4a78c3",
   "metadata": {},
   "outputs": [],
   "source": [
    "from gtda.homology import EuclideanCechPersistence,VietorisRipsPersistence\n",
    "from gtda.diagrams import PersistenceImage\n",
    "from gtda.pipeline import Pipeline\n",
    "from gtda.diagrams import Filtering"
   ]
  },
  {
   "cell_type": "code",
   "execution_count": 28,
   "id": "a3168c59",
   "metadata": {},
   "outputs": [
    {
     "data": {
      "text/plain": [
       "119"
      ]
     },
     "execution_count": 28,
     "metadata": {},
     "output_type": "execute_result"
    }
   ],
   "source": [
    "import tensorflow as tf\n",
    "import gudhi as gd\n",
    "import pandas as pd\n",
    "import numpy as np\n",
    "import matplotlib.pyplot as plt\n",
    "import utils\n",
    "import scipy.spatial as spatial\n",
    "import json\n",
    "from rich import print\n",
    "from random import choice, sample\n",
    "from tqdm.notebook import tqdm\n",
    "from rdkit import Chem\n",
    "from rdkit.Chem import Descriptors\n",
    "from gc import collect\n",
    "from pickle import load\n",
    "\n",
    "with open(\"cech_persistence_images_012_20bins.pickle\", mode = \"rb\") as data:\n",
    "    save_dict = load(data)\n",
    "    train_molecules = save_dict[\"train_molecules\"]\n",
    "    train_data = save_dict[\"train_data\"]\n",
    "    \n",
    "    test_molecules = save_dict[\"test_molecules\"]\n",
    "    test_data = save_dict[\"test_data\"]\n",
    "    \n",
    "%matplotlib inline\n",
    "del save_dict\n",
    "collect()"
   ]
  },
  {
   "cell_type": "code",
   "execution_count": 29,
   "id": "98a9159f",
   "metadata": {},
   "outputs": [
    {
     "data": {
      "text/html": [
       "<pre style=\"white-space:pre;overflow-x:auto;line-height:normal;font-family:Menlo,'DejaVu Sans Mono',consolas,'Courier New',monospace\"><span style=\"font-weight: bold\">(</span><span style=\"color: #008080; text-decoration-color: #008080; font-weight: bold\">7761</span>, <span style=\"color: #008080; text-decoration-color: #008080; font-weight: bold\">9</span>, <span style=\"color: #008080; text-decoration-color: #008080; font-weight: bold\">20</span>, <span style=\"color: #008080; text-decoration-color: #008080; font-weight: bold\">20</span><span style=\"font-weight: bold\">)</span>\n",
       "<span style=\"font-weight: bold\">(</span><span style=\"color: #008080; text-decoration-color: #008080; font-weight: bold\">1940</span>, <span style=\"color: #008080; text-decoration-color: #008080; font-weight: bold\">9</span>, <span style=\"color: #008080; text-decoration-color: #008080; font-weight: bold\">20</span>, <span style=\"color: #008080; text-decoration-color: #008080; font-weight: bold\">20</span><span style=\"font-weight: bold\">)</span>\n",
       "</pre>\n"
      ],
      "text/plain": [
       "\u001b[1m(\u001b[0m\u001b[1;36m7761\u001b[0m, \u001b[1;36m9\u001b[0m, \u001b[1;36m20\u001b[0m, \u001b[1;36m20\u001b[0m\u001b[1m)\u001b[0m\n",
       "\u001b[1m(\u001b[0m\u001b[1;36m1940\u001b[0m, \u001b[1;36m9\u001b[0m, \u001b[1;36m20\u001b[0m, \u001b[1;36m20\u001b[0m\u001b[1m)\u001b[0m\n"
      ]
     },
     "metadata": {},
     "output_type": "display_data"
    }
   ],
   "source": [
    "print(train_data.shape, test_data.shape)"
   ]
  },
  {
   "cell_type": "code",
   "execution_count": 30,
   "id": "46a624eb",
   "metadata": {},
   "outputs": [
    {
     "data": {
      "text/plain": [
       "<matplotlib.image.AxesImage at 0x7f6fb49e96a0>"
      ]
     },
     "execution_count": 30,
     "metadata": {},
     "output_type": "execute_result"
    },
    {
     "data": {
      "image/png": "[encoded data removed]",
      "text/plain": [
       "<Figure size 432x288 with 1 Axes>"
      ]
     },
     "metadata": {
      "needs_background": "light"
     },
     "output_type": "display_data"
    }
   ],
   "source": [
    "plt.imshow(train_data[19,7])"
   ]
  },
  {
   "cell_type": "markdown",
   "id": "c347a34c",
   "metadata": {},
   "source": [
    "# Extract descriptors\n",
    "(this can be done from rdkit or from the descriptor .csv)"
   ]
  },
  {
   "cell_type": "code",
   "execution_count": 31,
   "id": "d7271709",
   "metadata": {},
   "outputs": [],
   "source": [
    "df = pd.read_csv(\"data/Drugbank_some_descriptors.csv\")"
   ]
  },
  {
   "cell_type": "markdown",
   "id": "b00c9605",
   "metadata": {},
   "source": [
    "### Filter descriptors which are unavailable"
   ]
  },
  {
   "cell_type": "code",
   "execution_count": 32,
   "id": "7a5dc998",
   "metadata": {
    "scrolled": true
   },
   "outputs": [
    {
     "data": {
      "text/html": [
       "<pre style=\"white-space:pre;overflow-x:auto;line-height:normal;font-family:Menlo,'DejaVu Sans Mono',consolas,'Courier New',monospace\"><span style=\"font-weight: bold\">[</span>\n",
       "    <span style=\"color: #008000; text-decoration-color: #008000\">'ACD Descriptors;logP'</span>,\n",
       "    <span style=\"color: #008000; text-decoration-color: #008000\">'ACD logD-logP;logP'</span>,\n",
       "    <span style=\"color: #008000; text-decoration-color: #008000\">'MOE Descriptors;h_ema'</span>,\n",
       "    <span style=\"color: #008000; text-decoration-color: #008000\">'MOE Descriptors;h_emd'</span>,\n",
       "    <span style=\"color: #008000; text-decoration-color: #008000\">'MOE Descriptors;h_emd_c'</span>,\n",
       "    <span style=\"color: #008000; text-decoration-color: #008000\">'MOE Descriptors;h_logp'</span>,\n",
       "    <span style=\"color: #008000; text-decoration-color: #008000\">'MOE Descriptors;h_logs'</span>,\n",
       "    <span style=\"color: #008000; text-decoration-color: #008000\">'MOE Descriptors;h_log_dbo'</span>,\n",
       "    <span style=\"color: #008000; text-decoration-color: #008000\">'MOE Descriptors;h_log_pbo'</span>,\n",
       "    <span style=\"color: #008000; text-decoration-color: #008000\">'MOE Descriptors;h_mr'</span>,\n",
       "    <span style=\"color: #008000; text-decoration-color: #008000\">'OEselma Descriptors;bromine_count'</span>,\n",
       "    <span style=\"color: #008000; text-decoration-color: #008000\">'OEselma Descriptors;carbon_count'</span>,\n",
       "    <span style=\"color: #008000; text-decoration-color: #008000\">'OEselma Descriptors;clorine_count'</span>,\n",
       "    <span style=\"color: #008000; text-decoration-color: #008000\">'OEselma Descriptors;ertl_tpsa'</span>,\n",
       "    <span style=\"color: #008000; text-decoration-color: #008000\">'OEselma Descriptors;fluorine_count'</span>,\n",
       "    <span style=\"color: #008000; text-decoration-color: #008000\">'OEselma Descriptors;hba'</span>,\n",
       "    <span style=\"color: #008000; text-decoration-color: #008000\">'OEselma Descriptors;hba_lipinski'</span>,\n",
       "    <span style=\"color: #008000; text-decoration-color: #008000\">'OEselma Descriptors;hbd'</span>,\n",
       "    <span style=\"color: #008000; text-decoration-color: #008000\">'OEselma Descriptors;hbd_lipinski'</span>,\n",
       "    <span style=\"color: #008000; text-decoration-color: #008000\">'OEselma Descriptors;halogen_count'</span>,\n",
       "    <span style=\"color: #008000; text-decoration-color: #008000\">'OEselma Descriptors;iodine_count'</span>,\n",
       "    <span style=\"color: #008000; text-decoration-color: #008000\">'OEselma Descriptors;max_flex_chain_1'</span>,\n",
       "    <span style=\"color: #008000; text-decoration-color: #008000\">'OEselma Descriptors;max_flex_chain_2'</span>,\n",
       "    <span style=\"color: #008000; text-decoration-color: #008000\">'OEselma Descriptors;max_flex_chain_3'</span>,\n",
       "    <span style=\"color: #008000; text-decoration-color: #008000\">'OEselma Descriptors;max_rigid_chain'</span>,\n",
       "    <span style=\"color: #008000; text-decoration-color: #008000\">'OEselma Descriptors;mol_volume_2d'</span>,\n",
       "    <span style=\"color: #008000; text-decoration-color: #008000\">'OEselma Descriptors;mw'</span>,\n",
       "    <span style=\"color: #008000; text-decoration-color: #008000\">'OEselma Descriptors;npsa'</span>,\n",
       "    <span style=\"color: #008000; text-decoration-color: #008000\">'OEselma Descriptors;neg_ioniz'</span>,\n",
       "    <span style=\"color: #008000; text-decoration-color: #008000\">'OEselma Descriptors;nitrogen_count'</span>,\n",
       "    <span style=\"color: #008000; text-decoration-color: #008000\">'OEselma Descriptors;nonpolar_count'</span>,\n",
       "    <span style=\"color: #008000; text-decoration-color: #008000\">'OEselma Descriptors;nonpolar_count_per_mw'</span>,\n",
       "    <span style=\"color: #008000; text-decoration-color: #008000\">'OEselma Descriptors;rigid_frag_count'</span>,\n",
       "    <span style=\"color: #008000; text-decoration-color: #008000\">'OEselma Descriptors;aromatic_ring_count'</span>,\n",
       "    <span style=\"color: #008000; text-decoration-color: #008000\">'OEselma Descriptors;atom_count'</span>,\n",
       "    <span style=\"color: #008000; text-decoration-color: #008000\">'OEselma Descriptors;bond_count'</span>,\n",
       "    <span style=\"color: #008000; text-decoration-color: #008000\">'OEselma Descriptors;rigid_bond_count'</span>,\n",
       "    <span style=\"color: #008000; text-decoration-color: #008000\">'OEselma Descriptors;ring_count'</span>,\n",
       "    <span style=\"color: #008000; text-decoration-color: #008000\">'OEselma Descriptors;rot_bond_count'</span>,\n",
       "    <span style=\"color: #008000; text-decoration-color: #008000\">'OEselma Descriptors;oxygen_count'</span>,\n",
       "    <span style=\"color: #008000; text-decoration-color: #008000\">'OEselma Descriptors;psa'</span>,\n",
       "    <span style=\"color: #008000; text-decoration-color: #008000\">'OEselma Descriptors;phosphorous_count'</span>,\n",
       "    <span style=\"color: #008000; text-decoration-color: #008000\">'OEselma Descriptors;polar_count'</span>,\n",
       "    <span style=\"color: #008000; text-decoration-color: #008000\">'OEselma Descriptors;polar_count_per_mw'</span>,\n",
       "    <span style=\"color: #008000; text-decoration-color: #008000\">'OEselma Descriptors;pos_ioniz'</span>,\n",
       "    <span style=\"color: #008000; text-decoration-color: #008000\">'OEselma Descriptors;silicon_count'</span>,\n",
       "    <span style=\"color: #008000; text-decoration-color: #008000\">'OEselma Descriptors;sulphur_count'</span>,\n",
       "    <span style=\"color: #008000; text-decoration-color: #008000\">'OEselma Descriptors;tsa'</span>,\n",
       "    <span style=\"color: #008000; text-decoration-color: #008000\">'Ertl TPSA;Ertl TPSA'</span>,\n",
       "    <span style=\"color: #008000; text-decoration-color: #008000\">'Exact Mass;Exact Mass'</span>,\n",
       "    <span style=\"color: #008000; text-decoration-color: #008000\">'Heavy Atom Count;Heavy Atom Count'</span>,\n",
       "    <span style=\"color: #008000; text-decoration-color: #008000\">'Molecular Volume (2D);Molecular Volume (2D)'</span>,\n",
       "    <span style=\"color: #008000; text-decoration-color: #008000\">'Molecular Weight;Molecular Weight'</span>,\n",
       "    <span style=\"color: #008000; text-decoration-color: #008000\">'NPSA;NPSA'</span>,\n",
       "    <span style=\"color: #008000; text-decoration-color: #008000\">'PSA;PSA'</span>,\n",
       "    <span style=\"color: #008000; text-decoration-color: #008000\">'Ring Count;Ring Count'</span>,\n",
       "    <span style=\"color: #008000; text-decoration-color: #008000\">'Rotatable Bond Count;Rotatable Bond Count'</span>,\n",
       "    <span style=\"color: #008000; text-decoration-color: #008000\">'AZlogD74;prediction'</span>,\n",
       "    <span style=\"color: #008000; text-decoration-color: #008000\">'AZlogD74;sd_prediction'</span>,\n",
       "    <span style=\"color: #008000; text-decoration-color: #008000\">'ChromlogD;prediction'</span>,\n",
       "    <span style=\"color: #008000; text-decoration-color: #008000\">'ChromlogD;sd_prediction'</span>,\n",
       "    <span style=\"color: #008000; text-decoration-color: #008000\">'ALogP'</span>,\n",
       "    <span style=\"color: #008000; text-decoration-color: #008000\">'Mol Weight'</span>,\n",
       "    <span style=\"color: #008000; text-decoration-color: #008000\">'Molar Refractivity'</span>,\n",
       "    <span style=\"color: #008000; text-decoration-color: #008000\">'Polarizability'</span>,\n",
       "    <span style=\"color: #008000; text-decoration-color: #008000\">'TPSA'</span>,\n",
       "    <span style=\"color: #008000; text-decoration-color: #008000\">'Solubility DD Class;confidence'</span>,\n",
       "    <span style=\"color: #008000; text-decoration-color: #008000\">'Solubility DD Class;credibility'</span>,\n",
       "    <span style=\"color: #008000; text-decoration-color: #008000\">'SCScore;SCScore'</span>,\n",
       "    <span style=\"color: #008000; text-decoration-color: #008000\">'AZlogD74 (NN);nearest_neighbours[]- GT similarity'</span>,\n",
       "    <span style=\"color: #008000; text-decoration-color: #008000\">'AZlogD74 (NN);nearest_neighbours[]- GT measured'</span>,\n",
       "    <span style=\"color: #008000; text-decoration-color: #008000\">'clogP;clogp'</span>,\n",
       "    <span style=\"color: #008000; text-decoration-color: #008000\">'clogP;clogp_error'</span>,\n",
       "    <span style=\"color: #008000; text-decoration-color: #008000\">'OEselma Descriptors;part_flex_chain'</span>\n",
       "<span style=\"font-weight: bold\">]</span>\n",
       "</pre>\n"
      ],
      "text/plain": [
       "\u001b[1m[\u001b[0m\n",
       "    \u001b[32m'ACD Descriptors;logP'\u001b[0m,\n",
       "    \u001b[32m'ACD logD-logP;logP'\u001b[0m,\n",
       "    \u001b[32m'MOE Descriptors;h_ema'\u001b[0m,\n",
       "    \u001b[32m'MOE Descriptors;h_emd'\u001b[0m,\n",
       "    \u001b[32m'MOE Descriptors;h_emd_c'\u001b[0m,\n",
       "    \u001b[32m'MOE Descriptors;h_logp'\u001b[0m,\n",
       "    \u001b[32m'MOE Descriptors;h_logs'\u001b[0m,\n",
       "    \u001b[32m'MOE Descriptors;h_log_dbo'\u001b[0m,\n",
       "    \u001b[32m'MOE Descriptors;h_log_pbo'\u001b[0m,\n",
       "    \u001b[32m'MOE Descriptors;h_mr'\u001b[0m,\n",
       "    \u001b[32m'OEselma Descriptors;bromine_count'\u001b[0m,\n",
       "    \u001b[32m'OEselma Descriptors;carbon_count'\u001b[0m,\n",
       "    \u001b[32m'OEselma Descriptors;clorine_count'\u001b[0m,\n",
       "    \u001b[32m'OEselma Descriptors;ertl_tpsa'\u001b[0m,\n",
       "    \u001b[32m'OEselma Descriptors;fluorine_count'\u001b[0m,\n",
       "    \u001b[32m'OEselma Descriptors;hba'\u001b[0m,\n",
       "    \u001b[32m'OEselma Descriptors;hba_lipinski'\u001b[0m,\n",
       "    \u001b[32m'OEselma Descriptors;hbd'\u001b[0m,\n",
       "    \u001b[32m'OEselma Descriptors;hbd_lipinski'\u001b[0m,\n",
       "    \u001b[32m'OEselma Descriptors;halogen_count'\u001b[0m,\n",
       "    \u001b[32m'OEselma Descriptors;iodine_count'\u001b[0m,\n",
       "    \u001b[32m'OEselma Descriptors;max_flex_chain_1'\u001b[0m,\n",
       "    \u001b[32m'OEselma Descriptors;max_flex_chain_2'\u001b[0m,\n",
       "    \u001b[32m'OEselma Descriptors;max_flex_chain_3'\u001b[0m,\n",
       "    \u001b[32m'OEselma Descriptors;max_rigid_chain'\u001b[0m,\n",
       "    \u001b[32m'OEselma Descriptors;mol_volume_2d'\u001b[0m,\n",
       "    \u001b[32m'OEselma Descriptors;mw'\u001b[0m,\n",
       "    \u001b[32m'OEselma Descriptors;npsa'\u001b[0m,\n",
       "    \u001b[32m'OEselma Descriptors;neg_ioniz'\u001b[0m,\n",
       "    \u001b[32m'OEselma Descriptors;nitrogen_count'\u001b[0m,\n",
       "    \u001b[32m'OEselma Descriptors;nonpolar_count'\u001b[0m,\n",
       "    \u001b[32m'OEselma Descriptors;nonpolar_count_per_mw'\u001b[0m,\n",
       "    \u001b[32m'OEselma Descriptors;rigid_frag_count'\u001b[0m,\n",
       "    \u001b[32m'OEselma Descriptors;aromatic_ring_count'\u001b[0m,\n",
       "    \u001b[32m'OEselma Descriptors;atom_count'\u001b[0m,\n",
       "    \u001b[32m'OEselma Descriptors;bond_count'\u001b[0m,\n",
       "    \u001b[32m'OEselma Descriptors;rigid_bond_count'\u001b[0m,\n",
       "    \u001b[32m'OEselma Descriptors;ring_count'\u001b[0m,\n",
       "    \u001b[32m'OEselma Descriptors;rot_bond_count'\u001b[0m,\n",
       "    \u001b[32m'OEselma Descriptors;oxygen_count'\u001b[0m,\n",
       "    \u001b[32m'OEselma Descriptors;psa'\u001b[0m,\n",
       "    \u001b[32m'OEselma Descriptors;phosphorous_count'\u001b[0m,\n",
       "    \u001b[32m'OEselma Descriptors;polar_count'\u001b[0m,\n",
       "    \u001b[32m'OEselma Descriptors;polar_count_per_mw'\u001b[0m,\n",
       "    \u001b[32m'OEselma Descriptors;pos_ioniz'\u001b[0m,\n",
       "    \u001b[32m'OEselma Descriptors;silicon_count'\u001b[0m,\n",
       "    \u001b[32m'OEselma Descriptors;sulphur_count'\u001b[0m,\n",
       "    \u001b[32m'OEselma Descriptors;tsa'\u001b[0m,\n",
       "    \u001b[32m'Ertl TPSA;Ertl TPSA'\u001b[0m,\n",
       "    \u001b[32m'Exact Mass;Exact Mass'\u001b[0m,\n",
       "    \u001b[32m'Heavy Atom Count;Heavy Atom Count'\u001b[0m,\n",
       "    \u001b[32m'Molecular Volume \u001b[0m\u001b[32m(\u001b[0m\u001b[32m2D\u001b[0m\u001b[32m)\u001b[0m\u001b[32m;Molecular Volume \u001b[0m\u001b[32m(\u001b[0m\u001b[32m2D\u001b[0m\u001b[32m)\u001b[0m\u001b[32m'\u001b[0m,\n",
       "    \u001b[32m'Molecular Weight;Molecular Weight'\u001b[0m,\n",
       "    \u001b[32m'NPSA;NPSA'\u001b[0m,\n",
       "    \u001b[32m'PSA;PSA'\u001b[0m,\n",
       "    \u001b[32m'Ring Count;Ring Count'\u001b[0m,\n",
       "    \u001b[32m'Rotatable Bond Count;Rotatable Bond Count'\u001b[0m,\n",
       "    \u001b[32m'AZlogD74;prediction'\u001b[0m,\n",
       "    \u001b[32m'AZlogD74;sd_prediction'\u001b[0m,\n",
       "    \u001b[32m'ChromlogD;prediction'\u001b[0m,\n",
       "    \u001b[32m'ChromlogD;sd_prediction'\u001b[0m,\n",
       "    \u001b[32m'ALogP'\u001b[0m,\n",
       "    \u001b[32m'Mol Weight'\u001b[0m,\n",
       "    \u001b[32m'Molar Refractivity'\u001b[0m,\n",
       "    \u001b[32m'Polarizability'\u001b[0m,\n",
       "    \u001b[32m'TPSA'\u001b[0m,\n",
       "    \u001b[32m'Solubility DD Class;confidence'\u001b[0m,\n",
       "    \u001b[32m'Solubility DD Class;credibility'\u001b[0m,\n",
       "    \u001b[32m'SCScore;SCScore'\u001b[0m,\n",
       "    \u001b[32m'AZlogD74 \u001b[0m\u001b[32m(\u001b[0m\u001b[32mNN\u001b[0m\u001b[32m)\u001b[0m\u001b[32m;nearest_neighbours\u001b[0m\u001b[32m[\u001b[0m\u001b[32m]\u001b[0m\u001b[32m- GT similarity'\u001b[0m,\n",
       "    \u001b[32m'AZlogD74 \u001b[0m\u001b[32m(\u001b[0m\u001b[32mNN\u001b[0m\u001b[32m)\u001b[0m\u001b[32m;nearest_neighbours\u001b[0m\u001b[32m[\u001b[0m\u001b[32m]\u001b[0m\u001b[32m- GT measured'\u001b[0m,\n",
       "    \u001b[32m'clogP;clogp'\u001b[0m,\n",
       "    \u001b[32m'clogP;clogp_error'\u001b[0m,\n",
       "    \u001b[32m'OEselma Descriptors;part_flex_chain'\u001b[0m\n",
       "\u001b[1m]\u001b[0m\n"
      ]
     },
     "metadata": {},
     "output_type": "display_data"
    }
   ],
   "source": [
    "descriptors = list()\n",
    "\n",
    "# consider only descriptors which have few missing values and which are floating point\n",
    "for d in df:\n",
    "    if df[d].isna().sum() < 800 and df[d].dtype == np.float64:\n",
    "        descriptors.append(d)\n",
    "\n",
    "num_descriptors = len(descriptors)\n",
    "print(descriptors)\n",
    "\n",
    "# select only smiles which have these descriptor values\n",
    "train_smiles = set(train_molecules)\n",
    "test_smiles = set(test_molecules)\n",
    "\n",
    "for i,d in enumerate(descriptors):\n",
    "    avail_rows = df[np.logical_not(df[d].isna())]\n",
    "    train_smiles = set(avail_rows[\"SMILES\"]).intersection(train_smiles)\n",
    "    test_smiles = set(avail_rows[\"SMILES\"]).intersection(test_smiles)\n",
    "\n",
    "train_idxs = np.asarray(sorted([ train_molecules.index(t) for t in train_smiles ]))\n",
    "test_idxs = np.asarray(sorted([ test_molecules.index(t) for t in test_smiles ]))\n",
    "\n",
    "train_molecules = np.asarray(train_molecules)\n",
    "train_molecules = train_molecules[train_idxs]\n",
    "train_data = train_data[train_idxs]\n",
    "\n",
    "test_molecules = np.asarray(test_molecules)\n",
    "test_molecules = test_molecules[test_idxs]\n",
    "test_data = test_data[test_idxs]"
   ]
  },
  {
   "cell_type": "code",
   "execution_count": 33,
   "id": "cc81e5d5",
   "metadata": {},
   "outputs": [
    {
     "data": {
      "text/html": [
       "<pre style=\"white-space:pre;overflow-x:auto;line-height:normal;font-family:Menlo,'DejaVu Sans Mono',consolas,'Courier New',monospace\"><span style=\"font-weight: bold\">(</span><span style=\"color: #008080; text-decoration-color: #008080; font-weight: bold\">7202</span>, <span style=\"color: #008080; text-decoration-color: #008080; font-weight: bold\">9</span>, <span style=\"color: #008080; text-decoration-color: #008080; font-weight: bold\">20</span>, <span style=\"color: #008080; text-decoration-color: #008080; font-weight: bold\">20</span><span style=\"font-weight: bold\">)</span>\n",
       "<span style=\"font-weight: bold\">(</span><span style=\"color: #008080; text-decoration-color: #008080; font-weight: bold\">1790</span>, <span style=\"color: #008080; text-decoration-color: #008080; font-weight: bold\">9</span>, <span style=\"color: #008080; text-decoration-color: #008080; font-weight: bold\">20</span>, <span style=\"color: #008080; text-decoration-color: #008080; font-weight: bold\">20</span><span style=\"font-weight: bold\">)</span>\n",
       "</pre>\n"
      ],
      "text/plain": [
       "\u001b[1m(\u001b[0m\u001b[1;36m7202\u001b[0m, \u001b[1;36m9\u001b[0m, \u001b[1;36m20\u001b[0m, \u001b[1;36m20\u001b[0m\u001b[1m)\u001b[0m\n",
       "\u001b[1m(\u001b[0m\u001b[1;36m1790\u001b[0m, \u001b[1;36m9\u001b[0m, \u001b[1;36m20\u001b[0m, \u001b[1;36m20\u001b[0m\u001b[1m)\u001b[0m\n"
      ]
     },
     "metadata": {},
     "output_type": "display_data"
    }
   ],
   "source": [
    "print(train_data.shape, test_data.shape)"
   ]
  },
  {
   "cell_type": "markdown",
   "id": "57486b94",
   "metadata": {},
   "source": [
    "### Build numpy arrays of descriptors"
   ]
  },
  {
   "cell_type": "code",
   "execution_count": 34,
   "id": "e1f4a6f7",
   "metadata": {},
   "outputs": [
    {
     "data": {
      "application/vnd.jupyter.widget-view+json": {
       "model_id": "6739bedaeb7e498b87f9a63ffcb7ea22",
       "version_major": 2,
       "version_minor": 0
      },
      "text/plain": [
       "  0%|          | 0/7202 [00:00<?, ?it/s]"
      ]
     },
     "metadata": {},
     "output_type": "display_data"
    },
    {
     "data": {
      "application/vnd.jupyter.widget-view+json": {
       "model_id": "d6f2350063824c0694e07bb72852f513",
       "version_major": 2,
       "version_minor": 0
      },
      "text/plain": [
       "  0%|          | 0/1790 [00:00<?, ?it/s]"
      ]
     },
     "metadata": {},
     "output_type": "display_data"
    }
   ],
   "source": [
    "train_labels = np.empty((train_data.shape[0], num_descriptors))\n",
    "test_labels = np.empty((test_data.shape[0], num_descriptors))\n",
    "train_labels[:] = np.nan\n",
    "test_labels[:] = np.nan\n",
    "\n",
    "for i,mol in enumerate(tqdm(train_molecules)):\n",
    "    data_row = df.loc[df['SMILES'] == mol, descriptors ]\n",
    "    data_vec = [ r.to_list()[-1] for l,r in data_row.items() ]\n",
    "    train_labels[i,:] = np.asarray(data_vec)\n",
    "\n",
    "for i,mol in enumerate(tqdm(test_molecules)):\n",
    "    data_row = df.loc[df['SMILES'] == mol, descriptors ]\n",
    "    data_vec = [ r.to_list()[-1] for l,r in data_row.items() ]\n",
    "    test_labels[i,:] = np.asarray(data_vec)"
   ]
  },
  {
   "cell_type": "code",
   "execution_count": 43,
   "id": "4f2e878e",
   "metadata": {},
   "outputs": [
    {
     "data": {
      "text/html": [
       "<pre style=\"white-space:pre;overflow-x:auto;line-height:normal;font-family:Menlo,'DejaVu Sans Mono',consolas,'Courier New',monospace\"><span style=\"color: #00ff00; text-decoration-color: #00ff00; font-style: italic\">True</span> <span style=\"color: #00ff00; text-decoration-color: #00ff00; font-style: italic\">True</span>\n",
       "</pre>\n"
      ],
      "text/plain": [
       "\u001b[3;92mTrue\u001b[0m \u001b[3;92mTrue\u001b[0m\n"
      ]
     },
     "metadata": {},
     "output_type": "display_data"
    }
   ],
   "source": [
    "print(not np.isnan(train_labels).any(), not np.isnan(test_labels).any())"
   ]
  },
  {
   "cell_type": "code",
   "execution_count": 48,
   "id": "19245bbb",
   "metadata": {},
   "outputs": [
    {
     "data": {
      "text/html": [
       "<pre style=\"white-space:pre;overflow-x:auto;line-height:normal;font-family:Menlo,'DejaVu Sans Mono',consolas,'Courier New',monospace\"><span style=\"font-weight: bold\">[</span>  <span style=\"color: #008080; text-decoration-color: #008080; font-weight: bold\">4.05</span>   <span style=\"color: #008080; text-decoration-color: #008080; font-weight: bold\">4.05</span>   <span style=\"color: #008080; text-decoration-color: #008080; font-weight: bold\">0</span>.     <span style=\"color: #008080; text-decoration-color: #008080; font-weight: bold\">6.98</span>   <span style=\"color: #008080; text-decoration-color: #008080; font-weight: bold\">2.16</span>   <span style=\"color: #008080; text-decoration-color: #008080; font-weight: bold\">9.24</span>   <span style=\"color: #008080; text-decoration-color: #008080; font-weight: bold\">7.76</span>  <span style=\"color: #008080; text-decoration-color: #008080; font-weight: bold\">-4.37</span>   <span style=\"color: #008080; text-decoration-color: #008080; font-weight: bold\">3.85</span>   <span style=\"color: #008080; text-decoration-color: #008080; font-weight: bold\">0</span>.\n",
       "   <span style=\"color: #008080; text-decoration-color: #008080; font-weight: bold\">0</span>.    <span style=\"color: #008080; text-decoration-color: #008080; font-weight: bold\">17</span>.     <span style=\"color: #008080; text-decoration-color: #008080; font-weight: bold\">0</span>.    <span style=\"color: #008080; text-decoration-color: #008080; font-weight: bold\">31.58</span>   <span style=\"color: #008080; text-decoration-color: #008080; font-weight: bold\">0</span>.     <span style=\"color: #008080; text-decoration-color: #008080; font-weight: bold\">2</span>.     <span style=\"color: #008080; text-decoration-color: #008080; font-weight: bold\">2</span>.     <span style=\"color: #008080; text-decoration-color: #008080; font-weight: bold\">2</span>.     <span style=\"color: #008080; text-decoration-color: #008080; font-weight: bold\">2</span>.     <span style=\"color: #008080; text-decoration-color: #008080; font-weight: bold\">0</span>.\n",
       "   <span style=\"color: #008080; text-decoration-color: #008080; font-weight: bold\">0</span>.     <span style=\"color: #008080; text-decoration-color: #008080; font-weight: bold\">2</span>.     <span style=\"color: #008080; text-decoration-color: #008080; font-weight: bold\">0</span>.     <span style=\"color: #008080; text-decoration-color: #008080; font-weight: bold\">0</span>.     <span style=\"color: #008080; text-decoration-color: #008080; font-weight: bold\">8</span>.   <span style=\"color: #008080; text-decoration-color: #008080; font-weight: bold\">422.11</span> <span style=\"color: #008080; text-decoration-color: #008080; font-weight: bold\">246.3</span>  <span style=\"color: #008080; text-decoration-color: #008080; font-weight: bold\">237.21</span>   <span style=\"color: #008080; text-decoration-color: #008080; font-weight: bold\">0</span>.     <span style=\"color: #008080; text-decoration-color: #008080; font-weight: bold\">2</span>.\n",
       "  <span style=\"color: #008080; text-decoration-color: #008080; font-weight: bold\">17</span>.     <span style=\"color: #008080; text-decoration-color: #008080; font-weight: bold\">0.07</span>   <span style=\"color: #008080; text-decoration-color: #008080; font-weight: bold\">4</span>.     <span style=\"color: #008080; text-decoration-color: #008080; font-weight: bold\">4</span>.    <span style=\"color: #008080; text-decoration-color: #008080; font-weight: bold\">19</span>.    <span style=\"color: #008080; text-decoration-color: #008080; font-weight: bold\">22</span>.    <span style=\"color: #008080; text-decoration-color: #008080; font-weight: bold\">20</span>.     <span style=\"color: #008080; text-decoration-color: #008080; font-weight: bold\">4</span>.     <span style=\"color: #008080; text-decoration-color: #008080; font-weight: bold\">2</span>.     <span style=\"color: #008080; text-decoration-color: #008080; font-weight: bold\">0</span>.\n",
       "  <span style=\"color: #008080; text-decoration-color: #008080; font-weight: bold\">27.94</span>   <span style=\"color: #008080; text-decoration-color: #008080; font-weight: bold\">0</span>.     <span style=\"color: #008080; text-decoration-color: #008080; font-weight: bold\">0</span>.     <span style=\"color: #008080; text-decoration-color: #008080; font-weight: bold\">0</span>.     <span style=\"color: #008080; text-decoration-color: #008080; font-weight: bold\">0</span>.     <span style=\"color: #008080; text-decoration-color: #008080; font-weight: bold\">0</span>.     <span style=\"color: #008080; text-decoration-color: #008080; font-weight: bold\">0</span>.   <span style=\"color: #008080; text-decoration-color: #008080; font-weight: bold\">265</span>.    <span style=\"color: #008080; text-decoration-color: #008080; font-weight: bold\">31.58</span> <span style=\"color: #008080; text-decoration-color: #008080; font-weight: bold\">246.12</span>\n",
       "  <span style=\"color: #008080; text-decoration-color: #008080; font-weight: bold\">19</span>.   <span style=\"color: #008080; text-decoration-color: #008080; font-weight: bold\">422.11</span> <span style=\"color: #008080; text-decoration-color: #008080; font-weight: bold\">246.3</span>  <span style=\"color: #008080; text-decoration-color: #008080; font-weight: bold\">237.21</span>  <span style=\"color: #008080; text-decoration-color: #008080; font-weight: bold\">27.94</span>   <span style=\"color: #008080; text-decoration-color: #008080; font-weight: bold\">4</span>.     <span style=\"color: #008080; text-decoration-color: #008080; font-weight: bold\">2</span>.     <span style=\"color: #008080; text-decoration-color: #008080; font-weight: bold\">3.37</span>   <span style=\"color: #008080; text-decoration-color: #008080; font-weight: bold\">0.48</span>   <span style=\"color: #008080; text-decoration-color: #008080; font-weight: bold\">3.74</span>\n",
       "   <span style=\"color: #008080; text-decoration-color: #008080; font-weight: bold\">0.74</span>   <span style=\"color: #008080; text-decoration-color: #008080; font-weight: bold\">3.67</span> <span style=\"color: #008080; text-decoration-color: #008080; font-weight: bold\">246.31</span>  <span style=\"color: #008080; text-decoration-color: #008080; font-weight: bold\">77.97</span>  <span style=\"color: #008080; text-decoration-color: #008080; font-weight: bold\">32.47</span>  <span style=\"color: #008080; text-decoration-color: #008080; font-weight: bold\">31.58</span>   <span style=\"color: #008080; text-decoration-color: #008080; font-weight: bold\">0.89</span>   <span style=\"color: #008080; text-decoration-color: #008080; font-weight: bold\">0.29</span>   <span style=\"color: #008080; text-decoration-color: #008080; font-weight: bold\">2.44</span>   <span style=\"color: #008080; text-decoration-color: #008080; font-weight: bold\">0.6</span>\n",
       "   <span style=\"color: #008080; text-decoration-color: #008080; font-weight: bold\">0.74</span>   <span style=\"color: #008080; text-decoration-color: #008080; font-weight: bold\">4.19</span>   <span style=\"color: #008080; text-decoration-color: #008080; font-weight: bold\">0</span>.     <span style=\"color: #008080; text-decoration-color: #008080; font-weight: bold\">2</span>.  <span style=\"font-weight: bold\">]</span>\n",
       "</pre>\n"
      ],
      "text/plain": [
       "\u001b[1m[\u001b[0m  \u001b[1;36m4.05\u001b[0m   \u001b[1;36m4.05\u001b[0m   \u001b[1;36m0\u001b[0m.     \u001b[1;36m6.98\u001b[0m   \u001b[1;36m2.16\u001b[0m   \u001b[1;36m9.24\u001b[0m   \u001b[1;36m7.76\u001b[0m  \u001b[1;36m-4.37\u001b[0m   \u001b[1;36m3.85\u001b[0m   \u001b[1;36m0\u001b[0m.\n",
       "   \u001b[1;36m0\u001b[0m.    \u001b[1;36m17\u001b[0m.     \u001b[1;36m0\u001b[0m.    \u001b[1;36m31.58\u001b[0m   \u001b[1;36m0\u001b[0m.     \u001b[1;36m2\u001b[0m.     \u001b[1;36m2\u001b[0m.     \u001b[1;36m2\u001b[0m.     \u001b[1;36m2\u001b[0m.     \u001b[1;36m0\u001b[0m.\n",
       "   \u001b[1;36m0\u001b[0m.     \u001b[1;36m2\u001b[0m.     \u001b[1;36m0\u001b[0m.     \u001b[1;36m0\u001b[0m.     \u001b[1;36m8\u001b[0m.   \u001b[1;36m422.11\u001b[0m \u001b[1;36m246.3\u001b[0m  \u001b[1;36m237.21\u001b[0m   \u001b[1;36m0\u001b[0m.     \u001b[1;36m2\u001b[0m.\n",
       "  \u001b[1;36m17\u001b[0m.     \u001b[1;36m0.07\u001b[0m   \u001b[1;36m4\u001b[0m.     \u001b[1;36m4\u001b[0m.    \u001b[1;36m19\u001b[0m.    \u001b[1;36m22\u001b[0m.    \u001b[1;36m20\u001b[0m.     \u001b[1;36m4\u001b[0m.     \u001b[1;36m2\u001b[0m.     \u001b[1;36m0\u001b[0m.\n",
       "  \u001b[1;36m27.94\u001b[0m   \u001b[1;36m0\u001b[0m.     \u001b[1;36m0\u001b[0m.     \u001b[1;36m0\u001b[0m.     \u001b[1;36m0\u001b[0m.     \u001b[1;36m0\u001b[0m.     \u001b[1;36m0\u001b[0m.   \u001b[1;36m265\u001b[0m.    \u001b[1;36m31.58\u001b[0m \u001b[1;36m246.12\u001b[0m\n",
       "  \u001b[1;36m19\u001b[0m.   \u001b[1;36m422.11\u001b[0m \u001b[1;36m246.3\u001b[0m  \u001b[1;36m237.21\u001b[0m  \u001b[1;36m27.94\u001b[0m   \u001b[1;36m4\u001b[0m.     \u001b[1;36m2\u001b[0m.     \u001b[1;36m3.37\u001b[0m   \u001b[1;36m0.48\u001b[0m   \u001b[1;36m3.74\u001b[0m\n",
       "   \u001b[1;36m0.74\u001b[0m   \u001b[1;36m3.67\u001b[0m \u001b[1;36m246.31\u001b[0m  \u001b[1;36m77.97\u001b[0m  \u001b[1;36m32.47\u001b[0m  \u001b[1;36m31.58\u001b[0m   \u001b[1;36m0.89\u001b[0m   \u001b[1;36m0.29\u001b[0m   \u001b[1;36m2.44\u001b[0m   \u001b[1;36m0.6\u001b[0m\n",
       "   \u001b[1;36m0.74\u001b[0m   \u001b[1;36m4.19\u001b[0m   \u001b[1;36m0\u001b[0m.     \u001b[1;36m2\u001b[0m.  \u001b[1m]\u001b[0m\n"
      ]
     },
     "metadata": {},
     "output_type": "display_data"
    }
   ],
   "source": [
    "with np.printoptions(2, suppress = True):\n",
    "    print(choice(train_labels))"
   ]
  },
  {
   "cell_type": "markdown",
   "id": "3a99dffe",
   "metadata": {},
   "source": [
    "# Setup CNN"
   ]
  },
  {
   "cell_type": "code",
   "execution_count": 49,
   "id": "5228f880",
   "metadata": {},
   "outputs": [
    {
     "name": "stderr",
     "output_type": "stream",
     "text": [
      "2022-01-07 20:05:48.605844: I tensorflow/core/platform/cpu_feature_guard.cc:151] This TensorFlow binary is optimized with oneAPI Deep Neural Network Library (oneDNN) to use the following CPU instructions in performance-critical operations:  AVX2 FMA\n",
      "To enable them in other operations, rebuild TensorFlow with the appropriate compiler flags.\n",
      "2022-01-07 20:05:49.077978: I tensorflow/core/common_runtime/gpu/gpu_device.cc:1525] Created device /job:localhost/replica:0/task:0/device:GPU:0 with 7007 MB memory:  -> device: 0, name: NVIDIA GeForce GTX 1070 Ti, pci bus id: 0000:01:00.0, compute capability: 6.1\n"
     ]
    }
   ],
   "source": [
    "model = tf.keras.Sequential([\n",
    "    tf.keras.layers.Conv2D(\n",
    "        filters = 32,\n",
    "        kernel_size = 3, # sliding window\n",
    "        input_shape = train_data.shape[1:],\n",
    "        data_format = \"channels_first\",\n",
    "        activation = \"relu\",\n",
    "    ),\n",
    "    tf.keras.layers.MaxPooling2D(),\n",
    "    tf.keras.layers.Flatten(),\n",
    "    tf.keras.layers.Dense(num_descriptors),\n",
    "])"
   ]
  },
  {
   "cell_type": "code",
   "execution_count": 50,
   "id": "c5ac40eb",
   "metadata": {},
   "outputs": [
    {
     "name": "stdout",
     "output_type": "stream",
     "text": [
      "Model: \"sequential\"\n",
      "_________________________________________________________________\n",
      " Layer (type)                Output Shape              Param #   \n",
      "=================================================================\n",
      " conv2d (Conv2D)             (None, 32, 18, 18)        2624      \n",
      "                                                                 \n",
      " max_pooling2d (MaxPooling2D  (None, 16, 9, 18)        0         \n",
      " )                                                               \n",
      "                                                                 \n",
      " flatten (Flatten)           (None, 2592)              0         \n",
      "                                                                 \n",
      " dense (Dense)               (None, 74)                191882    \n",
      "                                                                 \n",
      "=================================================================\n",
      "Total params: 194,506\n",
      "Trainable params: 194,506\n",
      "Non-trainable params: 0\n",
      "_________________________________________________________________\n"
     ]
    }
   ],
   "source": [
    "model.summary()"
   ]
  },
  {
   "cell_type": "code",
   "execution_count": 51,
   "id": "8635c11c",
   "metadata": {},
   "outputs": [],
   "source": [
    "model.compile(\n",
    "    optimizer = 'adam',\n",
    "    loss = \"mean_absolute_error\",\n",
    ")"
   ]
  },
  {
   "cell_type": "code",
   "execution_count": 52,
   "id": "1e2ab586",
   "metadata": {
    "scrolled": true
   },
   "outputs": [
    {
     "name": "stdout",
     "output_type": "stream",
     "text": [
      "Epoch 1/100\n"
     ]
    },
    {
     "name": "stderr",
     "output_type": "stream",
     "text": [
      "2022-01-07 20:06:07.198085: I tensorflow/stream_executor/cuda/cuda_dnn.cc:366] Loaded cuDNN version 8301\n"
     ]
    },
    {
     "name": "stdout",
     "output_type": "stream",
     "text": [
      "181/181 [==============================] - 2s 4ms/step - loss: 23.8283 - val_loss: 18.5936\n",
      "Epoch 2/100\n",
      "181/181 [==============================] - 0s 3ms/step - loss: 18.3899 - val_loss: 17.9613\n",
      "Epoch 3/100\n",
      "181/181 [==============================] - 0s 2ms/step - loss: 17.3852 - val_loss: 16.8048\n",
      "Epoch 4/100\n",
      "181/181 [==============================] - 0s 2ms/step - loss: 16.5166 - val_loss: 15.9264\n",
      "Epoch 5/100\n",
      "181/181 [==============================] - 0s 3ms/step - loss: 16.0372 - val_loss: 16.5548\n",
      "Epoch 6/100\n",
      "181/181 [==============================] - 1s 3ms/step - loss: 15.7165 - val_loss: 16.0463\n",
      "Epoch 7/100\n",
      "181/181 [==============================] - 0s 3ms/step - loss: 15.4477 - val_loss: 15.1683\n",
      "Epoch 8/100\n",
      "181/181 [==============================] - 0s 2ms/step - loss: 15.1723 - val_loss: 15.5632\n",
      "Epoch 9/100\n",
      "181/181 [==============================] - 0s 2ms/step - loss: 15.1319 - val_loss: 15.2863\n",
      "Epoch 10/100\n",
      "181/181 [==============================] - 1s 3ms/step - loss: 14.9590 - val_loss: 15.0211\n",
      "Epoch 11/100\n",
      "181/181 [==============================] - 1s 3ms/step - loss: 14.7596 - val_loss: 14.8826\n",
      "Epoch 12/100\n",
      "181/181 [==============================] - 1s 3ms/step - loss: 14.6279 - val_loss: 15.1886\n",
      "Epoch 13/100\n",
      "181/181 [==============================] - 0s 3ms/step - loss: 14.6141 - val_loss: 14.7459\n",
      "Epoch 14/100\n",
      "181/181 [==============================] - 0s 2ms/step - loss: 14.5775 - val_loss: 14.6381\n",
      "Epoch 15/100\n",
      "181/181 [==============================] - 1s 3ms/step - loss: 14.5278 - val_loss: 14.7389\n",
      "Epoch 16/100\n",
      "181/181 [==============================] - 0s 3ms/step - loss: 14.4400 - val_loss: 14.5163\n",
      "Epoch 17/100\n",
      "181/181 [==============================] - 1s 3ms/step - loss: 14.2907 - val_loss: 14.5372\n",
      "Epoch 18/100\n",
      "181/181 [==============================] - 0s 2ms/step - loss: 14.2690 - val_loss: 14.7265\n",
      "Epoch 19/100\n",
      "181/181 [==============================] - 0s 3ms/step - loss: 14.3633 - val_loss: 14.7490\n",
      "Epoch 20/100\n",
      "181/181 [==============================] - 0s 3ms/step - loss: 14.2005 - val_loss: 14.2878\n",
      "Epoch 21/100\n",
      "181/181 [==============================] - 1s 3ms/step - loss: 14.1511 - val_loss: 14.4808\n",
      "Epoch 22/100\n",
      "181/181 [==============================] - 1s 3ms/step - loss: 14.1791 - val_loss: 14.2639\n",
      "Epoch 23/100\n",
      "181/181 [==============================] - 0s 3ms/step - loss: 14.0448 - val_loss: 14.5314\n",
      "Epoch 24/100\n",
      "181/181 [==============================] - 0s 2ms/step - loss: 14.0704 - val_loss: 14.1391\n",
      "Epoch 25/100\n",
      "181/181 [==============================] - 1s 3ms/step - loss: 13.9814 - val_loss: 14.1751\n",
      "Epoch 26/100\n",
      "181/181 [==============================] - 0s 3ms/step - loss: 13.9839 - val_loss: 14.2540\n",
      "Epoch 27/100\n",
      "181/181 [==============================] - 1s 3ms/step - loss: 13.9205 - val_loss: 14.3957\n",
      "Epoch 28/100\n",
      "181/181 [==============================] - 0s 3ms/step - loss: 13.9279 - val_loss: 14.4691\n",
      "Epoch 29/100\n",
      "181/181 [==============================] - 0s 3ms/step - loss: 13.9128 - val_loss: 14.0552\n",
      "Epoch 30/100\n",
      "181/181 [==============================] - 1s 3ms/step - loss: 13.8287 - val_loss: 14.1475\n",
      "Epoch 31/100\n",
      "181/181 [==============================] - 0s 3ms/step - loss: 13.8240 - val_loss: 14.1205\n",
      "Epoch 32/100\n",
      "181/181 [==============================] - 1s 3ms/step - loss: 13.8487 - val_loss: 14.1542\n",
      "Epoch 33/100\n",
      "181/181 [==============================] - 0s 3ms/step - loss: 13.7543 - val_loss: 14.2970\n",
      "Epoch 34/100\n",
      "181/181 [==============================] - 0s 3ms/step - loss: 13.7694 - val_loss: 14.1210\n",
      "Epoch 35/100\n",
      "181/181 [==============================] - 1s 3ms/step - loss: 13.7755 - val_loss: 14.1770\n",
      "Epoch 36/100\n",
      "181/181 [==============================] - 1s 3ms/step - loss: 13.7385 - val_loss: 14.0784\n",
      "Epoch 37/100\n",
      "181/181 [==============================] - 1s 3ms/step - loss: 13.6722 - val_loss: 14.5608\n",
      "Epoch 38/100\n",
      "181/181 [==============================] - 0s 3ms/step - loss: 13.7289 - val_loss: 14.1787\n",
      "Epoch 39/100\n",
      "181/181 [==============================] - 1s 3ms/step - loss: 13.7576 - val_loss: 14.4522\n",
      "Epoch 40/100\n",
      "181/181 [==============================] - 1s 3ms/step - loss: 13.6688 - val_loss: 14.0682\n",
      "Epoch 41/100\n",
      "181/181 [==============================] - 1s 3ms/step - loss: 13.6325 - val_loss: 14.1767\n",
      "Epoch 42/100\n",
      "181/181 [==============================] - 1s 3ms/step - loss: 13.6058 - val_loss: 14.2876\n",
      "Epoch 43/100\n",
      "181/181 [==============================] - 0s 2ms/step - loss: 13.6012 - val_loss: 14.1049\n",
      "Epoch 44/100\n",
      "181/181 [==============================] - 0s 3ms/step - loss: 13.6200 - val_loss: 14.1046\n",
      "Epoch 45/100\n",
      "181/181 [==============================] - 0s 3ms/step - loss: 13.5822 - val_loss: 14.4893\n",
      "Epoch 46/100\n",
      "181/181 [==============================] - 1s 3ms/step - loss: 13.7524 - val_loss: 14.2881\n",
      "Epoch 47/100\n",
      "181/181 [==============================] - 1s 3ms/step - loss: 13.5710 - val_loss: 14.2424\n",
      "Epoch 48/100\n",
      "181/181 [==============================] - 1s 3ms/step - loss: 13.5032 - val_loss: 14.1892\n",
      "Epoch 49/100\n",
      "181/181 [==============================] - 1s 3ms/step - loss: 13.4840 - val_loss: 14.5340\n",
      "Epoch 50/100\n",
      "181/181 [==============================] - 1s 3ms/step - loss: 13.5951 - val_loss: 14.4159\n",
      "Epoch 51/100\n",
      "181/181 [==============================] - 1s 3ms/step - loss: 13.5596 - val_loss: 14.3230\n",
      "Epoch 52/100\n",
      "181/181 [==============================] - 0s 3ms/step - loss: 13.5298 - val_loss: 14.0002\n",
      "Epoch 53/100\n",
      "181/181 [==============================] - 0s 3ms/step - loss: 13.4424 - val_loss: 13.8643\n",
      "Epoch 54/100\n",
      "181/181 [==============================] - 0s 3ms/step - loss: 13.3887 - val_loss: 14.0310\n",
      "Epoch 55/100\n",
      "181/181 [==============================] - 1s 3ms/step - loss: 13.4081 - val_loss: 14.1649\n",
      "Epoch 56/100\n",
      "181/181 [==============================] - 1s 3ms/step - loss: 13.4080 - val_loss: 14.0497\n",
      "Epoch 57/100\n",
      "181/181 [==============================] - 0s 3ms/step - loss: 13.4287 - val_loss: 14.4891\n",
      "Epoch 58/100\n",
      "181/181 [==============================] - 0s 3ms/step - loss: 13.4568 - val_loss: 14.3947\n",
      "Epoch 59/100\n",
      "181/181 [==============================] - 1s 3ms/step - loss: 13.3886 - val_loss: 14.6666\n",
      "Epoch 60/100\n",
      "181/181 [==============================] - 0s 3ms/step - loss: 13.6727 - val_loss: 14.2053\n",
      "Epoch 61/100\n",
      "181/181 [==============================] - 1s 3ms/step - loss: 13.3509 - val_loss: 13.9244\n",
      "Epoch 62/100\n",
      "181/181 [==============================] - 0s 3ms/step - loss: 13.2904 - val_loss: 14.3462\n",
      "Epoch 63/100\n",
      "181/181 [==============================] - 0s 2ms/step - loss: 13.3072 - val_loss: 14.2725\n",
      "Epoch 64/100\n",
      "181/181 [==============================] - 1s 3ms/step - loss: 13.3522 - val_loss: 14.5940\n",
      "Epoch 65/100\n",
      "181/181 [==============================] - 1s 3ms/step - loss: 13.5098 - val_loss: 14.0373\n",
      "Epoch 66/100\n",
      "181/181 [==============================] - 1s 3ms/step - loss: 13.2707 - val_loss: 13.9425\n",
      "Epoch 67/100\n",
      "181/181 [==============================] - 1s 3ms/step - loss: 13.2470 - val_loss: 13.9825\n",
      "Epoch 68/100\n",
      "181/181 [==============================] - 0s 3ms/step - loss: 13.2785 - val_loss: 14.0905\n",
      "Epoch 69/100\n",
      "181/181 [==============================] - 1s 3ms/step - loss: 13.2396 - val_loss: 14.1424\n",
      "Epoch 70/100\n",
      "181/181 [==============================] - 1s 3ms/step - loss: 13.2674 - val_loss: 13.9506\n",
      "Epoch 71/100\n",
      "181/181 [==============================] - 0s 3ms/step - loss: 13.2557 - val_loss: 13.9182\n",
      "Epoch 72/100\n",
      "181/181 [==============================] - 0s 3ms/step - loss: 13.2125 - val_loss: 14.1597\n",
      "Epoch 73/100\n",
      "181/181 [==============================] - 0s 3ms/step - loss: 13.3082 - val_loss: 14.1369\n",
      "Epoch 74/100\n",
      "181/181 [==============================] - 0s 3ms/step - loss: 13.1917 - val_loss: 13.8960\n",
      "Epoch 75/100\n",
      "181/181 [==============================] - 1s 3ms/step - loss: 13.2356 - val_loss: 13.9326\n",
      "Epoch 76/100\n",
      "181/181 [==============================] - 1s 3ms/step - loss: 13.2360 - val_loss: 13.9573\n",
      "Epoch 77/100\n",
      "181/181 [==============================] - 1s 3ms/step - loss: 13.1601 - val_loss: 13.8114\n",
      "Epoch 78/100\n",
      "181/181 [==============================] - 1s 3ms/step - loss: 13.1806 - val_loss: 14.0063\n",
      "Epoch 79/100\n",
      "181/181 [==============================] - 1s 3ms/step - loss: 13.1309 - val_loss: 13.9178\n"
     ]
    },
    {
     "name": "stdout",
     "output_type": "stream",
     "text": [
      "Epoch 80/100\n",
      "181/181 [==============================] - 1s 3ms/step - loss: 13.1029 - val_loss: 13.8419\n",
      "Epoch 81/100\n",
      "181/181 [==============================] - 0s 3ms/step - loss: 13.1060 - val_loss: 14.1482\n",
      "Epoch 82/100\n",
      "181/181 [==============================] - 0s 2ms/step - loss: 13.1246 - val_loss: 13.9088\n",
      "Epoch 83/100\n",
      "181/181 [==============================] - 0s 3ms/step - loss: 13.1199 - val_loss: 13.8694\n",
      "Epoch 84/100\n",
      "181/181 [==============================] - 1s 3ms/step - loss: 13.1088 - val_loss: 13.9361\n",
      "Epoch 85/100\n",
      "181/181 [==============================] - 0s 3ms/step - loss: 13.0499 - val_loss: 14.0062\n",
      "Epoch 86/100\n",
      "181/181 [==============================] - 0s 2ms/step - loss: 13.0876 - val_loss: 14.2826\n",
      "Epoch 87/100\n",
      "181/181 [==============================] - 0s 3ms/step - loss: 13.1961 - val_loss: 13.9103\n",
      "Epoch 88/100\n",
      "181/181 [==============================] - 1s 3ms/step - loss: 13.1034 - val_loss: 13.7839\n",
      "Epoch 89/100\n",
      "181/181 [==============================] - 0s 3ms/step - loss: 13.0440 - val_loss: 13.8792\n",
      "Epoch 90/100\n",
      "181/181 [==============================] - 1s 3ms/step - loss: 13.0387 - val_loss: 14.0840\n",
      "Epoch 91/100\n",
      "181/181 [==============================] - 0s 2ms/step - loss: 13.1517 - val_loss: 14.2049\n",
      "Epoch 92/100\n",
      "181/181 [==============================] - 0s 3ms/step - loss: 13.1189 - val_loss: 14.2767\n",
      "Epoch 93/100\n",
      "181/181 [==============================] - 0s 3ms/step - loss: 13.0195 - val_loss: 13.9286\n",
      "Epoch 94/100\n",
      "181/181 [==============================] - 1s 3ms/step - loss: 12.9987 - val_loss: 13.9405\n",
      "Epoch 95/100\n",
      "181/181 [==============================] - 0s 3ms/step - loss: 12.9482 - val_loss: 14.0854\n",
      "Epoch 96/100\n",
      "181/181 [==============================] - 0s 3ms/step - loss: 12.9751 - val_loss: 14.1421\n",
      "Epoch 97/100\n",
      "181/181 [==============================] - 1s 3ms/step - loss: 13.0540 - val_loss: 14.2588\n",
      "Epoch 98/100\n",
      "181/181 [==============================] - 1s 4ms/step - loss: 13.0187 - val_loss: 13.6465\n",
      "Epoch 99/100\n",
      "181/181 [==============================] - 0s 3ms/step - loss: 12.9221 - val_loss: 14.0693\n",
      "Epoch 100/100\n",
      "181/181 [==============================] - 1s 3ms/step - loss: 13.0630 - val_loss: 13.8214\n",
      "CPU times: user 1min 1s, sys: 4.27 s, total: 1min 6s\n",
      "Wall time: 52 s\n"
     ]
    }
   ],
   "source": [
    "%%time\n",
    "history = model.fit(\n",
    "    train_data,\n",
    "    train_labels,\n",
    "    verbose = 1,\n",
    "    epochs = 100,\n",
    "    # Calculate validation results on 20% of the training data.\n",
    "    validation_split = 0.2\n",
    ")"
   ]
  },
  {
   "cell_type": "code",
   "execution_count": 53,
   "id": "6ab956c8",
   "metadata": {},
   "outputs": [
    {
     "data": {
      "image/png": "[encoded data removed]",
      "text/plain": [
       "<Figure size 432x288 with 1 Axes>"
      ]
     },
     "metadata": {
      "needs_background": "light"
     },
     "output_type": "display_data"
    }
   ],
   "source": [
    "def plot_loss(history):\n",
    "    plt.plot(history.history['loss'], label='loss')\n",
    "    plt.plot(history.history['val_loss'], label='val_loss')\n",
    "    #plt.ylim([0, 10])\n",
    "    plt.xlabel('Epoch')\n",
    "    plt.ylabel('Error')\n",
    "    plt.legend()\n",
    "    plt.grid(True)\n",
    "plot_loss(history)"
   ]
  },
  {
   "cell_type": "code",
   "execution_count": 64,
   "id": "fe30a3bc",
   "metadata": {
    "scrolled": false
   },
   "outputs": [
    {
     "data": {
      "text/html": [
       "<pre style=\"white-space:pre;overflow-x:auto;line-height:normal;font-family:Menlo,'DejaVu Sans Mono',consolas,'Courier New',monospace\">ACD Descriptors;logP <span style=\"color: #008080; text-decoration-color: #008080; font-weight: bold\">2.175722251811977</span>\n",
       "</pre>\n"
      ],
      "text/plain": [
       "ACD Descriptors;logP \u001b[1;36m2.175722251811977\u001b[0m\n"
      ]
     },
     "metadata": {},
     "output_type": "display_data"
    },
    {
     "data": {
      "text/html": [
       "<pre style=\"white-space:pre;overflow-x:auto;line-height:normal;font-family:Menlo,'DejaVu Sans Mono',consolas,'Courier New',monospace\">ACD logD-logP;logP <span style=\"color: #008080; text-decoration-color: #008080; font-weight: bold\">2.108158343066777</span>\n",
       "</pre>\n"
      ],
      "text/plain": [
       "ACD logD-logP;logP \u001b[1;36m2.108158343066777\u001b[0m\n"
      ]
     },
     "metadata": {},
     "output_type": "display_data"
    },
    {
     "data": {
      "text/html": [
       "<pre style=\"white-space:pre;overflow-x:auto;line-height:normal;font-family:Menlo,'DejaVu Sans Mono',consolas,'Courier New',monospace\">MOE Descriptors;h_ema <span style=\"color: #008080; text-decoration-color: #008080; font-weight: bold\">3.3224984301224723</span>\n",
       "</pre>\n"
      ],
      "text/plain": [
       "MOE Descriptors;h_ema \u001b[1;36m3.3224984301224723\u001b[0m\n"
      ]
     },
     "metadata": {},
     "output_type": "display_data"
    },
    {
     "data": {
      "text/html": [
       "<pre style=\"white-space:pre;overflow-x:auto;line-height:normal;font-family:Menlo,'DejaVu Sans Mono',consolas,'Courier New',monospace\">MOE Descriptors;h_emd <span style=\"color: #008080; text-decoration-color: #008080; font-weight: bold\">4.532254396181415</span>\n",
       "</pre>\n"
      ],
      "text/plain": [
       "MOE Descriptors;h_emd \u001b[1;36m4.532254396181415\u001b[0m\n"
      ]
     },
     "metadata": {},
     "output_type": "display_data"
    },
    {
     "data": {
      "text/html": [
       "<pre style=\"white-space:pre;overflow-x:auto;line-height:normal;font-family:Menlo,'DejaVu Sans Mono',consolas,'Courier New',monospace\">MOE Descriptors;h_emd_c <span style=\"color: #008080; text-decoration-color: #008080; font-weight: bold\">2.042645343658673</span>\n",
       "</pre>\n"
      ],
      "text/plain": [
       "MOE Descriptors;h_emd_c \u001b[1;36m2.042645343658673\u001b[0m\n"
      ]
     },
     "metadata": {},
     "output_type": "display_data"
    },
    {
     "data": {
      "text/html": [
       "<pre style=\"white-space:pre;overflow-x:auto;line-height:normal;font-family:Menlo,'DejaVu Sans Mono',consolas,'Courier New',monospace\">MOE Descriptors;h_logp <span style=\"color: #008080; text-decoration-color: #008080; font-weight: bold\">2.837468623731585</span>\n",
       "</pre>\n"
      ],
      "text/plain": [
       "MOE Descriptors;h_logp \u001b[1;36m2.837468623731585\u001b[0m\n"
      ]
     },
     "metadata": {},
     "output_type": "display_data"
    },
    {
     "data": {
      "text/html": [
       "<pre style=\"white-space:pre;overflow-x:auto;line-height:normal;font-family:Menlo,'DejaVu Sans Mono',consolas,'Courier New',monospace\">MOE Descriptors;h_logs <span style=\"color: #008080; text-decoration-color: #008080; font-weight: bold\">2.93867169371579</span>\n",
       "</pre>\n"
      ],
      "text/plain": [
       "MOE Descriptors;h_logs \u001b[1;36m2.93867169371579\u001b[0m\n"
      ]
     },
     "metadata": {},
     "output_type": "display_data"
    },
    {
     "data": {
      "text/html": [
       "<pre style=\"white-space:pre;overflow-x:auto;line-height:normal;font-family:Menlo,'DejaVu Sans Mono',consolas,'Courier New',monospace\">MOE Descriptors;h_log_dbo <span style=\"color: #008080; text-decoration-color: #008080; font-weight: bold\">1.6788299963707092</span>\n",
       "</pre>\n"
      ],
      "text/plain": [
       "MOE Descriptors;h_log_dbo \u001b[1;36m1.6788299963707092\u001b[0m\n"
      ]
     },
     "metadata": {},
     "output_type": "display_data"
    },
    {
     "data": {
      "text/html": [
       "<pre style=\"white-space:pre;overflow-x:auto;line-height:normal;font-family:Menlo,'DejaVu Sans Mono',consolas,'Courier New',monospace\">MOE Descriptors;h_log_pbo <span style=\"color: #008080; text-decoration-color: #008080; font-weight: bold\">1.9858739890466608</span>\n",
       "</pre>\n"
      ],
      "text/plain": [
       "MOE Descriptors;h_log_pbo \u001b[1;36m1.9858739890466608\u001b[0m\n"
      ]
     },
     "metadata": {},
     "output_type": "display_data"
    },
    {
     "data": {
      "text/html": [
       "<pre style=\"white-space:pre;overflow-x:auto;line-height:normal;font-family:Menlo,'DejaVu Sans Mono',consolas,'Courier New',monospace\">MOE Descriptors;h_mr <span style=\"color: #008080; text-decoration-color: #008080; font-weight: bold\">0.5025098942215575</span>\n",
       "</pre>\n"
      ],
      "text/plain": [
       "MOE Descriptors;h_mr \u001b[1;36m0.5025098942215575\u001b[0m\n"
      ]
     },
     "metadata": {},
     "output_type": "display_data"
    },
    {
     "data": {
      "text/html": [
       "<pre style=\"white-space:pre;overflow-x:auto;line-height:normal;font-family:Menlo,'DejaVu Sans Mono',consolas,'Courier New',monospace\">OEselma Descriptors;bromine_count <span style=\"color: #008080; text-decoration-color: #008080; font-weight: bold\">1.021538488097702</span>\n",
       "</pre>\n"
      ],
      "text/plain": [
       "OEselma Descriptors;bromine_count \u001b[1;36m1.021538488097702\u001b[0m\n"
      ]
     },
     "metadata": {},
     "output_type": "display_data"
    },
    {
     "data": {
      "text/html": [
       "<pre style=\"white-space:pre;overflow-x:auto;line-height:normal;font-family:Menlo,'DejaVu Sans Mono',consolas,'Courier New',monospace\">OEselma Descriptors;carbon_count <span style=\"color: #008080; text-decoration-color: #008080; font-weight: bold\">4.128358127409852</span>\n",
       "</pre>\n"
      ],
      "text/plain": [
       "OEselma Descriptors;carbon_count \u001b[1;36m4.128358127409852\u001b[0m\n"
      ]
     },
     "metadata": {},
     "output_type": "display_data"
    },
    {
     "data": {
      "text/html": [
       "<pre style=\"white-space:pre;overflow-x:auto;line-height:normal;font-family:Menlo,'DejaVu Sans Mono',consolas,'Courier New',monospace\">OEselma Descriptors;clorine_count <span style=\"color: #008080; text-decoration-color: #008080; font-weight: bold\">0.5200788190406253</span>\n",
       "</pre>\n"
      ],
      "text/plain": [
       "OEselma Descriptors;clorine_count \u001b[1;36m0.5200788190406253\u001b[0m\n"
      ]
     },
     "metadata": {},
     "output_type": "display_data"
    },
    {
     "data": {
      "text/html": [
       "<pre style=\"white-space:pre;overflow-x:auto;line-height:normal;font-family:Menlo,'DejaVu Sans Mono',consolas,'Courier New',monospace\">OEselma Descriptors;ertl_tpsa <span style=\"color: #008080; text-decoration-color: #008080; font-weight: bold\">41.30944687992033</span>\n",
       "</pre>\n"
      ],
      "text/plain": [
       "OEselma Descriptors;ertl_tpsa \u001b[1;36m41.30944687992033\u001b[0m\n"
      ]
     },
     "metadata": {},
     "output_type": "display_data"
    },
    {
     "data": {
      "text/html": [
       "<pre style=\"white-space:pre;overflow-x:auto;line-height:normal;font-family:Menlo,'DejaVu Sans Mono',consolas,'Courier New',monospace\">OEselma Descriptors;fluorine_count <span style=\"color: #008080; text-decoration-color: #008080; font-weight: bold\">0.720176883473701</span>\n",
       "</pre>\n"
      ],
      "text/plain": [
       "OEselma Descriptors;fluorine_count \u001b[1;36m0.720176883473701\u001b[0m\n"
      ]
     },
     "metadata": {},
     "output_type": "display_data"
    },
    {
     "data": {
      "text/html": [
       "<pre style=\"white-space:pre;overflow-x:auto;line-height:normal;font-family:Menlo,'DejaVu Sans Mono',consolas,'Courier New',monospace\">OEselma Descriptors;hba <span style=\"color: #008080; text-decoration-color: #008080; font-weight: bold\">2.970280602840738</span>\n",
       "</pre>\n"
      ],
      "text/plain": [
       "OEselma Descriptors;hba \u001b[1;36m2.970280602840738\u001b[0m\n"
      ]
     },
     "metadata": {},
     "output_type": "display_data"
    },
    {
     "data": {
      "text/html": [
       "<pre style=\"white-space:pre;overflow-x:auto;line-height:normal;font-family:Menlo,'DejaVu Sans Mono',consolas,'Courier New',monospace\">OEselma Descriptors;hba_lipinski <span style=\"color: #008080; text-decoration-color: #008080; font-weight: bold\">2.5581509375039424</span>\n",
       "</pre>\n"
      ],
      "text/plain": [
       "OEselma Descriptors;hba_lipinski \u001b[1;36m2.5581509375039424\u001b[0m\n"
      ]
     },
     "metadata": {},
     "output_type": "display_data"
    },
    {
     "data": {
      "text/html": [
       "<pre style=\"white-space:pre;overflow-x:auto;line-height:normal;font-family:Menlo,'DejaVu Sans Mono',consolas,'Courier New',monospace\">OEselma Descriptors;hbd <span style=\"color: #008080; text-decoration-color: #008080; font-weight: bold\">1.8966150021503092</span>\n",
       "</pre>\n"
      ],
      "text/plain": [
       "OEselma Descriptors;hbd \u001b[1;36m1.8966150021503092\u001b[0m\n"
      ]
     },
     "metadata": {},
     "output_type": "display_data"
    },
    {
     "data": {
      "text/html": [
       "<pre style=\"white-space:pre;overflow-x:auto;line-height:normal;font-family:Menlo,'DejaVu Sans Mono',consolas,'Courier New',monospace\">OEselma Descriptors;hbd_lipinski <span style=\"color: #008080; text-decoration-color: #008080; font-weight: bold\">1.9890858133156997</span>\n",
       "</pre>\n"
      ],
      "text/plain": [
       "OEselma Descriptors;hbd_lipinski \u001b[1;36m1.9890858133156997\u001b[0m\n"
      ]
     },
     "metadata": {},
     "output_type": "display_data"
    },
    {
     "data": {
      "text/html": [
       "<pre style=\"white-space:pre;overflow-x:auto;line-height:normal;font-family:Menlo,'DejaVu Sans Mono',consolas,'Courier New',monospace\">OEselma Descriptors;halogen_count <span style=\"color: #008080; text-decoration-color: #008080; font-weight: bold\">1.1485958052492133</span>\n",
       "</pre>\n"
      ],
      "text/plain": [
       "OEselma Descriptors;halogen_count \u001b[1;36m1.1485958052492133\u001b[0m\n"
      ]
     },
     "metadata": {},
     "output_type": "display_data"
    },
    {
     "data": {
      "text/html": [
       "<pre style=\"white-space:pre;overflow-x:auto;line-height:normal;font-family:Menlo,'DejaVu Sans Mono',consolas,'Courier New',monospace\">OEselma Descriptors;iodine_count <span style=\"color: #008080; text-decoration-color: #008080; font-weight: bold\">0.8940458145492071</span>\n",
       "</pre>\n"
      ],
      "text/plain": [
       "OEselma Descriptors;iodine_count \u001b[1;36m0.8940458145492071\u001b[0m\n"
      ]
     },
     "metadata": {},
     "output_type": "display_data"
    },
    {
     "data": {
      "text/html": [
       "<pre style=\"white-space:pre;overflow-x:auto;line-height:normal;font-family:Menlo,'DejaVu Sans Mono',consolas,'Courier New',monospace\">OEselma Descriptors;max_flex_chain_1 <span style=\"color: #008080; text-decoration-color: #008080; font-weight: bold\">3.212253316622956</span>\n",
       "</pre>\n"
      ],
      "text/plain": [
       "OEselma Descriptors;max_flex_chain_1 \u001b[1;36m3.212253316622956\u001b[0m\n"
      ]
     },
     "metadata": {},
     "output_type": "display_data"
    },
    {
     "data": {
      "text/html": [
       "<pre style=\"white-space:pre;overflow-x:auto;line-height:normal;font-family:Menlo,'DejaVu Sans Mono',consolas,'Courier New',monospace\">OEselma Descriptors;max_flex_chain_2 <span style=\"color: #008080; text-decoration-color: #008080; font-weight: bold\">1.1683571396550352</span>\n",
       "</pre>\n"
      ],
      "text/plain": [
       "OEselma Descriptors;max_flex_chain_2 \u001b[1;36m1.1683571396550352\u001b[0m\n"
      ]
     },
     "metadata": {},
     "output_type": "display_data"
    },
    {
     "data": {
      "text/html": [
       "<pre style=\"white-space:pre;overflow-x:auto;line-height:normal;font-family:Menlo,'DejaVu Sans Mono',consolas,'Courier New',monospace\">OEselma Descriptors;max_flex_chain_3 <span style=\"color: #008080; text-decoration-color: #008080; font-weight: bold\">1.4007692682920687</span>\n",
       "</pre>\n"
      ],
      "text/plain": [
       "OEselma Descriptors;max_flex_chain_3 \u001b[1;36m1.4007692682920687\u001b[0m\n"
      ]
     },
     "metadata": {},
     "output_type": "display_data"
    },
    {
     "data": {
      "text/html": [
       "<pre style=\"white-space:pre;overflow-x:auto;line-height:normal;font-family:Menlo,'DejaVu Sans Mono',consolas,'Courier New',monospace\">OEselma Descriptors;max_rigid_chain <span style=\"color: #008080; text-decoration-color: #008080; font-weight: bold\">4.31336629726617</span>\n",
       "</pre>\n"
      ],
      "text/plain": [
       "OEselma Descriptors;max_rigid_chain \u001b[1;36m4.31336629726617\u001b[0m\n"
      ]
     },
     "metadata": {},
     "output_type": "display_data"
    },
    {
     "data": {
      "text/html": [
       "<pre style=\"white-space:pre;overflow-x:auto;line-height:normal;font-family:Menlo,'DejaVu Sans Mono',consolas,'Courier New',monospace\">OEselma Descriptors;mol_volume_2d <span style=\"color: #008080; text-decoration-color: #008080; font-weight: bold\">99.78202299343697</span>\n",
       "</pre>\n"
      ],
      "text/plain": [
       "OEselma Descriptors;mol_volume_2d \u001b[1;36m99.78202299343697\u001b[0m\n"
      ]
     },
     "metadata": {},
     "output_type": "display_data"
    },
    {
     "data": {
      "text/html": [
       "<pre style=\"white-space:pre;overflow-x:auto;line-height:normal;font-family:Menlo,'DejaVu Sans Mono',consolas,'Courier New',monospace\">OEselma Descriptors;mw <span style=\"color: #008080; text-decoration-color: #008080; font-weight: bold\">70.85359135121605</span>\n",
       "</pre>\n"
      ],
      "text/plain": [
       "OEselma Descriptors;mw \u001b[1;36m70.85359135121605\u001b[0m\n"
      ]
     },
     "metadata": {},
     "output_type": "display_data"
    },
    {
     "data": {
      "text/html": [
       "<pre style=\"white-space:pre;overflow-x:auto;line-height:normal;font-family:Menlo,'DejaVu Sans Mono',consolas,'Courier New',monospace\">OEselma Descriptors;npsa <span style=\"color: #008080; text-decoration-color: #008080; font-weight: bold\">61.73226807945557</span>\n",
       "</pre>\n"
      ],
      "text/plain": [
       "OEselma Descriptors;npsa \u001b[1;36m61.73226807945557\u001b[0m\n"
      ]
     },
     "metadata": {},
     "output_type": "display_data"
    },
    {
     "data": {
      "text/html": [
       "<pre style=\"white-space:pre;overflow-x:auto;line-height:normal;font-family:Menlo,'DejaVu Sans Mono',consolas,'Courier New',monospace\">OEselma Descriptors;neg_ioniz <span style=\"color: #008080; text-decoration-color: #008080; font-weight: bold\">1.2774347609450114</span>\n",
       "</pre>\n"
      ],
      "text/plain": [
       "OEselma Descriptors;neg_ioniz \u001b[1;36m1.2774347609450114\u001b[0m\n"
      ]
     },
     "metadata": {},
     "output_type": "display_data"
    },
    {
     "data": {
      "text/html": [
       "<pre style=\"white-space:pre;overflow-x:auto;line-height:normal;font-family:Menlo,'DejaVu Sans Mono',consolas,'Courier New',monospace\">OEselma Descriptors;nitrogen_count <span style=\"color: #008080; text-decoration-color: #008080; font-weight: bold\">1.7589170887254637</span>\n",
       "</pre>\n"
      ],
      "text/plain": [
       "OEselma Descriptors;nitrogen_count \u001b[1;36m1.7589170887254637\u001b[0m\n"
      ]
     },
     "metadata": {},
     "output_type": "display_data"
    },
    {
     "data": {
      "text/html": [
       "<pre style=\"white-space:pre;overflow-x:auto;line-height:normal;font-family:Menlo,'DejaVu Sans Mono',consolas,'Courier New',monospace\">OEselma Descriptors;nonpolar_count <span style=\"color: #008080; text-decoration-color: #008080; font-weight: bold\">4.943950468593137</span>\n",
       "</pre>\n"
      ],
      "text/plain": [
       "OEselma Descriptors;nonpolar_count \u001b[1;36m4.943950468593137\u001b[0m\n"
      ]
     },
     "metadata": {},
     "output_type": "display_data"
    },
    {
     "data": {
      "text/html": [
       "<pre style=\"white-space:pre;overflow-x:auto;line-height:normal;font-family:Menlo,'DejaVu Sans Mono',consolas,'Courier New',monospace\">OEselma Descriptors;nonpolar_count_per_mw <span style=\"color: #008080; text-decoration-color: #008080; font-weight: bold\">0.4425609203363447</span>\n",
       "</pre>\n"
      ],
      "text/plain": [
       "OEselma Descriptors;nonpolar_count_per_mw \u001b[1;36m0.4425609203363447\u001b[0m\n"
      ]
     },
     "metadata": {},
     "output_type": "display_data"
    },
    {
     "data": {
      "text/html": [
       "<pre style=\"white-space:pre;overflow-x:auto;line-height:normal;font-family:Menlo,'DejaVu Sans Mono',consolas,'Courier New',monospace\">OEselma Descriptors;rigid_frag_count <span style=\"color: #008080; text-decoration-color: #008080; font-weight: bold\">1.8092333057291765</span>\n",
       "</pre>\n"
      ],
      "text/plain": [
       "OEselma Descriptors;rigid_frag_count \u001b[1;36m1.8092333057291765\u001b[0m\n"
      ]
     },
     "metadata": {},
     "output_type": "display_data"
    },
    {
     "data": {
      "text/html": [
       "<pre style=\"white-space:pre;overflow-x:auto;line-height:normal;font-family:Menlo,'DejaVu Sans Mono',consolas,'Courier New',monospace\">OEselma Descriptors;aromatic_ring_count <span style=\"color: #008080; text-decoration-color: #008080; font-weight: bold\">1.0403953792392042</span>\n",
       "</pre>\n"
      ],
      "text/plain": [
       "OEselma Descriptors;aromatic_ring_count \u001b[1;36m1.0403953792392042\u001b[0m\n"
      ]
     },
     "metadata": {},
     "output_type": "display_data"
    },
    {
     "data": {
      "text/html": [
       "<pre style=\"white-space:pre;overflow-x:auto;line-height:normal;font-family:Menlo,'DejaVu Sans Mono',consolas,'Courier New',monospace\">OEselma Descriptors;atom_count <span style=\"color: #008080; text-decoration-color: #008080; font-weight: bold\">5.082982838753216</span>\n",
       "</pre>\n"
      ],
      "text/plain": [
       "OEselma Descriptors;atom_count \u001b[1;36m5.082982838753216\u001b[0m\n"
      ]
     },
     "metadata": {},
     "output_type": "display_data"
    },
    {
     "data": {
      "text/html": [
       "<pre style=\"white-space:pre;overflow-x:auto;line-height:normal;font-family:Menlo,'DejaVu Sans Mono',consolas,'Courier New',monospace\">OEselma Descriptors;bond_count <span style=\"color: #008080; text-decoration-color: #008080; font-weight: bold\">5.7931094958129545</span>\n",
       "</pre>\n"
      ],
      "text/plain": [
       "OEselma Descriptors;bond_count \u001b[1;36m5.7931094958129545\u001b[0m\n"
      ]
     },
     "metadata": {},
     "output_type": "display_data"
    },
    {
     "data": {
      "text/html": [
       "<pre style=\"white-space:pre;overflow-x:auto;line-height:normal;font-family:Menlo,'DejaVu Sans Mono',consolas,'Courier New',monospace\">OEselma Descriptors;rigid_bond_count <span style=\"color: #008080; text-decoration-color: #008080; font-weight: bold\">5.646802780365145</span>\n",
       "</pre>\n"
      ],
      "text/plain": [
       "OEselma Descriptors;rigid_bond_count \u001b[1;36m5.646802780365145\u001b[0m\n"
      ]
     },
     "metadata": {},
     "output_type": "display_data"
    },
    {
     "data": {
      "text/html": [
       "<pre style=\"white-space:pre;overflow-x:auto;line-height:normal;font-family:Menlo,'DejaVu Sans Mono',consolas,'Courier New',monospace\">OEselma Descriptors;ring_count <span style=\"color: #008080; text-decoration-color: #008080; font-weight: bold\">1.256986967944566</span>\n",
       "</pre>\n"
      ],
      "text/plain": [
       "OEselma Descriptors;ring_count \u001b[1;36m1.256986967944566\u001b[0m\n"
      ]
     },
     "metadata": {},
     "output_type": "display_data"
    },
    {
     "data": {
      "text/html": [
       "<pre style=\"white-space:pre;overflow-x:auto;line-height:normal;font-family:Menlo,'DejaVu Sans Mono',consolas,'Courier New',monospace\">OEselma Descriptors;rot_bond_count <span style=\"color: #008080; text-decoration-color: #008080; font-weight: bold\">3.4587611659227053</span>\n",
       "</pre>\n"
      ],
      "text/plain": [
       "OEselma Descriptors;rot_bond_count \u001b[1;36m3.4587611659227053\u001b[0m\n"
      ]
     },
     "metadata": {},
     "output_type": "display_data"
    },
    {
     "data": {
      "text/html": [
       "<pre style=\"white-space:pre;overflow-x:auto;line-height:normal;font-family:Menlo,'DejaVu Sans Mono',consolas,'Courier New',monospace\">OEselma Descriptors;oxygen_count <span style=\"color: #008080; text-decoration-color: #008080; font-weight: bold\">2.0784738191179724</span>\n",
       "</pre>\n"
      ],
      "text/plain": [
       "OEselma Descriptors;oxygen_count \u001b[1;36m2.0784738191179724\u001b[0m\n"
      ]
     },
     "metadata": {},
     "output_type": "display_data"
    },
    {
     "data": {
      "text/html": [
       "<pre style=\"white-space:pre;overflow-x:auto;line-height:normal;font-family:Menlo,'DejaVu Sans Mono',consolas,'Courier New',monospace\">OEselma Descriptors;psa <span style=\"color: #008080; text-decoration-color: #008080; font-weight: bold\">43.603864630629964</span>\n",
       "</pre>\n"
      ],
      "text/plain": [
       "OEselma Descriptors;psa \u001b[1;36m43.603864630629964\u001b[0m\n"
      ]
     },
     "metadata": {},
     "output_type": "display_data"
    },
    {
     "data": {
      "text/html": [
       "<pre style=\"white-space:pre;overflow-x:auto;line-height:normal;font-family:Menlo,'DejaVu Sans Mono',consolas,'Courier New',monospace\">OEselma Descriptors;phosphorous_count <span style=\"color: #008080; text-decoration-color: #008080; font-weight: bold\">0.6047867230446645</span>\n",
       "</pre>\n"
      ],
      "text/plain": [
       "OEselma Descriptors;phosphorous_count \u001b[1;36m0.6047867230446645\u001b[0m\n"
      ]
     },
     "metadata": {},
     "output_type": "display_data"
    },
    {
     "data": {
      "text/html": [
       "<pre style=\"white-space:pre;overflow-x:auto;line-height:normal;font-family:Menlo,'DejaVu Sans Mono',consolas,'Courier New',monospace\">OEselma Descriptors;polar_count <span style=\"color: #008080; text-decoration-color: #008080; font-weight: bold\">2.612213680453016</span>\n",
       "</pre>\n"
      ],
      "text/plain": [
       "OEselma Descriptors;polar_count \u001b[1;36m2.612213680453016\u001b[0m\n"
      ]
     },
     "metadata": {},
     "output_type": "display_data"
    },
    {
     "data": {
      "text/html": [
       "<pre style=\"white-space:pre;overflow-x:auto;line-height:normal;font-family:Menlo,'DejaVu Sans Mono',consolas,'Courier New',monospace\">OEselma Descriptors;polar_count_per_mw <span style=\"color: #008080; text-decoration-color: #008080; font-weight: bold\">1.2945718316582755</span>\n",
       "</pre>\n"
      ],
      "text/plain": [
       "OEselma Descriptors;polar_count_per_mw \u001b[1;36m1.2945718316582755\u001b[0m\n"
      ]
     },
     "metadata": {},
     "output_type": "display_data"
    },
    {
     "data": {
      "text/html": [
       "<pre style=\"white-space:pre;overflow-x:auto;line-height:normal;font-family:Menlo,'DejaVu Sans Mono',consolas,'Courier New',monospace\">OEselma Descriptors;pos_ioniz <span style=\"color: #008080; text-decoration-color: #008080; font-weight: bold\">0.9022194165174522</span>\n",
       "</pre>\n"
      ],
      "text/plain": [
       "OEselma Descriptors;pos_ioniz \u001b[1;36m0.9022194165174522\u001b[0m\n"
      ]
     },
     "metadata": {},
     "output_type": "display_data"
    },
    {
     "data": {
      "text/html": [
       "<pre style=\"white-space:pre;overflow-x:auto;line-height:normal;font-family:Menlo,'DejaVu Sans Mono',consolas,'Courier New',monospace\">OEselma Descriptors;silicon_count <span style=\"color: #008080; text-decoration-color: #008080; font-weight: bold\">0.3538342721476714</span>\n",
       "</pre>\n"
      ],
      "text/plain": [
       "OEselma Descriptors;silicon_count \u001b[1;36m0.3538342721476714\u001b[0m\n"
      ]
     },
     "metadata": {},
     "output_type": "display_data"
    },
    {
     "data": {
      "text/html": [
       "<pre style=\"white-space:pre;overflow-x:auto;line-height:normal;font-family:Menlo,'DejaVu Sans Mono',consolas,'Courier New',monospace\">OEselma Descriptors;sulphur_count <span style=\"color: #008080; text-decoration-color: #008080; font-weight: bold\">0.5986249929270577</span>\n",
       "</pre>\n"
      ],
      "text/plain": [
       "OEselma Descriptors;sulphur_count \u001b[1;36m0.5986249929270577\u001b[0m\n"
      ]
     },
     "metadata": {},
     "output_type": "display_data"
    },
    {
     "data": {
      "text/html": [
       "<pre style=\"white-space:pre;overflow-x:auto;line-height:normal;font-family:Menlo,'DejaVu Sans Mono',consolas,'Courier New',monospace\">OEselma Descriptors;tsa <span style=\"color: #008080; text-decoration-color: #008080; font-weight: bold\">67.05073535429032</span>\n",
       "</pre>\n"
      ],
      "text/plain": [
       "OEselma Descriptors;tsa \u001b[1;36m67.05073535429032\u001b[0m\n"
      ]
     },
     "metadata": {},
     "output_type": "display_data"
    },
    {
     "data": {
      "text/html": [
       "<pre style=\"white-space:pre;overflow-x:auto;line-height:normal;font-family:Menlo,'DejaVu Sans Mono',consolas,'Courier New',monospace\">Ertl TPSA;Ertl TPSA <span style=\"color: #008080; text-decoration-color: #008080; font-weight: bold\">41.2223677416174</span>\n",
       "</pre>\n"
      ],
      "text/plain": [
       "Ertl TPSA;Ertl TPSA \u001b[1;36m41.2223677416174\u001b[0m\n"
      ]
     },
     "metadata": {},
     "output_type": "display_data"
    },
    {
     "data": {
      "text/html": [
       "<pre style=\"white-space:pre;overflow-x:auto;line-height:normal;font-family:Menlo,'DejaVu Sans Mono',consolas,'Courier New',monospace\">Exact Mass;Exact Mass <span style=\"color: #008080; text-decoration-color: #008080; font-weight: bold\">70.7691543544872</span>\n",
       "</pre>\n"
      ],
      "text/plain": [
       "Exact Mass;Exact Mass \u001b[1;36m70.7691543544872\u001b[0m\n"
      ]
     },
     "metadata": {},
     "output_type": "display_data"
    },
    {
     "data": {
      "text/html": [
       "<pre style=\"white-space:pre;overflow-x:auto;line-height:normal;font-family:Menlo,'DejaVu Sans Mono',consolas,'Courier New',monospace\">Heavy Atom Count;Heavy Atom Count <span style=\"color: #008080; text-decoration-color: #008080; font-weight: bold\">5.2035407231506685</span>\n",
       "</pre>\n"
      ],
      "text/plain": [
       "Heavy Atom Count;Heavy Atom Count \u001b[1;36m5.2035407231506685\u001b[0m\n"
      ]
     },
     "metadata": {},
     "output_type": "display_data"
    },
    {
     "data": {
      "text/html": [
       "<pre style=\"white-space:pre;overflow-x:auto;line-height:normal;font-family:Menlo,'DejaVu Sans Mono',consolas,'Courier New',monospace\">Molecular Volume <span style=\"font-weight: bold\">(</span>2D<span style=\"font-weight: bold\">)</span>;Molecular Volume <span style=\"font-weight: bold\">(</span>2D<span style=\"font-weight: bold\">)</span> <span style=\"color: #008080; text-decoration-color: #008080; font-weight: bold\">99.77445863548587</span>\n",
       "</pre>\n"
      ],
      "text/plain": [
       "Molecular Volume \u001b[1m(\u001b[0m2D\u001b[1m)\u001b[0m;Molecular Volume \u001b[1m(\u001b[0m2D\u001b[1m)\u001b[0m \u001b[1;36m99.77445863548587\u001b[0m\n"
      ]
     },
     "metadata": {},
     "output_type": "display_data"
    },
    {
     "data": {
      "text/html": [
       "<pre style=\"white-space:pre;overflow-x:auto;line-height:normal;font-family:Menlo,'DejaVu Sans Mono',consolas,'Courier New',monospace\">Molecular Weight;Molecular Weight <span style=\"color: #008080; text-decoration-color: #008080; font-weight: bold\">70.86266526973446</span>\n",
       "</pre>\n"
      ],
      "text/plain": [
       "Molecular Weight;Molecular Weight \u001b[1;36m70.86266526973446\u001b[0m\n"
      ]
     },
     "metadata": {},
     "output_type": "display_data"
    },
    {
     "data": {
      "text/html": [
       "<pre style=\"white-space:pre;overflow-x:auto;line-height:normal;font-family:Menlo,'DejaVu Sans Mono',consolas,'Courier New',monospace\">NPSA;NPSA <span style=\"color: #008080; text-decoration-color: #008080; font-weight: bold\">61.74866477398928</span>\n",
       "</pre>\n"
      ],
      "text/plain": [
       "NPSA;NPSA \u001b[1;36m61.74866477398928\u001b[0m\n"
      ]
     },
     "metadata": {},
     "output_type": "display_data"
    },
    {
     "data": {
      "text/html": [
       "<pre style=\"white-space:pre;overflow-x:auto;line-height:normal;font-family:Menlo,'DejaVu Sans Mono',consolas,'Courier New',monospace\">PSA;PSA <span style=\"color: #008080; text-decoration-color: #008080; font-weight: bold\">43.665664669433326</span>\n",
       "</pre>\n"
      ],
      "text/plain": [
       "PSA;PSA \u001b[1;36m43.665664669433326\u001b[0m\n"
      ]
     },
     "metadata": {},
     "output_type": "display_data"
    },
    {
     "data": {
      "text/html": [
       "<pre style=\"white-space:pre;overflow-x:auto;line-height:normal;font-family:Menlo,'DejaVu Sans Mono',consolas,'Courier New',monospace\">Ring Count;Ring Count <span style=\"color: #008080; text-decoration-color: #008080; font-weight: bold\">1.1774700216896956</span>\n",
       "</pre>\n"
      ],
      "text/plain": [
       "Ring Count;Ring Count \u001b[1;36m1.1774700216896956\u001b[0m\n"
      ]
     },
     "metadata": {},
     "output_type": "display_data"
    },
    {
     "data": {
      "text/html": [
       "<pre style=\"white-space:pre;overflow-x:auto;line-height:normal;font-family:Menlo,'DejaVu Sans Mono',consolas,'Courier New',monospace\">Rotatable Bond Count;Rotatable Bond Count <span style=\"color: #008080; text-decoration-color: #008080; font-weight: bold\">3.098459633946544</span>\n",
       "</pre>\n"
      ],
      "text/plain": [
       "Rotatable Bond Count;Rotatable Bond Count \u001b[1;36m3.098459633946544\u001b[0m\n"
      ]
     },
     "metadata": {},
     "output_type": "display_data"
    },
    {
     "data": {
      "text/html": [
       "<pre style=\"white-space:pre;overflow-x:auto;line-height:normal;font-family:Menlo,'DejaVu Sans Mono',consolas,'Courier New',monospace\">AZlogD74;prediction <span style=\"color: #008080; text-decoration-color: #008080; font-weight: bold\">2.1689102619145304</span>\n",
       "</pre>\n"
      ],
      "text/plain": [
       "AZlogD74;prediction \u001b[1;36m2.1689102619145304\u001b[0m\n"
      ]
     },
     "metadata": {},
     "output_type": "display_data"
    },
    {
     "data": {
      "text/html": [
       "<pre style=\"white-space:pre;overflow-x:auto;line-height:normal;font-family:Menlo,'DejaVu Sans Mono',consolas,'Courier New',monospace\">AZlogD74;sd_prediction <span style=\"color: #008080; text-decoration-color: #008080; font-weight: bold\">0.5402244138246749</span>\n",
       "</pre>\n"
      ],
      "text/plain": [
       "AZlogD74;sd_prediction \u001b[1;36m0.5402244138246749\u001b[0m\n"
      ]
     },
     "metadata": {},
     "output_type": "display_data"
    },
    {
     "data": {
      "text/html": [
       "<pre style=\"white-space:pre;overflow-x:auto;line-height:normal;font-family:Menlo,'DejaVu Sans Mono',consolas,'Courier New',monospace\">ChromlogD;prediction <span style=\"color: #008080; text-decoration-color: #008080; font-weight: bold\">2.638833221897582</span>\n",
       "</pre>\n"
      ],
      "text/plain": [
       "ChromlogD;prediction \u001b[1;36m2.638833221897582\u001b[0m\n"
      ]
     },
     "metadata": {},
     "output_type": "display_data"
    },
    {
     "data": {
      "text/html": [
       "<pre style=\"white-space:pre;overflow-x:auto;line-height:normal;font-family:Menlo,'DejaVu Sans Mono',consolas,'Courier New',monospace\">ChromlogD;sd_prediction <span style=\"color: #008080; text-decoration-color: #008080; font-weight: bold\">0.608535817836184</span>\n",
       "</pre>\n"
      ],
      "text/plain": [
       "ChromlogD;sd_prediction \u001b[1;36m0.608535817836184\u001b[0m\n"
      ]
     },
     "metadata": {},
     "output_type": "display_data"
    },
    {
     "data": {
      "text/html": [
       "<pre style=\"white-space:pre;overflow-x:auto;line-height:normal;font-family:Menlo,'DejaVu Sans Mono',consolas,'Courier New',monospace\">ALogP <span style=\"color: #008080; text-decoration-color: #008080; font-weight: bold\">2.0389522249930065</span>\n",
       "</pre>\n"
      ],
      "text/plain": [
       "ALogP \u001b[1;36m2.0389522249930065\u001b[0m\n"
      ]
     },
     "metadata": {},
     "output_type": "display_data"
    },
    {
     "data": {
      "text/html": [
       "<pre style=\"white-space:pre;overflow-x:auto;line-height:normal;font-family:Menlo,'DejaVu Sans Mono',consolas,'Courier New',monospace\">Mol Weight <span style=\"color: #008080; text-decoration-color: #008080; font-weight: bold\">70.83285710531904</span>\n",
       "</pre>\n"
      ],
      "text/plain": [
       "Mol Weight \u001b[1;36m70.83285710531904\u001b[0m\n"
      ]
     },
     "metadata": {},
     "output_type": "display_data"
    },
    {
     "data": {
      "text/html": [
       "<pre style=\"white-space:pre;overflow-x:auto;line-height:normal;font-family:Menlo,'DejaVu Sans Mono',consolas,'Courier New',monospace\">Molar Refractivity <span style=\"color: #008080; text-decoration-color: #008080; font-weight: bold\">17.966832185490816</span>\n",
       "</pre>\n"
      ],
      "text/plain": [
       "Molar Refractivity \u001b[1;36m17.966832185490816\u001b[0m\n"
      ]
     },
     "metadata": {},
     "output_type": "display_data"
    },
    {
     "data": {
      "text/html": [
       "<pre style=\"white-space:pre;overflow-x:auto;line-height:normal;font-family:Menlo,'DejaVu Sans Mono',consolas,'Courier New',monospace\">Polarizability <span style=\"color: #008080; text-decoration-color: #008080; font-weight: bold\">7.173865779684904</span>\n",
       "</pre>\n"
      ],
      "text/plain": [
       "Polarizability \u001b[1;36m7.173865779684904\u001b[0m\n"
      ]
     },
     "metadata": {},
     "output_type": "display_data"
    },
    {
     "data": {
      "text/html": [
       "<pre style=\"white-space:pre;overflow-x:auto;line-height:normal;font-family:Menlo,'DejaVu Sans Mono',consolas,'Courier New',monospace\">TPSA <span style=\"color: #008080; text-decoration-color: #008080; font-weight: bold\">42.974090493457936</span>\n",
       "</pre>\n"
      ],
      "text/plain": [
       "TPSA \u001b[1;36m42.974090493457936\u001b[0m\n"
      ]
     },
     "metadata": {},
     "output_type": "display_data"
    },
    {
     "data": {
      "text/html": [
       "<pre style=\"white-space:pre;overflow-x:auto;line-height:normal;font-family:Menlo,'DejaVu Sans Mono',consolas,'Courier New',monospace\">Solubility DD Class;confidence <span style=\"color: #008080; text-decoration-color: #008080; font-weight: bold\">0.7068114752263356</span>\n",
       "</pre>\n"
      ],
      "text/plain": [
       "Solubility DD Class;confidence \u001b[1;36m0.7068114752263356\u001b[0m\n"
      ]
     },
     "metadata": {},
     "output_type": "display_data"
    },
    {
     "data": {
      "text/html": [
       "<pre style=\"white-space:pre;overflow-x:auto;line-height:normal;font-family:Menlo,'DejaVu Sans Mono',consolas,'Courier New',monospace\">Solubility DD Class;credibility <span style=\"color: #008080; text-decoration-color: #008080; font-weight: bold\">0.4685821892047626</span>\n",
       "</pre>\n"
      ],
      "text/plain": [
       "Solubility DD Class;credibility \u001b[1;36m0.4685821892047626\u001b[0m\n"
      ]
     },
     "metadata": {},
     "output_type": "display_data"
    },
    {
     "data": {
      "text/html": [
       "<pre style=\"white-space:pre;overflow-x:auto;line-height:normal;font-family:Menlo,'DejaVu Sans Mono',consolas,'Courier New',monospace\">SCScore;SCScore <span style=\"color: #008080; text-decoration-color: #008080; font-weight: bold\">0.7773295528315963</span>\n",
       "</pre>\n"
      ],
      "text/plain": [
       "SCScore;SCScore \u001b[1;36m0.7773295528315963\u001b[0m\n"
      ]
     },
     "metadata": {},
     "output_type": "display_data"
    },
    {
     "data": {
      "text/html": [
       "<pre style=\"white-space:pre;overflow-x:auto;line-height:normal;font-family:Menlo,'DejaVu Sans Mono',consolas,'Courier New',monospace\">AZlogD74 <span style=\"font-weight: bold\">(</span>NN<span style=\"font-weight: bold\">)</span>;nearest_neighbours<span style=\"font-weight: bold\">[]</span>- GT similarity <span style=\"color: #008080; text-decoration-color: #008080; font-weight: bold\">1.1385006166623284</span>\n",
       "</pre>\n"
      ],
      "text/plain": [
       "AZlogD74 \u001b[1m(\u001b[0mNN\u001b[1m)\u001b[0m;nearest_neighbours\u001b[1m[\u001b[0m\u001b[1m]\u001b[0m- GT similarity \u001b[1;36m1.1385006166623284\u001b[0m\n"
      ]
     },
     "metadata": {},
     "output_type": "display_data"
    },
    {
     "data": {
      "text/html": [
       "<pre style=\"white-space:pre;overflow-x:auto;line-height:normal;font-family:Menlo,'DejaVu Sans Mono',consolas,'Courier New',monospace\">AZlogD74 <span style=\"font-weight: bold\">(</span>NN<span style=\"font-weight: bold\">)</span>;nearest_neighbours<span style=\"font-weight: bold\">[]</span>- GT measured <span style=\"color: #008080; text-decoration-color: #008080; font-weight: bold\">1.625606718092902</span>\n",
       "</pre>\n"
      ],
      "text/plain": [
       "AZlogD74 \u001b[1m(\u001b[0mNN\u001b[1m)\u001b[0m;nearest_neighbours\u001b[1m[\u001b[0m\u001b[1m]\u001b[0m- GT measured \u001b[1;36m1.625606718092902\u001b[0m\n"
      ]
     },
     "metadata": {},
     "output_type": "display_data"
    },
    {
     "data": {
      "text/html": [
       "<pre style=\"white-space:pre;overflow-x:auto;line-height:normal;font-family:Menlo,'DejaVu Sans Mono',consolas,'Courier New',monospace\">clogP;clogp <span style=\"color: #008080; text-decoration-color: #008080; font-weight: bold\">2.3784425835716</span>\n",
       "</pre>\n"
      ],
      "text/plain": [
       "clogP;clogp \u001b[1;36m2.3784425835716\u001b[0m\n"
      ]
     },
     "metadata": {},
     "output_type": "display_data"
    },
    {
     "data": {
      "text/html": [
       "<pre style=\"white-space:pre;overflow-x:auto;line-height:normal;font-family:Menlo,'DejaVu Sans Mono',consolas,'Courier New',monospace\">clogP;clogp_error <span style=\"color: #008080; text-decoration-color: #008080; font-weight: bold\">18.660920047094034</span>\n",
       "</pre>\n"
      ],
      "text/plain": [
       "clogP;clogp_error \u001b[1;36m18.660920047094034\u001b[0m\n"
      ]
     },
     "metadata": {},
     "output_type": "display_data"
    },
    {
     "data": {
      "text/html": [
       "<pre style=\"white-space:pre;overflow-x:auto;line-height:normal;font-family:Menlo,'DejaVu Sans Mono',consolas,'Courier New',monospace\">OEselma Descriptors;part_flex_chain <span style=\"color: #008080; text-decoration-color: #008080; font-weight: bold\">2.8357641975002563</span>\n",
       "</pre>\n"
      ],
      "text/plain": [
       "OEselma Descriptors;part_flex_chain \u001b[1;36m2.8357641975002563\u001b[0m\n"
      ]
     },
     "metadata": {},
     "output_type": "display_data"
    }
   ],
   "source": [
    "compare = np.zeros((test_data.shape[0], num_descriptors, 2))\n",
    "compare[:,:,0] = test_labels\n",
    "compare[:,:,1] = model.predict(test_data).reshape((test_data.shape[0],num_descriptors))\n",
    "\n",
    "avg_l1_error = np.zeros((num_descriptors))\n",
    "\n",
    "for i,t in enumerate(compare):\n",
    "    for j,d in enumerate(t):\n",
    "        avg_l1_error[j] += np.abs(d[0]-d[1])\n",
    "\n",
    "for i,d in enumerate(avg_l1_error/test_data.shape[0]):\n",
    "    print(descriptors[i], d)"
   ]
  }
 ],
 "metadata": {
  "kernelspec": {
   "display_name": "Python 3: Topological Data Analysis",
   "language": "python",
   "name": "az1"
  },
  "language_info": {
   "codemirror_mode": {
    "name": "ipython",
    "version": 3
   },
   "file_extension": ".py",
   "mimetype": "text/x-python",
   "name": "python",
   "nbconvert_exporter": "python",
   "pygments_lexer": "ipython3",
   "version": "3.9.7"
  }
 },
 "nbformat": 4,
 "nbformat_minor": 5
}
