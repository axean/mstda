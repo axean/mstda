{
 "cells": [
  {
   "cell_type": "code",
   "execution_count": 1,
   "id": "c300f597",
   "metadata": {},
   "outputs": [],
   "source": [
    "import pandas as pd\n",
    "import tensorflow as tf\n",
    "import numpy as np\n",
    "import matplotlib.pyplot as plt\n",
    "from mstda import FeatureSpace"
   ]
  },
  {
   "cell_type": "code",
   "execution_count": 2,
   "id": "a452d86b",
   "metadata": {},
   "outputs": [],
   "source": [
    "fs = FeatureSpace.load(\"spaces/persistence_entropy_epsilon0.04.json\")\n",
    "\n",
    "# drop rows which dont have a feature vector\n",
    "df = pd.read_csv(\"data/Drugbank_some_descriptors.csv\")\n",
    "idxs = list()\n",
    "seen = set()\n",
    "for idx,m in enumerate(df[\"SMILES\"]):\n",
    "    if (fs.get_feature_vector(m) is None) or (m in seen):\n",
    "        idxs.append(idx)\n",
    "        \n",
    "    seen = seen.union({ m })\n",
    "    \n",
    "df = df.drop(idxs)\n",
    "\n",
    "# drop rows which dont have data for descriptor which we are predicting\n",
    "#desc =\"ACD Descriptors;logP\"\n",
    "#desc = \"Polarizability\"\n",
    "desc = \"Mol Weight\"\n",
    "\n",
    "select = np.asarray(df[desc].isna())\n",
    "idxs = np.asarray(df[desc].index)\n",
    "df = df.drop(idxs[select])\n",
    "\n",
    "# crossval\n",
    "train_dataset = df.sample(frac=0.8)\n",
    "test_dataset = df.drop(train_dataset.index)"
   ]
  },
  {
   "cell_type": "code",
   "execution_count": 3,
   "id": "514fb583",
   "metadata": {},
   "outputs": [
    {
     "name": "stdout",
     "output_type": "stream",
     "text": [
      "(7761, 9) (1940, 9)\n",
      "train labels µ 373.4872025842592 σ 252.53269935833623\n",
      "test labels µ 374.76561213817746 σ 245.23711976435806\n"
     ]
    },
    {
     "data": {
      "text/plain": [
       "array([1069.21691895, 1019.23931885,  398.43737793, ...,  401.39645386,\n",
       "        495.61532593,  428.45495605])"
      ]
     },
     "execution_count": 3,
     "metadata": {},
     "output_type": "execute_result"
    }
   ],
   "source": [
    "train_idxs = [ fs.molecules.index(m) for m in train_dataset[\"SMILES\"] ]\n",
    "test_idxs = [ fs.molecules.index(m) for m in test_dataset[\"SMILES\"] ]\n",
    "train_features = fs.features[train_idxs, :]\n",
    "test_features = fs.features[test_idxs, :]\n",
    "print(train_features.shape, test_features.shape)\n",
    "\n",
    "train_labels = np.asarray(train_dataset[desc])\n",
    "print(\"train labels\", \"µ\",np.mean(train_labels), \"σ\",np.std(train_labels))\n",
    "\n",
    "test_labels = np.asarray(test_dataset[desc])\n",
    "print(\"test labels\", \"µ\",np.mean(test_labels), \"σ\",np.std(test_labels))\n",
    "\n",
    "test_labels"
   ]
  },
  {
   "cell_type": "code",
   "execution_count": 4,
   "id": "379c54f0",
   "metadata": {},
   "outputs": [
    {
     "name": "stdout",
     "output_type": "stream",
     "text": [
      "Model: \"sequential\"\n",
      "_________________________________________________________________\n",
      " Layer (type)                Output Shape              Param #   \n",
      "=================================================================\n",
      " dense (Dense)               (None, 9)                 90        \n",
      "                                                                 \n",
      " dense_1 (Dense)             (None, 1)                 10        \n",
      "                                                                 \n",
      "=================================================================\n",
      "Total params: 100\n",
      "Trainable params: 100\n",
      "Non-trainable params: 0\n",
      "_________________________________________________________________\n"
     ]
    },
    {
     "name": "stderr",
     "output_type": "stream",
     "text": [
      "2021-12-22 10:48:53.000467: I tensorflow/core/platform/cpu_feature_guard.cc:151] This TensorFlow binary is optimized with oneAPI Deep Neural Network Library (oneDNN) to use the following CPU instructions in performance-critical operations:  AVX2 FMA\n",
      "To enable them in other operations, rebuild TensorFlow with the appropriate compiler flags.\n",
      "2021-12-22 10:48:54.096553: I tensorflow/core/common_runtime/gpu/gpu_device.cc:1525] Created device /job:localhost/replica:0/task:0/device:GPU:0 with 6765 MB memory:  -> device: 0, name: NVIDIA GeForce GTX 1070 Ti, pci bus id: 0000:01:00.0, compute capability: 6.1\n"
     ]
    }
   ],
   "source": [
    "dense_model = tf.keras.Sequential([\n",
    "    tf.keras.layers.Dense(train_features.shape[1:][0], input_shape = train_features.shape[1:]),\n",
    "    tf.keras.layers.Dense(1),\n",
    "])\n",
    "dense_model.summary()"
   ]
  },
  {
   "cell_type": "code",
   "execution_count": 5,
   "id": "c8fff8c7",
   "metadata": {},
   "outputs": [],
   "source": [
    "dense_model.compile(\n",
    "    optimizer = tf.optimizers.Adam(learning_rate = .1),\n",
    "    loss = \"mean_absolute_error\"\n",
    ")"
   ]
  },
  {
   "cell_type": "code",
   "execution_count": 6,
   "id": "ee45199c",
   "metadata": {
    "scrolled": true
   },
   "outputs": [
    {
     "name": "stdout",
     "output_type": "stream",
     "text": [
      "CPU times: user 29.2 s, sys: 2.75 s, total: 32 s\n",
      "Wall time: 21.6 s\n"
     ]
    }
   ],
   "source": [
    "%%time\n",
    "history = dense_model.fit(\n",
    "    train_features,\n",
    "    train_labels,\n",
    "    verbose = 0,\n",
    "    epochs = 100,\n",
    "    # Calculate validation results on 20% of the training data.\n",
    "    validation_split = 0.2\n",
    ")"
   ]
  },
  {
   "cell_type": "code",
   "execution_count": 7,
   "id": "ec424a0b",
   "metadata": {},
   "outputs": [],
   "source": [
    "def plot_loss(history):\n",
    "    plt.plot(history.history['loss'], label='loss')\n",
    "    plt.plot(history.history['val_loss'], label='val_loss')\n",
    "    #plt.ylim([0, 10])\n",
    "    plt.xlabel('Epoch')\n",
    "    plt.ylabel('Error')\n",
    "    plt.legend()\n",
    "    plt.grid(True)"
   ]
  },
  {
   "cell_type": "code",
   "execution_count": 8,
   "id": "e2f85073",
   "metadata": {},
   "outputs": [
    {
     "data": {
      "image/png": "[encoded data removed]",
      "text/plain": [
       "<Figure size 432x288 with 1 Axes>"
      ]
     },
     "metadata": {
      "needs_background": "light"
     },
     "output_type": "display_data"
    }
   ],
   "source": [
    "plot_loss(history)"
   ]
  },
  {
   "cell_type": "code",
   "execution_count": 9,
   "id": "2002ebe1",
   "metadata": {},
   "outputs": [
    {
     "name": "stdout",
     "output_type": "stream",
     "text": [
      "61/61 [==============================] - 0s 878us/step - loss: 125.3649\n"
     ]
    },
    {
     "data": {
      "text/plain": [
       "125.36486053466797"
      ]
     },
     "execution_count": 9,
     "metadata": {},
     "output_type": "execute_result"
    }
   ],
   "source": [
    "dense_model.evaluate(test_features, test_labels, verbose=1)"
   ]
  }
 ],
 "metadata": {
  "kernelspec": {
   "display_name": "Python 3: Topological Data Analysis",
   "language": "python",
   "name": "az1"
  },
  "language_info": {
   "codemirror_mode": {
    "name": "ipython",
    "version": 3
   },
   "file_extension": ".py",
   "mimetype": "text/x-python",
   "name": "python",
   "nbconvert_exporter": "python",
   "pygments_lexer": "ipython3",
   "version": "3.9.7"
  }
 },
 "nbformat": 4,
 "nbformat_minor": 5
}
