{
 "cells": [
  {
   "cell_type": "code",
   "execution_count": 1,
   "id": "50350d15",
   "metadata": {},
   "outputs": [
    {
     "name": "stdout",
     "output_type": "stream",
     "text": [
      "[([1, 2, 3, 4], nan), ([1, 2, 3], nan), ([1, 2, 4], nan), ([1, 2], nan), ([1, 3, 4], nan), ([1, 3], nan), ([1, 4], nan), ([1], nan), ([2, 3, 4], nan), ([2, 3], nan), ([2, 4], nan), ([2], nan), ([3, 4], nan), ([3], nan), ([4], nan)]\n"
     ]
    }
   ],
   "source": [
    "from gudhi import SimplexTree\n",
    "import numpy as np\n",
    "st = SimplexTree()\n",
    "st.insert((1,2,3,4), filtration = np.nan)\n",
    "print(list(st.get_filtration()))"
   ]
  },
  {
   "cell_type": "code",
   "execution_count": 2,
   "id": "1ea07581",
   "metadata": {},
   "outputs": [
    {
     "name": "stdout",
     "output_type": "stream",
     "text": [
      "[[1, 2, 3, 4], [1, 2, 3], [1, 2, 4], [1, 2], [1, 3, 4], [1, 3], [1, 4], [1], [2, 3, 4], [2, 3], [2, 4], [2], [3, 4], [3], [4]]\n"
     ]
    }
   ],
   "source": [
    "st_simplices = st.get_simplices()\n",
    "simplices = [ a for a,b in st_simplices ]\n",
    "print(simplices)"
   ]
  },
  {
   "cell_type": "code",
   "execution_count": 3,
   "id": "a2b6ed26",
   "metadata": {},
   "outputs": [
    {
     "name": "stdout",
     "output_type": "stream",
     "text": [
      "[1, 2] nan\n",
      "[1, 3] nan\n",
      "[2, 3] nan\n"
     ]
    }
   ],
   "source": [
    "for tau, tau_f in st.get_boundaries((1,2,3)):\n",
    "    print(tau, tau_f)"
   ]
  }
 ],
 "metadata": {
  "kernelspec": {
   "display_name": "Python 3: Topological Data Analysis",
   "language": "python",
   "name": "az1"
  },
  "language_info": {
   "codemirror_mode": {
    "name": "ipython",
    "version": 3
   },
   "file_extension": ".py",
   "mimetype": "text/x-python",
   "name": "python",
   "nbconvert_exporter": "python",
   "pygments_lexer": "ipython3",
   "version": "3.9.7"
  }
 },
 "nbformat": 4,
 "nbformat_minor": 5
}
