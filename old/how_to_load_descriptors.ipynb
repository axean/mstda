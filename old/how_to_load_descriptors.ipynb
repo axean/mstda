{
 "cells": [
  {
   "cell_type": "markdown",
   "id": "3485ecc2",
   "metadata": {},
   "source": [
    "# Load descriptors"
   ]
  },
  {
   "cell_type": "code",
   "execution_count": 1,
   "id": "917e0ccc",
   "metadata": {},
   "outputs": [],
   "source": [
    "import pandas as pd\n",
    "import tensorflow as tf\n",
    "import numpy as np"
   ]
  },
  {
   "cell_type": "code",
   "execution_count": 2,
   "id": "fb3c6ed1",
   "metadata": {},
   "outputs": [],
   "source": [
    "descriptors = pd.read_csv(\"data/Drugbank_some_descriptors.csv\")"
   ]
  },
  {
   "cell_type": "code",
   "execution_count": 3,
   "id": "619157dc",
   "metadata": {
    "scrolled": true
   },
   "outputs": [
    {
     "name": "stdout",
     "output_type": "stream",
     "text": [
      "0 \t SMILES\n",
      "0 \t DRUGBANK_ID\n",
      "6400 \t SECONDARY_ACCESSION_NUMBERS\n",
      "0 \t COMMON_NAME\n",
      "4099 \t CAS_NUMBER\n",
      "3828 \t UNII\n",
      "6554 \t SYNONYMS\n",
      "863 \t ACD Descriptors;logD_74\n",
      "781 \t ACD Descriptors;logP\n",
      "9578 \t ACD Descriptors;pKa_caution\n",
      "33 \t ACD Descriptors;major_ion_species_74\n",
      "178 \t IUPAC Name (ACD);iupac_name\n",
      "847 \t ACD logD-logP;logD_74\n",
      "765 \t ACD logD-logP;logP\n",
      "300 \t MOE Descriptors;h_ema\n",
      "300 \t MOE Descriptors;h_emd\n",
      "300 \t MOE Descriptors;h_emd_c\n",
      "300 \t MOE Descriptors;h_logp\n",
      "300 \t MOE Descriptors;h_logs\n",
      "300 \t MOE Descriptors;h_log_dbo\n",
      "300 \t MOE Descriptors;h_log_pbo\n",
      "300 \t MOE Descriptors;h_mr\n",
      "17 \t OEselma Descriptors;bromine_count\n",
      "17 \t OEselma Descriptors;carbon_count\n",
      "17 \t OEselma Descriptors;clorine_count\n",
      "17 \t OEselma Descriptors;ertl_tpsa\n",
      "17 \t OEselma Descriptors;fluorine_count\n",
      "17 \t OEselma Descriptors;hba\n",
      "17 \t OEselma Descriptors;hba_lipinski\n",
      "17 \t OEselma Descriptors;hbd\n",
      "17 \t OEselma Descriptors;hbd_lipinski\n",
      "17 \t OEselma Descriptors;halogen_count\n",
      "17 \t OEselma Descriptors;iupac_name\n",
      "17 \t OEselma Descriptors;iodine_count\n",
      "17 \t OEselma Descriptors;ion_class\n",
      "18 \t OEselma Descriptors;max_flex_chain_1\n",
      "18 \t OEselma Descriptors;max_flex_chain_2\n",
      "18 \t OEselma Descriptors;max_flex_chain_3\n",
      "18 \t OEselma Descriptors;max_rigid_chain\n",
      "533 \t OEselma Descriptors;mol_volume_2d\n",
      "17 \t OEselma Descriptors;mw\n",
      "17 \t OEselma Descriptors;npsa\n",
      "17 \t OEselma Descriptors;neg_ioniz\n",
      "17 \t OEselma Descriptors;nitrogen_count\n",
      "17 \t OEselma Descriptors;nonpolar_count\n",
      "17 \t OEselma Descriptors;nonpolar_count_per_mw\n",
      "17 \t OEselma Descriptors;rigid_frag_count\n",
      "17 \t OEselma Descriptors;aromatic_ring_count\n",
      "17 \t OEselma Descriptors;atom_count\n",
      "17 \t OEselma Descriptors;bond_count\n",
      "17 \t OEselma Descriptors;rigid_bond_count\n",
      "17 \t OEselma Descriptors;ring_count\n",
      "17 \t OEselma Descriptors;rot_bond_count\n",
      "17 \t OEselma Descriptors;oxygen_count\n",
      "17 \t OEselma Descriptors;psa\n",
      "17 \t OEselma Descriptors;phosphorous_count\n",
      "17 \t OEselma Descriptors;polar_count\n",
      "17 \t OEselma Descriptors;polar_count_per_mw\n",
      "17 \t OEselma Descriptors;pos_ioniz\n",
      "17 \t OEselma Descriptors;smiles\n",
      "17 \t OEselma Descriptors;silicon_count\n",
      "17 \t OEselma Descriptors;sulphur_count\n",
      "17 \t OEselma Descriptors;tsa\n",
      "9580 \t ACD pKa;pKa_caution\n",
      "20 \t ACD pKa;major_ion_species_74\n",
      "17 \t AZfparser;azfilter\n",
      "17 \t Ertl TPSA;Ertl TPSA\n",
      "37 \t Exact Mass;Exact Mass\n",
      "37 \t Heavy Atom Count;Heavy Atom Count\n",
      "17 \t Ion Class;Ion Class\n",
      "533 \t Molecular Volume (2D);Molecular Volume (2D)\n",
      "17 \t Molecular Weight;Molecular Weight\n",
      "17 \t NPSA;NPSA\n",
      "17 \t PSA;PSA\n",
      "17 \t Ring Count;Ring Count\n",
      "17 \t Rotatable Bond Count;Rotatable Bond Count\n",
      "17 \t AZlogD74;prediction\n",
      "17 \t AZlogD74;sd_prediction\n",
      "5019 \t ePSA;prediction (angstrom squared)\n",
      "5019 \t ePSA;sd_prediction\n",
      "17 \t ChromlogD;prediction\n",
      "17 \t ChromlogD;sd_prediction\n",
      "834 \t Isoelectric Point;Isoelectric point (pI) (Mean)\n",
      "834 \t Isoelectric Point;Charge (Q) at pH 7.4 (Mean)\n",
      "834 \t Isoelectric Point;Charge (Q) at pH 7.4 (SD)\n",
      "834 \t Isoelectric Point;Isoelectric point (pI) (SD)\n",
      "0 \t ALogP\n",
      "0 \t Mol Weight\n",
      "0 \t H Bond Donors\n",
      "0 \t H Bond Acceptors\n",
      "0 \t Heavy Atoms\n",
      "0 \t Molar Refractivity\n",
      "0 \t Polarizability\n",
      "0 \t Ring Count\n",
      "0 \t Rot Bonds\n",
      "0 \t TPSA\n",
      "17 \t Solubility DD Class;prediction\n",
      "17 \t Solubility DD Class;confidence\n",
      "17 \t Solubility DD Class;credibility\n",
      "3706 \t RAScore;RAscore\n",
      "29 \t SCScore;SCScore\n",
      "5021 \t Solubility DD Class (NN);nearest_neighbours[]- GT similarity\n",
      "5021 \t Solubility DD Class (NN);nearest_neighbours[]- GT measured\n",
      "5021 \t Solubility DD Class (NN);nearest_neighbours[]- GT azid\n",
      "5021 \t Solubility DD Class (NN);nearest_neighbours[]- GT smiles\n",
      "17 \t AZlogD74 (NN);nearest_neighbours[]- GT similarity\n",
      "17 \t AZlogD74 (NN);nearest_neighbours[]- GT measured\n",
      "17 \t AZlogD74 (NN);nearest_neighbours[]- GT azid\n",
      "17 \t AZlogD74 (NN);nearest_neighbours[]- GT smiles\n",
      "2884 \t ACD Descriptors;pKa_acid1\n",
      "5913 \t ACD Descriptors;pKa_acid2\n",
      "3094 \t ACD Descriptors;pKa_base1\n",
      "47 \t clogP;clogp\n",
      "47 \t clogP;clogp_error\n",
      "44 \t OEselma Descriptors;part_flex_chain\n",
      "2873 \t ACD pKa;pKa_acid1\n",
      "5905 \t ACD pKa;pKa_acid2\n",
      "3082 \t ACD pKa;pKa_base1\n",
      "6492 \t ACD Descriptors;pKa_base2\n",
      "6483 \t ACD pKa;pKa_base2\n",
      "6211 \t Lipinski;lipinski_violations\n",
      "9275 \t Solubility DD;prediction (?M)\n",
      "9275 \t Solubility DD;log_prediction\n",
      "9275 \t Solubility DD;sd_log_prediction\n",
      "9804 \t ACD Descriptors;acd_caution\n",
      "9804 \t ACD logD-logP;acd_caution\n"
     ]
    }
   ],
   "source": [
    "# get a summary of how many elements are NaN\n",
    "for d in descriptors:\n",
    "    print(descriptors[d].isna().sum(), \"\\t\", d)"
   ]
  },
  {
   "cell_type": "code",
   "execution_count": 4,
   "id": "3a6b9b16",
   "metadata": {},
   "outputs": [
    {
     "data": {
      "text/plain": [
       "0        -2.241\n",
       "1        -0.447\n",
       "2        10.860\n",
       "3        -5.823\n",
       "4         2.693\n",
       "          ...  \n",
       "10627     0.203\n",
       "10628       NaN\n",
       "10629     0.915\n",
       "10630     4.852\n",
       "10631     2.487\n",
       "Name: ACD Descriptors;logP, Length: 10632, dtype: float64"
      ]
     },
     "execution_count": 4,
     "metadata": {},
     "output_type": "execute_result"
    }
   ],
   "source": [
    "descriptors[\"ACD Descriptors;logP\"]"
   ]
  }
 ],
 "metadata": {
  "kernelspec": {
   "display_name": "Python 3: Topological Data Analysis",
   "language": "python",
   "name": "az1"
  },
  "language_info": {
   "codemirror_mode": {
    "name": "ipython",
    "version": 3
   },
   "file_extension": ".py",
   "mimetype": "text/x-python",
   "name": "python",
   "nbconvert_exporter": "python",
   "pygments_lexer": "ipython3",
   "version": "3.9.7"
  }
 },
 "nbformat": 4,
 "nbformat_minor": 5
}
