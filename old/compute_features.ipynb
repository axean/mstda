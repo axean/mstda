{
 "cells": [
  {
   "cell_type": "markdown",
   "id": "52a57508",
   "metadata": {},
   "source": [
    "# Compute a bunch of topological features with varying parameters\n",
    "#### Persistence entropy\n",
    "The default values are:\n",
    "```\n",
    "Molecules:                      9701\n",
    "Topological features:           (9701, 6)\n",
    "Homology dimensions:            [0, 1, 2]\n",
    "Energy levels:                  3\n",
    "Mass transformed:               True\n",
    "Logarithmic integer mass:       True\n",
    "Persistence diagram epsilon:    0.01\n",
    "Persistence entropy normalized: False\n",
    "Parallelism (n_jobs):           3\n",
    "```\n",
    "Each `FeatureSpace` is about 120 MiB each because they store the full fragmentation graphs of the inputs. This is not used in the topological analysis, but it can be used to find known fragmentations of input molecules with `FeatureSpace.get_frags(SMILES)`. All computed `FeatureSpace`s are stored in `spaces/` and are called `persistence_entropy_*.json` where the asterisk is whatever default parameter has been changed."
   ]
  },
  {
   "cell_type": "code",
   "execution_count": 1,
   "id": "4a148100",
   "metadata": {},
   "outputs": [],
   "source": [
    "from mstda import FeatureSpace\n",
    "path = \"data/Drugbank2019_MS_CFMID4.0_FRAGMENTS.json\"\n",
    "#path = \"data/aspartam_similiar_CFMID4.0_FRAGMENTS_SMALLER.json\""
   ]
  },
  {
   "cell_type": "code",
   "execution_count": 2,
   "id": "38a90cae",
   "metadata": {},
   "outputs": [
    {
     "name": "stderr",
     "output_type": "stream",
     "text": [
      "/home/axean/anaconda3/envs/az1/lib/python3.9/site-packages/scipy/stats/_entropy.py:72: RuntimeWarning: invalid value encountered in true_divide\n",
      "  pk = 1.0*pk / np.sum(pk, axis=axis, keepdims=True)\n",
      "/home/axean/anaconda3/envs/az1/lib/python3.9/site-packages/scipy/stats/_entropy.py:72: RuntimeWarning: invalid value encountered in true_divide\n",
      "  pk = 1.0*pk / np.sum(pk, axis=axis, keepdims=True)\n",
      "/home/axean/anaconda3/envs/az1/lib/python3.9/site-packages/scipy/stats/_entropy.py:72: RuntimeWarning: invalid value encountered in true_divide\n",
      "  pk = 1.0*pk / np.sum(pk, axis=axis, keepdims=True)\n"
     ]
    },
    {
     "name": "stdout",
     "output_type": "stream",
     "text": [
      "saved feature space to: /home/axean/Dokument/mstda/spaces/persistence_entropy_epsilon0.01.json\n",
      "saved feature space to: /home/axean/Dokument/mstda/spaces/persistence_entropy_epsilon0.02.json\n",
      "saved feature space to: /home/axean/Dokument/mstda/spaces/persistence_entropy_epsilon0.03.json\n",
      "saved feature space to: /home/axean/Dokument/mstda/spaces/persistence_entropy_epsilon0.04.json\n",
      "saved feature space to: /home/axean/Dokument/mstda/spaces/persistence_entropy_epsilon0.05.json\n",
      "saved feature space to: /home/axean/Dokument/mstda/spaces/persistence_entropy_epsilon0.06.json\n",
      "saved feature space to: /home/axean/Dokument/mstda/spaces/persistence_entropy_epsilon0.07.json\n",
      "saved feature space to: /home/axean/Dokument/mstda/spaces/persistence_entropy_epsilon0.08.json\n",
      "saved feature space to: /home/axean/Dokument/mstda/spaces/persistence_entropy_epsilon0.09.json\n",
      "saved feature space to: /home/axean/Dokument/mstda/spaces/persistence_entropy_epsilon0.1.json\n"
     ]
    }
   ],
   "source": [
    "for epsilon in [0.01,0.02,0.03,0.04,0.05,0.06,0.07,0.08,0.09,0.1]:\n",
    "    fs = FeatureSpace(\n",
    "        path,\n",
    "        diagram_epsilon = epsilon,\n",
    "    )\n",
    "    fs.save(\"spaces/persistence_entropy_epsilon\"+str(epsilon)+\".json\")"
   ]
  },
  {
   "cell_type": "code",
   "execution_count": 3,
   "id": "faafc8de",
   "metadata": {},
   "outputs": [
    {
     "name": "stdout",
     "output_type": "stream",
     "text": [
      "saved feature space to: /home/axean/Dokument/mstda/spaces/persistence_entropy_hom(0,).json\n",
      "saved feature space to: /home/axean/Dokument/mstda/spaces/persistence_entropy_hom(1,).json\n",
      "saved feature space to: /home/axean/Dokument/mstda/spaces/persistence_entropy_hom(2,).json\n",
      "saved feature space to: /home/axean/Dokument/mstda/spaces/persistence_entropy_hom(0, 1).json\n",
      "saved feature space to: /home/axean/Dokument/mstda/spaces/persistence_entropy_hom(0, 2).json\n",
      "saved feature space to: /home/axean/Dokument/mstda/spaces/persistence_entropy_hom(1, 2).json\n"
     ]
    }
   ],
   "source": [
    "for levels in ([0],[1],[2],[0,1],[0,2],[1,2]):\n",
    "    fs = FeatureSpace(\n",
    "        path,\n",
    "        homology_dimensions = levels\n",
    "    )\n",
    "    fs.save(\"spaces/persistence_entropy_hom\"+str(tuple(levels))+\".json\")"
   ]
  }
 ],
 "metadata": {
  "kernelspec": {
   "display_name": "Python 3: Topological Data Analysis",
   "language": "python",
   "name": "az1"
  },
  "language_info": {
   "codemirror_mode": {
    "name": "ipython",
    "version": 3
   },
   "file_extension": ".py",
   "mimetype": "text/x-python",
   "name": "python",
   "nbconvert_exporter": "python",
   "pygments_lexer": "ipython3",
   "version": "3.9.7"
  }
 },
 "nbformat": 4,
 "nbformat_minor": 5
}
