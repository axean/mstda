{
 "cells": [
  {
   "cell_type": "code",
   "execution_count": 1,
   "id": "d242d5d7",
   "metadata": {},
   "outputs": [],
   "source": [
    "from alpha_complex_gpu import alpha_complex_filtration\n",
    "import gudhi as gd\n",
    "import numpy as np"
   ]
  },
  {
   "cell_type": "code",
   "execution_count": 2,
   "id": "1db70fb6",
   "metadata": {},
   "outputs": [
    {
     "data": {
      "text/plain": [
       "[([0], 0.0),\n",
       " ([1], 0.0),\n",
       " ([2], 0.0),\n",
       " ([3], 0.0),\n",
       " ([0, 3], 0.14433756729740643),\n",
       " ([1, 3], 0.14433756729740643),\n",
       " ([2, 3], 0.14433756729740643),\n",
       " ([0, 2], 0.2886751345948127),\n",
       " ([1, 2], 0.2886751345948127),\n",
       " ([0, 2, 3], 0.2886751345948127),\n",
       " ([1, 2, 3], 0.2886751345948127),\n",
       " ([0, 1], 0.2886751345948129),\n",
       " ([0, 1, 3], 0.2886751345948129)]"
      ]
     },
     "execution_count": 2,
     "metadata": {},
     "output_type": "execute_result"
    }
   ],
   "source": [
    "a, b = ((1.5 - .5 - .25)/3, (1.5 - np.sqrt(3)/4)/3)\n",
    "side = .5\n",
    "X = np.asarray([\n",
    "    [a,b],\n",
    "    [side+a, b],\n",
    "    [side/2 +a, side*np.sqrt(3)/2 + b],\n",
    "    [.5,.5],\n",
    "])\n",
    "#print(X.shape[1])\n",
    "alpha_complex_filtration(X)"
   ]
  },
  {
   "cell_type": "code",
   "execution_count": 6,
   "id": "5a3bbd39",
   "metadata": {},
   "outputs": [
    {
     "name": "stdout",
     "output_type": "stream",
     "text": [
      "450 ms ± 11.7 ms per loop (mean ± std. dev. of 7 runs, 1 loop each)\n"
     ]
    }
   ],
   "source": [
    "def test_mine(shape):\n",
    "    from numpy.random import rand\n",
    "    X = rand(*shape)\n",
    "    return alpha_complex_filtration(X)\n",
    "\n",
    "%timeit test_mine((50, 3))"
   ]
  },
  {
   "cell_type": "code",
   "execution_count": 8,
   "id": "8d3b043c",
   "metadata": {},
   "outputs": [
    {
     "name": "stdout",
     "output_type": "stream",
     "text": [
      "1.2 s ± 6.52 ms per loop (mean ± std. dev. of 7 runs, 1 loop each)\n"
     ]
    }
   ],
   "source": [
    "def test_gudhi(shape):\n",
    "    from numpy.random import rand\n",
    "    skeleton = gd.AlphaComplex(\n",
    "        points = rand(*shape),\n",
    "    )\n",
    "    st = skeleton.create_simplex_tree()\n",
    "    return list(st.get_filtration())\n",
    "%timeit test_gudhi((10000, 3))"
   ]
  },
  {
   "cell_type": "code",
   "execution_count": null,
   "id": "7bce5481",
   "metadata": {},
   "outputs": [],
   "source": [
    "import numpy as np\n",
    "min(np.nan, 3.0)"
   ]
  },
  {
   "cell_type": "code",
   "execution_count": null,
   "id": "5da3bea7",
   "metadata": {},
   "outputs": [],
   "source": [
    "st = gd.SimplexTree()\n",
    "st.insert([0,1,2,3])"
   ]
  },
  {
   "cell_type": "code",
   "execution_count": null,
   "id": "76b5f9ac",
   "metadata": {},
   "outputs": [],
   "source": [
    "list(st.get_star([1,3]))"
   ]
  }
 ],
 "metadata": {
  "kernelspec": {
   "display_name": "Python 3: Topological Data Analysis",
   "language": "python",
   "name": "az1"
  },
  "language_info": {
   "codemirror_mode": {
    "name": "ipython",
    "version": 3
   },
   "file_extension": ".py",
   "mimetype": "text/x-python",
   "name": "python",
   "nbconvert_exporter": "python",
   "pygments_lexer": "ipython3",
   "version": "3.9.7"
  }
 },
 "nbformat": 4,
 "nbformat_minor": 5
}
