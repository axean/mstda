{
 "cells": [
  {
   "cell_type": "code",
   "execution_count": null,
   "id": "0b4a78c3",
   "metadata": {},
   "outputs": [],
   "source": [
    "from gtda.homology import EuclideanCechPersistence,VietorisRipsPersistence\n",
    "from gtda.diagrams import PersistenceImage\n",
    "from gtda.pipeline import Pipeline\n",
    "from gtda.diagrams import Filtering"
   ]
  },
  {
   "cell_type": "code",
   "execution_count": null,
   "id": "a3168c59",
   "metadata": {},
   "outputs": [],
   "source": [
    "import tensorflow as tf\n",
    "import gudhi as gd\n",
    "import numpy as np\n",
    "import matplotlib.pyplot as plt\n",
    "import utils\n",
    "import scipy.spatial as spatial\n",
    "import json\n",
    "from rich import print\n",
    "from random import choice, sample\n",
    "from tqdm.notebook import tqdm\n",
    "from rdkit import Chem\n",
    "from rdkit.Chem import Descriptors\n",
    "from gc import collect\n",
    "\n",
    "with open(\"data/drugbank.json\", mode = \"r\") as drugbank:\n",
    "    db = json.load(drugbank)\n",
    "\n",
    "%matplotlib inline"
   ]
  },
  {
   "cell_type": "code",
   "execution_count": null,
   "id": "61875646",
   "metadata": {
    "scrolled": true
   },
   "outputs": [],
   "source": [
    "print(dir(Descriptors))"
   ]
  },
  {
   "cell_type": "code",
   "execution_count": null,
   "id": "70d21acf",
   "metadata": {},
   "outputs": [],
   "source": [
    "print(Descriptors.MolLogP(Chem.MolFromSmiles(\"Cc1cc(CCCOc2c(C)cc(cc2C)c3noc(n3)C(F)(F)F)on1\")))"
   ]
  },
  {
   "cell_type": "markdown",
   "id": "9c43bcd5",
   "metadata": {},
   "source": [
    "# Transform data to point clouds"
   ]
  },
  {
   "cell_type": "code",
   "execution_count": null,
   "id": "261d85e5",
   "metadata": {},
   "outputs": [],
   "source": [
    "spectra = dict()\n",
    "\n",
    "mol_indices = list(sample(list(range(len(db))), 2000))\n",
    "mol_strings = np.asarray(list(db.keys()))[ mol_indices ]\n",
    "\n",
    "for m in tqdm(mol_strings):\n",
    "    energies = [\n",
    "        np.asarray([ utils.split_fpn(x) for x in db[m][\"energy0\"][\"mz\"] ]),\n",
    "        np.asarray([ utils.split_fpn(x) for x in db[m][\"energy1\"][\"mz\"] ]),\n",
    "        np.asarray([ utils.split_fpn(x) for x in db[m][\"energy2\"][\"mz\"] ])\n",
    "    ]\n",
    "    for i,energy in enumerate(energies):\n",
    "        energies[i][:,0] = np.log(energy[:,0])/np.log(6000)\n",
    "        \n",
    "    spectra[m] = tuple(energies)\n",
    "\n",
    "mol_strings = list(spectra.keys())\n",
    "del mol_indices\n",
    "del db\n",
    "collect()"
   ]
  },
  {
   "cell_type": "markdown",
   "id": "4ba71c7f",
   "metadata": {},
   "source": [
    "# Inspect data"
   ]
  },
  {
   "cell_type": "code",
   "execution_count": null,
   "id": "03859d46",
   "metadata": {},
   "outputs": [],
   "source": [
    "fig = plt.figure(figsize=(17,17))\n",
    "ax = fig.add_subplot()\n",
    "for mol_s in sample(mol_strings, min(len(mol_strings), 100) ):\n",
    "    (X0,X1,X2) = spectra[ mol_s ]\n",
    "    ax.scatter(X0[:,0],X0[:,1], color = \"blue\")\n",
    "    ax.scatter(X1[:,0],X1[:,1], color = \"green\")\n",
    "    ax.scatter(X2[:,0],X2[:,1], color = \"red\")"
   ]
  },
  {
   "cell_type": "markdown",
   "id": "42c6436a",
   "metadata": {},
   "source": [
    "# Crossval split"
   ]
  },
  {
   "cell_type": "code",
   "execution_count": null,
   "id": "b9e9d81f",
   "metadata": {},
   "outputs": [],
   "source": [
    "train_mols = sample(mol_strings, int(np.ceil(len(mol_strings)*0.8)) )\n",
    "test_mols = list(set(mol_strings) - set(train_mols))\n",
    "\n",
    "train_spectra = { m : spectra[m] for m in train_mols }\n",
    "test_spectra = { m : spectra[m] for m in test_mols }\n",
    "\n",
    "assert set(train_spectra.keys()).intersection(set(test_spectra.keys())) == set()\n",
    "print('# train_mols: ',len(train_mols), '\\t # test mols: ', len(test_mols))"
   ]
  },
  {
   "cell_type": "markdown",
   "id": "6d029244",
   "metadata": {},
   "source": [
    "# Compute Čech persistence"
   ]
  },
  {
   "cell_type": "code",
   "execution_count": null,
   "id": "a9670a36",
   "metadata": {},
   "outputs": [],
   "source": [
    "def compute_cech_persistence(spectra):\n",
    "    pipeline = Pipeline([\n",
    "        ('diagram', EuclideanCechPersistence(\n",
    "            homology_dimensions = [0,1,2],\n",
    "            max_edge_length = np.sqrt(2),\n",
    "            n_jobs = 3,\n",
    "        )),\n",
    "        ('filtering', Filtering()),\n",
    "        ('image', PersistenceImage(n_bins = 20, n_jobs = 3)),\n",
    "    ])\n",
    "    # dictionary of 3-tuples of point clouds\n",
    "    molecules = list(spectra.keys())\n",
    "    x0 = [ X[0] for X in spectra.values() ]\n",
    "    x1 = [ X[1] for X in spectra.values() ]\n",
    "    x2 = [ X[2] for X in spectra.values() ]\n",
    "    data = (\n",
    "        pipeline.fit_transform(x0),\n",
    "        pipeline.fit_transform(x1),\n",
    "        pipeline.fit_transform(x2),\n",
    "    )\n",
    "    data = np.concatenate(data, axis = 1)\n",
    "    return molecules, data\n",
    "\n",
    "train_molecules, train_data = compute_cech_persistence(train_spectra)\n",
    "test_molecules, test_data = compute_cech_persistence(test_spectra)"
   ]
  },
  {
   "cell_type": "code",
   "execution_count": null,
   "id": "98a9159f",
   "metadata": {},
   "outputs": [],
   "source": [
    "print(train_data.shape)"
   ]
  },
  {
   "cell_type": "code",
   "execution_count": null,
   "id": "46a624eb",
   "metadata": {},
   "outputs": [],
   "source": [
    "plt.imshow(train_data[16,2])"
   ]
  },
  {
   "cell_type": "markdown",
   "id": "c347a34c",
   "metadata": {},
   "source": [
    "# Extract Labels\n",
    "(this can be done from rdkit or from the descriptor .csv)"
   ]
  },
  {
   "cell_type": "code",
   "execution_count": null,
   "id": "cc81e5d5",
   "metadata": {},
   "outputs": [],
   "source": [
    "my_descriptors = (\n",
    "    \"NumAromaticRings\",\n",
    "    \"ExactMolWt\",\n",
    "    \"NumValenceElectrons\",\n",
    "    \"MolLogP\"\n",
    ")# interesting, but domain difficulties\n",
    "\n",
    "integer_descriptors = (\n",
    "    'NumAliphaticCarbocycles',\n",
    "    'NumAliphaticHeterocycles',\n",
    "    'NumAliphaticRings',\n",
    "    'NumAromaticCarbocycles',\n",
    "    'NumAromaticHeterocycles',\n",
    "    'NumAromaticRings',\n",
    "    'NumHAcceptors',\n",
    "    'NumHDonors',\n",
    "    'NumHeteroatoms',\n",
    "    'NumRadicalElectrons',\n",
    "    'NumRotatableBonds',\n",
    "    'NumSaturatedCarbocycles',\n",
    "    'NumSaturatedHeterocycles',\n",
    "    'NumSaturatedRings',\n",
    "#    'NumValenceElectrons'\n",
    ")\n",
    "logpvsa_descriptors = (\n",
    "    'SlogP_VSA1',\n",
    "    'SlogP_VSA10',\n",
    "    'SlogP_VSA11',\n",
    "    'SlogP_VSA12',\n",
    "    'SlogP_VSA2',\n",
    "    'SlogP_VSA3',\n",
    "    'SlogP_VSA4',\n",
    "    'SlogP_VSA5',\n",
    "    'SlogP_VSA6',\n",
    "    'SlogP_VSA7',\n",
    "    'SlogP_VSA8',\n",
    "    'SlogP_VSA9'\n",
    ")\n",
    "#descriptors = integer_descriptors\n",
    "descriptors = logpvsa_descriptors\n",
    "\n",
    "num_descriptors = len(descriptors)\n",
    "\n",
    "train_labels = np.zeros((train_data.shape[0], num_descriptors))\n",
    "test_labels = np.zeros((test_data.shape[0], num_descriptors))\n",
    "\n",
    "for i,d in enumerate(descriptors):\n",
    "    get_desc = getattr(Descriptors, d)\n",
    "    train_labels[:,i] = np.asarray(list(map(\n",
    "        lambda mol : get_desc(Chem.MolFromSmiles(mol)),\n",
    "        train_molecules\n",
    "    )))\n",
    "    test_labels[:,i] = np.asarray(list(map(\n",
    "        lambda mol : get_desc(Chem.MolFromSmiles(mol)),\n",
    "        test_molecules\n",
    "    )))"
   ]
  },
  {
   "cell_type": "code",
   "execution_count": null,
   "id": "19245bbb",
   "metadata": {},
   "outputs": [],
   "source": [
    "print(choice(train_labels))"
   ]
  },
  {
   "cell_type": "markdown",
   "id": "3a99dffe",
   "metadata": {},
   "source": [
    "# Setup CNN"
   ]
  },
  {
   "cell_type": "code",
   "execution_count": null,
   "id": "5228f880",
   "metadata": {},
   "outputs": [],
   "source": [
    "model = tf.keras.Sequential([\n",
    "    tf.keras.layers.Conv2D(\n",
    "        filters = 32,\n",
    "        kernel_size = 3, # sliding window\n",
    "        input_shape = train_data.shape[1:],\n",
    "        data_format = \"channels_first\",\n",
    "        #padding = \"same\",\n",
    "        activation = \"relu\",\n",
    "    ),\n",
    "    tf.keras.layers.MaxPooling2D(),\n",
    "    tf.keras.layers.Conv2D(\n",
    "        filters = 100,\n",
    "        kernel_size = 3,\n",
    "        #data_format = \"channels_first\",\n",
    "        #padding = \"same\",\n",
    "        activation = \"relu\",\n",
    "    ),\n",
    "    tf.keras.layers.MaxPooling2D(),\n",
    "    tf.keras.layers.Flatten(),\n",
    "    tf.keras.layers.Dense(64),#, activation = \"relu\"),\n",
    "    #tf.keras.layers.Discretization(bin_boundaries=list(range(100000))),\n",
    "    tf.keras.layers.Dense(num_descriptors),\n",
    "])"
   ]
  },
  {
   "cell_type": "code",
   "execution_count": null,
   "id": "c5ac40eb",
   "metadata": {},
   "outputs": [],
   "source": [
    "model.summary()"
   ]
  },
  {
   "cell_type": "code",
   "execution_count": null,
   "id": "8635c11c",
   "metadata": {},
   "outputs": [],
   "source": [
    "model.compile(\n",
    "    optimizer = 'adam',\n",
    "    loss = \"mean_absolute_error\",    \n",
    ")"
   ]
  },
  {
   "cell_type": "code",
   "execution_count": null,
   "id": "1e2ab586",
   "metadata": {
    "scrolled": true
   },
   "outputs": [],
   "source": [
    "%%time\n",
    "history = model.fit(\n",
    "    train_data,\n",
    "    train_labels,\n",
    "    verbose = 1,\n",
    "    epochs = 100,\n",
    "    # Calculate validation results on 20% of the training data.\n",
    "    validation_split = 0.2\n",
    ")"
   ]
  },
  {
   "cell_type": "code",
   "execution_count": null,
   "id": "6ab956c8",
   "metadata": {},
   "outputs": [],
   "source": [
    "def plot_loss(history):\n",
    "    plt.plot(history.history['loss'], label='loss')\n",
    "    plt.plot(history.history['val_loss'], label='val_loss')\n",
    "    #plt.ylim([0, 10])\n",
    "    plt.xlabel('Epoch')\n",
    "    plt.ylabel('Error')\n",
    "    plt.legend()\n",
    "    plt.grid(True)\n",
    "plot_loss(history)"
   ]
  },
  {
   "cell_type": "code",
   "execution_count": null,
   "id": "fe30a3bc",
   "metadata": {},
   "outputs": [],
   "source": [
    "compare = np.zeros((test_data.shape[0], num_descriptors, 2))\n",
    "compare[:,:,0] = test_labels\n",
    "compare[:,:,1] = model.predict(test_data).reshape((test_data.shape[0],num_descriptors))\n",
    "\n",
    "with np.printoptions(precision = 2, suppress = True):\n",
    "    for t in compare:\n",
    "        print(t)"
   ]
  }
 ],
 "metadata": {
  "kernelspec": {
   "display_name": "Python 3: Topological Data Analysis",
   "language": "python",
   "name": "az1"
  },
  "language_info": {
   "codemirror_mode": {
    "name": "ipython",
    "version": 3
   },
   "file_extension": ".py",
   "mimetype": "text/x-python",
   "name": "python",
   "nbconvert_exporter": "python",
   "pygments_lexer": "ipython3",
   "version": "3.9.7"
  }
 },
 "nbformat": 4,
 "nbformat_minor": 5
}
