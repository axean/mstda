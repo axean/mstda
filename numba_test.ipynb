{
 "cells": [
  {
   "cell_type": "code",
   "execution_count": 8,
   "id": "409c93c8",
   "metadata": {},
   "outputs": [
    {
     "data": {
      "text/html": [
       "<pre style=\"white-space:pre;overflow-x:auto;line-height:normal;font-family:Menlo,'DejaVu Sans Mono',consolas,'Courier New',monospace\"><span style=\"font-weight: bold\">&lt;</span><span style=\"color: #ff00ff; text-decoration-color: #ff00ff; font-weight: bold\">CUDA</span><span style=\"color: #000000; text-decoration-color: #000000\"> device </span><span style=\"color: #008080; text-decoration-color: #008080; font-weight: bold\">0</span><span style=\"color: #000000; text-decoration-color: #000000\"> </span><span style=\"color: #008000; text-decoration-color: #008000\">'b'</span><span style=\"color: #000000; text-decoration-color: #000000\">NVIDIA GeForce GTX </span><span style=\"color: #008080; text-decoration-color: #008080; font-weight: bold\">1070</span><span style=\"color: #000000; text-decoration-color: #000000\"> Ti''</span><span style=\"font-weight: bold\">&gt;</span>\n",
       "</pre>\n"
      ],
      "text/plain": [
       "\u001b[1m<\u001b[0m\u001b[1;95mCUDA\u001b[0m\u001b[39m device \u001b[0m\u001b[1;36m0\u001b[0m\u001b[39m \u001b[0m\u001b[32m'b'\u001b[0m\u001b[39mNVIDIA GeForce GTX \u001b[0m\u001b[1;36m1070\u001b[0m\u001b[39m Ti''\u001b[0m\u001b[1m>\u001b[0m\n"
      ]
     },
     "metadata": {},
     "output_type": "display_data"
    }
   ],
   "source": [
    "from numba import cuda\n",
    "import numpy as np\n",
    "from rich import print\n",
    "print(cuda.current_context().device)"
   ]
  },
  {
   "cell_type": "markdown",
   "id": "b6aafa96",
   "metadata": {},
   "source": [
    "# Declare kernel function\n",
    "https://numba.readthedocs.io/en/stable/cuda/kernels.html#kernel-declaration\n",
    "\n",
    "When running a kernel, the kernel function’s code is executed by every thread once. It therefore has to know which thread it is in, in order to know which array element(s) it is responsible for (complex algorithms may define more complex responsibilities, but the underlying principle is the same).\n",
    "\n",
    "![](https://docs.nvidia.com/cuda/cuda-c-programming-guide/graphics/grid-of-thread-blocks.png)"
   ]
  },
  {
   "cell_type": "code",
   "execution_count": 2,
   "id": "d3953186",
   "metadata": {},
   "outputs": [],
   "source": [
    "@cuda.jit\n",
    "def increment_by_one(an_array):\n",
    "    # Thread id in a 1D block\n",
    "    tx = cuda.threadIdx.x\n",
    "    # Block id in a 1D grid\n",
    "    ty = cuda.blockIdx.x\n",
    "    # Block width, i.e. number of threads per block\n",
    "    bw = cuda.blockDim.x\n",
    "    # Compute flattened index inside the array\n",
    "    pos = tx + ty * bw\n",
    "    if pos < an_array.size:  # Check array boundaries\n",
    "        an_array[pos] += 1"
   ]
  },
  {
   "cell_type": "markdown",
   "id": "5d0fba48",
   "metadata": {},
   "source": [
    "# Invoke kernel function\n",
    "https://numba.readthedocs.io/en/stable/cuda/kernels.html#kernel-invocation\n",
    "\n",
    "We need to compile the function first, which is done by invoking it for small valid input. Note that there is a compiler warning the first time the function is invoked:\n",
    "```\n",
    "/home/axean/anaconda3/envs/az1/lib/python3.9/site-packages/numba/cuda/cudadrv/devicearray.py:790: NumbaPerformanceWarning: Host array used in CUDA kernel will incur copy overhead to/from device.\n",
    "  warn(NumbaPerformanceWarning(msg))\n",
    "```\n",
    "There is a limit to the number of threads per block, since all threads of a block are expected to reside on the same processor core and must share the limited memory resources of that core. On current GPUs, a thread block may contain up to 1024 threads.\n",
    "https://docs.nvidia.com/cuda/cuda-c-programming-guide/#thread-hierarchy\n",
    "\n",
    "![](https://docs.nvidia.com/cuda/cuda-c-programming-guide/graphics/memory-hierarchy.png)"
   ]
  },
  {
   "cell_type": "code",
   "execution_count": 3,
   "id": "e3810293",
   "metadata": {},
   "outputs": [
    {
     "data": {
      "text/html": [
       "<pre style=\"white-space:pre;overflow-x:auto;line-height:normal;font-family:Menlo,'DejaVu Sans Mono',consolas,'Courier New',monospace\">blockspergrid  <span style=\"color: #008080; text-decoration-color: #008080; font-weight: bold\">20</span>\n",
       "</pre>\n"
      ],
      "text/plain": [
       "blockspergrid  \u001b[1;36m20\u001b[0m\n"
      ]
     },
     "metadata": {},
     "output_type": "display_data"
    },
    {
     "name": "stderr",
     "output_type": "stream",
     "text": [
      "/home/axean/anaconda3/envs/az1/lib/python3.9/site-packages/numba/cuda/compiler.py:865: NumbaPerformanceWarning: \u001b[1mGrid size (20) < 2 * SM count (38) will likely result in GPU under utilization due to low occupancy.\u001b[0m\n",
      "  warn(NumbaPerformanceWarning(msg))\n",
      "/home/axean/anaconda3/envs/az1/lib/python3.9/site-packages/numba/cuda/cudadrv/devicearray.py:790: NumbaPerformanceWarning: \u001b[1mHost array used in CUDA kernel will incur copy overhead to/from device.\u001b[0m\n",
      "  warn(NumbaPerformanceWarning(msg))\n"
     ]
    }
   ],
   "source": [
    "threadsperblock = 2\n",
    "an_array = np.asarray(list(range(40)))\n",
    "blockspergrid = (an_array.size + (threadsperblock - 1)) // threadsperblock\n",
    "print('blockspergrid ', blockspergrid)\n",
    "increment_by_one[blockspergrid, threadsperblock](an_array)"
   ]
  },
  {
   "cell_type": "code",
   "execution_count": 4,
   "id": "dcc38a88",
   "metadata": {},
   "outputs": [
    {
     "data": {
      "text/html": [
       "<pre style=\"white-space:pre;overflow-x:auto;line-height:normal;font-family:Menlo,'DejaVu Sans Mono',consolas,'Courier New',monospace\"><span style=\"font-weight: bold\">[</span><span style=\"color: #008080; text-decoration-color: #008080; font-weight: bold\">0</span> <span style=\"color: #008080; text-decoration-color: #008080; font-weight: bold\">1</span> <span style=\"color: #008080; text-decoration-color: #008080; font-weight: bold\">2</span> <span style=\"color: #008080; text-decoration-color: #008080; font-weight: bold\">3</span> <span style=\"color: #008080; text-decoration-color: #008080; font-weight: bold\">4</span><span style=\"font-weight: bold\">]</span>\n",
       "</pre>\n"
      ],
      "text/plain": [
       "\u001b[1m[\u001b[0m\u001b[1;36m0\u001b[0m \u001b[1;36m1\u001b[0m \u001b[1;36m2\u001b[0m \u001b[1;36m3\u001b[0m \u001b[1;36m4\u001b[0m\u001b[1m]\u001b[0m\n"
      ]
     },
     "metadata": {},
     "output_type": "display_data"
    },
    {
     "name": "stdout",
     "output_type": "stream",
     "text": [
      "59.8 ms ± 125 µs per loop (mean ± std. dev. of 7 runs, 10 loops each)\n"
     ]
    },
    {
     "data": {
      "text/html": [
       "<pre style=\"white-space:pre;overflow-x:auto;line-height:normal;font-family:Menlo,'DejaVu Sans Mono',consolas,'Courier New',monospace\"><span style=\"font-weight: bold\">[</span><span style=\"color: #008080; text-decoration-color: #008080; font-weight: bold\">81</span> <span style=\"color: #008080; text-decoration-color: #008080; font-weight: bold\">82</span> <span style=\"color: #008080; text-decoration-color: #008080; font-weight: bold\">83</span> <span style=\"color: #008080; text-decoration-color: #008080; font-weight: bold\">84</span> <span style=\"color: #008080; text-decoration-color: #008080; font-weight: bold\">85</span><span style=\"font-weight: bold\">]</span>\n",
       "</pre>\n"
      ],
      "text/plain": [
       "\u001b[1m[\u001b[0m\u001b[1;36m81\u001b[0m \u001b[1;36m82\u001b[0m \u001b[1;36m83\u001b[0m \u001b[1;36m84\u001b[0m \u001b[1;36m85\u001b[0m\u001b[1m]\u001b[0m\n"
      ]
     },
     "metadata": {},
     "output_type": "display_data"
    }
   ],
   "source": [
    "array_size = 300000\n",
    "\n",
    "def python_naive_add(an_array):\n",
    "    for i in range(len(an_array)):\n",
    "        an_array[i] += 1\n",
    "\n",
    "big_array = np.asarray(list(range(array_size)))\n",
    "print(big_array[:5])\n",
    "%timeit python_naive_add(big_array)\n",
    "print(big_array[:5])"
   ]
  },
  {
   "cell_type": "code",
   "execution_count": 5,
   "id": "ec6dd92f",
   "metadata": {},
   "outputs": [
    {
     "data": {
      "text/html": [
       "<pre style=\"white-space:pre;overflow-x:auto;line-height:normal;font-family:Menlo,'DejaVu Sans Mono',consolas,'Courier New',monospace\"><span style=\"font-weight: bold\">[</span><span style=\"color: #008080; text-decoration-color: #008080; font-weight: bold\">0</span> <span style=\"color: #008080; text-decoration-color: #008080; font-weight: bold\">1</span> <span style=\"color: #008080; text-decoration-color: #008080; font-weight: bold\">2</span> <span style=\"color: #008080; text-decoration-color: #008080; font-weight: bold\">3</span> <span style=\"color: #008080; text-decoration-color: #008080; font-weight: bold\">4</span><span style=\"font-weight: bold\">]</span>\n",
       "</pre>\n"
      ],
      "text/plain": [
       "\u001b[1m[\u001b[0m\u001b[1;36m0\u001b[0m \u001b[1;36m1\u001b[0m \u001b[1;36m2\u001b[0m \u001b[1;36m3\u001b[0m \u001b[1;36m4\u001b[0m\u001b[1m]\u001b[0m\n"
      ]
     },
     "metadata": {},
     "output_type": "display_data"
    },
    {
     "name": "stdout",
     "output_type": "stream",
     "text": [
      "58.5 µs ± 323 ns per loop (mean ± std. dev. of 7 runs, 10000 loops each)\n"
     ]
    },
    {
     "data": {
      "text/html": [
       "<pre style=\"white-space:pre;overflow-x:auto;line-height:normal;font-family:Menlo,'DejaVu Sans Mono',consolas,'Courier New',monospace\"><span style=\"font-weight: bold\">[</span><span style=\"color: #008080; text-decoration-color: #008080; font-weight: bold\">81111</span> <span style=\"color: #008080; text-decoration-color: #008080; font-weight: bold\">81112</span> <span style=\"color: #008080; text-decoration-color: #008080; font-weight: bold\">81113</span> <span style=\"color: #008080; text-decoration-color: #008080; font-weight: bold\">81114</span> <span style=\"color: #008080; text-decoration-color: #008080; font-weight: bold\">81115</span><span style=\"font-weight: bold\">]</span>\n",
       "</pre>\n"
      ],
      "text/plain": [
       "\u001b[1m[\u001b[0m\u001b[1;36m81111\u001b[0m \u001b[1;36m81112\u001b[0m \u001b[1;36m81113\u001b[0m \u001b[1;36m81114\u001b[0m \u001b[1;36m81115\u001b[0m\u001b[1m]\u001b[0m\n"
      ]
     },
     "metadata": {},
     "output_type": "display_data"
    }
   ],
   "source": [
    "# numpy is very fast for simple operations, but less fast\n",
    "# when intermediary arrays are needed\n",
    "def python_numpy_add(an_array):\n",
    "    an_array += 1\n",
    "\n",
    "big_array = np.asarray(list(range(array_size)))\n",
    "print(big_array[:5])\n",
    "%timeit python_numpy_add(big_array)\n",
    "print(big_array[:5])"
   ]
  },
  {
   "cell_type": "code",
   "execution_count": 6,
   "id": "13d58e6a",
   "metadata": {},
   "outputs": [
    {
     "data": {
      "text/html": [
       "<pre style=\"white-space:pre;overflow-x:auto;line-height:normal;font-family:Menlo,'DejaVu Sans Mono',consolas,'Courier New',monospace\">blockspergrid  <span style=\"color: #008080; text-decoration-color: #008080; font-weight: bold\">150000</span>\n",
       "</pre>\n"
      ],
      "text/plain": [
       "blockspergrid  \u001b[1;36m150000\u001b[0m\n"
      ]
     },
     "metadata": {},
     "output_type": "display_data"
    },
    {
     "data": {
      "text/html": [
       "<pre style=\"white-space:pre;overflow-x:auto;line-height:normal;font-family:Menlo,'DejaVu Sans Mono',consolas,'Courier New',monospace\"><span style=\"font-weight: bold\">[</span><span style=\"color: #008080; text-decoration-color: #008080; font-weight: bold\">0</span> <span style=\"color: #008080; text-decoration-color: #008080; font-weight: bold\">1</span> <span style=\"color: #008080; text-decoration-color: #008080; font-weight: bold\">2</span> <span style=\"color: #008080; text-decoration-color: #008080; font-weight: bold\">3</span> <span style=\"color: #008080; text-decoration-color: #008080; font-weight: bold\">4</span><span style=\"font-weight: bold\">]</span>\n",
       "</pre>\n"
      ],
      "text/plain": [
       "\u001b[1m[\u001b[0m\u001b[1;36m0\u001b[0m \u001b[1;36m1\u001b[0m \u001b[1;36m2\u001b[0m \u001b[1;36m3\u001b[0m \u001b[1;36m4\u001b[0m\u001b[1m]\u001b[0m\n"
      ]
     },
     "metadata": {},
     "output_type": "display_data"
    },
    {
     "name": "stdout",
     "output_type": "stream",
     "text": [
      "1.67 ms ± 2.02 µs per loop (mean ± std. dev. of 7 runs, 1000 loops each)\n"
     ]
    },
    {
     "data": {
      "text/html": [
       "<pre style=\"white-space:pre;overflow-x:auto;line-height:normal;font-family:Menlo,'DejaVu Sans Mono',consolas,'Courier New',monospace\"><span style=\"font-weight: bold\">[</span><span style=\"color: #008080; text-decoration-color: #008080; font-weight: bold\">8111</span> <span style=\"color: #008080; text-decoration-color: #008080; font-weight: bold\">8112</span> <span style=\"color: #008080; text-decoration-color: #008080; font-weight: bold\">8113</span> <span style=\"color: #008080; text-decoration-color: #008080; font-weight: bold\">8114</span> <span style=\"color: #008080; text-decoration-color: #008080; font-weight: bold\">8115</span><span style=\"font-weight: bold\">]</span>\n",
       "</pre>\n"
      ],
      "text/plain": [
       "\u001b[1m[\u001b[0m\u001b[1;36m8111\u001b[0m \u001b[1;36m8112\u001b[0m \u001b[1;36m8113\u001b[0m \u001b[1;36m8114\u001b[0m \u001b[1;36m8115\u001b[0m\u001b[1m]\u001b[0m\n"
      ]
     },
     "metadata": {},
     "output_type": "display_data"
    }
   ],
   "source": [
    "big_array = np.asarray(list(range(array_size)))\n",
    "blockspergrid = (big_array.size + (threadsperblock - 1)) // threadsperblock\n",
    "print('blockspergrid ', blockspergrid)\n",
    "print(big_array[:5])\n",
    "%timeit increment_by_one[blockspergrid, threadsperblock](big_array)\n",
    "print(big_array[:5])"
   ]
  }
 ],
 "metadata": {
  "kernelspec": {
   "display_name": "Python 3: Topological Data Analysis",
   "language": "python",
   "name": "az1"
  },
  "language_info": {
   "codemirror_mode": {
    "name": "ipython",
    "version": 3
   },
   "file_extension": ".py",
   "mimetype": "text/x-python",
   "name": "python",
   "nbconvert_exporter": "python",
   "pygments_lexer": "ipython3",
   "version": "3.9.7"
  }
 },
 "nbformat": 4,
 "nbformat_minor": 5
}
