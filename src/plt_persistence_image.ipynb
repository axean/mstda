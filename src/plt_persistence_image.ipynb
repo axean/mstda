{
 "cells": [
  {
   "cell_type": "code",
   "execution_count": 1,
   "id": "4793a19d",
   "metadata": {},
   "outputs": [],
   "source": [
    "import gudhi as gd\n",
    "import json\n",
    "import numpy as np\n",
    "import matplotlib.pyplot as plt\n",
    "from tqdm.notebook import tqdm\n",
    "import utils\n",
    "from random import choice, sample\n",
    "\n",
    "with open(\"data/Drugbank2019_MS_CFMID4.0.json\", mode = \"r\") as drugbank:\n",
    "    db = json.load(drugbank)"
   ]
  },
  {
   "cell_type": "code",
   "execution_count": 2,
   "id": "8126cf9b",
   "metadata": {},
   "outputs": [],
   "source": [
    "from gtda.homology import EuclideanCechPersistence,VietorisRipsPersistence\n",
    "from gtda.diagrams import PersistenceImage\n",
    "from gtda.pipeline import Pipeline\n",
    "from gtda.diagrams import Filtering"
   ]
  },
  {
   "cell_type": "code",
   "execution_count": 3,
   "id": "79cbd111",
   "metadata": {},
   "outputs": [],
   "source": [
    "mol_str = \"CN(C)CCCn1cc(C2=C(C(=O)NC2=O)c3c[nH]c4ccccc34)c5ccccc15\"\n",
    "idx = list(db.keys()).index(mol_str)"
   ]
  },
  {
   "cell_type": "code",
   "execution_count": 4,
   "id": "010bc6c1",
   "metadata": {},
   "outputs": [
    {
     "data": {
      "application/vnd.jupyter.widget-view+json": {
       "model_id": "78dda45e7a614db09c7194ab7a4c9bf7",
       "version_major": 2,
       "version_minor": 0
      },
      "text/plain": [
       "  0%|          | 0/1 [00:00<?, ?it/s]"
      ]
     },
     "metadata": {},
     "output_type": "display_data"
    },
    {
     "name": "stdout",
     "output_type": "stream",
     "text": [
      "['CN(C)CCCn1cc(C2=C(C(=O)NC2=O)c3c[nH]c4ccccc34)c5ccccc15']\n"
     ]
    }
   ],
   "source": [
    "spectra = dict()\n",
    "\n",
    "#mol_indices = list(sample(list(range(len(db))), 9701))\n",
    "mol_strings = np.asarray(list(db.keys()))[ [idx] ]\n",
    "\n",
    "for m in tqdm(mol_strings):\n",
    "    energies = [\n",
    "        np.asarray([ utils.split_fpn(x) for x in db[m][\"energy0\"][\"mz\"] ]),\n",
    "        np.asarray([ utils.split_fpn(x) for x in db[m][\"energy1\"][\"mz\"] ]),\n",
    "        np.asarray([ utils.split_fpn(x) for x in db[m][\"energy2\"][\"mz\"] ])\n",
    "    ]\n",
    "    for i,energy in enumerate(energies):\n",
    "        energies[i][:,0] = np.log(energy[:,0])/np.log(6000)\n",
    "        \n",
    "    spectra[m] = tuple(energies)\n",
    "\n",
    "mol_strings = list(spectra.keys())\n",
    "print(mol_strings)"
   ]
  },
  {
   "cell_type": "code",
   "execution_count": 5,
   "id": "e7d141a7",
   "metadata": {},
   "outputs": [
    {
     "data": {
      "image/png": "[encoded data removed]",
      "text/plain": [
       "<Figure size 1224x1224 with 1 Axes>"
      ]
     },
     "metadata": {
      "needs_background": "light"
     },
     "output_type": "display_data"
    }
   ],
   "source": [
    "fig = plt.figure(figsize=(17,17))\n",
    "ax = fig.add_subplot()\n",
    "for mol_s in sample(mol_strings, min(len(mol_strings), 100) ):\n",
    "    (X0,X1,X2) = spectra[ mol_s ]\n",
    "    ax.scatter(X0[:,0],X0[:,1], color = \"blue\")\n",
    "    ax.scatter(X1[:,0],X1[:,1], color = \"green\")\n",
    "    ax.scatter(X2[:,0],X2[:,1], color = \"red\")"
   ]
  },
  {
   "cell_type": "code",
   "execution_count": 6,
   "id": "e647b116",
   "metadata": {},
   "outputs": [
    {
     "data": {
      "text/plain": [
       "{'CN(C)CCCn1cc(C2=C(C(=O)NC2=O)c3c[nH]c4ccccc34)c5ccccc15': (array([[0.49159824, 0.08078   ],\n",
       "         [0.5120225 , 0.09643   ],\n",
       "         [0.66590077, 0.10805   ],\n",
       "         [0.67912787, 0.13935   ],\n",
       "         [0.69238892, 0.1972    ]]),\n",
       "  array([[0.46674362, 0.06513   ],\n",
       "         [0.5120225 , 0.09643   ],\n",
       "         [0.54838514, 0.06513   ],\n",
       "         [0.66590077, 0.10805   ],\n",
       "         [0.67003112, 0.10805   ],\n",
       "         [0.67070531, 0.1237    ],\n",
       "         [0.67912787, 0.13935   ],\n",
       "         [0.6797509 , 0.19139   ],\n",
       "         [0.68726658, 0.18664   ],\n",
       "         [0.69238892, 0.1972    ]]),\n",
       "  array([[0.44009827, 0.06513   ],\n",
       "         [0.46674362, 0.06513   ],\n",
       "         [0.47064057, 0.08078   ],\n",
       "         [0.48836003, 0.06513   ],\n",
       "         [0.49159824, 0.08078   ],\n",
       "         [0.50931769, 0.08078   ],\n",
       "         [0.5120225 , 0.09643   ],\n",
       "         [0.51851852, 0.05423   ],\n",
       "         [0.54838514, 0.06513   ],\n",
       "         [0.55951793, 0.06513   ],\n",
       "         [0.622575  , 0.06585   ],\n",
       "         [0.63422536, 0.06585   ],\n",
       "         [0.63514496, 0.0815    ],\n",
       "         [0.63696237, 0.09167   ],\n",
       "         [0.64310614, 0.10732   ],\n",
       "         [0.64395762, 0.12297   ],\n",
       "         [0.64893814, 0.08659   ],\n",
       "         [0.65292982, 0.10732   ],\n",
       "         [0.65371179, 0.12297   ],\n",
       "         [0.65448847, 0.10224   ],\n",
       "         [0.65448847, 0.13862   ],\n",
       "         [0.66484457, 0.13354   ],\n",
       "         [0.66519772, 0.0924    ],\n",
       "         [0.66590077, 0.10805   ],\n",
       "         [0.67003112, 0.10805   ],\n",
       "         [0.67336321, 0.16517   ],\n",
       "         [0.68726658, 0.18664   ],\n",
       "         [0.68755722, 0.17065   ],\n",
       "         [0.68784713, 0.1659    ],\n",
       "         [0.69183091, 0.18155   ]]))}"
      ]
     },
     "execution_count": 6,
     "metadata": {},
     "output_type": "execute_result"
    }
   ],
   "source": [
    "spectra"
   ]
  },
  {
   "cell_type": "code",
   "execution_count": 31,
   "id": "a979b7a2",
   "metadata": {},
   "outputs": [],
   "source": [
    "def compute_cech_persistence(spectra):\n",
    "    pipeline = Pipeline([\n",
    "        ('diagram', EuclideanCechPersistence(\n",
    "            homology_dimensions = [0,1,2],\n",
    "            max_edge_length = np.sqrt(2),\n",
    "            n_jobs = 3,\n",
    "        )),\n",
    "        ('filtering', Filtering()),\n",
    "        ('image', PersistenceImage(n_bins = 50, n_jobs = 3)),\n",
    "    ])\n",
    "    # dictionary of 3-tuples of point clouds\n",
    "    molecules = list(spectra.keys())\n",
    "    x0 = [ X[0] for X in spectra.values() ]\n",
    "    x1 = [ X[1] for X in spectra.values() ]\n",
    "    x2 = [ X[2] for X in spectra.values() ]\n",
    "    data = (\n",
    "        pipeline.fit_transform(x0),\n",
    "        pipeline.fit_transform(x1),\n",
    "        pipeline.fit_transform(x2),\n",
    "    )\n",
    "    data = np.concatenate(data, axis = 1)\n",
    "    return molecules, data"
   ]
  },
  {
   "cell_type": "code",
   "execution_count": 32,
   "id": "6d5f895c",
   "metadata": {},
   "outputs": [
    {
     "name": "stdout",
     "output_type": "stream",
     "text": [
      "(1, 9, 50, 50)\n"
     ]
    }
   ],
   "source": [
    "mols, data = compute_cech_persistence(spectra)\n",
    "print(data.shape)"
   ]
  },
  {
   "cell_type": "code",
   "execution_count": 45,
   "id": "514f38c2",
   "metadata": {},
   "outputs": [
    {
     "name": "stdout",
     "output_type": "stream",
     "text": [
      "CN(C)CCCn1cc(C2=C(C(=O)NC2=O)c3c[nH]c4ccccc34)c5ccccc15\n",
      "(3, 50, 50)\n",
      "(50, 50, 3)\n"
     ]
    }
   ],
   "source": [
    "the_mol = mols[0]\n",
    "the_image = data[0][[1,5,8]]\n",
    "from sklearn.preprocessing import MinMaxScaler\n",
    "scaler = MinMaxScaler(feature_range=(0, .99))\n",
    "r = scaler.fit_transform(the_image[0])\n",
    "g = scaler.fit_transform(the_image[1])\n",
    "b = scaler.fit_transform(the_image[2])\n",
    "\n",
    "rgb_image = np.dstack((r,g,b))\n",
    "\n",
    "print(the_mol)\n",
    "print(the_image.shape)\n",
    "print(rgb_image.shape)"
   ]
  },
  {
   "cell_type": "code",
   "execution_count": 46,
   "id": "808ef9ca",
   "metadata": {},
   "outputs": [
    {
     "data": {
      "text/plain": [
       "<matplotlib.image.AxesImage at 0x7efdd4f385b0>"
      ]
     },
     "execution_count": 46,
     "metadata": {},
     "output_type": "execute_result"
    },
    {
     "data": {
      "image/png": "[encoded data removed]",
      "text/plain": [
       "<Figure size 432x288 with 1 Axes>"
      ]
     },
     "metadata": {
      "needs_background": "light"
     },
     "output_type": "display_data"
    }
   ],
   "source": [
    "plt.imshow(rgb_image)"
   ]
  },
  {
   "cell_type": "code",
   "execution_count": null,
   "id": "ce411e06",
   "metadata": {},
   "outputs": [],
   "source": []
  }
 ],
 "metadata": {
  "kernelspec": {
   "display_name": "Python 3 AZ1: Topological data Analysis",
   "language": "python",
   "name": "az1"
  },
  "language_info": {
   "codemirror_mode": {
    "name": "ipython",
    "version": 3
   },
   "file_extension": ".py",
   "mimetype": "text/x-python",
   "name": "python",
   "nbconvert_exporter": "python",
   "pygments_lexer": "ipython3",
   "version": "3.9.7"
  }
 },
 "nbformat": 4,
 "nbformat_minor": 5
}
