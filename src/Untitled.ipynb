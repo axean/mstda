{
 "cells": [
  {
   "cell_type": "code",
   "execution_count": 1,
   "id": "f85d102c",
   "metadata": {},
   "outputs": [],
   "source": [
    "import numpy as np\n",
    "import matplotlib.pyplot as plt\n",
    "from rich import print\n",
    "from random import sample"
   ]
  },
  {
   "cell_type": "code",
   "execution_count": 2,
   "id": "c2e2fd9d",
   "metadata": {},
   "outputs": [],
   "source": [
    "from sklearn import linear_model"
   ]
  },
  {
   "cell_type": "code",
   "execution_count": 76,
   "id": "a53ebd6e",
   "metadata": {},
   "outputs": [
    {
     "data": {
      "text/html": [
       "<pre style=\"white-space:pre;overflow-x:auto;line-height:normal;font-family:Menlo,'DejaVu Sans Mono',consolas,'Courier New',monospace\">TRUTH<span style=\"color: #808000; text-decoration-color: #808000\">...</span>.\n",
       "</pre>\n"
      ],
      "text/plain": [
       "TRUTH\u001b[33m...\u001b[0m.\n"
      ]
     },
     "metadata": {},
     "output_type": "display_data"
    },
    {
     "data": {
      "text/html": [
       "<pre style=\"white-space:pre;overflow-x:auto;line-height:normal;font-family:Menlo,'DejaVu Sans Mono',consolas,'Courier New',monospace\">µ <span style=\"color: #008080; text-decoration-color: #008080; font-weight: bold\">157.990124077702</span>\n",
       "</pre>\n"
      ],
      "text/plain": [
       "µ \u001b[1;36m157.990124077702\u001b[0m\n"
      ]
     },
     "metadata": {},
     "output_type": "display_data"
    },
    {
     "data": {
      "text/html": [
       "<pre style=\"white-space:pre;overflow-x:auto;line-height:normal;font-family:Menlo,'DejaVu Sans Mono',consolas,'Courier New',monospace\">sigma <span style=\"color: #008080; text-decoration-color: #008080; font-weight: bold\">180.00047500599985</span>\n",
       "</pre>\n"
      ],
      "text/plain": [
       "sigma \u001b[1;36m180.00047500599985\u001b[0m\n"
      ]
     },
     "metadata": {},
     "output_type": "display_data"
    },
    {
     "data": {
      "text/html": [
       "<pre style=\"white-space:pre;overflow-x:auto;line-height:normal;font-family:Menlo,'DejaVu Sans Mono',consolas,'Courier New',monospace\"><span style=\"color: #808000; text-decoration-color: #808000\">...</span>.GAUSSIAN PREDICTIONS<span style=\"color: #808000; text-decoration-color: #808000\">...</span>.\n",
       "</pre>\n"
      ],
      "text/plain": [
       "\u001b[33m...\u001b[0m.GAUSSIAN PREDICTIONS\u001b[33m...\u001b[0m.\n"
      ]
     },
     "metadata": {},
     "output_type": "display_data"
    },
    {
     "data": {
      "text/html": [
       "<pre style=\"white-space:pre;overflow-x:auto;line-height:normal;font-family:Menlo,'DejaVu Sans Mono',consolas,'Courier New',monospace\">fbar <span style=\"color: #008080; text-decoration-color: #008080; font-weight: bold\">160.45102243443074</span>\n",
       "</pre>\n"
      ],
      "text/plain": [
       "fbar \u001b[1;36m160.45102243443074\u001b[0m\n"
      ]
     },
     "metadata": {},
     "output_type": "display_data"
    },
    {
     "data": {
      "text/html": [
       "<pre style=\"white-space:pre;overflow-x:auto;line-height:normal;font-family:Menlo,'DejaVu Sans Mono',consolas,'Courier New',monospace\">MAE <span style=\"color: #008080; text-decoration-color: #008080; font-weight: bold\">145.919528433692</span>\n",
       "</pre>\n"
      ],
      "text/plain": [
       "MAE \u001b[1;36m145.919528433692\u001b[0m\n"
      ]
     },
     "metadata": {},
     "output_type": "display_data"
    },
    {
     "data": {
      "text/html": [
       "<pre style=\"white-space:pre;overflow-x:auto;line-height:normal;font-family:Menlo,'DejaVu Sans Mono',consolas,'Courier New',monospace\"><span style=\"color: #808000; text-decoration-color: #808000\">...</span>.LINEAR PREDICTIONS<span style=\"color: #808000; text-decoration-color: #808000\">...</span>.\n",
       "</pre>\n"
      ],
      "text/plain": [
       "\u001b[33m...\u001b[0m.LINEAR PREDICTIONS\u001b[33m...\u001b[0m.\n"
      ]
     },
     "metadata": {},
     "output_type": "display_data"
    },
    {
     "data": {
      "text/html": [
       "<pre style=\"white-space:pre;overflow-x:auto;line-height:normal;font-family:Menlo,'DejaVu Sans Mono',consolas,'Courier New',monospace\">fbar <span style=\"color: #008080; text-decoration-color: #008080; font-weight: bold\">157.99012407770206</span>\n",
       "</pre>\n"
      ],
      "text/plain": [
       "fbar \u001b[1;36m157.99012407770206\u001b[0m\n"
      ]
     },
     "metadata": {},
     "output_type": "display_data"
    },
    {
     "data": {
      "text/html": [
       "<pre style=\"white-space:pre;overflow-x:auto;line-height:normal;font-family:Menlo,'DejaVu Sans Mono',consolas,'Courier New',monospace\">MAE <span style=\"color: #008080; text-decoration-color: #008080; font-weight: bold\">160.39978662609064</span>\n",
       "</pre>\n"
      ],
      "text/plain": [
       "MAE \u001b[1;36m160.39978662609064\u001b[0m\n"
      ]
     },
     "metadata": {},
     "output_type": "display_data"
    },
    {
     "data": {
      "text/html": [
       "<pre style=\"white-space:pre;overflow-x:auto;line-height:normal;font-family:Menlo,'DejaVu Sans Mono',consolas,'Courier New',monospace\">r² <span style=\"color: #008080; text-decoration-color: #008080; font-weight: bold\">0.22170976482527593</span>\n",
       "</pre>\n"
      ],
      "text/plain": [
       "r² \u001b[1;36m0.22170976482527593\u001b[0m\n"
      ]
     },
     "metadata": {},
     "output_type": "display_data"
    },
    {
     "data": {
      "text/html": [
       "<pre style=\"white-space:pre;overflow-x:auto;line-height:normal;font-family:Menlo,'DejaVu Sans Mono',consolas,'Courier New',monospace\">m <span style=\"font-weight: bold\">[[</span><span style=\"color: #008080; text-decoration-color: #008080; font-weight: bold\">29.33069746</span><span style=\"font-weight: bold\">]]</span> c <span style=\"font-weight: bold\">[</span><span style=\"color: #008080; text-decoration-color: #008080; font-weight: bold\">11.3366368</span><span style=\"font-weight: bold\">]</span>\n",
       "</pre>\n"
      ],
      "text/plain": [
       "m \u001b[1m[\u001b[0m\u001b[1m[\u001b[0m\u001b[1;36m29.33069746\u001b[0m\u001b[1m]\u001b[0m\u001b[1m]\u001b[0m c \u001b[1m[\u001b[0m\u001b[1;36m11.3366368\u001b[0m\u001b[1m]\u001b[0m\n"
      ]
     },
     "metadata": {},
     "output_type": "display_data"
    },
    {
     "data": {
      "image/png": "[encoded data removed]",
      "text/plain": [
       "<Figure size 432x288 with 1 Axes>"
      ]
     },
     "metadata": {
      "needs_background": "light"
     },
     "output_type": "display_data"
    }
   ],
   "source": [
    "X = np.linspace(0, 10, 1000)\n",
    "Y = 30*X + 4 + np.random.normal(loc = 0 ,scale = 153.2, size = X.shape)\n",
    "\n",
    "#creating a regression object\n",
    "reg = linear_model.LinearRegression()\n",
    "reg.fit( X.reshape(-1,1), Y.reshape(-1,1) )\n",
    "print(\"TRUTH....\")\n",
    "print('µ',Y.mean())\n",
    "print('sigma',Y.std())\n",
    "\n",
    "print(\"....GAUSSIAN PREDICTIONS....\")\n",
    "xbar = np.asarray(sample([y for y in Y],900)).mean()\n",
    "predictions = np.asarray([ xbar for _ in X ])\n",
    "print('fbar', predictions.mean())\n",
    "print('MAE', np.abs(Y-predictions).mean())\n",
    "\n",
    "print(\"....LINEAR PREDICTIONS....\")\n",
    "predictions = reg.predict(X.reshape(-1,1))\n",
    "print('fbar',predictions.mean())\n",
    "print('MAE',np.abs(Y-predictions).mean())\n",
    "print('r²', reg.score(X.reshape(-1,1), Y.reshape(-1,1)))\n",
    "print('m', reg.coef_, 'c', reg.intercept_)\n",
    "\n",
    "fig = plt.figure()\n",
    "ax = fig.add_subplot()\n",
    "ax.scatter(X, Y)\n",
    "ax.plot(X, predictions, color = \"red\")\n",
    "plt.show()"
   ]
  },
  {
   "cell_type": "code",
   "execution_count": null,
   "id": "e0bbd8cc",
   "metadata": {},
   "outputs": [],
   "source": []
  }
 ],
 "metadata": {
  "kernelspec": {
   "display_name": "Python 3: Topological Data Analysis",
   "language": "python",
   "name": "az1"
  },
  "language_info": {
   "codemirror_mode": {
    "name": "ipython",
    "version": 3
   },
   "file_extension": ".py",
   "mimetype": "text/x-python",
   "name": "python",
   "nbconvert_exporter": "python",
   "pygments_lexer": "ipython3",
   "version": "3.9.7"
  }
 },
 "nbformat": 4,
 "nbformat_minor": 5
}
