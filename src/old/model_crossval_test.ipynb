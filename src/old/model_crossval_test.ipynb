{
 "cells": [
  {
   "cell_type": "markdown",
   "id": "3d308bbe",
   "metadata": {},
   "source": [
    "```python\n",
    "from mstda import Model\n",
    "\n",
    "model = Model(\"data/Drugbank2019_MS_CFMID4.0_FRAGMENTS_TRAIN.json\")\n",
    "print(str(model))\n",
    "model.save(\"models/drugbank_cfm4.json\")\n",
    "```"
   ]
  },
  {
   "cell_type": "code",
   "execution_count": 1,
   "id": "b1e6d0ea",
   "metadata": {},
   "outputs": [
    {
     "name": "stderr",
     "output_type": "stream",
     "text": [
      "/home/axean/anaconda3/envs/az1/lib/python3.9/site-packages/scipy/stats/_entropy.py:72: RuntimeWarning: invalid value encountered in true_divide\n",
      "  pk = 1.0*pk / np.sum(pk, axis=axis, keepdims=True)\n",
      "/home/axean/anaconda3/envs/az1/lib/python3.9/site-packages/scipy/stats/_entropy.py:72: RuntimeWarning: invalid value encountered in true_divide\n",
      "  pk = 1.0*pk / np.sum(pk, axis=axis, keepdims=True)\n",
      "/home/axean/anaconda3/envs/az1/lib/python3.9/site-packages/scipy/stats/_entropy.py:72: RuntimeWarning: invalid value encountered in true_divide\n",
      "  pk = 1.0*pk / np.sum(pk, axis=axis, keepdims=True)\n"
     ]
    },
    {
     "name": "stdout",
     "output_type": "stream",
     "text": [
      "Trained model:\n",
      "Molecules:                      8001\n",
      "Topological features:           (8001, 9)\n",
      "Homology dimensions:            [0, 1, 2]\n",
      "Energy levels:                  3\n",
      "Mass transformed:               True\n",
      "Logarithmic integer mass:       True\n",
      "Persistence diagram epsilon:    0.09\n",
      "Persistence entropy normalized: False\n",
      "Physical cores (n_jobs):        3\n",
      "saved model to: /home/axean/Dokument/mstda/models/drugbank_cfm4_eps0.09.json\n"
     ]
    }
   ],
   "source": [
    "from mstda import Model\n",
    "model = Model(\n",
    "    \"data/Drugbank2019_MS_CFMID4.0_FRAGMENTS_TRAIN.json\",\n",
    "    diagram_epsilon = 0.09,\n",
    "    n_jobs = 3,\n",
    ")\n",
    "print(str(model))\n",
    "model.save(\"models/drugbank_cfm4_eps0.09.json\")"
   ]
  },
  {
   "cell_type": "code",
   "execution_count": 2,
   "id": "5a6fb816",
   "metadata": {
    "scrolled": true
   },
   "outputs": [],
   "source": [
    "#from mstda import Model\n",
    "#model = Model.load(\"models/drugbank_cfm4.json\")\n",
    "#model.n_jobs = 3\n",
    "#print(str(model))"
   ]
  },
  {
   "cell_type": "markdown",
   "id": "67156743",
   "metadata": {},
   "source": [
    "# Verify that no test molecule is in the training set"
   ]
  },
  {
   "cell_type": "code",
   "execution_count": 3,
   "id": "f9b672ad",
   "metadata": {},
   "outputs": [
    {
     "name": "stdout",
     "output_type": "stream",
     "text": [
      "C[C@@H]1CC2=CC(=O)CC[C@@H]2[C@H]3CC[C@]4(C)[C@H](CC[C@H]4[C@H]13)OC(=O)C\n",
      "\tenergy0\n",
      "\t\tmz\t: <class 'list'>\n",
      "\t\tintens\t: <class 'list'>\n",
      "\t\tfrag\t: <class 'list'>\n",
      "\t\tscore\t: <class 'list'>\n",
      "\tenergy1\n",
      "\t\tmz\t: <class 'list'>\n",
      "\t\tintens\t: <class 'list'>\n",
      "\t\tfrag\t: <class 'list'>\n",
      "\t\tscore\t: <class 'list'>\n",
      "\tenergy2\n",
      "\t\tmz\t: <class 'list'>\n",
      "\t\tintens\t: <class 'list'>\n",
      "\t\tfrag\t: <class 'list'>\n",
      "\t\tscore\t: <class 'list'>\n",
      "\tfrag\t: <class 'list'>\n",
      "etc.\n"
     ]
    },
    {
     "data": {
      "application/vnd.jupyter.widget-view+json": {
       "model_id": "e3ade987b823435ca7ef23df44260847",
       "version_major": 2,
       "version_minor": 0
      },
      "text/plain": [
       "  0%|          | 0/1700 [00:00<?, ?it/s]"
      ]
     },
     "metadata": {},
     "output_type": "display_data"
    }
   ],
   "source": [
    "from json import load\n",
    "from mstda_utils import print_dict, print_dict_schema\n",
    "from rdkit import Chem\n",
    "from tqdm.notebook import tqdm\n",
    "\n",
    "with open(\"data/Drugbank2019_MS_CFMID4.0_FRAGMENTS_TEST.json\") as j:\n",
    "    test_data = load(j)\n",
    "print_dict_schema(test_data)\n",
    "canon_smiles = list(map(Chem.CanonSmiles, model.molecules))\n",
    "for k in tqdm(list(test_data.keys())):\n",
    "    assert Chem.CanonSmiles(k) not in canon_smiles"
   ]
  },
  {
   "cell_type": "markdown",
   "id": "66a9d0e8",
   "metadata": {},
   "source": [
    "# Remove answers from query dictionary"
   ]
  },
  {
   "cell_type": "code",
   "execution_count": 4,
   "id": "eb2c6b48",
   "metadata": {},
   "outputs": [
    {
     "name": "stdout",
     "output_type": "stream",
     "text": [
      "Dictionary to be used to check answers:\n",
      "C[C@@H]1CC2=CC(=O)CC[C@@H]2[C@H]3CC[C@]4(C)[C@H](CC[C@H]4[C@H]13)OC(=O)C\n",
      "\tenergy0\n",
      "\t\tmz\t: <class 'list'>\n",
      "\t\tintens\t: <class 'list'>\n",
      "\t\tfrag\t: <class 'list'>\n",
      "\t\tscore\t: <class 'list'>\n",
      "\tenergy1\n",
      "\t\tmz\t: <class 'list'>\n",
      "\t\tintens\t: <class 'list'>\n",
      "\t\tfrag\t: <class 'list'>\n",
      "\t\tscore\t: <class 'list'>\n",
      "\tenergy2\n",
      "\t\tmz\t: <class 'list'>\n",
      "\t\tintens\t: <class 'list'>\n",
      "\t\tfrag\t: <class 'list'>\n",
      "\t\tscore\t: <class 'list'>\n",
      "\tfrag\t: <class 'list'>\n",
      "\ttest_id\t: <class 'str'>\n",
      "etc.\n",
      "\n",
      "Dictionary to be used as queries:\n",
      "test_molecule0\n",
      "\tenergy0\n",
      "\t\tmz\t: <class 'list'>\n",
      "\t\tintens\t: <class 'list'>\n",
      "\tenergy1\n",
      "\t\tmz\t: <class 'list'>\n",
      "\t\tintens\t: <class 'list'>\n",
      "\tenergy2\n",
      "\t\tmz\t: <class 'list'>\n",
      "\t\tintens\t: <class 'list'>\n",
      "etc.\n"
     ]
    }
   ],
   "source": [
    "from copy import deepcopy\n",
    "answers = deepcopy(test_data)\n",
    "\n",
    "for idx,k in enumerate(list(test_data.keys())):\n",
    "    test_data[k].pop(\"frag\")\n",
    "    for e in (\"energy0\",\"energy1\",\"energy2\"):\n",
    "        test_data[k][e].pop(\"frag\")\n",
    "        test_data[k][e].pop(\"score\")\n",
    "    test_data[\"test_molecule\"+str(idx)] = test_data[k]\n",
    "    test_data.pop(k)\n",
    "    answers[k][\"test_id\"] = \"test_molecule\"+str(idx)\n",
    "print(\"Dictionary to be used to check answers:\")\n",
    "print_dict_schema(answers)\n",
    "print()\n",
    "print(\"Dictionary to be used as queries:\")\n",
    "print_dict_schema(test_data)"
   ]
  },
  {
   "cell_type": "markdown",
   "id": "05c242f1",
   "metadata": {},
   "source": [
    "# Run a small test"
   ]
  },
  {
   "cell_type": "code",
   "execution_count": 7,
   "id": "ffed5916",
   "metadata": {},
   "outputs": [],
   "source": [
    "from random import sample\n",
    "\n",
    "small_test = { k : test_data[k] for k in sample(list(test_data.keys()), 15)}\n",
    "\n",
    "test_results = model.query(small_test, K = 600)"
   ]
  },
  {
   "cell_type": "code",
   "execution_count": 8,
   "id": "fc6bceb0",
   "metadata": {
    "scrolled": false
   },
   "outputs": [
    {
     "name": "stdout",
     "output_type": "stream",
     "text": [
      "test_molecule1009 \t Cc1onc(c1C(=O)N[C@H]2[C@H]3SC(C)(C)[C@@H](N3C2=O)C(=O)O)c4c(Cl)cccc4Cl\n",
      "Molecular weight:\t 469.026597004\n",
      "Peak count:\t\t 49\n",
      "Peak matches:\t\t 34\n",
      "SMILES matches:\t\t 30\n",
      "\n",
      "test_molecule694 \t CCOC(=O)CCCCCCCCC(C)c1ccccc1I\n",
      "Molecular weight:\t 416.121228168\n",
      "Peak count:\t\t 90\n",
      "Peak matches:\t\t 67\n",
      "SMILES matches:\t\t 0\n",
      "\n",
      "test_molecule413 \t C[C@H]1CNc2c(C1)cccc2S(=O)=O\n",
      "Molecular weight:\t 211.066699656\n",
      "Peak count:\t\t 36\n",
      "Peak matches:\t\t 36\n",
      "SMILES matches:\t\t 13\n",
      "\n",
      "test_molecule1088 \t CO[C@H]1C[C@@]2(C)[C@@H](CC[C@@]2(O)C#C)[C@@H]3CCc4cc(O)ccc4[C@@H]13\n",
      "Molecular weight:\t 326.18819469199997\n",
      "Peak count:\t\t 58\n",
      "Peak matches:\t\t 58\n",
      "SMILES matches:\t\t 9\n",
      "\n",
      "test_molecule1282 \t COc1c(N2CCNC(C)C2)c(F)cc3C(=O)C(=CN(C4CC4)c13)C(=O)O\n",
      "Molecular weight:\t 375.15943440399997\n",
      "Peak count:\t\t 40\n",
      "Peak matches:\t\t 36\n",
      "SMILES matches:\t\t 5\n",
      "\n",
      "test_molecule1418 \t CC(C)(COP(=O)(O)OP(=O)(O)OC[C@H]1O[C@H]([C@H](O)[C@@H]1OP(=O)(O)O)n2cnc3c(N)ncnc23)[C@@H](O)C(=O)NCCC(=O)NCCS\n",
      "Molecular weight:\t 767.1152089620001\n",
      "Peak count:\t\t 38\n",
      "Peak matches:\t\t 36\n",
      "SMILES matches:\t\t 9\n",
      "\n",
      "test_molecule1360 \t CCOC(=O)N[C@H](Cc1ccccc1)C(=O)N2CCC[C@H]2C(=O)NNCCCCN\n",
      "Molecular weight:\t 419.2532545360001\n",
      "Peak count:\t\t 66\n",
      "Peak matches:\t\t 51\n",
      "SMILES matches:\t\t 0\n",
      "\n",
      "test_molecule1358 \t Cc1c(c2ccc(O)cc2)n(Cc3ccc(OCCN4CCCCCC4)cc3)c5ccc(O)cc15\n",
      "Molecular weight:\t 470.25694294799996\n",
      "Peak count:\t\t 42\n",
      "Peak matches:\t\t 39\n",
      "SMILES matches:\t\t 1\n",
      "\n",
      "test_molecule764 \t NS(=O)(=O)c1ccc2CCNCc2c1\n",
      "Molecular weight:\t 212.061948624\n",
      "Peak count:\t\t 32\n",
      "Peak matches:\t\t 32\n",
      "SMILES matches:\t\t 8\n",
      "\n",
      "test_molecule1670 \t CCOC(=O)C=C(C)C=CC=C(C)C=Cc1c(C)cc(OC)c(C)c1C\n",
      "Molecular weight:\t 354.21949481999997\n",
      "Peak count:\t\t 90\n",
      "Peak matches:\t\t 90\n",
      "SMILES matches:\t\t 0\n",
      "\n",
      "test_molecule929 \t CCC=CC[C@@H]1[C@H](CCCCCCCC(=O)O)C=CC1=O\n",
      "Molecular weight:\t 292.20384475599997\n",
      "Peak count:\t\t 85\n",
      "Peak matches:\t\t 85\n",
      "SMILES matches:\t\t 0\n",
      "\n",
      "test_molecule1649 \t CCN1CCCC1CNC(=O)c2cc(c(N)cc2OC)S(=O)(=O)CC\n",
      "Molecular weight:\t 369.172227344\n",
      "Peak count:\t\t 51\n",
      "Peak matches:\t\t 46\n",
      "SMILES matches:\t\t 0\n",
      "\n",
      "test_molecule741 \t CN(C)CCOC(=O)C(c1ccccc1)C2(O)CCCC2\n",
      "Molecular weight:\t 291.18344366\n",
      "Peak count:\t\t 57\n",
      "Peak matches:\t\t 57\n",
      "SMILES matches:\t\t 0\n",
      "\n",
      "test_molecule868 \t COC(=O)[C@H](CC(C)C)NC(=O)CCCCCCCCC=C\n",
      "Molecular weight:\t 311.246043916\n",
      "Peak count:\t\t 83\n",
      "Peak matches:\t\t 82\n",
      "SMILES matches:\t\t 0\n",
      "\n",
      "test_molecule83 \t CNC(=O)c1ccc(cc1F)c2cnc3ncc(Cc4ccc5ncccc5c4)n3n2\n",
      "Molecular weight:\t 412.1447873840001\n",
      "Peak count:\t\t 40\n",
      "Peak matches:\t\t 19\n",
      "SMILES matches:\t\t 0\n",
      "\n"
     ]
    }
   ],
   "source": [
    "from rdkit.Chem.Descriptors import ExactMolWt\n",
    "import numpy as np\n",
    "\n",
    "def cfm_matches(test, answer: dict):\n",
    "    smiles_lut = lambda idx : Chem.CanonSmiles(answer[\"frag\"][idx][1])\n",
    "    \n",
    "    mz0 = answer[\"energy0\"][\"mz\"]\n",
    "    mz1 = answer[\"energy1\"][\"mz\"]\n",
    "    mz2 = answer[\"energy2\"][\"mz\"]\n",
    "    \n",
    "    f0 = [list(map(smiles_lut, possible_frags)) for possible_frags in answer[\"energy0\"][\"frag\"]]\n",
    "    f1 = [list(map(smiles_lut, possible_frags)) for possible_frags in answer[\"energy1\"][\"frag\"]]\n",
    "    f2 = [list(map(smiles_lut, possible_frags)) for possible_frags in answer[\"energy2\"][\"frag\"]]\n",
    "    f = (f0,f1,f2)\n",
    "    \n",
    "    cntr = 0\n",
    "    test_masses = test[:,0].astype(float)\n",
    "    for energy_idx, mz in enumerate((mz0,mz1,mz2)):\n",
    "        for peak_idx,x in enumerate(mz):\n",
    "            select = np.isclose(x, test_masses, rtol = 5e-7)\n",
    "            smiles_arr = test[select, 1]\n",
    "            for smiles in smiles_arr:\n",
    "                if Chem.CanonSmiles(smiles) in f[energy_idx][peak_idx]:\n",
    "                    cntr += 1\n",
    "    return cntr\n",
    "\n",
    "def peak_matches(test, answer : dict):\n",
    "    mz0 = answer[\"energy0\"][\"mz\"]\n",
    "    mz1 = answer[\"energy1\"][\"mz\"]\n",
    "    mz2 = answer[\"energy2\"][\"mz\"]\n",
    "    cntr = 0\n",
    "    for mz in (mz0,mz1,mz2):\n",
    "        select = [np.isclose(\n",
    "            np.unique(\n",
    "                test[:,0].astype(float)\n",
    "            ), x, rtol = 5e-7\n",
    "        ).any() for x in mz]\n",
    "        cntr += sum([ 1 if b else 0 for b in select ])\n",
    "    return cntr\n",
    "        \n",
    "for t,test in test_results.items():\n",
    "    for m,ans in answers.items():\n",
    "        if ans[\"test_id\"] == t:\n",
    "            print(t, \"\\t\", m)\n",
    "            peak_count = sum(map(len, (ans[\"energy0\"][\"mz\"], ans[\"energy1\"][\"mz\"], ans[\"energy2\"][\"mz\"])))\n",
    "            pm = peak_matches(test, ans)\n",
    "            print(\"Molecular weight:\\t\", ExactMolWt(Chem.MolFromSmiles(Chem.CanonSmiles(m))))\n",
    "            print(\"Peak count:\\t\\t\", peak_count)\n",
    "            print(\"Peak matches:\\t\\t\", pm)\n",
    "            print(\"SMILES matches:\\t\\t\", cfm_matches(test, ans))\n",
    "            assert pm <= peak_count\n",
    "            print()\n",
    "            break"
   ]
  }
 ],
 "metadata": {
  "kernelspec": {
   "display_name": "Python 3: Topological Data Analysis",
   "language": "python",
   "name": "az1"
  },
  "language_info": {
   "codemirror_mode": {
    "name": "ipython",
    "version": 3
   },
   "file_extension": ".py",
   "mimetype": "text/x-python",
   "name": "python",
   "nbconvert_exporter": "python",
   "pygments_lexer": "ipython3",
   "version": "3.9.7"
  }
 },
 "nbformat": 4,
 "nbformat_minor": 5
}
