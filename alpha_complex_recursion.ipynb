{
 "cells": [
  {
   "cell_type": "code",
   "execution_count": 1,
   "id": "6f054497",
   "metadata": {},
   "outputs": [],
   "source": [
    "import scipy.spatial as spatial\n",
    "import numpy as np\n",
    "import matplotlib.pyplot as plt\n",
    "from more_itertools import powerset\n",
    "import mpl_toolkits.mplot3d as a3\n",
    "from wireframes import wireframe_sphere\n",
    "from rich import print\n",
    "from itertools import combinations"
   ]
  },
  {
   "cell_type": "code",
   "execution_count": 2,
   "id": "519248cb",
   "metadata": {},
   "outputs": [],
   "source": [
    "X = np.asarray([\n",
    "    [0,0],\n",
    "    [0.5, 0],\n",
    "    [0.25, 0.5 * np.sqrt(3)/2 ],\n",
    "    [ 0.75/3, (0.5 * np.sqrt(3)/2)/3 ],\n",
    "])\n",
    "#X = np.random.rand(4,3)\n",
    "X = np.random.rand(50, 2)\n",
    "dimension = X.shape[1]"
   ]
  },
  {
   "cell_type": "code",
   "execution_count": 3,
   "id": "1a65b4ce",
   "metadata": {},
   "outputs": [],
   "source": [
    "def cayley_menger_matrix(X):\n",
    "    d = X.shape[1]\n",
    "    dm = np.power(spatial.distance_matrix(X,X), 2)\n",
    "    m = np.zeros(np.asarray(dm.shape) + 1)\n",
    "    m[:,0] = 1\n",
    "    m[0,:] = 1\n",
    "    m[0,0] = 0\n",
    "    m[1:,1:] = dm\n",
    "    return m"
   ]
  },
  {
   "cell_type": "code",
   "execution_count": 4,
   "id": "7da1f919",
   "metadata": {},
   "outputs": [],
   "source": [
    "def merge_dicts(d1 : dict, d2 : dict, arbiter):\n",
    "    #print(\"d1\")\n",
    "    k1 = set(d1.keys())\n",
    "    #print(d1)\n",
    "    #print(\"d2\")\n",
    "    #print(d2)\n",
    "    k2 = set(d2.keys())\n",
    "    meet = k1.intersection(k2)\n",
    "    join = k1.union(k2)\n",
    "    h = { k : d1[k] if k not in d2 else d2[k] for k in join - meet}\n",
    "    for k in meet:\n",
    "        h[k] = arbiter(d1[k], d2[k])\n",
    "    \n",
    "    #print(\"h\")\n",
    "    #print(h)\n",
    "        \n",
    "    return h"
   ]
  },
  {
   "attachments": {
    "image.png": {
     "image/png": "[encoded data removed]"
    }
   },
   "cell_type": "markdown",
   "id": "8dcd5a60",
   "metadata": {},
   "source": [
    "The Cartesian coordinates of any point are a weighted average\n",
    "of the Cartesian coordinates of the triangle's vertices,\n",
    "with the weights being the point's barycentric coordinates summing to unity. So e.g. for a triangle:\n",
    "![image.png](attachment:image.png)"
   ]
  },
  {
   "cell_type": "markdown",
   "id": "c9194755",
   "metadata": {},
   "source": [
    "-- for plotting tetrahedrons:\n",
    "         \"you draw a point by drawing a point\"\n",
    "         \"you draw a line by connecting its points\"\n",
    "         \"you draw a triangle by connecting its lines\"\n",
    "         \"you draw a tetrahedron by connecting its triangles\"\n",
    "         \"you draw a 4-simplex by connecting its tetrahedrons\"\n",
    "        .... etc."
   ]
  },
  {
   "cell_type": "code",
   "execution_count": 5,
   "id": "4261698b",
   "metadata": {},
   "outputs": [],
   "source": [
    "def cech(kdtree, simplex, parent_value = None, ax = None):\n",
    "    X = kdtree.data\n",
    "    if len(simplex) == 0:\n",
    "        return dict()\n",
    "    elif len(simplex) == 1:\n",
    "        return { simplex : 0.0 }\n",
    "    \n",
    "    # https://westy31.home.xs4all.nl/Circumsphere/ncircumsphere.htm\n",
    "    content_inv  = np.linalg.inv(cayley_menger_matrix( X[simplex,:] ))\n",
    "    circumradius = np.sqrt(content_inv[0,0]/-2)\n",
    "    circumcentre = content_inv[1:,0].dot( X[simplex,:] )\n",
    "    \n",
    "    # a face is Gabriel if there are no other vertices within the d-ball\n",
    "    _,nn = kdtree.query(circumcentre, k = len(simplex))\n",
    "    assert len(nn) >= len(simplex)\n",
    "    \n",
    "    if set(nn) != set(simplex): # not Gabriel\n",
    "        F = { tuple(sorted(simplex)) : parent_value }\n",
    "    else:\n",
    "        F = { tuple(sorted(simplex)) : circumradius }\n",
    "    \n",
    "    #---- Plotting\n",
    "    if ax is not None:\n",
    "        plot_color = { 2 : \"black\", 3 : \"red\", 4 : \"blue\" }\n",
    "        plot_color = plot_color[len(simplex)]\n",
    "        ax.scatter(*tuple(circumcentre), color = plot_color, marker = \"o\", facecolors='none', s = 100, alpha = 1)\n",
    "        for y in X[simplex, :]:\n",
    "            connecting_lines = (\n",
    "                [circumcentre[0],y[0]],\n",
    "                [circumcentre[1],y[1]],\n",
    "                [circumcentre[2],y[2]]\n",
    "            ) if dimension == 3 else (\n",
    "                [circumcentre[0],y[0]],\n",
    "                [circumcentre[1],y[1]],\n",
    "            )\n",
    "            ax.plot(\n",
    "                *connecting_lines,\n",
    "                \"--\",\n",
    "                color = plot_color,\n",
    "                alpha = 0.4\n",
    "            )\n",
    "        if set(nn) != set(simplex):\n",
    "            ax.scatter(\n",
    "                *tuple(circumcentre),\n",
    "                color = plot_color,\n",
    "                marker = \"x\",\n",
    "                s = 100,\n",
    "                alpha = 1\n",
    "            )\n",
    "    \n",
    "    #----- Recurse faces\n",
    "    sub = combinations(simplex, len(simplex)-1)\n",
    "    for f in sub:\n",
    "        F = merge_dicts(\n",
    "            F,\n",
    "            cech(\n",
    "                kdtree = kdtree,\n",
    "                simplex = f,\n",
    "                parent_value = circumradius,\n",
    "                ax = ax\n",
    "            ),\n",
    "            min\n",
    "        )\n",
    "    return F"
   ]
  },
  {
   "cell_type": "code",
   "execution_count": 6,
   "id": "b9765e25",
   "metadata": {
    "scrolled": false
   },
   "outputs": [
    {
     "data": {
      "application/javascript": [
       "/* Put everything inside the global mpl namespace */\n",
       "/* global mpl */\n",
       "window.mpl = {};\n",
       "\n",
       "mpl.get_websocket_type = function () {\n",
       "    if (typeof WebSocket !== 'undefined') {\n",
       "        return WebSocket;\n",
       "    } else if (typeof MozWebSocket !== 'undefined') {\n",
       "        return MozWebSocket;\n",
       "    } else {\n",
       "        alert(\n",
       "            'Your browser does not have WebSocket support. ' +\n",
       "                'Please try Chrome, Safari or Firefox ≥ 6. ' +\n",
       "                'Firefox 4 and 5 are also supported but you ' +\n",
       "                'have to enable WebSockets in about:config.'\n",
       "        );\n",
       "    }\n",
       "};\n",
       "\n",
       "mpl.figure = function (figure_id, websocket, ondownload, parent_element) {\n",
       "    this.id = figure_id;\n",
       "\n",
       "    this.ws = websocket;\n",
       "\n",
       "    this.supports_binary = this.ws.binaryType !== undefined;\n",
       "\n",
       "    if (!this.supports_binary) {\n",
       "        var warnings = document.getElementById('mpl-warnings');\n",
       "        if (warnings) {\n",
       "            warnings.style.display = 'block';\n",
       "            warnings.textContent =\n",
       "                'This browser does not support binary websocket messages. ' +\n",
       "                'Performance may be slow.';\n",
       "        }\n",
       "    }\n",
       "\n",
       "    this.imageObj = new Image();\n",
       "\n",
       "    this.context = undefined;\n",
       "    this.message = undefined;\n",
       "    this.canvas = undefined;\n",
       "    this.rubberband_canvas = undefined;\n",
       "    this.rubberband_context = undefined;\n",
       "    this.format_dropdown = undefined;\n",
       "\n",
       "    this.image_mode = 'full';\n",
       "\n",
       "    this.root = document.createElement('div');\n",
       "    this.root.setAttribute('style', 'display: inline-block');\n",
       "    this._root_extra_style(this.root);\n",
       "\n",
       "    parent_element.appendChild(this.root);\n",
       "\n",
       "    this._init_header(this);\n",
       "    this._init_canvas(this);\n",
       "    this._init_toolbar(this);\n",
       "\n",
       "    var fig = this;\n",
       "\n",
       "    this.waiting = false;\n",
       "\n",
       "    this.ws.onopen = function () {\n",
       "        fig.send_message('supports_binary', { value: fig.supports_binary });\n",
       "        fig.send_message('send_image_mode', {});\n",
       "        if (fig.ratio !== 1) {\n",
       "            fig.send_message('set_device_pixel_ratio', {\n",
       "                device_pixel_ratio: fig.ratio,\n",
       "            });\n",
       "        }\n",
       "        fig.send_message('refresh', {});\n",
       "    };\n",
       "\n",
       "    this.imageObj.onload = function () {\n",
       "        if (fig.image_mode === 'full') {\n",
       "            // Full images could contain transparency (where diff images\n",
       "            // almost always do), so we need to clear the canvas so that\n",
       "            // there is no ghosting.\n",
       "            fig.context.clearRect(0, 0, fig.canvas.width, fig.canvas.height);\n",
       "        }\n",
       "        fig.context.drawImage(fig.imageObj, 0, 0);\n",
       "    };\n",
       "\n",
       "    this.imageObj.onunload = function () {\n",
       "        fig.ws.close();\n",
       "    };\n",
       "\n",
       "    this.ws.onmessage = this._make_on_message_function(this);\n",
       "\n",
       "    this.ondownload = ondownload;\n",
       "};\n",
       "\n",
       "mpl.figure.prototype._init_header = function () {\n",
       "    var titlebar = document.createElement('div');\n",
       "    titlebar.classList =\n",
       "        'ui-dialog-titlebar ui-widget-header ui-corner-all ui-helper-clearfix';\n",
       "    var titletext = document.createElement('div');\n",
       "    titletext.classList = 'ui-dialog-title';\n",
       "    titletext.setAttribute(\n",
       "        'style',\n",
       "        'width: 100%; text-align: center; padding: 3px;'\n",
       "    );\n",
       "    titlebar.appendChild(titletext);\n",
       "    this.root.appendChild(titlebar);\n",
       "    this.header = titletext;\n",
       "};\n",
       "\n",
       "mpl.figure.prototype._canvas_extra_style = function (_canvas_div) {};\n",
       "\n",
       "mpl.figure.prototype._root_extra_style = function (_canvas_div) {};\n",
       "\n",
       "mpl.figure.prototype._init_canvas = function () {\n",
       "    var fig = this;\n",
       "\n",
       "    var canvas_div = (this.canvas_div = document.createElement('div'));\n",
       "    canvas_div.setAttribute(\n",
       "        'style',\n",
       "        'border: 1px solid #ddd;' +\n",
       "            'box-sizing: content-box;' +\n",
       "            'clear: both;' +\n",
       "            'min-height: 1px;' +\n",
       "            'min-width: 1px;' +\n",
       "            'outline: 0;' +\n",
       "            'overflow: hidden;' +\n",
       "            'position: relative;' +\n",
       "            'resize: both;'\n",
       "    );\n",
       "\n",
       "    function on_keyboard_event_closure(name) {\n",
       "        return function (event) {\n",
       "            return fig.key_event(event, name);\n",
       "        };\n",
       "    }\n",
       "\n",
       "    canvas_div.addEventListener(\n",
       "        'keydown',\n",
       "        on_keyboard_event_closure('key_press')\n",
       "    );\n",
       "    canvas_div.addEventListener(\n",
       "        'keyup',\n",
       "        on_keyboard_event_closure('key_release')\n",
       "    );\n",
       "\n",
       "    this._canvas_extra_style(canvas_div);\n",
       "    this.root.appendChild(canvas_div);\n",
       "\n",
       "    var canvas = (this.canvas = document.createElement('canvas'));\n",
       "    canvas.classList.add('mpl-canvas');\n",
       "    canvas.setAttribute('style', 'box-sizing: content-box;');\n",
       "\n",
       "    this.context = canvas.getContext('2d');\n",
       "\n",
       "    var backingStore =\n",
       "        this.context.backingStorePixelRatio ||\n",
       "        this.context.webkitBackingStorePixelRatio ||\n",
       "        this.context.mozBackingStorePixelRatio ||\n",
       "        this.context.msBackingStorePixelRatio ||\n",
       "        this.context.oBackingStorePixelRatio ||\n",
       "        this.context.backingStorePixelRatio ||\n",
       "        1;\n",
       "\n",
       "    this.ratio = (window.devicePixelRatio || 1) / backingStore;\n",
       "\n",
       "    var rubberband_canvas = (this.rubberband_canvas = document.createElement(\n",
       "        'canvas'\n",
       "    ));\n",
       "    rubberband_canvas.setAttribute(\n",
       "        'style',\n",
       "        'box-sizing: content-box; position: absolute; left: 0; top: 0; z-index: 1;'\n",
       "    );\n",
       "\n",
       "    // Apply a ponyfill if ResizeObserver is not implemented by browser.\n",
       "    if (this.ResizeObserver === undefined) {\n",
       "        if (window.ResizeObserver !== undefined) {\n",
       "            this.ResizeObserver = window.ResizeObserver;\n",
       "        } else {\n",
       "            var obs = _JSXTOOLS_RESIZE_OBSERVER({});\n",
       "            this.ResizeObserver = obs.ResizeObserver;\n",
       "        }\n",
       "    }\n",
       "\n",
       "    this.resizeObserverInstance = new this.ResizeObserver(function (entries) {\n",
       "        var nentries = entries.length;\n",
       "        for (var i = 0; i < nentries; i++) {\n",
       "            var entry = entries[i];\n",
       "            var width, height;\n",
       "            if (entry.contentBoxSize) {\n",
       "                if (entry.contentBoxSize instanceof Array) {\n",
       "                    // Chrome 84 implements new version of spec.\n",
       "                    width = entry.contentBoxSize[0].inlineSize;\n",
       "                    height = entry.contentBoxSize[0].blockSize;\n",
       "                } else {\n",
       "                    // Firefox implements old version of spec.\n",
       "                    width = entry.contentBoxSize.inlineSize;\n",
       "                    height = entry.contentBoxSize.blockSize;\n",
       "                }\n",
       "            } else {\n",
       "                // Chrome <84 implements even older version of spec.\n",
       "                width = entry.contentRect.width;\n",
       "                height = entry.contentRect.height;\n",
       "            }\n",
       "\n",
       "            // Keep the size of the canvas and rubber band canvas in sync with\n",
       "            // the canvas container.\n",
       "            if (entry.devicePixelContentBoxSize) {\n",
       "                // Chrome 84 implements new version of spec.\n",
       "                canvas.setAttribute(\n",
       "                    'width',\n",
       "                    entry.devicePixelContentBoxSize[0].inlineSize\n",
       "                );\n",
       "                canvas.setAttribute(\n",
       "                    'height',\n",
       "                    entry.devicePixelContentBoxSize[0].blockSize\n",
       "                );\n",
       "            } else {\n",
       "                canvas.setAttribute('width', width * fig.ratio);\n",
       "                canvas.setAttribute('height', height * fig.ratio);\n",
       "            }\n",
       "            canvas.setAttribute(\n",
       "                'style',\n",
       "                'width: ' + width + 'px; height: ' + height + 'px;'\n",
       "            );\n",
       "\n",
       "            rubberband_canvas.setAttribute('width', width);\n",
       "            rubberband_canvas.setAttribute('height', height);\n",
       "\n",
       "            // And update the size in Python. We ignore the initial 0/0 size\n",
       "            // that occurs as the element is placed into the DOM, which should\n",
       "            // otherwise not happen due to the minimum size styling.\n",
       "            if (fig.ws.readyState == 1 && width != 0 && height != 0) {\n",
       "                fig.request_resize(width, height);\n",
       "            }\n",
       "        }\n",
       "    });\n",
       "    this.resizeObserverInstance.observe(canvas_div);\n",
       "\n",
       "    function on_mouse_event_closure(name) {\n",
       "        return function (event) {\n",
       "            return fig.mouse_event(event, name);\n",
       "        };\n",
       "    }\n",
       "\n",
       "    rubberband_canvas.addEventListener(\n",
       "        'mousedown',\n",
       "        on_mouse_event_closure('button_press')\n",
       "    );\n",
       "    rubberband_canvas.addEventListener(\n",
       "        'mouseup',\n",
       "        on_mouse_event_closure('button_release')\n",
       "    );\n",
       "    rubberband_canvas.addEventListener(\n",
       "        'dblclick',\n",
       "        on_mouse_event_closure('dblclick')\n",
       "    );\n",
       "    // Throttle sequential mouse events to 1 every 20ms.\n",
       "    rubberband_canvas.addEventListener(\n",
       "        'mousemove',\n",
       "        on_mouse_event_closure('motion_notify')\n",
       "    );\n",
       "\n",
       "    rubberband_canvas.addEventListener(\n",
       "        'mouseenter',\n",
       "        on_mouse_event_closure('figure_enter')\n",
       "    );\n",
       "    rubberband_canvas.addEventListener(\n",
       "        'mouseleave',\n",
       "        on_mouse_event_closure('figure_leave')\n",
       "    );\n",
       "\n",
       "    canvas_div.addEventListener('wheel', function (event) {\n",
       "        if (event.deltaY < 0) {\n",
       "            event.step = 1;\n",
       "        } else {\n",
       "            event.step = -1;\n",
       "        }\n",
       "        on_mouse_event_closure('scroll')(event);\n",
       "    });\n",
       "\n",
       "    canvas_div.appendChild(canvas);\n",
       "    canvas_div.appendChild(rubberband_canvas);\n",
       "\n",
       "    this.rubberband_context = rubberband_canvas.getContext('2d');\n",
       "    this.rubberband_context.strokeStyle = '#000000';\n",
       "\n",
       "    this._resize_canvas = function (width, height, forward) {\n",
       "        if (forward) {\n",
       "            canvas_div.style.width = width + 'px';\n",
       "            canvas_div.style.height = height + 'px';\n",
       "        }\n",
       "    };\n",
       "\n",
       "    // Disable right mouse context menu.\n",
       "    this.rubberband_canvas.addEventListener('contextmenu', function (_e) {\n",
       "        event.preventDefault();\n",
       "        return false;\n",
       "    });\n",
       "\n",
       "    function set_focus() {\n",
       "        canvas.focus();\n",
       "        canvas_div.focus();\n",
       "    }\n",
       "\n",
       "    window.setTimeout(set_focus, 100);\n",
       "};\n",
       "\n",
       "mpl.figure.prototype._init_toolbar = function () {\n",
       "    var fig = this;\n",
       "\n",
       "    var toolbar = document.createElement('div');\n",
       "    toolbar.classList = 'mpl-toolbar';\n",
       "    this.root.appendChild(toolbar);\n",
       "\n",
       "    function on_click_closure(name) {\n",
       "        return function (_event) {\n",
       "            return fig.toolbar_button_onclick(name);\n",
       "        };\n",
       "    }\n",
       "\n",
       "    function on_mouseover_closure(tooltip) {\n",
       "        return function (event) {\n",
       "            if (!event.currentTarget.disabled) {\n",
       "                return fig.toolbar_button_onmouseover(tooltip);\n",
       "            }\n",
       "        };\n",
       "    }\n",
       "\n",
       "    fig.buttons = {};\n",
       "    var buttonGroup = document.createElement('div');\n",
       "    buttonGroup.classList = 'mpl-button-group';\n",
       "    for (var toolbar_ind in mpl.toolbar_items) {\n",
       "        var name = mpl.toolbar_items[toolbar_ind][0];\n",
       "        var tooltip = mpl.toolbar_items[toolbar_ind][1];\n",
       "        var image = mpl.toolbar_items[toolbar_ind][2];\n",
       "        var method_name = mpl.toolbar_items[toolbar_ind][3];\n",
       "\n",
       "        if (!name) {\n",
       "            /* Instead of a spacer, we start a new button group. */\n",
       "            if (buttonGroup.hasChildNodes()) {\n",
       "                toolbar.appendChild(buttonGroup);\n",
       "            }\n",
       "            buttonGroup = document.createElement('div');\n",
       "            buttonGroup.classList = 'mpl-button-group';\n",
       "            continue;\n",
       "        }\n",
       "\n",
       "        var button = (fig.buttons[name] = document.createElement('button'));\n",
       "        button.classList = 'mpl-widget';\n",
       "        button.setAttribute('role', 'button');\n",
       "        button.setAttribute('aria-disabled', 'false');\n",
       "        button.addEventListener('click', on_click_closure(method_name));\n",
       "        button.addEventListener('mouseover', on_mouseover_closure(tooltip));\n",
       "\n",
       "        var icon_img = document.createElement('img');\n",
       "        icon_img.src = '_images/' + image + '.png';\n",
       "        icon_img.srcset = '_images/' + image + '_large.png 2x';\n",
       "        icon_img.alt = tooltip;\n",
       "        button.appendChild(icon_img);\n",
       "\n",
       "        buttonGroup.appendChild(button);\n",
       "    }\n",
       "\n",
       "    if (buttonGroup.hasChildNodes()) {\n",
       "        toolbar.appendChild(buttonGroup);\n",
       "    }\n",
       "\n",
       "    var fmt_picker = document.createElement('select');\n",
       "    fmt_picker.classList = 'mpl-widget';\n",
       "    toolbar.appendChild(fmt_picker);\n",
       "    this.format_dropdown = fmt_picker;\n",
       "\n",
       "    for (var ind in mpl.extensions) {\n",
       "        var fmt = mpl.extensions[ind];\n",
       "        var option = document.createElement('option');\n",
       "        option.selected = fmt === mpl.default_extension;\n",
       "        option.innerHTML = fmt;\n",
       "        fmt_picker.appendChild(option);\n",
       "    }\n",
       "\n",
       "    var status_bar = document.createElement('span');\n",
       "    status_bar.classList = 'mpl-message';\n",
       "    toolbar.appendChild(status_bar);\n",
       "    this.message = status_bar;\n",
       "};\n",
       "\n",
       "mpl.figure.prototype.request_resize = function (x_pixels, y_pixels) {\n",
       "    // Request matplotlib to resize the figure. Matplotlib will then trigger a resize in the client,\n",
       "    // which will in turn request a refresh of the image.\n",
       "    this.send_message('resize', { width: x_pixels, height: y_pixels });\n",
       "};\n",
       "\n",
       "mpl.figure.prototype.send_message = function (type, properties) {\n",
       "    properties['type'] = type;\n",
       "    properties['figure_id'] = this.id;\n",
       "    this.ws.send(JSON.stringify(properties));\n",
       "};\n",
       "\n",
       "mpl.figure.prototype.send_draw_message = function () {\n",
       "    if (!this.waiting) {\n",
       "        this.waiting = true;\n",
       "        this.ws.send(JSON.stringify({ type: 'draw', figure_id: this.id }));\n",
       "    }\n",
       "};\n",
       "\n",
       "mpl.figure.prototype.handle_save = function (fig, _msg) {\n",
       "    var format_dropdown = fig.format_dropdown;\n",
       "    var format = format_dropdown.options[format_dropdown.selectedIndex].value;\n",
       "    fig.ondownload(fig, format);\n",
       "};\n",
       "\n",
       "mpl.figure.prototype.handle_resize = function (fig, msg) {\n",
       "    var size = msg['size'];\n",
       "    if (size[0] !== fig.canvas.width || size[1] !== fig.canvas.height) {\n",
       "        fig._resize_canvas(size[0], size[1], msg['forward']);\n",
       "        fig.send_message('refresh', {});\n",
       "    }\n",
       "};\n",
       "\n",
       "mpl.figure.prototype.handle_rubberband = function (fig, msg) {\n",
       "    var x0 = msg['x0'] / fig.ratio;\n",
       "    var y0 = (fig.canvas.height - msg['y0']) / fig.ratio;\n",
       "    var x1 = msg['x1'] / fig.ratio;\n",
       "    var y1 = (fig.canvas.height - msg['y1']) / fig.ratio;\n",
       "    x0 = Math.floor(x0) + 0.5;\n",
       "    y0 = Math.floor(y0) + 0.5;\n",
       "    x1 = Math.floor(x1) + 0.5;\n",
       "    y1 = Math.floor(y1) + 0.5;\n",
       "    var min_x = Math.min(x0, x1);\n",
       "    var min_y = Math.min(y0, y1);\n",
       "    var width = Math.abs(x1 - x0);\n",
       "    var height = Math.abs(y1 - y0);\n",
       "\n",
       "    fig.rubberband_context.clearRect(\n",
       "        0,\n",
       "        0,\n",
       "        fig.canvas.width / fig.ratio,\n",
       "        fig.canvas.height / fig.ratio\n",
       "    );\n",
       "\n",
       "    fig.rubberband_context.strokeRect(min_x, min_y, width, height);\n",
       "};\n",
       "\n",
       "mpl.figure.prototype.handle_figure_label = function (fig, msg) {\n",
       "    // Updates the figure title.\n",
       "    fig.header.textContent = msg['label'];\n",
       "};\n",
       "\n",
       "mpl.figure.prototype.handle_cursor = function (fig, msg) {\n",
       "    fig.rubberband_canvas.style.cursor = msg['cursor'];\n",
       "};\n",
       "\n",
       "mpl.figure.prototype.handle_message = function (fig, msg) {\n",
       "    fig.message.textContent = msg['message'];\n",
       "};\n",
       "\n",
       "mpl.figure.prototype.handle_draw = function (fig, _msg) {\n",
       "    // Request the server to send over a new figure.\n",
       "    fig.send_draw_message();\n",
       "};\n",
       "\n",
       "mpl.figure.prototype.handle_image_mode = function (fig, msg) {\n",
       "    fig.image_mode = msg['mode'];\n",
       "};\n",
       "\n",
       "mpl.figure.prototype.handle_history_buttons = function (fig, msg) {\n",
       "    for (var key in msg) {\n",
       "        if (!(key in fig.buttons)) {\n",
       "            continue;\n",
       "        }\n",
       "        fig.buttons[key].disabled = !msg[key];\n",
       "        fig.buttons[key].setAttribute('aria-disabled', !msg[key]);\n",
       "    }\n",
       "};\n",
       "\n",
       "mpl.figure.prototype.handle_navigate_mode = function (fig, msg) {\n",
       "    if (msg['mode'] === 'PAN') {\n",
       "        fig.buttons['Pan'].classList.add('active');\n",
       "        fig.buttons['Zoom'].classList.remove('active');\n",
       "    } else if (msg['mode'] === 'ZOOM') {\n",
       "        fig.buttons['Pan'].classList.remove('active');\n",
       "        fig.buttons['Zoom'].classList.add('active');\n",
       "    } else {\n",
       "        fig.buttons['Pan'].classList.remove('active');\n",
       "        fig.buttons['Zoom'].classList.remove('active');\n",
       "    }\n",
       "};\n",
       "\n",
       "mpl.figure.prototype.updated_canvas_event = function () {\n",
       "    // Called whenever the canvas gets updated.\n",
       "    this.send_message('ack', {});\n",
       "};\n",
       "\n",
       "// A function to construct a web socket function for onmessage handling.\n",
       "// Called in the figure constructor.\n",
       "mpl.figure.prototype._make_on_message_function = function (fig) {\n",
       "    return function socket_on_message(evt) {\n",
       "        if (evt.data instanceof Blob) {\n",
       "            var img = evt.data;\n",
       "            if (img.type !== 'image/png') {\n",
       "                /* FIXME: We get \"Resource interpreted as Image but\n",
       "                 * transferred with MIME type text/plain:\" errors on\n",
       "                 * Chrome.  But how to set the MIME type?  It doesn't seem\n",
       "                 * to be part of the websocket stream */\n",
       "                img.type = 'image/png';\n",
       "            }\n",
       "\n",
       "            /* Free the memory for the previous frames */\n",
       "            if (fig.imageObj.src) {\n",
       "                (window.URL || window.webkitURL).revokeObjectURL(\n",
       "                    fig.imageObj.src\n",
       "                );\n",
       "            }\n",
       "\n",
       "            fig.imageObj.src = (window.URL || window.webkitURL).createObjectURL(\n",
       "                img\n",
       "            );\n",
       "            fig.updated_canvas_event();\n",
       "            fig.waiting = false;\n",
       "            return;\n",
       "        } else if (\n",
       "            typeof evt.data === 'string' &&\n",
       "            evt.data.slice(0, 21) === 'data:image/png;base64'\n",
       "        ) {\n",
       "            fig.imageObj.src = evt.data;\n",
       "            fig.updated_canvas_event();\n",
       "            fig.waiting = false;\n",
       "            return;\n",
       "        }\n",
       "\n",
       "        var msg = JSON.parse(evt.data);\n",
       "        var msg_type = msg['type'];\n",
       "\n",
       "        // Call the  \"handle_{type}\" callback, which takes\n",
       "        // the figure and JSON message as its only arguments.\n",
       "        try {\n",
       "            var callback = fig['handle_' + msg_type];\n",
       "        } catch (e) {\n",
       "            console.log(\n",
       "                \"No handler for the '\" + msg_type + \"' message type: \",\n",
       "                msg\n",
       "            );\n",
       "            return;\n",
       "        }\n",
       "\n",
       "        if (callback) {\n",
       "            try {\n",
       "                // console.log(\"Handling '\" + msg_type + \"' message: \", msg);\n",
       "                callback(fig, msg);\n",
       "            } catch (e) {\n",
       "                console.log(\n",
       "                    \"Exception inside the 'handler_\" + msg_type + \"' callback:\",\n",
       "                    e,\n",
       "                    e.stack,\n",
       "                    msg\n",
       "                );\n",
       "            }\n",
       "        }\n",
       "    };\n",
       "};\n",
       "\n",
       "// from https://stackoverflow.com/questions/1114465/getting-mouse-location-in-canvas\n",
       "mpl.findpos = function (e) {\n",
       "    //this section is from http://www.quirksmode.org/js/events_properties.html\n",
       "    var targ;\n",
       "    if (!e) {\n",
       "        e = window.event;\n",
       "    }\n",
       "    if (e.target) {\n",
       "        targ = e.target;\n",
       "    } else if (e.srcElement) {\n",
       "        targ = e.srcElement;\n",
       "    }\n",
       "    if (targ.nodeType === 3) {\n",
       "        // defeat Safari bug\n",
       "        targ = targ.parentNode;\n",
       "    }\n",
       "\n",
       "    // pageX,Y are the mouse positions relative to the document\n",
       "    var boundingRect = targ.getBoundingClientRect();\n",
       "    var x = e.pageX - (boundingRect.left + document.body.scrollLeft);\n",
       "    var y = e.pageY - (boundingRect.top + document.body.scrollTop);\n",
       "\n",
       "    return { x: x, y: y };\n",
       "};\n",
       "\n",
       "/*\n",
       " * return a copy of an object with only non-object keys\n",
       " * we need this to avoid circular references\n",
       " * https://stackoverflow.com/a/24161582/3208463\n",
       " */\n",
       "function simpleKeys(original) {\n",
       "    return Object.keys(original).reduce(function (obj, key) {\n",
       "        if (typeof original[key] !== 'object') {\n",
       "            obj[key] = original[key];\n",
       "        }\n",
       "        return obj;\n",
       "    }, {});\n",
       "}\n",
       "\n",
       "mpl.figure.prototype.mouse_event = function (event, name) {\n",
       "    var canvas_pos = mpl.findpos(event);\n",
       "\n",
       "    if (name === 'button_press') {\n",
       "        this.canvas.focus();\n",
       "        this.canvas_div.focus();\n",
       "    }\n",
       "\n",
       "    var x = canvas_pos.x * this.ratio;\n",
       "    var y = canvas_pos.y * this.ratio;\n",
       "\n",
       "    this.send_message(name, {\n",
       "        x: x,\n",
       "        y: y,\n",
       "        button: event.button,\n",
       "        step: event.step,\n",
       "        guiEvent: simpleKeys(event),\n",
       "    });\n",
       "\n",
       "    /* This prevents the web browser from automatically changing to\n",
       "     * the text insertion cursor when the button is pressed.  We want\n",
       "     * to control all of the cursor setting manually through the\n",
       "     * 'cursor' event from matplotlib */\n",
       "    event.preventDefault();\n",
       "    return false;\n",
       "};\n",
       "\n",
       "mpl.figure.prototype._key_event_extra = function (_event, _name) {\n",
       "    // Handle any extra behaviour associated with a key event\n",
       "};\n",
       "\n",
       "mpl.figure.prototype.key_event = function (event, name) {\n",
       "    // Prevent repeat events\n",
       "    if (name === 'key_press') {\n",
       "        if (event.key === this._key) {\n",
       "            return;\n",
       "        } else {\n",
       "            this._key = event.key;\n",
       "        }\n",
       "    }\n",
       "    if (name === 'key_release') {\n",
       "        this._key = null;\n",
       "    }\n",
       "\n",
       "    var value = '';\n",
       "    if (event.ctrlKey && event.key !== 'Control') {\n",
       "        value += 'ctrl+';\n",
       "    }\n",
       "    else if (event.altKey && event.key !== 'Alt') {\n",
       "        value += 'alt+';\n",
       "    }\n",
       "    else if (event.shiftKey && event.key !== 'Shift') {\n",
       "        value += 'shift+';\n",
       "    }\n",
       "\n",
       "    value += 'k' + event.key;\n",
       "\n",
       "    this._key_event_extra(event, name);\n",
       "\n",
       "    this.send_message(name, { key: value, guiEvent: simpleKeys(event) });\n",
       "    return false;\n",
       "};\n",
       "\n",
       "mpl.figure.prototype.toolbar_button_onclick = function (name) {\n",
       "    if (name === 'download') {\n",
       "        this.handle_save(this, null);\n",
       "    } else {\n",
       "        this.send_message('toolbar_button', { name: name });\n",
       "    }\n",
       "};\n",
       "\n",
       "mpl.figure.prototype.toolbar_button_onmouseover = function (tooltip) {\n",
       "    this.message.textContent = tooltip;\n",
       "};\n",
       "\n",
       "///////////////// REMAINING CONTENT GENERATED BY embed_js.py /////////////////\n",
       "// prettier-ignore\n",
       "var _JSXTOOLS_RESIZE_OBSERVER=function(A){var t,i=new WeakMap,n=new WeakMap,a=new WeakMap,r=new WeakMap,o=new Set;function s(e){if(!(this instanceof s))throw new TypeError(\"Constructor requires 'new' operator\");i.set(this,e)}function h(){throw new TypeError(\"Function is not a constructor\")}function c(e,t,i,n){e=0 in arguments?Number(arguments[0]):0,t=1 in arguments?Number(arguments[1]):0,i=2 in arguments?Number(arguments[2]):0,n=3 in arguments?Number(arguments[3]):0,this.right=(this.x=this.left=e)+(this.width=i),this.bottom=(this.y=this.top=t)+(this.height=n),Object.freeze(this)}function d(){t=requestAnimationFrame(d);var s=new WeakMap,p=new Set;o.forEach((function(t){r.get(t).forEach((function(i){var r=t instanceof window.SVGElement,o=a.get(t),d=r?0:parseFloat(o.paddingTop),f=r?0:parseFloat(o.paddingRight),l=r?0:parseFloat(o.paddingBottom),u=r?0:parseFloat(o.paddingLeft),g=r?0:parseFloat(o.borderTopWidth),m=r?0:parseFloat(o.borderRightWidth),w=r?0:parseFloat(o.borderBottomWidth),b=u+f,F=d+l,v=(r?0:parseFloat(o.borderLeftWidth))+m,W=g+w,y=r?0:t.offsetHeight-W-t.clientHeight,E=r?0:t.offsetWidth-v-t.clientWidth,R=b+v,z=F+W,M=r?t.width:parseFloat(o.width)-R-E,O=r?t.height:parseFloat(o.height)-z-y;if(n.has(t)){var k=n.get(t);if(k[0]===M&&k[1]===O)return}n.set(t,[M,O]);var S=Object.create(h.prototype);S.target=t,S.contentRect=new c(u,d,M,O),s.has(i)||(s.set(i,[]),p.add(i)),s.get(i).push(S)}))})),p.forEach((function(e){i.get(e).call(e,s.get(e),e)}))}return s.prototype.observe=function(i){if(i instanceof window.Element){r.has(i)||(r.set(i,new Set),o.add(i),a.set(i,window.getComputedStyle(i)));var n=r.get(i);n.has(this)||n.add(this),cancelAnimationFrame(t),t=requestAnimationFrame(d)}},s.prototype.unobserve=function(i){if(i instanceof window.Element&&r.has(i)){var n=r.get(i);n.has(this)&&(n.delete(this),n.size||(r.delete(i),o.delete(i))),n.size||r.delete(i),o.size||cancelAnimationFrame(t)}},A.DOMRectReadOnly=c,A.ResizeObserver=s,A.ResizeObserverEntry=h,A}; // eslint-disable-line\n",
       "mpl.toolbar_items = [[\"Home\", \"Reset original view\", \"fa fa-home icon-home\", \"home\"], [\"Back\", \"Back to previous view\", \"fa fa-arrow-left icon-arrow-left\", \"back\"], [\"Forward\", \"Forward to next view\", \"fa fa-arrow-right icon-arrow-right\", \"forward\"], [\"\", \"\", \"\", \"\"], [\"Pan\", \"Left button pans, Right button zooms\\nx/y fixes axis, CTRL fixes aspect\", \"fa fa-arrows icon-move\", \"pan\"], [\"Zoom\", \"Zoom to rectangle\\nx/y fixes axis\", \"fa fa-square-o icon-check-empty\", \"zoom\"], [\"\", \"\", \"\", \"\"], [\"Download\", \"Download plot\", \"fa fa-floppy-o icon-save\", \"download\"]];\n",
       "\n",
       "mpl.extensions = [\"eps\", \"jpeg\", \"pgf\", \"pdf\", \"png\", \"ps\", \"raw\", \"svg\", \"tif\"];\n",
       "\n",
       "mpl.default_extension = \"png\";/* global mpl */\n",
       "\n",
       "var comm_websocket_adapter = function (comm) {\n",
       "    // Create a \"websocket\"-like object which calls the given IPython comm\n",
       "    // object with the appropriate methods. Currently this is a non binary\n",
       "    // socket, so there is still some room for performance tuning.\n",
       "    var ws = {};\n",
       "\n",
       "    ws.binaryType = comm.kernel.ws.binaryType;\n",
       "    ws.readyState = comm.kernel.ws.readyState;\n",
       "    function updateReadyState(_event) {\n",
       "        if (comm.kernel.ws) {\n",
       "            ws.readyState = comm.kernel.ws.readyState;\n",
       "        } else {\n",
       "            ws.readyState = 3; // Closed state.\n",
       "        }\n",
       "    }\n",
       "    comm.kernel.ws.addEventListener('open', updateReadyState);\n",
       "    comm.kernel.ws.addEventListener('close', updateReadyState);\n",
       "    comm.kernel.ws.addEventListener('error', updateReadyState);\n",
       "\n",
       "    ws.close = function () {\n",
       "        comm.close();\n",
       "    };\n",
       "    ws.send = function (m) {\n",
       "        //console.log('sending', m);\n",
       "        comm.send(m);\n",
       "    };\n",
       "    // Register the callback with on_msg.\n",
       "    comm.on_msg(function (msg) {\n",
       "        //console.log('receiving', msg['content']['data'], msg);\n",
       "        var data = msg['content']['data'];\n",
       "        if (data['blob'] !== undefined) {\n",
       "            data = {\n",
       "                data: new Blob(msg['buffers'], { type: data['blob'] }),\n",
       "            };\n",
       "        }\n",
       "        // Pass the mpl event to the overridden (by mpl) onmessage function.\n",
       "        ws.onmessage(data);\n",
       "    });\n",
       "    return ws;\n",
       "};\n",
       "\n",
       "mpl.mpl_figure_comm = function (comm, msg) {\n",
       "    // This is the function which gets called when the mpl process\n",
       "    // starts-up an IPython Comm through the \"matplotlib\" channel.\n",
       "\n",
       "    var id = msg.content.data.id;\n",
       "    // Get hold of the div created by the display call when the Comm\n",
       "    // socket was opened in Python.\n",
       "    var element = document.getElementById(id);\n",
       "    var ws_proxy = comm_websocket_adapter(comm);\n",
       "\n",
       "    function ondownload(figure, _format) {\n",
       "        window.open(figure.canvas.toDataURL());\n",
       "    }\n",
       "\n",
       "    var fig = new mpl.figure(id, ws_proxy, ondownload, element);\n",
       "\n",
       "    // Call onopen now - mpl needs it, as it is assuming we've passed it a real\n",
       "    // web socket which is closed, not our websocket->open comm proxy.\n",
       "    ws_proxy.onopen();\n",
       "\n",
       "    fig.parent_element = element;\n",
       "    fig.cell_info = mpl.find_output_cell(\"<div id='\" + id + \"'></div>\");\n",
       "    if (!fig.cell_info) {\n",
       "        console.error('Failed to find cell for figure', id, fig);\n",
       "        return;\n",
       "    }\n",
       "    fig.cell_info[0].output_area.element.on(\n",
       "        'cleared',\n",
       "        { fig: fig },\n",
       "        fig._remove_fig_handler\n",
       "    );\n",
       "};\n",
       "\n",
       "mpl.figure.prototype.handle_close = function (fig, msg) {\n",
       "    var width = fig.canvas.width / fig.ratio;\n",
       "    fig.cell_info[0].output_area.element.off(\n",
       "        'cleared',\n",
       "        fig._remove_fig_handler\n",
       "    );\n",
       "    fig.resizeObserverInstance.unobserve(fig.canvas_div);\n",
       "\n",
       "    // Update the output cell to use the data from the current canvas.\n",
       "    fig.push_to_output();\n",
       "    var dataURL = fig.canvas.toDataURL();\n",
       "    // Re-enable the keyboard manager in IPython - without this line, in FF,\n",
       "    // the notebook keyboard shortcuts fail.\n",
       "    IPython.keyboard_manager.enable();\n",
       "    fig.parent_element.innerHTML =\n",
       "        '<img src=\"' + dataURL + '\" width=\"' + width + '\">';\n",
       "    fig.close_ws(fig, msg);\n",
       "};\n",
       "\n",
       "mpl.figure.prototype.close_ws = function (fig, msg) {\n",
       "    fig.send_message('closing', msg);\n",
       "    // fig.ws.close()\n",
       "};\n",
       "\n",
       "mpl.figure.prototype.push_to_output = function (_remove_interactive) {\n",
       "    // Turn the data on the canvas into data in the output cell.\n",
       "    var width = this.canvas.width / this.ratio;\n",
       "    var dataURL = this.canvas.toDataURL();\n",
       "    this.cell_info[1]['text/html'] =\n",
       "        '<img src=\"' + dataURL + '\" width=\"' + width + '\">';\n",
       "};\n",
       "\n",
       "mpl.figure.prototype.updated_canvas_event = function () {\n",
       "    // Tell IPython that the notebook contents must change.\n",
       "    IPython.notebook.set_dirty(true);\n",
       "    this.send_message('ack', {});\n",
       "    var fig = this;\n",
       "    // Wait a second, then push the new image to the DOM so\n",
       "    // that it is saved nicely (might be nice to debounce this).\n",
       "    setTimeout(function () {\n",
       "        fig.push_to_output();\n",
       "    }, 1000);\n",
       "};\n",
       "\n",
       "mpl.figure.prototype._init_toolbar = function () {\n",
       "    var fig = this;\n",
       "\n",
       "    var toolbar = document.createElement('div');\n",
       "    toolbar.classList = 'btn-toolbar';\n",
       "    this.root.appendChild(toolbar);\n",
       "\n",
       "    function on_click_closure(name) {\n",
       "        return function (_event) {\n",
       "            return fig.toolbar_button_onclick(name);\n",
       "        };\n",
       "    }\n",
       "\n",
       "    function on_mouseover_closure(tooltip) {\n",
       "        return function (event) {\n",
       "            if (!event.currentTarget.disabled) {\n",
       "                return fig.toolbar_button_onmouseover(tooltip);\n",
       "            }\n",
       "        };\n",
       "    }\n",
       "\n",
       "    fig.buttons = {};\n",
       "    var buttonGroup = document.createElement('div');\n",
       "    buttonGroup.classList = 'btn-group';\n",
       "    var button;\n",
       "    for (var toolbar_ind in mpl.toolbar_items) {\n",
       "        var name = mpl.toolbar_items[toolbar_ind][0];\n",
       "        var tooltip = mpl.toolbar_items[toolbar_ind][1];\n",
       "        var image = mpl.toolbar_items[toolbar_ind][2];\n",
       "        var method_name = mpl.toolbar_items[toolbar_ind][3];\n",
       "\n",
       "        if (!name) {\n",
       "            /* Instead of a spacer, we start a new button group. */\n",
       "            if (buttonGroup.hasChildNodes()) {\n",
       "                toolbar.appendChild(buttonGroup);\n",
       "            }\n",
       "            buttonGroup = document.createElement('div');\n",
       "            buttonGroup.classList = 'btn-group';\n",
       "            continue;\n",
       "        }\n",
       "\n",
       "        button = fig.buttons[name] = document.createElement('button');\n",
       "        button.classList = 'btn btn-default';\n",
       "        button.href = '#';\n",
       "        button.title = name;\n",
       "        button.innerHTML = '<i class=\"fa ' + image + ' fa-lg\"></i>';\n",
       "        button.addEventListener('click', on_click_closure(method_name));\n",
       "        button.addEventListener('mouseover', on_mouseover_closure(tooltip));\n",
       "        buttonGroup.appendChild(button);\n",
       "    }\n",
       "\n",
       "    if (buttonGroup.hasChildNodes()) {\n",
       "        toolbar.appendChild(buttonGroup);\n",
       "    }\n",
       "\n",
       "    // Add the status bar.\n",
       "    var status_bar = document.createElement('span');\n",
       "    status_bar.classList = 'mpl-message pull-right';\n",
       "    toolbar.appendChild(status_bar);\n",
       "    this.message = status_bar;\n",
       "\n",
       "    // Add the close button to the window.\n",
       "    var buttongrp = document.createElement('div');\n",
       "    buttongrp.classList = 'btn-group inline pull-right';\n",
       "    button = document.createElement('button');\n",
       "    button.classList = 'btn btn-mini btn-primary';\n",
       "    button.href = '#';\n",
       "    button.title = 'Stop Interaction';\n",
       "    button.innerHTML = '<i class=\"fa fa-power-off icon-remove icon-large\"></i>';\n",
       "    button.addEventListener('click', function (_evt) {\n",
       "        fig.handle_close(fig, {});\n",
       "    });\n",
       "    button.addEventListener(\n",
       "        'mouseover',\n",
       "        on_mouseover_closure('Stop Interaction')\n",
       "    );\n",
       "    buttongrp.appendChild(button);\n",
       "    var titlebar = this.root.querySelector('.ui-dialog-titlebar');\n",
       "    titlebar.insertBefore(buttongrp, titlebar.firstChild);\n",
       "};\n",
       "\n",
       "mpl.figure.prototype._remove_fig_handler = function (event) {\n",
       "    var fig = event.data.fig;\n",
       "    if (event.target !== this) {\n",
       "        // Ignore bubbled events from children.\n",
       "        return;\n",
       "    }\n",
       "    fig.close_ws(fig, {});\n",
       "};\n",
       "\n",
       "mpl.figure.prototype._root_extra_style = function (el) {\n",
       "    el.style.boxSizing = 'content-box'; // override notebook setting of border-box.\n",
       "};\n",
       "\n",
       "mpl.figure.prototype._canvas_extra_style = function (el) {\n",
       "    // this is important to make the div 'focusable\n",
       "    el.setAttribute('tabindex', 0);\n",
       "    // reach out to IPython and tell the keyboard manager to turn it's self\n",
       "    // off when our div gets focus\n",
       "\n",
       "    // location in version 3\n",
       "    if (IPython.notebook.keyboard_manager) {\n",
       "        IPython.notebook.keyboard_manager.register_events(el);\n",
       "    } else {\n",
       "        // location in version 2\n",
       "        IPython.keyboard_manager.register_events(el);\n",
       "    }\n",
       "};\n",
       "\n",
       "mpl.figure.prototype._key_event_extra = function (event, _name) {\n",
       "    // Check for shift+enter\n",
       "    if (event.shiftKey && event.which === 13) {\n",
       "        this.canvas_div.blur();\n",
       "        // select the cell after this one\n",
       "        var index = IPython.notebook.find_cell_index(this.cell_info[0]);\n",
       "        IPython.notebook.select(index + 1);\n",
       "    }\n",
       "};\n",
       "\n",
       "mpl.figure.prototype.handle_save = function (fig, _msg) {\n",
       "    fig.ondownload(fig, null);\n",
       "};\n",
       "\n",
       "mpl.find_output_cell = function (html_output) {\n",
       "    // Return the cell and output element which can be found *uniquely* in the notebook.\n",
       "    // Note - this is a bit hacky, but it is done because the \"notebook_saving.Notebook\"\n",
       "    // IPython event is triggered only after the cells have been serialised, which for\n",
       "    // our purposes (turning an active figure into a static one), is too late.\n",
       "    var cells = IPython.notebook.get_cells();\n",
       "    var ncells = cells.length;\n",
       "    for (var i = 0; i < ncells; i++) {\n",
       "        var cell = cells[i];\n",
       "        if (cell.cell_type === 'code') {\n",
       "            for (var j = 0; j < cell.output_area.outputs.length; j++) {\n",
       "                var data = cell.output_area.outputs[j];\n",
       "                if (data.data) {\n",
       "                    // IPython >= 3 moved mimebundle to data attribute of output\n",
       "                    data = data.data;\n",
       "                }\n",
       "                if (data['text/html'] === html_output) {\n",
       "                    return [cell, data, j];\n",
       "                }\n",
       "            }\n",
       "        }\n",
       "    }\n",
       "};\n",
       "\n",
       "// Register the function which deals with the matplotlib target/channel.\n",
       "// The kernel may be null if the page has been refreshed.\n",
       "if (IPython.notebook.kernel !== null) {\n",
       "    IPython.notebook.kernel.comm_manager.register_target(\n",
       "        'matplotlib',\n",
       "        mpl.mpl_figure_comm\n",
       "    );\n",
       "}\n"
      ],
      "text/plain": [
       "<IPython.core.display.Javascript object>"
      ]
     },
     "metadata": {},
     "output_type": "display_data"
    },
    {
     "data": {
      "text/html": [
       "<img src=\"data:image/png;base64,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\" width=\"800.0000211927631\">"
      ],
      "text/plain": [
       "<IPython.core.display.HTML object>"
      ]
     },
     "metadata": {},
     "output_type": "display_data"
    }
   ],
   "source": [
    "%matplotlib notebook\n",
    "\n",
    "fig = plt.figure(figsize = (8,8))\n",
    "ax = fig.add_subplot(projection = \"3d\") if dimension == 3 else fig.add_subplot()\n",
    "\n",
    "tri = list() if dimension == 3 else None\n",
    "kdtree = spatial.KDTree(X) # X is in R^d\n",
    "cech_complex = dict()\n",
    "\n",
    "for t in spatial.Delaunay(X).simplices:\n",
    "    if dimension == 3:\n",
    "        for f in combinations(t, 3):\n",
    "            tri.append(f)\n",
    "    #    \n",
    "    cech_complex = merge_dicts(\n",
    "        cech_complex,\n",
    "        cech(\n",
    "            kdtree = kdtree,\n",
    "            simplex = t,\n",
    "            ax = ax\n",
    "        ),\n",
    "        min\n",
    "    )\n",
    "\n",
    "cech_complex = list(cech_complex.items())\n",
    "if dimension == 3:\n",
    "    plt_tri = a3.art3d.Poly3DCollection(X[tri, :])\n",
    "    plt_tri.set_alpha(0.1)\n",
    "    plt_tri.set_color('grey')\n",
    "    ax.add_collection3d(plt_tri)\n",
    "\n",
    "for i,x in enumerate(X):\n",
    "    ax.scatter(*tuple(x), color = \"blue\")\n",
    "    ax.text(*tuple(x+0.015), s=str(i))\n",
    "    \n",
    "ax.set_xlim(0,1)\n",
    "ax.set_ylim(0,1)\n",
    "ax.set_zlim(0,1) if dimension == 3 else None\n",
    "ax.set_xlabel(\"x\")\n",
    "ax.set_ylabel(\"y\")\n",
    "ax.set_zlabel(\"z\") if dimension == 3 else None\n",
    "plt.show()"
   ]
  },
  {
   "cell_type": "code",
   "execution_count": 7,
   "id": "40804c8a",
   "metadata": {},
   "outputs": [
    {
     "data": {
      "text/html": [
       "<pre style=\"white-space:pre;overflow-x:auto;line-height:normal;font-family:Menlo,'DejaVu Sans Mono',consolas,'Courier New',monospace\"><span style=\"color: #008080; text-decoration-color: #008080; font-weight: bold\">275</span>\n",
       "</pre>\n"
      ],
      "text/plain": [
       "\u001b[1;36m275\u001b[0m\n"
      ]
     },
     "metadata": {},
     "output_type": "display_data"
    },
    {
     "data": {
      "text/html": [
       "<pre style=\"white-space:pre;overflow-x:auto;line-height:normal;font-family:Menlo,'DejaVu Sans Mono',consolas,'Courier New',monospace\"><span style=\"color: #008080; text-decoration-color: #008080; font-weight: bold\">0.00000</span>         <span style=\"font-weight: bold\">(</span><span style=\"color: #008080; text-decoration-color: #008080; font-weight: bold\">20</span>,<span style=\"font-weight: bold\">)</span>\n",
       "</pre>\n"
      ],
      "text/plain": [
       "\u001b[1;36m0.00000\u001b[0m         \u001b[1m(\u001b[0m\u001b[1;36m20\u001b[0m,\u001b[1m)\u001b[0m\n"
      ]
     },
     "metadata": {},
     "output_type": "display_data"
    },
    {
     "data": {
      "text/html": [
       "<pre style=\"white-space:pre;overflow-x:auto;line-height:normal;font-family:Menlo,'DejaVu Sans Mono',consolas,'Courier New',monospace\"><span style=\"color: #008080; text-decoration-color: #008080; font-weight: bold\">0.00000</span>         <span style=\"font-weight: bold\">(</span><span style=\"color: #008080; text-decoration-color: #008080; font-weight: bold\">29</span>,<span style=\"font-weight: bold\">)</span>\n",
       "</pre>\n"
      ],
      "text/plain": [
       "\u001b[1;36m0.00000\u001b[0m         \u001b[1m(\u001b[0m\u001b[1;36m29\u001b[0m,\u001b[1m)\u001b[0m\n"
      ]
     },
     "metadata": {},
     "output_type": "display_data"
    },
    {
     "data": {
      "text/html": [
       "<pre style=\"white-space:pre;overflow-x:auto;line-height:normal;font-family:Menlo,'DejaVu Sans Mono',consolas,'Courier New',monospace\"><span style=\"color: #008080; text-decoration-color: #008080; font-weight: bold\">0.00000</span>         <span style=\"font-weight: bold\">(</span><span style=\"color: #008080; text-decoration-color: #008080; font-weight: bold\">47</span>,<span style=\"font-weight: bold\">)</span>\n",
       "</pre>\n"
      ],
      "text/plain": [
       "\u001b[1;36m0.00000\u001b[0m         \u001b[1m(\u001b[0m\u001b[1;36m47\u001b[0m,\u001b[1m)\u001b[0m\n"
      ]
     },
     "metadata": {},
     "output_type": "display_data"
    },
    {
     "data": {
      "text/html": [
       "<pre style=\"white-space:pre;overflow-x:auto;line-height:normal;font-family:Menlo,'DejaVu Sans Mono',consolas,'Courier New',monospace\"><span style=\"color: #008080; text-decoration-color: #008080; font-weight: bold\">0.00000</span>         <span style=\"font-weight: bold\">(</span><span style=\"color: #008080; text-decoration-color: #008080; font-weight: bold\">13</span>,<span style=\"font-weight: bold\">)</span>\n",
       "</pre>\n"
      ],
      "text/plain": [
       "\u001b[1;36m0.00000\u001b[0m         \u001b[1m(\u001b[0m\u001b[1;36m13\u001b[0m,\u001b[1m)\u001b[0m\n"
      ]
     },
     "metadata": {},
     "output_type": "display_data"
    },
    {
     "data": {
      "text/html": [
       "<pre style=\"white-space:pre;overflow-x:auto;line-height:normal;font-family:Menlo,'DejaVu Sans Mono',consolas,'Courier New',monospace\"><span style=\"color: #008080; text-decoration-color: #008080; font-weight: bold\">0.00000</span>         <span style=\"font-weight: bold\">(</span><span style=\"color: #008080; text-decoration-color: #008080; font-weight: bold\">22</span>,<span style=\"font-weight: bold\">)</span>\n",
       "</pre>\n"
      ],
      "text/plain": [
       "\u001b[1;36m0.00000\u001b[0m         \u001b[1m(\u001b[0m\u001b[1;36m22\u001b[0m,\u001b[1m)\u001b[0m\n"
      ]
     },
     "metadata": {},
     "output_type": "display_data"
    },
    {
     "data": {
      "text/html": [
       "<pre style=\"white-space:pre;overflow-x:auto;line-height:normal;font-family:Menlo,'DejaVu Sans Mono',consolas,'Courier New',monospace\"><span style=\"color: #008080; text-decoration-color: #008080; font-weight: bold\">0.00000</span>         <span style=\"font-weight: bold\">(</span><span style=\"color: #008080; text-decoration-color: #008080; font-weight: bold\">31</span>,<span style=\"font-weight: bold\">)</span>\n",
       "</pre>\n"
      ],
      "text/plain": [
       "\u001b[1;36m0.00000\u001b[0m         \u001b[1m(\u001b[0m\u001b[1;36m31\u001b[0m,\u001b[1m)\u001b[0m\n"
      ]
     },
     "metadata": {},
     "output_type": "display_data"
    },
    {
     "data": {
      "text/html": [
       "<pre style=\"white-space:pre;overflow-x:auto;line-height:normal;font-family:Menlo,'DejaVu Sans Mono',consolas,'Courier New',monospace\"><span style=\"color: #008080; text-decoration-color: #008080; font-weight: bold\">0.00000</span>         <span style=\"font-weight: bold\">(</span><span style=\"color: #008080; text-decoration-color: #008080; font-weight: bold\">40</span>,<span style=\"font-weight: bold\">)</span>\n",
       "</pre>\n"
      ],
      "text/plain": [
       "\u001b[1;36m0.00000\u001b[0m         \u001b[1m(\u001b[0m\u001b[1;36m40\u001b[0m,\u001b[1m)\u001b[0m\n"
      ]
     },
     "metadata": {},
     "output_type": "display_data"
    },
    {
     "data": {
      "text/html": [
       "<pre style=\"white-space:pre;overflow-x:auto;line-height:normal;font-family:Menlo,'DejaVu Sans Mono',consolas,'Courier New',monospace\"><span style=\"color: #008080; text-decoration-color: #008080; font-weight: bold\">0.00000</span>         <span style=\"font-weight: bold\">(</span><span style=\"color: #008080; text-decoration-color: #008080; font-weight: bold\">49</span>,<span style=\"font-weight: bold\">)</span>\n",
       "</pre>\n"
      ],
      "text/plain": [
       "\u001b[1;36m0.00000\u001b[0m         \u001b[1m(\u001b[0m\u001b[1;36m49\u001b[0m,\u001b[1m)\u001b[0m\n"
      ]
     },
     "metadata": {},
     "output_type": "display_data"
    },
    {
     "data": {
      "text/html": [
       "<pre style=\"white-space:pre;overflow-x:auto;line-height:normal;font-family:Menlo,'DejaVu Sans Mono',consolas,'Courier New',monospace\"><span style=\"color: #008080; text-decoration-color: #008080; font-weight: bold\">0.00000</span>         <span style=\"font-weight: bold\">(</span><span style=\"color: #008080; text-decoration-color: #008080; font-weight: bold\">15</span>,<span style=\"font-weight: bold\">)</span>\n",
       "</pre>\n"
      ],
      "text/plain": [
       "\u001b[1;36m0.00000\u001b[0m         \u001b[1m(\u001b[0m\u001b[1;36m15\u001b[0m,\u001b[1m)\u001b[0m\n"
      ]
     },
     "metadata": {},
     "output_type": "display_data"
    },
    {
     "data": {
      "text/html": [
       "<pre style=\"white-space:pre;overflow-x:auto;line-height:normal;font-family:Menlo,'DejaVu Sans Mono',consolas,'Courier New',monospace\"><span style=\"color: #008080; text-decoration-color: #008080; font-weight: bold\">0.00000</span>         <span style=\"font-weight: bold\">(</span><span style=\"color: #008080; text-decoration-color: #008080; font-weight: bold\">24</span>,<span style=\"font-weight: bold\">)</span>\n",
       "</pre>\n"
      ],
      "text/plain": [
       "\u001b[1;36m0.00000\u001b[0m         \u001b[1m(\u001b[0m\u001b[1;36m24\u001b[0m,\u001b[1m)\u001b[0m\n"
      ]
     },
     "metadata": {},
     "output_type": "display_data"
    },
    {
     "data": {
      "text/html": [
       "<pre style=\"white-space:pre;overflow-x:auto;line-height:normal;font-family:Menlo,'DejaVu Sans Mono',consolas,'Courier New',monospace\"><span style=\"color: #008080; text-decoration-color: #008080; font-weight: bold\">0.00000</span>         <span style=\"font-weight: bold\">(</span><span style=\"color: #008080; text-decoration-color: #008080; font-weight: bold\">33</span>,<span style=\"font-weight: bold\">)</span>\n",
       "</pre>\n"
      ],
      "text/plain": [
       "\u001b[1;36m0.00000\u001b[0m         \u001b[1m(\u001b[0m\u001b[1;36m33\u001b[0m,\u001b[1m)\u001b[0m\n"
      ]
     },
     "metadata": {},
     "output_type": "display_data"
    },
    {
     "data": {
      "text/html": [
       "<pre style=\"white-space:pre;overflow-x:auto;line-height:normal;font-family:Menlo,'DejaVu Sans Mono',consolas,'Courier New',monospace\"><span style=\"color: #008080; text-decoration-color: #008080; font-weight: bold\">0.00000</span>         <span style=\"font-weight: bold\">(</span><span style=\"color: #008080; text-decoration-color: #008080; font-weight: bold\">42</span>,<span style=\"font-weight: bold\">)</span>\n",
       "</pre>\n"
      ],
      "text/plain": [
       "\u001b[1;36m0.00000\u001b[0m         \u001b[1m(\u001b[0m\u001b[1;36m42\u001b[0m,\u001b[1m)\u001b[0m\n"
      ]
     },
     "metadata": {},
     "output_type": "display_data"
    },
    {
     "data": {
      "text/html": [
       "<pre style=\"white-space:pre;overflow-x:auto;line-height:normal;font-family:Menlo,'DejaVu Sans Mono',consolas,'Courier New',monospace\"><span style=\"color: #008080; text-decoration-color: #008080; font-weight: bold\">0.00000</span>         <span style=\"font-weight: bold\">(</span><span style=\"color: #008080; text-decoration-color: #008080; font-weight: bold\">8</span>,<span style=\"font-weight: bold\">)</span>\n",
       "</pre>\n"
      ],
      "text/plain": [
       "\u001b[1;36m0.00000\u001b[0m         \u001b[1m(\u001b[0m\u001b[1;36m8\u001b[0m,\u001b[1m)\u001b[0m\n"
      ]
     },
     "metadata": {},
     "output_type": "display_data"
    },
    {
     "data": {
      "text/html": [
       "<pre style=\"white-space:pre;overflow-x:auto;line-height:normal;font-family:Menlo,'DejaVu Sans Mono',consolas,'Courier New',monospace\"><span style=\"color: #008080; text-decoration-color: #008080; font-weight: bold\">0.00000</span>         <span style=\"font-weight: bold\">(</span><span style=\"color: #008080; text-decoration-color: #008080; font-weight: bold\">17</span>,<span style=\"font-weight: bold\">)</span>\n",
       "</pre>\n"
      ],
      "text/plain": [
       "\u001b[1;36m0.00000\u001b[0m         \u001b[1m(\u001b[0m\u001b[1;36m17\u001b[0m,\u001b[1m)\u001b[0m\n"
      ]
     },
     "metadata": {},
     "output_type": "display_data"
    },
    {
     "data": {
      "text/html": [
       "<pre style=\"white-space:pre;overflow-x:auto;line-height:normal;font-family:Menlo,'DejaVu Sans Mono',consolas,'Courier New',monospace\"><span style=\"color: #008080; text-decoration-color: #008080; font-weight: bold\">0.00000</span>         <span style=\"font-weight: bold\">(</span><span style=\"color: #008080; text-decoration-color: #008080; font-weight: bold\">26</span>,<span style=\"font-weight: bold\">)</span>\n",
       "</pre>\n"
      ],
      "text/plain": [
       "\u001b[1;36m0.00000\u001b[0m         \u001b[1m(\u001b[0m\u001b[1;36m26\u001b[0m,\u001b[1m)\u001b[0m\n"
      ]
     },
     "metadata": {},
     "output_type": "display_data"
    },
    {
     "data": {
      "text/html": [
       "<pre style=\"white-space:pre;overflow-x:auto;line-height:normal;font-family:Menlo,'DejaVu Sans Mono',consolas,'Courier New',monospace\"><span style=\"color: #008080; text-decoration-color: #008080; font-weight: bold\">0.00000</span>         <span style=\"font-weight: bold\">(</span><span style=\"color: #008080; text-decoration-color: #008080; font-weight: bold\">35</span>,<span style=\"font-weight: bold\">)</span>\n",
       "</pre>\n"
      ],
      "text/plain": [
       "\u001b[1;36m0.00000\u001b[0m         \u001b[1m(\u001b[0m\u001b[1;36m35\u001b[0m,\u001b[1m)\u001b[0m\n"
      ]
     },
     "metadata": {},
     "output_type": "display_data"
    },
    {
     "data": {
      "text/html": [
       "<pre style=\"white-space:pre;overflow-x:auto;line-height:normal;font-family:Menlo,'DejaVu Sans Mono',consolas,'Courier New',monospace\"><span style=\"color: #008080; text-decoration-color: #008080; font-weight: bold\">0.00000</span>         <span style=\"font-weight: bold\">(</span><span style=\"color: #008080; text-decoration-color: #008080; font-weight: bold\">44</span>,<span style=\"font-weight: bold\">)</span>\n",
       "</pre>\n"
      ],
      "text/plain": [
       "\u001b[1;36m0.00000\u001b[0m         \u001b[1m(\u001b[0m\u001b[1;36m44\u001b[0m,\u001b[1m)\u001b[0m\n"
      ]
     },
     "metadata": {},
     "output_type": "display_data"
    },
    {
     "data": {
      "text/html": [
       "<pre style=\"white-space:pre;overflow-x:auto;line-height:normal;font-family:Menlo,'DejaVu Sans Mono',consolas,'Courier New',monospace\"><span style=\"color: #008080; text-decoration-color: #008080; font-weight: bold\">0.00000</span>         <span style=\"font-weight: bold\">(</span><span style=\"color: #008080; text-decoration-color: #008080; font-weight: bold\">1</span>,<span style=\"font-weight: bold\">)</span>\n",
       "</pre>\n"
      ],
      "text/plain": [
       "\u001b[1;36m0.00000\u001b[0m         \u001b[1m(\u001b[0m\u001b[1;36m1\u001b[0m,\u001b[1m)\u001b[0m\n"
      ]
     },
     "metadata": {},
     "output_type": "display_data"
    },
    {
     "data": {
      "text/html": [
       "<pre style=\"white-space:pre;overflow-x:auto;line-height:normal;font-family:Menlo,'DejaVu Sans Mono',consolas,'Courier New',monospace\"><span style=\"color: #008080; text-decoration-color: #008080; font-weight: bold\">0.00000</span>         <span style=\"font-weight: bold\">(</span><span style=\"color: #008080; text-decoration-color: #008080; font-weight: bold\">10</span>,<span style=\"font-weight: bold\">)</span>\n",
       "</pre>\n"
      ],
      "text/plain": [
       "\u001b[1;36m0.00000\u001b[0m         \u001b[1m(\u001b[0m\u001b[1;36m10\u001b[0m,\u001b[1m)\u001b[0m\n"
      ]
     },
     "metadata": {},
     "output_type": "display_data"
    },
    {
     "data": {
      "text/html": [
       "<pre style=\"white-space:pre;overflow-x:auto;line-height:normal;font-family:Menlo,'DejaVu Sans Mono',consolas,'Courier New',monospace\"><span style=\"color: #008080; text-decoration-color: #008080; font-weight: bold\">0.00000</span>         <span style=\"font-weight: bold\">(</span><span style=\"color: #008080; text-decoration-color: #008080; font-weight: bold\">19</span>,<span style=\"font-weight: bold\">)</span>\n",
       "</pre>\n"
      ],
      "text/plain": [
       "\u001b[1;36m0.00000\u001b[0m         \u001b[1m(\u001b[0m\u001b[1;36m19\u001b[0m,\u001b[1m)\u001b[0m\n"
      ]
     },
     "metadata": {},
     "output_type": "display_data"
    },
    {
     "data": {
      "text/html": [
       "<pre style=\"white-space:pre;overflow-x:auto;line-height:normal;font-family:Menlo,'DejaVu Sans Mono',consolas,'Courier New',monospace\"><span style=\"color: #008080; text-decoration-color: #008080; font-weight: bold\">0.00000</span>         <span style=\"font-weight: bold\">(</span><span style=\"color: #008080; text-decoration-color: #008080; font-weight: bold\">28</span>,<span style=\"font-weight: bold\">)</span>\n",
       "</pre>\n"
      ],
      "text/plain": [
       "\u001b[1;36m0.00000\u001b[0m         \u001b[1m(\u001b[0m\u001b[1;36m28\u001b[0m,\u001b[1m)\u001b[0m\n"
      ]
     },
     "metadata": {},
     "output_type": "display_data"
    },
    {
     "data": {
      "text/html": [
       "<pre style=\"white-space:pre;overflow-x:auto;line-height:normal;font-family:Menlo,'DejaVu Sans Mono',consolas,'Courier New',monospace\"><span style=\"color: #008080; text-decoration-color: #008080; font-weight: bold\">0.00000</span>         <span style=\"font-weight: bold\">(</span><span style=\"color: #008080; text-decoration-color: #008080; font-weight: bold\">37</span>,<span style=\"font-weight: bold\">)</span>\n",
       "</pre>\n"
      ],
      "text/plain": [
       "\u001b[1;36m0.00000\u001b[0m         \u001b[1m(\u001b[0m\u001b[1;36m37\u001b[0m,\u001b[1m)\u001b[0m\n"
      ]
     },
     "metadata": {},
     "output_type": "display_data"
    },
    {
     "data": {
      "text/html": [
       "<pre style=\"white-space:pre;overflow-x:auto;line-height:normal;font-family:Menlo,'DejaVu Sans Mono',consolas,'Courier New',monospace\"><span style=\"color: #008080; text-decoration-color: #008080; font-weight: bold\">0.00000</span>         <span style=\"font-weight: bold\">(</span><span style=\"color: #008080; text-decoration-color: #008080; font-weight: bold\">3</span>,<span style=\"font-weight: bold\">)</span>\n",
       "</pre>\n"
      ],
      "text/plain": [
       "\u001b[1;36m0.00000\u001b[0m         \u001b[1m(\u001b[0m\u001b[1;36m3\u001b[0m,\u001b[1m)\u001b[0m\n"
      ]
     },
     "metadata": {},
     "output_type": "display_data"
    },
    {
     "data": {
      "text/html": [
       "<pre style=\"white-space:pre;overflow-x:auto;line-height:normal;font-family:Menlo,'DejaVu Sans Mono',consolas,'Courier New',monospace\"><span style=\"color: #008080; text-decoration-color: #008080; font-weight: bold\">0.00000</span>         <span style=\"font-weight: bold\">(</span><span style=\"color: #008080; text-decoration-color: #008080; font-weight: bold\">12</span>,<span style=\"font-weight: bold\">)</span>\n",
       "</pre>\n"
      ],
      "text/plain": [
       "\u001b[1;36m0.00000\u001b[0m         \u001b[1m(\u001b[0m\u001b[1;36m12\u001b[0m,\u001b[1m)\u001b[0m\n"
      ]
     },
     "metadata": {},
     "output_type": "display_data"
    },
    {
     "data": {
      "text/html": [
       "<pre style=\"white-space:pre;overflow-x:auto;line-height:normal;font-family:Menlo,'DejaVu Sans Mono',consolas,'Courier New',monospace\"><span style=\"color: #008080; text-decoration-color: #008080; font-weight: bold\">0.00000</span>         <span style=\"font-weight: bold\">(</span><span style=\"color: #008080; text-decoration-color: #008080; font-weight: bold\">21</span>,<span style=\"font-weight: bold\">)</span>\n",
       "</pre>\n"
      ],
      "text/plain": [
       "\u001b[1;36m0.00000\u001b[0m         \u001b[1m(\u001b[0m\u001b[1;36m21\u001b[0m,\u001b[1m)\u001b[0m\n"
      ]
     },
     "metadata": {},
     "output_type": "display_data"
    },
    {
     "data": {
      "text/html": [
       "<pre style=\"white-space:pre;overflow-x:auto;line-height:normal;font-family:Menlo,'DejaVu Sans Mono',consolas,'Courier New',monospace\"><span style=\"color: #008080; text-decoration-color: #008080; font-weight: bold\">0.00000</span>         <span style=\"font-weight: bold\">(</span><span style=\"color: #008080; text-decoration-color: #008080; font-weight: bold\">30</span>,<span style=\"font-weight: bold\">)</span>\n",
       "</pre>\n"
      ],
      "text/plain": [
       "\u001b[1;36m0.00000\u001b[0m         \u001b[1m(\u001b[0m\u001b[1;36m30\u001b[0m,\u001b[1m)\u001b[0m\n"
      ]
     },
     "metadata": {},
     "output_type": "display_data"
    },
    {
     "data": {
      "text/html": [
       "<pre style=\"white-space:pre;overflow-x:auto;line-height:normal;font-family:Menlo,'DejaVu Sans Mono',consolas,'Courier New',monospace\"><span style=\"color: #008080; text-decoration-color: #008080; font-weight: bold\">0.00000</span>         <span style=\"font-weight: bold\">(</span><span style=\"color: #008080; text-decoration-color: #008080; font-weight: bold\">5</span>,<span style=\"font-weight: bold\">)</span>\n",
       "</pre>\n"
      ],
      "text/plain": [
       "\u001b[1;36m0.00000\u001b[0m         \u001b[1m(\u001b[0m\u001b[1;36m5\u001b[0m,\u001b[1m)\u001b[0m\n"
      ]
     },
     "metadata": {},
     "output_type": "display_data"
    },
    {
     "data": {
      "text/html": [
       "<pre style=\"white-space:pre;overflow-x:auto;line-height:normal;font-family:Menlo,'DejaVu Sans Mono',consolas,'Courier New',monospace\"><span style=\"color: #008080; text-decoration-color: #008080; font-weight: bold\">0.00000</span>         <span style=\"font-weight: bold\">(</span><span style=\"color: #008080; text-decoration-color: #008080; font-weight: bold\">14</span>,<span style=\"font-weight: bold\">)</span>\n",
       "</pre>\n"
      ],
      "text/plain": [
       "\u001b[1;36m0.00000\u001b[0m         \u001b[1m(\u001b[0m\u001b[1;36m14\u001b[0m,\u001b[1m)\u001b[0m\n"
      ]
     },
     "metadata": {},
     "output_type": "display_data"
    },
    {
     "data": {
      "text/html": [
       "<pre style=\"white-space:pre;overflow-x:auto;line-height:normal;font-family:Menlo,'DejaVu Sans Mono',consolas,'Courier New',monospace\"><span style=\"color: #008080; text-decoration-color: #008080; font-weight: bold\">0.00000</span>         <span style=\"font-weight: bold\">(</span><span style=\"color: #008080; text-decoration-color: #008080; font-weight: bold\">23</span>,<span style=\"font-weight: bold\">)</span>\n",
       "</pre>\n"
      ],
      "text/plain": [
       "\u001b[1;36m0.00000\u001b[0m         \u001b[1m(\u001b[0m\u001b[1;36m23\u001b[0m,\u001b[1m)\u001b[0m\n"
      ]
     },
     "metadata": {},
     "output_type": "display_data"
    },
    {
     "data": {
      "text/html": [
       "<pre style=\"white-space:pre;overflow-x:auto;line-height:normal;font-family:Menlo,'DejaVu Sans Mono',consolas,'Courier New',monospace\"><span style=\"color: #008080; text-decoration-color: #008080; font-weight: bold\">0.00000</span>         <span style=\"font-weight: bold\">(</span><span style=\"color: #008080; text-decoration-color: #008080; font-weight: bold\">7</span>,<span style=\"font-weight: bold\">)</span>\n",
       "</pre>\n"
      ],
      "text/plain": [
       "\u001b[1;36m0.00000\u001b[0m         \u001b[1m(\u001b[0m\u001b[1;36m7\u001b[0m,\u001b[1m)\u001b[0m\n"
      ]
     },
     "metadata": {},
     "output_type": "display_data"
    },
    {
     "data": {
      "text/html": [
       "<pre style=\"white-space:pre;overflow-x:auto;line-height:normal;font-family:Menlo,'DejaVu Sans Mono',consolas,'Courier New',monospace\"><span style=\"color: #008080; text-decoration-color: #008080; font-weight: bold\">0.00000</span>         <span style=\"font-weight: bold\">(</span><span style=\"color: #008080; text-decoration-color: #008080; font-weight: bold\">16</span>,<span style=\"font-weight: bold\">)</span>\n",
       "</pre>\n"
      ],
      "text/plain": [
       "\u001b[1;36m0.00000\u001b[0m         \u001b[1m(\u001b[0m\u001b[1;36m16\u001b[0m,\u001b[1m)\u001b[0m\n"
      ]
     },
     "metadata": {},
     "output_type": "display_data"
    },
    {
     "data": {
      "text/html": [
       "<pre style=\"white-space:pre;overflow-x:auto;line-height:normal;font-family:Menlo,'DejaVu Sans Mono',consolas,'Courier New',monospace\"><span style=\"color: #008080; text-decoration-color: #008080; font-weight: bold\">0.00000</span>         <span style=\"font-weight: bold\">(</span><span style=\"color: #008080; text-decoration-color: #008080; font-weight: bold\">25</span>,<span style=\"font-weight: bold\">)</span>\n",
       "</pre>\n"
      ],
      "text/plain": [
       "\u001b[1;36m0.00000\u001b[0m         \u001b[1m(\u001b[0m\u001b[1;36m25\u001b[0m,\u001b[1m)\u001b[0m\n"
      ]
     },
     "metadata": {},
     "output_type": "display_data"
    },
    {
     "data": {
      "text/html": [
       "<pre style=\"white-space:pre;overflow-x:auto;line-height:normal;font-family:Menlo,'DejaVu Sans Mono',consolas,'Courier New',monospace\"><span style=\"color: #008080; text-decoration-color: #008080; font-weight: bold\">0.00000</span>         <span style=\"font-weight: bold\">(</span><span style=\"color: #008080; text-decoration-color: #008080; font-weight: bold\">0</span>,<span style=\"font-weight: bold\">)</span>\n",
       "</pre>\n"
      ],
      "text/plain": [
       "\u001b[1;36m0.00000\u001b[0m         \u001b[1m(\u001b[0m\u001b[1;36m0\u001b[0m,\u001b[1m)\u001b[0m\n"
      ]
     },
     "metadata": {},
     "output_type": "display_data"
    },
    {
     "data": {
      "text/html": [
       "<pre style=\"white-space:pre;overflow-x:auto;line-height:normal;font-family:Menlo,'DejaVu Sans Mono',consolas,'Courier New',monospace\"><span style=\"color: #008080; text-decoration-color: #008080; font-weight: bold\">0.00000</span>         <span style=\"font-weight: bold\">(</span><span style=\"color: #008080; text-decoration-color: #008080; font-weight: bold\">9</span>,<span style=\"font-weight: bold\">)</span>\n",
       "</pre>\n"
      ],
      "text/plain": [
       "\u001b[1;36m0.00000\u001b[0m         \u001b[1m(\u001b[0m\u001b[1;36m9\u001b[0m,\u001b[1m)\u001b[0m\n"
      ]
     },
     "metadata": {},
     "output_type": "display_data"
    },
    {
     "data": {
      "text/html": [
       "<pre style=\"white-space:pre;overflow-x:auto;line-height:normal;font-family:Menlo,'DejaVu Sans Mono',consolas,'Courier New',monospace\"><span style=\"color: #008080; text-decoration-color: #008080; font-weight: bold\">0.00000</span>         <span style=\"font-weight: bold\">(</span><span style=\"color: #008080; text-decoration-color: #008080; font-weight: bold\">18</span>,<span style=\"font-weight: bold\">)</span>\n",
       "</pre>\n"
      ],
      "text/plain": [
       "\u001b[1;36m0.00000\u001b[0m         \u001b[1m(\u001b[0m\u001b[1;36m18\u001b[0m,\u001b[1m)\u001b[0m\n"
      ]
     },
     "metadata": {},
     "output_type": "display_data"
    },
    {
     "data": {
      "text/html": [
       "<pre style=\"white-space:pre;overflow-x:auto;line-height:normal;font-family:Menlo,'DejaVu Sans Mono',consolas,'Courier New',monospace\"><span style=\"color: #008080; text-decoration-color: #008080; font-weight: bold\">0.00000</span>         <span style=\"font-weight: bold\">(</span><span style=\"color: #008080; text-decoration-color: #008080; font-weight: bold\">11</span>,<span style=\"font-weight: bold\">)</span>\n",
       "</pre>\n"
      ],
      "text/plain": [
       "\u001b[1;36m0.00000\u001b[0m         \u001b[1m(\u001b[0m\u001b[1;36m11\u001b[0m,\u001b[1m)\u001b[0m\n"
      ]
     },
     "metadata": {},
     "output_type": "display_data"
    },
    {
     "data": {
      "text/html": [
       "<pre style=\"white-space:pre;overflow-x:auto;line-height:normal;font-family:Menlo,'DejaVu Sans Mono',consolas,'Courier New',monospace\"><span style=\"color: #008080; text-decoration-color: #008080; font-weight: bold\">0.00000</span>         <span style=\"font-weight: bold\">(</span><span style=\"color: #008080; text-decoration-color: #008080; font-weight: bold\">4</span>,<span style=\"font-weight: bold\">)</span>\n",
       "</pre>\n"
      ],
      "text/plain": [
       "\u001b[1;36m0.00000\u001b[0m         \u001b[1m(\u001b[0m\u001b[1;36m4\u001b[0m,\u001b[1m)\u001b[0m\n"
      ]
     },
     "metadata": {},
     "output_type": "display_data"
    },
    {
     "data": {
      "text/html": [
       "<pre style=\"white-space:pre;overflow-x:auto;line-height:normal;font-family:Menlo,'DejaVu Sans Mono',consolas,'Courier New',monospace\"><span style=\"color: #008080; text-decoration-color: #008080; font-weight: bold\">0.00000</span>         <span style=\"font-weight: bold\">(</span><span style=\"color: #008080; text-decoration-color: #008080; font-weight: bold\">46</span>,<span style=\"font-weight: bold\">)</span>\n",
       "</pre>\n"
      ],
      "text/plain": [
       "\u001b[1;36m0.00000\u001b[0m         \u001b[1m(\u001b[0m\u001b[1;36m46\u001b[0m,\u001b[1m)\u001b[0m\n"
      ]
     },
     "metadata": {},
     "output_type": "display_data"
    },
    {
     "data": {
      "text/html": [
       "<pre style=\"white-space:pre;overflow-x:auto;line-height:normal;font-family:Menlo,'DejaVu Sans Mono',consolas,'Courier New',monospace\"><span style=\"color: #008080; text-decoration-color: #008080; font-weight: bold\">0.00000</span>         <span style=\"font-weight: bold\">(</span><span style=\"color: #008080; text-decoration-color: #008080; font-weight: bold\">39</span>,<span style=\"font-weight: bold\">)</span>\n",
       "</pre>\n"
      ],
      "text/plain": [
       "\u001b[1;36m0.00000\u001b[0m         \u001b[1m(\u001b[0m\u001b[1;36m39\u001b[0m,\u001b[1m)\u001b[0m\n"
      ]
     },
     "metadata": {},
     "output_type": "display_data"
    },
    {
     "data": {
      "text/html": [
       "<pre style=\"white-space:pre;overflow-x:auto;line-height:normal;font-family:Menlo,'DejaVu Sans Mono',consolas,'Courier New',monospace\"><span style=\"color: #008080; text-decoration-color: #008080; font-weight: bold\">0.00000</span>         <span style=\"font-weight: bold\">(</span><span style=\"color: #008080; text-decoration-color: #008080; font-weight: bold\">48</span>,<span style=\"font-weight: bold\">)</span>\n",
       "</pre>\n"
      ],
      "text/plain": [
       "\u001b[1;36m0.00000\u001b[0m         \u001b[1m(\u001b[0m\u001b[1;36m48\u001b[0m,\u001b[1m)\u001b[0m\n"
      ]
     },
     "metadata": {},
     "output_type": "display_data"
    },
    {
     "data": {
      "text/html": [
       "<pre style=\"white-space:pre;overflow-x:auto;line-height:normal;font-family:Menlo,'DejaVu Sans Mono',consolas,'Courier New',monospace\"><span style=\"color: #008080; text-decoration-color: #008080; font-weight: bold\">0.00000</span>         <span style=\"font-weight: bold\">(</span><span style=\"color: #008080; text-decoration-color: #008080; font-weight: bold\">32</span>,<span style=\"font-weight: bold\">)</span>\n",
       "</pre>\n"
      ],
      "text/plain": [
       "\u001b[1;36m0.00000\u001b[0m         \u001b[1m(\u001b[0m\u001b[1;36m32\u001b[0m,\u001b[1m)\u001b[0m\n"
      ]
     },
     "metadata": {},
     "output_type": "display_data"
    },
    {
     "data": {
      "text/html": [
       "<pre style=\"white-space:pre;overflow-x:auto;line-height:normal;font-family:Menlo,'DejaVu Sans Mono',consolas,'Courier New',monospace\"><span style=\"color: #008080; text-decoration-color: #008080; font-weight: bold\">0.00000</span>         <span style=\"font-weight: bold\">(</span><span style=\"color: #008080; text-decoration-color: #008080; font-weight: bold\">41</span>,<span style=\"font-weight: bold\">)</span>\n",
       "</pre>\n"
      ],
      "text/plain": [
       "\u001b[1;36m0.00000\u001b[0m         \u001b[1m(\u001b[0m\u001b[1;36m41\u001b[0m,\u001b[1m)\u001b[0m\n"
      ]
     },
     "metadata": {},
     "output_type": "display_data"
    },
    {
     "data": {
      "text/html": [
       "<pre style=\"white-space:pre;overflow-x:auto;line-height:normal;font-family:Menlo,'DejaVu Sans Mono',consolas,'Courier New',monospace\"><span style=\"color: #008080; text-decoration-color: #008080; font-weight: bold\">0.00000</span>         <span style=\"font-weight: bold\">(</span><span style=\"color: #008080; text-decoration-color: #008080; font-weight: bold\">34</span>,<span style=\"font-weight: bold\">)</span>\n",
       "</pre>\n"
      ],
      "text/plain": [
       "\u001b[1;36m0.00000\u001b[0m         \u001b[1m(\u001b[0m\u001b[1;36m34\u001b[0m,\u001b[1m)\u001b[0m\n"
      ]
     },
     "metadata": {},
     "output_type": "display_data"
    },
    {
     "data": {
      "text/html": [
       "<pre style=\"white-space:pre;overflow-x:auto;line-height:normal;font-family:Menlo,'DejaVu Sans Mono',consolas,'Courier New',monospace\"><span style=\"color: #008080; text-decoration-color: #008080; font-weight: bold\">0.00000</span>         <span style=\"font-weight: bold\">(</span><span style=\"color: #008080; text-decoration-color: #008080; font-weight: bold\">43</span>,<span style=\"font-weight: bold\">)</span>\n",
       "</pre>\n"
      ],
      "text/plain": [
       "\u001b[1;36m0.00000\u001b[0m         \u001b[1m(\u001b[0m\u001b[1;36m43\u001b[0m,\u001b[1m)\u001b[0m\n"
      ]
     },
     "metadata": {},
     "output_type": "display_data"
    },
    {
     "data": {
      "text/html": [
       "<pre style=\"white-space:pre;overflow-x:auto;line-height:normal;font-family:Menlo,'DejaVu Sans Mono',consolas,'Courier New',monospace\"><span style=\"color: #008080; text-decoration-color: #008080; font-weight: bold\">0.00000</span>         <span style=\"font-weight: bold\">(</span><span style=\"color: #008080; text-decoration-color: #008080; font-weight: bold\">27</span>,<span style=\"font-weight: bold\">)</span>\n",
       "</pre>\n"
      ],
      "text/plain": [
       "\u001b[1;36m0.00000\u001b[0m         \u001b[1m(\u001b[0m\u001b[1;36m27\u001b[0m,\u001b[1m)\u001b[0m\n"
      ]
     },
     "metadata": {},
     "output_type": "display_data"
    },
    {
     "data": {
      "text/html": [
       "<pre style=\"white-space:pre;overflow-x:auto;line-height:normal;font-family:Menlo,'DejaVu Sans Mono',consolas,'Courier New',monospace\"><span style=\"color: #008080; text-decoration-color: #008080; font-weight: bold\">0.00000</span>         <span style=\"font-weight: bold\">(</span><span style=\"color: #008080; text-decoration-color: #008080; font-weight: bold\">36</span>,<span style=\"font-weight: bold\">)</span>\n",
       "</pre>\n"
      ],
      "text/plain": [
       "\u001b[1;36m0.00000\u001b[0m         \u001b[1m(\u001b[0m\u001b[1;36m36\u001b[0m,\u001b[1m)\u001b[0m\n"
      ]
     },
     "metadata": {},
     "output_type": "display_data"
    },
    {
     "data": {
      "text/html": [
       "<pre style=\"white-space:pre;overflow-x:auto;line-height:normal;font-family:Menlo,'DejaVu Sans Mono',consolas,'Courier New',monospace\"><span style=\"color: #008080; text-decoration-color: #008080; font-weight: bold\">0.00000</span>         <span style=\"font-weight: bold\">(</span><span style=\"color: #008080; text-decoration-color: #008080; font-weight: bold\">45</span>,<span style=\"font-weight: bold\">)</span>\n",
       "</pre>\n"
      ],
      "text/plain": [
       "\u001b[1;36m0.00000\u001b[0m         \u001b[1m(\u001b[0m\u001b[1;36m45\u001b[0m,\u001b[1m)\u001b[0m\n"
      ]
     },
     "metadata": {},
     "output_type": "display_data"
    },
    {
     "data": {
      "text/html": [
       "<pre style=\"white-space:pre;overflow-x:auto;line-height:normal;font-family:Menlo,'DejaVu Sans Mono',consolas,'Courier New',monospace\"><span style=\"color: #008080; text-decoration-color: #008080; font-weight: bold\">0.00000</span>         <span style=\"font-weight: bold\">(</span><span style=\"color: #008080; text-decoration-color: #008080; font-weight: bold\">6</span>,<span style=\"font-weight: bold\">)</span>\n",
       "</pre>\n"
      ],
      "text/plain": [
       "\u001b[1;36m0.00000\u001b[0m         \u001b[1m(\u001b[0m\u001b[1;36m6\u001b[0m,\u001b[1m)\u001b[0m\n"
      ]
     },
     "metadata": {},
     "output_type": "display_data"
    },
    {
     "data": {
      "text/html": [
       "<pre style=\"white-space:pre;overflow-x:auto;line-height:normal;font-family:Menlo,'DejaVu Sans Mono',consolas,'Courier New',monospace\"><span style=\"color: #008080; text-decoration-color: #008080; font-weight: bold\">0.00000</span>         <span style=\"font-weight: bold\">(</span><span style=\"color: #008080; text-decoration-color: #008080; font-weight: bold\">2</span>,<span style=\"font-weight: bold\">)</span>\n",
       "</pre>\n"
      ],
      "text/plain": [
       "\u001b[1;36m0.00000\u001b[0m         \u001b[1m(\u001b[0m\u001b[1;36m2\u001b[0m,\u001b[1m)\u001b[0m\n"
      ]
     },
     "metadata": {},
     "output_type": "display_data"
    },
    {
     "data": {
      "text/html": [
       "<pre style=\"white-space:pre;overflow-x:auto;line-height:normal;font-family:Menlo,'DejaVu Sans Mono',consolas,'Courier New',monospace\"><span style=\"color: #008080; text-decoration-color: #008080; font-weight: bold\">0.00000</span>         <span style=\"font-weight: bold\">(</span><span style=\"color: #008080; text-decoration-color: #008080; font-weight: bold\">38</span>,<span style=\"font-weight: bold\">)</span>\n",
       "</pre>\n"
      ],
      "text/plain": [
       "\u001b[1;36m0.00000\u001b[0m         \u001b[1m(\u001b[0m\u001b[1;36m38\u001b[0m,\u001b[1m)\u001b[0m\n"
      ]
     },
     "metadata": {},
     "output_type": "display_data"
    },
    {
     "data": {
      "text/html": [
       "<pre style=\"white-space:pre;overflow-x:auto;line-height:normal;font-family:Menlo,'DejaVu Sans Mono',consolas,'Courier New',monospace\"><span style=\"color: #008080; text-decoration-color: #008080; font-weight: bold\">0.01616</span>         <span style=\"font-weight: bold\">(</span><span style=\"color: #008080; text-decoration-color: #008080; font-weight: bold\">2</span>, <span style=\"color: #008080; text-decoration-color: #008080; font-weight: bold\">32</span><span style=\"font-weight: bold\">)</span>\n",
       "</pre>\n"
      ],
      "text/plain": [
       "\u001b[1;36m0.01616\u001b[0m         \u001b[1m(\u001b[0m\u001b[1;36m2\u001b[0m, \u001b[1;36m32\u001b[0m\u001b[1m)\u001b[0m\n"
      ]
     },
     "metadata": {},
     "output_type": "display_data"
    },
    {
     "data": {
      "text/html": [
       "<pre style=\"white-space:pre;overflow-x:auto;line-height:normal;font-family:Menlo,'DejaVu Sans Mono',consolas,'Courier New',monospace\"><span style=\"color: #008080; text-decoration-color: #008080; font-weight: bold\">0.01637</span>         <span style=\"font-weight: bold\">(</span><span style=\"color: #008080; text-decoration-color: #008080; font-weight: bold\">24</span>, <span style=\"color: #008080; text-decoration-color: #008080; font-weight: bold\">46</span><span style=\"font-weight: bold\">)</span>\n",
       "</pre>\n"
      ],
      "text/plain": [
       "\u001b[1;36m0.01637\u001b[0m         \u001b[1m(\u001b[0m\u001b[1;36m24\u001b[0m, \u001b[1;36m46\u001b[0m\u001b[1m)\u001b[0m\n"
      ]
     },
     "metadata": {},
     "output_type": "display_data"
    },
    {
     "data": {
      "text/html": [
       "<pre style=\"white-space:pre;overflow-x:auto;line-height:normal;font-family:Menlo,'DejaVu Sans Mono',consolas,'Courier New',monospace\"><span style=\"color: #008080; text-decoration-color: #008080; font-weight: bold\">0.01884</span>         <span style=\"font-weight: bold\">(</span><span style=\"color: #008080; text-decoration-color: #008080; font-weight: bold\">6</span>, <span style=\"color: #008080; text-decoration-color: #008080; font-weight: bold\">38</span><span style=\"font-weight: bold\">)</span>\n",
       "</pre>\n"
      ],
      "text/plain": [
       "\u001b[1;36m0.01884\u001b[0m         \u001b[1m(\u001b[0m\u001b[1;36m6\u001b[0m, \u001b[1;36m38\u001b[0m\u001b[1m)\u001b[0m\n"
      ]
     },
     "metadata": {},
     "output_type": "display_data"
    },
    {
     "data": {
      "text/html": [
       "<pre style=\"white-space:pre;overflow-x:auto;line-height:normal;font-family:Menlo,'DejaVu Sans Mono',consolas,'Courier New',monospace\"><span style=\"color: #008080; text-decoration-color: #008080; font-weight: bold\">0.01951</span>         <span style=\"font-weight: bold\">(</span><span style=\"color: #008080; text-decoration-color: #008080; font-weight: bold\">29</span>, <span style=\"color: #008080; text-decoration-color: #008080; font-weight: bold\">49</span><span style=\"font-weight: bold\">)</span>\n",
       "</pre>\n"
      ],
      "text/plain": [
       "\u001b[1;36m0.01951\u001b[0m         \u001b[1m(\u001b[0m\u001b[1;36m29\u001b[0m, \u001b[1;36m49\u001b[0m\u001b[1m)\u001b[0m\n"
      ]
     },
     "metadata": {},
     "output_type": "display_data"
    },
    {
     "data": {
      "text/html": [
       "<pre style=\"white-space:pre;overflow-x:auto;line-height:normal;font-family:Menlo,'DejaVu Sans Mono',consolas,'Courier New',monospace\"><span style=\"color: #008080; text-decoration-color: #008080; font-weight: bold\">0.02119</span>         <span style=\"font-weight: bold\">(</span><span style=\"color: #008080; text-decoration-color: #008080; font-weight: bold\">1</span>, <span style=\"color: #008080; text-decoration-color: #008080; font-weight: bold\">9</span><span style=\"font-weight: bold\">)</span>\n",
       "</pre>\n"
      ],
      "text/plain": [
       "\u001b[1;36m0.02119\u001b[0m         \u001b[1m(\u001b[0m\u001b[1;36m1\u001b[0m, \u001b[1;36m9\u001b[0m\u001b[1m)\u001b[0m\n"
      ]
     },
     "metadata": {},
     "output_type": "display_data"
    },
    {
     "data": {
      "text/html": [
       "<pre style=\"white-space:pre;overflow-x:auto;line-height:normal;font-family:Menlo,'DejaVu Sans Mono',consolas,'Courier New',monospace\"><span style=\"color: #008080; text-decoration-color: #008080; font-weight: bold\">0.02384</span>         <span style=\"font-weight: bold\">(</span><span style=\"color: #008080; text-decoration-color: #008080; font-weight: bold\">5</span>, <span style=\"color: #008080; text-decoration-color: #008080; font-weight: bold\">35</span><span style=\"font-weight: bold\">)</span>\n",
       "</pre>\n"
      ],
      "text/plain": [
       "\u001b[1;36m0.02384\u001b[0m         \u001b[1m(\u001b[0m\u001b[1;36m5\u001b[0m, \u001b[1;36m35\u001b[0m\u001b[1m)\u001b[0m\n"
      ]
     },
     "metadata": {},
     "output_type": "display_data"
    },
    {
     "data": {
      "text/html": [
       "<pre style=\"white-space:pre;overflow-x:auto;line-height:normal;font-family:Menlo,'DejaVu Sans Mono',consolas,'Courier New',monospace\"><span style=\"color: #008080; text-decoration-color: #008080; font-weight: bold\">0.02483</span>         <span style=\"font-weight: bold\">(</span><span style=\"color: #008080; text-decoration-color: #008080; font-weight: bold\">12</span>, <span style=\"color: #008080; text-decoration-color: #008080; font-weight: bold\">32</span><span style=\"font-weight: bold\">)</span>\n",
       "</pre>\n"
      ],
      "text/plain": [
       "\u001b[1;36m0.02483\u001b[0m         \u001b[1m(\u001b[0m\u001b[1;36m12\u001b[0m, \u001b[1;36m32\u001b[0m\u001b[1m)\u001b[0m\n"
      ]
     },
     "metadata": {},
     "output_type": "display_data"
    },
    {
     "data": {
      "text/html": [
       "<pre style=\"white-space:pre;overflow-x:auto;line-height:normal;font-family:Menlo,'DejaVu Sans Mono',consolas,'Courier New',monospace\"><span style=\"color: #008080; text-decoration-color: #008080; font-weight: bold\">0.02589</span>         <span style=\"font-weight: bold\">(</span><span style=\"color: #008080; text-decoration-color: #008080; font-weight: bold\">2</span>, <span style=\"color: #008080; text-decoration-color: #008080; font-weight: bold\">6</span><span style=\"font-weight: bold\">)</span>\n",
       "</pre>\n"
      ],
      "text/plain": [
       "\u001b[1;36m0.02589\u001b[0m         \u001b[1m(\u001b[0m\u001b[1;36m2\u001b[0m, \u001b[1;36m6\u001b[0m\u001b[1m)\u001b[0m\n"
      ]
     },
     "metadata": {},
     "output_type": "display_data"
    },
    {
     "data": {
      "text/html": [
       "<pre style=\"white-space:pre;overflow-x:auto;line-height:normal;font-family:Menlo,'DejaVu Sans Mono',consolas,'Courier New',monospace\"><span style=\"color: #008080; text-decoration-color: #008080; font-weight: bold\">0.02593</span>         <span style=\"font-weight: bold\">(</span><span style=\"color: #008080; text-decoration-color: #008080; font-weight: bold\">1</span>, <span style=\"color: #008080; text-decoration-color: #008080; font-weight: bold\">47</span><span style=\"font-weight: bold\">)</span>\n",
       "</pre>\n"
      ],
      "text/plain": [
       "\u001b[1;36m0.02593\u001b[0m         \u001b[1m(\u001b[0m\u001b[1;36m1\u001b[0m, \u001b[1;36m47\u001b[0m\u001b[1m)\u001b[0m\n"
      ]
     },
     "metadata": {},
     "output_type": "display_data"
    },
    {
     "data": {
      "text/html": [
       "<pre style=\"white-space:pre;overflow-x:auto;line-height:normal;font-family:Menlo,'DejaVu Sans Mono',consolas,'Courier New',monospace\"><span style=\"color: #008080; text-decoration-color: #008080; font-weight: bold\">0.02828</span>         <span style=\"font-weight: bold\">(</span><span style=\"color: #008080; text-decoration-color: #008080; font-weight: bold\">6</span>, <span style=\"color: #008080; text-decoration-color: #008080; font-weight: bold\">27</span><span style=\"font-weight: bold\">)</span>\n",
       "</pre>\n"
      ],
      "text/plain": [
       "\u001b[1;36m0.02828\u001b[0m         \u001b[1m(\u001b[0m\u001b[1;36m6\u001b[0m, \u001b[1;36m27\u001b[0m\u001b[1m)\u001b[0m\n"
      ]
     },
     "metadata": {},
     "output_type": "display_data"
    },
    {
     "data": {
      "text/html": [
       "<pre style=\"white-space:pre;overflow-x:auto;line-height:normal;font-family:Menlo,'DejaVu Sans Mono',consolas,'Courier New',monospace\"><span style=\"color: #008080; text-decoration-color: #008080; font-weight: bold\">0.02841</span>         <span style=\"font-weight: bold\">(</span><span style=\"color: #008080; text-decoration-color: #008080; font-weight: bold\">18</span>, <span style=\"color: #008080; text-decoration-color: #008080; font-weight: bold\">28</span><span style=\"font-weight: bold\">)</span>\n",
       "</pre>\n"
      ],
      "text/plain": [
       "\u001b[1;36m0.02841\u001b[0m         \u001b[1m(\u001b[0m\u001b[1;36m18\u001b[0m, \u001b[1;36m28\u001b[0m\u001b[1m)\u001b[0m\n"
      ]
     },
     "metadata": {},
     "output_type": "display_data"
    },
    {
     "data": {
      "text/html": [
       "<pre style=\"white-space:pre;overflow-x:auto;line-height:normal;font-family:Menlo,'DejaVu Sans Mono',consolas,'Courier New',monospace\"><span style=\"color: #008080; text-decoration-color: #008080; font-weight: bold\">0.02918</span>         <span style=\"font-weight: bold\">(</span><span style=\"color: #008080; text-decoration-color: #008080; font-weight: bold\">20</span>, <span style=\"color: #008080; text-decoration-color: #008080; font-weight: bold\">27</span><span style=\"font-weight: bold\">)</span>\n",
       "</pre>\n"
      ],
      "text/plain": [
       "\u001b[1;36m0.02918\u001b[0m         \u001b[1m(\u001b[0m\u001b[1;36m20\u001b[0m, \u001b[1;36m27\u001b[0m\u001b[1m)\u001b[0m\n"
      ]
     },
     "metadata": {},
     "output_type": "display_data"
    },
    {
     "data": {
      "text/html": [
       "<pre style=\"white-space:pre;overflow-x:auto;line-height:normal;font-family:Menlo,'DejaVu Sans Mono',consolas,'Courier New',monospace\"><span style=\"color: #008080; text-decoration-color: #008080; font-weight: bold\">0.02944</span>         <span style=\"font-weight: bold\">(</span><span style=\"color: #008080; text-decoration-color: #008080; font-weight: bold\">2</span>, <span style=\"color: #008080; text-decoration-color: #008080; font-weight: bold\">38</span><span style=\"font-weight: bold\">)</span>\n",
       "</pre>\n"
      ],
      "text/plain": [
       "\u001b[1;36m0.02944\u001b[0m         \u001b[1m(\u001b[0m\u001b[1;36m2\u001b[0m, \u001b[1;36m38\u001b[0m\u001b[1m)\u001b[0m\n"
      ]
     },
     "metadata": {},
     "output_type": "display_data"
    },
    {
     "data": {
      "text/html": [
       "<pre style=\"white-space:pre;overflow-x:auto;line-height:normal;font-family:Menlo,'DejaVu Sans Mono',consolas,'Courier New',monospace\"><span style=\"color: #008080; text-decoration-color: #008080; font-weight: bold\">0.02976</span>         <span style=\"font-weight: bold\">(</span><span style=\"color: #008080; text-decoration-color: #008080; font-weight: bold\">17</span>, <span style=\"color: #008080; text-decoration-color: #008080; font-weight: bold\">42</span><span style=\"font-weight: bold\">)</span>\n",
       "</pre>\n"
      ],
      "text/plain": [
       "\u001b[1;36m0.02976\u001b[0m         \u001b[1m(\u001b[0m\u001b[1;36m17\u001b[0m, \u001b[1;36m42\u001b[0m\u001b[1m)\u001b[0m\n"
      ]
     },
     "metadata": {},
     "output_type": "display_data"
    },
    {
     "data": {
      "text/html": [
       "<pre style=\"white-space:pre;overflow-x:auto;line-height:normal;font-family:Menlo,'DejaVu Sans Mono',consolas,'Courier New',monospace\"><span style=\"color: #008080; text-decoration-color: #008080; font-weight: bold\">0.02983</span>         <span style=\"font-weight: bold\">(</span><span style=\"color: #008080; text-decoration-color: #008080; font-weight: bold\">2</span>, <span style=\"color: #008080; text-decoration-color: #008080; font-weight: bold\">6</span>, <span style=\"color: #008080; text-decoration-color: #008080; font-weight: bold\">38</span><span style=\"font-weight: bold\">)</span>\n",
       "</pre>\n"
      ],
      "text/plain": [
       "\u001b[1;36m0.02983\u001b[0m         \u001b[1m(\u001b[0m\u001b[1;36m2\u001b[0m, \u001b[1;36m6\u001b[0m, \u001b[1;36m38\u001b[0m\u001b[1m)\u001b[0m\n"
      ]
     },
     "metadata": {},
     "output_type": "display_data"
    },
    {
     "data": {
      "text/html": [
       "<pre style=\"white-space:pre;overflow-x:auto;line-height:normal;font-family:Menlo,'DejaVu Sans Mono',consolas,'Courier New',monospace\"><span style=\"color: #008080; text-decoration-color: #008080; font-weight: bold\">0.03148</span>         <span style=\"font-weight: bold\">(</span><span style=\"color: #008080; text-decoration-color: #008080; font-weight: bold\">3</span>, <span style=\"color: #008080; text-decoration-color: #008080; font-weight: bold\">31</span><span style=\"font-weight: bold\">)</span>\n",
       "</pre>\n"
      ],
      "text/plain": [
       "\u001b[1;36m0.03148\u001b[0m         \u001b[1m(\u001b[0m\u001b[1;36m3\u001b[0m, \u001b[1;36m31\u001b[0m\u001b[1m)\u001b[0m\n"
      ]
     },
     "metadata": {},
     "output_type": "display_data"
    },
    {
     "data": {
      "text/html": [
       "<pre style=\"white-space:pre;overflow-x:auto;line-height:normal;font-family:Menlo,'DejaVu Sans Mono',consolas,'Courier New',monospace\"><span style=\"color: #008080; text-decoration-color: #008080; font-weight: bold\">0.03245</span>         <span style=\"font-weight: bold\">(</span><span style=\"color: #008080; text-decoration-color: #008080; font-weight: bold\">6</span>, <span style=\"color: #008080; text-decoration-color: #008080; font-weight: bold\">20</span><span style=\"font-weight: bold\">)</span>\n",
       "</pre>\n"
      ],
      "text/plain": [
       "\u001b[1;36m0.03245\u001b[0m         \u001b[1m(\u001b[0m\u001b[1;36m6\u001b[0m, \u001b[1;36m20\u001b[0m\u001b[1m)\u001b[0m\n"
      ]
     },
     "metadata": {},
     "output_type": "display_data"
    },
    {
     "data": {
      "text/html": [
       "<pre style=\"white-space:pre;overflow-x:auto;line-height:normal;font-family:Menlo,'DejaVu Sans Mono',consolas,'Courier New',monospace\"><span style=\"color: #008080; text-decoration-color: #008080; font-weight: bold\">0.03278</span>         <span style=\"font-weight: bold\">(</span><span style=\"color: #008080; text-decoration-color: #008080; font-weight: bold\">7</span>, <span style=\"color: #008080; text-decoration-color: #008080; font-weight: bold\">40</span><span style=\"font-weight: bold\">)</span>\n",
       "</pre>\n"
      ],
      "text/plain": [
       "\u001b[1;36m0.03278\u001b[0m         \u001b[1m(\u001b[0m\u001b[1;36m7\u001b[0m, \u001b[1;36m40\u001b[0m\u001b[1m)\u001b[0m\n"
      ]
     },
     "metadata": {},
     "output_type": "display_data"
    },
    {
     "data": {
      "text/html": [
       "<pre style=\"white-space:pre;overflow-x:auto;line-height:normal;font-family:Menlo,'DejaVu Sans Mono',consolas,'Courier New',monospace\"><span style=\"color: #008080; text-decoration-color: #008080; font-weight: bold\">0.03330</span>         <span style=\"font-weight: bold\">(</span><span style=\"color: #008080; text-decoration-color: #008080; font-weight: bold\">4</span>, <span style=\"color: #008080; text-decoration-color: #008080; font-weight: bold\">28</span><span style=\"font-weight: bold\">)</span>\n",
       "</pre>\n"
      ],
      "text/plain": [
       "\u001b[1;36m0.03330\u001b[0m         \u001b[1m(\u001b[0m\u001b[1;36m4\u001b[0m, \u001b[1;36m28\u001b[0m\u001b[1m)\u001b[0m\n"
      ]
     },
     "metadata": {},
     "output_type": "display_data"
    },
    {
     "data": {
      "text/html": [
       "<pre style=\"white-space:pre;overflow-x:auto;line-height:normal;font-family:Menlo,'DejaVu Sans Mono',consolas,'Courier New',monospace\"><span style=\"color: #008080; text-decoration-color: #008080; font-weight: bold\">0.03482</span>         <span style=\"font-weight: bold\">(</span><span style=\"color: #008080; text-decoration-color: #008080; font-weight: bold\">6</span>, <span style=\"color: #008080; text-decoration-color: #008080; font-weight: bold\">20</span>, <span style=\"color: #008080; text-decoration-color: #008080; font-weight: bold\">27</span><span style=\"font-weight: bold\">)</span>\n",
       "</pre>\n"
      ],
      "text/plain": [
       "\u001b[1;36m0.03482\u001b[0m         \u001b[1m(\u001b[0m\u001b[1;36m6\u001b[0m, \u001b[1;36m20\u001b[0m, \u001b[1;36m27\u001b[0m\u001b[1m)\u001b[0m\n"
      ]
     },
     "metadata": {},
     "output_type": "display_data"
    },
    {
     "data": {
      "text/html": [
       "<pre style=\"white-space:pre;overflow-x:auto;line-height:normal;font-family:Menlo,'DejaVu Sans Mono',consolas,'Courier New',monospace\"><span style=\"color: #008080; text-decoration-color: #008080; font-weight: bold\">0.03594</span>         <span style=\"font-weight: bold\">(</span><span style=\"color: #008080; text-decoration-color: #008080; font-weight: bold\">39</span>, <span style=\"color: #008080; text-decoration-color: #008080; font-weight: bold\">47</span><span style=\"font-weight: bold\">)</span>\n",
       "</pre>\n"
      ],
      "text/plain": [
       "\u001b[1;36m0.03594\u001b[0m         \u001b[1m(\u001b[0m\u001b[1;36m39\u001b[0m, \u001b[1;36m47\u001b[0m\u001b[1m)\u001b[0m\n"
      ]
     },
     "metadata": {},
     "output_type": "display_data"
    },
    {
     "data": {
      "text/html": [
       "<pre style=\"white-space:pre;overflow-x:auto;line-height:normal;font-family:Menlo,'DejaVu Sans Mono',consolas,'Courier New',monospace\"><span style=\"color: #008080; text-decoration-color: #008080; font-weight: bold\">0.03797</span>         <span style=\"font-weight: bold\">(</span><span style=\"color: #008080; text-decoration-color: #008080; font-weight: bold\">1</span>, <span style=\"color: #008080; text-decoration-color: #008080; font-weight: bold\">9</span>, <span style=\"color: #008080; text-decoration-color: #008080; font-weight: bold\">47</span><span style=\"font-weight: bold\">)</span>\n",
       "</pre>\n"
      ],
      "text/plain": [
       "\u001b[1;36m0.03797\u001b[0m         \u001b[1m(\u001b[0m\u001b[1;36m1\u001b[0m, \u001b[1;36m9\u001b[0m, \u001b[1;36m47\u001b[0m\u001b[1m)\u001b[0m\n"
      ]
     },
     "metadata": {},
     "output_type": "display_data"
    },
    {
     "data": {
      "text/html": [
       "<pre style=\"white-space:pre;overflow-x:auto;line-height:normal;font-family:Menlo,'DejaVu Sans Mono',consolas,'Courier New',monospace\"><span style=\"color: #008080; text-decoration-color: #008080; font-weight: bold\">0.03797</span>         <span style=\"font-weight: bold\">(</span><span style=\"color: #008080; text-decoration-color: #008080; font-weight: bold\">9</span>, <span style=\"color: #008080; text-decoration-color: #008080; font-weight: bold\">47</span><span style=\"font-weight: bold\">)</span>\n",
       "</pre>\n"
      ],
      "text/plain": [
       "\u001b[1;36m0.03797\u001b[0m         \u001b[1m(\u001b[0m\u001b[1;36m9\u001b[0m, \u001b[1;36m47\u001b[0m\u001b[1m)\u001b[0m\n"
      ]
     },
     "metadata": {},
     "output_type": "display_data"
    },
    {
     "data": {
      "text/html": [
       "<pre style=\"white-space:pre;overflow-x:auto;line-height:normal;font-family:Menlo,'DejaVu Sans Mono',consolas,'Courier New',monospace\"><span style=\"color: #008080; text-decoration-color: #008080; font-weight: bold\">0.03856</span>         <span style=\"font-weight: bold\">(</span><span style=\"color: #008080; text-decoration-color: #008080; font-weight: bold\">31</span>, <span style=\"color: #008080; text-decoration-color: #008080; font-weight: bold\">48</span><span style=\"font-weight: bold\">)</span>\n",
       "</pre>\n"
      ],
      "text/plain": [
       "\u001b[1;36m0.03856\u001b[0m         \u001b[1m(\u001b[0m\u001b[1;36m31\u001b[0m, \u001b[1;36m48\u001b[0m\u001b[1m)\u001b[0m\n"
      ]
     },
     "metadata": {},
     "output_type": "display_data"
    },
    {
     "data": {
      "text/html": [
       "<pre style=\"white-space:pre;overflow-x:auto;line-height:normal;font-family:Menlo,'DejaVu Sans Mono',consolas,'Courier New',monospace\"><span style=\"color: #008080; text-decoration-color: #008080; font-weight: bold\">0.03978</span>         <span style=\"font-weight: bold\">(</span><span style=\"color: #008080; text-decoration-color: #008080; font-weight: bold\">32</span>, <span style=\"color: #008080; text-decoration-color: #008080; font-weight: bold\">38</span><span style=\"font-weight: bold\">)</span>\n",
       "</pre>\n"
      ],
      "text/plain": [
       "\u001b[1;36m0.03978\u001b[0m         \u001b[1m(\u001b[0m\u001b[1;36m32\u001b[0m, \u001b[1;36m38\u001b[0m\u001b[1m)\u001b[0m\n"
      ]
     },
     "metadata": {},
     "output_type": "display_data"
    },
    {
     "data": {
      "text/html": [
       "<pre style=\"white-space:pre;overflow-x:auto;line-height:normal;font-family:Menlo,'DejaVu Sans Mono',consolas,'Courier New',monospace\"><span style=\"color: #008080; text-decoration-color: #008080; font-weight: bold\">0.03978</span>         <span style=\"font-weight: bold\">(</span><span style=\"color: #008080; text-decoration-color: #008080; font-weight: bold\">2</span>, <span style=\"color: #008080; text-decoration-color: #008080; font-weight: bold\">32</span>, <span style=\"color: #008080; text-decoration-color: #008080; font-weight: bold\">38</span><span style=\"font-weight: bold\">)</span>\n",
       "</pre>\n"
      ],
      "text/plain": [
       "\u001b[1;36m0.03978\u001b[0m         \u001b[1m(\u001b[0m\u001b[1;36m2\u001b[0m, \u001b[1;36m32\u001b[0m, \u001b[1;36m38\u001b[0m\u001b[1m)\u001b[0m\n"
      ]
     },
     "metadata": {},
     "output_type": "display_data"
    },
    {
     "data": {
      "text/html": [
       "<pre style=\"white-space:pre;overflow-x:auto;line-height:normal;font-family:Menlo,'DejaVu Sans Mono',consolas,'Courier New',monospace\"><span style=\"color: #008080; text-decoration-color: #008080; font-weight: bold\">0.04229</span>         <span style=\"font-weight: bold\">(</span><span style=\"color: #008080; text-decoration-color: #008080; font-weight: bold\">23</span>, <span style=\"color: #008080; text-decoration-color: #008080; font-weight: bold\">25</span><span style=\"font-weight: bold\">)</span>\n",
       "</pre>\n"
      ],
      "text/plain": [
       "\u001b[1;36m0.04229\u001b[0m         \u001b[1m(\u001b[0m\u001b[1;36m23\u001b[0m, \u001b[1;36m25\u001b[0m\u001b[1m)\u001b[0m\n"
      ]
     },
     "metadata": {},
     "output_type": "display_data"
    },
    {
     "data": {
      "text/html": [
       "<pre style=\"white-space:pre;overflow-x:auto;line-height:normal;font-family:Menlo,'DejaVu Sans Mono',consolas,'Courier New',monospace\"><span style=\"color: #008080; text-decoration-color: #008080; font-weight: bold\">0.04350</span>         <span style=\"font-weight: bold\">(</span><span style=\"color: #008080; text-decoration-color: #008080; font-weight: bold\">6</span>, <span style=\"color: #008080; text-decoration-color: #008080; font-weight: bold\">20</span>, <span style=\"color: #008080; text-decoration-color: #008080; font-weight: bold\">38</span><span style=\"font-weight: bold\">)</span>\n",
       "</pre>\n"
      ],
      "text/plain": [
       "\u001b[1;36m0.04350\u001b[0m         \u001b[1m(\u001b[0m\u001b[1;36m6\u001b[0m, \u001b[1;36m20\u001b[0m, \u001b[1;36m38\u001b[0m\u001b[1m)\u001b[0m\n"
      ]
     },
     "metadata": {},
     "output_type": "display_data"
    },
    {
     "data": {
      "text/html": [
       "<pre style=\"white-space:pre;overflow-x:auto;line-height:normal;font-family:Menlo,'DejaVu Sans Mono',consolas,'Courier New',monospace\"><span style=\"color: #008080; text-decoration-color: #008080; font-weight: bold\">0.04350</span>         <span style=\"font-weight: bold\">(</span><span style=\"color: #008080; text-decoration-color: #008080; font-weight: bold\">20</span>, <span style=\"color: #008080; text-decoration-color: #008080; font-weight: bold\">38</span><span style=\"font-weight: bold\">)</span>\n",
       "</pre>\n"
      ],
      "text/plain": [
       "\u001b[1;36m0.04350\u001b[0m         \u001b[1m(\u001b[0m\u001b[1;36m20\u001b[0m, \u001b[1;36m38\u001b[0m\u001b[1m)\u001b[0m\n"
      ]
     },
     "metadata": {},
     "output_type": "display_data"
    },
    {
     "data": {
      "text/html": [
       "<pre style=\"white-space:pre;overflow-x:auto;line-height:normal;font-family:Menlo,'DejaVu Sans Mono',consolas,'Courier New',monospace\"><span style=\"color: #008080; text-decoration-color: #008080; font-weight: bold\">0.04385</span>         <span style=\"font-weight: bold\">(</span><span style=\"color: #008080; text-decoration-color: #008080; font-weight: bold\">13</span>, <span style=\"color: #008080; text-decoration-color: #008080; font-weight: bold\">44</span><span style=\"font-weight: bold\">)</span>\n",
       "</pre>\n"
      ],
      "text/plain": [
       "\u001b[1;36m0.04385\u001b[0m         \u001b[1m(\u001b[0m\u001b[1;36m13\u001b[0m, \u001b[1;36m44\u001b[0m\u001b[1m)\u001b[0m\n"
      ]
     },
     "metadata": {},
     "output_type": "display_data"
    },
    {
     "data": {
      "text/html": [
       "<pre style=\"white-space:pre;overflow-x:auto;line-height:normal;font-family:Menlo,'DejaVu Sans Mono',consolas,'Courier New',monospace\"><span style=\"color: #008080; text-decoration-color: #008080; font-weight: bold\">0.04553</span>         <span style=\"font-weight: bold\">(</span><span style=\"color: #008080; text-decoration-color: #008080; font-weight: bold\">15</span>, <span style=\"color: #008080; text-decoration-color: #008080; font-weight: bold\">37</span><span style=\"font-weight: bold\">)</span>\n",
       "</pre>\n"
      ],
      "text/plain": [
       "\u001b[1;36m0.04553\u001b[0m         \u001b[1m(\u001b[0m\u001b[1;36m15\u001b[0m, \u001b[1;36m37\u001b[0m\u001b[1m)\u001b[0m\n"
      ]
     },
     "metadata": {},
     "output_type": "display_data"
    },
    {
     "data": {
      "text/html": [
       "<pre style=\"white-space:pre;overflow-x:auto;line-height:normal;font-family:Menlo,'DejaVu Sans Mono',consolas,'Courier New',monospace\"><span style=\"color: #008080; text-decoration-color: #008080; font-weight: bold\">0.04574</span>         <span style=\"font-weight: bold\">(</span><span style=\"color: #008080; text-decoration-color: #008080; font-weight: bold\">22</span>, <span style=\"color: #008080; text-decoration-color: #008080; font-weight: bold\">45</span><span style=\"font-weight: bold\">)</span>\n",
       "</pre>\n"
      ],
      "text/plain": [
       "\u001b[1;36m0.04574\u001b[0m         \u001b[1m(\u001b[0m\u001b[1;36m22\u001b[0m, \u001b[1;36m45\u001b[0m\u001b[1m)\u001b[0m\n"
      ]
     },
     "metadata": {},
     "output_type": "display_data"
    },
    {
     "data": {
      "text/html": [
       "<pre style=\"white-space:pre;overflow-x:auto;line-height:normal;font-family:Menlo,'DejaVu Sans Mono',consolas,'Courier New',monospace\"><span style=\"color: #008080; text-decoration-color: #008080; font-weight: bold\">0.04649</span>         <span style=\"font-weight: bold\">(</span><span style=\"color: #008080; text-decoration-color: #008080; font-weight: bold\">16</span>, <span style=\"color: #008080; text-decoration-color: #008080; font-weight: bold\">31</span><span style=\"font-weight: bold\">)</span>\n",
       "</pre>\n"
      ],
      "text/plain": [
       "\u001b[1;36m0.04649\u001b[0m         \u001b[1m(\u001b[0m\u001b[1;36m16\u001b[0m, \u001b[1;36m31\u001b[0m\u001b[1m)\u001b[0m\n"
      ]
     },
     "metadata": {},
     "output_type": "display_data"
    },
    {
     "data": {
      "text/html": [
       "<pre style=\"white-space:pre;overflow-x:auto;line-height:normal;font-family:Menlo,'DejaVu Sans Mono',consolas,'Courier New',monospace\"><span style=\"color: #008080; text-decoration-color: #008080; font-weight: bold\">0.04769</span>         <span style=\"font-weight: bold\">(</span><span style=\"color: #008080; text-decoration-color: #008080; font-weight: bold\">12</span>, <span style=\"color: #008080; text-decoration-color: #008080; font-weight: bold\">38</span><span style=\"font-weight: bold\">)</span>\n",
       "</pre>\n"
      ],
      "text/plain": [
       "\u001b[1;36m0.04769\u001b[0m         \u001b[1m(\u001b[0m\u001b[1;36m12\u001b[0m, \u001b[1;36m38\u001b[0m\u001b[1m)\u001b[0m\n"
      ]
     },
     "metadata": {},
     "output_type": "display_data"
    },
    {
     "data": {
      "text/html": [
       "<pre style=\"white-space:pre;overflow-x:auto;line-height:normal;font-family:Menlo,'DejaVu Sans Mono',consolas,'Courier New',monospace\"><span style=\"color: #008080; text-decoration-color: #008080; font-weight: bold\">0.04769</span>         <span style=\"font-weight: bold\">(</span><span style=\"color: #008080; text-decoration-color: #008080; font-weight: bold\">12</span>, <span style=\"color: #008080; text-decoration-color: #008080; font-weight: bold\">32</span>, <span style=\"color: #008080; text-decoration-color: #008080; font-weight: bold\">38</span><span style=\"font-weight: bold\">)</span>\n",
       "</pre>\n"
      ],
      "text/plain": [
       "\u001b[1;36m0.04769\u001b[0m         \u001b[1m(\u001b[0m\u001b[1;36m12\u001b[0m, \u001b[1;36m32\u001b[0m, \u001b[1;36m38\u001b[0m\u001b[1m)\u001b[0m\n"
      ]
     },
     "metadata": {},
     "output_type": "display_data"
    },
    {
     "data": {
      "text/html": [
       "<pre style=\"white-space:pre;overflow-x:auto;line-height:normal;font-family:Menlo,'DejaVu Sans Mono',consolas,'Courier New',monospace\"><span style=\"color: #008080; text-decoration-color: #008080; font-weight: bold\">0.04874</span>         <span style=\"font-weight: bold\">(</span><span style=\"color: #008080; text-decoration-color: #008080; font-weight: bold\">5</span>, <span style=\"color: #008080; text-decoration-color: #008080; font-weight: bold\">27</span><span style=\"font-weight: bold\">)</span>\n",
       "</pre>\n"
      ],
      "text/plain": [
       "\u001b[1;36m0.04874\u001b[0m         \u001b[1m(\u001b[0m\u001b[1;36m5\u001b[0m, \u001b[1;36m27\u001b[0m\u001b[1m)\u001b[0m\n"
      ]
     },
     "metadata": {},
     "output_type": "display_data"
    },
    {
     "data": {
      "text/html": [
       "<pre style=\"white-space:pre;overflow-x:auto;line-height:normal;font-family:Menlo,'DejaVu Sans Mono',consolas,'Courier New',monospace\"><span style=\"color: #008080; text-decoration-color: #008080; font-weight: bold\">0.05137</span>         <span style=\"font-weight: bold\">(</span><span style=\"color: #008080; text-decoration-color: #008080; font-weight: bold\">2</span>, <span style=\"color: #008080; text-decoration-color: #008080; font-weight: bold\">27</span><span style=\"font-weight: bold\">)</span>\n",
       "</pre>\n"
      ],
      "text/plain": [
       "\u001b[1;36m0.05137\u001b[0m         \u001b[1m(\u001b[0m\u001b[1;36m2\u001b[0m, \u001b[1;36m27\u001b[0m\u001b[1m)\u001b[0m\n"
      ]
     },
     "metadata": {},
     "output_type": "display_data"
    },
    {
     "data": {
      "text/html": [
       "<pre style=\"white-space:pre;overflow-x:auto;line-height:normal;font-family:Menlo,'DejaVu Sans Mono',consolas,'Courier New',monospace\"><span style=\"color: #008080; text-decoration-color: #008080; font-weight: bold\">0.05137</span>         <span style=\"font-weight: bold\">(</span><span style=\"color: #008080; text-decoration-color: #008080; font-weight: bold\">2</span>, <span style=\"color: #008080; text-decoration-color: #008080; font-weight: bold\">6</span>, <span style=\"color: #008080; text-decoration-color: #008080; font-weight: bold\">27</span><span style=\"font-weight: bold\">)</span>\n",
       "</pre>\n"
      ],
      "text/plain": [
       "\u001b[1;36m0.05137\u001b[0m         \u001b[1m(\u001b[0m\u001b[1;36m2\u001b[0m, \u001b[1;36m6\u001b[0m, \u001b[1;36m27\u001b[0m\u001b[1m)\u001b[0m\n"
      ]
     },
     "metadata": {},
     "output_type": "display_data"
    },
    {
     "data": {
      "text/html": [
       "<pre style=\"white-space:pre;overflow-x:auto;line-height:normal;font-family:Menlo,'DejaVu Sans Mono',consolas,'Courier New',monospace\"><span style=\"color: #008080; text-decoration-color: #008080; font-weight: bold\">0.05186</span>         <span style=\"font-weight: bold\">(</span><span style=\"color: #008080; text-decoration-color: #008080; font-weight: bold\">5</span>, <span style=\"color: #008080; text-decoration-color: #008080; font-weight: bold\">20</span><span style=\"font-weight: bold\">)</span>\n",
       "</pre>\n"
      ],
      "text/plain": [
       "\u001b[1;36m0.05186\u001b[0m         \u001b[1m(\u001b[0m\u001b[1;36m5\u001b[0m, \u001b[1;36m20\u001b[0m\u001b[1m)\u001b[0m\n"
      ]
     },
     "metadata": {},
     "output_type": "display_data"
    },
    {
     "data": {
      "text/html": [
       "<pre style=\"white-space:pre;overflow-x:auto;line-height:normal;font-family:Menlo,'DejaVu Sans Mono',consolas,'Courier New',monospace\"><span style=\"color: #008080; text-decoration-color: #008080; font-weight: bold\">0.05269</span>         <span style=\"font-weight: bold\">(</span><span style=\"color: #008080; text-decoration-color: #008080; font-weight: bold\">3</span>, <span style=\"color: #008080; text-decoration-color: #008080; font-weight: bold\">33</span><span style=\"font-weight: bold\">)</span>\n",
       "</pre>\n"
      ],
      "text/plain": [
       "\u001b[1;36m0.05269\u001b[0m         \u001b[1m(\u001b[0m\u001b[1;36m3\u001b[0m, \u001b[1;36m33\u001b[0m\u001b[1m)\u001b[0m\n"
      ]
     },
     "metadata": {},
     "output_type": "display_data"
    },
    {
     "data": {
      "text/html": [
       "<pre style=\"white-space:pre;overflow-x:auto;line-height:normal;font-family:Menlo,'DejaVu Sans Mono',consolas,'Courier New',monospace\"><span style=\"color: #008080; text-decoration-color: #008080; font-weight: bold\">0.05277</span>         <span style=\"font-weight: bold\">(</span><span style=\"color: #008080; text-decoration-color: #008080; font-weight: bold\">28</span>, <span style=\"color: #008080; text-decoration-color: #008080; font-weight: bold\">44</span><span style=\"font-weight: bold\">)</span>\n",
       "</pre>\n"
      ],
      "text/plain": [
       "\u001b[1;36m0.05277\u001b[0m         \u001b[1m(\u001b[0m\u001b[1;36m28\u001b[0m, \u001b[1;36m44\u001b[0m\u001b[1m)\u001b[0m\n"
      ]
     },
     "metadata": {},
     "output_type": "display_data"
    },
    {
     "data": {
      "text/html": [
       "<pre style=\"white-space:pre;overflow-x:auto;line-height:normal;font-family:Menlo,'DejaVu Sans Mono',consolas,'Courier New',monospace\"><span style=\"color: #008080; text-decoration-color: #008080; font-weight: bold\">0.05281</span>         <span style=\"font-weight: bold\">(</span><span style=\"color: #008080; text-decoration-color: #008080; font-weight: bold\">5</span>, <span style=\"color: #008080; text-decoration-color: #008080; font-weight: bold\">20</span>, <span style=\"color: #008080; text-decoration-color: #008080; font-weight: bold\">27</span><span style=\"font-weight: bold\">)</span>\n",
       "</pre>\n"
      ],
      "text/plain": [
       "\u001b[1;36m0.05281\u001b[0m         \u001b[1m(\u001b[0m\u001b[1;36m5\u001b[0m, \u001b[1;36m20\u001b[0m, \u001b[1;36m27\u001b[0m\u001b[1m)\u001b[0m\n"
      ]
     },
     "metadata": {},
     "output_type": "display_data"
    },
    {
     "data": {
      "text/html": [
       "<pre style=\"white-space:pre;overflow-x:auto;line-height:normal;font-family:Menlo,'DejaVu Sans Mono',consolas,'Courier New',monospace\"><span style=\"color: #008080; text-decoration-color: #008080; font-weight: bold\">0.05424</span>         <span style=\"font-weight: bold\">(</span><span style=\"color: #008080; text-decoration-color: #008080; font-weight: bold\">19</span>, <span style=\"color: #008080; text-decoration-color: #008080; font-weight: bold\">34</span><span style=\"font-weight: bold\">)</span>\n",
       "</pre>\n"
      ],
      "text/plain": [
       "\u001b[1;36m0.05424\u001b[0m         \u001b[1m(\u001b[0m\u001b[1;36m19\u001b[0m, \u001b[1;36m34\u001b[0m\u001b[1m)\u001b[0m\n"
      ]
     },
     "metadata": {},
     "output_type": "display_data"
    },
    {
     "data": {
      "text/html": [
       "<pre style=\"white-space:pre;overflow-x:auto;line-height:normal;font-family:Menlo,'DejaVu Sans Mono',consolas,'Courier New',monospace\"><span style=\"color: #008080; text-decoration-color: #008080; font-weight: bold\">0.05451</span>         <span style=\"font-weight: bold\">(</span><span style=\"color: #008080; text-decoration-color: #008080; font-weight: bold\">36</span>, <span style=\"color: #008080; text-decoration-color: #008080; font-weight: bold\">45</span><span style=\"font-weight: bold\">)</span>\n",
       "</pre>\n"
      ],
      "text/plain": [
       "\u001b[1;36m0.05451\u001b[0m         \u001b[1m(\u001b[0m\u001b[1;36m36\u001b[0m, \u001b[1;36m45\u001b[0m\u001b[1m)\u001b[0m\n"
      ]
     },
     "metadata": {},
     "output_type": "display_data"
    },
    {
     "data": {
      "text/html": [
       "<pre style=\"white-space:pre;overflow-x:auto;line-height:normal;font-family:Menlo,'DejaVu Sans Mono',consolas,'Courier New',monospace\"><span style=\"color: #008080; text-decoration-color: #008080; font-weight: bold\">0.05530</span>         <span style=\"font-weight: bold\">(</span><span style=\"color: #008080; text-decoration-color: #008080; font-weight: bold\">0</span>, <span style=\"color: #008080; text-decoration-color: #008080; font-weight: bold\">17</span><span style=\"font-weight: bold\">)</span>\n",
       "</pre>\n"
      ],
      "text/plain": [
       "\u001b[1;36m0.05530\u001b[0m         \u001b[1m(\u001b[0m\u001b[1;36m0\u001b[0m, \u001b[1;36m17\u001b[0m\u001b[1m)\u001b[0m\n"
      ]
     },
     "metadata": {},
     "output_type": "display_data"
    },
    {
     "data": {
      "text/html": [
       "<pre style=\"white-space:pre;overflow-x:auto;line-height:normal;font-family:Menlo,'DejaVu Sans Mono',consolas,'Courier New',monospace\"><span style=\"color: #008080; text-decoration-color: #008080; font-weight: bold\">0.05694</span>         <span style=\"font-weight: bold\">(</span><span style=\"color: #008080; text-decoration-color: #008080; font-weight: bold\">34</span>, <span style=\"color: #008080; text-decoration-color: #008080; font-weight: bold\">46</span><span style=\"font-weight: bold\">)</span>\n",
       "</pre>\n"
      ],
      "text/plain": [
       "\u001b[1;36m0.05694\u001b[0m         \u001b[1m(\u001b[0m\u001b[1;36m34\u001b[0m, \u001b[1;36m46\u001b[0m\u001b[1m)\u001b[0m\n"
      ]
     },
     "metadata": {},
     "output_type": "display_data"
    },
    {
     "data": {
      "text/html": [
       "<pre style=\"white-space:pre;overflow-x:auto;line-height:normal;font-family:Menlo,'DejaVu Sans Mono',consolas,'Courier New',monospace\"><span style=\"color: #008080; text-decoration-color: #008080; font-weight: bold\">0.05724</span>         <span style=\"font-weight: bold\">(</span><span style=\"color: #008080; text-decoration-color: #008080; font-weight: bold\">19</span>, <span style=\"color: #008080; text-decoration-color: #008080; font-weight: bold\">24</span><span style=\"font-weight: bold\">)</span>\n",
       "</pre>\n"
      ],
      "text/plain": [
       "\u001b[1;36m0.05724\u001b[0m         \u001b[1m(\u001b[0m\u001b[1;36m19\u001b[0m, \u001b[1;36m24\u001b[0m\u001b[1m)\u001b[0m\n"
      ]
     },
     "metadata": {},
     "output_type": "display_data"
    },
    {
     "data": {
      "text/html": [
       "<pre style=\"white-space:pre;overflow-x:auto;line-height:normal;font-family:Menlo,'DejaVu Sans Mono',consolas,'Courier New',monospace\"><span style=\"color: #008080; text-decoration-color: #008080; font-weight: bold\">0.05728</span>         <span style=\"font-weight: bold\">(</span><span style=\"color: #008080; text-decoration-color: #008080; font-weight: bold\">4</span>, <span style=\"color: #008080; text-decoration-color: #008080; font-weight: bold\">18</span>, <span style=\"color: #008080; text-decoration-color: #008080; font-weight: bold\">28</span><span style=\"font-weight: bold\">)</span>\n",
       "</pre>\n"
      ],
      "text/plain": [
       "\u001b[1;36m0.05728\u001b[0m         \u001b[1m(\u001b[0m\u001b[1;36m4\u001b[0m, \u001b[1;36m18\u001b[0m, \u001b[1;36m28\u001b[0m\u001b[1m)\u001b[0m\n"
      ]
     },
     "metadata": {},
     "output_type": "display_data"
    },
    {
     "data": {
      "text/html": [
       "<pre style=\"white-space:pre;overflow-x:auto;line-height:normal;font-family:Menlo,'DejaVu Sans Mono',consolas,'Courier New',monospace\"><span style=\"color: #008080; text-decoration-color: #008080; font-weight: bold\">0.05728</span>         <span style=\"font-weight: bold\">(</span><span style=\"color: #008080; text-decoration-color: #008080; font-weight: bold\">4</span>, <span style=\"color: #008080; text-decoration-color: #008080; font-weight: bold\">18</span><span style=\"font-weight: bold\">)</span>\n",
       "</pre>\n"
      ],
      "text/plain": [
       "\u001b[1;36m0.05728\u001b[0m         \u001b[1m(\u001b[0m\u001b[1;36m4\u001b[0m, \u001b[1;36m18\u001b[0m\u001b[1m)\u001b[0m\n"
      ]
     },
     "metadata": {},
     "output_type": "display_data"
    },
    {
     "data": {
      "text/html": [
       "<pre style=\"white-space:pre;overflow-x:auto;line-height:normal;font-family:Menlo,'DejaVu Sans Mono',consolas,'Courier New',monospace\"><span style=\"color: #008080; text-decoration-color: #008080; font-weight: bold\">0.05755</span>         <span style=\"font-weight: bold\">(</span><span style=\"color: #008080; text-decoration-color: #008080; font-weight: bold\">9</span>, <span style=\"color: #008080; text-decoration-color: #008080; font-weight: bold\">38</span><span style=\"font-weight: bold\">)</span>\n",
       "</pre>\n"
      ],
      "text/plain": [
       "\u001b[1;36m0.05755\u001b[0m         \u001b[1m(\u001b[0m\u001b[1;36m9\u001b[0m, \u001b[1;36m38\u001b[0m\u001b[1m)\u001b[0m\n"
      ]
     },
     "metadata": {},
     "output_type": "display_data"
    },
    {
     "data": {
      "text/html": [
       "<pre style=\"white-space:pre;overflow-x:auto;line-height:normal;font-family:Menlo,'DejaVu Sans Mono',consolas,'Courier New',monospace\"><span style=\"color: #008080; text-decoration-color: #008080; font-weight: bold\">0.05796</span>         <span style=\"font-weight: bold\">(</span><span style=\"color: #008080; text-decoration-color: #008080; font-weight: bold\">33</span>, <span style=\"color: #008080; text-decoration-color: #008080; font-weight: bold\">48</span><span style=\"font-weight: bold\">)</span>\n",
       "</pre>\n"
      ],
      "text/plain": [
       "\u001b[1;36m0.05796\u001b[0m         \u001b[1m(\u001b[0m\u001b[1;36m33\u001b[0m, \u001b[1;36m48\u001b[0m\u001b[1m)\u001b[0m\n"
      ]
     },
     "metadata": {},
     "output_type": "display_data"
    },
    {
     "data": {
      "text/html": [
       "<pre style=\"white-space:pre;overflow-x:auto;line-height:normal;font-family:Menlo,'DejaVu Sans Mono',consolas,'Courier New',monospace\"><span style=\"color: #008080; text-decoration-color: #008080; font-weight: bold\">0.05798</span>         <span style=\"font-weight: bold\">(</span><span style=\"color: #008080; text-decoration-color: #008080; font-weight: bold\">15</span>, <span style=\"color: #008080; text-decoration-color: #008080; font-weight: bold\">49</span><span style=\"font-weight: bold\">)</span>\n",
       "</pre>\n"
      ],
      "text/plain": [
       "\u001b[1;36m0.05798\u001b[0m         \u001b[1m(\u001b[0m\u001b[1;36m15\u001b[0m, \u001b[1;36m49\u001b[0m\u001b[1m)\u001b[0m\n"
      ]
     },
     "metadata": {},
     "output_type": "display_data"
    },
    {
     "data": {
      "text/html": [
       "<pre style=\"white-space:pre;overflow-x:auto;line-height:normal;font-family:Menlo,'DejaVu Sans Mono',consolas,'Courier New',monospace\"><span style=\"color: #008080; text-decoration-color: #008080; font-weight: bold\">0.05801</span>         <span style=\"font-weight: bold\">(</span><span style=\"color: #008080; text-decoration-color: #008080; font-weight: bold\">22</span>, <span style=\"color: #008080; text-decoration-color: #008080; font-weight: bold\">36</span><span style=\"font-weight: bold\">)</span>\n",
       "</pre>\n"
      ],
      "text/plain": [
       "\u001b[1;36m0.05801\u001b[0m         \u001b[1m(\u001b[0m\u001b[1;36m22\u001b[0m, \u001b[1;36m36\u001b[0m\u001b[1m)\u001b[0m\n"
      ]
     },
     "metadata": {},
     "output_type": "display_data"
    },
    {
     "data": {
      "text/html": [
       "<pre style=\"white-space:pre;overflow-x:auto;line-height:normal;font-family:Menlo,'DejaVu Sans Mono',consolas,'Courier New',monospace\"><span style=\"color: #008080; text-decoration-color: #008080; font-weight: bold\">0.05884</span>         <span style=\"font-weight: bold\">(</span><span style=\"color: #008080; text-decoration-color: #008080; font-weight: bold\">0</span>, <span style=\"color: #008080; text-decoration-color: #008080; font-weight: bold\">18</span><span style=\"font-weight: bold\">)</span>\n",
       "</pre>\n"
      ],
      "text/plain": [
       "\u001b[1;36m0.05884\u001b[0m         \u001b[1m(\u001b[0m\u001b[1;36m0\u001b[0m, \u001b[1;36m18\u001b[0m\u001b[1m)\u001b[0m\n"
      ]
     },
     "metadata": {},
     "output_type": "display_data"
    },
    {
     "data": {
      "text/html": [
       "<pre style=\"white-space:pre;overflow-x:auto;line-height:normal;font-family:Menlo,'DejaVu Sans Mono',consolas,'Courier New',monospace\"><span style=\"color: #008080; text-decoration-color: #008080; font-weight: bold\">0.06064</span>         <span style=\"font-weight: bold\">(</span><span style=\"color: #008080; text-decoration-color: #008080; font-weight: bold\">30</span>, <span style=\"color: #008080; text-decoration-color: #008080; font-weight: bold\">39</span><span style=\"font-weight: bold\">)</span>\n",
       "</pre>\n"
      ],
      "text/plain": [
       "\u001b[1;36m0.06064\u001b[0m         \u001b[1m(\u001b[0m\u001b[1;36m30\u001b[0m, \u001b[1;36m39\u001b[0m\u001b[1m)\u001b[0m\n"
      ]
     },
     "metadata": {},
     "output_type": "display_data"
    },
    {
     "data": {
      "text/html": [
       "<pre style=\"white-space:pre;overflow-x:auto;line-height:normal;font-family:Menlo,'DejaVu Sans Mono',consolas,'Courier New',monospace\"><span style=\"color: #008080; text-decoration-color: #008080; font-weight: bold\">0.06170</span>         <span style=\"font-weight: bold\">(</span><span style=\"color: #008080; text-decoration-color: #008080; font-weight: bold\">22</span>, <span style=\"color: #008080; text-decoration-color: #008080; font-weight: bold\">36</span>, <span style=\"color: #008080; text-decoration-color: #008080; font-weight: bold\">45</span><span style=\"font-weight: bold\">)</span>\n",
       "</pre>\n"
      ],
      "text/plain": [
       "\u001b[1;36m0.06170\u001b[0m         \u001b[1m(\u001b[0m\u001b[1;36m22\u001b[0m, \u001b[1;36m36\u001b[0m, \u001b[1;36m45\u001b[0m\u001b[1m)\u001b[0m\n"
      ]
     },
     "metadata": {},
     "output_type": "display_data"
    },
    {
     "data": {
      "text/html": [
       "<pre style=\"white-space:pre;overflow-x:auto;line-height:normal;font-family:Menlo,'DejaVu Sans Mono',consolas,'Courier New',monospace\"><span style=\"color: #008080; text-decoration-color: #008080; font-weight: bold\">0.06193</span>         <span style=\"font-weight: bold\">(</span><span style=\"color: #008080; text-decoration-color: #008080; font-weight: bold\">4</span>, <span style=\"color: #008080; text-decoration-color: #008080; font-weight: bold\">13</span><span style=\"font-weight: bold\">)</span>\n",
       "</pre>\n"
      ],
      "text/plain": [
       "\u001b[1;36m0.06193\u001b[0m         \u001b[1m(\u001b[0m\u001b[1;36m4\u001b[0m, \u001b[1;36m13\u001b[0m\u001b[1m)\u001b[0m\n"
      ]
     },
     "metadata": {},
     "output_type": "display_data"
    },
    {
     "data": {
      "text/html": [
       "<pre style=\"white-space:pre;overflow-x:auto;line-height:normal;font-family:Menlo,'DejaVu Sans Mono',consolas,'Courier New',monospace\"><span style=\"color: #008080; text-decoration-color: #008080; font-weight: bold\">0.06288</span>         <span style=\"font-weight: bold\">(</span><span style=\"color: #008080; text-decoration-color: #008080; font-weight: bold\">3</span>, <span style=\"color: #008080; text-decoration-color: #008080; font-weight: bold\">31</span>, <span style=\"color: #008080; text-decoration-color: #008080; font-weight: bold\">48</span><span style=\"font-weight: bold\">)</span>\n",
       "</pre>\n"
      ],
      "text/plain": [
       "\u001b[1;36m0.06288\u001b[0m         \u001b[1m(\u001b[0m\u001b[1;36m3\u001b[0m, \u001b[1;36m31\u001b[0m, \u001b[1;36m48\u001b[0m\u001b[1m)\u001b[0m\n"
      ]
     },
     "metadata": {},
     "output_type": "display_data"
    },
    {
     "data": {
      "text/html": [
       "<pre style=\"white-space:pre;overflow-x:auto;line-height:normal;font-family:Menlo,'DejaVu Sans Mono',consolas,'Courier New',monospace\"><span style=\"color: #008080; text-decoration-color: #008080; font-weight: bold\">0.06288</span>         <span style=\"font-weight: bold\">(</span><span style=\"color: #008080; text-decoration-color: #008080; font-weight: bold\">3</span>, <span style=\"color: #008080; text-decoration-color: #008080; font-weight: bold\">48</span><span style=\"font-weight: bold\">)</span>\n",
       "</pre>\n"
      ],
      "text/plain": [
       "\u001b[1;36m0.06288\u001b[0m         \u001b[1m(\u001b[0m\u001b[1;36m3\u001b[0m, \u001b[1;36m48\u001b[0m\u001b[1m)\u001b[0m\n"
      ]
     },
     "metadata": {},
     "output_type": "display_data"
    },
    {
     "data": {
      "text/html": [
       "<pre style=\"white-space:pre;overflow-x:auto;line-height:normal;font-family:Menlo,'DejaVu Sans Mono',consolas,'Courier New',monospace\"><span style=\"color: #008080; text-decoration-color: #008080; font-weight: bold\">0.06402</span>         <span style=\"font-weight: bold\">(</span><span style=\"color: #008080; text-decoration-color: #008080; font-weight: bold\">23</span>, <span style=\"color: #008080; text-decoration-color: #008080; font-weight: bold\">46</span><span style=\"font-weight: bold\">)</span>\n",
       "</pre>\n"
      ],
      "text/plain": [
       "\u001b[1;36m0.06402\u001b[0m         \u001b[1m(\u001b[0m\u001b[1;36m23\u001b[0m, \u001b[1;36m46\u001b[0m\u001b[1m)\u001b[0m\n"
      ]
     },
     "metadata": {},
     "output_type": "display_data"
    },
    {
     "data": {
      "text/html": [
       "<pre style=\"white-space:pre;overflow-x:auto;line-height:normal;font-family:Menlo,'DejaVu Sans Mono',consolas,'Courier New',monospace\"><span style=\"color: #008080; text-decoration-color: #008080; font-weight: bold\">0.06444</span>         <span style=\"font-weight: bold\">(</span><span style=\"color: #008080; text-decoration-color: #008080; font-weight: bold\">24</span>, <span style=\"color: #008080; text-decoration-color: #008080; font-weight: bold\">34</span><span style=\"font-weight: bold\">)</span>\n",
       "</pre>\n"
      ],
      "text/plain": [
       "\u001b[1;36m0.06444\u001b[0m         \u001b[1m(\u001b[0m\u001b[1;36m24\u001b[0m, \u001b[1;36m34\u001b[0m\u001b[1m)\u001b[0m\n"
      ]
     },
     "metadata": {},
     "output_type": "display_data"
    },
    {
     "data": {
      "text/html": [
       "<pre style=\"white-space:pre;overflow-x:auto;line-height:normal;font-family:Menlo,'DejaVu Sans Mono',consolas,'Courier New',monospace\"><span style=\"color: #008080; text-decoration-color: #008080; font-weight: bold\">0.06444</span>         <span style=\"font-weight: bold\">(</span><span style=\"color: #008080; text-decoration-color: #008080; font-weight: bold\">24</span>, <span style=\"color: #008080; text-decoration-color: #008080; font-weight: bold\">34</span>, <span style=\"color: #008080; text-decoration-color: #008080; font-weight: bold\">46</span><span style=\"font-weight: bold\">)</span>\n",
       "</pre>\n"
      ],
      "text/plain": [
       "\u001b[1;36m0.06444\u001b[0m         \u001b[1m(\u001b[0m\u001b[1;36m24\u001b[0m, \u001b[1;36m34\u001b[0m, \u001b[1;36m46\u001b[0m\u001b[1m)\u001b[0m\n"
      ]
     },
     "metadata": {},
     "output_type": "display_data"
    },
    {
     "data": {
      "text/html": [
       "<pre style=\"white-space:pre;overflow-x:auto;line-height:normal;font-family:Menlo,'DejaVu Sans Mono',consolas,'Courier New',monospace\"><span style=\"color: #008080; text-decoration-color: #008080; font-weight: bold\">0.06519</span>         <span style=\"font-weight: bold\">(</span><span style=\"color: #008080; text-decoration-color: #008080; font-weight: bold\">3</span>, <span style=\"color: #008080; text-decoration-color: #008080; font-weight: bold\">33</span>, <span style=\"color: #008080; text-decoration-color: #008080; font-weight: bold\">48</span><span style=\"font-weight: bold\">)</span>\n",
       "</pre>\n"
      ],
      "text/plain": [
       "\u001b[1;36m0.06519\u001b[0m         \u001b[1m(\u001b[0m\u001b[1;36m3\u001b[0m, \u001b[1;36m33\u001b[0m, \u001b[1;36m48\u001b[0m\u001b[1m)\u001b[0m\n"
      ]
     },
     "metadata": {},
     "output_type": "display_data"
    },
    {
     "data": {
      "text/html": [
       "<pre style=\"white-space:pre;overflow-x:auto;line-height:normal;font-family:Menlo,'DejaVu Sans Mono',consolas,'Courier New',monospace\"><span style=\"color: #008080; text-decoration-color: #008080; font-weight: bold\">0.06658</span>         <span style=\"font-weight: bold\">(</span><span style=\"color: #008080; text-decoration-color: #008080; font-weight: bold\">16</span>, <span style=\"color: #008080; text-decoration-color: #008080; font-weight: bold\">40</span><span style=\"font-weight: bold\">)</span>\n",
       "</pre>\n"
      ],
      "text/plain": [
       "\u001b[1;36m0.06658\u001b[0m         \u001b[1m(\u001b[0m\u001b[1;36m16\u001b[0m, \u001b[1;36m40\u001b[0m\u001b[1m)\u001b[0m\n"
      ]
     },
     "metadata": {},
     "output_type": "display_data"
    },
    {
     "data": {
      "text/html": [
       "<pre style=\"white-space:pre;overflow-x:auto;line-height:normal;font-family:Menlo,'DejaVu Sans Mono',consolas,'Courier New',monospace\"><span style=\"color: #008080; text-decoration-color: #008080; font-weight: bold\">0.06736</span>         <span style=\"font-weight: bold\">(</span><span style=\"color: #008080; text-decoration-color: #008080; font-weight: bold\">1</span>, <span style=\"color: #008080; text-decoration-color: #008080; font-weight: bold\">39</span>, <span style=\"color: #008080; text-decoration-color: #008080; font-weight: bold\">47</span><span style=\"font-weight: bold\">)</span>\n",
       "</pre>\n"
      ],
      "text/plain": [
       "\u001b[1;36m0.06736\u001b[0m         \u001b[1m(\u001b[0m\u001b[1;36m1\u001b[0m, \u001b[1;36m39\u001b[0m, \u001b[1;36m47\u001b[0m\u001b[1m)\u001b[0m\n"
      ]
     },
     "metadata": {},
     "output_type": "display_data"
    },
    {
     "data": {
      "text/html": [
       "<pre style=\"white-space:pre;overflow-x:auto;line-height:normal;font-family:Menlo,'DejaVu Sans Mono',consolas,'Courier New',monospace\"><span style=\"color: #008080; text-decoration-color: #008080; font-weight: bold\">0.06736</span>         <span style=\"font-weight: bold\">(</span><span style=\"color: #008080; text-decoration-color: #008080; font-weight: bold\">1</span>, <span style=\"color: #008080; text-decoration-color: #008080; font-weight: bold\">39</span><span style=\"font-weight: bold\">)</span>\n",
       "</pre>\n"
      ],
      "text/plain": [
       "\u001b[1;36m0.06736\u001b[0m         \u001b[1m(\u001b[0m\u001b[1;36m1\u001b[0m, \u001b[1;36m39\u001b[0m\u001b[1m)\u001b[0m\n"
      ]
     },
     "metadata": {},
     "output_type": "display_data"
    },
    {
     "data": {
      "text/html": [
       "<pre style=\"white-space:pre;overflow-x:auto;line-height:normal;font-family:Menlo,'DejaVu Sans Mono',consolas,'Courier New',monospace\"><span style=\"color: #008080; text-decoration-color: #008080; font-weight: bold\">0.06746</span>         <span style=\"font-weight: bold\">(</span><span style=\"color: #008080; text-decoration-color: #008080; font-weight: bold\">19</span>, <span style=\"color: #008080; text-decoration-color: #008080; font-weight: bold\">24</span>, <span style=\"color: #008080; text-decoration-color: #008080; font-weight: bold\">34</span><span style=\"font-weight: bold\">)</span>\n",
       "</pre>\n"
      ],
      "text/plain": [
       "\u001b[1;36m0.06746\u001b[0m         \u001b[1m(\u001b[0m\u001b[1;36m19\u001b[0m, \u001b[1;36m24\u001b[0m, \u001b[1;36m34\u001b[0m\u001b[1m)\u001b[0m\n"
      ]
     },
     "metadata": {},
     "output_type": "display_data"
    },
    {
     "data": {
      "text/html": [
       "<pre style=\"white-space:pre;overflow-x:auto;line-height:normal;font-family:Menlo,'DejaVu Sans Mono',consolas,'Courier New',monospace\"><span style=\"color: #008080; text-decoration-color: #008080; font-weight: bold\">0.06871</span>         <span style=\"font-weight: bold\">(</span><span style=\"color: #008080; text-decoration-color: #008080; font-weight: bold\">13</span>, <span style=\"color: #008080; text-decoration-color: #008080; font-weight: bold\">28</span><span style=\"font-weight: bold\">)</span>\n",
       "</pre>\n"
      ],
      "text/plain": [
       "\u001b[1;36m0.06871\u001b[0m         \u001b[1m(\u001b[0m\u001b[1;36m13\u001b[0m, \u001b[1;36m28\u001b[0m\u001b[1m)\u001b[0m\n"
      ]
     },
     "metadata": {},
     "output_type": "display_data"
    },
    {
     "data": {
      "text/html": [
       "<pre style=\"white-space:pre;overflow-x:auto;line-height:normal;font-family:Menlo,'DejaVu Sans Mono',consolas,'Courier New',monospace\"><span style=\"color: #008080; text-decoration-color: #008080; font-weight: bold\">0.06871</span>         <span style=\"font-weight: bold\">(</span><span style=\"color: #008080; text-decoration-color: #008080; font-weight: bold\">13</span>, <span style=\"color: #008080; text-decoration-color: #008080; font-weight: bold\">28</span>, <span style=\"color: #008080; text-decoration-color: #008080; font-weight: bold\">44</span><span style=\"font-weight: bold\">)</span>\n",
       "</pre>\n"
      ],
      "text/plain": [
       "\u001b[1;36m0.06871\u001b[0m         \u001b[1m(\u001b[0m\u001b[1;36m13\u001b[0m, \u001b[1;36m28\u001b[0m, \u001b[1;36m44\u001b[0m\u001b[1m)\u001b[0m\n"
      ]
     },
     "metadata": {},
     "output_type": "display_data"
    },
    {
     "data": {
      "text/html": [
       "<pre style=\"white-space:pre;overflow-x:auto;line-height:normal;font-family:Menlo,'DejaVu Sans Mono',consolas,'Courier New',monospace\"><span style=\"color: #008080; text-decoration-color: #008080; font-weight: bold\">0.06881</span>         <span style=\"font-weight: bold\">(</span><span style=\"color: #008080; text-decoration-color: #008080; font-weight: bold\">4</span>, <span style=\"color: #008080; text-decoration-color: #008080; font-weight: bold\">13</span>, <span style=\"color: #008080; text-decoration-color: #008080; font-weight: bold\">28</span><span style=\"font-weight: bold\">)</span>\n",
       "</pre>\n"
      ],
      "text/plain": [
       "\u001b[1;36m0.06881\u001b[0m         \u001b[1m(\u001b[0m\u001b[1;36m4\u001b[0m, \u001b[1;36m13\u001b[0m, \u001b[1;36m28\u001b[0m\u001b[1m)\u001b[0m\n"
      ]
     },
     "metadata": {},
     "output_type": "display_data"
    },
    {
     "data": {
      "text/html": [
       "<pre style=\"white-space:pre;overflow-x:auto;line-height:normal;font-family:Menlo,'DejaVu Sans Mono',consolas,'Courier New',monospace\"><span style=\"color: #008080; text-decoration-color: #008080; font-weight: bold\">0.06990</span>         <span style=\"font-weight: bold\">(</span><span style=\"color: #008080; text-decoration-color: #008080; font-weight: bold\">3</span>, <span style=\"color: #008080; text-decoration-color: #008080; font-weight: bold\">16</span>, <span style=\"color: #008080; text-decoration-color: #008080; font-weight: bold\">31</span><span style=\"font-weight: bold\">)</span>\n",
       "</pre>\n"
      ],
      "text/plain": [
       "\u001b[1;36m0.06990\u001b[0m         \u001b[1m(\u001b[0m\u001b[1;36m3\u001b[0m, \u001b[1;36m16\u001b[0m, \u001b[1;36m31\u001b[0m\u001b[1m)\u001b[0m\n"
      ]
     },
     "metadata": {},
     "output_type": "display_data"
    },
    {
     "data": {
      "text/html": [
       "<pre style=\"white-space:pre;overflow-x:auto;line-height:normal;font-family:Menlo,'DejaVu Sans Mono',consolas,'Courier New',monospace\"><span style=\"color: #008080; text-decoration-color: #008080; font-weight: bold\">0.06990</span>         <span style=\"font-weight: bold\">(</span><span style=\"color: #008080; text-decoration-color: #008080; font-weight: bold\">3</span>, <span style=\"color: #008080; text-decoration-color: #008080; font-weight: bold\">16</span><span style=\"font-weight: bold\">)</span>\n",
       "</pre>\n"
      ],
      "text/plain": [
       "\u001b[1;36m0.06990\u001b[0m         \u001b[1m(\u001b[0m\u001b[1;36m3\u001b[0m, \u001b[1;36m16\u001b[0m\u001b[1m)\u001b[0m\n"
      ]
     },
     "metadata": {},
     "output_type": "display_data"
    },
    {
     "data": {
      "text/html": [
       "<pre style=\"white-space:pre;overflow-x:auto;line-height:normal;font-family:Menlo,'DejaVu Sans Mono',consolas,'Courier New',monospace\"><span style=\"color: #008080; text-decoration-color: #008080; font-weight: bold\">0.07004</span>         <span style=\"font-weight: bold\">(</span><span style=\"color: #008080; text-decoration-color: #008080; font-weight: bold\">3</span>, <span style=\"color: #008080; text-decoration-color: #008080; font-weight: bold\">37</span><span style=\"font-weight: bold\">)</span>\n",
       "</pre>\n"
      ],
      "text/plain": [
       "\u001b[1;36m0.07004\u001b[0m         \u001b[1m(\u001b[0m\u001b[1;36m3\u001b[0m, \u001b[1;36m37\u001b[0m\u001b[1m)\u001b[0m\n"
      ]
     },
     "metadata": {},
     "output_type": "display_data"
    },
    {
     "data": {
      "text/html": [
       "<pre style=\"white-space:pre;overflow-x:auto;line-height:normal;font-family:Menlo,'DejaVu Sans Mono',consolas,'Courier New',monospace\"><span style=\"color: #008080; text-decoration-color: #008080; font-weight: bold\">0.07046</span>         <span style=\"font-weight: bold\">(</span><span style=\"color: #008080; text-decoration-color: #008080; font-weight: bold\">1</span>, <span style=\"color: #008080; text-decoration-color: #008080; font-weight: bold\">12</span><span style=\"font-weight: bold\">)</span>\n",
       "</pre>\n"
      ],
      "text/plain": [
       "\u001b[1;36m0.07046\u001b[0m         \u001b[1m(\u001b[0m\u001b[1;36m1\u001b[0m, \u001b[1;36m12\u001b[0m\u001b[1m)\u001b[0m\n"
      ]
     },
     "metadata": {},
     "output_type": "display_data"
    },
    {
     "data": {
      "text/html": [
       "<pre style=\"white-space:pre;overflow-x:auto;line-height:normal;font-family:Menlo,'DejaVu Sans Mono',consolas,'Courier New',monospace\"><span style=\"color: #008080; text-decoration-color: #008080; font-weight: bold\">0.07211</span>         <span style=\"font-weight: bold\">(</span><span style=\"color: #008080; text-decoration-color: #008080; font-weight: bold\">0</span>, <span style=\"color: #008080; text-decoration-color: #008080; font-weight: bold\">42</span><span style=\"font-weight: bold\">)</span>\n",
       "</pre>\n"
      ],
      "text/plain": [
       "\u001b[1;36m0.07211\u001b[0m         \u001b[1m(\u001b[0m\u001b[1;36m0\u001b[0m, \u001b[1;36m42\u001b[0m\u001b[1m)\u001b[0m\n"
      ]
     },
     "metadata": {},
     "output_type": "display_data"
    },
    {
     "data": {
      "text/html": [
       "<pre style=\"white-space:pre;overflow-x:auto;line-height:normal;font-family:Menlo,'DejaVu Sans Mono',consolas,'Courier New',monospace\"><span style=\"color: #008080; text-decoration-color: #008080; font-weight: bold\">0.07211</span>         <span style=\"font-weight: bold\">(</span><span style=\"color: #008080; text-decoration-color: #008080; font-weight: bold\">0</span>, <span style=\"color: #008080; text-decoration-color: #008080; font-weight: bold\">17</span>, <span style=\"color: #008080; text-decoration-color: #008080; font-weight: bold\">42</span><span style=\"font-weight: bold\">)</span>\n",
       "</pre>\n"
      ],
      "text/plain": [
       "\u001b[1;36m0.07211\u001b[0m         \u001b[1m(\u001b[0m\u001b[1;36m0\u001b[0m, \u001b[1;36m17\u001b[0m, \u001b[1;36m42\u001b[0m\u001b[1m)\u001b[0m\n"
      ]
     },
     "metadata": {},
     "output_type": "display_data"
    },
    {
     "data": {
      "text/html": [
       "<pre style=\"white-space:pre;overflow-x:auto;line-height:normal;font-family:Menlo,'DejaVu Sans Mono',consolas,'Courier New',monospace\"><span style=\"color: #008080; text-decoration-color: #008080; font-weight: bold\">0.07222</span>         <span style=\"font-weight: bold\">(</span><span style=\"color: #008080; text-decoration-color: #008080; font-weight: bold\">1</span>, <span style=\"color: #008080; text-decoration-color: #008080; font-weight: bold\">9</span>, <span style=\"color: #008080; text-decoration-color: #008080; font-weight: bold\">38</span><span style=\"font-weight: bold\">)</span>\n",
       "</pre>\n"
      ],
      "text/plain": [
       "\u001b[1;36m0.07222\u001b[0m         \u001b[1m(\u001b[0m\u001b[1;36m1\u001b[0m, \u001b[1;36m9\u001b[0m, \u001b[1;36m38\u001b[0m\u001b[1m)\u001b[0m\n"
      ]
     },
     "metadata": {},
     "output_type": "display_data"
    },
    {
     "data": {
      "text/html": [
       "<pre style=\"white-space:pre;overflow-x:auto;line-height:normal;font-family:Menlo,'DejaVu Sans Mono',consolas,'Courier New',monospace\"><span style=\"color: #008080; text-decoration-color: #008080; font-weight: bold\">0.07222</span>         <span style=\"font-weight: bold\">(</span><span style=\"color: #008080; text-decoration-color: #008080; font-weight: bold\">1</span>, <span style=\"color: #008080; text-decoration-color: #008080; font-weight: bold\">38</span><span style=\"font-weight: bold\">)</span>\n",
       "</pre>\n"
      ],
      "text/plain": [
       "\u001b[1;36m0.07222\u001b[0m         \u001b[1m(\u001b[0m\u001b[1;36m1\u001b[0m, \u001b[1;36m38\u001b[0m\u001b[1m)\u001b[0m\n"
      ]
     },
     "metadata": {},
     "output_type": "display_data"
    },
    {
     "data": {
      "text/html": [
       "<pre style=\"white-space:pre;overflow-x:auto;line-height:normal;font-family:Menlo,'DejaVu Sans Mono',consolas,'Courier New',monospace\"><span style=\"color: #008080; text-decoration-color: #008080; font-weight: bold\">0.07369</span>         <span style=\"font-weight: bold\">(</span><span style=\"color: #008080; text-decoration-color: #008080; font-weight: bold\">1</span>, <span style=\"color: #008080; text-decoration-color: #008080; font-weight: bold\">12</span>, <span style=\"color: #008080; text-decoration-color: #008080; font-weight: bold\">38</span><span style=\"font-weight: bold\">)</span>\n",
       "</pre>\n"
      ],
      "text/plain": [
       "\u001b[1;36m0.07369\u001b[0m         \u001b[1m(\u001b[0m\u001b[1;36m1\u001b[0m, \u001b[1;36m12\u001b[0m, \u001b[1;36m38\u001b[0m\u001b[1m)\u001b[0m\n"
      ]
     },
     "metadata": {},
     "output_type": "display_data"
    },
    {
     "data": {
      "text/html": [
       "<pre style=\"white-space:pre;overflow-x:auto;line-height:normal;font-family:Menlo,'DejaVu Sans Mono',consolas,'Courier New',monospace\"><span style=\"color: #008080; text-decoration-color: #008080; font-weight: bold\">0.07573</span>         <span style=\"font-weight: bold\">(</span><span style=\"color: #008080; text-decoration-color: #008080; font-weight: bold\">15</span>, <span style=\"color: #008080; text-decoration-color: #008080; font-weight: bold\">37</span>, <span style=\"color: #008080; text-decoration-color: #008080; font-weight: bold\">49</span><span style=\"font-weight: bold\">)</span>\n",
       "</pre>\n"
      ],
      "text/plain": [
       "\u001b[1;36m0.07573\u001b[0m         \u001b[1m(\u001b[0m\u001b[1;36m15\u001b[0m, \u001b[1;36m37\u001b[0m, \u001b[1;36m49\u001b[0m\u001b[1m)\u001b[0m\n"
      ]
     },
     "metadata": {},
     "output_type": "display_data"
    },
    {
     "data": {
      "text/html": [
       "<pre style=\"white-space:pre;overflow-x:auto;line-height:normal;font-family:Menlo,'DejaVu Sans Mono',consolas,'Courier New',monospace\"><span style=\"color: #008080; text-decoration-color: #008080; font-weight: bold\">0.07573</span>         <span style=\"font-weight: bold\">(</span><span style=\"color: #008080; text-decoration-color: #008080; font-weight: bold\">37</span>, <span style=\"color: #008080; text-decoration-color: #008080; font-weight: bold\">49</span><span style=\"font-weight: bold\">)</span>\n",
       "</pre>\n"
      ],
      "text/plain": [
       "\u001b[1;36m0.07573\u001b[0m         \u001b[1m(\u001b[0m\u001b[1;36m37\u001b[0m, \u001b[1;36m49\u001b[0m\u001b[1m)\u001b[0m\n"
      ]
     },
     "metadata": {},
     "output_type": "display_data"
    },
    {
     "data": {
      "text/html": [
       "<pre style=\"white-space:pre;overflow-x:auto;line-height:normal;font-family:Menlo,'DejaVu Sans Mono',consolas,'Courier New',monospace\"><span style=\"color: #008080; text-decoration-color: #008080; font-weight: bold\">0.07579</span>         <span style=\"font-weight: bold\">(</span><span style=\"color: #008080; text-decoration-color: #008080; font-weight: bold\">10</span>, <span style=\"color: #008080; text-decoration-color: #008080; font-weight: bold\">22</span><span style=\"font-weight: bold\">)</span>\n",
       "</pre>\n"
      ],
      "text/plain": [
       "\u001b[1;36m0.07579\u001b[0m         \u001b[1m(\u001b[0m\u001b[1;36m10\u001b[0m, \u001b[1;36m22\u001b[0m\u001b[1m)\u001b[0m\n"
      ]
     },
     "metadata": {},
     "output_type": "display_data"
    },
    {
     "data": {
      "text/html": [
       "<pre style=\"white-space:pre;overflow-x:auto;line-height:normal;font-family:Menlo,'DejaVu Sans Mono',consolas,'Courier New',monospace\"><span style=\"color: #008080; text-decoration-color: #008080; font-weight: bold\">0.07598</span>         <span style=\"font-weight: bold\">(</span><span style=\"color: #008080; text-decoration-color: #008080; font-weight: bold\">29</span>, <span style=\"color: #008080; text-decoration-color: #008080; font-weight: bold\">37</span><span style=\"font-weight: bold\">)</span>\n",
       "</pre>\n"
      ],
      "text/plain": [
       "\u001b[1;36m0.07598\u001b[0m         \u001b[1m(\u001b[0m\u001b[1;36m29\u001b[0m, \u001b[1;36m37\u001b[0m\u001b[1m)\u001b[0m\n"
      ]
     },
     "metadata": {},
     "output_type": "display_data"
    },
    {
     "data": {
      "text/html": [
       "<pre style=\"white-space:pre;overflow-x:auto;line-height:normal;font-family:Menlo,'DejaVu Sans Mono',consolas,'Courier New',monospace\"><span style=\"color: #008080; text-decoration-color: #008080; font-weight: bold\">0.07645</span>         <span style=\"font-weight: bold\">(</span><span style=\"color: #008080; text-decoration-color: #008080; font-weight: bold\">29</span>, <span style=\"color: #008080; text-decoration-color: #008080; font-weight: bold\">37</span>, <span style=\"color: #008080; text-decoration-color: #008080; font-weight: bold\">49</span><span style=\"font-weight: bold\">)</span>\n",
       "</pre>\n"
      ],
      "text/plain": [
       "\u001b[1;36m0.07645\u001b[0m         \u001b[1m(\u001b[0m\u001b[1;36m29\u001b[0m, \u001b[1;36m37\u001b[0m, \u001b[1;36m49\u001b[0m\u001b[1m)\u001b[0m\n"
      ]
     },
     "metadata": {},
     "output_type": "display_data"
    },
    {
     "data": {
      "text/html": [
       "<pre style=\"white-space:pre;overflow-x:auto;line-height:normal;font-family:Menlo,'DejaVu Sans Mono',consolas,'Courier New',monospace\"><span style=\"color: #008080; text-decoration-color: #008080; font-weight: bold\">0.07702</span>         <span style=\"font-weight: bold\">(</span><span style=\"color: #008080; text-decoration-color: #008080; font-weight: bold\">16</span>, <span style=\"color: #008080; text-decoration-color: #008080; font-weight: bold\">26</span><span style=\"font-weight: bold\">)</span>\n",
       "</pre>\n"
      ],
      "text/plain": [
       "\u001b[1;36m0.07702\u001b[0m         \u001b[1m(\u001b[0m\u001b[1;36m16\u001b[0m, \u001b[1;36m26\u001b[0m\u001b[1m)\u001b[0m\n"
      ]
     },
     "metadata": {},
     "output_type": "display_data"
    },
    {
     "data": {
      "text/html": [
       "<pre style=\"white-space:pre;overflow-x:auto;line-height:normal;font-family:Menlo,'DejaVu Sans Mono',consolas,'Courier New',monospace\"><span style=\"color: #008080; text-decoration-color: #008080; font-weight: bold\">0.07995</span>         <span style=\"font-weight: bold\">(</span><span style=\"color: #008080; text-decoration-color: #008080; font-weight: bold\">14</span>, <span style=\"color: #008080; text-decoration-color: #008080; font-weight: bold\">48</span><span style=\"font-weight: bold\">)</span>\n",
       "</pre>\n"
      ],
      "text/plain": [
       "\u001b[1;36m0.07995\u001b[0m         \u001b[1m(\u001b[0m\u001b[1;36m14\u001b[0m, \u001b[1;36m48\u001b[0m\u001b[1m)\u001b[0m\n"
      ]
     },
     "metadata": {},
     "output_type": "display_data"
    },
    {
     "data": {
      "text/html": [
       "<pre style=\"white-space:pre;overflow-x:auto;line-height:normal;font-family:Menlo,'DejaVu Sans Mono',consolas,'Courier New',monospace\"><span style=\"color: #008080; text-decoration-color: #008080; font-weight: bold\">0.08036</span>         <span style=\"font-weight: bold\">(</span><span style=\"color: #008080; text-decoration-color: #008080; font-weight: bold\">0</span>, <span style=\"color: #008080; text-decoration-color: #008080; font-weight: bold\">43</span><span style=\"font-weight: bold\">)</span>\n",
       "</pre>\n"
      ],
      "text/plain": [
       "\u001b[1;36m0.08036\u001b[0m         \u001b[1m(\u001b[0m\u001b[1;36m0\u001b[0m, \u001b[1;36m43\u001b[0m\u001b[1m)\u001b[0m\n"
      ]
     },
     "metadata": {},
     "output_type": "display_data"
    },
    {
     "data": {
      "text/html": [
       "<pre style=\"white-space:pre;overflow-x:auto;line-height:normal;font-family:Menlo,'DejaVu Sans Mono',consolas,'Courier New',monospace\"><span style=\"color: #008080; text-decoration-color: #008080; font-weight: bold\">0.08172</span>         <span style=\"font-weight: bold\">(</span><span style=\"color: #008080; text-decoration-color: #008080; font-weight: bold\">15</span>, <span style=\"color: #008080; text-decoration-color: #008080; font-weight: bold\">16</span><span style=\"font-weight: bold\">)</span>\n",
       "</pre>\n"
      ],
      "text/plain": [
       "\u001b[1;36m0.08172\u001b[0m         \u001b[1m(\u001b[0m\u001b[1;36m15\u001b[0m, \u001b[1;36m16\u001b[0m\u001b[1m)\u001b[0m\n"
      ]
     },
     "metadata": {},
     "output_type": "display_data"
    },
    {
     "data": {
      "text/html": [
       "<pre style=\"white-space:pre;overflow-x:auto;line-height:normal;font-family:Menlo,'DejaVu Sans Mono',consolas,'Courier New',monospace\"><span style=\"color: #008080; text-decoration-color: #008080; font-weight: bold\">0.08327</span>         <span style=\"font-weight: bold\">(</span><span style=\"color: #008080; text-decoration-color: #008080; font-weight: bold\">9</span>, <span style=\"color: #008080; text-decoration-color: #008080; font-weight: bold\">20</span><span style=\"font-weight: bold\">)</span>\n",
       "</pre>\n"
      ],
      "text/plain": [
       "\u001b[1;36m0.08327\u001b[0m         \u001b[1m(\u001b[0m\u001b[1;36m9\u001b[0m, \u001b[1;36m20\u001b[0m\u001b[1m)\u001b[0m\n"
      ]
     },
     "metadata": {},
     "output_type": "display_data"
    },
    {
     "data": {
      "text/html": [
       "<pre style=\"white-space:pre;overflow-x:auto;line-height:normal;font-family:Menlo,'DejaVu Sans Mono',consolas,'Courier New',monospace\"><span style=\"color: #008080; text-decoration-color: #008080; font-weight: bold\">0.08327</span>         <span style=\"font-weight: bold\">(</span><span style=\"color: #008080; text-decoration-color: #008080; font-weight: bold\">9</span>, <span style=\"color: #008080; text-decoration-color: #008080; font-weight: bold\">20</span>, <span style=\"color: #008080; text-decoration-color: #008080; font-weight: bold\">38</span><span style=\"font-weight: bold\">)</span>\n",
       "</pre>\n"
      ],
      "text/plain": [
       "\u001b[1;36m0.08327\u001b[0m         \u001b[1m(\u001b[0m\u001b[1;36m9\u001b[0m, \u001b[1;36m20\u001b[0m, \u001b[1;36m38\u001b[0m\u001b[1m)\u001b[0m\n"
      ]
     },
     "metadata": {},
     "output_type": "display_data"
    },
    {
     "data": {
      "text/html": [
       "<pre style=\"white-space:pre;overflow-x:auto;line-height:normal;font-family:Menlo,'DejaVu Sans Mono',consolas,'Courier New',monospace\"><span style=\"color: #008080; text-decoration-color: #008080; font-weight: bold\">0.08344</span>         <span style=\"font-weight: bold\">(</span><span style=\"color: #008080; text-decoration-color: #008080; font-weight: bold\">7</span>, <span style=\"color: #008080; text-decoration-color: #008080; font-weight: bold\">26</span><span style=\"font-weight: bold\">)</span>\n",
       "</pre>\n"
      ],
      "text/plain": [
       "\u001b[1;36m0.08344\u001b[0m         \u001b[1m(\u001b[0m\u001b[1;36m7\u001b[0m, \u001b[1;36m26\u001b[0m\u001b[1m)\u001b[0m\n"
      ]
     },
     "metadata": {},
     "output_type": "display_data"
    },
    {
     "data": {
      "text/html": [
       "<pre style=\"white-space:pre;overflow-x:auto;line-height:normal;font-family:Menlo,'DejaVu Sans Mono',consolas,'Courier New',monospace\"><span style=\"color: #008080; text-decoration-color: #008080; font-weight: bold\">0.08366</span>         <span style=\"font-weight: bold\">(</span><span style=\"color: #008080; text-decoration-color: #008080; font-weight: bold\">30</span>, <span style=\"color: #008080; text-decoration-color: #008080; font-weight: bold\">44</span><span style=\"font-weight: bold\">)</span>\n",
       "</pre>\n"
      ],
      "text/plain": [
       "\u001b[1;36m0.08366\u001b[0m         \u001b[1m(\u001b[0m\u001b[1;36m30\u001b[0m, \u001b[1;36m44\u001b[0m\u001b[1m)\u001b[0m\n"
      ]
     },
     "metadata": {},
     "output_type": "display_data"
    },
    {
     "data": {
      "text/html": [
       "<pre style=\"white-space:pre;overflow-x:auto;line-height:normal;font-family:Menlo,'DejaVu Sans Mono',consolas,'Courier New',monospace\"><span style=\"color: #008080; text-decoration-color: #008080; font-weight: bold\">0.08374</span>         <span style=\"font-weight: bold\">(</span><span style=\"color: #008080; text-decoration-color: #008080; font-weight: bold\">25</span>, <span style=\"color: #008080; text-decoration-color: #008080; font-weight: bold\">34</span><span style=\"font-weight: bold\">)</span>\n",
       "</pre>\n"
      ],
      "text/plain": [
       "\u001b[1;36m0.08374\u001b[0m         \u001b[1m(\u001b[0m\u001b[1;36m25\u001b[0m, \u001b[1;36m34\u001b[0m\u001b[1m)\u001b[0m\n"
      ]
     },
     "metadata": {},
     "output_type": "display_data"
    },
    {
     "data": {
      "text/html": [
       "<pre style=\"white-space:pre;overflow-x:auto;line-height:normal;font-family:Menlo,'DejaVu Sans Mono',consolas,'Courier New',monospace\"><span style=\"color: #008080; text-decoration-color: #008080; font-weight: bold\">0.08477</span>         <span style=\"font-weight: bold\">(</span><span style=\"color: #008080; text-decoration-color: #008080; font-weight: bold\">5</span>, <span style=\"color: #008080; text-decoration-color: #008080; font-weight: bold\">27</span>, <span style=\"color: #008080; text-decoration-color: #008080; font-weight: bold\">35</span><span style=\"font-weight: bold\">)</span>\n",
       "</pre>\n"
      ],
      "text/plain": [
       "\u001b[1;36m0.08477\u001b[0m         \u001b[1m(\u001b[0m\u001b[1;36m5\u001b[0m, \u001b[1;36m27\u001b[0m, \u001b[1;36m35\u001b[0m\u001b[1m)\u001b[0m\n"
      ]
     },
     "metadata": {},
     "output_type": "display_data"
    },
    {
     "data": {
      "text/html": [
       "<pre style=\"white-space:pre;overflow-x:auto;line-height:normal;font-family:Menlo,'DejaVu Sans Mono',consolas,'Courier New',monospace\"><span style=\"color: #008080; text-decoration-color: #008080; font-weight: bold\">0.08477</span>         <span style=\"font-weight: bold\">(</span><span style=\"color: #008080; text-decoration-color: #008080; font-weight: bold\">27</span>, <span style=\"color: #008080; text-decoration-color: #008080; font-weight: bold\">35</span><span style=\"font-weight: bold\">)</span>\n",
       "</pre>\n"
      ],
      "text/plain": [
       "\u001b[1;36m0.08477\u001b[0m         \u001b[1m(\u001b[0m\u001b[1;36m27\u001b[0m, \u001b[1;36m35\u001b[0m\u001b[1m)\u001b[0m\n"
      ]
     },
     "metadata": {},
     "output_type": "display_data"
    },
    {
     "data": {
      "text/html": [
       "<pre style=\"white-space:pre;overflow-x:auto;line-height:normal;font-family:Menlo,'DejaVu Sans Mono',consolas,'Courier New',monospace\"><span style=\"color: #008080; text-decoration-color: #008080; font-weight: bold\">0.08508</span>         <span style=\"font-weight: bold\">(</span><span style=\"color: #008080; text-decoration-color: #008080; font-weight: bold\">3</span>, <span style=\"color: #008080; text-decoration-color: #008080; font-weight: bold\">15</span><span style=\"font-weight: bold\">)</span>\n",
       "</pre>\n"
      ],
      "text/plain": [
       "\u001b[1;36m0.08508\u001b[0m         \u001b[1m(\u001b[0m\u001b[1;36m3\u001b[0m, \u001b[1;36m15\u001b[0m\u001b[1m)\u001b[0m\n"
      ]
     },
     "metadata": {},
     "output_type": "display_data"
    },
    {
     "data": {
      "text/html": [
       "<pre style=\"white-space:pre;overflow-x:auto;line-height:normal;font-family:Menlo,'DejaVu Sans Mono',consolas,'Courier New',monospace\"><span style=\"color: #008080; text-decoration-color: #008080; font-weight: bold\">0.08508</span>         <span style=\"font-weight: bold\">(</span><span style=\"color: #008080; text-decoration-color: #008080; font-weight: bold\">3</span>, <span style=\"color: #008080; text-decoration-color: #008080; font-weight: bold\">15</span>, <span style=\"color: #008080; text-decoration-color: #008080; font-weight: bold\">37</span><span style=\"font-weight: bold\">)</span>\n",
       "</pre>\n"
      ],
      "text/plain": [
       "\u001b[1;36m0.08508\u001b[0m         \u001b[1m(\u001b[0m\u001b[1;36m3\u001b[0m, \u001b[1;36m15\u001b[0m, \u001b[1;36m37\u001b[0m\u001b[1m)\u001b[0m\n"
      ]
     },
     "metadata": {},
     "output_type": "display_data"
    },
    {
     "data": {
      "text/html": [
       "<pre style=\"white-space:pre;overflow-x:auto;line-height:normal;font-family:Menlo,'DejaVu Sans Mono',consolas,'Courier New',monospace\"><span style=\"color: #008080; text-decoration-color: #008080; font-weight: bold\">0.08817</span>         <span style=\"font-weight: bold\">(</span><span style=\"color: #008080; text-decoration-color: #008080; font-weight: bold\">23</span>, <span style=\"color: #008080; text-decoration-color: #008080; font-weight: bold\">25</span>, <span style=\"color: #008080; text-decoration-color: #008080; font-weight: bold\">46</span><span style=\"font-weight: bold\">)</span>\n",
       "</pre>\n"
      ],
      "text/plain": [
       "\u001b[1;36m0.08817\u001b[0m         \u001b[1m(\u001b[0m\u001b[1;36m23\u001b[0m, \u001b[1;36m25\u001b[0m, \u001b[1;36m46\u001b[0m\u001b[1m)\u001b[0m\n"
      ]
     },
     "metadata": {},
     "output_type": "display_data"
    },
    {
     "data": {
      "text/html": [
       "<pre style=\"white-space:pre;overflow-x:auto;line-height:normal;font-family:Menlo,'DejaVu Sans Mono',consolas,'Courier New',monospace\"><span style=\"color: #008080; text-decoration-color: #008080; font-weight: bold\">0.08817</span>         <span style=\"font-weight: bold\">(</span><span style=\"color: #008080; text-decoration-color: #008080; font-weight: bold\">25</span>, <span style=\"color: #008080; text-decoration-color: #008080; font-weight: bold\">46</span><span style=\"font-weight: bold\">)</span>\n",
       "</pre>\n"
      ],
      "text/plain": [
       "\u001b[1;36m0.08817\u001b[0m         \u001b[1m(\u001b[0m\u001b[1;36m25\u001b[0m, \u001b[1;36m46\u001b[0m\u001b[1m)\u001b[0m\n"
      ]
     },
     "metadata": {},
     "output_type": "display_data"
    },
    {
     "data": {
      "text/html": [
       "<pre style=\"white-space:pre;overflow-x:auto;line-height:normal;font-family:Menlo,'DejaVu Sans Mono',consolas,'Courier New',monospace\"><span style=\"color: #008080; text-decoration-color: #008080; font-weight: bold\">0.08842</span>         <span style=\"font-weight: bold\">(</span><span style=\"color: #008080; text-decoration-color: #008080; font-weight: bold\">43</span>, <span style=\"color: #008080; text-decoration-color: #008080; font-weight: bold\">49</span><span style=\"font-weight: bold\">)</span>\n",
       "</pre>\n"
      ],
      "text/plain": [
       "\u001b[1;36m0.08842\u001b[0m         \u001b[1m(\u001b[0m\u001b[1;36m43\u001b[0m, \u001b[1;36m49\u001b[0m\u001b[1m)\u001b[0m\n"
      ]
     },
     "metadata": {},
     "output_type": "display_data"
    },
    {
     "data": {
      "text/html": [
       "<pre style=\"white-space:pre;overflow-x:auto;line-height:normal;font-family:Menlo,'DejaVu Sans Mono',consolas,'Courier New',monospace\"><span style=\"color: #008080; text-decoration-color: #008080; font-weight: bold\">0.08847</span>         <span style=\"font-weight: bold\">(</span><span style=\"color: #008080; text-decoration-color: #008080; font-weight: bold\">26</span>, <span style=\"color: #008080; text-decoration-color: #008080; font-weight: bold\">40</span><span style=\"font-weight: bold\">)</span>\n",
       "</pre>\n"
      ],
      "text/plain": [
       "\u001b[1;36m0.08847\u001b[0m         \u001b[1m(\u001b[0m\u001b[1;36m26\u001b[0m, \u001b[1;36m40\u001b[0m\u001b[1m)\u001b[0m\n"
      ]
     },
     "metadata": {},
     "output_type": "display_data"
    },
    {
     "data": {
      "text/html": [
       "<pre style=\"white-space:pre;overflow-x:auto;line-height:normal;font-family:Menlo,'DejaVu Sans Mono',consolas,'Courier New',monospace\"><span style=\"color: #008080; text-decoration-color: #008080; font-weight: bold\">0.08853</span>         <span style=\"font-weight: bold\">(</span><span style=\"color: #008080; text-decoration-color: #008080; font-weight: bold\">7</span>, <span style=\"color: #008080; text-decoration-color: #008080; font-weight: bold\">26</span>, <span style=\"color: #008080; text-decoration-color: #008080; font-weight: bold\">40</span><span style=\"font-weight: bold\">)</span>\n",
       "</pre>\n"
      ],
      "text/plain": [
       "\u001b[1;36m0.08853\u001b[0m         \u001b[1m(\u001b[0m\u001b[1;36m7\u001b[0m, \u001b[1;36m26\u001b[0m, \u001b[1;36m40\u001b[0m\u001b[1m)\u001b[0m\n"
      ]
     },
     "metadata": {},
     "output_type": "display_data"
    },
    {
     "data": {
      "text/html": [
       "<pre style=\"white-space:pre;overflow-x:auto;line-height:normal;font-family:Menlo,'DejaVu Sans Mono',consolas,'Courier New',monospace\"><span style=\"color: #008080; text-decoration-color: #008080; font-weight: bold\">0.08917</span>         <span style=\"font-weight: bold\">(</span><span style=\"color: #008080; text-decoration-color: #008080; font-weight: bold\">8</span>, <span style=\"color: #008080; text-decoration-color: #008080; font-weight: bold\">14</span><span style=\"font-weight: bold\">)</span>\n",
       "</pre>\n"
      ],
      "text/plain": [
       "\u001b[1;36m0.08917\u001b[0m         \u001b[1m(\u001b[0m\u001b[1;36m8\u001b[0m, \u001b[1;36m14\u001b[0m\u001b[1m)\u001b[0m\n"
      ]
     },
     "metadata": {},
     "output_type": "display_data"
    },
    {
     "data": {
      "text/html": [
       "<pre style=\"white-space:pre;overflow-x:auto;line-height:normal;font-family:Menlo,'DejaVu Sans Mono',consolas,'Courier New',monospace\"><span style=\"color: #008080; text-decoration-color: #008080; font-weight: bold\">0.08977</span>         <span style=\"font-weight: bold\">(</span><span style=\"color: #008080; text-decoration-color: #008080; font-weight: bold\">25</span>, <span style=\"color: #008080; text-decoration-color: #008080; font-weight: bold\">34</span>, <span style=\"color: #008080; text-decoration-color: #008080; font-weight: bold\">46</span><span style=\"font-weight: bold\">)</span>\n",
       "</pre>\n"
      ],
      "text/plain": [
       "\u001b[1;36m0.08977\u001b[0m         \u001b[1m(\u001b[0m\u001b[1;36m25\u001b[0m, \u001b[1;36m34\u001b[0m, \u001b[1;36m46\u001b[0m\u001b[1m)\u001b[0m\n"
      ]
     },
     "metadata": {},
     "output_type": "display_data"
    },
    {
     "data": {
      "text/html": [
       "<pre style=\"white-space:pre;overflow-x:auto;line-height:normal;font-family:Menlo,'DejaVu Sans Mono',consolas,'Courier New',monospace\"><span style=\"color: #008080; text-decoration-color: #008080; font-weight: bold\">0.09013</span>         <span style=\"font-weight: bold\">(</span><span style=\"color: #008080; text-decoration-color: #008080; font-weight: bold\">30</span>, <span style=\"color: #008080; text-decoration-color: #008080; font-weight: bold\">49</span><span style=\"font-weight: bold\">)</span>\n",
       "</pre>\n"
      ],
      "text/plain": [
       "\u001b[1;36m0.09013\u001b[0m         \u001b[1m(\u001b[0m\u001b[1;36m30\u001b[0m, \u001b[1;36m49\u001b[0m\u001b[1m)\u001b[0m\n"
      ]
     },
     "metadata": {},
     "output_type": "display_data"
    },
    {
     "data": {
      "text/html": [
       "<pre style=\"white-space:pre;overflow-x:auto;line-height:normal;font-family:Menlo,'DejaVu Sans Mono',consolas,'Courier New',monospace\"><span style=\"color: #008080; text-decoration-color: #008080; font-weight: bold\">0.09061</span>         <span style=\"font-weight: bold\">(</span><span style=\"color: #008080; text-decoration-color: #008080; font-weight: bold\">3</span>, <span style=\"color: #008080; text-decoration-color: #008080; font-weight: bold\">15</span>, <span style=\"color: #008080; text-decoration-color: #008080; font-weight: bold\">16</span><span style=\"font-weight: bold\">)</span>\n",
       "</pre>\n"
      ],
      "text/plain": [
       "\u001b[1;36m0.09061\u001b[0m         \u001b[1m(\u001b[0m\u001b[1;36m3\u001b[0m, \u001b[1;36m15\u001b[0m, \u001b[1;36m16\u001b[0m\u001b[1m)\u001b[0m\n"
      ]
     },
     "metadata": {},
     "output_type": "display_data"
    },
    {
     "data": {
      "text/html": [
       "<pre style=\"white-space:pre;overflow-x:auto;line-height:normal;font-family:Menlo,'DejaVu Sans Mono',consolas,'Courier New',monospace\"><span style=\"color: #008080; text-decoration-color: #008080; font-weight: bold\">0.09073</span>         <span style=\"font-weight: bold\">(</span><span style=\"color: #008080; text-decoration-color: #008080; font-weight: bold\">21</span>, <span style=\"color: #008080; text-decoration-color: #008080; font-weight: bold\">25</span><span style=\"font-weight: bold\">)</span>\n",
       "</pre>\n"
      ],
      "text/plain": [
       "\u001b[1;36m0.09073\u001b[0m         \u001b[1m(\u001b[0m\u001b[1;36m21\u001b[0m, \u001b[1;36m25\u001b[0m\u001b[1m)\u001b[0m\n"
      ]
     },
     "metadata": {},
     "output_type": "display_data"
    },
    {
     "data": {
      "text/html": [
       "<pre style=\"white-space:pre;overflow-x:auto;line-height:normal;font-family:Menlo,'DejaVu Sans Mono',consolas,'Courier New',monospace\"><span style=\"color: #008080; text-decoration-color: #008080; font-weight: bold\">0.09131</span>         <span style=\"font-weight: bold\">(</span><span style=\"color: #008080; text-decoration-color: #008080; font-weight: bold\">16</span>, <span style=\"color: #008080; text-decoration-color: #008080; font-weight: bold\">26</span>, <span style=\"color: #008080; text-decoration-color: #008080; font-weight: bold\">40</span><span style=\"font-weight: bold\">)</span>\n",
       "</pre>\n"
      ],
      "text/plain": [
       "\u001b[1;36m0.09131\u001b[0m         \u001b[1m(\u001b[0m\u001b[1;36m16\u001b[0m, \u001b[1;36m26\u001b[0m, \u001b[1;36m40\u001b[0m\u001b[1m)\u001b[0m\n"
      ]
     },
     "metadata": {},
     "output_type": "display_data"
    },
    {
     "data": {
      "text/html": [
       "<pre style=\"white-space:pre;overflow-x:auto;line-height:normal;font-family:Menlo,'DejaVu Sans Mono',consolas,'Courier New',monospace\"><span style=\"color: #008080; text-decoration-color: #008080; font-weight: bold\">0.09237</span>         <span style=\"font-weight: bold\">(</span><span style=\"color: #008080; text-decoration-color: #008080; font-weight: bold\">30</span>, <span style=\"color: #008080; text-decoration-color: #008080; font-weight: bold\">43</span><span style=\"font-weight: bold\">)</span>\n",
       "</pre>\n"
      ],
      "text/plain": [
       "\u001b[1;36m0.09237\u001b[0m         \u001b[1m(\u001b[0m\u001b[1;36m30\u001b[0m, \u001b[1;36m43\u001b[0m\u001b[1m)\u001b[0m\n"
      ]
     },
     "metadata": {},
     "output_type": "display_data"
    },
    {
     "data": {
      "text/html": [
       "<pre style=\"white-space:pre;overflow-x:auto;line-height:normal;font-family:Menlo,'DejaVu Sans Mono',consolas,'Courier New',monospace\"><span style=\"color: #008080; text-decoration-color: #008080; font-weight: bold\">0.09304</span>         <span style=\"font-weight: bold\">(</span><span style=\"color: #008080; text-decoration-color: #008080; font-weight: bold\">11</span>, <span style=\"color: #008080; text-decoration-color: #008080; font-weight: bold\">33</span><span style=\"font-weight: bold\">)</span>\n",
       "</pre>\n"
      ],
      "text/plain": [
       "\u001b[1;36m0.09304\u001b[0m         \u001b[1m(\u001b[0m\u001b[1;36m11\u001b[0m, \u001b[1;36m33\u001b[0m\u001b[1m)\u001b[0m\n"
      ]
     },
     "metadata": {},
     "output_type": "display_data"
    },
    {
     "data": {
      "text/html": [
       "<pre style=\"white-space:pre;overflow-x:auto;line-height:normal;font-family:Menlo,'DejaVu Sans Mono',consolas,'Courier New',monospace\"><span style=\"color: #008080; text-decoration-color: #008080; font-weight: bold\">0.09359</span>         <span style=\"font-weight: bold\">(</span><span style=\"color: #008080; text-decoration-color: #008080; font-weight: bold\">5</span>, <span style=\"color: #008080; text-decoration-color: #008080; font-weight: bold\">21</span><span style=\"font-weight: bold\">)</span>\n",
       "</pre>\n"
      ],
      "text/plain": [
       "\u001b[1;36m0.09359\u001b[0m         \u001b[1m(\u001b[0m\u001b[1;36m5\u001b[0m, \u001b[1;36m21\u001b[0m\u001b[1m)\u001b[0m\n"
      ]
     },
     "metadata": {},
     "output_type": "display_data"
    },
    {
     "data": {
      "text/html": [
       "<pre style=\"white-space:pre;overflow-x:auto;line-height:normal;font-family:Menlo,'DejaVu Sans Mono',consolas,'Courier New',monospace\"><span style=\"color: #008080; text-decoration-color: #008080; font-weight: bold\">0.09365</span>         <span style=\"font-weight: bold\">(</span><span style=\"color: #008080; text-decoration-color: #008080; font-weight: bold\">19</span>, <span style=\"color: #008080; text-decoration-color: #008080; font-weight: bold\">45</span><span style=\"font-weight: bold\">)</span>\n",
       "</pre>\n"
      ],
      "text/plain": [
       "\u001b[1;36m0.09365\u001b[0m         \u001b[1m(\u001b[0m\u001b[1;36m19\u001b[0m, \u001b[1;36m45\u001b[0m\u001b[1m)\u001b[0m\n"
      ]
     },
     "metadata": {},
     "output_type": "display_data"
    },
    {
     "data": {
      "text/html": [
       "<pre style=\"white-space:pre;overflow-x:auto;line-height:normal;font-family:Menlo,'DejaVu Sans Mono',consolas,'Courier New',monospace\"><span style=\"color: #008080; text-decoration-color: #008080; font-weight: bold\">0.09411</span>         <span style=\"font-weight: bold\">(</span><span style=\"color: #008080; text-decoration-color: #008080; font-weight: bold\">15</span>, <span style=\"color: #008080; text-decoration-color: #008080; font-weight: bold\">43</span><span style=\"font-weight: bold\">)</span>\n",
       "</pre>\n"
      ],
      "text/plain": [
       "\u001b[1;36m0.09411\u001b[0m         \u001b[1m(\u001b[0m\u001b[1;36m15\u001b[0m, \u001b[1;36m43\u001b[0m\u001b[1m)\u001b[0m\n"
      ]
     },
     "metadata": {},
     "output_type": "display_data"
    },
    {
     "data": {
      "text/html": [
       "<pre style=\"white-space:pre;overflow-x:auto;line-height:normal;font-family:Menlo,'DejaVu Sans Mono',consolas,'Courier New',monospace\"><span style=\"color: #008080; text-decoration-color: #008080; font-weight: bold\">0.09571</span>         <span style=\"font-weight: bold\">(</span><span style=\"color: #008080; text-decoration-color: #008080; font-weight: bold\">7</span>, <span style=\"color: #008080; text-decoration-color: #008080; font-weight: bold\">17</span><span style=\"font-weight: bold\">)</span>\n",
       "</pre>\n"
      ],
      "text/plain": [
       "\u001b[1;36m0.09571\u001b[0m         \u001b[1m(\u001b[0m\u001b[1;36m7\u001b[0m, \u001b[1;36m17\u001b[0m\u001b[1m)\u001b[0m\n"
      ]
     },
     "metadata": {},
     "output_type": "display_data"
    },
    {
     "data": {
      "text/html": [
       "<pre style=\"white-space:pre;overflow-x:auto;line-height:normal;font-family:Menlo,'DejaVu Sans Mono',consolas,'Courier New',monospace\"><span style=\"color: #008080; text-decoration-color: #008080; font-weight: bold\">0.09662</span>         <span style=\"font-weight: bold\">(</span><span style=\"color: #008080; text-decoration-color: #008080; font-weight: bold\">15</span>, <span style=\"color: #008080; text-decoration-color: #008080; font-weight: bold\">43</span>, <span style=\"color: #008080; text-decoration-color: #008080; font-weight: bold\">49</span><span style=\"font-weight: bold\">)</span>\n",
       "</pre>\n"
      ],
      "text/plain": [
       "\u001b[1;36m0.09662\u001b[0m         \u001b[1m(\u001b[0m\u001b[1;36m15\u001b[0m, \u001b[1;36m43\u001b[0m, \u001b[1;36m49\u001b[0m\u001b[1m)\u001b[0m\n"
      ]
     },
     "metadata": {},
     "output_type": "display_data"
    },
    {
     "data": {
      "text/html": [
       "<pre style=\"white-space:pre;overflow-x:auto;line-height:normal;font-family:Menlo,'DejaVu Sans Mono',consolas,'Courier New',monospace\"><span style=\"color: #008080; text-decoration-color: #008080; font-weight: bold\">0.09664</span>         <span style=\"font-weight: bold\">(</span><span style=\"color: #008080; text-decoration-color: #008080; font-weight: bold\">16</span>, <span style=\"color: #008080; text-decoration-color: #008080; font-weight: bold\">26</span>, <span style=\"color: #008080; text-decoration-color: #008080; font-weight: bold\">31</span><span style=\"font-weight: bold\">)</span>\n",
       "</pre>\n"
      ],
      "text/plain": [
       "\u001b[1;36m0.09664\u001b[0m         \u001b[1m(\u001b[0m\u001b[1;36m16\u001b[0m, \u001b[1;36m26\u001b[0m, \u001b[1;36m31\u001b[0m\u001b[1m)\u001b[0m\n"
      ]
     },
     "metadata": {},
     "output_type": "display_data"
    },
    {
     "data": {
      "text/html": [
       "<pre style=\"white-space:pre;overflow-x:auto;line-height:normal;font-family:Menlo,'DejaVu Sans Mono',consolas,'Courier New',monospace\"><span style=\"color: #008080; text-decoration-color: #008080; font-weight: bold\">0.09664</span>         <span style=\"font-weight: bold\">(</span><span style=\"color: #008080; text-decoration-color: #008080; font-weight: bold\">26</span>, <span style=\"color: #008080; text-decoration-color: #008080; font-weight: bold\">31</span><span style=\"font-weight: bold\">)</span>\n",
       "</pre>\n"
      ],
      "text/plain": [
       "\u001b[1;36m0.09664\u001b[0m         \u001b[1m(\u001b[0m\u001b[1;36m26\u001b[0m, \u001b[1;36m31\u001b[0m\u001b[1m)\u001b[0m\n"
      ]
     },
     "metadata": {},
     "output_type": "display_data"
    },
    {
     "data": {
      "text/html": [
       "<pre style=\"white-space:pre;overflow-x:auto;line-height:normal;font-family:Menlo,'DejaVu Sans Mono',consolas,'Courier New',monospace\"><span style=\"color: #008080; text-decoration-color: #008080; font-weight: bold\">0.09708</span>         <span style=\"font-weight: bold\">(</span><span style=\"color: #008080; text-decoration-color: #008080; font-weight: bold\">29</span>, <span style=\"color: #008080; text-decoration-color: #008080; font-weight: bold\">30</span><span style=\"font-weight: bold\">)</span>\n",
       "</pre>\n"
      ],
      "text/plain": [
       "\u001b[1;36m0.09708\u001b[0m         \u001b[1m(\u001b[0m\u001b[1;36m29\u001b[0m, \u001b[1;36m30\u001b[0m\u001b[1m)\u001b[0m\n"
      ]
     },
     "metadata": {},
     "output_type": "display_data"
    },
    {
     "data": {
      "text/html": [
       "<pre style=\"white-space:pre;overflow-x:auto;line-height:normal;font-family:Menlo,'DejaVu Sans Mono',consolas,'Courier New',monospace\"><span style=\"color: #008080; text-decoration-color: #008080; font-weight: bold\">0.09708</span>         <span style=\"font-weight: bold\">(</span><span style=\"color: #008080; text-decoration-color: #008080; font-weight: bold\">29</span>, <span style=\"color: #008080; text-decoration-color: #008080; font-weight: bold\">30</span>, <span style=\"color: #008080; text-decoration-color: #008080; font-weight: bold\">49</span><span style=\"font-weight: bold\">)</span>\n",
       "</pre>\n"
      ],
      "text/plain": [
       "\u001b[1;36m0.09708\u001b[0m         \u001b[1m(\u001b[0m\u001b[1;36m29\u001b[0m, \u001b[1;36m30\u001b[0m, \u001b[1;36m49\u001b[0m\u001b[1m)\u001b[0m\n"
      ]
     },
     "metadata": {},
     "output_type": "display_data"
    },
    {
     "data": {
      "text/html": [
       "<pre style=\"white-space:pre;overflow-x:auto;line-height:normal;font-family:Menlo,'DejaVu Sans Mono',consolas,'Courier New',monospace\"><span style=\"color: #008080; text-decoration-color: #008080; font-weight: bold\">0.09894</span>         <span style=\"font-weight: bold\">(</span><span style=\"color: #008080; text-decoration-color: #008080; font-weight: bold\">26</span>, <span style=\"color: #008080; text-decoration-color: #008080; font-weight: bold\">48</span><span style=\"font-weight: bold\">)</span>\n",
       "</pre>\n"
      ],
      "text/plain": [
       "\u001b[1;36m0.09894\u001b[0m         \u001b[1m(\u001b[0m\u001b[1;36m26\u001b[0m, \u001b[1;36m48\u001b[0m\u001b[1m)\u001b[0m\n"
      ]
     },
     "metadata": {},
     "output_type": "display_data"
    },
    {
     "data": {
      "text/html": [
       "<pre style=\"white-space:pre;overflow-x:auto;line-height:normal;font-family:Menlo,'DejaVu Sans Mono',consolas,'Courier New',monospace\"><span style=\"color: #008080; text-decoration-color: #008080; font-weight: bold\">0.09913</span>         <span style=\"font-weight: bold\">(</span><span style=\"color: #008080; text-decoration-color: #008080; font-weight: bold\">10</span>, <span style=\"color: #008080; text-decoration-color: #008080; font-weight: bold\">11</span><span style=\"font-weight: bold\">)</span>\n",
       "</pre>\n"
      ],
      "text/plain": [
       "\u001b[1;36m0.09913\u001b[0m         \u001b[1m(\u001b[0m\u001b[1;36m10\u001b[0m, \u001b[1;36m11\u001b[0m\u001b[1m)\u001b[0m\n"
      ]
     },
     "metadata": {},
     "output_type": "display_data"
    },
    {
     "data": {
      "text/html": [
       "<pre style=\"white-space:pre;overflow-x:auto;line-height:normal;font-family:Menlo,'DejaVu Sans Mono',consolas,'Courier New',monospace\"><span style=\"color: #008080; text-decoration-color: #008080; font-weight: bold\">0.09959</span>         <span style=\"font-weight: bold\">(</span><span style=\"color: #008080; text-decoration-color: #008080; font-weight: bold\">26</span>, <span style=\"color: #008080; text-decoration-color: #008080; font-weight: bold\">31</span>, <span style=\"color: #008080; text-decoration-color: #008080; font-weight: bold\">48</span><span style=\"font-weight: bold\">)</span>\n",
       "</pre>\n"
      ],
      "text/plain": [
       "\u001b[1;36m0.09959\u001b[0m         \u001b[1m(\u001b[0m\u001b[1;36m26\u001b[0m, \u001b[1;36m31\u001b[0m, \u001b[1;36m48\u001b[0m\u001b[1m)\u001b[0m\n"
      ]
     },
     "metadata": {},
     "output_type": "display_data"
    },
    {
     "data": {
      "text/html": [
       "<pre style=\"white-space:pre;overflow-x:auto;line-height:normal;font-family:Menlo,'DejaVu Sans Mono',consolas,'Courier New',monospace\"><span style=\"color: #008080; text-decoration-color: #008080; font-weight: bold\">0.09996</span>         <span style=\"font-weight: bold\">(</span><span style=\"color: #008080; text-decoration-color: #008080; font-weight: bold\">40</span>, <span style=\"color: #008080; text-decoration-color: #008080; font-weight: bold\">43</span><span style=\"font-weight: bold\">)</span>\n",
       "</pre>\n"
      ],
      "text/plain": [
       "\u001b[1;36m0.09996\u001b[0m         \u001b[1m(\u001b[0m\u001b[1;36m40\u001b[0m, \u001b[1;36m43\u001b[0m\u001b[1m)\u001b[0m\n"
      ]
     },
     "metadata": {},
     "output_type": "display_data"
    },
    {
     "data": {
      "text/html": [
       "<pre style=\"white-space:pre;overflow-x:auto;line-height:normal;font-family:Menlo,'DejaVu Sans Mono',consolas,'Courier New',monospace\"><span style=\"color: #008080; text-decoration-color: #008080; font-weight: bold\">0.10239</span>         <span style=\"font-weight: bold\">(</span><span style=\"color: #008080; text-decoration-color: #008080; font-weight: bold\">39</span>, <span style=\"color: #008080; text-decoration-color: #008080; font-weight: bold\">44</span><span style=\"font-weight: bold\">)</span>\n",
       "</pre>\n"
      ],
      "text/plain": [
       "\u001b[1;36m0.10239\u001b[0m         \u001b[1m(\u001b[0m\u001b[1;36m39\u001b[0m, \u001b[1;36m44\u001b[0m\u001b[1m)\u001b[0m\n"
      ]
     },
     "metadata": {},
     "output_type": "display_data"
    },
    {
     "data": {
      "text/html": [
       "<pre style=\"white-space:pre;overflow-x:auto;line-height:normal;font-family:Menlo,'DejaVu Sans Mono',consolas,'Courier New',monospace\"><span style=\"color: #008080; text-decoration-color: #008080; font-weight: bold\">0.10241</span>         <span style=\"font-weight: bold\">(</span><span style=\"color: #008080; text-decoration-color: #008080; font-weight: bold\">30</span>, <span style=\"color: #008080; text-decoration-color: #008080; font-weight: bold\">39</span>, <span style=\"color: #008080; text-decoration-color: #008080; font-weight: bold\">44</span><span style=\"font-weight: bold\">)</span>\n",
       "</pre>\n"
      ],
      "text/plain": [
       "\u001b[1;36m0.10241\u001b[0m         \u001b[1m(\u001b[0m\u001b[1;36m30\u001b[0m, \u001b[1;36m39\u001b[0m, \u001b[1;36m44\u001b[0m\u001b[1m)\u001b[0m\n"
      ]
     },
     "metadata": {},
     "output_type": "display_data"
    },
    {
     "data": {
      "text/html": [
       "<pre style=\"white-space:pre;overflow-x:auto;line-height:normal;font-family:Menlo,'DejaVu Sans Mono',consolas,'Courier New',monospace\"><span style=\"color: #008080; text-decoration-color: #008080; font-weight: bold\">0.10297</span>         <span style=\"font-weight: bold\">(</span><span style=\"color: #008080; text-decoration-color: #008080; font-weight: bold\">21</span>, <span style=\"color: #008080; text-decoration-color: #008080; font-weight: bold\">23</span><span style=\"font-weight: bold\">)</span>\n",
       "</pre>\n"
      ],
      "text/plain": [
       "\u001b[1;36m0.10297\u001b[0m         \u001b[1m(\u001b[0m\u001b[1;36m21\u001b[0m, \u001b[1;36m23\u001b[0m\u001b[1m)\u001b[0m\n"
      ]
     },
     "metadata": {},
     "output_type": "display_data"
    },
    {
     "data": {
      "text/html": [
       "<pre style=\"white-space:pre;overflow-x:auto;line-height:normal;font-family:Menlo,'DejaVu Sans Mono',consolas,'Courier New',monospace\"><span style=\"color: #008080; text-decoration-color: #008080; font-weight: bold\">0.10297</span>         <span style=\"font-weight: bold\">(</span><span style=\"color: #008080; text-decoration-color: #008080; font-weight: bold\">21</span>, <span style=\"color: #008080; text-decoration-color: #008080; font-weight: bold\">23</span>, <span style=\"color: #008080; text-decoration-color: #008080; font-weight: bold\">25</span><span style=\"font-weight: bold\">)</span>\n",
       "</pre>\n"
      ],
      "text/plain": [
       "\u001b[1;36m0.10297\u001b[0m         \u001b[1m(\u001b[0m\u001b[1;36m21\u001b[0m, \u001b[1;36m23\u001b[0m, \u001b[1;36m25\u001b[0m\u001b[1m)\u001b[0m\n"
      ]
     },
     "metadata": {},
     "output_type": "display_data"
    },
    {
     "data": {
      "text/html": [
       "<pre style=\"white-space:pre;overflow-x:auto;line-height:normal;font-family:Menlo,'DejaVu Sans Mono',consolas,'Courier New',monospace\"><span style=\"color: #008080; text-decoration-color: #008080; font-weight: bold\">0.10433</span>         <span style=\"font-weight: bold\">(</span><span style=\"color: #008080; text-decoration-color: #008080; font-weight: bold\">30</span>, <span style=\"color: #008080; text-decoration-color: #008080; font-weight: bold\">43</span>, <span style=\"color: #008080; text-decoration-color: #008080; font-weight: bold\">49</span><span style=\"font-weight: bold\">)</span>\n",
       "</pre>\n"
      ],
      "text/plain": [
       "\u001b[1;36m0.10433\u001b[0m         \u001b[1m(\u001b[0m\u001b[1;36m30\u001b[0m, \u001b[1;36m43\u001b[0m, \u001b[1;36m49\u001b[0m\u001b[1m)\u001b[0m\n"
      ]
     },
     "metadata": {},
     "output_type": "display_data"
    },
    {
     "data": {
      "text/html": [
       "<pre style=\"white-space:pre;overflow-x:auto;line-height:normal;font-family:Menlo,'DejaVu Sans Mono',consolas,'Courier New',monospace\"><span style=\"color: #008080; text-decoration-color: #008080; font-weight: bold\">0.10483</span>         <span style=\"font-weight: bold\">(</span><span style=\"color: #008080; text-decoration-color: #008080; font-weight: bold\">8</span>, <span style=\"color: #008080; text-decoration-color: #008080; font-weight: bold\">11</span><span style=\"font-weight: bold\">)</span>\n",
       "</pre>\n"
      ],
      "text/plain": [
       "\u001b[1;36m0.10483\u001b[0m         \u001b[1m(\u001b[0m\u001b[1;36m8\u001b[0m, \u001b[1;36m11\u001b[0m\u001b[1m)\u001b[0m\n"
      ]
     },
     "metadata": {},
     "output_type": "display_data"
    },
    {
     "data": {
      "text/html": [
       "<pre style=\"white-space:pre;overflow-x:auto;line-height:normal;font-family:Menlo,'DejaVu Sans Mono',consolas,'Courier New',monospace\"><span style=\"color: #008080; text-decoration-color: #008080; font-weight: bold\">0.10489</span>         <span style=\"font-weight: bold\">(</span><span style=\"color: #008080; text-decoration-color: #008080; font-weight: bold\">15</span>, <span style=\"color: #008080; text-decoration-color: #008080; font-weight: bold\">40</span><span style=\"font-weight: bold\">)</span>\n",
       "</pre>\n"
      ],
      "text/plain": [
       "\u001b[1;36m0.10489\u001b[0m         \u001b[1m(\u001b[0m\u001b[1;36m15\u001b[0m, \u001b[1;36m40\u001b[0m\u001b[1m)\u001b[0m\n"
      ]
     },
     "metadata": {},
     "output_type": "display_data"
    },
    {
     "data": {
      "text/html": [
       "<pre style=\"white-space:pre;overflow-x:auto;line-height:normal;font-family:Menlo,'DejaVu Sans Mono',consolas,'Courier New',monospace\"><span style=\"color: #008080; text-decoration-color: #008080; font-weight: bold\">0.10489</span>         <span style=\"font-weight: bold\">(</span><span style=\"color: #008080; text-decoration-color: #008080; font-weight: bold\">15</span>, <span style=\"color: #008080; text-decoration-color: #008080; font-weight: bold\">16</span>, <span style=\"color: #008080; text-decoration-color: #008080; font-weight: bold\">40</span><span style=\"font-weight: bold\">)</span>\n",
       "</pre>\n"
      ],
      "text/plain": [
       "\u001b[1;36m0.10489\u001b[0m         \u001b[1m(\u001b[0m\u001b[1;36m15\u001b[0m, \u001b[1;36m16\u001b[0m, \u001b[1;36m40\u001b[0m\u001b[1m)\u001b[0m\n"
      ]
     },
     "metadata": {},
     "output_type": "display_data"
    },
    {
     "data": {
      "text/html": [
       "<pre style=\"white-space:pre;overflow-x:auto;line-height:normal;font-family:Menlo,'DejaVu Sans Mono',consolas,'Courier New',monospace\"><span style=\"color: #008080; text-decoration-color: #008080; font-weight: bold\">0.10560</span>         <span style=\"font-weight: bold\">(</span><span style=\"color: #008080; text-decoration-color: #008080; font-weight: bold\">20</span>, <span style=\"color: #008080; text-decoration-color: #008080; font-weight: bold\">21</span><span style=\"font-weight: bold\">)</span>\n",
       "</pre>\n"
      ],
      "text/plain": [
       "\u001b[1;36m0.10560\u001b[0m         \u001b[1m(\u001b[0m\u001b[1;36m20\u001b[0m, \u001b[1;36m21\u001b[0m\u001b[1m)\u001b[0m\n"
      ]
     },
     "metadata": {},
     "output_type": "display_data"
    },
    {
     "data": {
      "text/html": [
       "<pre style=\"white-space:pre;overflow-x:auto;line-height:normal;font-family:Menlo,'DejaVu Sans Mono',consolas,'Courier New',monospace\"><span style=\"color: #008080; text-decoration-color: #008080; font-weight: bold\">0.10565</span>         <span style=\"font-weight: bold\">(</span><span style=\"color: #008080; text-decoration-color: #008080; font-weight: bold\">5</span>, <span style=\"color: #008080; text-decoration-color: #008080; font-weight: bold\">20</span>, <span style=\"color: #008080; text-decoration-color: #008080; font-weight: bold\">21</span><span style=\"font-weight: bold\">)</span>\n",
       "</pre>\n"
      ],
      "text/plain": [
       "\u001b[1;36m0.10565\u001b[0m         \u001b[1m(\u001b[0m\u001b[1;36m5\u001b[0m, \u001b[1;36m20\u001b[0m, \u001b[1;36m21\u001b[0m\u001b[1m)\u001b[0m\n"
      ]
     },
     "metadata": {},
     "output_type": "display_data"
    },
    {
     "data": {
      "text/html": [
       "<pre style=\"white-space:pre;overflow-x:auto;line-height:normal;font-family:Menlo,'DejaVu Sans Mono',consolas,'Courier New',monospace\"><span style=\"color: #008080; text-decoration-color: #008080; font-weight: bold\">0.10590</span>         <span style=\"font-weight: bold\">(</span><span style=\"color: #008080; text-decoration-color: #008080; font-weight: bold\">18</span>, <span style=\"color: #008080; text-decoration-color: #008080; font-weight: bold\">43</span><span style=\"font-weight: bold\">)</span>\n",
       "</pre>\n"
      ],
      "text/plain": [
       "\u001b[1;36m0.10590\u001b[0m         \u001b[1m(\u001b[0m\u001b[1;36m18\u001b[0m, \u001b[1;36m43\u001b[0m\u001b[1m)\u001b[0m\n"
      ]
     },
     "metadata": {},
     "output_type": "display_data"
    },
    {
     "data": {
      "text/html": [
       "<pre style=\"white-space:pre;overflow-x:auto;line-height:normal;font-family:Menlo,'DejaVu Sans Mono',consolas,'Courier New',monospace\"><span style=\"color: #008080; text-decoration-color: #008080; font-weight: bold\">0.10590</span>         <span style=\"font-weight: bold\">(</span><span style=\"color: #008080; text-decoration-color: #008080; font-weight: bold\">0</span>, <span style=\"color: #008080; text-decoration-color: #008080; font-weight: bold\">18</span>, <span style=\"color: #008080; text-decoration-color: #008080; font-weight: bold\">43</span><span style=\"font-weight: bold\">)</span>\n",
       "</pre>\n"
      ],
      "text/plain": [
       "\u001b[1;36m0.10590\u001b[0m         \u001b[1m(\u001b[0m\u001b[1;36m0\u001b[0m, \u001b[1;36m18\u001b[0m, \u001b[1;36m43\u001b[0m\u001b[1m)\u001b[0m\n"
      ]
     },
     "metadata": {},
     "output_type": "display_data"
    },
    {
     "data": {
      "text/html": [
       "<pre style=\"white-space:pre;overflow-x:auto;line-height:normal;font-family:Menlo,'DejaVu Sans Mono',consolas,'Courier New',monospace\"><span style=\"color: #008080; text-decoration-color: #008080; font-weight: bold\">0.11006</span>         <span style=\"font-weight: bold\">(</span><span style=\"color: #008080; text-decoration-color: #008080; font-weight: bold\">17</span>, <span style=\"color: #008080; text-decoration-color: #008080; font-weight: bold\">40</span><span style=\"font-weight: bold\">)</span>\n",
       "</pre>\n"
      ],
      "text/plain": [
       "\u001b[1;36m0.11006\u001b[0m         \u001b[1m(\u001b[0m\u001b[1;36m17\u001b[0m, \u001b[1;36m40\u001b[0m\u001b[1m)\u001b[0m\n"
      ]
     },
     "metadata": {},
     "output_type": "display_data"
    },
    {
     "data": {
      "text/html": [
       "<pre style=\"white-space:pre;overflow-x:auto;line-height:normal;font-family:Menlo,'DejaVu Sans Mono',consolas,'Courier New',monospace\"><span style=\"color: #008080; text-decoration-color: #008080; font-weight: bold\">0.11006</span>         <span style=\"font-weight: bold\">(</span><span style=\"color: #008080; text-decoration-color: #008080; font-weight: bold\">7</span>, <span style=\"color: #008080; text-decoration-color: #008080; font-weight: bold\">17</span>, <span style=\"color: #008080; text-decoration-color: #008080; font-weight: bold\">40</span><span style=\"font-weight: bold\">)</span>\n",
       "</pre>\n"
      ],
      "text/plain": [
       "\u001b[1;36m0.11006\u001b[0m         \u001b[1m(\u001b[0m\u001b[1;36m7\u001b[0m, \u001b[1;36m17\u001b[0m, \u001b[1;36m40\u001b[0m\u001b[1m)\u001b[0m\n"
      ]
     },
     "metadata": {},
     "output_type": "display_data"
    },
    {
     "data": {
      "text/html": [
       "<pre style=\"white-space:pre;overflow-x:auto;line-height:normal;font-family:Menlo,'DejaVu Sans Mono',consolas,'Courier New',monospace\"><span style=\"color: #008080; text-decoration-color: #008080; font-weight: bold\">0.11050</span>         <span style=\"font-weight: bold\">(</span><span style=\"color: #008080; text-decoration-color: #008080; font-weight: bold\">5</span>, <span style=\"color: #008080; text-decoration-color: #008080; font-weight: bold\">21</span>, <span style=\"color: #008080; text-decoration-color: #008080; font-weight: bold\">35</span><span style=\"font-weight: bold\">)</span>\n",
       "</pre>\n"
      ],
      "text/plain": [
       "\u001b[1;36m0.11050\u001b[0m         \u001b[1m(\u001b[0m\u001b[1;36m5\u001b[0m, \u001b[1;36m21\u001b[0m, \u001b[1;36m35\u001b[0m\u001b[1m)\u001b[0m\n"
      ]
     },
     "metadata": {},
     "output_type": "display_data"
    },
    {
     "data": {
      "text/html": [
       "<pre style=\"white-space:pre;overflow-x:auto;line-height:normal;font-family:Menlo,'DejaVu Sans Mono',consolas,'Courier New',monospace\"><span style=\"color: #008080; text-decoration-color: #008080; font-weight: bold\">0.11050</span>         <span style=\"font-weight: bold\">(</span><span style=\"color: #008080; text-decoration-color: #008080; font-weight: bold\">21</span>, <span style=\"color: #008080; text-decoration-color: #008080; font-weight: bold\">35</span><span style=\"font-weight: bold\">)</span>\n",
       "</pre>\n"
      ],
      "text/plain": [
       "\u001b[1;36m0.11050\u001b[0m         \u001b[1m(\u001b[0m\u001b[1;36m21\u001b[0m, \u001b[1;36m35\u001b[0m\u001b[1m)\u001b[0m\n"
      ]
     },
     "metadata": {},
     "output_type": "display_data"
    },
    {
     "data": {
      "text/html": [
       "<pre style=\"white-space:pre;overflow-x:auto;line-height:normal;font-family:Menlo,'DejaVu Sans Mono',consolas,'Courier New',monospace\"><span style=\"color: #008080; text-decoration-color: #008080; font-weight: bold\">0.11540</span>         <span style=\"font-weight: bold\">(</span><span style=\"color: #008080; text-decoration-color: #008080; font-weight: bold\">15</span>, <span style=\"color: #008080; text-decoration-color: #008080; font-weight: bold\">40</span>, <span style=\"color: #008080; text-decoration-color: #008080; font-weight: bold\">43</span><span style=\"font-weight: bold\">)</span>\n",
       "</pre>\n"
      ],
      "text/plain": [
       "\u001b[1;36m0.11540\u001b[0m         \u001b[1m(\u001b[0m\u001b[1;36m15\u001b[0m, \u001b[1;36m40\u001b[0m, \u001b[1;36m43\u001b[0m\u001b[1m)\u001b[0m\n"
      ]
     },
     "metadata": {},
     "output_type": "display_data"
    },
    {
     "data": {
      "text/html": [
       "<pre style=\"white-space:pre;overflow-x:auto;line-height:normal;font-family:Menlo,'DejaVu Sans Mono',consolas,'Courier New',monospace\"><span style=\"color: #008080; text-decoration-color: #008080; font-weight: bold\">0.11999</span>         <span style=\"font-weight: bold\">(</span><span style=\"color: #008080; text-decoration-color: #008080; font-weight: bold\">36</span>, <span style=\"color: #008080; text-decoration-color: #008080; font-weight: bold\">41</span><span style=\"font-weight: bold\">)</span>\n",
       "</pre>\n"
      ],
      "text/plain": [
       "\u001b[1;36m0.11999\u001b[0m         \u001b[1m(\u001b[0m\u001b[1;36m36\u001b[0m, \u001b[1;36m41\u001b[0m\u001b[1m)\u001b[0m\n"
      ]
     },
     "metadata": {},
     "output_type": "display_data"
    },
    {
     "data": {
      "text/html": [
       "<pre style=\"white-space:pre;overflow-x:auto;line-height:normal;font-family:Menlo,'DejaVu Sans Mono',consolas,'Courier New',monospace\"><span style=\"color: #008080; text-decoration-color: #008080; font-weight: bold\">0.12116</span>         <span style=\"font-weight: bold\">(</span><span style=\"color: #008080; text-decoration-color: #008080; font-weight: bold\">0</span>, <span style=\"color: #008080; text-decoration-color: #008080; font-weight: bold\">17</span>, <span style=\"color: #008080; text-decoration-color: #008080; font-weight: bold\">43</span><span style=\"font-weight: bold\">)</span>\n",
       "</pre>\n"
      ],
      "text/plain": [
       "\u001b[1;36m0.12116\u001b[0m         \u001b[1m(\u001b[0m\u001b[1;36m0\u001b[0m, \u001b[1;36m17\u001b[0m, \u001b[1;36m43\u001b[0m\u001b[1m)\u001b[0m\n"
      ]
     },
     "metadata": {},
     "output_type": "display_data"
    },
    {
     "data": {
      "text/html": [
       "<pre style=\"white-space:pre;overflow-x:auto;line-height:normal;font-family:Menlo,'DejaVu Sans Mono',consolas,'Courier New',monospace\"><span style=\"color: #008080; text-decoration-color: #008080; font-weight: bold\">0.12116</span>         <span style=\"font-weight: bold\">(</span><span style=\"color: #008080; text-decoration-color: #008080; font-weight: bold\">17</span>, <span style=\"color: #008080; text-decoration-color: #008080; font-weight: bold\">43</span><span style=\"font-weight: bold\">)</span>\n",
       "</pre>\n"
      ],
      "text/plain": [
       "\u001b[1;36m0.12116\u001b[0m         \u001b[1m(\u001b[0m\u001b[1;36m17\u001b[0m, \u001b[1;36m43\u001b[0m\u001b[1m)\u001b[0m\n"
      ]
     },
     "metadata": {},
     "output_type": "display_data"
    },
    {
     "data": {
      "text/html": [
       "<pre style=\"white-space:pre;overflow-x:auto;line-height:normal;font-family:Menlo,'DejaVu Sans Mono',consolas,'Courier New',monospace\"><span style=\"color: #008080; text-decoration-color: #008080; font-weight: bold\">0.12187</span>         <span style=\"font-weight: bold\">(</span><span style=\"color: #008080; text-decoration-color: #008080; font-weight: bold\">9</span>, <span style=\"color: #008080; text-decoration-color: #008080; font-weight: bold\">25</span><span style=\"font-weight: bold\">)</span>\n",
       "</pre>\n"
      ],
      "text/plain": [
       "\u001b[1;36m0.12187\u001b[0m         \u001b[1m(\u001b[0m\u001b[1;36m9\u001b[0m, \u001b[1;36m25\u001b[0m\u001b[1m)\u001b[0m\n"
      ]
     },
     "metadata": {},
     "output_type": "display_data"
    },
    {
     "data": {
      "text/html": [
       "<pre style=\"white-space:pre;overflow-x:auto;line-height:normal;font-family:Menlo,'DejaVu Sans Mono',consolas,'Courier New',monospace\"><span style=\"color: #008080; text-decoration-color: #008080; font-weight: bold\">0.12282</span>         <span style=\"font-weight: bold\">(</span><span style=\"color: #008080; text-decoration-color: #008080; font-weight: bold\">14</span>, <span style=\"color: #008080; text-decoration-color: #008080; font-weight: bold\">26</span><span style=\"font-weight: bold\">)</span>\n",
       "</pre>\n"
      ],
      "text/plain": [
       "\u001b[1;36m0.12282\u001b[0m         \u001b[1m(\u001b[0m\u001b[1;36m14\u001b[0m, \u001b[1;36m26\u001b[0m\u001b[1m)\u001b[0m\n"
      ]
     },
     "metadata": {},
     "output_type": "display_data"
    },
    {
     "data": {
      "text/html": [
       "<pre style=\"white-space:pre;overflow-x:auto;line-height:normal;font-family:Menlo,'DejaVu Sans Mono',consolas,'Courier New',monospace\"><span style=\"color: #008080; text-decoration-color: #008080; font-weight: bold\">0.12312</span>         <span style=\"font-weight: bold\">(</span><span style=\"color: #008080; text-decoration-color: #008080; font-weight: bold\">14</span>, <span style=\"color: #008080; text-decoration-color: #008080; font-weight: bold\">26</span>, <span style=\"color: #008080; text-decoration-color: #008080; font-weight: bold\">48</span><span style=\"font-weight: bold\">)</span>\n",
       "</pre>\n"
      ],
      "text/plain": [
       "\u001b[1;36m0.12312\u001b[0m         \u001b[1m(\u001b[0m\u001b[1;36m14\u001b[0m, \u001b[1;36m26\u001b[0m, \u001b[1;36m48\u001b[0m\u001b[1m)\u001b[0m\n"
      ]
     },
     "metadata": {},
     "output_type": "display_data"
    },
    {
     "data": {
      "text/html": [
       "<pre style=\"white-space:pre;overflow-x:auto;line-height:normal;font-family:Menlo,'DejaVu Sans Mono',consolas,'Courier New',monospace\"><span style=\"color: #008080; text-decoration-color: #008080; font-weight: bold\">0.12371</span>         <span style=\"font-weight: bold\">(</span><span style=\"color: #008080; text-decoration-color: #008080; font-weight: bold\">18</span>, <span style=\"color: #008080; text-decoration-color: #008080; font-weight: bold\">44</span><span style=\"font-weight: bold\">)</span>\n",
       "</pre>\n"
      ],
      "text/plain": [
       "\u001b[1;36m0.12371\u001b[0m         \u001b[1m(\u001b[0m\u001b[1;36m18\u001b[0m, \u001b[1;36m44\u001b[0m\u001b[1m)\u001b[0m\n"
      ]
     },
     "metadata": {},
     "output_type": "display_data"
    },
    {
     "data": {
      "text/html": [
       "<pre style=\"white-space:pre;overflow-x:auto;line-height:normal;font-family:Menlo,'DejaVu Sans Mono',consolas,'Courier New',monospace\"><span style=\"color: #008080; text-decoration-color: #008080; font-weight: bold\">0.12371</span>         <span style=\"font-weight: bold\">(</span><span style=\"color: #008080; text-decoration-color: #008080; font-weight: bold\">18</span>, <span style=\"color: #008080; text-decoration-color: #008080; font-weight: bold\">28</span>, <span style=\"color: #008080; text-decoration-color: #008080; font-weight: bold\">44</span><span style=\"font-weight: bold\">)</span>\n",
       "</pre>\n"
      ],
      "text/plain": [
       "\u001b[1;36m0.12371\u001b[0m         \u001b[1m(\u001b[0m\u001b[1;36m18\u001b[0m, \u001b[1;36m28\u001b[0m, \u001b[1;36m44\u001b[0m\u001b[1m)\u001b[0m\n"
      ]
     },
     "metadata": {},
     "output_type": "display_data"
    },
    {
     "data": {
      "text/html": [
       "<pre style=\"white-space:pre;overflow-x:auto;line-height:normal;font-family:Menlo,'DejaVu Sans Mono',consolas,'Courier New',monospace\"><span style=\"color: #008080; text-decoration-color: #008080; font-weight: bold\">0.12377</span>         <span style=\"font-weight: bold\">(</span><span style=\"color: #008080; text-decoration-color: #008080; font-weight: bold\">17</span>, <span style=\"color: #008080; text-decoration-color: #008080; font-weight: bold\">40</span>, <span style=\"color: #008080; text-decoration-color: #008080; font-weight: bold\">43</span><span style=\"font-weight: bold\">)</span>\n",
       "</pre>\n"
      ],
      "text/plain": [
       "\u001b[1;36m0.12377\u001b[0m         \u001b[1m(\u001b[0m\u001b[1;36m17\u001b[0m, \u001b[1;36m40\u001b[0m, \u001b[1;36m43\u001b[0m\u001b[1m)\u001b[0m\n"
      ]
     },
     "metadata": {},
     "output_type": "display_data"
    },
    {
     "data": {
      "text/html": [
       "<pre style=\"white-space:pre;overflow-x:auto;line-height:normal;font-family:Menlo,'DejaVu Sans Mono',consolas,'Courier New',monospace\"><span style=\"color: #008080; text-decoration-color: #008080; font-weight: bold\">0.12487</span>         <span style=\"font-weight: bold\">(</span><span style=\"color: #008080; text-decoration-color: #008080; font-weight: bold\">18</span>, <span style=\"color: #008080; text-decoration-color: #008080; font-weight: bold\">30</span><span style=\"font-weight: bold\">)</span>\n",
       "</pre>\n"
      ],
      "text/plain": [
       "\u001b[1;36m0.12487\u001b[0m         \u001b[1m(\u001b[0m\u001b[1;36m18\u001b[0m, \u001b[1;36m30\u001b[0m\u001b[1m)\u001b[0m\n"
      ]
     },
     "metadata": {},
     "output_type": "display_data"
    },
    {
     "data": {
      "text/html": [
       "<pre style=\"white-space:pre;overflow-x:auto;line-height:normal;font-family:Menlo,'DejaVu Sans Mono',consolas,'Courier New',monospace\"><span style=\"color: #008080; text-decoration-color: #008080; font-weight: bold\">0.12487</span>         <span style=\"font-weight: bold\">(</span><span style=\"color: #008080; text-decoration-color: #008080; font-weight: bold\">18</span>, <span style=\"color: #008080; text-decoration-color: #008080; font-weight: bold\">30</span>, <span style=\"color: #008080; text-decoration-color: #008080; font-weight: bold\">44</span><span style=\"font-weight: bold\">)</span>\n",
       "</pre>\n"
      ],
      "text/plain": [
       "\u001b[1;36m0.12487\u001b[0m         \u001b[1m(\u001b[0m\u001b[1;36m18\u001b[0m, \u001b[1;36m30\u001b[0m, \u001b[1;36m44\u001b[0m\u001b[1m)\u001b[0m\n"
      ]
     },
     "metadata": {},
     "output_type": "display_data"
    },
    {
     "data": {
      "text/html": [
       "<pre style=\"white-space:pre;overflow-x:auto;line-height:normal;font-family:Menlo,'DejaVu Sans Mono',consolas,'Courier New',monospace\"><span style=\"color: #008080; text-decoration-color: #008080; font-weight: bold\">0.12496</span>         <span style=\"font-weight: bold\">(</span><span style=\"color: #008080; text-decoration-color: #008080; font-weight: bold\">33</span>, <span style=\"color: #008080; text-decoration-color: #008080; font-weight: bold\">37</span><span style=\"font-weight: bold\">)</span>\n",
       "</pre>\n"
      ],
      "text/plain": [
       "\u001b[1;36m0.12496\u001b[0m         \u001b[1m(\u001b[0m\u001b[1;36m33\u001b[0m, \u001b[1;36m37\u001b[0m\u001b[1m)\u001b[0m\n"
      ]
     },
     "metadata": {},
     "output_type": "display_data"
    },
    {
     "data": {
      "text/html": [
       "<pre style=\"white-space:pre;overflow-x:auto;line-height:normal;font-family:Menlo,'DejaVu Sans Mono',consolas,'Courier New',monospace\"><span style=\"color: #008080; text-decoration-color: #008080; font-weight: bold\">0.12496</span>         <span style=\"font-weight: bold\">(</span><span style=\"color: #008080; text-decoration-color: #008080; font-weight: bold\">3</span>, <span style=\"color: #008080; text-decoration-color: #008080; font-weight: bold\">33</span>, <span style=\"color: #008080; text-decoration-color: #008080; font-weight: bold\">37</span><span style=\"font-weight: bold\">)</span>\n",
       "</pre>\n"
      ],
      "text/plain": [
       "\u001b[1;36m0.12496\u001b[0m         \u001b[1m(\u001b[0m\u001b[1;36m3\u001b[0m, \u001b[1;36m33\u001b[0m, \u001b[1;36m37\u001b[0m\u001b[1m)\u001b[0m\n"
      ]
     },
     "metadata": {},
     "output_type": "display_data"
    },
    {
     "data": {
      "text/html": [
       "<pre style=\"white-space:pre;overflow-x:auto;line-height:normal;font-family:Menlo,'DejaVu Sans Mono',consolas,'Courier New',monospace\"><span style=\"color: #008080; text-decoration-color: #008080; font-weight: bold\">0.12640</span>         <span style=\"font-weight: bold\">(</span><span style=\"color: #008080; text-decoration-color: #008080; font-weight: bold\">18</span>, <span style=\"color: #008080; text-decoration-color: #008080; font-weight: bold\">30</span>, <span style=\"color: #008080; text-decoration-color: #008080; font-weight: bold\">43</span><span style=\"font-weight: bold\">)</span>\n",
       "</pre>\n"
      ],
      "text/plain": [
       "\u001b[1;36m0.12640\u001b[0m         \u001b[1m(\u001b[0m\u001b[1;36m18\u001b[0m, \u001b[1;36m30\u001b[0m, \u001b[1;36m43\u001b[0m\u001b[1m)\u001b[0m\n"
      ]
     },
     "metadata": {},
     "output_type": "display_data"
    },
    {
     "data": {
      "text/html": [
       "<pre style=\"white-space:pre;overflow-x:auto;line-height:normal;font-family:Menlo,'DejaVu Sans Mono',consolas,'Courier New',monospace\"><span style=\"color: #008080; text-decoration-color: #008080; font-weight: bold\">0.12920</span>         <span style=\"font-weight: bold\">(</span><span style=\"color: #008080; text-decoration-color: #008080; font-weight: bold\">12</span>, <span style=\"color: #008080; text-decoration-color: #008080; font-weight: bold\">13</span><span style=\"font-weight: bold\">)</span>\n",
       "</pre>\n"
      ],
      "text/plain": [
       "\u001b[1;36m0.12920\u001b[0m         \u001b[1m(\u001b[0m\u001b[1;36m12\u001b[0m, \u001b[1;36m13\u001b[0m\u001b[1m)\u001b[0m\n"
      ]
     },
     "metadata": {},
     "output_type": "display_data"
    },
    {
     "data": {
      "text/html": [
       "<pre style=\"white-space:pre;overflow-x:auto;line-height:normal;font-family:Menlo,'DejaVu Sans Mono',consolas,'Courier New',monospace\"><span style=\"color: #008080; text-decoration-color: #008080; font-weight: bold\">0.13126</span>         <span style=\"font-weight: bold\">(</span><span style=\"color: #008080; text-decoration-color: #008080; font-weight: bold\">14</span>, <span style=\"color: #008080; text-decoration-color: #008080; font-weight: bold\">33</span><span style=\"font-weight: bold\">)</span>\n",
       "</pre>\n"
      ],
      "text/plain": [
       "\u001b[1;36m0.13126\u001b[0m         \u001b[1m(\u001b[0m\u001b[1;36m14\u001b[0m, \u001b[1;36m33\u001b[0m\u001b[1m)\u001b[0m\n"
      ]
     },
     "metadata": {},
     "output_type": "display_data"
    },
    {
     "data": {
      "text/html": [
       "<pre style=\"white-space:pre;overflow-x:auto;line-height:normal;font-family:Menlo,'DejaVu Sans Mono',consolas,'Courier New',monospace\"><span style=\"color: #008080; text-decoration-color: #008080; font-weight: bold\">0.13126</span>         <span style=\"font-weight: bold\">(</span><span style=\"color: #008080; text-decoration-color: #008080; font-weight: bold\">14</span>, <span style=\"color: #008080; text-decoration-color: #008080; font-weight: bold\">33</span>, <span style=\"color: #008080; text-decoration-color: #008080; font-weight: bold\">48</span><span style=\"font-weight: bold\">)</span>\n",
       "</pre>\n"
      ],
      "text/plain": [
       "\u001b[1;36m0.13126\u001b[0m         \u001b[1m(\u001b[0m\u001b[1;36m14\u001b[0m, \u001b[1;36m33\u001b[0m, \u001b[1;36m48\u001b[0m\u001b[1m)\u001b[0m\n"
      ]
     },
     "metadata": {},
     "output_type": "display_data"
    },
    {
     "data": {
      "text/html": [
       "<pre style=\"white-space:pre;overflow-x:auto;line-height:normal;font-family:Menlo,'DejaVu Sans Mono',consolas,'Courier New',monospace\"><span style=\"color: #008080; text-decoration-color: #008080; font-weight: bold\">0.13240</span>         <span style=\"font-weight: bold\">(</span><span style=\"color: #008080; text-decoration-color: #008080; font-weight: bold\">25</span>, <span style=\"color: #008080; text-decoration-color: #008080; font-weight: bold\">47</span><span style=\"font-weight: bold\">)</span>\n",
       "</pre>\n"
      ],
      "text/plain": [
       "\u001b[1;36m0.13240\u001b[0m         \u001b[1m(\u001b[0m\u001b[1;36m25\u001b[0m, \u001b[1;36m47\u001b[0m\u001b[1m)\u001b[0m\n"
      ]
     },
     "metadata": {},
     "output_type": "display_data"
    },
    {
     "data": {
      "text/html": [
       "<pre style=\"white-space:pre;overflow-x:auto;line-height:normal;font-family:Menlo,'DejaVu Sans Mono',consolas,'Courier New',monospace\"><span style=\"color: #008080; text-decoration-color: #008080; font-weight: bold\">0.13240</span>         <span style=\"font-weight: bold\">(</span><span style=\"color: #008080; text-decoration-color: #008080; font-weight: bold\">9</span>, <span style=\"color: #008080; text-decoration-color: #008080; font-weight: bold\">25</span>, <span style=\"color: #008080; text-decoration-color: #008080; font-weight: bold\">47</span><span style=\"font-weight: bold\">)</span>\n",
       "</pre>\n"
      ],
      "text/plain": [
       "\u001b[1;36m0.13240\u001b[0m         \u001b[1m(\u001b[0m\u001b[1;36m9\u001b[0m, \u001b[1;36m25\u001b[0m, \u001b[1;36m47\u001b[0m\u001b[1m)\u001b[0m\n"
      ]
     },
     "metadata": {},
     "output_type": "display_data"
    },
    {
     "data": {
      "text/html": [
       "<pre style=\"white-space:pre;overflow-x:auto;line-height:normal;font-family:Menlo,'DejaVu Sans Mono',consolas,'Courier New',monospace\"><span style=\"color: #008080; text-decoration-color: #008080; font-weight: bold\">0.13331</span>         <span style=\"font-weight: bold\">(</span><span style=\"color: #008080; text-decoration-color: #008080; font-weight: bold\">29</span>, <span style=\"color: #008080; text-decoration-color: #008080; font-weight: bold\">30</span>, <span style=\"color: #008080; text-decoration-color: #008080; font-weight: bold\">39</span><span style=\"font-weight: bold\">)</span>\n",
       "</pre>\n"
      ],
      "text/plain": [
       "\u001b[1;36m0.13331\u001b[0m         \u001b[1m(\u001b[0m\u001b[1;36m29\u001b[0m, \u001b[1;36m30\u001b[0m, \u001b[1;36m39\u001b[0m\u001b[1m)\u001b[0m\n"
      ]
     },
     "metadata": {},
     "output_type": "display_data"
    },
    {
     "data": {
      "text/html": [
       "<pre style=\"white-space:pre;overflow-x:auto;line-height:normal;font-family:Menlo,'DejaVu Sans Mono',consolas,'Courier New',monospace\"><span style=\"color: #008080; text-decoration-color: #008080; font-weight: bold\">0.13331</span>         <span style=\"font-weight: bold\">(</span><span style=\"color: #008080; text-decoration-color: #008080; font-weight: bold\">29</span>, <span style=\"color: #008080; text-decoration-color: #008080; font-weight: bold\">39</span><span style=\"font-weight: bold\">)</span>\n",
       "</pre>\n"
      ],
      "text/plain": [
       "\u001b[1;36m0.13331\u001b[0m         \u001b[1m(\u001b[0m\u001b[1;36m29\u001b[0m, \u001b[1;36m39\u001b[0m\u001b[1m)\u001b[0m\n"
      ]
     },
     "metadata": {},
     "output_type": "display_data"
    },
    {
     "data": {
      "text/html": [
       "<pre style=\"white-space:pre;overflow-x:auto;line-height:normal;font-family:Menlo,'DejaVu Sans Mono',consolas,'Courier New',monospace\"><span style=\"color: #008080; text-decoration-color: #008080; font-weight: bold\">0.13354</span>         <span style=\"font-weight: bold\">(</span><span style=\"color: #008080; text-decoration-color: #008080; font-weight: bold\">20</span>, <span style=\"color: #008080; text-decoration-color: #008080; font-weight: bold\">25</span><span style=\"font-weight: bold\">)</span>\n",
       "</pre>\n"
      ],
      "text/plain": [
       "\u001b[1;36m0.13354\u001b[0m         \u001b[1m(\u001b[0m\u001b[1;36m20\u001b[0m, \u001b[1;36m25\u001b[0m\u001b[1m)\u001b[0m\n"
      ]
     },
     "metadata": {},
     "output_type": "display_data"
    },
    {
     "data": {
      "text/html": [
       "<pre style=\"white-space:pre;overflow-x:auto;line-height:normal;font-family:Menlo,'DejaVu Sans Mono',consolas,'Courier New',monospace\"><span style=\"color: #008080; text-decoration-color: #008080; font-weight: bold\">0.13398</span>         <span style=\"font-weight: bold\">(</span><span style=\"color: #008080; text-decoration-color: #008080; font-weight: bold\">20</span>, <span style=\"color: #008080; text-decoration-color: #008080; font-weight: bold\">21</span>, <span style=\"color: #008080; text-decoration-color: #008080; font-weight: bold\">25</span><span style=\"font-weight: bold\">)</span>\n",
       "</pre>\n"
      ],
      "text/plain": [
       "\u001b[1;36m0.13398\u001b[0m         \u001b[1m(\u001b[0m\u001b[1;36m20\u001b[0m, \u001b[1;36m21\u001b[0m, \u001b[1;36m25\u001b[0m\u001b[1m)\u001b[0m\n"
      ]
     },
     "metadata": {},
     "output_type": "display_data"
    },
    {
     "data": {
      "text/html": [
       "<pre style=\"white-space:pre;overflow-x:auto;line-height:normal;font-family:Menlo,'DejaVu Sans Mono',consolas,'Courier New',monospace\"><span style=\"color: #008080; text-decoration-color: #008080; font-weight: bold\">0.13564</span>         <span style=\"font-weight: bold\">(</span><span style=\"color: #008080; text-decoration-color: #008080; font-weight: bold\">9</span>, <span style=\"color: #008080; text-decoration-color: #008080; font-weight: bold\">20</span>, <span style=\"color: #008080; text-decoration-color: #008080; font-weight: bold\">25</span><span style=\"font-weight: bold\">)</span>\n",
       "</pre>\n"
      ],
      "text/plain": [
       "\u001b[1;36m0.13564\u001b[0m         \u001b[1m(\u001b[0m\u001b[1;36m9\u001b[0m, \u001b[1;36m20\u001b[0m, \u001b[1;36m25\u001b[0m\u001b[1m)\u001b[0m\n"
      ]
     },
     "metadata": {},
     "output_type": "display_data"
    },
    {
     "data": {
      "text/html": [
       "<pre style=\"white-space:pre;overflow-x:auto;line-height:normal;font-family:Menlo,'DejaVu Sans Mono',consolas,'Courier New',monospace\"><span style=\"color: #008080; text-decoration-color: #008080; font-weight: bold\">0.13606</span>         <span style=\"font-weight: bold\">(</span><span style=\"color: #008080; text-decoration-color: #008080; font-weight: bold\">8</span>, <span style=\"color: #008080; text-decoration-color: #008080; font-weight: bold\">33</span><span style=\"font-weight: bold\">)</span>\n",
       "</pre>\n"
      ],
      "text/plain": [
       "\u001b[1;36m0.13606\u001b[0m         \u001b[1m(\u001b[0m\u001b[1;36m8\u001b[0m, \u001b[1;36m33\u001b[0m\u001b[1m)\u001b[0m\n"
      ]
     },
     "metadata": {},
     "output_type": "display_data"
    },
    {
     "data": {
      "text/html": [
       "<pre style=\"white-space:pre;overflow-x:auto;line-height:normal;font-family:Menlo,'DejaVu Sans Mono',consolas,'Courier New',monospace\"><span style=\"color: #008080; text-decoration-color: #008080; font-weight: bold\">0.13611</span>         <span style=\"font-weight: bold\">(</span><span style=\"color: #008080; text-decoration-color: #008080; font-weight: bold\">1</span>, <span style=\"color: #008080; text-decoration-color: #008080; font-weight: bold\">39</span>, <span style=\"color: #008080; text-decoration-color: #008080; font-weight: bold\">44</span><span style=\"font-weight: bold\">)</span>\n",
       "</pre>\n"
      ],
      "text/plain": [
       "\u001b[1;36m0.13611\u001b[0m         \u001b[1m(\u001b[0m\u001b[1;36m1\u001b[0m, \u001b[1;36m39\u001b[0m, \u001b[1;36m44\u001b[0m\u001b[1m)\u001b[0m\n"
      ]
     },
     "metadata": {},
     "output_type": "display_data"
    },
    {
     "data": {
      "text/html": [
       "<pre style=\"white-space:pre;overflow-x:auto;line-height:normal;font-family:Menlo,'DejaVu Sans Mono',consolas,'Courier New',monospace\"><span style=\"color: #008080; text-decoration-color: #008080; font-weight: bold\">0.13611</span>         <span style=\"font-weight: bold\">(</span><span style=\"color: #008080; text-decoration-color: #008080; font-weight: bold\">1</span>, <span style=\"color: #008080; text-decoration-color: #008080; font-weight: bold\">44</span><span style=\"font-weight: bold\">)</span>\n",
       "</pre>\n"
      ],
      "text/plain": [
       "\u001b[1;36m0.13611\u001b[0m         \u001b[1m(\u001b[0m\u001b[1;36m1\u001b[0m, \u001b[1;36m44\u001b[0m\u001b[1m)\u001b[0m\n"
      ]
     },
     "metadata": {},
     "output_type": "display_data"
    },
    {
     "data": {
      "text/html": [
       "<pre style=\"white-space:pre;overflow-x:auto;line-height:normal;font-family:Menlo,'DejaVu Sans Mono',consolas,'Courier New',monospace\"><span style=\"color: #008080; text-decoration-color: #008080; font-weight: bold\">0.13629</span>         <span style=\"font-weight: bold\">(</span><span style=\"color: #008080; text-decoration-color: #008080; font-weight: bold\">8</span>, <span style=\"color: #008080; text-decoration-color: #008080; font-weight: bold\">11</span>, <span style=\"color: #008080; text-decoration-color: #008080; font-weight: bold\">33</span><span style=\"font-weight: bold\">)</span>\n",
       "</pre>\n"
      ],
      "text/plain": [
       "\u001b[1;36m0.13629\u001b[0m         \u001b[1m(\u001b[0m\u001b[1;36m8\u001b[0m, \u001b[1;36m11\u001b[0m, \u001b[1;36m33\u001b[0m\u001b[1m)\u001b[0m\n"
      ]
     },
     "metadata": {},
     "output_type": "display_data"
    },
    {
     "data": {
      "text/html": [
       "<pre style=\"white-space:pre;overflow-x:auto;line-height:normal;font-family:Menlo,'DejaVu Sans Mono',consolas,'Courier New',monospace\"><span style=\"color: #008080; text-decoration-color: #008080; font-weight: bold\">0.13735</span>         <span style=\"font-weight: bold\">(</span><span style=\"color: #008080; text-decoration-color: #008080; font-weight: bold\">34</span>, <span style=\"color: #008080; text-decoration-color: #008080; font-weight: bold\">47</span><span style=\"font-weight: bold\">)</span>\n",
       "</pre>\n"
      ],
      "text/plain": [
       "\u001b[1;36m0.13735\u001b[0m         \u001b[1m(\u001b[0m\u001b[1;36m34\u001b[0m, \u001b[1;36m47\u001b[0m\u001b[1m)\u001b[0m\n"
      ]
     },
     "metadata": {},
     "output_type": "display_data"
    },
    {
     "data": {
      "text/html": [
       "<pre style=\"white-space:pre;overflow-x:auto;line-height:normal;font-family:Menlo,'DejaVu Sans Mono',consolas,'Courier New',monospace\"><span style=\"color: #008080; text-decoration-color: #008080; font-weight: bold\">0.13776</span>         <span style=\"font-weight: bold\">(</span><span style=\"color: #008080; text-decoration-color: #008080; font-weight: bold\">8</span>, <span style=\"color: #008080; text-decoration-color: #008080; font-weight: bold\">14</span>, <span style=\"color: #008080; text-decoration-color: #008080; font-weight: bold\">33</span><span style=\"font-weight: bold\">)</span>\n",
       "</pre>\n"
      ],
      "text/plain": [
       "\u001b[1;36m0.13776\u001b[0m         \u001b[1m(\u001b[0m\u001b[1;36m8\u001b[0m, \u001b[1;36m14\u001b[0m, \u001b[1;36m33\u001b[0m\u001b[1m)\u001b[0m\n"
      ]
     },
     "metadata": {},
     "output_type": "display_data"
    },
    {
     "data": {
      "text/html": [
       "<pre style=\"white-space:pre;overflow-x:auto;line-height:normal;font-family:Menlo,'DejaVu Sans Mono',consolas,'Courier New',monospace\"><span style=\"color: #008080; text-decoration-color: #008080; font-weight: bold\">0.13809</span>         <span style=\"font-weight: bold\">(</span><span style=\"color: #008080; text-decoration-color: #008080; font-weight: bold\">24</span>, <span style=\"color: #008080; text-decoration-color: #008080; font-weight: bold\">45</span><span style=\"font-weight: bold\">)</span>\n",
       "</pre>\n"
      ],
      "text/plain": [
       "\u001b[1;36m0.13809\u001b[0m         \u001b[1m(\u001b[0m\u001b[1;36m24\u001b[0m, \u001b[1;36m45\u001b[0m\u001b[1m)\u001b[0m\n"
      ]
     },
     "metadata": {},
     "output_type": "display_data"
    },
    {
     "data": {
      "text/html": [
       "<pre style=\"white-space:pre;overflow-x:auto;line-height:normal;font-family:Menlo,'DejaVu Sans Mono',consolas,'Courier New',monospace\"><span style=\"color: #008080; text-decoration-color: #008080; font-weight: bold\">0.13809</span>         <span style=\"font-weight: bold\">(</span><span style=\"color: #008080; text-decoration-color: #008080; font-weight: bold\">19</span>, <span style=\"color: #008080; text-decoration-color: #008080; font-weight: bold\">24</span>, <span style=\"color: #008080; text-decoration-color: #008080; font-weight: bold\">45</span><span style=\"font-weight: bold\">)</span>\n",
       "</pre>\n"
      ],
      "text/plain": [
       "\u001b[1;36m0.13809\u001b[0m         \u001b[1m(\u001b[0m\u001b[1;36m19\u001b[0m, \u001b[1;36m24\u001b[0m, \u001b[1;36m45\u001b[0m\u001b[1m)\u001b[0m\n"
      ]
     },
     "metadata": {},
     "output_type": "display_data"
    },
    {
     "data": {
      "text/html": [
       "<pre style=\"white-space:pre;overflow-x:auto;line-height:normal;font-family:Menlo,'DejaVu Sans Mono',consolas,'Courier New',monospace\"><span style=\"color: #008080; text-decoration-color: #008080; font-weight: bold\">0.13943</span>         <span style=\"font-weight: bold\">(</span><span style=\"color: #008080; text-decoration-color: #008080; font-weight: bold\">24</span>, <span style=\"color: #008080; text-decoration-color: #008080; font-weight: bold\">36</span><span style=\"font-weight: bold\">)</span>\n",
       "</pre>\n"
      ],
      "text/plain": [
       "\u001b[1;36m0.13943\u001b[0m         \u001b[1m(\u001b[0m\u001b[1;36m24\u001b[0m, \u001b[1;36m36\u001b[0m\u001b[1m)\u001b[0m\n"
      ]
     },
     "metadata": {},
     "output_type": "display_data"
    },
    {
     "data": {
      "text/html": [
       "<pre style=\"white-space:pre;overflow-x:auto;line-height:normal;font-family:Menlo,'DejaVu Sans Mono',consolas,'Courier New',monospace\"><span style=\"color: #008080; text-decoration-color: #008080; font-weight: bold\">0.13943</span>         <span style=\"font-weight: bold\">(</span><span style=\"color: #008080; text-decoration-color: #008080; font-weight: bold\">24</span>, <span style=\"color: #008080; text-decoration-color: #008080; font-weight: bold\">36</span>, <span style=\"color: #008080; text-decoration-color: #008080; font-weight: bold\">45</span><span style=\"font-weight: bold\">)</span>\n",
       "</pre>\n"
      ],
      "text/plain": [
       "\u001b[1;36m0.13943\u001b[0m         \u001b[1m(\u001b[0m\u001b[1;36m24\u001b[0m, \u001b[1;36m36\u001b[0m, \u001b[1;36m45\u001b[0m\u001b[1m)\u001b[0m\n"
      ]
     },
     "metadata": {},
     "output_type": "display_data"
    },
    {
     "data": {
      "text/html": [
       "<pre style=\"white-space:pre;overflow-x:auto;line-height:normal;font-family:Menlo,'DejaVu Sans Mono',consolas,'Courier New',monospace\"><span style=\"color: #008080; text-decoration-color: #008080; font-weight: bold\">0.14059</span>         <span style=\"font-weight: bold\">(</span><span style=\"color: #008080; text-decoration-color: #008080; font-weight: bold\">29</span>, <span style=\"color: #008080; text-decoration-color: #008080; font-weight: bold\">34</span><span style=\"font-weight: bold\">)</span>\n",
       "</pre>\n"
      ],
      "text/plain": [
       "\u001b[1;36m0.14059\u001b[0m         \u001b[1m(\u001b[0m\u001b[1;36m29\u001b[0m, \u001b[1;36m34\u001b[0m\u001b[1m)\u001b[0m\n"
      ]
     },
     "metadata": {},
     "output_type": "display_data"
    },
    {
     "data": {
      "text/html": [
       "<pre style=\"white-space:pre;overflow-x:auto;line-height:normal;font-family:Menlo,'DejaVu Sans Mono',consolas,'Courier New',monospace\"><span style=\"color: #008080; text-decoration-color: #008080; font-weight: bold\">0.14077</span>         <span style=\"font-weight: bold\">(</span><span style=\"color: #008080; text-decoration-color: #008080; font-weight: bold\">12</span>, <span style=\"color: #008080; text-decoration-color: #008080; font-weight: bold\">44</span><span style=\"font-weight: bold\">)</span>\n",
       "</pre>\n"
      ],
      "text/plain": [
       "\u001b[1;36m0.14077\u001b[0m         \u001b[1m(\u001b[0m\u001b[1;36m12\u001b[0m, \u001b[1;36m44\u001b[0m\u001b[1m)\u001b[0m\n"
      ]
     },
     "metadata": {},
     "output_type": "display_data"
    },
    {
     "data": {
      "text/html": [
       "<pre style=\"white-space:pre;overflow-x:auto;line-height:normal;font-family:Menlo,'DejaVu Sans Mono',consolas,'Courier New',monospace\"><span style=\"color: #008080; text-decoration-color: #008080; font-weight: bold\">0.14077</span>         <span style=\"font-weight: bold\">(</span><span style=\"color: #008080; text-decoration-color: #008080; font-weight: bold\">12</span>, <span style=\"color: #008080; text-decoration-color: #008080; font-weight: bold\">13</span>, <span style=\"color: #008080; text-decoration-color: #008080; font-weight: bold\">44</span><span style=\"font-weight: bold\">)</span>\n",
       "</pre>\n"
      ],
      "text/plain": [
       "\u001b[1;36m0.14077\u001b[0m         \u001b[1m(\u001b[0m\u001b[1;36m12\u001b[0m, \u001b[1;36m13\u001b[0m, \u001b[1;36m44\u001b[0m\u001b[1m)\u001b[0m\n"
      ]
     },
     "metadata": {},
     "output_type": "display_data"
    },
    {
     "data": {
      "text/html": [
       "<pre style=\"white-space:pre;overflow-x:auto;line-height:normal;font-family:Menlo,'DejaVu Sans Mono',consolas,'Courier New',monospace\"><span style=\"color: #008080; text-decoration-color: #008080; font-weight: bold\">0.14120</span>         <span style=\"font-weight: bold\">(</span><span style=\"color: #008080; text-decoration-color: #008080; font-weight: bold\">1</span>, <span style=\"color: #008080; text-decoration-color: #008080; font-weight: bold\">12</span>, <span style=\"color: #008080; text-decoration-color: #008080; font-weight: bold\">44</span><span style=\"font-weight: bold\">)</span>\n",
       "</pre>\n"
      ],
      "text/plain": [
       "\u001b[1;36m0.14120\u001b[0m         \u001b[1m(\u001b[0m\u001b[1;36m1\u001b[0m, \u001b[1;36m12\u001b[0m, \u001b[1;36m44\u001b[0m\u001b[1m)\u001b[0m\n"
      ]
     },
     "metadata": {},
     "output_type": "display_data"
    },
    {
     "data": {
      "text/html": [
       "<pre style=\"white-space:pre;overflow-x:auto;line-height:normal;font-family:Menlo,'DejaVu Sans Mono',consolas,'Courier New',monospace\"><span style=\"color: #008080; text-decoration-color: #008080; font-weight: bold\">0.14173</span>         <span style=\"font-weight: bold\">(</span><span style=\"color: #008080; text-decoration-color: #008080; font-weight: bold\">25</span>, <span style=\"color: #008080; text-decoration-color: #008080; font-weight: bold\">34</span>, <span style=\"color: #008080; text-decoration-color: #008080; font-weight: bold\">47</span><span style=\"font-weight: bold\">)</span>\n",
       "</pre>\n"
      ],
      "text/plain": [
       "\u001b[1;36m0.14173\u001b[0m         \u001b[1m(\u001b[0m\u001b[1;36m25\u001b[0m, \u001b[1;36m34\u001b[0m, \u001b[1;36m47\u001b[0m\u001b[1m)\u001b[0m\n"
      ]
     },
     "metadata": {},
     "output_type": "display_data"
    },
    {
     "data": {
      "text/html": [
       "<pre style=\"white-space:pre;overflow-x:auto;line-height:normal;font-family:Menlo,'DejaVu Sans Mono',consolas,'Courier New',monospace\"><span style=\"color: #008080; text-decoration-color: #008080; font-weight: bold\">0.14231</span>         <span style=\"font-weight: bold\">(</span><span style=\"color: #008080; text-decoration-color: #008080; font-weight: bold\">19</span>, <span style=\"color: #008080; text-decoration-color: #008080; font-weight: bold\">29</span><span style=\"font-weight: bold\">)</span>\n",
       "</pre>\n"
      ],
      "text/plain": [
       "\u001b[1;36m0.14231\u001b[0m         \u001b[1m(\u001b[0m\u001b[1;36m19\u001b[0m, \u001b[1;36m29\u001b[0m\u001b[1m)\u001b[0m\n"
      ]
     },
     "metadata": {},
     "output_type": "display_data"
    },
    {
     "data": {
      "text/html": [
       "<pre style=\"white-space:pre;overflow-x:auto;line-height:normal;font-family:Menlo,'DejaVu Sans Mono',consolas,'Courier New',monospace\"><span style=\"color: #008080; text-decoration-color: #008080; font-weight: bold\">0.14419</span>         <span style=\"font-weight: bold\">(</span><span style=\"color: #008080; text-decoration-color: #008080; font-weight: bold\">19</span>, <span style=\"color: #008080; text-decoration-color: #008080; font-weight: bold\">29</span>, <span style=\"color: #008080; text-decoration-color: #008080; font-weight: bold\">34</span><span style=\"font-weight: bold\">)</span>\n",
       "</pre>\n"
      ],
      "text/plain": [
       "\u001b[1;36m0.14419\u001b[0m         \u001b[1m(\u001b[0m\u001b[1;36m19\u001b[0m, \u001b[1;36m29\u001b[0m, \u001b[1;36m34\u001b[0m\u001b[1m)\u001b[0m\n"
      ]
     },
     "metadata": {},
     "output_type": "display_data"
    },
    {
     "data": {
      "text/html": [
       "<pre style=\"white-space:pre;overflow-x:auto;line-height:normal;font-family:Menlo,'DejaVu Sans Mono',consolas,'Courier New',monospace\"><span style=\"color: #008080; text-decoration-color: #008080; font-weight: bold\">0.14502</span>         <span style=\"font-weight: bold\">(</span><span style=\"color: #008080; text-decoration-color: #008080; font-weight: bold\">0</span>, <span style=\"color: #008080; text-decoration-color: #008080; font-weight: bold\">18</span>, <span style=\"color: #008080; text-decoration-color: #008080; font-weight: bold\">42</span><span style=\"font-weight: bold\">)</span>\n",
       "</pre>\n"
      ],
      "text/plain": [
       "\u001b[1;36m0.14502\u001b[0m         \u001b[1m(\u001b[0m\u001b[1;36m0\u001b[0m, \u001b[1;36m18\u001b[0m, \u001b[1;36m42\u001b[0m\u001b[1m)\u001b[0m\n"
      ]
     },
     "metadata": {},
     "output_type": "display_data"
    },
    {
     "data": {
      "text/html": [
       "<pre style=\"white-space:pre;overflow-x:auto;line-height:normal;font-family:Menlo,'DejaVu Sans Mono',consolas,'Courier New',monospace\"><span style=\"color: #008080; text-decoration-color: #008080; font-weight: bold\">0.14502</span>         <span style=\"font-weight: bold\">(</span><span style=\"color: #008080; text-decoration-color: #008080; font-weight: bold\">18</span>, <span style=\"color: #008080; text-decoration-color: #008080; font-weight: bold\">42</span><span style=\"font-weight: bold\">)</span>\n",
       "</pre>\n"
      ],
      "text/plain": [
       "\u001b[1;36m0.14502\u001b[0m         \u001b[1m(\u001b[0m\u001b[1;36m18\u001b[0m, \u001b[1;36m42\u001b[0m\u001b[1m)\u001b[0m\n"
      ]
     },
     "metadata": {},
     "output_type": "display_data"
    },
    {
     "data": {
      "text/html": [
       "<pre style=\"white-space:pre;overflow-x:auto;line-height:normal;font-family:Menlo,'DejaVu Sans Mono',consolas,'Courier New',monospace\"><span style=\"color: #008080; text-decoration-color: #008080; font-weight: bold\">0.14793</span>         <span style=\"font-weight: bold\">(</span><span style=\"color: #008080; text-decoration-color: #008080; font-weight: bold\">34</span>, <span style=\"color: #008080; text-decoration-color: #008080; font-weight: bold\">39</span>, <span style=\"color: #008080; text-decoration-color: #008080; font-weight: bold\">47</span><span style=\"font-weight: bold\">)</span>\n",
       "</pre>\n"
      ],
      "text/plain": [
       "\u001b[1;36m0.14793\u001b[0m         \u001b[1m(\u001b[0m\u001b[1;36m34\u001b[0m, \u001b[1;36m39\u001b[0m, \u001b[1;36m47\u001b[0m\u001b[1m)\u001b[0m\n"
      ]
     },
     "metadata": {},
     "output_type": "display_data"
    },
    {
     "data": {
      "text/html": [
       "<pre style=\"white-space:pre;overflow-x:auto;line-height:normal;font-family:Menlo,'DejaVu Sans Mono',consolas,'Courier New',monospace\"><span style=\"color: #008080; text-decoration-color: #008080; font-weight: bold\">0.14793</span>         <span style=\"font-weight: bold\">(</span><span style=\"color: #008080; text-decoration-color: #008080; font-weight: bold\">34</span>, <span style=\"color: #008080; text-decoration-color: #008080; font-weight: bold\">39</span><span style=\"font-weight: bold\">)</span>\n",
       "</pre>\n"
      ],
      "text/plain": [
       "\u001b[1;36m0.14793\u001b[0m         \u001b[1m(\u001b[0m\u001b[1;36m34\u001b[0m, \u001b[1;36m39\u001b[0m\u001b[1m)\u001b[0m\n"
      ]
     },
     "metadata": {},
     "output_type": "display_data"
    },
    {
     "data": {
      "text/html": [
       "<pre style=\"white-space:pre;overflow-x:auto;line-height:normal;font-family:Menlo,'DejaVu Sans Mono',consolas,'Courier New',monospace\"><span style=\"color: #008080; text-decoration-color: #008080; font-weight: bold\">0.16032</span>         <span style=\"font-weight: bold\">(</span><span style=\"color: #008080; text-decoration-color: #008080; font-weight: bold\">29</span>, <span style=\"color: #008080; text-decoration-color: #008080; font-weight: bold\">34</span>, <span style=\"color: #008080; text-decoration-color: #008080; font-weight: bold\">39</span><span style=\"font-weight: bold\">)</span>\n",
       "</pre>\n"
      ],
      "text/plain": [
       "\u001b[1;36m0.16032\u001b[0m         \u001b[1m(\u001b[0m\u001b[1;36m29\u001b[0m, \u001b[1;36m34\u001b[0m, \u001b[1;36m39\u001b[0m\u001b[1m)\u001b[0m\n"
      ]
     },
     "metadata": {},
     "output_type": "display_data"
    },
    {
     "data": {
      "text/html": [
       "<pre style=\"white-space:pre;overflow-x:auto;line-height:normal;font-family:Menlo,'DejaVu Sans Mono',consolas,'Courier New',monospace\"><span style=\"color: #008080; text-decoration-color: #008080; font-weight: bold\">0.16144</span>         <span style=\"font-weight: bold\">(</span><span style=\"color: #008080; text-decoration-color: #008080; font-weight: bold\">10</span>, <span style=\"color: #008080; text-decoration-color: #008080; font-weight: bold\">11</span>, <span style=\"color: #008080; text-decoration-color: #008080; font-weight: bold\">33</span><span style=\"font-weight: bold\">)</span>\n",
       "</pre>\n"
      ],
      "text/plain": [
       "\u001b[1;36m0.16144\u001b[0m         \u001b[1m(\u001b[0m\u001b[1;36m10\u001b[0m, \u001b[1;36m11\u001b[0m, \u001b[1;36m33\u001b[0m\u001b[1m)\u001b[0m\n"
      ]
     },
     "metadata": {},
     "output_type": "display_data"
    },
    {
     "data": {
      "text/html": [
       "<pre style=\"white-space:pre;overflow-x:auto;line-height:normal;font-family:Menlo,'DejaVu Sans Mono',consolas,'Courier New',monospace\"><span style=\"color: #008080; text-decoration-color: #008080; font-weight: bold\">0.16144</span>         <span style=\"font-weight: bold\">(</span><span style=\"color: #008080; text-decoration-color: #008080; font-weight: bold\">10</span>, <span style=\"color: #008080; text-decoration-color: #008080; font-weight: bold\">33</span><span style=\"font-weight: bold\">)</span>\n",
       "</pre>\n"
      ],
      "text/plain": [
       "\u001b[1;36m0.16144\u001b[0m         \u001b[1m(\u001b[0m\u001b[1;36m10\u001b[0m, \u001b[1;36m33\u001b[0m\u001b[1m)\u001b[0m\n"
      ]
     },
     "metadata": {},
     "output_type": "display_data"
    },
    {
     "data": {
      "text/html": [
       "<pre style=\"white-space:pre;overflow-x:auto;line-height:normal;font-family:Menlo,'DejaVu Sans Mono',consolas,'Courier New',monospace\"><span style=\"color: #008080; text-decoration-color: #008080; font-weight: bold\">0.16765</span>         <span style=\"font-weight: bold\">(</span><span style=\"color: #008080; text-decoration-color: #008080; font-weight: bold\">19</span>, <span style=\"color: #008080; text-decoration-color: #008080; font-weight: bold\">29</span>, <span style=\"color: #008080; text-decoration-color: #008080; font-weight: bold\">37</span><span style=\"font-weight: bold\">)</span>\n",
       "</pre>\n"
      ],
      "text/plain": [
       "\u001b[1;36m0.16765\u001b[0m         \u001b[1m(\u001b[0m\u001b[1;36m19\u001b[0m, \u001b[1;36m29\u001b[0m, \u001b[1;36m37\u001b[0m\u001b[1m)\u001b[0m\n"
      ]
     },
     "metadata": {},
     "output_type": "display_data"
    },
    {
     "data": {
      "text/html": [
       "<pre style=\"white-space:pre;overflow-x:auto;line-height:normal;font-family:Menlo,'DejaVu Sans Mono',consolas,'Courier New',monospace\"><span style=\"color: #008080; text-decoration-color: #008080; font-weight: bold\">0.16765</span>         <span style=\"font-weight: bold\">(</span><span style=\"color: #008080; text-decoration-color: #008080; font-weight: bold\">19</span>, <span style=\"color: #008080; text-decoration-color: #008080; font-weight: bold\">37</span><span style=\"font-weight: bold\">)</span>\n",
       "</pre>\n"
      ],
      "text/plain": [
       "\u001b[1;36m0.16765\u001b[0m         \u001b[1m(\u001b[0m\u001b[1;36m19\u001b[0m, \u001b[1;36m37\u001b[0m\u001b[1m)\u001b[0m\n"
      ]
     },
     "metadata": {},
     "output_type": "display_data"
    },
    {
     "data": {
      "text/html": [
       "<pre style=\"white-space:pre;overflow-x:auto;line-height:normal;font-family:Menlo,'DejaVu Sans Mono',consolas,'Courier New',monospace\"><span style=\"color: #008080; text-decoration-color: #008080; font-weight: bold\">0.16847</span>         <span style=\"font-weight: bold\">(</span><span style=\"color: #008080; text-decoration-color: #008080; font-weight: bold\">37</span>, <span style=\"color: #008080; text-decoration-color: #008080; font-weight: bold\">45</span><span style=\"font-weight: bold\">)</span>\n",
       "</pre>\n"
      ],
      "text/plain": [
       "\u001b[1;36m0.16847\u001b[0m         \u001b[1m(\u001b[0m\u001b[1;36m37\u001b[0m, \u001b[1;36m45\u001b[0m\u001b[1m)\u001b[0m\n"
      ]
     },
     "metadata": {},
     "output_type": "display_data"
    },
    {
     "data": {
      "text/html": [
       "<pre style=\"white-space:pre;overflow-x:auto;line-height:normal;font-family:Menlo,'DejaVu Sans Mono',consolas,'Courier New',monospace\"><span style=\"color: #008080; text-decoration-color: #008080; font-weight: bold\">0.17471</span>         <span style=\"font-weight: bold\">(</span><span style=\"color: #008080; text-decoration-color: #008080; font-weight: bold\">19</span>, <span style=\"color: #008080; text-decoration-color: #008080; font-weight: bold\">37</span>, <span style=\"color: #008080; text-decoration-color: #008080; font-weight: bold\">45</span><span style=\"font-weight: bold\">)</span>\n",
       "</pre>\n"
      ],
      "text/plain": [
       "\u001b[1;36m0.17471\u001b[0m         \u001b[1m(\u001b[0m\u001b[1;36m19\u001b[0m, \u001b[1;36m37\u001b[0m, \u001b[1;36m45\u001b[0m\u001b[1m)\u001b[0m\n"
      ]
     },
     "metadata": {},
     "output_type": "display_data"
    },
    {
     "data": {
      "text/html": [
       "<pre style=\"white-space:pre;overflow-x:auto;line-height:normal;font-family:Menlo,'DejaVu Sans Mono',consolas,'Courier New',monospace\"><span style=\"color: #008080; text-decoration-color: #008080; font-weight: bold\">0.18678</span>         <span style=\"font-weight: bold\">(</span><span style=\"color: #008080; text-decoration-color: #008080; font-weight: bold\">22</span>, <span style=\"color: #008080; text-decoration-color: #008080; font-weight: bold\">37</span><span style=\"font-weight: bold\">)</span>\n",
       "</pre>\n"
      ],
      "text/plain": [
       "\u001b[1;36m0.18678\u001b[0m         \u001b[1m(\u001b[0m\u001b[1;36m22\u001b[0m, \u001b[1;36m37\u001b[0m\u001b[1m)\u001b[0m\n"
      ]
     },
     "metadata": {},
     "output_type": "display_data"
    },
    {
     "data": {
      "text/html": [
       "<pre style=\"white-space:pre;overflow-x:auto;line-height:normal;font-family:Menlo,'DejaVu Sans Mono',consolas,'Courier New',monospace\"><span style=\"color: #008080; text-decoration-color: #008080; font-weight: bold\">0.18678</span>         <span style=\"font-weight: bold\">(</span><span style=\"color: #008080; text-decoration-color: #008080; font-weight: bold\">22</span>, <span style=\"color: #008080; text-decoration-color: #008080; font-weight: bold\">37</span>, <span style=\"color: #008080; text-decoration-color: #008080; font-weight: bold\">45</span><span style=\"font-weight: bold\">)</span>\n",
       "</pre>\n"
      ],
      "text/plain": [
       "\u001b[1;36m0.18678\u001b[0m         \u001b[1m(\u001b[0m\u001b[1;36m22\u001b[0m, \u001b[1;36m37\u001b[0m, \u001b[1;36m45\u001b[0m\u001b[1m)\u001b[0m\n"
      ]
     },
     "metadata": {},
     "output_type": "display_data"
    },
    {
     "data": {
      "text/html": [
       "<pre style=\"white-space:pre;overflow-x:auto;line-height:normal;font-family:Menlo,'DejaVu Sans Mono',consolas,'Courier New',monospace\"><span style=\"color: #008080; text-decoration-color: #008080; font-weight: bold\">0.18687</span>         <span style=\"font-weight: bold\">(</span><span style=\"color: #008080; text-decoration-color: #008080; font-weight: bold\">10</span>, <span style=\"color: #008080; text-decoration-color: #008080; font-weight: bold\">22</span>, <span style=\"color: #008080; text-decoration-color: #008080; font-weight: bold\">33</span><span style=\"font-weight: bold\">)</span>\n",
       "</pre>\n"
      ],
      "text/plain": [
       "\u001b[1;36m0.18687\u001b[0m         \u001b[1m(\u001b[0m\u001b[1;36m10\u001b[0m, \u001b[1;36m22\u001b[0m, \u001b[1;36m33\u001b[0m\u001b[1m)\u001b[0m\n"
      ]
     },
     "metadata": {},
     "output_type": "display_data"
    },
    {
     "data": {
      "text/html": [
       "<pre style=\"white-space:pre;overflow-x:auto;line-height:normal;font-family:Menlo,'DejaVu Sans Mono',consolas,'Courier New',monospace\"><span style=\"color: #008080; text-decoration-color: #008080; font-weight: bold\">0.18687</span>         <span style=\"font-weight: bold\">(</span><span style=\"color: #008080; text-decoration-color: #008080; font-weight: bold\">22</span>, <span style=\"color: #008080; text-decoration-color: #008080; font-weight: bold\">33</span><span style=\"font-weight: bold\">)</span>\n",
       "</pre>\n"
      ],
      "text/plain": [
       "\u001b[1;36m0.18687\u001b[0m         \u001b[1m(\u001b[0m\u001b[1;36m22\u001b[0m, \u001b[1;36m33\u001b[0m\u001b[1m)\u001b[0m\n"
      ]
     },
     "metadata": {},
     "output_type": "display_data"
    },
    {
     "data": {
      "text/html": [
       "<pre style=\"white-space:pre;overflow-x:auto;line-height:normal;font-family:Menlo,'DejaVu Sans Mono',consolas,'Courier New',monospace\"><span style=\"color: #008080; text-decoration-color: #008080; font-weight: bold\">0.19183</span>         <span style=\"font-weight: bold\">(</span><span style=\"color: #008080; text-decoration-color: #008080; font-weight: bold\">22</span>, <span style=\"color: #008080; text-decoration-color: #008080; font-weight: bold\">33</span>, <span style=\"color: #008080; text-decoration-color: #008080; font-weight: bold\">37</span><span style=\"font-weight: bold\">)</span>\n",
       "</pre>\n"
      ],
      "text/plain": [
       "\u001b[1;36m0.19183\u001b[0m         \u001b[1m(\u001b[0m\u001b[1;36m22\u001b[0m, \u001b[1;36m33\u001b[0m, \u001b[1;36m37\u001b[0m\u001b[1m)\u001b[0m\n"
      ]
     },
     "metadata": {},
     "output_type": "display_data"
    },
    {
     "data": {
      "text/html": [
       "<pre style=\"white-space:pre;overflow-x:auto;line-height:normal;font-family:Menlo,'DejaVu Sans Mono',consolas,'Courier New',monospace\"><span style=\"color: #008080; text-decoration-color: #008080; font-weight: bold\">0.19444</span>         <span style=\"font-weight: bold\">(</span><span style=\"color: #008080; text-decoration-color: #008080; font-weight: bold\">7</span>, <span style=\"color: #008080; text-decoration-color: #008080; font-weight: bold\">17</span>, <span style=\"color: #008080; text-decoration-color: #008080; font-weight: bold\">42</span><span style=\"font-weight: bold\">)</span>\n",
       "</pre>\n"
      ],
      "text/plain": [
       "\u001b[1;36m0.19444\u001b[0m         \u001b[1m(\u001b[0m\u001b[1;36m7\u001b[0m, \u001b[1;36m17\u001b[0m, \u001b[1;36m42\u001b[0m\u001b[1m)\u001b[0m\n"
      ]
     },
     "metadata": {},
     "output_type": "display_data"
    },
    {
     "data": {
      "text/html": [
       "<pre style=\"white-space:pre;overflow-x:auto;line-height:normal;font-family:Menlo,'DejaVu Sans Mono',consolas,'Courier New',monospace\"><span style=\"color: #008080; text-decoration-color: #008080; font-weight: bold\">0.19444</span>         <span style=\"font-weight: bold\">(</span><span style=\"color: #008080; text-decoration-color: #008080; font-weight: bold\">7</span>, <span style=\"color: #008080; text-decoration-color: #008080; font-weight: bold\">42</span><span style=\"font-weight: bold\">)</span>\n",
       "</pre>\n"
      ],
      "text/plain": [
       "\u001b[1;36m0.19444\u001b[0m         \u001b[1m(\u001b[0m\u001b[1;36m7\u001b[0m, \u001b[1;36m42\u001b[0m\u001b[1m)\u001b[0m\n"
      ]
     },
     "metadata": {},
     "output_type": "display_data"
    },
    {
     "data": {
      "text/html": [
       "<pre style=\"white-space:pre;overflow-x:auto;line-height:normal;font-family:Menlo,'DejaVu Sans Mono',consolas,'Courier New',monospace\"><span style=\"color: #008080; text-decoration-color: #008080; font-weight: bold\">0.20919</span>         <span style=\"font-weight: bold\">(</span><span style=\"color: #008080; text-decoration-color: #008080; font-weight: bold\">4</span>, <span style=\"color: #008080; text-decoration-color: #008080; font-weight: bold\">18</span>, <span style=\"color: #008080; text-decoration-color: #008080; font-weight: bold\">42</span><span style=\"font-weight: bold\">)</span>\n",
       "</pre>\n"
      ],
      "text/plain": [
       "\u001b[1;36m0.20919\u001b[0m         \u001b[1m(\u001b[0m\u001b[1;36m4\u001b[0m, \u001b[1;36m18\u001b[0m, \u001b[1;36m42\u001b[0m\u001b[1m)\u001b[0m\n"
      ]
     },
     "metadata": {},
     "output_type": "display_data"
    },
    {
     "data": {
      "text/html": [
       "<pre style=\"white-space:pre;overflow-x:auto;line-height:normal;font-family:Menlo,'DejaVu Sans Mono',consolas,'Courier New',monospace\"><span style=\"color: #008080; text-decoration-color: #008080; font-weight: bold\">0.20919</span>         <span style=\"font-weight: bold\">(</span><span style=\"color: #008080; text-decoration-color: #008080; font-weight: bold\">4</span>, <span style=\"color: #008080; text-decoration-color: #008080; font-weight: bold\">42</span><span style=\"font-weight: bold\">)</span>\n",
       "</pre>\n"
      ],
      "text/plain": [
       "\u001b[1;36m0.20919\u001b[0m         \u001b[1m(\u001b[0m\u001b[1;36m4\u001b[0m, \u001b[1;36m42\u001b[0m\u001b[1m)\u001b[0m\n"
      ]
     },
     "metadata": {},
     "output_type": "display_data"
    },
    {
     "data": {
      "text/html": [
       "<pre style=\"white-space:pre;overflow-x:auto;line-height:normal;font-family:Menlo,'DejaVu Sans Mono',consolas,'Courier New',monospace\"><span style=\"color: #008080; text-decoration-color: #008080; font-weight: bold\">0.21571</span>         <span style=\"font-weight: bold\">(</span><span style=\"color: #008080; text-decoration-color: #008080; font-weight: bold\">10</span>, <span style=\"color: #008080; text-decoration-color: #008080; font-weight: bold\">36</span><span style=\"font-weight: bold\">)</span>\n",
       "</pre>\n"
      ],
      "text/plain": [
       "\u001b[1;36m0.21571\u001b[0m         \u001b[1m(\u001b[0m\u001b[1;36m10\u001b[0m, \u001b[1;36m36\u001b[0m\u001b[1m)\u001b[0m\n"
      ]
     },
     "metadata": {},
     "output_type": "display_data"
    },
    {
     "data": {
      "text/html": [
       "<pre style=\"white-space:pre;overflow-x:auto;line-height:normal;font-family:Menlo,'DejaVu Sans Mono',consolas,'Courier New',monospace\"><span style=\"color: #008080; text-decoration-color: #008080; font-weight: bold\">0.21571</span>         <span style=\"font-weight: bold\">(</span><span style=\"color: #008080; text-decoration-color: #008080; font-weight: bold\">10</span>, <span style=\"color: #008080; text-decoration-color: #008080; font-weight: bold\">22</span>, <span style=\"color: #008080; text-decoration-color: #008080; font-weight: bold\">36</span><span style=\"font-weight: bold\">)</span>\n",
       "</pre>\n"
      ],
      "text/plain": [
       "\u001b[1;36m0.21571\u001b[0m         \u001b[1m(\u001b[0m\u001b[1;36m10\u001b[0m, \u001b[1;36m22\u001b[0m, \u001b[1;36m36\u001b[0m\u001b[1m)\u001b[0m\n"
      ]
     },
     "metadata": {},
     "output_type": "display_data"
    },
    {
     "data": {
      "text/html": [
       "<pre style=\"white-space:pre;overflow-x:auto;line-height:normal;font-family:Menlo,'DejaVu Sans Mono',consolas,'Courier New',monospace\"><span style=\"color: #008080; text-decoration-color: #008080; font-weight: bold\">0.22463</span>         <span style=\"font-weight: bold\">(</span><span style=\"color: #008080; text-decoration-color: #008080; font-weight: bold\">23</span>, <span style=\"color: #008080; text-decoration-color: #008080; font-weight: bold\">24</span><span style=\"font-weight: bold\">)</span>\n",
       "</pre>\n"
      ],
      "text/plain": [
       "\u001b[1;36m0.22463\u001b[0m         \u001b[1m(\u001b[0m\u001b[1;36m23\u001b[0m, \u001b[1;36m24\u001b[0m\u001b[1m)\u001b[0m\n"
      ]
     },
     "metadata": {},
     "output_type": "display_data"
    },
    {
     "data": {
      "text/html": [
       "<pre style=\"white-space:pre;overflow-x:auto;line-height:normal;font-family:Menlo,'DejaVu Sans Mono',consolas,'Courier New',monospace\"><span style=\"color: #008080; text-decoration-color: #008080; font-weight: bold\">0.22463</span>         <span style=\"font-weight: bold\">(</span><span style=\"color: #008080; text-decoration-color: #008080; font-weight: bold\">23</span>, <span style=\"color: #008080; text-decoration-color: #008080; font-weight: bold\">24</span>, <span style=\"color: #008080; text-decoration-color: #008080; font-weight: bold\">46</span><span style=\"font-weight: bold\">)</span>\n",
       "</pre>\n"
      ],
      "text/plain": [
       "\u001b[1;36m0.22463\u001b[0m         \u001b[1m(\u001b[0m\u001b[1;36m23\u001b[0m, \u001b[1;36m24\u001b[0m, \u001b[1;36m46\u001b[0m\u001b[1m)\u001b[0m\n"
      ]
     },
     "metadata": {},
     "output_type": "display_data"
    },
    {
     "data": {
      "text/html": [
       "<pre style=\"white-space:pre;overflow-x:auto;line-height:normal;font-family:Menlo,'DejaVu Sans Mono',consolas,'Courier New',monospace\"><span style=\"color: #008080; text-decoration-color: #008080; font-weight: bold\">0.22569</span>         <span style=\"font-weight: bold\">(</span><span style=\"color: #008080; text-decoration-color: #008080; font-weight: bold\">24</span>, <span style=\"color: #008080; text-decoration-color: #008080; font-weight: bold\">41</span><span style=\"font-weight: bold\">)</span>\n",
       "</pre>\n"
      ],
      "text/plain": [
       "\u001b[1;36m0.22569\u001b[0m         \u001b[1m(\u001b[0m\u001b[1;36m24\u001b[0m, \u001b[1;36m41\u001b[0m\u001b[1m)\u001b[0m\n"
      ]
     },
     "metadata": {},
     "output_type": "display_data"
    },
    {
     "data": {
      "text/html": [
       "<pre style=\"white-space:pre;overflow-x:auto;line-height:normal;font-family:Menlo,'DejaVu Sans Mono',consolas,'Courier New',monospace\"><span style=\"color: #008080; text-decoration-color: #008080; font-weight: bold\">0.22569</span>         <span style=\"font-weight: bold\">(</span><span style=\"color: #008080; text-decoration-color: #008080; font-weight: bold\">24</span>, <span style=\"color: #008080; text-decoration-color: #008080; font-weight: bold\">36</span>, <span style=\"color: #008080; text-decoration-color: #008080; font-weight: bold\">41</span><span style=\"font-weight: bold\">)</span>\n",
       "</pre>\n"
      ],
      "text/plain": [
       "\u001b[1;36m0.22569\u001b[0m         \u001b[1m(\u001b[0m\u001b[1;36m24\u001b[0m, \u001b[1;36m36\u001b[0m, \u001b[1;36m41\u001b[0m\u001b[1m)\u001b[0m\n"
      ]
     },
     "metadata": {},
     "output_type": "display_data"
    },
    {
     "data": {
      "text/html": [
       "<pre style=\"white-space:pre;overflow-x:auto;line-height:normal;font-family:Menlo,'DejaVu Sans Mono',consolas,'Courier New',monospace\"><span style=\"color: #008080; text-decoration-color: #008080; font-weight: bold\">0.23314</span>         <span style=\"font-weight: bold\">(</span><span style=\"color: #008080; text-decoration-color: #008080; font-weight: bold\">10</span>, <span style=\"color: #008080; text-decoration-color: #008080; font-weight: bold\">36</span>, <span style=\"color: #008080; text-decoration-color: #008080; font-weight: bold\">41</span><span style=\"font-weight: bold\">)</span>\n",
       "</pre>\n"
      ],
      "text/plain": [
       "\u001b[1;36m0.23314\u001b[0m         \u001b[1m(\u001b[0m\u001b[1;36m10\u001b[0m, \u001b[1;36m36\u001b[0m, \u001b[1;36m41\u001b[0m\u001b[1m)\u001b[0m\n"
      ]
     },
     "metadata": {},
     "output_type": "display_data"
    },
    {
     "data": {
      "text/html": [
       "<pre style=\"white-space:pre;overflow-x:auto;line-height:normal;font-family:Menlo,'DejaVu Sans Mono',consolas,'Courier New',monospace\"><span style=\"color: #008080; text-decoration-color: #008080; font-weight: bold\">0.23314</span>         <span style=\"font-weight: bold\">(</span><span style=\"color: #008080; text-decoration-color: #008080; font-weight: bold\">10</span>, <span style=\"color: #008080; text-decoration-color: #008080; font-weight: bold\">41</span><span style=\"font-weight: bold\">)</span>\n",
       "</pre>\n"
      ],
      "text/plain": [
       "\u001b[1;36m0.23314\u001b[0m         \u001b[1m(\u001b[0m\u001b[1;36m10\u001b[0m, \u001b[1;36m41\u001b[0m\u001b[1m)\u001b[0m\n"
      ]
     },
     "metadata": {},
     "output_type": "display_data"
    },
    {
     "data": {
      "text/html": [
       "<pre style=\"white-space:pre;overflow-x:auto;line-height:normal;font-family:Menlo,'DejaVu Sans Mono',consolas,'Courier New',monospace\"><span style=\"color: #008080; text-decoration-color: #008080; font-weight: bold\">0.35319</span>         <span style=\"font-weight: bold\">(</span><span style=\"color: #008080; text-decoration-color: #008080; font-weight: bold\">23</span>, <span style=\"color: #008080; text-decoration-color: #008080; font-weight: bold\">41</span><span style=\"font-weight: bold\">)</span>\n",
       "</pre>\n"
      ],
      "text/plain": [
       "\u001b[1;36m0.35319\u001b[0m         \u001b[1m(\u001b[0m\u001b[1;36m23\u001b[0m, \u001b[1;36m41\u001b[0m\u001b[1m)\u001b[0m\n"
      ]
     },
     "metadata": {},
     "output_type": "display_data"
    },
    {
     "data": {
      "text/html": [
       "<pre style=\"white-space:pre;overflow-x:auto;line-height:normal;font-family:Menlo,'DejaVu Sans Mono',consolas,'Courier New',monospace\"><span style=\"color: #008080; text-decoration-color: #008080; font-weight: bold\">0.35319</span>         <span style=\"font-weight: bold\">(</span><span style=\"color: #008080; text-decoration-color: #008080; font-weight: bold\">23</span>, <span style=\"color: #008080; text-decoration-color: #008080; font-weight: bold\">24</span>, <span style=\"color: #008080; text-decoration-color: #008080; font-weight: bold\">41</span><span style=\"font-weight: bold\">)</span>\n",
       "</pre>\n"
      ],
      "text/plain": [
       "\u001b[1;36m0.35319\u001b[0m         \u001b[1m(\u001b[0m\u001b[1;36m23\u001b[0m, \u001b[1;36m24\u001b[0m, \u001b[1;36m41\u001b[0m\u001b[1m)\u001b[0m\n"
      ]
     },
     "metadata": {},
     "output_type": "display_data"
    },
    {
     "data": {
      "text/html": [
       "<pre style=\"white-space:pre;overflow-x:auto;line-height:normal;font-family:Menlo,'DejaVu Sans Mono',consolas,'Courier New',monospace\"><span style=\"color: #008080; text-decoration-color: #008080; font-weight: bold\">0.36756</span>         <span style=\"font-weight: bold\">(</span><span style=\"color: #008080; text-decoration-color: #008080; font-weight: bold\">13</span>, <span style=\"color: #008080; text-decoration-color: #008080; font-weight: bold\">32</span><span style=\"font-weight: bold\">)</span>\n",
       "</pre>\n"
      ],
      "text/plain": [
       "\u001b[1;36m0.36756\u001b[0m         \u001b[1m(\u001b[0m\u001b[1;36m13\u001b[0m, \u001b[1;36m32\u001b[0m\u001b[1m)\u001b[0m\n"
      ]
     },
     "metadata": {},
     "output_type": "display_data"
    },
    {
     "data": {
      "text/html": [
       "<pre style=\"white-space:pre;overflow-x:auto;line-height:normal;font-family:Menlo,'DejaVu Sans Mono',consolas,'Courier New',monospace\"><span style=\"color: #008080; text-decoration-color: #008080; font-weight: bold\">0.36756</span>         <span style=\"font-weight: bold\">(</span><span style=\"color: #008080; text-decoration-color: #008080; font-weight: bold\">12</span>, <span style=\"color: #008080; text-decoration-color: #008080; font-weight: bold\">13</span>, <span style=\"color: #008080; text-decoration-color: #008080; font-weight: bold\">32</span><span style=\"font-weight: bold\">)</span>\n",
       "</pre>\n"
      ],
      "text/plain": [
       "\u001b[1;36m0.36756\u001b[0m         \u001b[1m(\u001b[0m\u001b[1;36m12\u001b[0m, \u001b[1;36m13\u001b[0m, \u001b[1;36m32\u001b[0m\u001b[1m)\u001b[0m\n"
      ]
     },
     "metadata": {},
     "output_type": "display_data"
    },
    {
     "data": {
      "text/html": [
       "<pre style=\"white-space:pre;overflow-x:auto;line-height:normal;font-family:Menlo,'DejaVu Sans Mono',consolas,'Courier New',monospace\"><span style=\"color: #008080; text-decoration-color: #008080; font-weight: bold\">0.44645</span>         <span style=\"font-weight: bold\">(</span><span style=\"color: #008080; text-decoration-color: #008080; font-weight: bold\">2</span>, <span style=\"color: #008080; text-decoration-color: #008080; font-weight: bold\">35</span><span style=\"font-weight: bold\">)</span>\n",
       "</pre>\n"
      ],
      "text/plain": [
       "\u001b[1;36m0.44645\u001b[0m         \u001b[1m(\u001b[0m\u001b[1;36m2\u001b[0m, \u001b[1;36m35\u001b[0m\u001b[1m)\u001b[0m\n"
      ]
     },
     "metadata": {},
     "output_type": "display_data"
    },
    {
     "data": {
      "text/html": [
       "<pre style=\"white-space:pre;overflow-x:auto;line-height:normal;font-family:Menlo,'DejaVu Sans Mono',consolas,'Courier New',monospace\"><span style=\"color: #008080; text-decoration-color: #008080; font-weight: bold\">0.44645</span>         <span style=\"font-weight: bold\">(</span><span style=\"color: #008080; text-decoration-color: #008080; font-weight: bold\">2</span>, <span style=\"color: #008080; text-decoration-color: #008080; font-weight: bold\">27</span>, <span style=\"color: #008080; text-decoration-color: #008080; font-weight: bold\">35</span><span style=\"font-weight: bold\">)</span>\n",
       "</pre>\n"
      ],
      "text/plain": [
       "\u001b[1;36m0.44645\u001b[0m         \u001b[1m(\u001b[0m\u001b[1;36m2\u001b[0m, \u001b[1;36m27\u001b[0m, \u001b[1;36m35\u001b[0m\u001b[1m)\u001b[0m\n"
      ]
     },
     "metadata": {},
     "output_type": "display_data"
    },
    {
     "data": {
      "text/html": [
       "<pre style=\"white-space:pre;overflow-x:auto;line-height:normal;font-family:Menlo,'DejaVu Sans Mono',consolas,'Courier New',monospace\"><span style=\"color: #008080; text-decoration-color: #008080; font-weight: bold\">0.62248</span>         <span style=\"font-weight: bold\">(</span><span style=\"color: #008080; text-decoration-color: #008080; font-weight: bold\">7</span>, <span style=\"color: #008080; text-decoration-color: #008080; font-weight: bold\">26</span>, <span style=\"color: #008080; text-decoration-color: #008080; font-weight: bold\">42</span><span style=\"font-weight: bold\">)</span>\n",
       "</pre>\n"
      ],
      "text/plain": [
       "\u001b[1;36m0.62248\u001b[0m         \u001b[1m(\u001b[0m\u001b[1;36m7\u001b[0m, \u001b[1;36m26\u001b[0m, \u001b[1;36m42\u001b[0m\u001b[1m)\u001b[0m\n"
      ]
     },
     "metadata": {},
     "output_type": "display_data"
    },
    {
     "data": {
      "text/html": [
       "<pre style=\"white-space:pre;overflow-x:auto;line-height:normal;font-family:Menlo,'DejaVu Sans Mono',consolas,'Courier New',monospace\"><span style=\"color: #008080; text-decoration-color: #008080; font-weight: bold\">0.62248</span>         <span style=\"font-weight: bold\">(</span><span style=\"color: #008080; text-decoration-color: #008080; font-weight: bold\">26</span>, <span style=\"color: #008080; text-decoration-color: #008080; font-weight: bold\">42</span><span style=\"font-weight: bold\">)</span>\n",
       "</pre>\n"
      ],
      "text/plain": [
       "\u001b[1;36m0.62248\u001b[0m         \u001b[1m(\u001b[0m\u001b[1;36m26\u001b[0m, \u001b[1;36m42\u001b[0m\u001b[1m)\u001b[0m\n"
      ]
     },
     "metadata": {},
     "output_type": "display_data"
    },
    {
     "data": {
      "text/html": [
       "<pre style=\"white-space:pre;overflow-x:auto;line-height:normal;font-family:Menlo,'DejaVu Sans Mono',consolas,'Courier New',monospace\"><span style=\"color: #008080; text-decoration-color: #008080; font-weight: bold\">0.78166</span>         <span style=\"font-weight: bold\">(</span><span style=\"color: #008080; text-decoration-color: #008080; font-weight: bold\">32</span>, <span style=\"color: #008080; text-decoration-color: #008080; font-weight: bold\">35</span><span style=\"font-weight: bold\">)</span>\n",
       "</pre>\n"
      ],
      "text/plain": [
       "\u001b[1;36m0.78166\u001b[0m         \u001b[1m(\u001b[0m\u001b[1;36m32\u001b[0m, \u001b[1;36m35\u001b[0m\u001b[1m)\u001b[0m\n"
      ]
     },
     "metadata": {},
     "output_type": "display_data"
    },
    {
     "data": {
      "text/html": [
       "<pre style=\"white-space:pre;overflow-x:auto;line-height:normal;font-family:Menlo,'DejaVu Sans Mono',consolas,'Courier New',monospace\"><span style=\"color: #008080; text-decoration-color: #008080; font-weight: bold\">0.78166</span>         <span style=\"font-weight: bold\">(</span><span style=\"color: #008080; text-decoration-color: #008080; font-weight: bold\">2</span>, <span style=\"color: #008080; text-decoration-color: #008080; font-weight: bold\">32</span>, <span style=\"color: #008080; text-decoration-color: #008080; font-weight: bold\">35</span><span style=\"font-weight: bold\">)</span>\n",
       "</pre>\n"
      ],
      "text/plain": [
       "\u001b[1;36m0.78166\u001b[0m         \u001b[1m(\u001b[0m\u001b[1;36m2\u001b[0m, \u001b[1;36m32\u001b[0m, \u001b[1;36m35\u001b[0m\u001b[1m)\u001b[0m\n"
      ]
     },
     "metadata": {},
     "output_type": "display_data"
    },
    {
     "data": {
      "text/html": [
       "<pre style=\"white-space:pre;overflow-x:auto;line-height:normal;font-family:Menlo,'DejaVu Sans Mono',consolas,'Courier New',monospace\"><span style=\"color: #008080; text-decoration-color: #008080; font-weight: bold\">0.78426</span>         <span style=\"font-weight: bold\">(</span><span style=\"color: #008080; text-decoration-color: #008080; font-weight: bold\">21</span>, <span style=\"color: #008080; text-decoration-color: #008080; font-weight: bold\">41</span><span style=\"font-weight: bold\">)</span>\n",
       "</pre>\n"
      ],
      "text/plain": [
       "\u001b[1;36m0.78426\u001b[0m         \u001b[1m(\u001b[0m\u001b[1;36m21\u001b[0m, \u001b[1;36m41\u001b[0m\u001b[1m)\u001b[0m\n"
      ]
     },
     "metadata": {},
     "output_type": "display_data"
    },
    {
     "data": {
      "text/html": [
       "<pre style=\"white-space:pre;overflow-x:auto;line-height:normal;font-family:Menlo,'DejaVu Sans Mono',consolas,'Courier New',monospace\"><span style=\"color: #008080; text-decoration-color: #008080; font-weight: bold\">0.78426</span>         <span style=\"font-weight: bold\">(</span><span style=\"color: #008080; text-decoration-color: #008080; font-weight: bold\">21</span>, <span style=\"color: #008080; text-decoration-color: #008080; font-weight: bold\">23</span>, <span style=\"color: #008080; text-decoration-color: #008080; font-weight: bold\">41</span><span style=\"font-weight: bold\">)</span>\n",
       "</pre>\n"
      ],
      "text/plain": [
       "\u001b[1;36m0.78426\u001b[0m         \u001b[1m(\u001b[0m\u001b[1;36m21\u001b[0m, \u001b[1;36m23\u001b[0m, \u001b[1;36m41\u001b[0m\u001b[1m)\u001b[0m\n"
      ]
     },
     "metadata": {},
     "output_type": "display_data"
    },
    {
     "data": {
      "text/html": [
       "<pre style=\"white-space:pre;overflow-x:auto;line-height:normal;font-family:Menlo,'DejaVu Sans Mono',consolas,'Courier New',monospace\"><span style=\"color: #008080; text-decoration-color: #008080; font-weight: bold\">0.86188</span>         <span style=\"font-weight: bold\">(</span><span style=\"color: #008080; text-decoration-color: #008080; font-weight: bold\">8</span>, <span style=\"color: #008080; text-decoration-color: #008080; font-weight: bold\">10</span>, <span style=\"color: #008080; text-decoration-color: #008080; font-weight: bold\">11</span><span style=\"font-weight: bold\">)</span>\n",
       "</pre>\n"
      ],
      "text/plain": [
       "\u001b[1;36m0.86188\u001b[0m         \u001b[1m(\u001b[0m\u001b[1;36m8\u001b[0m, \u001b[1;36m10\u001b[0m, \u001b[1;36m11\u001b[0m\u001b[1m)\u001b[0m\n"
      ]
     },
     "metadata": {},
     "output_type": "display_data"
    },
    {
     "data": {
      "text/html": [
       "<pre style=\"white-space:pre;overflow-x:auto;line-height:normal;font-family:Menlo,'DejaVu Sans Mono',consolas,'Courier New',monospace\"><span style=\"color: #008080; text-decoration-color: #008080; font-weight: bold\">0.86188</span>         <span style=\"font-weight: bold\">(</span><span style=\"color: #008080; text-decoration-color: #008080; font-weight: bold\">8</span>, <span style=\"color: #008080; text-decoration-color: #008080; font-weight: bold\">10</span><span style=\"font-weight: bold\">)</span>\n",
       "</pre>\n"
      ],
      "text/plain": [
       "\u001b[1;36m0.86188\u001b[0m         \u001b[1m(\u001b[0m\u001b[1;36m8\u001b[0m, \u001b[1;36m10\u001b[0m\u001b[1m)\u001b[0m\n"
      ]
     },
     "metadata": {},
     "output_type": "display_data"
    },
    {
     "data": {
      "text/html": [
       "<pre style=\"white-space:pre;overflow-x:auto;line-height:normal;font-family:Menlo,'DejaVu Sans Mono',consolas,'Courier New',monospace\"><span style=\"color: #008080; text-decoration-color: #008080; font-weight: bold\">2.60283</span>         <span style=\"font-weight: bold\">(</span><span style=\"color: #008080; text-decoration-color: #008080; font-weight: bold\">8</span>, <span style=\"color: #008080; text-decoration-color: #008080; font-weight: bold\">10</span>, <span style=\"color: #008080; text-decoration-color: #008080; font-weight: bold\">41</span><span style=\"font-weight: bold\">)</span>\n",
       "</pre>\n"
      ],
      "text/plain": [
       "\u001b[1;36m2.60283\u001b[0m         \u001b[1m(\u001b[0m\u001b[1;36m8\u001b[0m, \u001b[1;36m10\u001b[0m, \u001b[1;36m41\u001b[0m\u001b[1m)\u001b[0m\n"
      ]
     },
     "metadata": {},
     "output_type": "display_data"
    },
    {
     "data": {
      "text/html": [
       "<pre style=\"white-space:pre;overflow-x:auto;line-height:normal;font-family:Menlo,'DejaVu Sans Mono',consolas,'Courier New',monospace\"><span style=\"color: #008080; text-decoration-color: #008080; font-weight: bold\">2.60283</span>         <span style=\"font-weight: bold\">(</span><span style=\"color: #008080; text-decoration-color: #008080; font-weight: bold\">8</span>, <span style=\"color: #008080; text-decoration-color: #008080; font-weight: bold\">41</span><span style=\"font-weight: bold\">)</span>\n",
       "</pre>\n"
      ],
      "text/plain": [
       "\u001b[1;36m2.60283\u001b[0m         \u001b[1m(\u001b[0m\u001b[1;36m8\u001b[0m, \u001b[1;36m41\u001b[0m\u001b[1m)\u001b[0m\n"
      ]
     },
     "metadata": {},
     "output_type": "display_data"
    }
   ],
   "source": [
    "print(len(cech_complex))\n",
    "for sigma in sorted(cech_complex, key = lambda t: t[1]) :\n",
    "    print(\"{:.5f}\".format(sigma[1])+\"\\t\\t\"+str(sigma[0]))"
   ]
  },
  {
   "cell_type": "code",
   "execution_count": 8,
   "id": "7afb57c8",
   "metadata": {},
   "outputs": [
    {
     "data": {
      "text/html": [
       "<pre style=\"white-space:pre;overflow-x:auto;line-height:normal;font-family:Menlo,'DejaVu Sans Mono',consolas,'Courier New',monospace\"><span style=\"color: #008080; text-decoration-color: #008080; font-weight: bold\">275</span>\n",
       "</pre>\n"
      ],
      "text/plain": [
       "\u001b[1;36m275\u001b[0m\n"
      ]
     },
     "metadata": {},
     "output_type": "display_data"
    },
    {
     "data": {
      "text/html": [
       "<pre style=\"white-space:pre;overflow-x:auto;line-height:normal;font-family:Menlo,'DejaVu Sans Mono',consolas,'Courier New',monospace\"><span style=\"color: #008080; text-decoration-color: #008080; font-weight: bold\">0.00000</span>         <span style=\"font-weight: bold\">[</span><span style=\"color: #008080; text-decoration-color: #008080; font-weight: bold\">0</span><span style=\"font-weight: bold\">]</span>\n",
       "</pre>\n"
      ],
      "text/plain": [
       "\u001b[1;36m0.00000\u001b[0m         \u001b[1m[\u001b[0m\u001b[1;36m0\u001b[0m\u001b[1m]\u001b[0m\n"
      ]
     },
     "metadata": {},
     "output_type": "display_data"
    },
    {
     "data": {
      "text/html": [
       "<pre style=\"white-space:pre;overflow-x:auto;line-height:normal;font-family:Menlo,'DejaVu Sans Mono',consolas,'Courier New',monospace\"><span style=\"color: #008080; text-decoration-color: #008080; font-weight: bold\">0.00000</span>         <span style=\"font-weight: bold\">[</span><span style=\"color: #008080; text-decoration-color: #008080; font-weight: bold\">1</span><span style=\"font-weight: bold\">]</span>\n",
       "</pre>\n"
      ],
      "text/plain": [
       "\u001b[1;36m0.00000\u001b[0m         \u001b[1m[\u001b[0m\u001b[1;36m1\u001b[0m\u001b[1m]\u001b[0m\n"
      ]
     },
     "metadata": {},
     "output_type": "display_data"
    },
    {
     "data": {
      "text/html": [
       "<pre style=\"white-space:pre;overflow-x:auto;line-height:normal;font-family:Menlo,'DejaVu Sans Mono',consolas,'Courier New',monospace\"><span style=\"color: #008080; text-decoration-color: #008080; font-weight: bold\">0.00000</span>         <span style=\"font-weight: bold\">[</span><span style=\"color: #008080; text-decoration-color: #008080; font-weight: bold\">2</span><span style=\"font-weight: bold\">]</span>\n",
       "</pre>\n"
      ],
      "text/plain": [
       "\u001b[1;36m0.00000\u001b[0m         \u001b[1m[\u001b[0m\u001b[1;36m2\u001b[0m\u001b[1m]\u001b[0m\n"
      ]
     },
     "metadata": {},
     "output_type": "display_data"
    },
    {
     "data": {
      "text/html": [
       "<pre style=\"white-space:pre;overflow-x:auto;line-height:normal;font-family:Menlo,'DejaVu Sans Mono',consolas,'Courier New',monospace\"><span style=\"color: #008080; text-decoration-color: #008080; font-weight: bold\">0.00000</span>         <span style=\"font-weight: bold\">[</span><span style=\"color: #008080; text-decoration-color: #008080; font-weight: bold\">3</span><span style=\"font-weight: bold\">]</span>\n",
       "</pre>\n"
      ],
      "text/plain": [
       "\u001b[1;36m0.00000\u001b[0m         \u001b[1m[\u001b[0m\u001b[1;36m3\u001b[0m\u001b[1m]\u001b[0m\n"
      ]
     },
     "metadata": {},
     "output_type": "display_data"
    },
    {
     "data": {
      "text/html": [
       "<pre style=\"white-space:pre;overflow-x:auto;line-height:normal;font-family:Menlo,'DejaVu Sans Mono',consolas,'Courier New',monospace\"><span style=\"color: #008080; text-decoration-color: #008080; font-weight: bold\">0.00000</span>         <span style=\"font-weight: bold\">[</span><span style=\"color: #008080; text-decoration-color: #008080; font-weight: bold\">4</span><span style=\"font-weight: bold\">]</span>\n",
       "</pre>\n"
      ],
      "text/plain": [
       "\u001b[1;36m0.00000\u001b[0m         \u001b[1m[\u001b[0m\u001b[1;36m4\u001b[0m\u001b[1m]\u001b[0m\n"
      ]
     },
     "metadata": {},
     "output_type": "display_data"
    },
    {
     "data": {
      "text/html": [
       "<pre style=\"white-space:pre;overflow-x:auto;line-height:normal;font-family:Menlo,'DejaVu Sans Mono',consolas,'Courier New',monospace\"><span style=\"color: #008080; text-decoration-color: #008080; font-weight: bold\">0.00000</span>         <span style=\"font-weight: bold\">[</span><span style=\"color: #008080; text-decoration-color: #008080; font-weight: bold\">5</span><span style=\"font-weight: bold\">]</span>\n",
       "</pre>\n"
      ],
      "text/plain": [
       "\u001b[1;36m0.00000\u001b[0m         \u001b[1m[\u001b[0m\u001b[1;36m5\u001b[0m\u001b[1m]\u001b[0m\n"
      ]
     },
     "metadata": {},
     "output_type": "display_data"
    },
    {
     "data": {
      "text/html": [
       "<pre style=\"white-space:pre;overflow-x:auto;line-height:normal;font-family:Menlo,'DejaVu Sans Mono',consolas,'Courier New',monospace\"><span style=\"color: #008080; text-decoration-color: #008080; font-weight: bold\">0.00000</span>         <span style=\"font-weight: bold\">[</span><span style=\"color: #008080; text-decoration-color: #008080; font-weight: bold\">6</span><span style=\"font-weight: bold\">]</span>\n",
       "</pre>\n"
      ],
      "text/plain": [
       "\u001b[1;36m0.00000\u001b[0m         \u001b[1m[\u001b[0m\u001b[1;36m6\u001b[0m\u001b[1m]\u001b[0m\n"
      ]
     },
     "metadata": {},
     "output_type": "display_data"
    },
    {
     "data": {
      "text/html": [
       "<pre style=\"white-space:pre;overflow-x:auto;line-height:normal;font-family:Menlo,'DejaVu Sans Mono',consolas,'Courier New',monospace\"><span style=\"color: #008080; text-decoration-color: #008080; font-weight: bold\">0.00000</span>         <span style=\"font-weight: bold\">[</span><span style=\"color: #008080; text-decoration-color: #008080; font-weight: bold\">7</span><span style=\"font-weight: bold\">]</span>\n",
       "</pre>\n"
      ],
      "text/plain": [
       "\u001b[1;36m0.00000\u001b[0m         \u001b[1m[\u001b[0m\u001b[1;36m7\u001b[0m\u001b[1m]\u001b[0m\n"
      ]
     },
     "metadata": {},
     "output_type": "display_data"
    },
    {
     "data": {
      "text/html": [
       "<pre style=\"white-space:pre;overflow-x:auto;line-height:normal;font-family:Menlo,'DejaVu Sans Mono',consolas,'Courier New',monospace\"><span style=\"color: #008080; text-decoration-color: #008080; font-weight: bold\">0.00000</span>         <span style=\"font-weight: bold\">[</span><span style=\"color: #008080; text-decoration-color: #008080; font-weight: bold\">8</span><span style=\"font-weight: bold\">]</span>\n",
       "</pre>\n"
      ],
      "text/plain": [
       "\u001b[1;36m0.00000\u001b[0m         \u001b[1m[\u001b[0m\u001b[1;36m8\u001b[0m\u001b[1m]\u001b[0m\n"
      ]
     },
     "metadata": {},
     "output_type": "display_data"
    },
    {
     "data": {
      "text/html": [
       "<pre style=\"white-space:pre;overflow-x:auto;line-height:normal;font-family:Menlo,'DejaVu Sans Mono',consolas,'Courier New',monospace\"><span style=\"color: #008080; text-decoration-color: #008080; font-weight: bold\">0.00000</span>         <span style=\"font-weight: bold\">[</span><span style=\"color: #008080; text-decoration-color: #008080; font-weight: bold\">9</span><span style=\"font-weight: bold\">]</span>\n",
       "</pre>\n"
      ],
      "text/plain": [
       "\u001b[1;36m0.00000\u001b[0m         \u001b[1m[\u001b[0m\u001b[1;36m9\u001b[0m\u001b[1m]\u001b[0m\n"
      ]
     },
     "metadata": {},
     "output_type": "display_data"
    },
    {
     "data": {
      "text/html": [
       "<pre style=\"white-space:pre;overflow-x:auto;line-height:normal;font-family:Menlo,'DejaVu Sans Mono',consolas,'Courier New',monospace\"><span style=\"color: #008080; text-decoration-color: #008080; font-weight: bold\">0.00000</span>         <span style=\"font-weight: bold\">[</span><span style=\"color: #008080; text-decoration-color: #008080; font-weight: bold\">10</span><span style=\"font-weight: bold\">]</span>\n",
       "</pre>\n"
      ],
      "text/plain": [
       "\u001b[1;36m0.00000\u001b[0m         \u001b[1m[\u001b[0m\u001b[1;36m10\u001b[0m\u001b[1m]\u001b[0m\n"
      ]
     },
     "metadata": {},
     "output_type": "display_data"
    },
    {
     "data": {
      "text/html": [
       "<pre style=\"white-space:pre;overflow-x:auto;line-height:normal;font-family:Menlo,'DejaVu Sans Mono',consolas,'Courier New',monospace\"><span style=\"color: #008080; text-decoration-color: #008080; font-weight: bold\">0.00000</span>         <span style=\"font-weight: bold\">[</span><span style=\"color: #008080; text-decoration-color: #008080; font-weight: bold\">11</span><span style=\"font-weight: bold\">]</span>\n",
       "</pre>\n"
      ],
      "text/plain": [
       "\u001b[1;36m0.00000\u001b[0m         \u001b[1m[\u001b[0m\u001b[1;36m11\u001b[0m\u001b[1m]\u001b[0m\n"
      ]
     },
     "metadata": {},
     "output_type": "display_data"
    },
    {
     "data": {
      "text/html": [
       "<pre style=\"white-space:pre;overflow-x:auto;line-height:normal;font-family:Menlo,'DejaVu Sans Mono',consolas,'Courier New',monospace\"><span style=\"color: #008080; text-decoration-color: #008080; font-weight: bold\">0.00000</span>         <span style=\"font-weight: bold\">[</span><span style=\"color: #008080; text-decoration-color: #008080; font-weight: bold\">12</span><span style=\"font-weight: bold\">]</span>\n",
       "</pre>\n"
      ],
      "text/plain": [
       "\u001b[1;36m0.00000\u001b[0m         \u001b[1m[\u001b[0m\u001b[1;36m12\u001b[0m\u001b[1m]\u001b[0m\n"
      ]
     },
     "metadata": {},
     "output_type": "display_data"
    },
    {
     "data": {
      "text/html": [
       "<pre style=\"white-space:pre;overflow-x:auto;line-height:normal;font-family:Menlo,'DejaVu Sans Mono',consolas,'Courier New',monospace\"><span style=\"color: #008080; text-decoration-color: #008080; font-weight: bold\">0.00000</span>         <span style=\"font-weight: bold\">[</span><span style=\"color: #008080; text-decoration-color: #008080; font-weight: bold\">13</span><span style=\"font-weight: bold\">]</span>\n",
       "</pre>\n"
      ],
      "text/plain": [
       "\u001b[1;36m0.00000\u001b[0m         \u001b[1m[\u001b[0m\u001b[1;36m13\u001b[0m\u001b[1m]\u001b[0m\n"
      ]
     },
     "metadata": {},
     "output_type": "display_data"
    },
    {
     "data": {
      "text/html": [
       "<pre style=\"white-space:pre;overflow-x:auto;line-height:normal;font-family:Menlo,'DejaVu Sans Mono',consolas,'Courier New',monospace\"><span style=\"color: #008080; text-decoration-color: #008080; font-weight: bold\">0.00000</span>         <span style=\"font-weight: bold\">[</span><span style=\"color: #008080; text-decoration-color: #008080; font-weight: bold\">14</span><span style=\"font-weight: bold\">]</span>\n",
       "</pre>\n"
      ],
      "text/plain": [
       "\u001b[1;36m0.00000\u001b[0m         \u001b[1m[\u001b[0m\u001b[1;36m14\u001b[0m\u001b[1m]\u001b[0m\n"
      ]
     },
     "metadata": {},
     "output_type": "display_data"
    },
    {
     "data": {
      "text/html": [
       "<pre style=\"white-space:pre;overflow-x:auto;line-height:normal;font-family:Menlo,'DejaVu Sans Mono',consolas,'Courier New',monospace\"><span style=\"color: #008080; text-decoration-color: #008080; font-weight: bold\">0.00000</span>         <span style=\"font-weight: bold\">[</span><span style=\"color: #008080; text-decoration-color: #008080; font-weight: bold\">15</span><span style=\"font-weight: bold\">]</span>\n",
       "</pre>\n"
      ],
      "text/plain": [
       "\u001b[1;36m0.00000\u001b[0m         \u001b[1m[\u001b[0m\u001b[1;36m15\u001b[0m\u001b[1m]\u001b[0m\n"
      ]
     },
     "metadata": {},
     "output_type": "display_data"
    },
    {
     "data": {
      "text/html": [
       "<pre style=\"white-space:pre;overflow-x:auto;line-height:normal;font-family:Menlo,'DejaVu Sans Mono',consolas,'Courier New',monospace\"><span style=\"color: #008080; text-decoration-color: #008080; font-weight: bold\">0.00000</span>         <span style=\"font-weight: bold\">[</span><span style=\"color: #008080; text-decoration-color: #008080; font-weight: bold\">16</span><span style=\"font-weight: bold\">]</span>\n",
       "</pre>\n"
      ],
      "text/plain": [
       "\u001b[1;36m0.00000\u001b[0m         \u001b[1m[\u001b[0m\u001b[1;36m16\u001b[0m\u001b[1m]\u001b[0m\n"
      ]
     },
     "metadata": {},
     "output_type": "display_data"
    },
    {
     "data": {
      "text/html": [
       "<pre style=\"white-space:pre;overflow-x:auto;line-height:normal;font-family:Menlo,'DejaVu Sans Mono',consolas,'Courier New',monospace\"><span style=\"color: #008080; text-decoration-color: #008080; font-weight: bold\">0.00000</span>         <span style=\"font-weight: bold\">[</span><span style=\"color: #008080; text-decoration-color: #008080; font-weight: bold\">17</span><span style=\"font-weight: bold\">]</span>\n",
       "</pre>\n"
      ],
      "text/plain": [
       "\u001b[1;36m0.00000\u001b[0m         \u001b[1m[\u001b[0m\u001b[1;36m17\u001b[0m\u001b[1m]\u001b[0m\n"
      ]
     },
     "metadata": {},
     "output_type": "display_data"
    },
    {
     "data": {
      "text/html": [
       "<pre style=\"white-space:pre;overflow-x:auto;line-height:normal;font-family:Menlo,'DejaVu Sans Mono',consolas,'Courier New',monospace\"><span style=\"color: #008080; text-decoration-color: #008080; font-weight: bold\">0.00000</span>         <span style=\"font-weight: bold\">[</span><span style=\"color: #008080; text-decoration-color: #008080; font-weight: bold\">18</span><span style=\"font-weight: bold\">]</span>\n",
       "</pre>\n"
      ],
      "text/plain": [
       "\u001b[1;36m0.00000\u001b[0m         \u001b[1m[\u001b[0m\u001b[1;36m18\u001b[0m\u001b[1m]\u001b[0m\n"
      ]
     },
     "metadata": {},
     "output_type": "display_data"
    },
    {
     "data": {
      "text/html": [
       "<pre style=\"white-space:pre;overflow-x:auto;line-height:normal;font-family:Menlo,'DejaVu Sans Mono',consolas,'Courier New',monospace\"><span style=\"color: #008080; text-decoration-color: #008080; font-weight: bold\">0.00000</span>         <span style=\"font-weight: bold\">[</span><span style=\"color: #008080; text-decoration-color: #008080; font-weight: bold\">19</span><span style=\"font-weight: bold\">]</span>\n",
       "</pre>\n"
      ],
      "text/plain": [
       "\u001b[1;36m0.00000\u001b[0m         \u001b[1m[\u001b[0m\u001b[1;36m19\u001b[0m\u001b[1m]\u001b[0m\n"
      ]
     },
     "metadata": {},
     "output_type": "display_data"
    },
    {
     "data": {
      "text/html": [
       "<pre style=\"white-space:pre;overflow-x:auto;line-height:normal;font-family:Menlo,'DejaVu Sans Mono',consolas,'Courier New',monospace\"><span style=\"color: #008080; text-decoration-color: #008080; font-weight: bold\">0.00000</span>         <span style=\"font-weight: bold\">[</span><span style=\"color: #008080; text-decoration-color: #008080; font-weight: bold\">20</span><span style=\"font-weight: bold\">]</span>\n",
       "</pre>\n"
      ],
      "text/plain": [
       "\u001b[1;36m0.00000\u001b[0m         \u001b[1m[\u001b[0m\u001b[1;36m20\u001b[0m\u001b[1m]\u001b[0m\n"
      ]
     },
     "metadata": {},
     "output_type": "display_data"
    },
    {
     "data": {
      "text/html": [
       "<pre style=\"white-space:pre;overflow-x:auto;line-height:normal;font-family:Menlo,'DejaVu Sans Mono',consolas,'Courier New',monospace\"><span style=\"color: #008080; text-decoration-color: #008080; font-weight: bold\">0.00000</span>         <span style=\"font-weight: bold\">[</span><span style=\"color: #008080; text-decoration-color: #008080; font-weight: bold\">21</span><span style=\"font-weight: bold\">]</span>\n",
       "</pre>\n"
      ],
      "text/plain": [
       "\u001b[1;36m0.00000\u001b[0m         \u001b[1m[\u001b[0m\u001b[1;36m21\u001b[0m\u001b[1m]\u001b[0m\n"
      ]
     },
     "metadata": {},
     "output_type": "display_data"
    },
    {
     "data": {
      "text/html": [
       "<pre style=\"white-space:pre;overflow-x:auto;line-height:normal;font-family:Menlo,'DejaVu Sans Mono',consolas,'Courier New',monospace\"><span style=\"color: #008080; text-decoration-color: #008080; font-weight: bold\">0.00000</span>         <span style=\"font-weight: bold\">[</span><span style=\"color: #008080; text-decoration-color: #008080; font-weight: bold\">22</span><span style=\"font-weight: bold\">]</span>\n",
       "</pre>\n"
      ],
      "text/plain": [
       "\u001b[1;36m0.00000\u001b[0m         \u001b[1m[\u001b[0m\u001b[1;36m22\u001b[0m\u001b[1m]\u001b[0m\n"
      ]
     },
     "metadata": {},
     "output_type": "display_data"
    },
    {
     "data": {
      "text/html": [
       "<pre style=\"white-space:pre;overflow-x:auto;line-height:normal;font-family:Menlo,'DejaVu Sans Mono',consolas,'Courier New',monospace\"><span style=\"color: #008080; text-decoration-color: #008080; font-weight: bold\">0.00000</span>         <span style=\"font-weight: bold\">[</span><span style=\"color: #008080; text-decoration-color: #008080; font-weight: bold\">23</span><span style=\"font-weight: bold\">]</span>\n",
       "</pre>\n"
      ],
      "text/plain": [
       "\u001b[1;36m0.00000\u001b[0m         \u001b[1m[\u001b[0m\u001b[1;36m23\u001b[0m\u001b[1m]\u001b[0m\n"
      ]
     },
     "metadata": {},
     "output_type": "display_data"
    },
    {
     "data": {
      "text/html": [
       "<pre style=\"white-space:pre;overflow-x:auto;line-height:normal;font-family:Menlo,'DejaVu Sans Mono',consolas,'Courier New',monospace\"><span style=\"color: #008080; text-decoration-color: #008080; font-weight: bold\">0.00000</span>         <span style=\"font-weight: bold\">[</span><span style=\"color: #008080; text-decoration-color: #008080; font-weight: bold\">24</span><span style=\"font-weight: bold\">]</span>\n",
       "</pre>\n"
      ],
      "text/plain": [
       "\u001b[1;36m0.00000\u001b[0m         \u001b[1m[\u001b[0m\u001b[1;36m24\u001b[0m\u001b[1m]\u001b[0m\n"
      ]
     },
     "metadata": {},
     "output_type": "display_data"
    },
    {
     "data": {
      "text/html": [
       "<pre style=\"white-space:pre;overflow-x:auto;line-height:normal;font-family:Menlo,'DejaVu Sans Mono',consolas,'Courier New',monospace\"><span style=\"color: #008080; text-decoration-color: #008080; font-weight: bold\">0.00000</span>         <span style=\"font-weight: bold\">[</span><span style=\"color: #008080; text-decoration-color: #008080; font-weight: bold\">25</span><span style=\"font-weight: bold\">]</span>\n",
       "</pre>\n"
      ],
      "text/plain": [
       "\u001b[1;36m0.00000\u001b[0m         \u001b[1m[\u001b[0m\u001b[1;36m25\u001b[0m\u001b[1m]\u001b[0m\n"
      ]
     },
     "metadata": {},
     "output_type": "display_data"
    },
    {
     "data": {
      "text/html": [
       "<pre style=\"white-space:pre;overflow-x:auto;line-height:normal;font-family:Menlo,'DejaVu Sans Mono',consolas,'Courier New',monospace\"><span style=\"color: #008080; text-decoration-color: #008080; font-weight: bold\">0.00000</span>         <span style=\"font-weight: bold\">[</span><span style=\"color: #008080; text-decoration-color: #008080; font-weight: bold\">26</span><span style=\"font-weight: bold\">]</span>\n",
       "</pre>\n"
      ],
      "text/plain": [
       "\u001b[1;36m0.00000\u001b[0m         \u001b[1m[\u001b[0m\u001b[1;36m26\u001b[0m\u001b[1m]\u001b[0m\n"
      ]
     },
     "metadata": {},
     "output_type": "display_data"
    },
    {
     "data": {
      "text/html": [
       "<pre style=\"white-space:pre;overflow-x:auto;line-height:normal;font-family:Menlo,'DejaVu Sans Mono',consolas,'Courier New',monospace\"><span style=\"color: #008080; text-decoration-color: #008080; font-weight: bold\">0.00000</span>         <span style=\"font-weight: bold\">[</span><span style=\"color: #008080; text-decoration-color: #008080; font-weight: bold\">27</span><span style=\"font-weight: bold\">]</span>\n",
       "</pre>\n"
      ],
      "text/plain": [
       "\u001b[1;36m0.00000\u001b[0m         \u001b[1m[\u001b[0m\u001b[1;36m27\u001b[0m\u001b[1m]\u001b[0m\n"
      ]
     },
     "metadata": {},
     "output_type": "display_data"
    },
    {
     "data": {
      "text/html": [
       "<pre style=\"white-space:pre;overflow-x:auto;line-height:normal;font-family:Menlo,'DejaVu Sans Mono',consolas,'Courier New',monospace\"><span style=\"color: #008080; text-decoration-color: #008080; font-weight: bold\">0.00000</span>         <span style=\"font-weight: bold\">[</span><span style=\"color: #008080; text-decoration-color: #008080; font-weight: bold\">28</span><span style=\"font-weight: bold\">]</span>\n",
       "</pre>\n"
      ],
      "text/plain": [
       "\u001b[1;36m0.00000\u001b[0m         \u001b[1m[\u001b[0m\u001b[1;36m28\u001b[0m\u001b[1m]\u001b[0m\n"
      ]
     },
     "metadata": {},
     "output_type": "display_data"
    },
    {
     "data": {
      "text/html": [
       "<pre style=\"white-space:pre;overflow-x:auto;line-height:normal;font-family:Menlo,'DejaVu Sans Mono',consolas,'Courier New',monospace\"><span style=\"color: #008080; text-decoration-color: #008080; font-weight: bold\">0.00000</span>         <span style=\"font-weight: bold\">[</span><span style=\"color: #008080; text-decoration-color: #008080; font-weight: bold\">29</span><span style=\"font-weight: bold\">]</span>\n",
       "</pre>\n"
      ],
      "text/plain": [
       "\u001b[1;36m0.00000\u001b[0m         \u001b[1m[\u001b[0m\u001b[1;36m29\u001b[0m\u001b[1m]\u001b[0m\n"
      ]
     },
     "metadata": {},
     "output_type": "display_data"
    },
    {
     "data": {
      "text/html": [
       "<pre style=\"white-space:pre;overflow-x:auto;line-height:normal;font-family:Menlo,'DejaVu Sans Mono',consolas,'Courier New',monospace\"><span style=\"color: #008080; text-decoration-color: #008080; font-weight: bold\">0.00000</span>         <span style=\"font-weight: bold\">[</span><span style=\"color: #008080; text-decoration-color: #008080; font-weight: bold\">30</span><span style=\"font-weight: bold\">]</span>\n",
       "</pre>\n"
      ],
      "text/plain": [
       "\u001b[1;36m0.00000\u001b[0m         \u001b[1m[\u001b[0m\u001b[1;36m30\u001b[0m\u001b[1m]\u001b[0m\n"
      ]
     },
     "metadata": {},
     "output_type": "display_data"
    },
    {
     "data": {
      "text/html": [
       "<pre style=\"white-space:pre;overflow-x:auto;line-height:normal;font-family:Menlo,'DejaVu Sans Mono',consolas,'Courier New',monospace\"><span style=\"color: #008080; text-decoration-color: #008080; font-weight: bold\">0.00000</span>         <span style=\"font-weight: bold\">[</span><span style=\"color: #008080; text-decoration-color: #008080; font-weight: bold\">31</span><span style=\"font-weight: bold\">]</span>\n",
       "</pre>\n"
      ],
      "text/plain": [
       "\u001b[1;36m0.00000\u001b[0m         \u001b[1m[\u001b[0m\u001b[1;36m31\u001b[0m\u001b[1m]\u001b[0m\n"
      ]
     },
     "metadata": {},
     "output_type": "display_data"
    },
    {
     "data": {
      "text/html": [
       "<pre style=\"white-space:pre;overflow-x:auto;line-height:normal;font-family:Menlo,'DejaVu Sans Mono',consolas,'Courier New',monospace\"><span style=\"color: #008080; text-decoration-color: #008080; font-weight: bold\">0.00000</span>         <span style=\"font-weight: bold\">[</span><span style=\"color: #008080; text-decoration-color: #008080; font-weight: bold\">32</span><span style=\"font-weight: bold\">]</span>\n",
       "</pre>\n"
      ],
      "text/plain": [
       "\u001b[1;36m0.00000\u001b[0m         \u001b[1m[\u001b[0m\u001b[1;36m32\u001b[0m\u001b[1m]\u001b[0m\n"
      ]
     },
     "metadata": {},
     "output_type": "display_data"
    },
    {
     "data": {
      "text/html": [
       "<pre style=\"white-space:pre;overflow-x:auto;line-height:normal;font-family:Menlo,'DejaVu Sans Mono',consolas,'Courier New',monospace\"><span style=\"color: #008080; text-decoration-color: #008080; font-weight: bold\">0.00000</span>         <span style=\"font-weight: bold\">[</span><span style=\"color: #008080; text-decoration-color: #008080; font-weight: bold\">33</span><span style=\"font-weight: bold\">]</span>\n",
       "</pre>\n"
      ],
      "text/plain": [
       "\u001b[1;36m0.00000\u001b[0m         \u001b[1m[\u001b[0m\u001b[1;36m33\u001b[0m\u001b[1m]\u001b[0m\n"
      ]
     },
     "metadata": {},
     "output_type": "display_data"
    },
    {
     "data": {
      "text/html": [
       "<pre style=\"white-space:pre;overflow-x:auto;line-height:normal;font-family:Menlo,'DejaVu Sans Mono',consolas,'Courier New',monospace\"><span style=\"color: #008080; text-decoration-color: #008080; font-weight: bold\">0.00000</span>         <span style=\"font-weight: bold\">[</span><span style=\"color: #008080; text-decoration-color: #008080; font-weight: bold\">34</span><span style=\"font-weight: bold\">]</span>\n",
       "</pre>\n"
      ],
      "text/plain": [
       "\u001b[1;36m0.00000\u001b[0m         \u001b[1m[\u001b[0m\u001b[1;36m34\u001b[0m\u001b[1m]\u001b[0m\n"
      ]
     },
     "metadata": {},
     "output_type": "display_data"
    },
    {
     "data": {
      "text/html": [
       "<pre style=\"white-space:pre;overflow-x:auto;line-height:normal;font-family:Menlo,'DejaVu Sans Mono',consolas,'Courier New',monospace\"><span style=\"color: #008080; text-decoration-color: #008080; font-weight: bold\">0.00000</span>         <span style=\"font-weight: bold\">[</span><span style=\"color: #008080; text-decoration-color: #008080; font-weight: bold\">35</span><span style=\"font-weight: bold\">]</span>\n",
       "</pre>\n"
      ],
      "text/plain": [
       "\u001b[1;36m0.00000\u001b[0m         \u001b[1m[\u001b[0m\u001b[1;36m35\u001b[0m\u001b[1m]\u001b[0m\n"
      ]
     },
     "metadata": {},
     "output_type": "display_data"
    },
    {
     "data": {
      "text/html": [
       "<pre style=\"white-space:pre;overflow-x:auto;line-height:normal;font-family:Menlo,'DejaVu Sans Mono',consolas,'Courier New',monospace\"><span style=\"color: #008080; text-decoration-color: #008080; font-weight: bold\">0.00000</span>         <span style=\"font-weight: bold\">[</span><span style=\"color: #008080; text-decoration-color: #008080; font-weight: bold\">36</span><span style=\"font-weight: bold\">]</span>\n",
       "</pre>\n"
      ],
      "text/plain": [
       "\u001b[1;36m0.00000\u001b[0m         \u001b[1m[\u001b[0m\u001b[1;36m36\u001b[0m\u001b[1m]\u001b[0m\n"
      ]
     },
     "metadata": {},
     "output_type": "display_data"
    },
    {
     "data": {
      "text/html": [
       "<pre style=\"white-space:pre;overflow-x:auto;line-height:normal;font-family:Menlo,'DejaVu Sans Mono',consolas,'Courier New',monospace\"><span style=\"color: #008080; text-decoration-color: #008080; font-weight: bold\">0.00000</span>         <span style=\"font-weight: bold\">[</span><span style=\"color: #008080; text-decoration-color: #008080; font-weight: bold\">37</span><span style=\"font-weight: bold\">]</span>\n",
       "</pre>\n"
      ],
      "text/plain": [
       "\u001b[1;36m0.00000\u001b[0m         \u001b[1m[\u001b[0m\u001b[1;36m37\u001b[0m\u001b[1m]\u001b[0m\n"
      ]
     },
     "metadata": {},
     "output_type": "display_data"
    },
    {
     "data": {
      "text/html": [
       "<pre style=\"white-space:pre;overflow-x:auto;line-height:normal;font-family:Menlo,'DejaVu Sans Mono',consolas,'Courier New',monospace\"><span style=\"color: #008080; text-decoration-color: #008080; font-weight: bold\">0.00000</span>         <span style=\"font-weight: bold\">[</span><span style=\"color: #008080; text-decoration-color: #008080; font-weight: bold\">38</span><span style=\"font-weight: bold\">]</span>\n",
       "</pre>\n"
      ],
      "text/plain": [
       "\u001b[1;36m0.00000\u001b[0m         \u001b[1m[\u001b[0m\u001b[1;36m38\u001b[0m\u001b[1m]\u001b[0m\n"
      ]
     },
     "metadata": {},
     "output_type": "display_data"
    },
    {
     "data": {
      "text/html": [
       "<pre style=\"white-space:pre;overflow-x:auto;line-height:normal;font-family:Menlo,'DejaVu Sans Mono',consolas,'Courier New',monospace\"><span style=\"color: #008080; text-decoration-color: #008080; font-weight: bold\">0.00000</span>         <span style=\"font-weight: bold\">[</span><span style=\"color: #008080; text-decoration-color: #008080; font-weight: bold\">39</span><span style=\"font-weight: bold\">]</span>\n",
       "</pre>\n"
      ],
      "text/plain": [
       "\u001b[1;36m0.00000\u001b[0m         \u001b[1m[\u001b[0m\u001b[1;36m39\u001b[0m\u001b[1m]\u001b[0m\n"
      ]
     },
     "metadata": {},
     "output_type": "display_data"
    },
    {
     "data": {
      "text/html": [
       "<pre style=\"white-space:pre;overflow-x:auto;line-height:normal;font-family:Menlo,'DejaVu Sans Mono',consolas,'Courier New',monospace\"><span style=\"color: #008080; text-decoration-color: #008080; font-weight: bold\">0.00000</span>         <span style=\"font-weight: bold\">[</span><span style=\"color: #008080; text-decoration-color: #008080; font-weight: bold\">40</span><span style=\"font-weight: bold\">]</span>\n",
       "</pre>\n"
      ],
      "text/plain": [
       "\u001b[1;36m0.00000\u001b[0m         \u001b[1m[\u001b[0m\u001b[1;36m40\u001b[0m\u001b[1m]\u001b[0m\n"
      ]
     },
     "metadata": {},
     "output_type": "display_data"
    },
    {
     "data": {
      "text/html": [
       "<pre style=\"white-space:pre;overflow-x:auto;line-height:normal;font-family:Menlo,'DejaVu Sans Mono',consolas,'Courier New',monospace\"><span style=\"color: #008080; text-decoration-color: #008080; font-weight: bold\">0.00000</span>         <span style=\"font-weight: bold\">[</span><span style=\"color: #008080; text-decoration-color: #008080; font-weight: bold\">41</span><span style=\"font-weight: bold\">]</span>\n",
       "</pre>\n"
      ],
      "text/plain": [
       "\u001b[1;36m0.00000\u001b[0m         \u001b[1m[\u001b[0m\u001b[1;36m41\u001b[0m\u001b[1m]\u001b[0m\n"
      ]
     },
     "metadata": {},
     "output_type": "display_data"
    },
    {
     "data": {
      "text/html": [
       "<pre style=\"white-space:pre;overflow-x:auto;line-height:normal;font-family:Menlo,'DejaVu Sans Mono',consolas,'Courier New',monospace\"><span style=\"color: #008080; text-decoration-color: #008080; font-weight: bold\">0.00000</span>         <span style=\"font-weight: bold\">[</span><span style=\"color: #008080; text-decoration-color: #008080; font-weight: bold\">42</span><span style=\"font-weight: bold\">]</span>\n",
       "</pre>\n"
      ],
      "text/plain": [
       "\u001b[1;36m0.00000\u001b[0m         \u001b[1m[\u001b[0m\u001b[1;36m42\u001b[0m\u001b[1m]\u001b[0m\n"
      ]
     },
     "metadata": {},
     "output_type": "display_data"
    },
    {
     "data": {
      "text/html": [
       "<pre style=\"white-space:pre;overflow-x:auto;line-height:normal;font-family:Menlo,'DejaVu Sans Mono',consolas,'Courier New',monospace\"><span style=\"color: #008080; text-decoration-color: #008080; font-weight: bold\">0.00000</span>         <span style=\"font-weight: bold\">[</span><span style=\"color: #008080; text-decoration-color: #008080; font-weight: bold\">43</span><span style=\"font-weight: bold\">]</span>\n",
       "</pre>\n"
      ],
      "text/plain": [
       "\u001b[1;36m0.00000\u001b[0m         \u001b[1m[\u001b[0m\u001b[1;36m43\u001b[0m\u001b[1m]\u001b[0m\n"
      ]
     },
     "metadata": {},
     "output_type": "display_data"
    },
    {
     "data": {
      "text/html": [
       "<pre style=\"white-space:pre;overflow-x:auto;line-height:normal;font-family:Menlo,'DejaVu Sans Mono',consolas,'Courier New',monospace\"><span style=\"color: #008080; text-decoration-color: #008080; font-weight: bold\">0.00000</span>         <span style=\"font-weight: bold\">[</span><span style=\"color: #008080; text-decoration-color: #008080; font-weight: bold\">44</span><span style=\"font-weight: bold\">]</span>\n",
       "</pre>\n"
      ],
      "text/plain": [
       "\u001b[1;36m0.00000\u001b[0m         \u001b[1m[\u001b[0m\u001b[1;36m44\u001b[0m\u001b[1m]\u001b[0m\n"
      ]
     },
     "metadata": {},
     "output_type": "display_data"
    },
    {
     "data": {
      "text/html": [
       "<pre style=\"white-space:pre;overflow-x:auto;line-height:normal;font-family:Menlo,'DejaVu Sans Mono',consolas,'Courier New',monospace\"><span style=\"color: #008080; text-decoration-color: #008080; font-weight: bold\">0.00000</span>         <span style=\"font-weight: bold\">[</span><span style=\"color: #008080; text-decoration-color: #008080; font-weight: bold\">45</span><span style=\"font-weight: bold\">]</span>\n",
       "</pre>\n"
      ],
      "text/plain": [
       "\u001b[1;36m0.00000\u001b[0m         \u001b[1m[\u001b[0m\u001b[1;36m45\u001b[0m\u001b[1m]\u001b[0m\n"
      ]
     },
     "metadata": {},
     "output_type": "display_data"
    },
    {
     "data": {
      "text/html": [
       "<pre style=\"white-space:pre;overflow-x:auto;line-height:normal;font-family:Menlo,'DejaVu Sans Mono',consolas,'Courier New',monospace\"><span style=\"color: #008080; text-decoration-color: #008080; font-weight: bold\">0.00000</span>         <span style=\"font-weight: bold\">[</span><span style=\"color: #008080; text-decoration-color: #008080; font-weight: bold\">46</span><span style=\"font-weight: bold\">]</span>\n",
       "</pre>\n"
      ],
      "text/plain": [
       "\u001b[1;36m0.00000\u001b[0m         \u001b[1m[\u001b[0m\u001b[1;36m46\u001b[0m\u001b[1m]\u001b[0m\n"
      ]
     },
     "metadata": {},
     "output_type": "display_data"
    },
    {
     "data": {
      "text/html": [
       "<pre style=\"white-space:pre;overflow-x:auto;line-height:normal;font-family:Menlo,'DejaVu Sans Mono',consolas,'Courier New',monospace\"><span style=\"color: #008080; text-decoration-color: #008080; font-weight: bold\">0.00000</span>         <span style=\"font-weight: bold\">[</span><span style=\"color: #008080; text-decoration-color: #008080; font-weight: bold\">47</span><span style=\"font-weight: bold\">]</span>\n",
       "</pre>\n"
      ],
      "text/plain": [
       "\u001b[1;36m0.00000\u001b[0m         \u001b[1m[\u001b[0m\u001b[1;36m47\u001b[0m\u001b[1m]\u001b[0m\n"
      ]
     },
     "metadata": {},
     "output_type": "display_data"
    },
    {
     "data": {
      "text/html": [
       "<pre style=\"white-space:pre;overflow-x:auto;line-height:normal;font-family:Menlo,'DejaVu Sans Mono',consolas,'Courier New',monospace\"><span style=\"color: #008080; text-decoration-color: #008080; font-weight: bold\">0.00000</span>         <span style=\"font-weight: bold\">[</span><span style=\"color: #008080; text-decoration-color: #008080; font-weight: bold\">48</span><span style=\"font-weight: bold\">]</span>\n",
       "</pre>\n"
      ],
      "text/plain": [
       "\u001b[1;36m0.00000\u001b[0m         \u001b[1m[\u001b[0m\u001b[1;36m48\u001b[0m\u001b[1m]\u001b[0m\n"
      ]
     },
     "metadata": {},
     "output_type": "display_data"
    },
    {
     "data": {
      "text/html": [
       "<pre style=\"white-space:pre;overflow-x:auto;line-height:normal;font-family:Menlo,'DejaVu Sans Mono',consolas,'Courier New',monospace\"><span style=\"color: #008080; text-decoration-color: #008080; font-weight: bold\">0.00000</span>         <span style=\"font-weight: bold\">[</span><span style=\"color: #008080; text-decoration-color: #008080; font-weight: bold\">49</span><span style=\"font-weight: bold\">]</span>\n",
       "</pre>\n"
      ],
      "text/plain": [
       "\u001b[1;36m0.00000\u001b[0m         \u001b[1m[\u001b[0m\u001b[1;36m49\u001b[0m\u001b[1m]\u001b[0m\n"
      ]
     },
     "metadata": {},
     "output_type": "display_data"
    },
    {
     "data": {
      "text/html": [
       "<pre style=\"white-space:pre;overflow-x:auto;line-height:normal;font-family:Menlo,'DejaVu Sans Mono',consolas,'Courier New',monospace\"><span style=\"color: #008080; text-decoration-color: #008080; font-weight: bold\">0.01616</span>         <span style=\"font-weight: bold\">[</span><span style=\"color: #008080; text-decoration-color: #008080; font-weight: bold\">2</span>, <span style=\"color: #008080; text-decoration-color: #008080; font-weight: bold\">32</span><span style=\"font-weight: bold\">]</span>\n",
       "</pre>\n"
      ],
      "text/plain": [
       "\u001b[1;36m0.01616\u001b[0m         \u001b[1m[\u001b[0m\u001b[1;36m2\u001b[0m, \u001b[1;36m32\u001b[0m\u001b[1m]\u001b[0m\n"
      ]
     },
     "metadata": {},
     "output_type": "display_data"
    },
    {
     "data": {
      "text/html": [
       "<pre style=\"white-space:pre;overflow-x:auto;line-height:normal;font-family:Menlo,'DejaVu Sans Mono',consolas,'Courier New',monospace\"><span style=\"color: #008080; text-decoration-color: #008080; font-weight: bold\">0.01637</span>         <span style=\"font-weight: bold\">[</span><span style=\"color: #008080; text-decoration-color: #008080; font-weight: bold\">24</span>, <span style=\"color: #008080; text-decoration-color: #008080; font-weight: bold\">46</span><span style=\"font-weight: bold\">]</span>\n",
       "</pre>\n"
      ],
      "text/plain": [
       "\u001b[1;36m0.01637\u001b[0m         \u001b[1m[\u001b[0m\u001b[1;36m24\u001b[0m, \u001b[1;36m46\u001b[0m\u001b[1m]\u001b[0m\n"
      ]
     },
     "metadata": {},
     "output_type": "display_data"
    },
    {
     "data": {
      "text/html": [
       "<pre style=\"white-space:pre;overflow-x:auto;line-height:normal;font-family:Menlo,'DejaVu Sans Mono',consolas,'Courier New',monospace\"><span style=\"color: #008080; text-decoration-color: #008080; font-weight: bold\">0.01884</span>         <span style=\"font-weight: bold\">[</span><span style=\"color: #008080; text-decoration-color: #008080; font-weight: bold\">6</span>, <span style=\"color: #008080; text-decoration-color: #008080; font-weight: bold\">38</span><span style=\"font-weight: bold\">]</span>\n",
       "</pre>\n"
      ],
      "text/plain": [
       "\u001b[1;36m0.01884\u001b[0m         \u001b[1m[\u001b[0m\u001b[1;36m6\u001b[0m, \u001b[1;36m38\u001b[0m\u001b[1m]\u001b[0m\n"
      ]
     },
     "metadata": {},
     "output_type": "display_data"
    },
    {
     "data": {
      "text/html": [
       "<pre style=\"white-space:pre;overflow-x:auto;line-height:normal;font-family:Menlo,'DejaVu Sans Mono',consolas,'Courier New',monospace\"><span style=\"color: #008080; text-decoration-color: #008080; font-weight: bold\">0.01951</span>         <span style=\"font-weight: bold\">[</span><span style=\"color: #008080; text-decoration-color: #008080; font-weight: bold\">29</span>, <span style=\"color: #008080; text-decoration-color: #008080; font-weight: bold\">49</span><span style=\"font-weight: bold\">]</span>\n",
       "</pre>\n"
      ],
      "text/plain": [
       "\u001b[1;36m0.01951\u001b[0m         \u001b[1m[\u001b[0m\u001b[1;36m29\u001b[0m, \u001b[1;36m49\u001b[0m\u001b[1m]\u001b[0m\n"
      ]
     },
     "metadata": {},
     "output_type": "display_data"
    },
    {
     "data": {
      "text/html": [
       "<pre style=\"white-space:pre;overflow-x:auto;line-height:normal;font-family:Menlo,'DejaVu Sans Mono',consolas,'Courier New',monospace\"><span style=\"color: #008080; text-decoration-color: #008080; font-weight: bold\">0.02119</span>         <span style=\"font-weight: bold\">[</span><span style=\"color: #008080; text-decoration-color: #008080; font-weight: bold\">1</span>, <span style=\"color: #008080; text-decoration-color: #008080; font-weight: bold\">9</span><span style=\"font-weight: bold\">]</span>\n",
       "</pre>\n"
      ],
      "text/plain": [
       "\u001b[1;36m0.02119\u001b[0m         \u001b[1m[\u001b[0m\u001b[1;36m1\u001b[0m, \u001b[1;36m9\u001b[0m\u001b[1m]\u001b[0m\n"
      ]
     },
     "metadata": {},
     "output_type": "display_data"
    },
    {
     "data": {
      "text/html": [
       "<pre style=\"white-space:pre;overflow-x:auto;line-height:normal;font-family:Menlo,'DejaVu Sans Mono',consolas,'Courier New',monospace\"><span style=\"color: #008080; text-decoration-color: #008080; font-weight: bold\">0.02384</span>         <span style=\"font-weight: bold\">[</span><span style=\"color: #008080; text-decoration-color: #008080; font-weight: bold\">5</span>, <span style=\"color: #008080; text-decoration-color: #008080; font-weight: bold\">35</span><span style=\"font-weight: bold\">]</span>\n",
       "</pre>\n"
      ],
      "text/plain": [
       "\u001b[1;36m0.02384\u001b[0m         \u001b[1m[\u001b[0m\u001b[1;36m5\u001b[0m, \u001b[1;36m35\u001b[0m\u001b[1m]\u001b[0m\n"
      ]
     },
     "metadata": {},
     "output_type": "display_data"
    },
    {
     "data": {
      "text/html": [
       "<pre style=\"white-space:pre;overflow-x:auto;line-height:normal;font-family:Menlo,'DejaVu Sans Mono',consolas,'Courier New',monospace\"><span style=\"color: #008080; text-decoration-color: #008080; font-weight: bold\">0.02483</span>         <span style=\"font-weight: bold\">[</span><span style=\"color: #008080; text-decoration-color: #008080; font-weight: bold\">12</span>, <span style=\"color: #008080; text-decoration-color: #008080; font-weight: bold\">32</span><span style=\"font-weight: bold\">]</span>\n",
       "</pre>\n"
      ],
      "text/plain": [
       "\u001b[1;36m0.02483\u001b[0m         \u001b[1m[\u001b[0m\u001b[1;36m12\u001b[0m, \u001b[1;36m32\u001b[0m\u001b[1m]\u001b[0m\n"
      ]
     },
     "metadata": {},
     "output_type": "display_data"
    },
    {
     "data": {
      "text/html": [
       "<pre style=\"white-space:pre;overflow-x:auto;line-height:normal;font-family:Menlo,'DejaVu Sans Mono',consolas,'Courier New',monospace\"><span style=\"color: #008080; text-decoration-color: #008080; font-weight: bold\">0.02589</span>         <span style=\"font-weight: bold\">[</span><span style=\"color: #008080; text-decoration-color: #008080; font-weight: bold\">2</span>, <span style=\"color: #008080; text-decoration-color: #008080; font-weight: bold\">6</span><span style=\"font-weight: bold\">]</span>\n",
       "</pre>\n"
      ],
      "text/plain": [
       "\u001b[1;36m0.02589\u001b[0m         \u001b[1m[\u001b[0m\u001b[1;36m2\u001b[0m, \u001b[1;36m6\u001b[0m\u001b[1m]\u001b[0m\n"
      ]
     },
     "metadata": {},
     "output_type": "display_data"
    },
    {
     "data": {
      "text/html": [
       "<pre style=\"white-space:pre;overflow-x:auto;line-height:normal;font-family:Menlo,'DejaVu Sans Mono',consolas,'Courier New',monospace\"><span style=\"color: #008080; text-decoration-color: #008080; font-weight: bold\">0.02593</span>         <span style=\"font-weight: bold\">[</span><span style=\"color: #008080; text-decoration-color: #008080; font-weight: bold\">1</span>, <span style=\"color: #008080; text-decoration-color: #008080; font-weight: bold\">47</span><span style=\"font-weight: bold\">]</span>\n",
       "</pre>\n"
      ],
      "text/plain": [
       "\u001b[1;36m0.02593\u001b[0m         \u001b[1m[\u001b[0m\u001b[1;36m1\u001b[0m, \u001b[1;36m47\u001b[0m\u001b[1m]\u001b[0m\n"
      ]
     },
     "metadata": {},
     "output_type": "display_data"
    },
    {
     "data": {
      "text/html": [
       "<pre style=\"white-space:pre;overflow-x:auto;line-height:normal;font-family:Menlo,'DejaVu Sans Mono',consolas,'Courier New',monospace\"><span style=\"color: #008080; text-decoration-color: #008080; font-weight: bold\">0.02828</span>         <span style=\"font-weight: bold\">[</span><span style=\"color: #008080; text-decoration-color: #008080; font-weight: bold\">6</span>, <span style=\"color: #008080; text-decoration-color: #008080; font-weight: bold\">27</span><span style=\"font-weight: bold\">]</span>\n",
       "</pre>\n"
      ],
      "text/plain": [
       "\u001b[1;36m0.02828\u001b[0m         \u001b[1m[\u001b[0m\u001b[1;36m6\u001b[0m, \u001b[1;36m27\u001b[0m\u001b[1m]\u001b[0m\n"
      ]
     },
     "metadata": {},
     "output_type": "display_data"
    },
    {
     "data": {
      "text/html": [
       "<pre style=\"white-space:pre;overflow-x:auto;line-height:normal;font-family:Menlo,'DejaVu Sans Mono',consolas,'Courier New',monospace\"><span style=\"color: #008080; text-decoration-color: #008080; font-weight: bold\">0.02841</span>         <span style=\"font-weight: bold\">[</span><span style=\"color: #008080; text-decoration-color: #008080; font-weight: bold\">18</span>, <span style=\"color: #008080; text-decoration-color: #008080; font-weight: bold\">28</span><span style=\"font-weight: bold\">]</span>\n",
       "</pre>\n"
      ],
      "text/plain": [
       "\u001b[1;36m0.02841\u001b[0m         \u001b[1m[\u001b[0m\u001b[1;36m18\u001b[0m, \u001b[1;36m28\u001b[0m\u001b[1m]\u001b[0m\n"
      ]
     },
     "metadata": {},
     "output_type": "display_data"
    },
    {
     "data": {
      "text/html": [
       "<pre style=\"white-space:pre;overflow-x:auto;line-height:normal;font-family:Menlo,'DejaVu Sans Mono',consolas,'Courier New',monospace\"><span style=\"color: #008080; text-decoration-color: #008080; font-weight: bold\">0.02918</span>         <span style=\"font-weight: bold\">[</span><span style=\"color: #008080; text-decoration-color: #008080; font-weight: bold\">20</span>, <span style=\"color: #008080; text-decoration-color: #008080; font-weight: bold\">27</span><span style=\"font-weight: bold\">]</span>\n",
       "</pre>\n"
      ],
      "text/plain": [
       "\u001b[1;36m0.02918\u001b[0m         \u001b[1m[\u001b[0m\u001b[1;36m20\u001b[0m, \u001b[1;36m27\u001b[0m\u001b[1m]\u001b[0m\n"
      ]
     },
     "metadata": {},
     "output_type": "display_data"
    },
    {
     "data": {
      "text/html": [
       "<pre style=\"white-space:pre;overflow-x:auto;line-height:normal;font-family:Menlo,'DejaVu Sans Mono',consolas,'Courier New',monospace\"><span style=\"color: #008080; text-decoration-color: #008080; font-weight: bold\">0.02944</span>         <span style=\"font-weight: bold\">[</span><span style=\"color: #008080; text-decoration-color: #008080; font-weight: bold\">2</span>, <span style=\"color: #008080; text-decoration-color: #008080; font-weight: bold\">38</span><span style=\"font-weight: bold\">]</span>\n",
       "</pre>\n"
      ],
      "text/plain": [
       "\u001b[1;36m0.02944\u001b[0m         \u001b[1m[\u001b[0m\u001b[1;36m2\u001b[0m, \u001b[1;36m38\u001b[0m\u001b[1m]\u001b[0m\n"
      ]
     },
     "metadata": {},
     "output_type": "display_data"
    },
    {
     "data": {
      "text/html": [
       "<pre style=\"white-space:pre;overflow-x:auto;line-height:normal;font-family:Menlo,'DejaVu Sans Mono',consolas,'Courier New',monospace\"><span style=\"color: #008080; text-decoration-color: #008080; font-weight: bold\">0.02976</span>         <span style=\"font-weight: bold\">[</span><span style=\"color: #008080; text-decoration-color: #008080; font-weight: bold\">17</span>, <span style=\"color: #008080; text-decoration-color: #008080; font-weight: bold\">42</span><span style=\"font-weight: bold\">]</span>\n",
       "</pre>\n"
      ],
      "text/plain": [
       "\u001b[1;36m0.02976\u001b[0m         \u001b[1m[\u001b[0m\u001b[1;36m17\u001b[0m, \u001b[1;36m42\u001b[0m\u001b[1m]\u001b[0m\n"
      ]
     },
     "metadata": {},
     "output_type": "display_data"
    },
    {
     "data": {
      "text/html": [
       "<pre style=\"white-space:pre;overflow-x:auto;line-height:normal;font-family:Menlo,'DejaVu Sans Mono',consolas,'Courier New',monospace\"><span style=\"color: #008080; text-decoration-color: #008080; font-weight: bold\">0.02983</span>         <span style=\"font-weight: bold\">[</span><span style=\"color: #008080; text-decoration-color: #008080; font-weight: bold\">2</span>, <span style=\"color: #008080; text-decoration-color: #008080; font-weight: bold\">6</span>, <span style=\"color: #008080; text-decoration-color: #008080; font-weight: bold\">38</span><span style=\"font-weight: bold\">]</span>\n",
       "</pre>\n"
      ],
      "text/plain": [
       "\u001b[1;36m0.02983\u001b[0m         \u001b[1m[\u001b[0m\u001b[1;36m2\u001b[0m, \u001b[1;36m6\u001b[0m, \u001b[1;36m38\u001b[0m\u001b[1m]\u001b[0m\n"
      ]
     },
     "metadata": {},
     "output_type": "display_data"
    },
    {
     "data": {
      "text/html": [
       "<pre style=\"white-space:pre;overflow-x:auto;line-height:normal;font-family:Menlo,'DejaVu Sans Mono',consolas,'Courier New',monospace\"><span style=\"color: #008080; text-decoration-color: #008080; font-weight: bold\">0.03148</span>         <span style=\"font-weight: bold\">[</span><span style=\"color: #008080; text-decoration-color: #008080; font-weight: bold\">3</span>, <span style=\"color: #008080; text-decoration-color: #008080; font-weight: bold\">31</span><span style=\"font-weight: bold\">]</span>\n",
       "</pre>\n"
      ],
      "text/plain": [
       "\u001b[1;36m0.03148\u001b[0m         \u001b[1m[\u001b[0m\u001b[1;36m3\u001b[0m, \u001b[1;36m31\u001b[0m\u001b[1m]\u001b[0m\n"
      ]
     },
     "metadata": {},
     "output_type": "display_data"
    },
    {
     "data": {
      "text/html": [
       "<pre style=\"white-space:pre;overflow-x:auto;line-height:normal;font-family:Menlo,'DejaVu Sans Mono',consolas,'Courier New',monospace\"><span style=\"color: #008080; text-decoration-color: #008080; font-weight: bold\">0.03245</span>         <span style=\"font-weight: bold\">[</span><span style=\"color: #008080; text-decoration-color: #008080; font-weight: bold\">6</span>, <span style=\"color: #008080; text-decoration-color: #008080; font-weight: bold\">20</span><span style=\"font-weight: bold\">]</span>\n",
       "</pre>\n"
      ],
      "text/plain": [
       "\u001b[1;36m0.03245\u001b[0m         \u001b[1m[\u001b[0m\u001b[1;36m6\u001b[0m, \u001b[1;36m20\u001b[0m\u001b[1m]\u001b[0m\n"
      ]
     },
     "metadata": {},
     "output_type": "display_data"
    },
    {
     "data": {
      "text/html": [
       "<pre style=\"white-space:pre;overflow-x:auto;line-height:normal;font-family:Menlo,'DejaVu Sans Mono',consolas,'Courier New',monospace\"><span style=\"color: #008080; text-decoration-color: #008080; font-weight: bold\">0.03278</span>         <span style=\"font-weight: bold\">[</span><span style=\"color: #008080; text-decoration-color: #008080; font-weight: bold\">7</span>, <span style=\"color: #008080; text-decoration-color: #008080; font-weight: bold\">40</span><span style=\"font-weight: bold\">]</span>\n",
       "</pre>\n"
      ],
      "text/plain": [
       "\u001b[1;36m0.03278\u001b[0m         \u001b[1m[\u001b[0m\u001b[1;36m7\u001b[0m, \u001b[1;36m40\u001b[0m\u001b[1m]\u001b[0m\n"
      ]
     },
     "metadata": {},
     "output_type": "display_data"
    },
    {
     "data": {
      "text/html": [
       "<pre style=\"white-space:pre;overflow-x:auto;line-height:normal;font-family:Menlo,'DejaVu Sans Mono',consolas,'Courier New',monospace\"><span style=\"color: #008080; text-decoration-color: #008080; font-weight: bold\">0.03330</span>         <span style=\"font-weight: bold\">[</span><span style=\"color: #008080; text-decoration-color: #008080; font-weight: bold\">4</span>, <span style=\"color: #008080; text-decoration-color: #008080; font-weight: bold\">28</span><span style=\"font-weight: bold\">]</span>\n",
       "</pre>\n"
      ],
      "text/plain": [
       "\u001b[1;36m0.03330\u001b[0m         \u001b[1m[\u001b[0m\u001b[1;36m4\u001b[0m, \u001b[1;36m28\u001b[0m\u001b[1m]\u001b[0m\n"
      ]
     },
     "metadata": {},
     "output_type": "display_data"
    },
    {
     "data": {
      "text/html": [
       "<pre style=\"white-space:pre;overflow-x:auto;line-height:normal;font-family:Menlo,'DejaVu Sans Mono',consolas,'Courier New',monospace\"><span style=\"color: #008080; text-decoration-color: #008080; font-weight: bold\">0.03482</span>         <span style=\"font-weight: bold\">[</span><span style=\"color: #008080; text-decoration-color: #008080; font-weight: bold\">6</span>, <span style=\"color: #008080; text-decoration-color: #008080; font-weight: bold\">20</span>, <span style=\"color: #008080; text-decoration-color: #008080; font-weight: bold\">27</span><span style=\"font-weight: bold\">]</span>\n",
       "</pre>\n"
      ],
      "text/plain": [
       "\u001b[1;36m0.03482\u001b[0m         \u001b[1m[\u001b[0m\u001b[1;36m6\u001b[0m, \u001b[1;36m20\u001b[0m, \u001b[1;36m27\u001b[0m\u001b[1m]\u001b[0m\n"
      ]
     },
     "metadata": {},
     "output_type": "display_data"
    },
    {
     "data": {
      "text/html": [
       "<pre style=\"white-space:pre;overflow-x:auto;line-height:normal;font-family:Menlo,'DejaVu Sans Mono',consolas,'Courier New',monospace\"><span style=\"color: #008080; text-decoration-color: #008080; font-weight: bold\">0.03594</span>         <span style=\"font-weight: bold\">[</span><span style=\"color: #008080; text-decoration-color: #008080; font-weight: bold\">39</span>, <span style=\"color: #008080; text-decoration-color: #008080; font-weight: bold\">47</span><span style=\"font-weight: bold\">]</span>\n",
       "</pre>\n"
      ],
      "text/plain": [
       "\u001b[1;36m0.03594\u001b[0m         \u001b[1m[\u001b[0m\u001b[1;36m39\u001b[0m, \u001b[1;36m47\u001b[0m\u001b[1m]\u001b[0m\n"
      ]
     },
     "metadata": {},
     "output_type": "display_data"
    },
    {
     "data": {
      "text/html": [
       "<pre style=\"white-space:pre;overflow-x:auto;line-height:normal;font-family:Menlo,'DejaVu Sans Mono',consolas,'Courier New',monospace\"><span style=\"color: #008080; text-decoration-color: #008080; font-weight: bold\">0.03797</span>         <span style=\"font-weight: bold\">[</span><span style=\"color: #008080; text-decoration-color: #008080; font-weight: bold\">9</span>, <span style=\"color: #008080; text-decoration-color: #008080; font-weight: bold\">47</span><span style=\"font-weight: bold\">]</span>\n",
       "</pre>\n"
      ],
      "text/plain": [
       "\u001b[1;36m0.03797\u001b[0m         \u001b[1m[\u001b[0m\u001b[1;36m9\u001b[0m, \u001b[1;36m47\u001b[0m\u001b[1m]\u001b[0m\n"
      ]
     },
     "metadata": {},
     "output_type": "display_data"
    },
    {
     "data": {
      "text/html": [
       "<pre style=\"white-space:pre;overflow-x:auto;line-height:normal;font-family:Menlo,'DejaVu Sans Mono',consolas,'Courier New',monospace\"><span style=\"color: #008080; text-decoration-color: #008080; font-weight: bold\">0.03797</span>         <span style=\"font-weight: bold\">[</span><span style=\"color: #008080; text-decoration-color: #008080; font-weight: bold\">1</span>, <span style=\"color: #008080; text-decoration-color: #008080; font-weight: bold\">9</span>, <span style=\"color: #008080; text-decoration-color: #008080; font-weight: bold\">47</span><span style=\"font-weight: bold\">]</span>\n",
       "</pre>\n"
      ],
      "text/plain": [
       "\u001b[1;36m0.03797\u001b[0m         \u001b[1m[\u001b[0m\u001b[1;36m1\u001b[0m, \u001b[1;36m9\u001b[0m, \u001b[1;36m47\u001b[0m\u001b[1m]\u001b[0m\n"
      ]
     },
     "metadata": {},
     "output_type": "display_data"
    },
    {
     "data": {
      "text/html": [
       "<pre style=\"white-space:pre;overflow-x:auto;line-height:normal;font-family:Menlo,'DejaVu Sans Mono',consolas,'Courier New',monospace\"><span style=\"color: #008080; text-decoration-color: #008080; font-weight: bold\">0.03856</span>         <span style=\"font-weight: bold\">[</span><span style=\"color: #008080; text-decoration-color: #008080; font-weight: bold\">31</span>, <span style=\"color: #008080; text-decoration-color: #008080; font-weight: bold\">48</span><span style=\"font-weight: bold\">]</span>\n",
       "</pre>\n"
      ],
      "text/plain": [
       "\u001b[1;36m0.03856\u001b[0m         \u001b[1m[\u001b[0m\u001b[1;36m31\u001b[0m, \u001b[1;36m48\u001b[0m\u001b[1m]\u001b[0m\n"
      ]
     },
     "metadata": {},
     "output_type": "display_data"
    },
    {
     "data": {
      "text/html": [
       "<pre style=\"white-space:pre;overflow-x:auto;line-height:normal;font-family:Menlo,'DejaVu Sans Mono',consolas,'Courier New',monospace\"><span style=\"color: #008080; text-decoration-color: #008080; font-weight: bold\">0.03978</span>         <span style=\"font-weight: bold\">[</span><span style=\"color: #008080; text-decoration-color: #008080; font-weight: bold\">32</span>, <span style=\"color: #008080; text-decoration-color: #008080; font-weight: bold\">38</span><span style=\"font-weight: bold\">]</span>\n",
       "</pre>\n"
      ],
      "text/plain": [
       "\u001b[1;36m0.03978\u001b[0m         \u001b[1m[\u001b[0m\u001b[1;36m32\u001b[0m, \u001b[1;36m38\u001b[0m\u001b[1m]\u001b[0m\n"
      ]
     },
     "metadata": {},
     "output_type": "display_data"
    },
    {
     "data": {
      "text/html": [
       "<pre style=\"white-space:pre;overflow-x:auto;line-height:normal;font-family:Menlo,'DejaVu Sans Mono',consolas,'Courier New',monospace\"><span style=\"color: #008080; text-decoration-color: #008080; font-weight: bold\">0.03978</span>         <span style=\"font-weight: bold\">[</span><span style=\"color: #008080; text-decoration-color: #008080; font-weight: bold\">2</span>, <span style=\"color: #008080; text-decoration-color: #008080; font-weight: bold\">32</span>, <span style=\"color: #008080; text-decoration-color: #008080; font-weight: bold\">38</span><span style=\"font-weight: bold\">]</span>\n",
       "</pre>\n"
      ],
      "text/plain": [
       "\u001b[1;36m0.03978\u001b[0m         \u001b[1m[\u001b[0m\u001b[1;36m2\u001b[0m, \u001b[1;36m32\u001b[0m, \u001b[1;36m38\u001b[0m\u001b[1m]\u001b[0m\n"
      ]
     },
     "metadata": {},
     "output_type": "display_data"
    },
    {
     "data": {
      "text/html": [
       "<pre style=\"white-space:pre;overflow-x:auto;line-height:normal;font-family:Menlo,'DejaVu Sans Mono',consolas,'Courier New',monospace\"><span style=\"color: #008080; text-decoration-color: #008080; font-weight: bold\">0.04229</span>         <span style=\"font-weight: bold\">[</span><span style=\"color: #008080; text-decoration-color: #008080; font-weight: bold\">23</span>, <span style=\"color: #008080; text-decoration-color: #008080; font-weight: bold\">25</span><span style=\"font-weight: bold\">]</span>\n",
       "</pre>\n"
      ],
      "text/plain": [
       "\u001b[1;36m0.04229\u001b[0m         \u001b[1m[\u001b[0m\u001b[1;36m23\u001b[0m, \u001b[1;36m25\u001b[0m\u001b[1m]\u001b[0m\n"
      ]
     },
     "metadata": {},
     "output_type": "display_data"
    },
    {
     "data": {
      "text/html": [
       "<pre style=\"white-space:pre;overflow-x:auto;line-height:normal;font-family:Menlo,'DejaVu Sans Mono',consolas,'Courier New',monospace\"><span style=\"color: #008080; text-decoration-color: #008080; font-weight: bold\">0.04350</span>         <span style=\"font-weight: bold\">[</span><span style=\"color: #008080; text-decoration-color: #008080; font-weight: bold\">20</span>, <span style=\"color: #008080; text-decoration-color: #008080; font-weight: bold\">38</span><span style=\"font-weight: bold\">]</span>\n",
       "</pre>\n"
      ],
      "text/plain": [
       "\u001b[1;36m0.04350\u001b[0m         \u001b[1m[\u001b[0m\u001b[1;36m20\u001b[0m, \u001b[1;36m38\u001b[0m\u001b[1m]\u001b[0m\n"
      ]
     },
     "metadata": {},
     "output_type": "display_data"
    },
    {
     "data": {
      "text/html": [
       "<pre style=\"white-space:pre;overflow-x:auto;line-height:normal;font-family:Menlo,'DejaVu Sans Mono',consolas,'Courier New',monospace\"><span style=\"color: #008080; text-decoration-color: #008080; font-weight: bold\">0.04350</span>         <span style=\"font-weight: bold\">[</span><span style=\"color: #008080; text-decoration-color: #008080; font-weight: bold\">6</span>, <span style=\"color: #008080; text-decoration-color: #008080; font-weight: bold\">20</span>, <span style=\"color: #008080; text-decoration-color: #008080; font-weight: bold\">38</span><span style=\"font-weight: bold\">]</span>\n",
       "</pre>\n"
      ],
      "text/plain": [
       "\u001b[1;36m0.04350\u001b[0m         \u001b[1m[\u001b[0m\u001b[1;36m6\u001b[0m, \u001b[1;36m20\u001b[0m, \u001b[1;36m38\u001b[0m\u001b[1m]\u001b[0m\n"
      ]
     },
     "metadata": {},
     "output_type": "display_data"
    },
    {
     "data": {
      "text/html": [
       "<pre style=\"white-space:pre;overflow-x:auto;line-height:normal;font-family:Menlo,'DejaVu Sans Mono',consolas,'Courier New',monospace\"><span style=\"color: #008080; text-decoration-color: #008080; font-weight: bold\">0.04385</span>         <span style=\"font-weight: bold\">[</span><span style=\"color: #008080; text-decoration-color: #008080; font-weight: bold\">13</span>, <span style=\"color: #008080; text-decoration-color: #008080; font-weight: bold\">44</span><span style=\"font-weight: bold\">]</span>\n",
       "</pre>\n"
      ],
      "text/plain": [
       "\u001b[1;36m0.04385\u001b[0m         \u001b[1m[\u001b[0m\u001b[1;36m13\u001b[0m, \u001b[1;36m44\u001b[0m\u001b[1m]\u001b[0m\n"
      ]
     },
     "metadata": {},
     "output_type": "display_data"
    },
    {
     "data": {
      "text/html": [
       "<pre style=\"white-space:pre;overflow-x:auto;line-height:normal;font-family:Menlo,'DejaVu Sans Mono',consolas,'Courier New',monospace\"><span style=\"color: #008080; text-decoration-color: #008080; font-weight: bold\">0.04553</span>         <span style=\"font-weight: bold\">[</span><span style=\"color: #008080; text-decoration-color: #008080; font-weight: bold\">15</span>, <span style=\"color: #008080; text-decoration-color: #008080; font-weight: bold\">37</span><span style=\"font-weight: bold\">]</span>\n",
       "</pre>\n"
      ],
      "text/plain": [
       "\u001b[1;36m0.04553\u001b[0m         \u001b[1m[\u001b[0m\u001b[1;36m15\u001b[0m, \u001b[1;36m37\u001b[0m\u001b[1m]\u001b[0m\n"
      ]
     },
     "metadata": {},
     "output_type": "display_data"
    },
    {
     "data": {
      "text/html": [
       "<pre style=\"white-space:pre;overflow-x:auto;line-height:normal;font-family:Menlo,'DejaVu Sans Mono',consolas,'Courier New',monospace\"><span style=\"color: #008080; text-decoration-color: #008080; font-weight: bold\">0.04574</span>         <span style=\"font-weight: bold\">[</span><span style=\"color: #008080; text-decoration-color: #008080; font-weight: bold\">22</span>, <span style=\"color: #008080; text-decoration-color: #008080; font-weight: bold\">45</span><span style=\"font-weight: bold\">]</span>\n",
       "</pre>\n"
      ],
      "text/plain": [
       "\u001b[1;36m0.04574\u001b[0m         \u001b[1m[\u001b[0m\u001b[1;36m22\u001b[0m, \u001b[1;36m45\u001b[0m\u001b[1m]\u001b[0m\n"
      ]
     },
     "metadata": {},
     "output_type": "display_data"
    },
    {
     "data": {
      "text/html": [
       "<pre style=\"white-space:pre;overflow-x:auto;line-height:normal;font-family:Menlo,'DejaVu Sans Mono',consolas,'Courier New',monospace\"><span style=\"color: #008080; text-decoration-color: #008080; font-weight: bold\">0.04649</span>         <span style=\"font-weight: bold\">[</span><span style=\"color: #008080; text-decoration-color: #008080; font-weight: bold\">16</span>, <span style=\"color: #008080; text-decoration-color: #008080; font-weight: bold\">31</span><span style=\"font-weight: bold\">]</span>\n",
       "</pre>\n"
      ],
      "text/plain": [
       "\u001b[1;36m0.04649\u001b[0m         \u001b[1m[\u001b[0m\u001b[1;36m16\u001b[0m, \u001b[1;36m31\u001b[0m\u001b[1m]\u001b[0m\n"
      ]
     },
     "metadata": {},
     "output_type": "display_data"
    },
    {
     "data": {
      "text/html": [
       "<pre style=\"white-space:pre;overflow-x:auto;line-height:normal;font-family:Menlo,'DejaVu Sans Mono',consolas,'Courier New',monospace\"><span style=\"color: #008080; text-decoration-color: #008080; font-weight: bold\">0.04769</span>         <span style=\"font-weight: bold\">[</span><span style=\"color: #008080; text-decoration-color: #008080; font-weight: bold\">12</span>, <span style=\"color: #008080; text-decoration-color: #008080; font-weight: bold\">38</span><span style=\"font-weight: bold\">]</span>\n",
       "</pre>\n"
      ],
      "text/plain": [
       "\u001b[1;36m0.04769\u001b[0m         \u001b[1m[\u001b[0m\u001b[1;36m12\u001b[0m, \u001b[1;36m38\u001b[0m\u001b[1m]\u001b[0m\n"
      ]
     },
     "metadata": {},
     "output_type": "display_data"
    },
    {
     "data": {
      "text/html": [
       "<pre style=\"white-space:pre;overflow-x:auto;line-height:normal;font-family:Menlo,'DejaVu Sans Mono',consolas,'Courier New',monospace\"><span style=\"color: #008080; text-decoration-color: #008080; font-weight: bold\">0.04769</span>         <span style=\"font-weight: bold\">[</span><span style=\"color: #008080; text-decoration-color: #008080; font-weight: bold\">12</span>, <span style=\"color: #008080; text-decoration-color: #008080; font-weight: bold\">32</span>, <span style=\"color: #008080; text-decoration-color: #008080; font-weight: bold\">38</span><span style=\"font-weight: bold\">]</span>\n",
       "</pre>\n"
      ],
      "text/plain": [
       "\u001b[1;36m0.04769\u001b[0m         \u001b[1m[\u001b[0m\u001b[1;36m12\u001b[0m, \u001b[1;36m32\u001b[0m, \u001b[1;36m38\u001b[0m\u001b[1m]\u001b[0m\n"
      ]
     },
     "metadata": {},
     "output_type": "display_data"
    },
    {
     "data": {
      "text/html": [
       "<pre style=\"white-space:pre;overflow-x:auto;line-height:normal;font-family:Menlo,'DejaVu Sans Mono',consolas,'Courier New',monospace\"><span style=\"color: #008080; text-decoration-color: #008080; font-weight: bold\">0.04874</span>         <span style=\"font-weight: bold\">[</span><span style=\"color: #008080; text-decoration-color: #008080; font-weight: bold\">5</span>, <span style=\"color: #008080; text-decoration-color: #008080; font-weight: bold\">27</span><span style=\"font-weight: bold\">]</span>\n",
       "</pre>\n"
      ],
      "text/plain": [
       "\u001b[1;36m0.04874\u001b[0m         \u001b[1m[\u001b[0m\u001b[1;36m5\u001b[0m, \u001b[1;36m27\u001b[0m\u001b[1m]\u001b[0m\n"
      ]
     },
     "metadata": {},
     "output_type": "display_data"
    },
    {
     "data": {
      "text/html": [
       "<pre style=\"white-space:pre;overflow-x:auto;line-height:normal;font-family:Menlo,'DejaVu Sans Mono',consolas,'Courier New',monospace\"><span style=\"color: #008080; text-decoration-color: #008080; font-weight: bold\">0.05137</span>         <span style=\"font-weight: bold\">[</span><span style=\"color: #008080; text-decoration-color: #008080; font-weight: bold\">2</span>, <span style=\"color: #008080; text-decoration-color: #008080; font-weight: bold\">27</span><span style=\"font-weight: bold\">]</span>\n",
       "</pre>\n"
      ],
      "text/plain": [
       "\u001b[1;36m0.05137\u001b[0m         \u001b[1m[\u001b[0m\u001b[1;36m2\u001b[0m, \u001b[1;36m27\u001b[0m\u001b[1m]\u001b[0m\n"
      ]
     },
     "metadata": {},
     "output_type": "display_data"
    },
    {
     "data": {
      "text/html": [
       "<pre style=\"white-space:pre;overflow-x:auto;line-height:normal;font-family:Menlo,'DejaVu Sans Mono',consolas,'Courier New',monospace\"><span style=\"color: #008080; text-decoration-color: #008080; font-weight: bold\">0.05137</span>         <span style=\"font-weight: bold\">[</span><span style=\"color: #008080; text-decoration-color: #008080; font-weight: bold\">2</span>, <span style=\"color: #008080; text-decoration-color: #008080; font-weight: bold\">6</span>, <span style=\"color: #008080; text-decoration-color: #008080; font-weight: bold\">27</span><span style=\"font-weight: bold\">]</span>\n",
       "</pre>\n"
      ],
      "text/plain": [
       "\u001b[1;36m0.05137\u001b[0m         \u001b[1m[\u001b[0m\u001b[1;36m2\u001b[0m, \u001b[1;36m6\u001b[0m, \u001b[1;36m27\u001b[0m\u001b[1m]\u001b[0m\n"
      ]
     },
     "metadata": {},
     "output_type": "display_data"
    },
    {
     "data": {
      "text/html": [
       "<pre style=\"white-space:pre;overflow-x:auto;line-height:normal;font-family:Menlo,'DejaVu Sans Mono',consolas,'Courier New',monospace\"><span style=\"color: #008080; text-decoration-color: #008080; font-weight: bold\">0.05186</span>         <span style=\"font-weight: bold\">[</span><span style=\"color: #008080; text-decoration-color: #008080; font-weight: bold\">5</span>, <span style=\"color: #008080; text-decoration-color: #008080; font-weight: bold\">20</span><span style=\"font-weight: bold\">]</span>\n",
       "</pre>\n"
      ],
      "text/plain": [
       "\u001b[1;36m0.05186\u001b[0m         \u001b[1m[\u001b[0m\u001b[1;36m5\u001b[0m, \u001b[1;36m20\u001b[0m\u001b[1m]\u001b[0m\n"
      ]
     },
     "metadata": {},
     "output_type": "display_data"
    },
    {
     "data": {
      "text/html": [
       "<pre style=\"white-space:pre;overflow-x:auto;line-height:normal;font-family:Menlo,'DejaVu Sans Mono',consolas,'Courier New',monospace\"><span style=\"color: #008080; text-decoration-color: #008080; font-weight: bold\">0.05269</span>         <span style=\"font-weight: bold\">[</span><span style=\"color: #008080; text-decoration-color: #008080; font-weight: bold\">3</span>, <span style=\"color: #008080; text-decoration-color: #008080; font-weight: bold\">33</span><span style=\"font-weight: bold\">]</span>\n",
       "</pre>\n"
      ],
      "text/plain": [
       "\u001b[1;36m0.05269\u001b[0m         \u001b[1m[\u001b[0m\u001b[1;36m3\u001b[0m, \u001b[1;36m33\u001b[0m\u001b[1m]\u001b[0m\n"
      ]
     },
     "metadata": {},
     "output_type": "display_data"
    },
    {
     "data": {
      "text/html": [
       "<pre style=\"white-space:pre;overflow-x:auto;line-height:normal;font-family:Menlo,'DejaVu Sans Mono',consolas,'Courier New',monospace\"><span style=\"color: #008080; text-decoration-color: #008080; font-weight: bold\">0.05277</span>         <span style=\"font-weight: bold\">[</span><span style=\"color: #008080; text-decoration-color: #008080; font-weight: bold\">28</span>, <span style=\"color: #008080; text-decoration-color: #008080; font-weight: bold\">44</span><span style=\"font-weight: bold\">]</span>\n",
       "</pre>\n"
      ],
      "text/plain": [
       "\u001b[1;36m0.05277\u001b[0m         \u001b[1m[\u001b[0m\u001b[1;36m28\u001b[0m, \u001b[1;36m44\u001b[0m\u001b[1m]\u001b[0m\n"
      ]
     },
     "metadata": {},
     "output_type": "display_data"
    },
    {
     "data": {
      "text/html": [
       "<pre style=\"white-space:pre;overflow-x:auto;line-height:normal;font-family:Menlo,'DejaVu Sans Mono',consolas,'Courier New',monospace\"><span style=\"color: #008080; text-decoration-color: #008080; font-weight: bold\">0.05281</span>         <span style=\"font-weight: bold\">[</span><span style=\"color: #008080; text-decoration-color: #008080; font-weight: bold\">5</span>, <span style=\"color: #008080; text-decoration-color: #008080; font-weight: bold\">20</span>, <span style=\"color: #008080; text-decoration-color: #008080; font-weight: bold\">27</span><span style=\"font-weight: bold\">]</span>\n",
       "</pre>\n"
      ],
      "text/plain": [
       "\u001b[1;36m0.05281\u001b[0m         \u001b[1m[\u001b[0m\u001b[1;36m5\u001b[0m, \u001b[1;36m20\u001b[0m, \u001b[1;36m27\u001b[0m\u001b[1m]\u001b[0m\n"
      ]
     },
     "metadata": {},
     "output_type": "display_data"
    },
    {
     "data": {
      "text/html": [
       "<pre style=\"white-space:pre;overflow-x:auto;line-height:normal;font-family:Menlo,'DejaVu Sans Mono',consolas,'Courier New',monospace\"><span style=\"color: #008080; text-decoration-color: #008080; font-weight: bold\">0.05424</span>         <span style=\"font-weight: bold\">[</span><span style=\"color: #008080; text-decoration-color: #008080; font-weight: bold\">19</span>, <span style=\"color: #008080; text-decoration-color: #008080; font-weight: bold\">34</span><span style=\"font-weight: bold\">]</span>\n",
       "</pre>\n"
      ],
      "text/plain": [
       "\u001b[1;36m0.05424\u001b[0m         \u001b[1m[\u001b[0m\u001b[1;36m19\u001b[0m, \u001b[1;36m34\u001b[0m\u001b[1m]\u001b[0m\n"
      ]
     },
     "metadata": {},
     "output_type": "display_data"
    },
    {
     "data": {
      "text/html": [
       "<pre style=\"white-space:pre;overflow-x:auto;line-height:normal;font-family:Menlo,'DejaVu Sans Mono',consolas,'Courier New',monospace\"><span style=\"color: #008080; text-decoration-color: #008080; font-weight: bold\">0.05451</span>         <span style=\"font-weight: bold\">[</span><span style=\"color: #008080; text-decoration-color: #008080; font-weight: bold\">36</span>, <span style=\"color: #008080; text-decoration-color: #008080; font-weight: bold\">45</span><span style=\"font-weight: bold\">]</span>\n",
       "</pre>\n"
      ],
      "text/plain": [
       "\u001b[1;36m0.05451\u001b[0m         \u001b[1m[\u001b[0m\u001b[1;36m36\u001b[0m, \u001b[1;36m45\u001b[0m\u001b[1m]\u001b[0m\n"
      ]
     },
     "metadata": {},
     "output_type": "display_data"
    },
    {
     "data": {
      "text/html": [
       "<pre style=\"white-space:pre;overflow-x:auto;line-height:normal;font-family:Menlo,'DejaVu Sans Mono',consolas,'Courier New',monospace\"><span style=\"color: #008080; text-decoration-color: #008080; font-weight: bold\">0.05530</span>         <span style=\"font-weight: bold\">[</span><span style=\"color: #008080; text-decoration-color: #008080; font-weight: bold\">0</span>, <span style=\"color: #008080; text-decoration-color: #008080; font-weight: bold\">17</span><span style=\"font-weight: bold\">]</span>\n",
       "</pre>\n"
      ],
      "text/plain": [
       "\u001b[1;36m0.05530\u001b[0m         \u001b[1m[\u001b[0m\u001b[1;36m0\u001b[0m, \u001b[1;36m17\u001b[0m\u001b[1m]\u001b[0m\n"
      ]
     },
     "metadata": {},
     "output_type": "display_data"
    },
    {
     "data": {
      "text/html": [
       "<pre style=\"white-space:pre;overflow-x:auto;line-height:normal;font-family:Menlo,'DejaVu Sans Mono',consolas,'Courier New',monospace\"><span style=\"color: #008080; text-decoration-color: #008080; font-weight: bold\">0.05694</span>         <span style=\"font-weight: bold\">[</span><span style=\"color: #008080; text-decoration-color: #008080; font-weight: bold\">34</span>, <span style=\"color: #008080; text-decoration-color: #008080; font-weight: bold\">46</span><span style=\"font-weight: bold\">]</span>\n",
       "</pre>\n"
      ],
      "text/plain": [
       "\u001b[1;36m0.05694\u001b[0m         \u001b[1m[\u001b[0m\u001b[1;36m34\u001b[0m, \u001b[1;36m46\u001b[0m\u001b[1m]\u001b[0m\n"
      ]
     },
     "metadata": {},
     "output_type": "display_data"
    },
    {
     "data": {
      "text/html": [
       "<pre style=\"white-space:pre;overflow-x:auto;line-height:normal;font-family:Menlo,'DejaVu Sans Mono',consolas,'Courier New',monospace\"><span style=\"color: #008080; text-decoration-color: #008080; font-weight: bold\">0.05724</span>         <span style=\"font-weight: bold\">[</span><span style=\"color: #008080; text-decoration-color: #008080; font-weight: bold\">19</span>, <span style=\"color: #008080; text-decoration-color: #008080; font-weight: bold\">24</span><span style=\"font-weight: bold\">]</span>\n",
       "</pre>\n"
      ],
      "text/plain": [
       "\u001b[1;36m0.05724\u001b[0m         \u001b[1m[\u001b[0m\u001b[1;36m19\u001b[0m, \u001b[1;36m24\u001b[0m\u001b[1m]\u001b[0m\n"
      ]
     },
     "metadata": {},
     "output_type": "display_data"
    },
    {
     "data": {
      "text/html": [
       "<pre style=\"white-space:pre;overflow-x:auto;line-height:normal;font-family:Menlo,'DejaVu Sans Mono',consolas,'Courier New',monospace\"><span style=\"color: #008080; text-decoration-color: #008080; font-weight: bold\">0.05728</span>         <span style=\"font-weight: bold\">[</span><span style=\"color: #008080; text-decoration-color: #008080; font-weight: bold\">4</span>, <span style=\"color: #008080; text-decoration-color: #008080; font-weight: bold\">18</span><span style=\"font-weight: bold\">]</span>\n",
       "</pre>\n"
      ],
      "text/plain": [
       "\u001b[1;36m0.05728\u001b[0m         \u001b[1m[\u001b[0m\u001b[1;36m4\u001b[0m, \u001b[1;36m18\u001b[0m\u001b[1m]\u001b[0m\n"
      ]
     },
     "metadata": {},
     "output_type": "display_data"
    },
    {
     "data": {
      "text/html": [
       "<pre style=\"white-space:pre;overflow-x:auto;line-height:normal;font-family:Menlo,'DejaVu Sans Mono',consolas,'Courier New',monospace\"><span style=\"color: #008080; text-decoration-color: #008080; font-weight: bold\">0.05728</span>         <span style=\"font-weight: bold\">[</span><span style=\"color: #008080; text-decoration-color: #008080; font-weight: bold\">4</span>, <span style=\"color: #008080; text-decoration-color: #008080; font-weight: bold\">18</span>, <span style=\"color: #008080; text-decoration-color: #008080; font-weight: bold\">28</span><span style=\"font-weight: bold\">]</span>\n",
       "</pre>\n"
      ],
      "text/plain": [
       "\u001b[1;36m0.05728\u001b[0m         \u001b[1m[\u001b[0m\u001b[1;36m4\u001b[0m, \u001b[1;36m18\u001b[0m, \u001b[1;36m28\u001b[0m\u001b[1m]\u001b[0m\n"
      ]
     },
     "metadata": {},
     "output_type": "display_data"
    },
    {
     "data": {
      "text/html": [
       "<pre style=\"white-space:pre;overflow-x:auto;line-height:normal;font-family:Menlo,'DejaVu Sans Mono',consolas,'Courier New',monospace\"><span style=\"color: #008080; text-decoration-color: #008080; font-weight: bold\">0.05755</span>         <span style=\"font-weight: bold\">[</span><span style=\"color: #008080; text-decoration-color: #008080; font-weight: bold\">9</span>, <span style=\"color: #008080; text-decoration-color: #008080; font-weight: bold\">38</span><span style=\"font-weight: bold\">]</span>\n",
       "</pre>\n"
      ],
      "text/plain": [
       "\u001b[1;36m0.05755\u001b[0m         \u001b[1m[\u001b[0m\u001b[1;36m9\u001b[0m, \u001b[1;36m38\u001b[0m\u001b[1m]\u001b[0m\n"
      ]
     },
     "metadata": {},
     "output_type": "display_data"
    },
    {
     "data": {
      "text/html": [
       "<pre style=\"white-space:pre;overflow-x:auto;line-height:normal;font-family:Menlo,'DejaVu Sans Mono',consolas,'Courier New',monospace\"><span style=\"color: #008080; text-decoration-color: #008080; font-weight: bold\">0.05796</span>         <span style=\"font-weight: bold\">[</span><span style=\"color: #008080; text-decoration-color: #008080; font-weight: bold\">33</span>, <span style=\"color: #008080; text-decoration-color: #008080; font-weight: bold\">48</span><span style=\"font-weight: bold\">]</span>\n",
       "</pre>\n"
      ],
      "text/plain": [
       "\u001b[1;36m0.05796\u001b[0m         \u001b[1m[\u001b[0m\u001b[1;36m33\u001b[0m, \u001b[1;36m48\u001b[0m\u001b[1m]\u001b[0m\n"
      ]
     },
     "metadata": {},
     "output_type": "display_data"
    },
    {
     "data": {
      "text/html": [
       "<pre style=\"white-space:pre;overflow-x:auto;line-height:normal;font-family:Menlo,'DejaVu Sans Mono',consolas,'Courier New',monospace\"><span style=\"color: #008080; text-decoration-color: #008080; font-weight: bold\">0.05798</span>         <span style=\"font-weight: bold\">[</span><span style=\"color: #008080; text-decoration-color: #008080; font-weight: bold\">15</span>, <span style=\"color: #008080; text-decoration-color: #008080; font-weight: bold\">49</span><span style=\"font-weight: bold\">]</span>\n",
       "</pre>\n"
      ],
      "text/plain": [
       "\u001b[1;36m0.05798\u001b[0m         \u001b[1m[\u001b[0m\u001b[1;36m15\u001b[0m, \u001b[1;36m49\u001b[0m\u001b[1m]\u001b[0m\n"
      ]
     },
     "metadata": {},
     "output_type": "display_data"
    },
    {
     "data": {
      "text/html": [
       "<pre style=\"white-space:pre;overflow-x:auto;line-height:normal;font-family:Menlo,'DejaVu Sans Mono',consolas,'Courier New',monospace\"><span style=\"color: #008080; text-decoration-color: #008080; font-weight: bold\">0.05801</span>         <span style=\"font-weight: bold\">[</span><span style=\"color: #008080; text-decoration-color: #008080; font-weight: bold\">22</span>, <span style=\"color: #008080; text-decoration-color: #008080; font-weight: bold\">36</span><span style=\"font-weight: bold\">]</span>\n",
       "</pre>\n"
      ],
      "text/plain": [
       "\u001b[1;36m0.05801\u001b[0m         \u001b[1m[\u001b[0m\u001b[1;36m22\u001b[0m, \u001b[1;36m36\u001b[0m\u001b[1m]\u001b[0m\n"
      ]
     },
     "metadata": {},
     "output_type": "display_data"
    },
    {
     "data": {
      "text/html": [
       "<pre style=\"white-space:pre;overflow-x:auto;line-height:normal;font-family:Menlo,'DejaVu Sans Mono',consolas,'Courier New',monospace\"><span style=\"color: #008080; text-decoration-color: #008080; font-weight: bold\">0.05884</span>         <span style=\"font-weight: bold\">[</span><span style=\"color: #008080; text-decoration-color: #008080; font-weight: bold\">0</span>, <span style=\"color: #008080; text-decoration-color: #008080; font-weight: bold\">18</span><span style=\"font-weight: bold\">]</span>\n",
       "</pre>\n"
      ],
      "text/plain": [
       "\u001b[1;36m0.05884\u001b[0m         \u001b[1m[\u001b[0m\u001b[1;36m0\u001b[0m, \u001b[1;36m18\u001b[0m\u001b[1m]\u001b[0m\n"
      ]
     },
     "metadata": {},
     "output_type": "display_data"
    },
    {
     "data": {
      "text/html": [
       "<pre style=\"white-space:pre;overflow-x:auto;line-height:normal;font-family:Menlo,'DejaVu Sans Mono',consolas,'Courier New',monospace\"><span style=\"color: #008080; text-decoration-color: #008080; font-weight: bold\">0.06064</span>         <span style=\"font-weight: bold\">[</span><span style=\"color: #008080; text-decoration-color: #008080; font-weight: bold\">30</span>, <span style=\"color: #008080; text-decoration-color: #008080; font-weight: bold\">39</span><span style=\"font-weight: bold\">]</span>\n",
       "</pre>\n"
      ],
      "text/plain": [
       "\u001b[1;36m0.06064\u001b[0m         \u001b[1m[\u001b[0m\u001b[1;36m30\u001b[0m, \u001b[1;36m39\u001b[0m\u001b[1m]\u001b[0m\n"
      ]
     },
     "metadata": {},
     "output_type": "display_data"
    },
    {
     "data": {
      "text/html": [
       "<pre style=\"white-space:pre;overflow-x:auto;line-height:normal;font-family:Menlo,'DejaVu Sans Mono',consolas,'Courier New',monospace\"><span style=\"color: #008080; text-decoration-color: #008080; font-weight: bold\">0.06170</span>         <span style=\"font-weight: bold\">[</span><span style=\"color: #008080; text-decoration-color: #008080; font-weight: bold\">22</span>, <span style=\"color: #008080; text-decoration-color: #008080; font-weight: bold\">36</span>, <span style=\"color: #008080; text-decoration-color: #008080; font-weight: bold\">45</span><span style=\"font-weight: bold\">]</span>\n",
       "</pre>\n"
      ],
      "text/plain": [
       "\u001b[1;36m0.06170\u001b[0m         \u001b[1m[\u001b[0m\u001b[1;36m22\u001b[0m, \u001b[1;36m36\u001b[0m, \u001b[1;36m45\u001b[0m\u001b[1m]\u001b[0m\n"
      ]
     },
     "metadata": {},
     "output_type": "display_data"
    },
    {
     "data": {
      "text/html": [
       "<pre style=\"white-space:pre;overflow-x:auto;line-height:normal;font-family:Menlo,'DejaVu Sans Mono',consolas,'Courier New',monospace\"><span style=\"color: #008080; text-decoration-color: #008080; font-weight: bold\">0.06193</span>         <span style=\"font-weight: bold\">[</span><span style=\"color: #008080; text-decoration-color: #008080; font-weight: bold\">4</span>, <span style=\"color: #008080; text-decoration-color: #008080; font-weight: bold\">13</span><span style=\"font-weight: bold\">]</span>\n",
       "</pre>\n"
      ],
      "text/plain": [
       "\u001b[1;36m0.06193\u001b[0m         \u001b[1m[\u001b[0m\u001b[1;36m4\u001b[0m, \u001b[1;36m13\u001b[0m\u001b[1m]\u001b[0m\n"
      ]
     },
     "metadata": {},
     "output_type": "display_data"
    },
    {
     "data": {
      "text/html": [
       "<pre style=\"white-space:pre;overflow-x:auto;line-height:normal;font-family:Menlo,'DejaVu Sans Mono',consolas,'Courier New',monospace\"><span style=\"color: #008080; text-decoration-color: #008080; font-weight: bold\">0.06288</span>         <span style=\"font-weight: bold\">[</span><span style=\"color: #008080; text-decoration-color: #008080; font-weight: bold\">3</span>, <span style=\"color: #008080; text-decoration-color: #008080; font-weight: bold\">48</span><span style=\"font-weight: bold\">]</span>\n",
       "</pre>\n"
      ],
      "text/plain": [
       "\u001b[1;36m0.06288\u001b[0m         \u001b[1m[\u001b[0m\u001b[1;36m3\u001b[0m, \u001b[1;36m48\u001b[0m\u001b[1m]\u001b[0m\n"
      ]
     },
     "metadata": {},
     "output_type": "display_data"
    },
    {
     "data": {
      "text/html": [
       "<pre style=\"white-space:pre;overflow-x:auto;line-height:normal;font-family:Menlo,'DejaVu Sans Mono',consolas,'Courier New',monospace\"><span style=\"color: #008080; text-decoration-color: #008080; font-weight: bold\">0.06288</span>         <span style=\"font-weight: bold\">[</span><span style=\"color: #008080; text-decoration-color: #008080; font-weight: bold\">3</span>, <span style=\"color: #008080; text-decoration-color: #008080; font-weight: bold\">31</span>, <span style=\"color: #008080; text-decoration-color: #008080; font-weight: bold\">48</span><span style=\"font-weight: bold\">]</span>\n",
       "</pre>\n"
      ],
      "text/plain": [
       "\u001b[1;36m0.06288\u001b[0m         \u001b[1m[\u001b[0m\u001b[1;36m3\u001b[0m, \u001b[1;36m31\u001b[0m, \u001b[1;36m48\u001b[0m\u001b[1m]\u001b[0m\n"
      ]
     },
     "metadata": {},
     "output_type": "display_data"
    },
    {
     "data": {
      "text/html": [
       "<pre style=\"white-space:pre;overflow-x:auto;line-height:normal;font-family:Menlo,'DejaVu Sans Mono',consolas,'Courier New',monospace\"><span style=\"color: #008080; text-decoration-color: #008080; font-weight: bold\">0.06402</span>         <span style=\"font-weight: bold\">[</span><span style=\"color: #008080; text-decoration-color: #008080; font-weight: bold\">23</span>, <span style=\"color: #008080; text-decoration-color: #008080; font-weight: bold\">46</span><span style=\"font-weight: bold\">]</span>\n",
       "</pre>\n"
      ],
      "text/plain": [
       "\u001b[1;36m0.06402\u001b[0m         \u001b[1m[\u001b[0m\u001b[1;36m23\u001b[0m, \u001b[1;36m46\u001b[0m\u001b[1m]\u001b[0m\n"
      ]
     },
     "metadata": {},
     "output_type": "display_data"
    },
    {
     "data": {
      "text/html": [
       "<pre style=\"white-space:pre;overflow-x:auto;line-height:normal;font-family:Menlo,'DejaVu Sans Mono',consolas,'Courier New',monospace\"><span style=\"color: #008080; text-decoration-color: #008080; font-weight: bold\">0.06444</span>         <span style=\"font-weight: bold\">[</span><span style=\"color: #008080; text-decoration-color: #008080; font-weight: bold\">24</span>, <span style=\"color: #008080; text-decoration-color: #008080; font-weight: bold\">34</span><span style=\"font-weight: bold\">]</span>\n",
       "</pre>\n"
      ],
      "text/plain": [
       "\u001b[1;36m0.06444\u001b[0m         \u001b[1m[\u001b[0m\u001b[1;36m24\u001b[0m, \u001b[1;36m34\u001b[0m\u001b[1m]\u001b[0m\n"
      ]
     },
     "metadata": {},
     "output_type": "display_data"
    },
    {
     "data": {
      "text/html": [
       "<pre style=\"white-space:pre;overflow-x:auto;line-height:normal;font-family:Menlo,'DejaVu Sans Mono',consolas,'Courier New',monospace\"><span style=\"color: #008080; text-decoration-color: #008080; font-weight: bold\">0.06444</span>         <span style=\"font-weight: bold\">[</span><span style=\"color: #008080; text-decoration-color: #008080; font-weight: bold\">24</span>, <span style=\"color: #008080; text-decoration-color: #008080; font-weight: bold\">34</span>, <span style=\"color: #008080; text-decoration-color: #008080; font-weight: bold\">46</span><span style=\"font-weight: bold\">]</span>\n",
       "</pre>\n"
      ],
      "text/plain": [
       "\u001b[1;36m0.06444\u001b[0m         \u001b[1m[\u001b[0m\u001b[1;36m24\u001b[0m, \u001b[1;36m34\u001b[0m, \u001b[1;36m46\u001b[0m\u001b[1m]\u001b[0m\n"
      ]
     },
     "metadata": {},
     "output_type": "display_data"
    },
    {
     "data": {
      "text/html": [
       "<pre style=\"white-space:pre;overflow-x:auto;line-height:normal;font-family:Menlo,'DejaVu Sans Mono',consolas,'Courier New',monospace\"><span style=\"color: #008080; text-decoration-color: #008080; font-weight: bold\">0.06519</span>         <span style=\"font-weight: bold\">[</span><span style=\"color: #008080; text-decoration-color: #008080; font-weight: bold\">3</span>, <span style=\"color: #008080; text-decoration-color: #008080; font-weight: bold\">33</span>, <span style=\"color: #008080; text-decoration-color: #008080; font-weight: bold\">48</span><span style=\"font-weight: bold\">]</span>\n",
       "</pre>\n"
      ],
      "text/plain": [
       "\u001b[1;36m0.06519\u001b[0m         \u001b[1m[\u001b[0m\u001b[1;36m3\u001b[0m, \u001b[1;36m33\u001b[0m, \u001b[1;36m48\u001b[0m\u001b[1m]\u001b[0m\n"
      ]
     },
     "metadata": {},
     "output_type": "display_data"
    },
    {
     "data": {
      "text/html": [
       "<pre style=\"white-space:pre;overflow-x:auto;line-height:normal;font-family:Menlo,'DejaVu Sans Mono',consolas,'Courier New',monospace\"><span style=\"color: #008080; text-decoration-color: #008080; font-weight: bold\">0.06658</span>         <span style=\"font-weight: bold\">[</span><span style=\"color: #008080; text-decoration-color: #008080; font-weight: bold\">16</span>, <span style=\"color: #008080; text-decoration-color: #008080; font-weight: bold\">40</span><span style=\"font-weight: bold\">]</span>\n",
       "</pre>\n"
      ],
      "text/plain": [
       "\u001b[1;36m0.06658\u001b[0m         \u001b[1m[\u001b[0m\u001b[1;36m16\u001b[0m, \u001b[1;36m40\u001b[0m\u001b[1m]\u001b[0m\n"
      ]
     },
     "metadata": {},
     "output_type": "display_data"
    },
    {
     "data": {
      "text/html": [
       "<pre style=\"white-space:pre;overflow-x:auto;line-height:normal;font-family:Menlo,'DejaVu Sans Mono',consolas,'Courier New',monospace\"><span style=\"color: #008080; text-decoration-color: #008080; font-weight: bold\">0.06736</span>         <span style=\"font-weight: bold\">[</span><span style=\"color: #008080; text-decoration-color: #008080; font-weight: bold\">1</span>, <span style=\"color: #008080; text-decoration-color: #008080; font-weight: bold\">39</span><span style=\"font-weight: bold\">]</span>\n",
       "</pre>\n"
      ],
      "text/plain": [
       "\u001b[1;36m0.06736\u001b[0m         \u001b[1m[\u001b[0m\u001b[1;36m1\u001b[0m, \u001b[1;36m39\u001b[0m\u001b[1m]\u001b[0m\n"
      ]
     },
     "metadata": {},
     "output_type": "display_data"
    },
    {
     "data": {
      "text/html": [
       "<pre style=\"white-space:pre;overflow-x:auto;line-height:normal;font-family:Menlo,'DejaVu Sans Mono',consolas,'Courier New',monospace\"><span style=\"color: #008080; text-decoration-color: #008080; font-weight: bold\">0.06736</span>         <span style=\"font-weight: bold\">[</span><span style=\"color: #008080; text-decoration-color: #008080; font-weight: bold\">1</span>, <span style=\"color: #008080; text-decoration-color: #008080; font-weight: bold\">39</span>, <span style=\"color: #008080; text-decoration-color: #008080; font-weight: bold\">47</span><span style=\"font-weight: bold\">]</span>\n",
       "</pre>\n"
      ],
      "text/plain": [
       "\u001b[1;36m0.06736\u001b[0m         \u001b[1m[\u001b[0m\u001b[1;36m1\u001b[0m, \u001b[1;36m39\u001b[0m, \u001b[1;36m47\u001b[0m\u001b[1m]\u001b[0m\n"
      ]
     },
     "metadata": {},
     "output_type": "display_data"
    },
    {
     "data": {
      "text/html": [
       "<pre style=\"white-space:pre;overflow-x:auto;line-height:normal;font-family:Menlo,'DejaVu Sans Mono',consolas,'Courier New',monospace\"><span style=\"color: #008080; text-decoration-color: #008080; font-weight: bold\">0.06746</span>         <span style=\"font-weight: bold\">[</span><span style=\"color: #008080; text-decoration-color: #008080; font-weight: bold\">19</span>, <span style=\"color: #008080; text-decoration-color: #008080; font-weight: bold\">24</span>, <span style=\"color: #008080; text-decoration-color: #008080; font-weight: bold\">34</span><span style=\"font-weight: bold\">]</span>\n",
       "</pre>\n"
      ],
      "text/plain": [
       "\u001b[1;36m0.06746\u001b[0m         \u001b[1m[\u001b[0m\u001b[1;36m19\u001b[0m, \u001b[1;36m24\u001b[0m, \u001b[1;36m34\u001b[0m\u001b[1m]\u001b[0m\n"
      ]
     },
     "metadata": {},
     "output_type": "display_data"
    },
    {
     "data": {
      "text/html": [
       "<pre style=\"white-space:pre;overflow-x:auto;line-height:normal;font-family:Menlo,'DejaVu Sans Mono',consolas,'Courier New',monospace\"><span style=\"color: #008080; text-decoration-color: #008080; font-weight: bold\">0.06871</span>         <span style=\"font-weight: bold\">[</span><span style=\"color: #008080; text-decoration-color: #008080; font-weight: bold\">13</span>, <span style=\"color: #008080; text-decoration-color: #008080; font-weight: bold\">28</span><span style=\"font-weight: bold\">]</span>\n",
       "</pre>\n"
      ],
      "text/plain": [
       "\u001b[1;36m0.06871\u001b[0m         \u001b[1m[\u001b[0m\u001b[1;36m13\u001b[0m, \u001b[1;36m28\u001b[0m\u001b[1m]\u001b[0m\n"
      ]
     },
     "metadata": {},
     "output_type": "display_data"
    },
    {
     "data": {
      "text/html": [
       "<pre style=\"white-space:pre;overflow-x:auto;line-height:normal;font-family:Menlo,'DejaVu Sans Mono',consolas,'Courier New',monospace\"><span style=\"color: #008080; text-decoration-color: #008080; font-weight: bold\">0.06871</span>         <span style=\"font-weight: bold\">[</span><span style=\"color: #008080; text-decoration-color: #008080; font-weight: bold\">13</span>, <span style=\"color: #008080; text-decoration-color: #008080; font-weight: bold\">28</span>, <span style=\"color: #008080; text-decoration-color: #008080; font-weight: bold\">44</span><span style=\"font-weight: bold\">]</span>\n",
       "</pre>\n"
      ],
      "text/plain": [
       "\u001b[1;36m0.06871\u001b[0m         \u001b[1m[\u001b[0m\u001b[1;36m13\u001b[0m, \u001b[1;36m28\u001b[0m, \u001b[1;36m44\u001b[0m\u001b[1m]\u001b[0m\n"
      ]
     },
     "metadata": {},
     "output_type": "display_data"
    },
    {
     "data": {
      "text/html": [
       "<pre style=\"white-space:pre;overflow-x:auto;line-height:normal;font-family:Menlo,'DejaVu Sans Mono',consolas,'Courier New',monospace\"><span style=\"color: #008080; text-decoration-color: #008080; font-weight: bold\">0.06881</span>         <span style=\"font-weight: bold\">[</span><span style=\"color: #008080; text-decoration-color: #008080; font-weight: bold\">4</span>, <span style=\"color: #008080; text-decoration-color: #008080; font-weight: bold\">13</span>, <span style=\"color: #008080; text-decoration-color: #008080; font-weight: bold\">28</span><span style=\"font-weight: bold\">]</span>\n",
       "</pre>\n"
      ],
      "text/plain": [
       "\u001b[1;36m0.06881\u001b[0m         \u001b[1m[\u001b[0m\u001b[1;36m4\u001b[0m, \u001b[1;36m13\u001b[0m, \u001b[1;36m28\u001b[0m\u001b[1m]\u001b[0m\n"
      ]
     },
     "metadata": {},
     "output_type": "display_data"
    },
    {
     "data": {
      "text/html": [
       "<pre style=\"white-space:pre;overflow-x:auto;line-height:normal;font-family:Menlo,'DejaVu Sans Mono',consolas,'Courier New',monospace\"><span style=\"color: #008080; text-decoration-color: #008080; font-weight: bold\">0.06990</span>         <span style=\"font-weight: bold\">[</span><span style=\"color: #008080; text-decoration-color: #008080; font-weight: bold\">3</span>, <span style=\"color: #008080; text-decoration-color: #008080; font-weight: bold\">16</span><span style=\"font-weight: bold\">]</span>\n",
       "</pre>\n"
      ],
      "text/plain": [
       "\u001b[1;36m0.06990\u001b[0m         \u001b[1m[\u001b[0m\u001b[1;36m3\u001b[0m, \u001b[1;36m16\u001b[0m\u001b[1m]\u001b[0m\n"
      ]
     },
     "metadata": {},
     "output_type": "display_data"
    },
    {
     "data": {
      "text/html": [
       "<pre style=\"white-space:pre;overflow-x:auto;line-height:normal;font-family:Menlo,'DejaVu Sans Mono',consolas,'Courier New',monospace\"><span style=\"color: #008080; text-decoration-color: #008080; font-weight: bold\">0.06990</span>         <span style=\"font-weight: bold\">[</span><span style=\"color: #008080; text-decoration-color: #008080; font-weight: bold\">3</span>, <span style=\"color: #008080; text-decoration-color: #008080; font-weight: bold\">16</span>, <span style=\"color: #008080; text-decoration-color: #008080; font-weight: bold\">31</span><span style=\"font-weight: bold\">]</span>\n",
       "</pre>\n"
      ],
      "text/plain": [
       "\u001b[1;36m0.06990\u001b[0m         \u001b[1m[\u001b[0m\u001b[1;36m3\u001b[0m, \u001b[1;36m16\u001b[0m, \u001b[1;36m31\u001b[0m\u001b[1m]\u001b[0m\n"
      ]
     },
     "metadata": {},
     "output_type": "display_data"
    },
    {
     "data": {
      "text/html": [
       "<pre style=\"white-space:pre;overflow-x:auto;line-height:normal;font-family:Menlo,'DejaVu Sans Mono',consolas,'Courier New',monospace\"><span style=\"color: #008080; text-decoration-color: #008080; font-weight: bold\">0.07004</span>         <span style=\"font-weight: bold\">[</span><span style=\"color: #008080; text-decoration-color: #008080; font-weight: bold\">3</span>, <span style=\"color: #008080; text-decoration-color: #008080; font-weight: bold\">37</span><span style=\"font-weight: bold\">]</span>\n",
       "</pre>\n"
      ],
      "text/plain": [
       "\u001b[1;36m0.07004\u001b[0m         \u001b[1m[\u001b[0m\u001b[1;36m3\u001b[0m, \u001b[1;36m37\u001b[0m\u001b[1m]\u001b[0m\n"
      ]
     },
     "metadata": {},
     "output_type": "display_data"
    },
    {
     "data": {
      "text/html": [
       "<pre style=\"white-space:pre;overflow-x:auto;line-height:normal;font-family:Menlo,'DejaVu Sans Mono',consolas,'Courier New',monospace\"><span style=\"color: #008080; text-decoration-color: #008080; font-weight: bold\">0.07046</span>         <span style=\"font-weight: bold\">[</span><span style=\"color: #008080; text-decoration-color: #008080; font-weight: bold\">1</span>, <span style=\"color: #008080; text-decoration-color: #008080; font-weight: bold\">12</span><span style=\"font-weight: bold\">]</span>\n",
       "</pre>\n"
      ],
      "text/plain": [
       "\u001b[1;36m0.07046\u001b[0m         \u001b[1m[\u001b[0m\u001b[1;36m1\u001b[0m, \u001b[1;36m12\u001b[0m\u001b[1m]\u001b[0m\n"
      ]
     },
     "metadata": {},
     "output_type": "display_data"
    },
    {
     "data": {
      "text/html": [
       "<pre style=\"white-space:pre;overflow-x:auto;line-height:normal;font-family:Menlo,'DejaVu Sans Mono',consolas,'Courier New',monospace\"><span style=\"color: #008080; text-decoration-color: #008080; font-weight: bold\">0.07211</span>         <span style=\"font-weight: bold\">[</span><span style=\"color: #008080; text-decoration-color: #008080; font-weight: bold\">0</span>, <span style=\"color: #008080; text-decoration-color: #008080; font-weight: bold\">42</span><span style=\"font-weight: bold\">]</span>\n",
       "</pre>\n"
      ],
      "text/plain": [
       "\u001b[1;36m0.07211\u001b[0m         \u001b[1m[\u001b[0m\u001b[1;36m0\u001b[0m, \u001b[1;36m42\u001b[0m\u001b[1m]\u001b[0m\n"
      ]
     },
     "metadata": {},
     "output_type": "display_data"
    },
    {
     "data": {
      "text/html": [
       "<pre style=\"white-space:pre;overflow-x:auto;line-height:normal;font-family:Menlo,'DejaVu Sans Mono',consolas,'Courier New',monospace\"><span style=\"color: #008080; text-decoration-color: #008080; font-weight: bold\">0.07211</span>         <span style=\"font-weight: bold\">[</span><span style=\"color: #008080; text-decoration-color: #008080; font-weight: bold\">0</span>, <span style=\"color: #008080; text-decoration-color: #008080; font-weight: bold\">17</span>, <span style=\"color: #008080; text-decoration-color: #008080; font-weight: bold\">42</span><span style=\"font-weight: bold\">]</span>\n",
       "</pre>\n"
      ],
      "text/plain": [
       "\u001b[1;36m0.07211\u001b[0m         \u001b[1m[\u001b[0m\u001b[1;36m0\u001b[0m, \u001b[1;36m17\u001b[0m, \u001b[1;36m42\u001b[0m\u001b[1m]\u001b[0m\n"
      ]
     },
     "metadata": {},
     "output_type": "display_data"
    },
    {
     "data": {
      "text/html": [
       "<pre style=\"white-space:pre;overflow-x:auto;line-height:normal;font-family:Menlo,'DejaVu Sans Mono',consolas,'Courier New',monospace\"><span style=\"color: #008080; text-decoration-color: #008080; font-weight: bold\">0.07222</span>         <span style=\"font-weight: bold\">[</span><span style=\"color: #008080; text-decoration-color: #008080; font-weight: bold\">1</span>, <span style=\"color: #008080; text-decoration-color: #008080; font-weight: bold\">38</span><span style=\"font-weight: bold\">]</span>\n",
       "</pre>\n"
      ],
      "text/plain": [
       "\u001b[1;36m0.07222\u001b[0m         \u001b[1m[\u001b[0m\u001b[1;36m1\u001b[0m, \u001b[1;36m38\u001b[0m\u001b[1m]\u001b[0m\n"
      ]
     },
     "metadata": {},
     "output_type": "display_data"
    },
    {
     "data": {
      "text/html": [
       "<pre style=\"white-space:pre;overflow-x:auto;line-height:normal;font-family:Menlo,'DejaVu Sans Mono',consolas,'Courier New',monospace\"><span style=\"color: #008080; text-decoration-color: #008080; font-weight: bold\">0.07222</span>         <span style=\"font-weight: bold\">[</span><span style=\"color: #008080; text-decoration-color: #008080; font-weight: bold\">1</span>, <span style=\"color: #008080; text-decoration-color: #008080; font-weight: bold\">9</span>, <span style=\"color: #008080; text-decoration-color: #008080; font-weight: bold\">38</span><span style=\"font-weight: bold\">]</span>\n",
       "</pre>\n"
      ],
      "text/plain": [
       "\u001b[1;36m0.07222\u001b[0m         \u001b[1m[\u001b[0m\u001b[1;36m1\u001b[0m, \u001b[1;36m9\u001b[0m, \u001b[1;36m38\u001b[0m\u001b[1m]\u001b[0m\n"
      ]
     },
     "metadata": {},
     "output_type": "display_data"
    },
    {
     "data": {
      "text/html": [
       "<pre style=\"white-space:pre;overflow-x:auto;line-height:normal;font-family:Menlo,'DejaVu Sans Mono',consolas,'Courier New',monospace\"><span style=\"color: #008080; text-decoration-color: #008080; font-weight: bold\">0.07369</span>         <span style=\"font-weight: bold\">[</span><span style=\"color: #008080; text-decoration-color: #008080; font-weight: bold\">1</span>, <span style=\"color: #008080; text-decoration-color: #008080; font-weight: bold\">12</span>, <span style=\"color: #008080; text-decoration-color: #008080; font-weight: bold\">38</span><span style=\"font-weight: bold\">]</span>\n",
       "</pre>\n"
      ],
      "text/plain": [
       "\u001b[1;36m0.07369\u001b[0m         \u001b[1m[\u001b[0m\u001b[1;36m1\u001b[0m, \u001b[1;36m12\u001b[0m, \u001b[1;36m38\u001b[0m\u001b[1m]\u001b[0m\n"
      ]
     },
     "metadata": {},
     "output_type": "display_data"
    },
    {
     "data": {
      "text/html": [
       "<pre style=\"white-space:pre;overflow-x:auto;line-height:normal;font-family:Menlo,'DejaVu Sans Mono',consolas,'Courier New',monospace\"><span style=\"color: #008080; text-decoration-color: #008080; font-weight: bold\">0.07573</span>         <span style=\"font-weight: bold\">[</span><span style=\"color: #008080; text-decoration-color: #008080; font-weight: bold\">37</span>, <span style=\"color: #008080; text-decoration-color: #008080; font-weight: bold\">49</span><span style=\"font-weight: bold\">]</span>\n",
       "</pre>\n"
      ],
      "text/plain": [
       "\u001b[1;36m0.07573\u001b[0m         \u001b[1m[\u001b[0m\u001b[1;36m37\u001b[0m, \u001b[1;36m49\u001b[0m\u001b[1m]\u001b[0m\n"
      ]
     },
     "metadata": {},
     "output_type": "display_data"
    },
    {
     "data": {
      "text/html": [
       "<pre style=\"white-space:pre;overflow-x:auto;line-height:normal;font-family:Menlo,'DejaVu Sans Mono',consolas,'Courier New',monospace\"><span style=\"color: #008080; text-decoration-color: #008080; font-weight: bold\">0.07573</span>         <span style=\"font-weight: bold\">[</span><span style=\"color: #008080; text-decoration-color: #008080; font-weight: bold\">15</span>, <span style=\"color: #008080; text-decoration-color: #008080; font-weight: bold\">37</span>, <span style=\"color: #008080; text-decoration-color: #008080; font-weight: bold\">49</span><span style=\"font-weight: bold\">]</span>\n",
       "</pre>\n"
      ],
      "text/plain": [
       "\u001b[1;36m0.07573\u001b[0m         \u001b[1m[\u001b[0m\u001b[1;36m15\u001b[0m, \u001b[1;36m37\u001b[0m, \u001b[1;36m49\u001b[0m\u001b[1m]\u001b[0m\n"
      ]
     },
     "metadata": {},
     "output_type": "display_data"
    },
    {
     "data": {
      "text/html": [
       "<pre style=\"white-space:pre;overflow-x:auto;line-height:normal;font-family:Menlo,'DejaVu Sans Mono',consolas,'Courier New',monospace\"><span style=\"color: #008080; text-decoration-color: #008080; font-weight: bold\">0.07579</span>         <span style=\"font-weight: bold\">[</span><span style=\"color: #008080; text-decoration-color: #008080; font-weight: bold\">10</span>, <span style=\"color: #008080; text-decoration-color: #008080; font-weight: bold\">22</span><span style=\"font-weight: bold\">]</span>\n",
       "</pre>\n"
      ],
      "text/plain": [
       "\u001b[1;36m0.07579\u001b[0m         \u001b[1m[\u001b[0m\u001b[1;36m10\u001b[0m, \u001b[1;36m22\u001b[0m\u001b[1m]\u001b[0m\n"
      ]
     },
     "metadata": {},
     "output_type": "display_data"
    },
    {
     "data": {
      "text/html": [
       "<pre style=\"white-space:pre;overflow-x:auto;line-height:normal;font-family:Menlo,'DejaVu Sans Mono',consolas,'Courier New',monospace\"><span style=\"color: #008080; text-decoration-color: #008080; font-weight: bold\">0.07598</span>         <span style=\"font-weight: bold\">[</span><span style=\"color: #008080; text-decoration-color: #008080; font-weight: bold\">29</span>, <span style=\"color: #008080; text-decoration-color: #008080; font-weight: bold\">37</span><span style=\"font-weight: bold\">]</span>\n",
       "</pre>\n"
      ],
      "text/plain": [
       "\u001b[1;36m0.07598\u001b[0m         \u001b[1m[\u001b[0m\u001b[1;36m29\u001b[0m, \u001b[1;36m37\u001b[0m\u001b[1m]\u001b[0m\n"
      ]
     },
     "metadata": {},
     "output_type": "display_data"
    },
    {
     "data": {
      "text/html": [
       "<pre style=\"white-space:pre;overflow-x:auto;line-height:normal;font-family:Menlo,'DejaVu Sans Mono',consolas,'Courier New',monospace\"><span style=\"color: #008080; text-decoration-color: #008080; font-weight: bold\">0.07645</span>         <span style=\"font-weight: bold\">[</span><span style=\"color: #008080; text-decoration-color: #008080; font-weight: bold\">29</span>, <span style=\"color: #008080; text-decoration-color: #008080; font-weight: bold\">37</span>, <span style=\"color: #008080; text-decoration-color: #008080; font-weight: bold\">49</span><span style=\"font-weight: bold\">]</span>\n",
       "</pre>\n"
      ],
      "text/plain": [
       "\u001b[1;36m0.07645\u001b[0m         \u001b[1m[\u001b[0m\u001b[1;36m29\u001b[0m, \u001b[1;36m37\u001b[0m, \u001b[1;36m49\u001b[0m\u001b[1m]\u001b[0m\n"
      ]
     },
     "metadata": {},
     "output_type": "display_data"
    },
    {
     "data": {
      "text/html": [
       "<pre style=\"white-space:pre;overflow-x:auto;line-height:normal;font-family:Menlo,'DejaVu Sans Mono',consolas,'Courier New',monospace\"><span style=\"color: #008080; text-decoration-color: #008080; font-weight: bold\">0.07702</span>         <span style=\"font-weight: bold\">[</span><span style=\"color: #008080; text-decoration-color: #008080; font-weight: bold\">16</span>, <span style=\"color: #008080; text-decoration-color: #008080; font-weight: bold\">26</span><span style=\"font-weight: bold\">]</span>\n",
       "</pre>\n"
      ],
      "text/plain": [
       "\u001b[1;36m0.07702\u001b[0m         \u001b[1m[\u001b[0m\u001b[1;36m16\u001b[0m, \u001b[1;36m26\u001b[0m\u001b[1m]\u001b[0m\n"
      ]
     },
     "metadata": {},
     "output_type": "display_data"
    },
    {
     "data": {
      "text/html": [
       "<pre style=\"white-space:pre;overflow-x:auto;line-height:normal;font-family:Menlo,'DejaVu Sans Mono',consolas,'Courier New',monospace\"><span style=\"color: #008080; text-decoration-color: #008080; font-weight: bold\">0.07995</span>         <span style=\"font-weight: bold\">[</span><span style=\"color: #008080; text-decoration-color: #008080; font-weight: bold\">14</span>, <span style=\"color: #008080; text-decoration-color: #008080; font-weight: bold\">48</span><span style=\"font-weight: bold\">]</span>\n",
       "</pre>\n"
      ],
      "text/plain": [
       "\u001b[1;36m0.07995\u001b[0m         \u001b[1m[\u001b[0m\u001b[1;36m14\u001b[0m, \u001b[1;36m48\u001b[0m\u001b[1m]\u001b[0m\n"
      ]
     },
     "metadata": {},
     "output_type": "display_data"
    },
    {
     "data": {
      "text/html": [
       "<pre style=\"white-space:pre;overflow-x:auto;line-height:normal;font-family:Menlo,'DejaVu Sans Mono',consolas,'Courier New',monospace\"><span style=\"color: #008080; text-decoration-color: #008080; font-weight: bold\">0.08036</span>         <span style=\"font-weight: bold\">[</span><span style=\"color: #008080; text-decoration-color: #008080; font-weight: bold\">0</span>, <span style=\"color: #008080; text-decoration-color: #008080; font-weight: bold\">43</span><span style=\"font-weight: bold\">]</span>\n",
       "</pre>\n"
      ],
      "text/plain": [
       "\u001b[1;36m0.08036\u001b[0m         \u001b[1m[\u001b[0m\u001b[1;36m0\u001b[0m, \u001b[1;36m43\u001b[0m\u001b[1m]\u001b[0m\n"
      ]
     },
     "metadata": {},
     "output_type": "display_data"
    },
    {
     "data": {
      "text/html": [
       "<pre style=\"white-space:pre;overflow-x:auto;line-height:normal;font-family:Menlo,'DejaVu Sans Mono',consolas,'Courier New',monospace\"><span style=\"color: #008080; text-decoration-color: #008080; font-weight: bold\">0.08172</span>         <span style=\"font-weight: bold\">[</span><span style=\"color: #008080; text-decoration-color: #008080; font-weight: bold\">15</span>, <span style=\"color: #008080; text-decoration-color: #008080; font-weight: bold\">16</span><span style=\"font-weight: bold\">]</span>\n",
       "</pre>\n"
      ],
      "text/plain": [
       "\u001b[1;36m0.08172\u001b[0m         \u001b[1m[\u001b[0m\u001b[1;36m15\u001b[0m, \u001b[1;36m16\u001b[0m\u001b[1m]\u001b[0m\n"
      ]
     },
     "metadata": {},
     "output_type": "display_data"
    },
    {
     "data": {
      "text/html": [
       "<pre style=\"white-space:pre;overflow-x:auto;line-height:normal;font-family:Menlo,'DejaVu Sans Mono',consolas,'Courier New',monospace\"><span style=\"color: #008080; text-decoration-color: #008080; font-weight: bold\">0.08327</span>         <span style=\"font-weight: bold\">[</span><span style=\"color: #008080; text-decoration-color: #008080; font-weight: bold\">9</span>, <span style=\"color: #008080; text-decoration-color: #008080; font-weight: bold\">20</span><span style=\"font-weight: bold\">]</span>\n",
       "</pre>\n"
      ],
      "text/plain": [
       "\u001b[1;36m0.08327\u001b[0m         \u001b[1m[\u001b[0m\u001b[1;36m9\u001b[0m, \u001b[1;36m20\u001b[0m\u001b[1m]\u001b[0m\n"
      ]
     },
     "metadata": {},
     "output_type": "display_data"
    },
    {
     "data": {
      "text/html": [
       "<pre style=\"white-space:pre;overflow-x:auto;line-height:normal;font-family:Menlo,'DejaVu Sans Mono',consolas,'Courier New',monospace\"><span style=\"color: #008080; text-decoration-color: #008080; font-weight: bold\">0.08327</span>         <span style=\"font-weight: bold\">[</span><span style=\"color: #008080; text-decoration-color: #008080; font-weight: bold\">9</span>, <span style=\"color: #008080; text-decoration-color: #008080; font-weight: bold\">20</span>, <span style=\"color: #008080; text-decoration-color: #008080; font-weight: bold\">38</span><span style=\"font-weight: bold\">]</span>\n",
       "</pre>\n"
      ],
      "text/plain": [
       "\u001b[1;36m0.08327\u001b[0m         \u001b[1m[\u001b[0m\u001b[1;36m9\u001b[0m, \u001b[1;36m20\u001b[0m, \u001b[1;36m38\u001b[0m\u001b[1m]\u001b[0m\n"
      ]
     },
     "metadata": {},
     "output_type": "display_data"
    },
    {
     "data": {
      "text/html": [
       "<pre style=\"white-space:pre;overflow-x:auto;line-height:normal;font-family:Menlo,'DejaVu Sans Mono',consolas,'Courier New',monospace\"><span style=\"color: #008080; text-decoration-color: #008080; font-weight: bold\">0.08344</span>         <span style=\"font-weight: bold\">[</span><span style=\"color: #008080; text-decoration-color: #008080; font-weight: bold\">7</span>, <span style=\"color: #008080; text-decoration-color: #008080; font-weight: bold\">26</span><span style=\"font-weight: bold\">]</span>\n",
       "</pre>\n"
      ],
      "text/plain": [
       "\u001b[1;36m0.08344\u001b[0m         \u001b[1m[\u001b[0m\u001b[1;36m7\u001b[0m, \u001b[1;36m26\u001b[0m\u001b[1m]\u001b[0m\n"
      ]
     },
     "metadata": {},
     "output_type": "display_data"
    },
    {
     "data": {
      "text/html": [
       "<pre style=\"white-space:pre;overflow-x:auto;line-height:normal;font-family:Menlo,'DejaVu Sans Mono',consolas,'Courier New',monospace\"><span style=\"color: #008080; text-decoration-color: #008080; font-weight: bold\">0.08366</span>         <span style=\"font-weight: bold\">[</span><span style=\"color: #008080; text-decoration-color: #008080; font-weight: bold\">30</span>, <span style=\"color: #008080; text-decoration-color: #008080; font-weight: bold\">44</span><span style=\"font-weight: bold\">]</span>\n",
       "</pre>\n"
      ],
      "text/plain": [
       "\u001b[1;36m0.08366\u001b[0m         \u001b[1m[\u001b[0m\u001b[1;36m30\u001b[0m, \u001b[1;36m44\u001b[0m\u001b[1m]\u001b[0m\n"
      ]
     },
     "metadata": {},
     "output_type": "display_data"
    },
    {
     "data": {
      "text/html": [
       "<pre style=\"white-space:pre;overflow-x:auto;line-height:normal;font-family:Menlo,'DejaVu Sans Mono',consolas,'Courier New',monospace\"><span style=\"color: #008080; text-decoration-color: #008080; font-weight: bold\">0.08374</span>         <span style=\"font-weight: bold\">[</span><span style=\"color: #008080; text-decoration-color: #008080; font-weight: bold\">25</span>, <span style=\"color: #008080; text-decoration-color: #008080; font-weight: bold\">34</span><span style=\"font-weight: bold\">]</span>\n",
       "</pre>\n"
      ],
      "text/plain": [
       "\u001b[1;36m0.08374\u001b[0m         \u001b[1m[\u001b[0m\u001b[1;36m25\u001b[0m, \u001b[1;36m34\u001b[0m\u001b[1m]\u001b[0m\n"
      ]
     },
     "metadata": {},
     "output_type": "display_data"
    },
    {
     "data": {
      "text/html": [
       "<pre style=\"white-space:pre;overflow-x:auto;line-height:normal;font-family:Menlo,'DejaVu Sans Mono',consolas,'Courier New',monospace\"><span style=\"color: #008080; text-decoration-color: #008080; font-weight: bold\">0.08477</span>         <span style=\"font-weight: bold\">[</span><span style=\"color: #008080; text-decoration-color: #008080; font-weight: bold\">27</span>, <span style=\"color: #008080; text-decoration-color: #008080; font-weight: bold\">35</span><span style=\"font-weight: bold\">]</span>\n",
       "</pre>\n"
      ],
      "text/plain": [
       "\u001b[1;36m0.08477\u001b[0m         \u001b[1m[\u001b[0m\u001b[1;36m27\u001b[0m, \u001b[1;36m35\u001b[0m\u001b[1m]\u001b[0m\n"
      ]
     },
     "metadata": {},
     "output_type": "display_data"
    },
    {
     "data": {
      "text/html": [
       "<pre style=\"white-space:pre;overflow-x:auto;line-height:normal;font-family:Menlo,'DejaVu Sans Mono',consolas,'Courier New',monospace\"><span style=\"color: #008080; text-decoration-color: #008080; font-weight: bold\">0.08477</span>         <span style=\"font-weight: bold\">[</span><span style=\"color: #008080; text-decoration-color: #008080; font-weight: bold\">5</span>, <span style=\"color: #008080; text-decoration-color: #008080; font-weight: bold\">27</span>, <span style=\"color: #008080; text-decoration-color: #008080; font-weight: bold\">35</span><span style=\"font-weight: bold\">]</span>\n",
       "</pre>\n"
      ],
      "text/plain": [
       "\u001b[1;36m0.08477\u001b[0m         \u001b[1m[\u001b[0m\u001b[1;36m5\u001b[0m, \u001b[1;36m27\u001b[0m, \u001b[1;36m35\u001b[0m\u001b[1m]\u001b[0m\n"
      ]
     },
     "metadata": {},
     "output_type": "display_data"
    },
    {
     "data": {
      "text/html": [
       "<pre style=\"white-space:pre;overflow-x:auto;line-height:normal;font-family:Menlo,'DejaVu Sans Mono',consolas,'Courier New',monospace\"><span style=\"color: #008080; text-decoration-color: #008080; font-weight: bold\">0.08508</span>         <span style=\"font-weight: bold\">[</span><span style=\"color: #008080; text-decoration-color: #008080; font-weight: bold\">3</span>, <span style=\"color: #008080; text-decoration-color: #008080; font-weight: bold\">15</span><span style=\"font-weight: bold\">]</span>\n",
       "</pre>\n"
      ],
      "text/plain": [
       "\u001b[1;36m0.08508\u001b[0m         \u001b[1m[\u001b[0m\u001b[1;36m3\u001b[0m, \u001b[1;36m15\u001b[0m\u001b[1m]\u001b[0m\n"
      ]
     },
     "metadata": {},
     "output_type": "display_data"
    },
    {
     "data": {
      "text/html": [
       "<pre style=\"white-space:pre;overflow-x:auto;line-height:normal;font-family:Menlo,'DejaVu Sans Mono',consolas,'Courier New',monospace\"><span style=\"color: #008080; text-decoration-color: #008080; font-weight: bold\">0.08508</span>         <span style=\"font-weight: bold\">[</span><span style=\"color: #008080; text-decoration-color: #008080; font-weight: bold\">3</span>, <span style=\"color: #008080; text-decoration-color: #008080; font-weight: bold\">15</span>, <span style=\"color: #008080; text-decoration-color: #008080; font-weight: bold\">37</span><span style=\"font-weight: bold\">]</span>\n",
       "</pre>\n"
      ],
      "text/plain": [
       "\u001b[1;36m0.08508\u001b[0m         \u001b[1m[\u001b[0m\u001b[1;36m3\u001b[0m, \u001b[1;36m15\u001b[0m, \u001b[1;36m37\u001b[0m\u001b[1m]\u001b[0m\n"
      ]
     },
     "metadata": {},
     "output_type": "display_data"
    },
    {
     "data": {
      "text/html": [
       "<pre style=\"white-space:pre;overflow-x:auto;line-height:normal;font-family:Menlo,'DejaVu Sans Mono',consolas,'Courier New',monospace\"><span style=\"color: #008080; text-decoration-color: #008080; font-weight: bold\">0.08817</span>         <span style=\"font-weight: bold\">[</span><span style=\"color: #008080; text-decoration-color: #008080; font-weight: bold\">25</span>, <span style=\"color: #008080; text-decoration-color: #008080; font-weight: bold\">46</span><span style=\"font-weight: bold\">]</span>\n",
       "</pre>\n"
      ],
      "text/plain": [
       "\u001b[1;36m0.08817\u001b[0m         \u001b[1m[\u001b[0m\u001b[1;36m25\u001b[0m, \u001b[1;36m46\u001b[0m\u001b[1m]\u001b[0m\n"
      ]
     },
     "metadata": {},
     "output_type": "display_data"
    },
    {
     "data": {
      "text/html": [
       "<pre style=\"white-space:pre;overflow-x:auto;line-height:normal;font-family:Menlo,'DejaVu Sans Mono',consolas,'Courier New',monospace\"><span style=\"color: #008080; text-decoration-color: #008080; font-weight: bold\">0.08817</span>         <span style=\"font-weight: bold\">[</span><span style=\"color: #008080; text-decoration-color: #008080; font-weight: bold\">23</span>, <span style=\"color: #008080; text-decoration-color: #008080; font-weight: bold\">25</span>, <span style=\"color: #008080; text-decoration-color: #008080; font-weight: bold\">46</span><span style=\"font-weight: bold\">]</span>\n",
       "</pre>\n"
      ],
      "text/plain": [
       "\u001b[1;36m0.08817\u001b[0m         \u001b[1m[\u001b[0m\u001b[1;36m23\u001b[0m, \u001b[1;36m25\u001b[0m, \u001b[1;36m46\u001b[0m\u001b[1m]\u001b[0m\n"
      ]
     },
     "metadata": {},
     "output_type": "display_data"
    },
    {
     "data": {
      "text/html": [
       "<pre style=\"white-space:pre;overflow-x:auto;line-height:normal;font-family:Menlo,'DejaVu Sans Mono',consolas,'Courier New',monospace\"><span style=\"color: #008080; text-decoration-color: #008080; font-weight: bold\">0.08842</span>         <span style=\"font-weight: bold\">[</span><span style=\"color: #008080; text-decoration-color: #008080; font-weight: bold\">43</span>, <span style=\"color: #008080; text-decoration-color: #008080; font-weight: bold\">49</span><span style=\"font-weight: bold\">]</span>\n",
       "</pre>\n"
      ],
      "text/plain": [
       "\u001b[1;36m0.08842\u001b[0m         \u001b[1m[\u001b[0m\u001b[1;36m43\u001b[0m, \u001b[1;36m49\u001b[0m\u001b[1m]\u001b[0m\n"
      ]
     },
     "metadata": {},
     "output_type": "display_data"
    },
    {
     "data": {
      "text/html": [
       "<pre style=\"white-space:pre;overflow-x:auto;line-height:normal;font-family:Menlo,'DejaVu Sans Mono',consolas,'Courier New',monospace\"><span style=\"color: #008080; text-decoration-color: #008080; font-weight: bold\">0.08847</span>         <span style=\"font-weight: bold\">[</span><span style=\"color: #008080; text-decoration-color: #008080; font-weight: bold\">26</span>, <span style=\"color: #008080; text-decoration-color: #008080; font-weight: bold\">40</span><span style=\"font-weight: bold\">]</span>\n",
       "</pre>\n"
      ],
      "text/plain": [
       "\u001b[1;36m0.08847\u001b[0m         \u001b[1m[\u001b[0m\u001b[1;36m26\u001b[0m, \u001b[1;36m40\u001b[0m\u001b[1m]\u001b[0m\n"
      ]
     },
     "metadata": {},
     "output_type": "display_data"
    },
    {
     "data": {
      "text/html": [
       "<pre style=\"white-space:pre;overflow-x:auto;line-height:normal;font-family:Menlo,'DejaVu Sans Mono',consolas,'Courier New',monospace\"><span style=\"color: #008080; text-decoration-color: #008080; font-weight: bold\">0.08853</span>         <span style=\"font-weight: bold\">[</span><span style=\"color: #008080; text-decoration-color: #008080; font-weight: bold\">7</span>, <span style=\"color: #008080; text-decoration-color: #008080; font-weight: bold\">26</span>, <span style=\"color: #008080; text-decoration-color: #008080; font-weight: bold\">40</span><span style=\"font-weight: bold\">]</span>\n",
       "</pre>\n"
      ],
      "text/plain": [
       "\u001b[1;36m0.08853\u001b[0m         \u001b[1m[\u001b[0m\u001b[1;36m7\u001b[0m, \u001b[1;36m26\u001b[0m, \u001b[1;36m40\u001b[0m\u001b[1m]\u001b[0m\n"
      ]
     },
     "metadata": {},
     "output_type": "display_data"
    },
    {
     "data": {
      "text/html": [
       "<pre style=\"white-space:pre;overflow-x:auto;line-height:normal;font-family:Menlo,'DejaVu Sans Mono',consolas,'Courier New',monospace\"><span style=\"color: #008080; text-decoration-color: #008080; font-weight: bold\">0.08917</span>         <span style=\"font-weight: bold\">[</span><span style=\"color: #008080; text-decoration-color: #008080; font-weight: bold\">8</span>, <span style=\"color: #008080; text-decoration-color: #008080; font-weight: bold\">14</span><span style=\"font-weight: bold\">]</span>\n",
       "</pre>\n"
      ],
      "text/plain": [
       "\u001b[1;36m0.08917\u001b[0m         \u001b[1m[\u001b[0m\u001b[1;36m8\u001b[0m, \u001b[1;36m14\u001b[0m\u001b[1m]\u001b[0m\n"
      ]
     },
     "metadata": {},
     "output_type": "display_data"
    },
    {
     "data": {
      "text/html": [
       "<pre style=\"white-space:pre;overflow-x:auto;line-height:normal;font-family:Menlo,'DejaVu Sans Mono',consolas,'Courier New',monospace\"><span style=\"color: #008080; text-decoration-color: #008080; font-weight: bold\">0.08977</span>         <span style=\"font-weight: bold\">[</span><span style=\"color: #008080; text-decoration-color: #008080; font-weight: bold\">25</span>, <span style=\"color: #008080; text-decoration-color: #008080; font-weight: bold\">34</span>, <span style=\"color: #008080; text-decoration-color: #008080; font-weight: bold\">46</span><span style=\"font-weight: bold\">]</span>\n",
       "</pre>\n"
      ],
      "text/plain": [
       "\u001b[1;36m0.08977\u001b[0m         \u001b[1m[\u001b[0m\u001b[1;36m25\u001b[0m, \u001b[1;36m34\u001b[0m, \u001b[1;36m46\u001b[0m\u001b[1m]\u001b[0m\n"
      ]
     },
     "metadata": {},
     "output_type": "display_data"
    },
    {
     "data": {
      "text/html": [
       "<pre style=\"white-space:pre;overflow-x:auto;line-height:normal;font-family:Menlo,'DejaVu Sans Mono',consolas,'Courier New',monospace\"><span style=\"color: #008080; text-decoration-color: #008080; font-weight: bold\">0.09013</span>         <span style=\"font-weight: bold\">[</span><span style=\"color: #008080; text-decoration-color: #008080; font-weight: bold\">30</span>, <span style=\"color: #008080; text-decoration-color: #008080; font-weight: bold\">49</span><span style=\"font-weight: bold\">]</span>\n",
       "</pre>\n"
      ],
      "text/plain": [
       "\u001b[1;36m0.09013\u001b[0m         \u001b[1m[\u001b[0m\u001b[1;36m30\u001b[0m, \u001b[1;36m49\u001b[0m\u001b[1m]\u001b[0m\n"
      ]
     },
     "metadata": {},
     "output_type": "display_data"
    },
    {
     "data": {
      "text/html": [
       "<pre style=\"white-space:pre;overflow-x:auto;line-height:normal;font-family:Menlo,'DejaVu Sans Mono',consolas,'Courier New',monospace\"><span style=\"color: #008080; text-decoration-color: #008080; font-weight: bold\">0.09061</span>         <span style=\"font-weight: bold\">[</span><span style=\"color: #008080; text-decoration-color: #008080; font-weight: bold\">3</span>, <span style=\"color: #008080; text-decoration-color: #008080; font-weight: bold\">15</span>, <span style=\"color: #008080; text-decoration-color: #008080; font-weight: bold\">16</span><span style=\"font-weight: bold\">]</span>\n",
       "</pre>\n"
      ],
      "text/plain": [
       "\u001b[1;36m0.09061\u001b[0m         \u001b[1m[\u001b[0m\u001b[1;36m3\u001b[0m, \u001b[1;36m15\u001b[0m, \u001b[1;36m16\u001b[0m\u001b[1m]\u001b[0m\n"
      ]
     },
     "metadata": {},
     "output_type": "display_data"
    },
    {
     "data": {
      "text/html": [
       "<pre style=\"white-space:pre;overflow-x:auto;line-height:normal;font-family:Menlo,'DejaVu Sans Mono',consolas,'Courier New',monospace\"><span style=\"color: #008080; text-decoration-color: #008080; font-weight: bold\">0.09073</span>         <span style=\"font-weight: bold\">[</span><span style=\"color: #008080; text-decoration-color: #008080; font-weight: bold\">21</span>, <span style=\"color: #008080; text-decoration-color: #008080; font-weight: bold\">25</span><span style=\"font-weight: bold\">]</span>\n",
       "</pre>\n"
      ],
      "text/plain": [
       "\u001b[1;36m0.09073\u001b[0m         \u001b[1m[\u001b[0m\u001b[1;36m21\u001b[0m, \u001b[1;36m25\u001b[0m\u001b[1m]\u001b[0m\n"
      ]
     },
     "metadata": {},
     "output_type": "display_data"
    },
    {
     "data": {
      "text/html": [
       "<pre style=\"white-space:pre;overflow-x:auto;line-height:normal;font-family:Menlo,'DejaVu Sans Mono',consolas,'Courier New',monospace\"><span style=\"color: #008080; text-decoration-color: #008080; font-weight: bold\">0.09131</span>         <span style=\"font-weight: bold\">[</span><span style=\"color: #008080; text-decoration-color: #008080; font-weight: bold\">16</span>, <span style=\"color: #008080; text-decoration-color: #008080; font-weight: bold\">26</span>, <span style=\"color: #008080; text-decoration-color: #008080; font-weight: bold\">40</span><span style=\"font-weight: bold\">]</span>\n",
       "</pre>\n"
      ],
      "text/plain": [
       "\u001b[1;36m0.09131\u001b[0m         \u001b[1m[\u001b[0m\u001b[1;36m16\u001b[0m, \u001b[1;36m26\u001b[0m, \u001b[1;36m40\u001b[0m\u001b[1m]\u001b[0m\n"
      ]
     },
     "metadata": {},
     "output_type": "display_data"
    },
    {
     "data": {
      "text/html": [
       "<pre style=\"white-space:pre;overflow-x:auto;line-height:normal;font-family:Menlo,'DejaVu Sans Mono',consolas,'Courier New',monospace\"><span style=\"color: #008080; text-decoration-color: #008080; font-weight: bold\">0.09237</span>         <span style=\"font-weight: bold\">[</span><span style=\"color: #008080; text-decoration-color: #008080; font-weight: bold\">30</span>, <span style=\"color: #008080; text-decoration-color: #008080; font-weight: bold\">43</span><span style=\"font-weight: bold\">]</span>\n",
       "</pre>\n"
      ],
      "text/plain": [
       "\u001b[1;36m0.09237\u001b[0m         \u001b[1m[\u001b[0m\u001b[1;36m30\u001b[0m, \u001b[1;36m43\u001b[0m\u001b[1m]\u001b[0m\n"
      ]
     },
     "metadata": {},
     "output_type": "display_data"
    },
    {
     "data": {
      "text/html": [
       "<pre style=\"white-space:pre;overflow-x:auto;line-height:normal;font-family:Menlo,'DejaVu Sans Mono',consolas,'Courier New',monospace\"><span style=\"color: #008080; text-decoration-color: #008080; font-weight: bold\">0.09304</span>         <span style=\"font-weight: bold\">[</span><span style=\"color: #008080; text-decoration-color: #008080; font-weight: bold\">11</span>, <span style=\"color: #008080; text-decoration-color: #008080; font-weight: bold\">33</span><span style=\"font-weight: bold\">]</span>\n",
       "</pre>\n"
      ],
      "text/plain": [
       "\u001b[1;36m0.09304\u001b[0m         \u001b[1m[\u001b[0m\u001b[1;36m11\u001b[0m, \u001b[1;36m33\u001b[0m\u001b[1m]\u001b[0m\n"
      ]
     },
     "metadata": {},
     "output_type": "display_data"
    },
    {
     "data": {
      "text/html": [
       "<pre style=\"white-space:pre;overflow-x:auto;line-height:normal;font-family:Menlo,'DejaVu Sans Mono',consolas,'Courier New',monospace\"><span style=\"color: #008080; text-decoration-color: #008080; font-weight: bold\">0.09359</span>         <span style=\"font-weight: bold\">[</span><span style=\"color: #008080; text-decoration-color: #008080; font-weight: bold\">5</span>, <span style=\"color: #008080; text-decoration-color: #008080; font-weight: bold\">21</span><span style=\"font-weight: bold\">]</span>\n",
       "</pre>\n"
      ],
      "text/plain": [
       "\u001b[1;36m0.09359\u001b[0m         \u001b[1m[\u001b[0m\u001b[1;36m5\u001b[0m, \u001b[1;36m21\u001b[0m\u001b[1m]\u001b[0m\n"
      ]
     },
     "metadata": {},
     "output_type": "display_data"
    },
    {
     "data": {
      "text/html": [
       "<pre style=\"white-space:pre;overflow-x:auto;line-height:normal;font-family:Menlo,'DejaVu Sans Mono',consolas,'Courier New',monospace\"><span style=\"color: #008080; text-decoration-color: #008080; font-weight: bold\">0.09365</span>         <span style=\"font-weight: bold\">[</span><span style=\"color: #008080; text-decoration-color: #008080; font-weight: bold\">19</span>, <span style=\"color: #008080; text-decoration-color: #008080; font-weight: bold\">45</span><span style=\"font-weight: bold\">]</span>\n",
       "</pre>\n"
      ],
      "text/plain": [
       "\u001b[1;36m0.09365\u001b[0m         \u001b[1m[\u001b[0m\u001b[1;36m19\u001b[0m, \u001b[1;36m45\u001b[0m\u001b[1m]\u001b[0m\n"
      ]
     },
     "metadata": {},
     "output_type": "display_data"
    },
    {
     "data": {
      "text/html": [
       "<pre style=\"white-space:pre;overflow-x:auto;line-height:normal;font-family:Menlo,'DejaVu Sans Mono',consolas,'Courier New',monospace\"><span style=\"color: #008080; text-decoration-color: #008080; font-weight: bold\">0.09411</span>         <span style=\"font-weight: bold\">[</span><span style=\"color: #008080; text-decoration-color: #008080; font-weight: bold\">15</span>, <span style=\"color: #008080; text-decoration-color: #008080; font-weight: bold\">43</span><span style=\"font-weight: bold\">]</span>\n",
       "</pre>\n"
      ],
      "text/plain": [
       "\u001b[1;36m0.09411\u001b[0m         \u001b[1m[\u001b[0m\u001b[1;36m15\u001b[0m, \u001b[1;36m43\u001b[0m\u001b[1m]\u001b[0m\n"
      ]
     },
     "metadata": {},
     "output_type": "display_data"
    },
    {
     "data": {
      "text/html": [
       "<pre style=\"white-space:pre;overflow-x:auto;line-height:normal;font-family:Menlo,'DejaVu Sans Mono',consolas,'Courier New',monospace\"><span style=\"color: #008080; text-decoration-color: #008080; font-weight: bold\">0.09571</span>         <span style=\"font-weight: bold\">[</span><span style=\"color: #008080; text-decoration-color: #008080; font-weight: bold\">7</span>, <span style=\"color: #008080; text-decoration-color: #008080; font-weight: bold\">17</span><span style=\"font-weight: bold\">]</span>\n",
       "</pre>\n"
      ],
      "text/plain": [
       "\u001b[1;36m0.09571\u001b[0m         \u001b[1m[\u001b[0m\u001b[1;36m7\u001b[0m, \u001b[1;36m17\u001b[0m\u001b[1m]\u001b[0m\n"
      ]
     },
     "metadata": {},
     "output_type": "display_data"
    },
    {
     "data": {
      "text/html": [
       "<pre style=\"white-space:pre;overflow-x:auto;line-height:normal;font-family:Menlo,'DejaVu Sans Mono',consolas,'Courier New',monospace\"><span style=\"color: #008080; text-decoration-color: #008080; font-weight: bold\">0.09662</span>         <span style=\"font-weight: bold\">[</span><span style=\"color: #008080; text-decoration-color: #008080; font-weight: bold\">15</span>, <span style=\"color: #008080; text-decoration-color: #008080; font-weight: bold\">43</span>, <span style=\"color: #008080; text-decoration-color: #008080; font-weight: bold\">49</span><span style=\"font-weight: bold\">]</span>\n",
       "</pre>\n"
      ],
      "text/plain": [
       "\u001b[1;36m0.09662\u001b[0m         \u001b[1m[\u001b[0m\u001b[1;36m15\u001b[0m, \u001b[1;36m43\u001b[0m, \u001b[1;36m49\u001b[0m\u001b[1m]\u001b[0m\n"
      ]
     },
     "metadata": {},
     "output_type": "display_data"
    },
    {
     "data": {
      "text/html": [
       "<pre style=\"white-space:pre;overflow-x:auto;line-height:normal;font-family:Menlo,'DejaVu Sans Mono',consolas,'Courier New',monospace\"><span style=\"color: #008080; text-decoration-color: #008080; font-weight: bold\">0.09664</span>         <span style=\"font-weight: bold\">[</span><span style=\"color: #008080; text-decoration-color: #008080; font-weight: bold\">26</span>, <span style=\"color: #008080; text-decoration-color: #008080; font-weight: bold\">31</span><span style=\"font-weight: bold\">]</span>\n",
       "</pre>\n"
      ],
      "text/plain": [
       "\u001b[1;36m0.09664\u001b[0m         \u001b[1m[\u001b[0m\u001b[1;36m26\u001b[0m, \u001b[1;36m31\u001b[0m\u001b[1m]\u001b[0m\n"
      ]
     },
     "metadata": {},
     "output_type": "display_data"
    },
    {
     "data": {
      "text/html": [
       "<pre style=\"white-space:pre;overflow-x:auto;line-height:normal;font-family:Menlo,'DejaVu Sans Mono',consolas,'Courier New',monospace\"><span style=\"color: #008080; text-decoration-color: #008080; font-weight: bold\">0.09664</span>         <span style=\"font-weight: bold\">[</span><span style=\"color: #008080; text-decoration-color: #008080; font-weight: bold\">16</span>, <span style=\"color: #008080; text-decoration-color: #008080; font-weight: bold\">26</span>, <span style=\"color: #008080; text-decoration-color: #008080; font-weight: bold\">31</span><span style=\"font-weight: bold\">]</span>\n",
       "</pre>\n"
      ],
      "text/plain": [
       "\u001b[1;36m0.09664\u001b[0m         \u001b[1m[\u001b[0m\u001b[1;36m16\u001b[0m, \u001b[1;36m26\u001b[0m, \u001b[1;36m31\u001b[0m\u001b[1m]\u001b[0m\n"
      ]
     },
     "metadata": {},
     "output_type": "display_data"
    },
    {
     "data": {
      "text/html": [
       "<pre style=\"white-space:pre;overflow-x:auto;line-height:normal;font-family:Menlo,'DejaVu Sans Mono',consolas,'Courier New',monospace\"><span style=\"color: #008080; text-decoration-color: #008080; font-weight: bold\">0.09708</span>         <span style=\"font-weight: bold\">[</span><span style=\"color: #008080; text-decoration-color: #008080; font-weight: bold\">29</span>, <span style=\"color: #008080; text-decoration-color: #008080; font-weight: bold\">30</span><span style=\"font-weight: bold\">]</span>\n",
       "</pre>\n"
      ],
      "text/plain": [
       "\u001b[1;36m0.09708\u001b[0m         \u001b[1m[\u001b[0m\u001b[1;36m29\u001b[0m, \u001b[1;36m30\u001b[0m\u001b[1m]\u001b[0m\n"
      ]
     },
     "metadata": {},
     "output_type": "display_data"
    },
    {
     "data": {
      "text/html": [
       "<pre style=\"white-space:pre;overflow-x:auto;line-height:normal;font-family:Menlo,'DejaVu Sans Mono',consolas,'Courier New',monospace\"><span style=\"color: #008080; text-decoration-color: #008080; font-weight: bold\">0.09708</span>         <span style=\"font-weight: bold\">[</span><span style=\"color: #008080; text-decoration-color: #008080; font-weight: bold\">29</span>, <span style=\"color: #008080; text-decoration-color: #008080; font-weight: bold\">30</span>, <span style=\"color: #008080; text-decoration-color: #008080; font-weight: bold\">49</span><span style=\"font-weight: bold\">]</span>\n",
       "</pre>\n"
      ],
      "text/plain": [
       "\u001b[1;36m0.09708\u001b[0m         \u001b[1m[\u001b[0m\u001b[1;36m29\u001b[0m, \u001b[1;36m30\u001b[0m, \u001b[1;36m49\u001b[0m\u001b[1m]\u001b[0m\n"
      ]
     },
     "metadata": {},
     "output_type": "display_data"
    },
    {
     "data": {
      "text/html": [
       "<pre style=\"white-space:pre;overflow-x:auto;line-height:normal;font-family:Menlo,'DejaVu Sans Mono',consolas,'Courier New',monospace\"><span style=\"color: #008080; text-decoration-color: #008080; font-weight: bold\">0.09894</span>         <span style=\"font-weight: bold\">[</span><span style=\"color: #008080; text-decoration-color: #008080; font-weight: bold\">26</span>, <span style=\"color: #008080; text-decoration-color: #008080; font-weight: bold\">48</span><span style=\"font-weight: bold\">]</span>\n",
       "</pre>\n"
      ],
      "text/plain": [
       "\u001b[1;36m0.09894\u001b[0m         \u001b[1m[\u001b[0m\u001b[1;36m26\u001b[0m, \u001b[1;36m48\u001b[0m\u001b[1m]\u001b[0m\n"
      ]
     },
     "metadata": {},
     "output_type": "display_data"
    },
    {
     "data": {
      "text/html": [
       "<pre style=\"white-space:pre;overflow-x:auto;line-height:normal;font-family:Menlo,'DejaVu Sans Mono',consolas,'Courier New',monospace\"><span style=\"color: #008080; text-decoration-color: #008080; font-weight: bold\">0.09913</span>         <span style=\"font-weight: bold\">[</span><span style=\"color: #008080; text-decoration-color: #008080; font-weight: bold\">10</span>, <span style=\"color: #008080; text-decoration-color: #008080; font-weight: bold\">11</span><span style=\"font-weight: bold\">]</span>\n",
       "</pre>\n"
      ],
      "text/plain": [
       "\u001b[1;36m0.09913\u001b[0m         \u001b[1m[\u001b[0m\u001b[1;36m10\u001b[0m, \u001b[1;36m11\u001b[0m\u001b[1m]\u001b[0m\n"
      ]
     },
     "metadata": {},
     "output_type": "display_data"
    },
    {
     "data": {
      "text/html": [
       "<pre style=\"white-space:pre;overflow-x:auto;line-height:normal;font-family:Menlo,'DejaVu Sans Mono',consolas,'Courier New',monospace\"><span style=\"color: #008080; text-decoration-color: #008080; font-weight: bold\">0.09959</span>         <span style=\"font-weight: bold\">[</span><span style=\"color: #008080; text-decoration-color: #008080; font-weight: bold\">26</span>, <span style=\"color: #008080; text-decoration-color: #008080; font-weight: bold\">31</span>, <span style=\"color: #008080; text-decoration-color: #008080; font-weight: bold\">48</span><span style=\"font-weight: bold\">]</span>\n",
       "</pre>\n"
      ],
      "text/plain": [
       "\u001b[1;36m0.09959\u001b[0m         \u001b[1m[\u001b[0m\u001b[1;36m26\u001b[0m, \u001b[1;36m31\u001b[0m, \u001b[1;36m48\u001b[0m\u001b[1m]\u001b[0m\n"
      ]
     },
     "metadata": {},
     "output_type": "display_data"
    },
    {
     "data": {
      "text/html": [
       "<pre style=\"white-space:pre;overflow-x:auto;line-height:normal;font-family:Menlo,'DejaVu Sans Mono',consolas,'Courier New',monospace\"><span style=\"color: #008080; text-decoration-color: #008080; font-weight: bold\">0.09996</span>         <span style=\"font-weight: bold\">[</span><span style=\"color: #008080; text-decoration-color: #008080; font-weight: bold\">40</span>, <span style=\"color: #008080; text-decoration-color: #008080; font-weight: bold\">43</span><span style=\"font-weight: bold\">]</span>\n",
       "</pre>\n"
      ],
      "text/plain": [
       "\u001b[1;36m0.09996\u001b[0m         \u001b[1m[\u001b[0m\u001b[1;36m40\u001b[0m, \u001b[1;36m43\u001b[0m\u001b[1m]\u001b[0m\n"
      ]
     },
     "metadata": {},
     "output_type": "display_data"
    },
    {
     "data": {
      "text/html": [
       "<pre style=\"white-space:pre;overflow-x:auto;line-height:normal;font-family:Menlo,'DejaVu Sans Mono',consolas,'Courier New',monospace\"><span style=\"color: #008080; text-decoration-color: #008080; font-weight: bold\">0.10239</span>         <span style=\"font-weight: bold\">[</span><span style=\"color: #008080; text-decoration-color: #008080; font-weight: bold\">39</span>, <span style=\"color: #008080; text-decoration-color: #008080; font-weight: bold\">44</span><span style=\"font-weight: bold\">]</span>\n",
       "</pre>\n"
      ],
      "text/plain": [
       "\u001b[1;36m0.10239\u001b[0m         \u001b[1m[\u001b[0m\u001b[1;36m39\u001b[0m, \u001b[1;36m44\u001b[0m\u001b[1m]\u001b[0m\n"
      ]
     },
     "metadata": {},
     "output_type": "display_data"
    },
    {
     "data": {
      "text/html": [
       "<pre style=\"white-space:pre;overflow-x:auto;line-height:normal;font-family:Menlo,'DejaVu Sans Mono',consolas,'Courier New',monospace\"><span style=\"color: #008080; text-decoration-color: #008080; font-weight: bold\">0.10241</span>         <span style=\"font-weight: bold\">[</span><span style=\"color: #008080; text-decoration-color: #008080; font-weight: bold\">30</span>, <span style=\"color: #008080; text-decoration-color: #008080; font-weight: bold\">39</span>, <span style=\"color: #008080; text-decoration-color: #008080; font-weight: bold\">44</span><span style=\"font-weight: bold\">]</span>\n",
       "</pre>\n"
      ],
      "text/plain": [
       "\u001b[1;36m0.10241\u001b[0m         \u001b[1m[\u001b[0m\u001b[1;36m30\u001b[0m, \u001b[1;36m39\u001b[0m, \u001b[1;36m44\u001b[0m\u001b[1m]\u001b[0m\n"
      ]
     },
     "metadata": {},
     "output_type": "display_data"
    },
    {
     "data": {
      "text/html": [
       "<pre style=\"white-space:pre;overflow-x:auto;line-height:normal;font-family:Menlo,'DejaVu Sans Mono',consolas,'Courier New',monospace\"><span style=\"color: #008080; text-decoration-color: #008080; font-weight: bold\">0.10297</span>         <span style=\"font-weight: bold\">[</span><span style=\"color: #008080; text-decoration-color: #008080; font-weight: bold\">21</span>, <span style=\"color: #008080; text-decoration-color: #008080; font-weight: bold\">23</span><span style=\"font-weight: bold\">]</span>\n",
       "</pre>\n"
      ],
      "text/plain": [
       "\u001b[1;36m0.10297\u001b[0m         \u001b[1m[\u001b[0m\u001b[1;36m21\u001b[0m, \u001b[1;36m23\u001b[0m\u001b[1m]\u001b[0m\n"
      ]
     },
     "metadata": {},
     "output_type": "display_data"
    },
    {
     "data": {
      "text/html": [
       "<pre style=\"white-space:pre;overflow-x:auto;line-height:normal;font-family:Menlo,'DejaVu Sans Mono',consolas,'Courier New',monospace\"><span style=\"color: #008080; text-decoration-color: #008080; font-weight: bold\">0.10297</span>         <span style=\"font-weight: bold\">[</span><span style=\"color: #008080; text-decoration-color: #008080; font-weight: bold\">21</span>, <span style=\"color: #008080; text-decoration-color: #008080; font-weight: bold\">23</span>, <span style=\"color: #008080; text-decoration-color: #008080; font-weight: bold\">25</span><span style=\"font-weight: bold\">]</span>\n",
       "</pre>\n"
      ],
      "text/plain": [
       "\u001b[1;36m0.10297\u001b[0m         \u001b[1m[\u001b[0m\u001b[1;36m21\u001b[0m, \u001b[1;36m23\u001b[0m, \u001b[1;36m25\u001b[0m\u001b[1m]\u001b[0m\n"
      ]
     },
     "metadata": {},
     "output_type": "display_data"
    },
    {
     "data": {
      "text/html": [
       "<pre style=\"white-space:pre;overflow-x:auto;line-height:normal;font-family:Menlo,'DejaVu Sans Mono',consolas,'Courier New',monospace\"><span style=\"color: #008080; text-decoration-color: #008080; font-weight: bold\">0.10433</span>         <span style=\"font-weight: bold\">[</span><span style=\"color: #008080; text-decoration-color: #008080; font-weight: bold\">30</span>, <span style=\"color: #008080; text-decoration-color: #008080; font-weight: bold\">43</span>, <span style=\"color: #008080; text-decoration-color: #008080; font-weight: bold\">49</span><span style=\"font-weight: bold\">]</span>\n",
       "</pre>\n"
      ],
      "text/plain": [
       "\u001b[1;36m0.10433\u001b[0m         \u001b[1m[\u001b[0m\u001b[1;36m30\u001b[0m, \u001b[1;36m43\u001b[0m, \u001b[1;36m49\u001b[0m\u001b[1m]\u001b[0m\n"
      ]
     },
     "metadata": {},
     "output_type": "display_data"
    },
    {
     "data": {
      "text/html": [
       "<pre style=\"white-space:pre;overflow-x:auto;line-height:normal;font-family:Menlo,'DejaVu Sans Mono',consolas,'Courier New',monospace\"><span style=\"color: #008080; text-decoration-color: #008080; font-weight: bold\">0.10483</span>         <span style=\"font-weight: bold\">[</span><span style=\"color: #008080; text-decoration-color: #008080; font-weight: bold\">8</span>, <span style=\"color: #008080; text-decoration-color: #008080; font-weight: bold\">11</span><span style=\"font-weight: bold\">]</span>\n",
       "</pre>\n"
      ],
      "text/plain": [
       "\u001b[1;36m0.10483\u001b[0m         \u001b[1m[\u001b[0m\u001b[1;36m8\u001b[0m, \u001b[1;36m11\u001b[0m\u001b[1m]\u001b[0m\n"
      ]
     },
     "metadata": {},
     "output_type": "display_data"
    },
    {
     "data": {
      "text/html": [
       "<pre style=\"white-space:pre;overflow-x:auto;line-height:normal;font-family:Menlo,'DejaVu Sans Mono',consolas,'Courier New',monospace\"><span style=\"color: #008080; text-decoration-color: #008080; font-weight: bold\">0.10489</span>         <span style=\"font-weight: bold\">[</span><span style=\"color: #008080; text-decoration-color: #008080; font-weight: bold\">15</span>, <span style=\"color: #008080; text-decoration-color: #008080; font-weight: bold\">40</span><span style=\"font-weight: bold\">]</span>\n",
       "</pre>\n"
      ],
      "text/plain": [
       "\u001b[1;36m0.10489\u001b[0m         \u001b[1m[\u001b[0m\u001b[1;36m15\u001b[0m, \u001b[1;36m40\u001b[0m\u001b[1m]\u001b[0m\n"
      ]
     },
     "metadata": {},
     "output_type": "display_data"
    },
    {
     "data": {
      "text/html": [
       "<pre style=\"white-space:pre;overflow-x:auto;line-height:normal;font-family:Menlo,'DejaVu Sans Mono',consolas,'Courier New',monospace\"><span style=\"color: #008080; text-decoration-color: #008080; font-weight: bold\">0.10489</span>         <span style=\"font-weight: bold\">[</span><span style=\"color: #008080; text-decoration-color: #008080; font-weight: bold\">15</span>, <span style=\"color: #008080; text-decoration-color: #008080; font-weight: bold\">16</span>, <span style=\"color: #008080; text-decoration-color: #008080; font-weight: bold\">40</span><span style=\"font-weight: bold\">]</span>\n",
       "</pre>\n"
      ],
      "text/plain": [
       "\u001b[1;36m0.10489\u001b[0m         \u001b[1m[\u001b[0m\u001b[1;36m15\u001b[0m, \u001b[1;36m16\u001b[0m, \u001b[1;36m40\u001b[0m\u001b[1m]\u001b[0m\n"
      ]
     },
     "metadata": {},
     "output_type": "display_data"
    },
    {
     "data": {
      "text/html": [
       "<pre style=\"white-space:pre;overflow-x:auto;line-height:normal;font-family:Menlo,'DejaVu Sans Mono',consolas,'Courier New',monospace\"><span style=\"color: #008080; text-decoration-color: #008080; font-weight: bold\">0.10560</span>         <span style=\"font-weight: bold\">[</span><span style=\"color: #008080; text-decoration-color: #008080; font-weight: bold\">20</span>, <span style=\"color: #008080; text-decoration-color: #008080; font-weight: bold\">21</span><span style=\"font-weight: bold\">]</span>\n",
       "</pre>\n"
      ],
      "text/plain": [
       "\u001b[1;36m0.10560\u001b[0m         \u001b[1m[\u001b[0m\u001b[1;36m20\u001b[0m, \u001b[1;36m21\u001b[0m\u001b[1m]\u001b[0m\n"
      ]
     },
     "metadata": {},
     "output_type": "display_data"
    },
    {
     "data": {
      "text/html": [
       "<pre style=\"white-space:pre;overflow-x:auto;line-height:normal;font-family:Menlo,'DejaVu Sans Mono',consolas,'Courier New',monospace\"><span style=\"color: #008080; text-decoration-color: #008080; font-weight: bold\">0.10565</span>         <span style=\"font-weight: bold\">[</span><span style=\"color: #008080; text-decoration-color: #008080; font-weight: bold\">5</span>, <span style=\"color: #008080; text-decoration-color: #008080; font-weight: bold\">20</span>, <span style=\"color: #008080; text-decoration-color: #008080; font-weight: bold\">21</span><span style=\"font-weight: bold\">]</span>\n",
       "</pre>\n"
      ],
      "text/plain": [
       "\u001b[1;36m0.10565\u001b[0m         \u001b[1m[\u001b[0m\u001b[1;36m5\u001b[0m, \u001b[1;36m20\u001b[0m, \u001b[1;36m21\u001b[0m\u001b[1m]\u001b[0m\n"
      ]
     },
     "metadata": {},
     "output_type": "display_data"
    },
    {
     "data": {
      "text/html": [
       "<pre style=\"white-space:pre;overflow-x:auto;line-height:normal;font-family:Menlo,'DejaVu Sans Mono',consolas,'Courier New',monospace\"><span style=\"color: #008080; text-decoration-color: #008080; font-weight: bold\">0.10590</span>         <span style=\"font-weight: bold\">[</span><span style=\"color: #008080; text-decoration-color: #008080; font-weight: bold\">18</span>, <span style=\"color: #008080; text-decoration-color: #008080; font-weight: bold\">43</span><span style=\"font-weight: bold\">]</span>\n",
       "</pre>\n"
      ],
      "text/plain": [
       "\u001b[1;36m0.10590\u001b[0m         \u001b[1m[\u001b[0m\u001b[1;36m18\u001b[0m, \u001b[1;36m43\u001b[0m\u001b[1m]\u001b[0m\n"
      ]
     },
     "metadata": {},
     "output_type": "display_data"
    },
    {
     "data": {
      "text/html": [
       "<pre style=\"white-space:pre;overflow-x:auto;line-height:normal;font-family:Menlo,'DejaVu Sans Mono',consolas,'Courier New',monospace\"><span style=\"color: #008080; text-decoration-color: #008080; font-weight: bold\">0.10590</span>         <span style=\"font-weight: bold\">[</span><span style=\"color: #008080; text-decoration-color: #008080; font-weight: bold\">0</span>, <span style=\"color: #008080; text-decoration-color: #008080; font-weight: bold\">18</span>, <span style=\"color: #008080; text-decoration-color: #008080; font-weight: bold\">43</span><span style=\"font-weight: bold\">]</span>\n",
       "</pre>\n"
      ],
      "text/plain": [
       "\u001b[1;36m0.10590\u001b[0m         \u001b[1m[\u001b[0m\u001b[1;36m0\u001b[0m, \u001b[1;36m18\u001b[0m, \u001b[1;36m43\u001b[0m\u001b[1m]\u001b[0m\n"
      ]
     },
     "metadata": {},
     "output_type": "display_data"
    },
    {
     "data": {
      "text/html": [
       "<pre style=\"white-space:pre;overflow-x:auto;line-height:normal;font-family:Menlo,'DejaVu Sans Mono',consolas,'Courier New',monospace\"><span style=\"color: #008080; text-decoration-color: #008080; font-weight: bold\">0.11006</span>         <span style=\"font-weight: bold\">[</span><span style=\"color: #008080; text-decoration-color: #008080; font-weight: bold\">17</span>, <span style=\"color: #008080; text-decoration-color: #008080; font-weight: bold\">40</span><span style=\"font-weight: bold\">]</span>\n",
       "</pre>\n"
      ],
      "text/plain": [
       "\u001b[1;36m0.11006\u001b[0m         \u001b[1m[\u001b[0m\u001b[1;36m17\u001b[0m, \u001b[1;36m40\u001b[0m\u001b[1m]\u001b[0m\n"
      ]
     },
     "metadata": {},
     "output_type": "display_data"
    },
    {
     "data": {
      "text/html": [
       "<pre style=\"white-space:pre;overflow-x:auto;line-height:normal;font-family:Menlo,'DejaVu Sans Mono',consolas,'Courier New',monospace\"><span style=\"color: #008080; text-decoration-color: #008080; font-weight: bold\">0.11006</span>         <span style=\"font-weight: bold\">[</span><span style=\"color: #008080; text-decoration-color: #008080; font-weight: bold\">7</span>, <span style=\"color: #008080; text-decoration-color: #008080; font-weight: bold\">17</span>, <span style=\"color: #008080; text-decoration-color: #008080; font-weight: bold\">40</span><span style=\"font-weight: bold\">]</span>\n",
       "</pre>\n"
      ],
      "text/plain": [
       "\u001b[1;36m0.11006\u001b[0m         \u001b[1m[\u001b[0m\u001b[1;36m7\u001b[0m, \u001b[1;36m17\u001b[0m, \u001b[1;36m40\u001b[0m\u001b[1m]\u001b[0m\n"
      ]
     },
     "metadata": {},
     "output_type": "display_data"
    },
    {
     "data": {
      "text/html": [
       "<pre style=\"white-space:pre;overflow-x:auto;line-height:normal;font-family:Menlo,'DejaVu Sans Mono',consolas,'Courier New',monospace\"><span style=\"color: #008080; text-decoration-color: #008080; font-weight: bold\">0.11050</span>         <span style=\"font-weight: bold\">[</span><span style=\"color: #008080; text-decoration-color: #008080; font-weight: bold\">21</span>, <span style=\"color: #008080; text-decoration-color: #008080; font-weight: bold\">35</span><span style=\"font-weight: bold\">]</span>\n",
       "</pre>\n"
      ],
      "text/plain": [
       "\u001b[1;36m0.11050\u001b[0m         \u001b[1m[\u001b[0m\u001b[1;36m21\u001b[0m, \u001b[1;36m35\u001b[0m\u001b[1m]\u001b[0m\n"
      ]
     },
     "metadata": {},
     "output_type": "display_data"
    },
    {
     "data": {
      "text/html": [
       "<pre style=\"white-space:pre;overflow-x:auto;line-height:normal;font-family:Menlo,'DejaVu Sans Mono',consolas,'Courier New',monospace\"><span style=\"color: #008080; text-decoration-color: #008080; font-weight: bold\">0.11050</span>         <span style=\"font-weight: bold\">[</span><span style=\"color: #008080; text-decoration-color: #008080; font-weight: bold\">5</span>, <span style=\"color: #008080; text-decoration-color: #008080; font-weight: bold\">21</span>, <span style=\"color: #008080; text-decoration-color: #008080; font-weight: bold\">35</span><span style=\"font-weight: bold\">]</span>\n",
       "</pre>\n"
      ],
      "text/plain": [
       "\u001b[1;36m0.11050\u001b[0m         \u001b[1m[\u001b[0m\u001b[1;36m5\u001b[0m, \u001b[1;36m21\u001b[0m, \u001b[1;36m35\u001b[0m\u001b[1m]\u001b[0m\n"
      ]
     },
     "metadata": {},
     "output_type": "display_data"
    },
    {
     "data": {
      "text/html": [
       "<pre style=\"white-space:pre;overflow-x:auto;line-height:normal;font-family:Menlo,'DejaVu Sans Mono',consolas,'Courier New',monospace\"><span style=\"color: #008080; text-decoration-color: #008080; font-weight: bold\">0.11540</span>         <span style=\"font-weight: bold\">[</span><span style=\"color: #008080; text-decoration-color: #008080; font-weight: bold\">15</span>, <span style=\"color: #008080; text-decoration-color: #008080; font-weight: bold\">40</span>, <span style=\"color: #008080; text-decoration-color: #008080; font-weight: bold\">43</span><span style=\"font-weight: bold\">]</span>\n",
       "</pre>\n"
      ],
      "text/plain": [
       "\u001b[1;36m0.11540\u001b[0m         \u001b[1m[\u001b[0m\u001b[1;36m15\u001b[0m, \u001b[1;36m40\u001b[0m, \u001b[1;36m43\u001b[0m\u001b[1m]\u001b[0m\n"
      ]
     },
     "metadata": {},
     "output_type": "display_data"
    },
    {
     "data": {
      "text/html": [
       "<pre style=\"white-space:pre;overflow-x:auto;line-height:normal;font-family:Menlo,'DejaVu Sans Mono',consolas,'Courier New',monospace\"><span style=\"color: #008080; text-decoration-color: #008080; font-weight: bold\">0.11999</span>         <span style=\"font-weight: bold\">[</span><span style=\"color: #008080; text-decoration-color: #008080; font-weight: bold\">36</span>, <span style=\"color: #008080; text-decoration-color: #008080; font-weight: bold\">41</span><span style=\"font-weight: bold\">]</span>\n",
       "</pre>\n"
      ],
      "text/plain": [
       "\u001b[1;36m0.11999\u001b[0m         \u001b[1m[\u001b[0m\u001b[1;36m36\u001b[0m, \u001b[1;36m41\u001b[0m\u001b[1m]\u001b[0m\n"
      ]
     },
     "metadata": {},
     "output_type": "display_data"
    },
    {
     "data": {
      "text/html": [
       "<pre style=\"white-space:pre;overflow-x:auto;line-height:normal;font-family:Menlo,'DejaVu Sans Mono',consolas,'Courier New',monospace\"><span style=\"color: #008080; text-decoration-color: #008080; font-weight: bold\">0.12116</span>         <span style=\"font-weight: bold\">[</span><span style=\"color: #008080; text-decoration-color: #008080; font-weight: bold\">17</span>, <span style=\"color: #008080; text-decoration-color: #008080; font-weight: bold\">43</span><span style=\"font-weight: bold\">]</span>\n",
       "</pre>\n"
      ],
      "text/plain": [
       "\u001b[1;36m0.12116\u001b[0m         \u001b[1m[\u001b[0m\u001b[1;36m17\u001b[0m, \u001b[1;36m43\u001b[0m\u001b[1m]\u001b[0m\n"
      ]
     },
     "metadata": {},
     "output_type": "display_data"
    },
    {
     "data": {
      "text/html": [
       "<pre style=\"white-space:pre;overflow-x:auto;line-height:normal;font-family:Menlo,'DejaVu Sans Mono',consolas,'Courier New',monospace\"><span style=\"color: #008080; text-decoration-color: #008080; font-weight: bold\">0.12116</span>         <span style=\"font-weight: bold\">[</span><span style=\"color: #008080; text-decoration-color: #008080; font-weight: bold\">0</span>, <span style=\"color: #008080; text-decoration-color: #008080; font-weight: bold\">17</span>, <span style=\"color: #008080; text-decoration-color: #008080; font-weight: bold\">43</span><span style=\"font-weight: bold\">]</span>\n",
       "</pre>\n"
      ],
      "text/plain": [
       "\u001b[1;36m0.12116\u001b[0m         \u001b[1m[\u001b[0m\u001b[1;36m0\u001b[0m, \u001b[1;36m17\u001b[0m, \u001b[1;36m43\u001b[0m\u001b[1m]\u001b[0m\n"
      ]
     },
     "metadata": {},
     "output_type": "display_data"
    },
    {
     "data": {
      "text/html": [
       "<pre style=\"white-space:pre;overflow-x:auto;line-height:normal;font-family:Menlo,'DejaVu Sans Mono',consolas,'Courier New',monospace\"><span style=\"color: #008080; text-decoration-color: #008080; font-weight: bold\">0.12187</span>         <span style=\"font-weight: bold\">[</span><span style=\"color: #008080; text-decoration-color: #008080; font-weight: bold\">9</span>, <span style=\"color: #008080; text-decoration-color: #008080; font-weight: bold\">25</span><span style=\"font-weight: bold\">]</span>\n",
       "</pre>\n"
      ],
      "text/plain": [
       "\u001b[1;36m0.12187\u001b[0m         \u001b[1m[\u001b[0m\u001b[1;36m9\u001b[0m, \u001b[1;36m25\u001b[0m\u001b[1m]\u001b[0m\n"
      ]
     },
     "metadata": {},
     "output_type": "display_data"
    },
    {
     "data": {
      "text/html": [
       "<pre style=\"white-space:pre;overflow-x:auto;line-height:normal;font-family:Menlo,'DejaVu Sans Mono',consolas,'Courier New',monospace\"><span style=\"color: #008080; text-decoration-color: #008080; font-weight: bold\">0.12282</span>         <span style=\"font-weight: bold\">[</span><span style=\"color: #008080; text-decoration-color: #008080; font-weight: bold\">14</span>, <span style=\"color: #008080; text-decoration-color: #008080; font-weight: bold\">26</span><span style=\"font-weight: bold\">]</span>\n",
       "</pre>\n"
      ],
      "text/plain": [
       "\u001b[1;36m0.12282\u001b[0m         \u001b[1m[\u001b[0m\u001b[1;36m14\u001b[0m, \u001b[1;36m26\u001b[0m\u001b[1m]\u001b[0m\n"
      ]
     },
     "metadata": {},
     "output_type": "display_data"
    },
    {
     "data": {
      "text/html": [
       "<pre style=\"white-space:pre;overflow-x:auto;line-height:normal;font-family:Menlo,'DejaVu Sans Mono',consolas,'Courier New',monospace\"><span style=\"color: #008080; text-decoration-color: #008080; font-weight: bold\">0.12312</span>         <span style=\"font-weight: bold\">[</span><span style=\"color: #008080; text-decoration-color: #008080; font-weight: bold\">14</span>, <span style=\"color: #008080; text-decoration-color: #008080; font-weight: bold\">26</span>, <span style=\"color: #008080; text-decoration-color: #008080; font-weight: bold\">48</span><span style=\"font-weight: bold\">]</span>\n",
       "</pre>\n"
      ],
      "text/plain": [
       "\u001b[1;36m0.12312\u001b[0m         \u001b[1m[\u001b[0m\u001b[1;36m14\u001b[0m, \u001b[1;36m26\u001b[0m, \u001b[1;36m48\u001b[0m\u001b[1m]\u001b[0m\n"
      ]
     },
     "metadata": {},
     "output_type": "display_data"
    },
    {
     "data": {
      "text/html": [
       "<pre style=\"white-space:pre;overflow-x:auto;line-height:normal;font-family:Menlo,'DejaVu Sans Mono',consolas,'Courier New',monospace\"><span style=\"color: #008080; text-decoration-color: #008080; font-weight: bold\">0.12371</span>         <span style=\"font-weight: bold\">[</span><span style=\"color: #008080; text-decoration-color: #008080; font-weight: bold\">18</span>, <span style=\"color: #008080; text-decoration-color: #008080; font-weight: bold\">44</span><span style=\"font-weight: bold\">]</span>\n",
       "</pre>\n"
      ],
      "text/plain": [
       "\u001b[1;36m0.12371\u001b[0m         \u001b[1m[\u001b[0m\u001b[1;36m18\u001b[0m, \u001b[1;36m44\u001b[0m\u001b[1m]\u001b[0m\n"
      ]
     },
     "metadata": {},
     "output_type": "display_data"
    },
    {
     "data": {
      "text/html": [
       "<pre style=\"white-space:pre;overflow-x:auto;line-height:normal;font-family:Menlo,'DejaVu Sans Mono',consolas,'Courier New',monospace\"><span style=\"color: #008080; text-decoration-color: #008080; font-weight: bold\">0.12371</span>         <span style=\"font-weight: bold\">[</span><span style=\"color: #008080; text-decoration-color: #008080; font-weight: bold\">18</span>, <span style=\"color: #008080; text-decoration-color: #008080; font-weight: bold\">28</span>, <span style=\"color: #008080; text-decoration-color: #008080; font-weight: bold\">44</span><span style=\"font-weight: bold\">]</span>\n",
       "</pre>\n"
      ],
      "text/plain": [
       "\u001b[1;36m0.12371\u001b[0m         \u001b[1m[\u001b[0m\u001b[1;36m18\u001b[0m, \u001b[1;36m28\u001b[0m, \u001b[1;36m44\u001b[0m\u001b[1m]\u001b[0m\n"
      ]
     },
     "metadata": {},
     "output_type": "display_data"
    },
    {
     "data": {
      "text/html": [
       "<pre style=\"white-space:pre;overflow-x:auto;line-height:normal;font-family:Menlo,'DejaVu Sans Mono',consolas,'Courier New',monospace\"><span style=\"color: #008080; text-decoration-color: #008080; font-weight: bold\">0.12377</span>         <span style=\"font-weight: bold\">[</span><span style=\"color: #008080; text-decoration-color: #008080; font-weight: bold\">17</span>, <span style=\"color: #008080; text-decoration-color: #008080; font-weight: bold\">40</span>, <span style=\"color: #008080; text-decoration-color: #008080; font-weight: bold\">43</span><span style=\"font-weight: bold\">]</span>\n",
       "</pre>\n"
      ],
      "text/plain": [
       "\u001b[1;36m0.12377\u001b[0m         \u001b[1m[\u001b[0m\u001b[1;36m17\u001b[0m, \u001b[1;36m40\u001b[0m, \u001b[1;36m43\u001b[0m\u001b[1m]\u001b[0m\n"
      ]
     },
     "metadata": {},
     "output_type": "display_data"
    },
    {
     "data": {
      "text/html": [
       "<pre style=\"white-space:pre;overflow-x:auto;line-height:normal;font-family:Menlo,'DejaVu Sans Mono',consolas,'Courier New',monospace\"><span style=\"color: #008080; text-decoration-color: #008080; font-weight: bold\">0.12487</span>         <span style=\"font-weight: bold\">[</span><span style=\"color: #008080; text-decoration-color: #008080; font-weight: bold\">18</span>, <span style=\"color: #008080; text-decoration-color: #008080; font-weight: bold\">30</span><span style=\"font-weight: bold\">]</span>\n",
       "</pre>\n"
      ],
      "text/plain": [
       "\u001b[1;36m0.12487\u001b[0m         \u001b[1m[\u001b[0m\u001b[1;36m18\u001b[0m, \u001b[1;36m30\u001b[0m\u001b[1m]\u001b[0m\n"
      ]
     },
     "metadata": {},
     "output_type": "display_data"
    },
    {
     "data": {
      "text/html": [
       "<pre style=\"white-space:pre;overflow-x:auto;line-height:normal;font-family:Menlo,'DejaVu Sans Mono',consolas,'Courier New',monospace\"><span style=\"color: #008080; text-decoration-color: #008080; font-weight: bold\">0.12487</span>         <span style=\"font-weight: bold\">[</span><span style=\"color: #008080; text-decoration-color: #008080; font-weight: bold\">18</span>, <span style=\"color: #008080; text-decoration-color: #008080; font-weight: bold\">30</span>, <span style=\"color: #008080; text-decoration-color: #008080; font-weight: bold\">44</span><span style=\"font-weight: bold\">]</span>\n",
       "</pre>\n"
      ],
      "text/plain": [
       "\u001b[1;36m0.12487\u001b[0m         \u001b[1m[\u001b[0m\u001b[1;36m18\u001b[0m, \u001b[1;36m30\u001b[0m, \u001b[1;36m44\u001b[0m\u001b[1m]\u001b[0m\n"
      ]
     },
     "metadata": {},
     "output_type": "display_data"
    },
    {
     "data": {
      "text/html": [
       "<pre style=\"white-space:pre;overflow-x:auto;line-height:normal;font-family:Menlo,'DejaVu Sans Mono',consolas,'Courier New',monospace\"><span style=\"color: #008080; text-decoration-color: #008080; font-weight: bold\">0.12496</span>         <span style=\"font-weight: bold\">[</span><span style=\"color: #008080; text-decoration-color: #008080; font-weight: bold\">33</span>, <span style=\"color: #008080; text-decoration-color: #008080; font-weight: bold\">37</span><span style=\"font-weight: bold\">]</span>\n",
       "</pre>\n"
      ],
      "text/plain": [
       "\u001b[1;36m0.12496\u001b[0m         \u001b[1m[\u001b[0m\u001b[1;36m33\u001b[0m, \u001b[1;36m37\u001b[0m\u001b[1m]\u001b[0m\n"
      ]
     },
     "metadata": {},
     "output_type": "display_data"
    },
    {
     "data": {
      "text/html": [
       "<pre style=\"white-space:pre;overflow-x:auto;line-height:normal;font-family:Menlo,'DejaVu Sans Mono',consolas,'Courier New',monospace\"><span style=\"color: #008080; text-decoration-color: #008080; font-weight: bold\">0.12496</span>         <span style=\"font-weight: bold\">[</span><span style=\"color: #008080; text-decoration-color: #008080; font-weight: bold\">3</span>, <span style=\"color: #008080; text-decoration-color: #008080; font-weight: bold\">33</span>, <span style=\"color: #008080; text-decoration-color: #008080; font-weight: bold\">37</span><span style=\"font-weight: bold\">]</span>\n",
       "</pre>\n"
      ],
      "text/plain": [
       "\u001b[1;36m0.12496\u001b[0m         \u001b[1m[\u001b[0m\u001b[1;36m3\u001b[0m, \u001b[1;36m33\u001b[0m, \u001b[1;36m37\u001b[0m\u001b[1m]\u001b[0m\n"
      ]
     },
     "metadata": {},
     "output_type": "display_data"
    },
    {
     "data": {
      "text/html": [
       "<pre style=\"white-space:pre;overflow-x:auto;line-height:normal;font-family:Menlo,'DejaVu Sans Mono',consolas,'Courier New',monospace\"><span style=\"color: #008080; text-decoration-color: #008080; font-weight: bold\">0.12640</span>         <span style=\"font-weight: bold\">[</span><span style=\"color: #008080; text-decoration-color: #008080; font-weight: bold\">18</span>, <span style=\"color: #008080; text-decoration-color: #008080; font-weight: bold\">30</span>, <span style=\"color: #008080; text-decoration-color: #008080; font-weight: bold\">43</span><span style=\"font-weight: bold\">]</span>\n",
       "</pre>\n"
      ],
      "text/plain": [
       "\u001b[1;36m0.12640\u001b[0m         \u001b[1m[\u001b[0m\u001b[1;36m18\u001b[0m, \u001b[1;36m30\u001b[0m, \u001b[1;36m43\u001b[0m\u001b[1m]\u001b[0m\n"
      ]
     },
     "metadata": {},
     "output_type": "display_data"
    },
    {
     "data": {
      "text/html": [
       "<pre style=\"white-space:pre;overflow-x:auto;line-height:normal;font-family:Menlo,'DejaVu Sans Mono',consolas,'Courier New',monospace\"><span style=\"color: #008080; text-decoration-color: #008080; font-weight: bold\">0.12920</span>         <span style=\"font-weight: bold\">[</span><span style=\"color: #008080; text-decoration-color: #008080; font-weight: bold\">12</span>, <span style=\"color: #008080; text-decoration-color: #008080; font-weight: bold\">13</span><span style=\"font-weight: bold\">]</span>\n",
       "</pre>\n"
      ],
      "text/plain": [
       "\u001b[1;36m0.12920\u001b[0m         \u001b[1m[\u001b[0m\u001b[1;36m12\u001b[0m, \u001b[1;36m13\u001b[0m\u001b[1m]\u001b[0m\n"
      ]
     },
     "metadata": {},
     "output_type": "display_data"
    },
    {
     "data": {
      "text/html": [
       "<pre style=\"white-space:pre;overflow-x:auto;line-height:normal;font-family:Menlo,'DejaVu Sans Mono',consolas,'Courier New',monospace\"><span style=\"color: #008080; text-decoration-color: #008080; font-weight: bold\">0.13126</span>         <span style=\"font-weight: bold\">[</span><span style=\"color: #008080; text-decoration-color: #008080; font-weight: bold\">14</span>, <span style=\"color: #008080; text-decoration-color: #008080; font-weight: bold\">33</span><span style=\"font-weight: bold\">]</span>\n",
       "</pre>\n"
      ],
      "text/plain": [
       "\u001b[1;36m0.13126\u001b[0m         \u001b[1m[\u001b[0m\u001b[1;36m14\u001b[0m, \u001b[1;36m33\u001b[0m\u001b[1m]\u001b[0m\n"
      ]
     },
     "metadata": {},
     "output_type": "display_data"
    },
    {
     "data": {
      "text/html": [
       "<pre style=\"white-space:pre;overflow-x:auto;line-height:normal;font-family:Menlo,'DejaVu Sans Mono',consolas,'Courier New',monospace\"><span style=\"color: #008080; text-decoration-color: #008080; font-weight: bold\">0.13126</span>         <span style=\"font-weight: bold\">[</span><span style=\"color: #008080; text-decoration-color: #008080; font-weight: bold\">14</span>, <span style=\"color: #008080; text-decoration-color: #008080; font-weight: bold\">33</span>, <span style=\"color: #008080; text-decoration-color: #008080; font-weight: bold\">48</span><span style=\"font-weight: bold\">]</span>\n",
       "</pre>\n"
      ],
      "text/plain": [
       "\u001b[1;36m0.13126\u001b[0m         \u001b[1m[\u001b[0m\u001b[1;36m14\u001b[0m, \u001b[1;36m33\u001b[0m, \u001b[1;36m48\u001b[0m\u001b[1m]\u001b[0m\n"
      ]
     },
     "metadata": {},
     "output_type": "display_data"
    },
    {
     "data": {
      "text/html": [
       "<pre style=\"white-space:pre;overflow-x:auto;line-height:normal;font-family:Menlo,'DejaVu Sans Mono',consolas,'Courier New',monospace\"><span style=\"color: #008080; text-decoration-color: #008080; font-weight: bold\">0.13240</span>         <span style=\"font-weight: bold\">[</span><span style=\"color: #008080; text-decoration-color: #008080; font-weight: bold\">25</span>, <span style=\"color: #008080; text-decoration-color: #008080; font-weight: bold\">47</span><span style=\"font-weight: bold\">]</span>\n",
       "</pre>\n"
      ],
      "text/plain": [
       "\u001b[1;36m0.13240\u001b[0m         \u001b[1m[\u001b[0m\u001b[1;36m25\u001b[0m, \u001b[1;36m47\u001b[0m\u001b[1m]\u001b[0m\n"
      ]
     },
     "metadata": {},
     "output_type": "display_data"
    },
    {
     "data": {
      "text/html": [
       "<pre style=\"white-space:pre;overflow-x:auto;line-height:normal;font-family:Menlo,'DejaVu Sans Mono',consolas,'Courier New',monospace\"><span style=\"color: #008080; text-decoration-color: #008080; font-weight: bold\">0.13240</span>         <span style=\"font-weight: bold\">[</span><span style=\"color: #008080; text-decoration-color: #008080; font-weight: bold\">9</span>, <span style=\"color: #008080; text-decoration-color: #008080; font-weight: bold\">25</span>, <span style=\"color: #008080; text-decoration-color: #008080; font-weight: bold\">47</span><span style=\"font-weight: bold\">]</span>\n",
       "</pre>\n"
      ],
      "text/plain": [
       "\u001b[1;36m0.13240\u001b[0m         \u001b[1m[\u001b[0m\u001b[1;36m9\u001b[0m, \u001b[1;36m25\u001b[0m, \u001b[1;36m47\u001b[0m\u001b[1m]\u001b[0m\n"
      ]
     },
     "metadata": {},
     "output_type": "display_data"
    },
    {
     "data": {
      "text/html": [
       "<pre style=\"white-space:pre;overflow-x:auto;line-height:normal;font-family:Menlo,'DejaVu Sans Mono',consolas,'Courier New',monospace\"><span style=\"color: #008080; text-decoration-color: #008080; font-weight: bold\">0.13331</span>         <span style=\"font-weight: bold\">[</span><span style=\"color: #008080; text-decoration-color: #008080; font-weight: bold\">29</span>, <span style=\"color: #008080; text-decoration-color: #008080; font-weight: bold\">39</span><span style=\"font-weight: bold\">]</span>\n",
       "</pre>\n"
      ],
      "text/plain": [
       "\u001b[1;36m0.13331\u001b[0m         \u001b[1m[\u001b[0m\u001b[1;36m29\u001b[0m, \u001b[1;36m39\u001b[0m\u001b[1m]\u001b[0m\n"
      ]
     },
     "metadata": {},
     "output_type": "display_data"
    },
    {
     "data": {
      "text/html": [
       "<pre style=\"white-space:pre;overflow-x:auto;line-height:normal;font-family:Menlo,'DejaVu Sans Mono',consolas,'Courier New',monospace\"><span style=\"color: #008080; text-decoration-color: #008080; font-weight: bold\">0.13331</span>         <span style=\"font-weight: bold\">[</span><span style=\"color: #008080; text-decoration-color: #008080; font-weight: bold\">29</span>, <span style=\"color: #008080; text-decoration-color: #008080; font-weight: bold\">30</span>, <span style=\"color: #008080; text-decoration-color: #008080; font-weight: bold\">39</span><span style=\"font-weight: bold\">]</span>\n",
       "</pre>\n"
      ],
      "text/plain": [
       "\u001b[1;36m0.13331\u001b[0m         \u001b[1m[\u001b[0m\u001b[1;36m29\u001b[0m, \u001b[1;36m30\u001b[0m, \u001b[1;36m39\u001b[0m\u001b[1m]\u001b[0m\n"
      ]
     },
     "metadata": {},
     "output_type": "display_data"
    },
    {
     "data": {
      "text/html": [
       "<pre style=\"white-space:pre;overflow-x:auto;line-height:normal;font-family:Menlo,'DejaVu Sans Mono',consolas,'Courier New',monospace\"><span style=\"color: #008080; text-decoration-color: #008080; font-weight: bold\">0.13354</span>         <span style=\"font-weight: bold\">[</span><span style=\"color: #008080; text-decoration-color: #008080; font-weight: bold\">20</span>, <span style=\"color: #008080; text-decoration-color: #008080; font-weight: bold\">25</span><span style=\"font-weight: bold\">]</span>\n",
       "</pre>\n"
      ],
      "text/plain": [
       "\u001b[1;36m0.13354\u001b[0m         \u001b[1m[\u001b[0m\u001b[1;36m20\u001b[0m, \u001b[1;36m25\u001b[0m\u001b[1m]\u001b[0m\n"
      ]
     },
     "metadata": {},
     "output_type": "display_data"
    },
    {
     "data": {
      "text/html": [
       "<pre style=\"white-space:pre;overflow-x:auto;line-height:normal;font-family:Menlo,'DejaVu Sans Mono',consolas,'Courier New',monospace\"><span style=\"color: #008080; text-decoration-color: #008080; font-weight: bold\">0.13398</span>         <span style=\"font-weight: bold\">[</span><span style=\"color: #008080; text-decoration-color: #008080; font-weight: bold\">20</span>, <span style=\"color: #008080; text-decoration-color: #008080; font-weight: bold\">21</span>, <span style=\"color: #008080; text-decoration-color: #008080; font-weight: bold\">25</span><span style=\"font-weight: bold\">]</span>\n",
       "</pre>\n"
      ],
      "text/plain": [
       "\u001b[1;36m0.13398\u001b[0m         \u001b[1m[\u001b[0m\u001b[1;36m20\u001b[0m, \u001b[1;36m21\u001b[0m, \u001b[1;36m25\u001b[0m\u001b[1m]\u001b[0m\n"
      ]
     },
     "metadata": {},
     "output_type": "display_data"
    },
    {
     "data": {
      "text/html": [
       "<pre style=\"white-space:pre;overflow-x:auto;line-height:normal;font-family:Menlo,'DejaVu Sans Mono',consolas,'Courier New',monospace\"><span style=\"color: #008080; text-decoration-color: #008080; font-weight: bold\">0.13564</span>         <span style=\"font-weight: bold\">[</span><span style=\"color: #008080; text-decoration-color: #008080; font-weight: bold\">9</span>, <span style=\"color: #008080; text-decoration-color: #008080; font-weight: bold\">20</span>, <span style=\"color: #008080; text-decoration-color: #008080; font-weight: bold\">25</span><span style=\"font-weight: bold\">]</span>\n",
       "</pre>\n"
      ],
      "text/plain": [
       "\u001b[1;36m0.13564\u001b[0m         \u001b[1m[\u001b[0m\u001b[1;36m9\u001b[0m, \u001b[1;36m20\u001b[0m, \u001b[1;36m25\u001b[0m\u001b[1m]\u001b[0m\n"
      ]
     },
     "metadata": {},
     "output_type": "display_data"
    },
    {
     "data": {
      "text/html": [
       "<pre style=\"white-space:pre;overflow-x:auto;line-height:normal;font-family:Menlo,'DejaVu Sans Mono',consolas,'Courier New',monospace\"><span style=\"color: #008080; text-decoration-color: #008080; font-weight: bold\">0.13606</span>         <span style=\"font-weight: bold\">[</span><span style=\"color: #008080; text-decoration-color: #008080; font-weight: bold\">8</span>, <span style=\"color: #008080; text-decoration-color: #008080; font-weight: bold\">33</span><span style=\"font-weight: bold\">]</span>\n",
       "</pre>\n"
      ],
      "text/plain": [
       "\u001b[1;36m0.13606\u001b[0m         \u001b[1m[\u001b[0m\u001b[1;36m8\u001b[0m, \u001b[1;36m33\u001b[0m\u001b[1m]\u001b[0m\n"
      ]
     },
     "metadata": {},
     "output_type": "display_data"
    },
    {
     "data": {
      "text/html": [
       "<pre style=\"white-space:pre;overflow-x:auto;line-height:normal;font-family:Menlo,'DejaVu Sans Mono',consolas,'Courier New',monospace\"><span style=\"color: #008080; text-decoration-color: #008080; font-weight: bold\">0.13611</span>         <span style=\"font-weight: bold\">[</span><span style=\"color: #008080; text-decoration-color: #008080; font-weight: bold\">1</span>, <span style=\"color: #008080; text-decoration-color: #008080; font-weight: bold\">44</span><span style=\"font-weight: bold\">]</span>\n",
       "</pre>\n"
      ],
      "text/plain": [
       "\u001b[1;36m0.13611\u001b[0m         \u001b[1m[\u001b[0m\u001b[1;36m1\u001b[0m, \u001b[1;36m44\u001b[0m\u001b[1m]\u001b[0m\n"
      ]
     },
     "metadata": {},
     "output_type": "display_data"
    },
    {
     "data": {
      "text/html": [
       "<pre style=\"white-space:pre;overflow-x:auto;line-height:normal;font-family:Menlo,'DejaVu Sans Mono',consolas,'Courier New',monospace\"><span style=\"color: #008080; text-decoration-color: #008080; font-weight: bold\">0.13611</span>         <span style=\"font-weight: bold\">[</span><span style=\"color: #008080; text-decoration-color: #008080; font-weight: bold\">1</span>, <span style=\"color: #008080; text-decoration-color: #008080; font-weight: bold\">39</span>, <span style=\"color: #008080; text-decoration-color: #008080; font-weight: bold\">44</span><span style=\"font-weight: bold\">]</span>\n",
       "</pre>\n"
      ],
      "text/plain": [
       "\u001b[1;36m0.13611\u001b[0m         \u001b[1m[\u001b[0m\u001b[1;36m1\u001b[0m, \u001b[1;36m39\u001b[0m, \u001b[1;36m44\u001b[0m\u001b[1m]\u001b[0m\n"
      ]
     },
     "metadata": {},
     "output_type": "display_data"
    },
    {
     "data": {
      "text/html": [
       "<pre style=\"white-space:pre;overflow-x:auto;line-height:normal;font-family:Menlo,'DejaVu Sans Mono',consolas,'Courier New',monospace\"><span style=\"color: #008080; text-decoration-color: #008080; font-weight: bold\">0.13629</span>         <span style=\"font-weight: bold\">[</span><span style=\"color: #008080; text-decoration-color: #008080; font-weight: bold\">8</span>, <span style=\"color: #008080; text-decoration-color: #008080; font-weight: bold\">11</span>, <span style=\"color: #008080; text-decoration-color: #008080; font-weight: bold\">33</span><span style=\"font-weight: bold\">]</span>\n",
       "</pre>\n"
      ],
      "text/plain": [
       "\u001b[1;36m0.13629\u001b[0m         \u001b[1m[\u001b[0m\u001b[1;36m8\u001b[0m, \u001b[1;36m11\u001b[0m, \u001b[1;36m33\u001b[0m\u001b[1m]\u001b[0m\n"
      ]
     },
     "metadata": {},
     "output_type": "display_data"
    },
    {
     "data": {
      "text/html": [
       "<pre style=\"white-space:pre;overflow-x:auto;line-height:normal;font-family:Menlo,'DejaVu Sans Mono',consolas,'Courier New',monospace\"><span style=\"color: #008080; text-decoration-color: #008080; font-weight: bold\">0.13735</span>         <span style=\"font-weight: bold\">[</span><span style=\"color: #008080; text-decoration-color: #008080; font-weight: bold\">34</span>, <span style=\"color: #008080; text-decoration-color: #008080; font-weight: bold\">47</span><span style=\"font-weight: bold\">]</span>\n",
       "</pre>\n"
      ],
      "text/plain": [
       "\u001b[1;36m0.13735\u001b[0m         \u001b[1m[\u001b[0m\u001b[1;36m34\u001b[0m, \u001b[1;36m47\u001b[0m\u001b[1m]\u001b[0m\n"
      ]
     },
     "metadata": {},
     "output_type": "display_data"
    },
    {
     "data": {
      "text/html": [
       "<pre style=\"white-space:pre;overflow-x:auto;line-height:normal;font-family:Menlo,'DejaVu Sans Mono',consolas,'Courier New',monospace\"><span style=\"color: #008080; text-decoration-color: #008080; font-weight: bold\">0.13776</span>         <span style=\"font-weight: bold\">[</span><span style=\"color: #008080; text-decoration-color: #008080; font-weight: bold\">8</span>, <span style=\"color: #008080; text-decoration-color: #008080; font-weight: bold\">14</span>, <span style=\"color: #008080; text-decoration-color: #008080; font-weight: bold\">33</span><span style=\"font-weight: bold\">]</span>\n",
       "</pre>\n"
      ],
      "text/plain": [
       "\u001b[1;36m0.13776\u001b[0m         \u001b[1m[\u001b[0m\u001b[1;36m8\u001b[0m, \u001b[1;36m14\u001b[0m, \u001b[1;36m33\u001b[0m\u001b[1m]\u001b[0m\n"
      ]
     },
     "metadata": {},
     "output_type": "display_data"
    },
    {
     "data": {
      "text/html": [
       "<pre style=\"white-space:pre;overflow-x:auto;line-height:normal;font-family:Menlo,'DejaVu Sans Mono',consolas,'Courier New',monospace\"><span style=\"color: #008080; text-decoration-color: #008080; font-weight: bold\">0.13809</span>         <span style=\"font-weight: bold\">[</span><span style=\"color: #008080; text-decoration-color: #008080; font-weight: bold\">24</span>, <span style=\"color: #008080; text-decoration-color: #008080; font-weight: bold\">45</span><span style=\"font-weight: bold\">]</span>\n",
       "</pre>\n"
      ],
      "text/plain": [
       "\u001b[1;36m0.13809\u001b[0m         \u001b[1m[\u001b[0m\u001b[1;36m24\u001b[0m, \u001b[1;36m45\u001b[0m\u001b[1m]\u001b[0m\n"
      ]
     },
     "metadata": {},
     "output_type": "display_data"
    },
    {
     "data": {
      "text/html": [
       "<pre style=\"white-space:pre;overflow-x:auto;line-height:normal;font-family:Menlo,'DejaVu Sans Mono',consolas,'Courier New',monospace\"><span style=\"color: #008080; text-decoration-color: #008080; font-weight: bold\">0.13809</span>         <span style=\"font-weight: bold\">[</span><span style=\"color: #008080; text-decoration-color: #008080; font-weight: bold\">19</span>, <span style=\"color: #008080; text-decoration-color: #008080; font-weight: bold\">24</span>, <span style=\"color: #008080; text-decoration-color: #008080; font-weight: bold\">45</span><span style=\"font-weight: bold\">]</span>\n",
       "</pre>\n"
      ],
      "text/plain": [
       "\u001b[1;36m0.13809\u001b[0m         \u001b[1m[\u001b[0m\u001b[1;36m19\u001b[0m, \u001b[1;36m24\u001b[0m, \u001b[1;36m45\u001b[0m\u001b[1m]\u001b[0m\n"
      ]
     },
     "metadata": {},
     "output_type": "display_data"
    },
    {
     "data": {
      "text/html": [
       "<pre style=\"white-space:pre;overflow-x:auto;line-height:normal;font-family:Menlo,'DejaVu Sans Mono',consolas,'Courier New',monospace\"><span style=\"color: #008080; text-decoration-color: #008080; font-weight: bold\">0.13943</span>         <span style=\"font-weight: bold\">[</span><span style=\"color: #008080; text-decoration-color: #008080; font-weight: bold\">24</span>, <span style=\"color: #008080; text-decoration-color: #008080; font-weight: bold\">36</span><span style=\"font-weight: bold\">]</span>\n",
       "</pre>\n"
      ],
      "text/plain": [
       "\u001b[1;36m0.13943\u001b[0m         \u001b[1m[\u001b[0m\u001b[1;36m24\u001b[0m, \u001b[1;36m36\u001b[0m\u001b[1m]\u001b[0m\n"
      ]
     },
     "metadata": {},
     "output_type": "display_data"
    },
    {
     "data": {
      "text/html": [
       "<pre style=\"white-space:pre;overflow-x:auto;line-height:normal;font-family:Menlo,'DejaVu Sans Mono',consolas,'Courier New',monospace\"><span style=\"color: #008080; text-decoration-color: #008080; font-weight: bold\">0.13943</span>         <span style=\"font-weight: bold\">[</span><span style=\"color: #008080; text-decoration-color: #008080; font-weight: bold\">24</span>, <span style=\"color: #008080; text-decoration-color: #008080; font-weight: bold\">36</span>, <span style=\"color: #008080; text-decoration-color: #008080; font-weight: bold\">45</span><span style=\"font-weight: bold\">]</span>\n",
       "</pre>\n"
      ],
      "text/plain": [
       "\u001b[1;36m0.13943\u001b[0m         \u001b[1m[\u001b[0m\u001b[1;36m24\u001b[0m, \u001b[1;36m36\u001b[0m, \u001b[1;36m45\u001b[0m\u001b[1m]\u001b[0m\n"
      ]
     },
     "metadata": {},
     "output_type": "display_data"
    },
    {
     "data": {
      "text/html": [
       "<pre style=\"white-space:pre;overflow-x:auto;line-height:normal;font-family:Menlo,'DejaVu Sans Mono',consolas,'Courier New',monospace\"><span style=\"color: #008080; text-decoration-color: #008080; font-weight: bold\">0.14059</span>         <span style=\"font-weight: bold\">[</span><span style=\"color: #008080; text-decoration-color: #008080; font-weight: bold\">29</span>, <span style=\"color: #008080; text-decoration-color: #008080; font-weight: bold\">34</span><span style=\"font-weight: bold\">]</span>\n",
       "</pre>\n"
      ],
      "text/plain": [
       "\u001b[1;36m0.14059\u001b[0m         \u001b[1m[\u001b[0m\u001b[1;36m29\u001b[0m, \u001b[1;36m34\u001b[0m\u001b[1m]\u001b[0m\n"
      ]
     },
     "metadata": {},
     "output_type": "display_data"
    },
    {
     "data": {
      "text/html": [
       "<pre style=\"white-space:pre;overflow-x:auto;line-height:normal;font-family:Menlo,'DejaVu Sans Mono',consolas,'Courier New',monospace\"><span style=\"color: #008080; text-decoration-color: #008080; font-weight: bold\">0.14077</span>         <span style=\"font-weight: bold\">[</span><span style=\"color: #008080; text-decoration-color: #008080; font-weight: bold\">12</span>, <span style=\"color: #008080; text-decoration-color: #008080; font-weight: bold\">44</span><span style=\"font-weight: bold\">]</span>\n",
       "</pre>\n"
      ],
      "text/plain": [
       "\u001b[1;36m0.14077\u001b[0m         \u001b[1m[\u001b[0m\u001b[1;36m12\u001b[0m, \u001b[1;36m44\u001b[0m\u001b[1m]\u001b[0m\n"
      ]
     },
     "metadata": {},
     "output_type": "display_data"
    },
    {
     "data": {
      "text/html": [
       "<pre style=\"white-space:pre;overflow-x:auto;line-height:normal;font-family:Menlo,'DejaVu Sans Mono',consolas,'Courier New',monospace\"><span style=\"color: #008080; text-decoration-color: #008080; font-weight: bold\">0.14077</span>         <span style=\"font-weight: bold\">[</span><span style=\"color: #008080; text-decoration-color: #008080; font-weight: bold\">12</span>, <span style=\"color: #008080; text-decoration-color: #008080; font-weight: bold\">13</span>, <span style=\"color: #008080; text-decoration-color: #008080; font-weight: bold\">44</span><span style=\"font-weight: bold\">]</span>\n",
       "</pre>\n"
      ],
      "text/plain": [
       "\u001b[1;36m0.14077\u001b[0m         \u001b[1m[\u001b[0m\u001b[1;36m12\u001b[0m, \u001b[1;36m13\u001b[0m, \u001b[1;36m44\u001b[0m\u001b[1m]\u001b[0m\n"
      ]
     },
     "metadata": {},
     "output_type": "display_data"
    },
    {
     "data": {
      "text/html": [
       "<pre style=\"white-space:pre;overflow-x:auto;line-height:normal;font-family:Menlo,'DejaVu Sans Mono',consolas,'Courier New',monospace\"><span style=\"color: #008080; text-decoration-color: #008080; font-weight: bold\">0.14120</span>         <span style=\"font-weight: bold\">[</span><span style=\"color: #008080; text-decoration-color: #008080; font-weight: bold\">1</span>, <span style=\"color: #008080; text-decoration-color: #008080; font-weight: bold\">12</span>, <span style=\"color: #008080; text-decoration-color: #008080; font-weight: bold\">44</span><span style=\"font-weight: bold\">]</span>\n",
       "</pre>\n"
      ],
      "text/plain": [
       "\u001b[1;36m0.14120\u001b[0m         \u001b[1m[\u001b[0m\u001b[1;36m1\u001b[0m, \u001b[1;36m12\u001b[0m, \u001b[1;36m44\u001b[0m\u001b[1m]\u001b[0m\n"
      ]
     },
     "metadata": {},
     "output_type": "display_data"
    },
    {
     "data": {
      "text/html": [
       "<pre style=\"white-space:pre;overflow-x:auto;line-height:normal;font-family:Menlo,'DejaVu Sans Mono',consolas,'Courier New',monospace\"><span style=\"color: #008080; text-decoration-color: #008080; font-weight: bold\">0.14173</span>         <span style=\"font-weight: bold\">[</span><span style=\"color: #008080; text-decoration-color: #008080; font-weight: bold\">25</span>, <span style=\"color: #008080; text-decoration-color: #008080; font-weight: bold\">34</span>, <span style=\"color: #008080; text-decoration-color: #008080; font-weight: bold\">47</span><span style=\"font-weight: bold\">]</span>\n",
       "</pre>\n"
      ],
      "text/plain": [
       "\u001b[1;36m0.14173\u001b[0m         \u001b[1m[\u001b[0m\u001b[1;36m25\u001b[0m, \u001b[1;36m34\u001b[0m, \u001b[1;36m47\u001b[0m\u001b[1m]\u001b[0m\n"
      ]
     },
     "metadata": {},
     "output_type": "display_data"
    },
    {
     "data": {
      "text/html": [
       "<pre style=\"white-space:pre;overflow-x:auto;line-height:normal;font-family:Menlo,'DejaVu Sans Mono',consolas,'Courier New',monospace\"><span style=\"color: #008080; text-decoration-color: #008080; font-weight: bold\">0.14231</span>         <span style=\"font-weight: bold\">[</span><span style=\"color: #008080; text-decoration-color: #008080; font-weight: bold\">19</span>, <span style=\"color: #008080; text-decoration-color: #008080; font-weight: bold\">29</span><span style=\"font-weight: bold\">]</span>\n",
       "</pre>\n"
      ],
      "text/plain": [
       "\u001b[1;36m0.14231\u001b[0m         \u001b[1m[\u001b[0m\u001b[1;36m19\u001b[0m, \u001b[1;36m29\u001b[0m\u001b[1m]\u001b[0m\n"
      ]
     },
     "metadata": {},
     "output_type": "display_data"
    },
    {
     "data": {
      "text/html": [
       "<pre style=\"white-space:pre;overflow-x:auto;line-height:normal;font-family:Menlo,'DejaVu Sans Mono',consolas,'Courier New',monospace\"><span style=\"color: #008080; text-decoration-color: #008080; font-weight: bold\">0.14419</span>         <span style=\"font-weight: bold\">[</span><span style=\"color: #008080; text-decoration-color: #008080; font-weight: bold\">19</span>, <span style=\"color: #008080; text-decoration-color: #008080; font-weight: bold\">29</span>, <span style=\"color: #008080; text-decoration-color: #008080; font-weight: bold\">34</span><span style=\"font-weight: bold\">]</span>\n",
       "</pre>\n"
      ],
      "text/plain": [
       "\u001b[1;36m0.14419\u001b[0m         \u001b[1m[\u001b[0m\u001b[1;36m19\u001b[0m, \u001b[1;36m29\u001b[0m, \u001b[1;36m34\u001b[0m\u001b[1m]\u001b[0m\n"
      ]
     },
     "metadata": {},
     "output_type": "display_data"
    },
    {
     "data": {
      "text/html": [
       "<pre style=\"white-space:pre;overflow-x:auto;line-height:normal;font-family:Menlo,'DejaVu Sans Mono',consolas,'Courier New',monospace\"><span style=\"color: #008080; text-decoration-color: #008080; font-weight: bold\">0.14502</span>         <span style=\"font-weight: bold\">[</span><span style=\"color: #008080; text-decoration-color: #008080; font-weight: bold\">18</span>, <span style=\"color: #008080; text-decoration-color: #008080; font-weight: bold\">42</span><span style=\"font-weight: bold\">]</span>\n",
       "</pre>\n"
      ],
      "text/plain": [
       "\u001b[1;36m0.14502\u001b[0m         \u001b[1m[\u001b[0m\u001b[1;36m18\u001b[0m, \u001b[1;36m42\u001b[0m\u001b[1m]\u001b[0m\n"
      ]
     },
     "metadata": {},
     "output_type": "display_data"
    },
    {
     "data": {
      "text/html": [
       "<pre style=\"white-space:pre;overflow-x:auto;line-height:normal;font-family:Menlo,'DejaVu Sans Mono',consolas,'Courier New',monospace\"><span style=\"color: #008080; text-decoration-color: #008080; font-weight: bold\">0.14502</span>         <span style=\"font-weight: bold\">[</span><span style=\"color: #008080; text-decoration-color: #008080; font-weight: bold\">0</span>, <span style=\"color: #008080; text-decoration-color: #008080; font-weight: bold\">18</span>, <span style=\"color: #008080; text-decoration-color: #008080; font-weight: bold\">42</span><span style=\"font-weight: bold\">]</span>\n",
       "</pre>\n"
      ],
      "text/plain": [
       "\u001b[1;36m0.14502\u001b[0m         \u001b[1m[\u001b[0m\u001b[1;36m0\u001b[0m, \u001b[1;36m18\u001b[0m, \u001b[1;36m42\u001b[0m\u001b[1m]\u001b[0m\n"
      ]
     },
     "metadata": {},
     "output_type": "display_data"
    },
    {
     "data": {
      "text/html": [
       "<pre style=\"white-space:pre;overflow-x:auto;line-height:normal;font-family:Menlo,'DejaVu Sans Mono',consolas,'Courier New',monospace\"><span style=\"color: #008080; text-decoration-color: #008080; font-weight: bold\">0.14793</span>         <span style=\"font-weight: bold\">[</span><span style=\"color: #008080; text-decoration-color: #008080; font-weight: bold\">34</span>, <span style=\"color: #008080; text-decoration-color: #008080; font-weight: bold\">39</span><span style=\"font-weight: bold\">]</span>\n",
       "</pre>\n"
      ],
      "text/plain": [
       "\u001b[1;36m0.14793\u001b[0m         \u001b[1m[\u001b[0m\u001b[1;36m34\u001b[0m, \u001b[1;36m39\u001b[0m\u001b[1m]\u001b[0m\n"
      ]
     },
     "metadata": {},
     "output_type": "display_data"
    },
    {
     "data": {
      "text/html": [
       "<pre style=\"white-space:pre;overflow-x:auto;line-height:normal;font-family:Menlo,'DejaVu Sans Mono',consolas,'Courier New',monospace\"><span style=\"color: #008080; text-decoration-color: #008080; font-weight: bold\">0.14793</span>         <span style=\"font-weight: bold\">[</span><span style=\"color: #008080; text-decoration-color: #008080; font-weight: bold\">34</span>, <span style=\"color: #008080; text-decoration-color: #008080; font-weight: bold\">39</span>, <span style=\"color: #008080; text-decoration-color: #008080; font-weight: bold\">47</span><span style=\"font-weight: bold\">]</span>\n",
       "</pre>\n"
      ],
      "text/plain": [
       "\u001b[1;36m0.14793\u001b[0m         \u001b[1m[\u001b[0m\u001b[1;36m34\u001b[0m, \u001b[1;36m39\u001b[0m, \u001b[1;36m47\u001b[0m\u001b[1m]\u001b[0m\n"
      ]
     },
     "metadata": {},
     "output_type": "display_data"
    },
    {
     "data": {
      "text/html": [
       "<pre style=\"white-space:pre;overflow-x:auto;line-height:normal;font-family:Menlo,'DejaVu Sans Mono',consolas,'Courier New',monospace\"><span style=\"color: #008080; text-decoration-color: #008080; font-weight: bold\">0.16032</span>         <span style=\"font-weight: bold\">[</span><span style=\"color: #008080; text-decoration-color: #008080; font-weight: bold\">29</span>, <span style=\"color: #008080; text-decoration-color: #008080; font-weight: bold\">34</span>, <span style=\"color: #008080; text-decoration-color: #008080; font-weight: bold\">39</span><span style=\"font-weight: bold\">]</span>\n",
       "</pre>\n"
      ],
      "text/plain": [
       "\u001b[1;36m0.16032\u001b[0m         \u001b[1m[\u001b[0m\u001b[1;36m29\u001b[0m, \u001b[1;36m34\u001b[0m, \u001b[1;36m39\u001b[0m\u001b[1m]\u001b[0m\n"
      ]
     },
     "metadata": {},
     "output_type": "display_data"
    },
    {
     "data": {
      "text/html": [
       "<pre style=\"white-space:pre;overflow-x:auto;line-height:normal;font-family:Menlo,'DejaVu Sans Mono',consolas,'Courier New',monospace\"><span style=\"color: #008080; text-decoration-color: #008080; font-weight: bold\">0.16144</span>         <span style=\"font-weight: bold\">[</span><span style=\"color: #008080; text-decoration-color: #008080; font-weight: bold\">10</span>, <span style=\"color: #008080; text-decoration-color: #008080; font-weight: bold\">33</span><span style=\"font-weight: bold\">]</span>\n",
       "</pre>\n"
      ],
      "text/plain": [
       "\u001b[1;36m0.16144\u001b[0m         \u001b[1m[\u001b[0m\u001b[1;36m10\u001b[0m, \u001b[1;36m33\u001b[0m\u001b[1m]\u001b[0m\n"
      ]
     },
     "metadata": {},
     "output_type": "display_data"
    },
    {
     "data": {
      "text/html": [
       "<pre style=\"white-space:pre;overflow-x:auto;line-height:normal;font-family:Menlo,'DejaVu Sans Mono',consolas,'Courier New',monospace\"><span style=\"color: #008080; text-decoration-color: #008080; font-weight: bold\">0.16144</span>         <span style=\"font-weight: bold\">[</span><span style=\"color: #008080; text-decoration-color: #008080; font-weight: bold\">10</span>, <span style=\"color: #008080; text-decoration-color: #008080; font-weight: bold\">11</span>, <span style=\"color: #008080; text-decoration-color: #008080; font-weight: bold\">33</span><span style=\"font-weight: bold\">]</span>\n",
       "</pre>\n"
      ],
      "text/plain": [
       "\u001b[1;36m0.16144\u001b[0m         \u001b[1m[\u001b[0m\u001b[1;36m10\u001b[0m, \u001b[1;36m11\u001b[0m, \u001b[1;36m33\u001b[0m\u001b[1m]\u001b[0m\n"
      ]
     },
     "metadata": {},
     "output_type": "display_data"
    },
    {
     "data": {
      "text/html": [
       "<pre style=\"white-space:pre;overflow-x:auto;line-height:normal;font-family:Menlo,'DejaVu Sans Mono',consolas,'Courier New',monospace\"><span style=\"color: #008080; text-decoration-color: #008080; font-weight: bold\">0.16765</span>         <span style=\"font-weight: bold\">[</span><span style=\"color: #008080; text-decoration-color: #008080; font-weight: bold\">19</span>, <span style=\"color: #008080; text-decoration-color: #008080; font-weight: bold\">37</span><span style=\"font-weight: bold\">]</span>\n",
       "</pre>\n"
      ],
      "text/plain": [
       "\u001b[1;36m0.16765\u001b[0m         \u001b[1m[\u001b[0m\u001b[1;36m19\u001b[0m, \u001b[1;36m37\u001b[0m\u001b[1m]\u001b[0m\n"
      ]
     },
     "metadata": {},
     "output_type": "display_data"
    },
    {
     "data": {
      "text/html": [
       "<pre style=\"white-space:pre;overflow-x:auto;line-height:normal;font-family:Menlo,'DejaVu Sans Mono',consolas,'Courier New',monospace\"><span style=\"color: #008080; text-decoration-color: #008080; font-weight: bold\">0.16765</span>         <span style=\"font-weight: bold\">[</span><span style=\"color: #008080; text-decoration-color: #008080; font-weight: bold\">19</span>, <span style=\"color: #008080; text-decoration-color: #008080; font-weight: bold\">29</span>, <span style=\"color: #008080; text-decoration-color: #008080; font-weight: bold\">37</span><span style=\"font-weight: bold\">]</span>\n",
       "</pre>\n"
      ],
      "text/plain": [
       "\u001b[1;36m0.16765\u001b[0m         \u001b[1m[\u001b[0m\u001b[1;36m19\u001b[0m, \u001b[1;36m29\u001b[0m, \u001b[1;36m37\u001b[0m\u001b[1m]\u001b[0m\n"
      ]
     },
     "metadata": {},
     "output_type": "display_data"
    },
    {
     "data": {
      "text/html": [
       "<pre style=\"white-space:pre;overflow-x:auto;line-height:normal;font-family:Menlo,'DejaVu Sans Mono',consolas,'Courier New',monospace\"><span style=\"color: #008080; text-decoration-color: #008080; font-weight: bold\">0.16847</span>         <span style=\"font-weight: bold\">[</span><span style=\"color: #008080; text-decoration-color: #008080; font-weight: bold\">37</span>, <span style=\"color: #008080; text-decoration-color: #008080; font-weight: bold\">45</span><span style=\"font-weight: bold\">]</span>\n",
       "</pre>\n"
      ],
      "text/plain": [
       "\u001b[1;36m0.16847\u001b[0m         \u001b[1m[\u001b[0m\u001b[1;36m37\u001b[0m, \u001b[1;36m45\u001b[0m\u001b[1m]\u001b[0m\n"
      ]
     },
     "metadata": {},
     "output_type": "display_data"
    },
    {
     "data": {
      "text/html": [
       "<pre style=\"white-space:pre;overflow-x:auto;line-height:normal;font-family:Menlo,'DejaVu Sans Mono',consolas,'Courier New',monospace\"><span style=\"color: #008080; text-decoration-color: #008080; font-weight: bold\">0.17471</span>         <span style=\"font-weight: bold\">[</span><span style=\"color: #008080; text-decoration-color: #008080; font-weight: bold\">19</span>, <span style=\"color: #008080; text-decoration-color: #008080; font-weight: bold\">37</span>, <span style=\"color: #008080; text-decoration-color: #008080; font-weight: bold\">45</span><span style=\"font-weight: bold\">]</span>\n",
       "</pre>\n"
      ],
      "text/plain": [
       "\u001b[1;36m0.17471\u001b[0m         \u001b[1m[\u001b[0m\u001b[1;36m19\u001b[0m, \u001b[1;36m37\u001b[0m, \u001b[1;36m45\u001b[0m\u001b[1m]\u001b[0m\n"
      ]
     },
     "metadata": {},
     "output_type": "display_data"
    },
    {
     "data": {
      "text/html": [
       "<pre style=\"white-space:pre;overflow-x:auto;line-height:normal;font-family:Menlo,'DejaVu Sans Mono',consolas,'Courier New',monospace\"><span style=\"color: #008080; text-decoration-color: #008080; font-weight: bold\">0.18678</span>         <span style=\"font-weight: bold\">[</span><span style=\"color: #008080; text-decoration-color: #008080; font-weight: bold\">22</span>, <span style=\"color: #008080; text-decoration-color: #008080; font-weight: bold\">37</span><span style=\"font-weight: bold\">]</span>\n",
       "</pre>\n"
      ],
      "text/plain": [
       "\u001b[1;36m0.18678\u001b[0m         \u001b[1m[\u001b[0m\u001b[1;36m22\u001b[0m, \u001b[1;36m37\u001b[0m\u001b[1m]\u001b[0m\n"
      ]
     },
     "metadata": {},
     "output_type": "display_data"
    },
    {
     "data": {
      "text/html": [
       "<pre style=\"white-space:pre;overflow-x:auto;line-height:normal;font-family:Menlo,'DejaVu Sans Mono',consolas,'Courier New',monospace\"><span style=\"color: #008080; text-decoration-color: #008080; font-weight: bold\">0.18678</span>         <span style=\"font-weight: bold\">[</span><span style=\"color: #008080; text-decoration-color: #008080; font-weight: bold\">22</span>, <span style=\"color: #008080; text-decoration-color: #008080; font-weight: bold\">37</span>, <span style=\"color: #008080; text-decoration-color: #008080; font-weight: bold\">45</span><span style=\"font-weight: bold\">]</span>\n",
       "</pre>\n"
      ],
      "text/plain": [
       "\u001b[1;36m0.18678\u001b[0m         \u001b[1m[\u001b[0m\u001b[1;36m22\u001b[0m, \u001b[1;36m37\u001b[0m, \u001b[1;36m45\u001b[0m\u001b[1m]\u001b[0m\n"
      ]
     },
     "metadata": {},
     "output_type": "display_data"
    },
    {
     "data": {
      "text/html": [
       "<pre style=\"white-space:pre;overflow-x:auto;line-height:normal;font-family:Menlo,'DejaVu Sans Mono',consolas,'Courier New',monospace\"><span style=\"color: #008080; text-decoration-color: #008080; font-weight: bold\">0.18687</span>         <span style=\"font-weight: bold\">[</span><span style=\"color: #008080; text-decoration-color: #008080; font-weight: bold\">22</span>, <span style=\"color: #008080; text-decoration-color: #008080; font-weight: bold\">33</span><span style=\"font-weight: bold\">]</span>\n",
       "</pre>\n"
      ],
      "text/plain": [
       "\u001b[1;36m0.18687\u001b[0m         \u001b[1m[\u001b[0m\u001b[1;36m22\u001b[0m, \u001b[1;36m33\u001b[0m\u001b[1m]\u001b[0m\n"
      ]
     },
     "metadata": {},
     "output_type": "display_data"
    },
    {
     "data": {
      "text/html": [
       "<pre style=\"white-space:pre;overflow-x:auto;line-height:normal;font-family:Menlo,'DejaVu Sans Mono',consolas,'Courier New',monospace\"><span style=\"color: #008080; text-decoration-color: #008080; font-weight: bold\">0.18687</span>         <span style=\"font-weight: bold\">[</span><span style=\"color: #008080; text-decoration-color: #008080; font-weight: bold\">10</span>, <span style=\"color: #008080; text-decoration-color: #008080; font-weight: bold\">22</span>, <span style=\"color: #008080; text-decoration-color: #008080; font-weight: bold\">33</span><span style=\"font-weight: bold\">]</span>\n",
       "</pre>\n"
      ],
      "text/plain": [
       "\u001b[1;36m0.18687\u001b[0m         \u001b[1m[\u001b[0m\u001b[1;36m10\u001b[0m, \u001b[1;36m22\u001b[0m, \u001b[1;36m33\u001b[0m\u001b[1m]\u001b[0m\n"
      ]
     },
     "metadata": {},
     "output_type": "display_data"
    },
    {
     "data": {
      "text/html": [
       "<pre style=\"white-space:pre;overflow-x:auto;line-height:normal;font-family:Menlo,'DejaVu Sans Mono',consolas,'Courier New',monospace\"><span style=\"color: #008080; text-decoration-color: #008080; font-weight: bold\">0.19183</span>         <span style=\"font-weight: bold\">[</span><span style=\"color: #008080; text-decoration-color: #008080; font-weight: bold\">22</span>, <span style=\"color: #008080; text-decoration-color: #008080; font-weight: bold\">33</span>, <span style=\"color: #008080; text-decoration-color: #008080; font-weight: bold\">37</span><span style=\"font-weight: bold\">]</span>\n",
       "</pre>\n"
      ],
      "text/plain": [
       "\u001b[1;36m0.19183\u001b[0m         \u001b[1m[\u001b[0m\u001b[1;36m22\u001b[0m, \u001b[1;36m33\u001b[0m, \u001b[1;36m37\u001b[0m\u001b[1m]\u001b[0m\n"
      ]
     },
     "metadata": {},
     "output_type": "display_data"
    },
    {
     "data": {
      "text/html": [
       "<pre style=\"white-space:pre;overflow-x:auto;line-height:normal;font-family:Menlo,'DejaVu Sans Mono',consolas,'Courier New',monospace\"><span style=\"color: #008080; text-decoration-color: #008080; font-weight: bold\">0.19444</span>         <span style=\"font-weight: bold\">[</span><span style=\"color: #008080; text-decoration-color: #008080; font-weight: bold\">7</span>, <span style=\"color: #008080; text-decoration-color: #008080; font-weight: bold\">42</span><span style=\"font-weight: bold\">]</span>\n",
       "</pre>\n"
      ],
      "text/plain": [
       "\u001b[1;36m0.19444\u001b[0m         \u001b[1m[\u001b[0m\u001b[1;36m7\u001b[0m, \u001b[1;36m42\u001b[0m\u001b[1m]\u001b[0m\n"
      ]
     },
     "metadata": {},
     "output_type": "display_data"
    },
    {
     "data": {
      "text/html": [
       "<pre style=\"white-space:pre;overflow-x:auto;line-height:normal;font-family:Menlo,'DejaVu Sans Mono',consolas,'Courier New',monospace\"><span style=\"color: #008080; text-decoration-color: #008080; font-weight: bold\">0.19444</span>         <span style=\"font-weight: bold\">[</span><span style=\"color: #008080; text-decoration-color: #008080; font-weight: bold\">7</span>, <span style=\"color: #008080; text-decoration-color: #008080; font-weight: bold\">17</span>, <span style=\"color: #008080; text-decoration-color: #008080; font-weight: bold\">42</span><span style=\"font-weight: bold\">]</span>\n",
       "</pre>\n"
      ],
      "text/plain": [
       "\u001b[1;36m0.19444\u001b[0m         \u001b[1m[\u001b[0m\u001b[1;36m7\u001b[0m, \u001b[1;36m17\u001b[0m, \u001b[1;36m42\u001b[0m\u001b[1m]\u001b[0m\n"
      ]
     },
     "metadata": {},
     "output_type": "display_data"
    },
    {
     "data": {
      "text/html": [
       "<pre style=\"white-space:pre;overflow-x:auto;line-height:normal;font-family:Menlo,'DejaVu Sans Mono',consolas,'Courier New',monospace\"><span style=\"color: #008080; text-decoration-color: #008080; font-weight: bold\">0.20919</span>         <span style=\"font-weight: bold\">[</span><span style=\"color: #008080; text-decoration-color: #008080; font-weight: bold\">4</span>, <span style=\"color: #008080; text-decoration-color: #008080; font-weight: bold\">42</span><span style=\"font-weight: bold\">]</span>\n",
       "</pre>\n"
      ],
      "text/plain": [
       "\u001b[1;36m0.20919\u001b[0m         \u001b[1m[\u001b[0m\u001b[1;36m4\u001b[0m, \u001b[1;36m42\u001b[0m\u001b[1m]\u001b[0m\n"
      ]
     },
     "metadata": {},
     "output_type": "display_data"
    },
    {
     "data": {
      "text/html": [
       "<pre style=\"white-space:pre;overflow-x:auto;line-height:normal;font-family:Menlo,'DejaVu Sans Mono',consolas,'Courier New',monospace\"><span style=\"color: #008080; text-decoration-color: #008080; font-weight: bold\">0.20919</span>         <span style=\"font-weight: bold\">[</span><span style=\"color: #008080; text-decoration-color: #008080; font-weight: bold\">4</span>, <span style=\"color: #008080; text-decoration-color: #008080; font-weight: bold\">18</span>, <span style=\"color: #008080; text-decoration-color: #008080; font-weight: bold\">42</span><span style=\"font-weight: bold\">]</span>\n",
       "</pre>\n"
      ],
      "text/plain": [
       "\u001b[1;36m0.20919\u001b[0m         \u001b[1m[\u001b[0m\u001b[1;36m4\u001b[0m, \u001b[1;36m18\u001b[0m, \u001b[1;36m42\u001b[0m\u001b[1m]\u001b[0m\n"
      ]
     },
     "metadata": {},
     "output_type": "display_data"
    },
    {
     "data": {
      "text/html": [
       "<pre style=\"white-space:pre;overflow-x:auto;line-height:normal;font-family:Menlo,'DejaVu Sans Mono',consolas,'Courier New',monospace\"><span style=\"color: #008080; text-decoration-color: #008080; font-weight: bold\">0.21571</span>         <span style=\"font-weight: bold\">[</span><span style=\"color: #008080; text-decoration-color: #008080; font-weight: bold\">10</span>, <span style=\"color: #008080; text-decoration-color: #008080; font-weight: bold\">36</span><span style=\"font-weight: bold\">]</span>\n",
       "</pre>\n"
      ],
      "text/plain": [
       "\u001b[1;36m0.21571\u001b[0m         \u001b[1m[\u001b[0m\u001b[1;36m10\u001b[0m, \u001b[1;36m36\u001b[0m\u001b[1m]\u001b[0m\n"
      ]
     },
     "metadata": {},
     "output_type": "display_data"
    },
    {
     "data": {
      "text/html": [
       "<pre style=\"white-space:pre;overflow-x:auto;line-height:normal;font-family:Menlo,'DejaVu Sans Mono',consolas,'Courier New',monospace\"><span style=\"color: #008080; text-decoration-color: #008080; font-weight: bold\">0.21571</span>         <span style=\"font-weight: bold\">[</span><span style=\"color: #008080; text-decoration-color: #008080; font-weight: bold\">10</span>, <span style=\"color: #008080; text-decoration-color: #008080; font-weight: bold\">22</span>, <span style=\"color: #008080; text-decoration-color: #008080; font-weight: bold\">36</span><span style=\"font-weight: bold\">]</span>\n",
       "</pre>\n"
      ],
      "text/plain": [
       "\u001b[1;36m0.21571\u001b[0m         \u001b[1m[\u001b[0m\u001b[1;36m10\u001b[0m, \u001b[1;36m22\u001b[0m, \u001b[1;36m36\u001b[0m\u001b[1m]\u001b[0m\n"
      ]
     },
     "metadata": {},
     "output_type": "display_data"
    },
    {
     "data": {
      "text/html": [
       "<pre style=\"white-space:pre;overflow-x:auto;line-height:normal;font-family:Menlo,'DejaVu Sans Mono',consolas,'Courier New',monospace\"><span style=\"color: #008080; text-decoration-color: #008080; font-weight: bold\">0.22463</span>         <span style=\"font-weight: bold\">[</span><span style=\"color: #008080; text-decoration-color: #008080; font-weight: bold\">23</span>, <span style=\"color: #008080; text-decoration-color: #008080; font-weight: bold\">24</span><span style=\"font-weight: bold\">]</span>\n",
       "</pre>\n"
      ],
      "text/plain": [
       "\u001b[1;36m0.22463\u001b[0m         \u001b[1m[\u001b[0m\u001b[1;36m23\u001b[0m, \u001b[1;36m24\u001b[0m\u001b[1m]\u001b[0m\n"
      ]
     },
     "metadata": {},
     "output_type": "display_data"
    },
    {
     "data": {
      "text/html": [
       "<pre style=\"white-space:pre;overflow-x:auto;line-height:normal;font-family:Menlo,'DejaVu Sans Mono',consolas,'Courier New',monospace\"><span style=\"color: #008080; text-decoration-color: #008080; font-weight: bold\">0.22463</span>         <span style=\"font-weight: bold\">[</span><span style=\"color: #008080; text-decoration-color: #008080; font-weight: bold\">23</span>, <span style=\"color: #008080; text-decoration-color: #008080; font-weight: bold\">24</span>, <span style=\"color: #008080; text-decoration-color: #008080; font-weight: bold\">46</span><span style=\"font-weight: bold\">]</span>\n",
       "</pre>\n"
      ],
      "text/plain": [
       "\u001b[1;36m0.22463\u001b[0m         \u001b[1m[\u001b[0m\u001b[1;36m23\u001b[0m, \u001b[1;36m24\u001b[0m, \u001b[1;36m46\u001b[0m\u001b[1m]\u001b[0m\n"
      ]
     },
     "metadata": {},
     "output_type": "display_data"
    },
    {
     "data": {
      "text/html": [
       "<pre style=\"white-space:pre;overflow-x:auto;line-height:normal;font-family:Menlo,'DejaVu Sans Mono',consolas,'Courier New',monospace\"><span style=\"color: #008080; text-decoration-color: #008080; font-weight: bold\">0.22569</span>         <span style=\"font-weight: bold\">[</span><span style=\"color: #008080; text-decoration-color: #008080; font-weight: bold\">24</span>, <span style=\"color: #008080; text-decoration-color: #008080; font-weight: bold\">41</span><span style=\"font-weight: bold\">]</span>\n",
       "</pre>\n"
      ],
      "text/plain": [
       "\u001b[1;36m0.22569\u001b[0m         \u001b[1m[\u001b[0m\u001b[1;36m24\u001b[0m, \u001b[1;36m41\u001b[0m\u001b[1m]\u001b[0m\n"
      ]
     },
     "metadata": {},
     "output_type": "display_data"
    },
    {
     "data": {
      "text/html": [
       "<pre style=\"white-space:pre;overflow-x:auto;line-height:normal;font-family:Menlo,'DejaVu Sans Mono',consolas,'Courier New',monospace\"><span style=\"color: #008080; text-decoration-color: #008080; font-weight: bold\">0.22569</span>         <span style=\"font-weight: bold\">[</span><span style=\"color: #008080; text-decoration-color: #008080; font-weight: bold\">24</span>, <span style=\"color: #008080; text-decoration-color: #008080; font-weight: bold\">36</span>, <span style=\"color: #008080; text-decoration-color: #008080; font-weight: bold\">41</span><span style=\"font-weight: bold\">]</span>\n",
       "</pre>\n"
      ],
      "text/plain": [
       "\u001b[1;36m0.22569\u001b[0m         \u001b[1m[\u001b[0m\u001b[1;36m24\u001b[0m, \u001b[1;36m36\u001b[0m, \u001b[1;36m41\u001b[0m\u001b[1m]\u001b[0m\n"
      ]
     },
     "metadata": {},
     "output_type": "display_data"
    },
    {
     "data": {
      "text/html": [
       "<pre style=\"white-space:pre;overflow-x:auto;line-height:normal;font-family:Menlo,'DejaVu Sans Mono',consolas,'Courier New',monospace\"><span style=\"color: #008080; text-decoration-color: #008080; font-weight: bold\">0.23314</span>         <span style=\"font-weight: bold\">[</span><span style=\"color: #008080; text-decoration-color: #008080; font-weight: bold\">10</span>, <span style=\"color: #008080; text-decoration-color: #008080; font-weight: bold\">41</span><span style=\"font-weight: bold\">]</span>\n",
       "</pre>\n"
      ],
      "text/plain": [
       "\u001b[1;36m0.23314\u001b[0m         \u001b[1m[\u001b[0m\u001b[1;36m10\u001b[0m, \u001b[1;36m41\u001b[0m\u001b[1m]\u001b[0m\n"
      ]
     },
     "metadata": {},
     "output_type": "display_data"
    },
    {
     "data": {
      "text/html": [
       "<pre style=\"white-space:pre;overflow-x:auto;line-height:normal;font-family:Menlo,'DejaVu Sans Mono',consolas,'Courier New',monospace\"><span style=\"color: #008080; text-decoration-color: #008080; font-weight: bold\">0.23314</span>         <span style=\"font-weight: bold\">[</span><span style=\"color: #008080; text-decoration-color: #008080; font-weight: bold\">10</span>, <span style=\"color: #008080; text-decoration-color: #008080; font-weight: bold\">36</span>, <span style=\"color: #008080; text-decoration-color: #008080; font-weight: bold\">41</span><span style=\"font-weight: bold\">]</span>\n",
       "</pre>\n"
      ],
      "text/plain": [
       "\u001b[1;36m0.23314\u001b[0m         \u001b[1m[\u001b[0m\u001b[1;36m10\u001b[0m, \u001b[1;36m36\u001b[0m, \u001b[1;36m41\u001b[0m\u001b[1m]\u001b[0m\n"
      ]
     },
     "metadata": {},
     "output_type": "display_data"
    },
    {
     "data": {
      "text/html": [
       "<pre style=\"white-space:pre;overflow-x:auto;line-height:normal;font-family:Menlo,'DejaVu Sans Mono',consolas,'Courier New',monospace\"><span style=\"color: #008080; text-decoration-color: #008080; font-weight: bold\">0.35319</span>         <span style=\"font-weight: bold\">[</span><span style=\"color: #008080; text-decoration-color: #008080; font-weight: bold\">23</span>, <span style=\"color: #008080; text-decoration-color: #008080; font-weight: bold\">41</span><span style=\"font-weight: bold\">]</span>\n",
       "</pre>\n"
      ],
      "text/plain": [
       "\u001b[1;36m0.35319\u001b[0m         \u001b[1m[\u001b[0m\u001b[1;36m23\u001b[0m, \u001b[1;36m41\u001b[0m\u001b[1m]\u001b[0m\n"
      ]
     },
     "metadata": {},
     "output_type": "display_data"
    },
    {
     "data": {
      "text/html": [
       "<pre style=\"white-space:pre;overflow-x:auto;line-height:normal;font-family:Menlo,'DejaVu Sans Mono',consolas,'Courier New',monospace\"><span style=\"color: #008080; text-decoration-color: #008080; font-weight: bold\">0.35319</span>         <span style=\"font-weight: bold\">[</span><span style=\"color: #008080; text-decoration-color: #008080; font-weight: bold\">23</span>, <span style=\"color: #008080; text-decoration-color: #008080; font-weight: bold\">24</span>, <span style=\"color: #008080; text-decoration-color: #008080; font-weight: bold\">41</span><span style=\"font-weight: bold\">]</span>\n",
       "</pre>\n"
      ],
      "text/plain": [
       "\u001b[1;36m0.35319\u001b[0m         \u001b[1m[\u001b[0m\u001b[1;36m23\u001b[0m, \u001b[1;36m24\u001b[0m, \u001b[1;36m41\u001b[0m\u001b[1m]\u001b[0m\n"
      ]
     },
     "metadata": {},
     "output_type": "display_data"
    },
    {
     "data": {
      "text/html": [
       "<pre style=\"white-space:pre;overflow-x:auto;line-height:normal;font-family:Menlo,'DejaVu Sans Mono',consolas,'Courier New',monospace\"><span style=\"color: #008080; text-decoration-color: #008080; font-weight: bold\">0.36756</span>         <span style=\"font-weight: bold\">[</span><span style=\"color: #008080; text-decoration-color: #008080; font-weight: bold\">13</span>, <span style=\"color: #008080; text-decoration-color: #008080; font-weight: bold\">32</span><span style=\"font-weight: bold\">]</span>\n",
       "</pre>\n"
      ],
      "text/plain": [
       "\u001b[1;36m0.36756\u001b[0m         \u001b[1m[\u001b[0m\u001b[1;36m13\u001b[0m, \u001b[1;36m32\u001b[0m\u001b[1m]\u001b[0m\n"
      ]
     },
     "metadata": {},
     "output_type": "display_data"
    },
    {
     "data": {
      "text/html": [
       "<pre style=\"white-space:pre;overflow-x:auto;line-height:normal;font-family:Menlo,'DejaVu Sans Mono',consolas,'Courier New',monospace\"><span style=\"color: #008080; text-decoration-color: #008080; font-weight: bold\">0.36756</span>         <span style=\"font-weight: bold\">[</span><span style=\"color: #008080; text-decoration-color: #008080; font-weight: bold\">12</span>, <span style=\"color: #008080; text-decoration-color: #008080; font-weight: bold\">13</span>, <span style=\"color: #008080; text-decoration-color: #008080; font-weight: bold\">32</span><span style=\"font-weight: bold\">]</span>\n",
       "</pre>\n"
      ],
      "text/plain": [
       "\u001b[1;36m0.36756\u001b[0m         \u001b[1m[\u001b[0m\u001b[1;36m12\u001b[0m, \u001b[1;36m13\u001b[0m, \u001b[1;36m32\u001b[0m\u001b[1m]\u001b[0m\n"
      ]
     },
     "metadata": {},
     "output_type": "display_data"
    },
    {
     "data": {
      "text/html": [
       "<pre style=\"white-space:pre;overflow-x:auto;line-height:normal;font-family:Menlo,'DejaVu Sans Mono',consolas,'Courier New',monospace\"><span style=\"color: #008080; text-decoration-color: #008080; font-weight: bold\">0.44645</span>         <span style=\"font-weight: bold\">[</span><span style=\"color: #008080; text-decoration-color: #008080; font-weight: bold\">2</span>, <span style=\"color: #008080; text-decoration-color: #008080; font-weight: bold\">35</span><span style=\"font-weight: bold\">]</span>\n",
       "</pre>\n"
      ],
      "text/plain": [
       "\u001b[1;36m0.44645\u001b[0m         \u001b[1m[\u001b[0m\u001b[1;36m2\u001b[0m, \u001b[1;36m35\u001b[0m\u001b[1m]\u001b[0m\n"
      ]
     },
     "metadata": {},
     "output_type": "display_data"
    },
    {
     "data": {
      "text/html": [
       "<pre style=\"white-space:pre;overflow-x:auto;line-height:normal;font-family:Menlo,'DejaVu Sans Mono',consolas,'Courier New',monospace\"><span style=\"color: #008080; text-decoration-color: #008080; font-weight: bold\">0.44645</span>         <span style=\"font-weight: bold\">[</span><span style=\"color: #008080; text-decoration-color: #008080; font-weight: bold\">2</span>, <span style=\"color: #008080; text-decoration-color: #008080; font-weight: bold\">27</span>, <span style=\"color: #008080; text-decoration-color: #008080; font-weight: bold\">35</span><span style=\"font-weight: bold\">]</span>\n",
       "</pre>\n"
      ],
      "text/plain": [
       "\u001b[1;36m0.44645\u001b[0m         \u001b[1m[\u001b[0m\u001b[1;36m2\u001b[0m, \u001b[1;36m27\u001b[0m, \u001b[1;36m35\u001b[0m\u001b[1m]\u001b[0m\n"
      ]
     },
     "metadata": {},
     "output_type": "display_data"
    },
    {
     "data": {
      "text/html": [
       "<pre style=\"white-space:pre;overflow-x:auto;line-height:normal;font-family:Menlo,'DejaVu Sans Mono',consolas,'Courier New',monospace\"><span style=\"color: #008080; text-decoration-color: #008080; font-weight: bold\">0.62248</span>         <span style=\"font-weight: bold\">[</span><span style=\"color: #008080; text-decoration-color: #008080; font-weight: bold\">26</span>, <span style=\"color: #008080; text-decoration-color: #008080; font-weight: bold\">42</span><span style=\"font-weight: bold\">]</span>\n",
       "</pre>\n"
      ],
      "text/plain": [
       "\u001b[1;36m0.62248\u001b[0m         \u001b[1m[\u001b[0m\u001b[1;36m26\u001b[0m, \u001b[1;36m42\u001b[0m\u001b[1m]\u001b[0m\n"
      ]
     },
     "metadata": {},
     "output_type": "display_data"
    },
    {
     "data": {
      "text/html": [
       "<pre style=\"white-space:pre;overflow-x:auto;line-height:normal;font-family:Menlo,'DejaVu Sans Mono',consolas,'Courier New',monospace\"><span style=\"color: #008080; text-decoration-color: #008080; font-weight: bold\">0.62248</span>         <span style=\"font-weight: bold\">[</span><span style=\"color: #008080; text-decoration-color: #008080; font-weight: bold\">7</span>, <span style=\"color: #008080; text-decoration-color: #008080; font-weight: bold\">26</span>, <span style=\"color: #008080; text-decoration-color: #008080; font-weight: bold\">42</span><span style=\"font-weight: bold\">]</span>\n",
       "</pre>\n"
      ],
      "text/plain": [
       "\u001b[1;36m0.62248\u001b[0m         \u001b[1m[\u001b[0m\u001b[1;36m7\u001b[0m, \u001b[1;36m26\u001b[0m, \u001b[1;36m42\u001b[0m\u001b[1m]\u001b[0m\n"
      ]
     },
     "metadata": {},
     "output_type": "display_data"
    },
    {
     "data": {
      "text/html": [
       "<pre style=\"white-space:pre;overflow-x:auto;line-height:normal;font-family:Menlo,'DejaVu Sans Mono',consolas,'Courier New',monospace\"><span style=\"color: #008080; text-decoration-color: #008080; font-weight: bold\">0.78166</span>         <span style=\"font-weight: bold\">[</span><span style=\"color: #008080; text-decoration-color: #008080; font-weight: bold\">32</span>, <span style=\"color: #008080; text-decoration-color: #008080; font-weight: bold\">35</span><span style=\"font-weight: bold\">]</span>\n",
       "</pre>\n"
      ],
      "text/plain": [
       "\u001b[1;36m0.78166\u001b[0m         \u001b[1m[\u001b[0m\u001b[1;36m32\u001b[0m, \u001b[1;36m35\u001b[0m\u001b[1m]\u001b[0m\n"
      ]
     },
     "metadata": {},
     "output_type": "display_data"
    },
    {
     "data": {
      "text/html": [
       "<pre style=\"white-space:pre;overflow-x:auto;line-height:normal;font-family:Menlo,'DejaVu Sans Mono',consolas,'Courier New',monospace\"><span style=\"color: #008080; text-decoration-color: #008080; font-weight: bold\">0.78166</span>         <span style=\"font-weight: bold\">[</span><span style=\"color: #008080; text-decoration-color: #008080; font-weight: bold\">2</span>, <span style=\"color: #008080; text-decoration-color: #008080; font-weight: bold\">32</span>, <span style=\"color: #008080; text-decoration-color: #008080; font-weight: bold\">35</span><span style=\"font-weight: bold\">]</span>\n",
       "</pre>\n"
      ],
      "text/plain": [
       "\u001b[1;36m0.78166\u001b[0m         \u001b[1m[\u001b[0m\u001b[1;36m2\u001b[0m, \u001b[1;36m32\u001b[0m, \u001b[1;36m35\u001b[0m\u001b[1m]\u001b[0m\n"
      ]
     },
     "metadata": {},
     "output_type": "display_data"
    },
    {
     "data": {
      "text/html": [
       "<pre style=\"white-space:pre;overflow-x:auto;line-height:normal;font-family:Menlo,'DejaVu Sans Mono',consolas,'Courier New',monospace\"><span style=\"color: #008080; text-decoration-color: #008080; font-weight: bold\">0.78426</span>         <span style=\"font-weight: bold\">[</span><span style=\"color: #008080; text-decoration-color: #008080; font-weight: bold\">21</span>, <span style=\"color: #008080; text-decoration-color: #008080; font-weight: bold\">41</span><span style=\"font-weight: bold\">]</span>\n",
       "</pre>\n"
      ],
      "text/plain": [
       "\u001b[1;36m0.78426\u001b[0m         \u001b[1m[\u001b[0m\u001b[1;36m21\u001b[0m, \u001b[1;36m41\u001b[0m\u001b[1m]\u001b[0m\n"
      ]
     },
     "metadata": {},
     "output_type": "display_data"
    },
    {
     "data": {
      "text/html": [
       "<pre style=\"white-space:pre;overflow-x:auto;line-height:normal;font-family:Menlo,'DejaVu Sans Mono',consolas,'Courier New',monospace\"><span style=\"color: #008080; text-decoration-color: #008080; font-weight: bold\">0.78426</span>         <span style=\"font-weight: bold\">[</span><span style=\"color: #008080; text-decoration-color: #008080; font-weight: bold\">21</span>, <span style=\"color: #008080; text-decoration-color: #008080; font-weight: bold\">23</span>, <span style=\"color: #008080; text-decoration-color: #008080; font-weight: bold\">41</span><span style=\"font-weight: bold\">]</span>\n",
       "</pre>\n"
      ],
      "text/plain": [
       "\u001b[1;36m0.78426\u001b[0m         \u001b[1m[\u001b[0m\u001b[1;36m21\u001b[0m, \u001b[1;36m23\u001b[0m, \u001b[1;36m41\u001b[0m\u001b[1m]\u001b[0m\n"
      ]
     },
     "metadata": {},
     "output_type": "display_data"
    },
    {
     "data": {
      "text/html": [
       "<pre style=\"white-space:pre;overflow-x:auto;line-height:normal;font-family:Menlo,'DejaVu Sans Mono',consolas,'Courier New',monospace\"><span style=\"color: #008080; text-decoration-color: #008080; font-weight: bold\">0.86188</span>         <span style=\"font-weight: bold\">[</span><span style=\"color: #008080; text-decoration-color: #008080; font-weight: bold\">8</span>, <span style=\"color: #008080; text-decoration-color: #008080; font-weight: bold\">10</span><span style=\"font-weight: bold\">]</span>\n",
       "</pre>\n"
      ],
      "text/plain": [
       "\u001b[1;36m0.86188\u001b[0m         \u001b[1m[\u001b[0m\u001b[1;36m8\u001b[0m, \u001b[1;36m10\u001b[0m\u001b[1m]\u001b[0m\n"
      ]
     },
     "metadata": {},
     "output_type": "display_data"
    },
    {
     "data": {
      "text/html": [
       "<pre style=\"white-space:pre;overflow-x:auto;line-height:normal;font-family:Menlo,'DejaVu Sans Mono',consolas,'Courier New',monospace\"><span style=\"color: #008080; text-decoration-color: #008080; font-weight: bold\">0.86188</span>         <span style=\"font-weight: bold\">[</span><span style=\"color: #008080; text-decoration-color: #008080; font-weight: bold\">8</span>, <span style=\"color: #008080; text-decoration-color: #008080; font-weight: bold\">10</span>, <span style=\"color: #008080; text-decoration-color: #008080; font-weight: bold\">11</span><span style=\"font-weight: bold\">]</span>\n",
       "</pre>\n"
      ],
      "text/plain": [
       "\u001b[1;36m0.86188\u001b[0m         \u001b[1m[\u001b[0m\u001b[1;36m8\u001b[0m, \u001b[1;36m10\u001b[0m, \u001b[1;36m11\u001b[0m\u001b[1m]\u001b[0m\n"
      ]
     },
     "metadata": {},
     "output_type": "display_data"
    },
    {
     "data": {
      "text/html": [
       "<pre style=\"white-space:pre;overflow-x:auto;line-height:normal;font-family:Menlo,'DejaVu Sans Mono',consolas,'Courier New',monospace\"><span style=\"color: #008080; text-decoration-color: #008080; font-weight: bold\">2.60283</span>         <span style=\"font-weight: bold\">[</span><span style=\"color: #008080; text-decoration-color: #008080; font-weight: bold\">8</span>, <span style=\"color: #008080; text-decoration-color: #008080; font-weight: bold\">41</span><span style=\"font-weight: bold\">]</span>\n",
       "</pre>\n"
      ],
      "text/plain": [
       "\u001b[1;36m2.60283\u001b[0m         \u001b[1m[\u001b[0m\u001b[1;36m8\u001b[0m, \u001b[1;36m41\u001b[0m\u001b[1m]\u001b[0m\n"
      ]
     },
     "metadata": {},
     "output_type": "display_data"
    },
    {
     "data": {
      "text/html": [
       "<pre style=\"white-space:pre;overflow-x:auto;line-height:normal;font-family:Menlo,'DejaVu Sans Mono',consolas,'Courier New',monospace\"><span style=\"color: #008080; text-decoration-color: #008080; font-weight: bold\">2.60283</span>         <span style=\"font-weight: bold\">[</span><span style=\"color: #008080; text-decoration-color: #008080; font-weight: bold\">8</span>, <span style=\"color: #008080; text-decoration-color: #008080; font-weight: bold\">10</span>, <span style=\"color: #008080; text-decoration-color: #008080; font-weight: bold\">41</span><span style=\"font-weight: bold\">]</span>\n",
       "</pre>\n"
      ],
      "text/plain": [
       "\u001b[1;36m2.60283\u001b[0m         \u001b[1m[\u001b[0m\u001b[1;36m8\u001b[0m, \u001b[1;36m10\u001b[0m, \u001b[1;36m41\u001b[0m\u001b[1m]\u001b[0m\n"
      ]
     },
     "metadata": {},
     "output_type": "display_data"
    }
   ],
   "source": [
    "import gudhi as gd\n",
    "skeleton = gd.AlphaComplex(\n",
    "    points = X\n",
    ")\n",
    "st = skeleton.create_simplex_tree()\n",
    "gudhi_cech_complex = list(map(lambda t : (t[0],np.sqrt(t[1])), st.get_filtration()))\n",
    "print(len(gudhi_cech_complex))\n",
    "for sigma in sorted(gudhi_cech_complex, key = lambda t: t[1]) :\n",
    "    print(\"{:.5f}\".format(sigma[1])+\"\\t\\t\"+str(sigma[0]))"
   ]
  },
  {
   "cell_type": "code",
   "execution_count": 9,
   "id": "8d0d7adc",
   "metadata": {},
   "outputs": [
    {
     "data": {
      "text/html": [
       "<pre style=\"white-space:pre;overflow-x:auto;line-height:normal;font-family:Menlo,'DejaVu Sans Mono',consolas,'Courier New',monospace\"><span style=\"font-weight: bold\">[[</span><span style=\"color: #008080; text-decoration-color: #008080; font-weight: bold\">0</span>.         <span style=\"color: #008080; text-decoration-color: #008080; font-weight: bold\">0.24321456</span> <span style=\"color: #008080; text-decoration-color: #008080; font-weight: bold\">0.30512739</span> <span style=\"color: #808000; text-decoration-color: #808000\">...</span> <span style=\"color: #008080; text-decoration-color: #008080; font-weight: bold\">0.23229832</span> <span style=\"color: #008080; text-decoration-color: #008080; font-weight: bold\">0.26322716</span> <span style=\"color: #008080; text-decoration-color: #008080; font-weight: bold\">0.16817392</span><span style=\"font-weight: bold\">]</span>\n",
       " <span style=\"font-weight: bold\">[</span><span style=\"color: #008080; text-decoration-color: #008080; font-weight: bold\">0.24321456</span> <span style=\"color: #008080; text-decoration-color: #008080; font-weight: bold\">0</span>.         <span style=\"color: #008080; text-decoration-color: #008080; font-weight: bold\">0.08912278</span> <span style=\"color: #808000; text-decoration-color: #808000\">...</span> <span style=\"color: #008080; text-decoration-color: #008080; font-weight: bold\">0.02593219</span> <span style=\"color: #008080; text-decoration-color: #008080; font-weight: bold\">0.37618034</span> <span style=\"color: #008080; text-decoration-color: #008080; font-weight: bold\">0.18351917</span><span style=\"font-weight: bold\">]</span>\n",
       " <span style=\"font-weight: bold\">[</span><span style=\"color: #008080; text-decoration-color: #008080; font-weight: bold\">0.30512739</span> <span style=\"color: #008080; text-decoration-color: #008080; font-weight: bold\">0.08912278</span> <span style=\"color: #008080; text-decoration-color: #008080; font-weight: bold\">0</span>.         <span style=\"color: #808000; text-decoration-color: #808000\">...</span> <span style=\"color: #008080; text-decoration-color: #008080; font-weight: bold\">0.1147983</span>  <span style=\"color: #008080; text-decoration-color: #008080; font-weight: bold\">0.46441039</span> <span style=\"color: #008080; text-decoration-color: #008080; font-weight: bold\">0.27182689</span><span style=\"font-weight: bold\">]</span>\n",
       " <span style=\"color: #808000; text-decoration-color: #808000\">...</span>\n",
       " <span style=\"font-weight: bold\">[</span><span style=\"color: #008080; text-decoration-color: #008080; font-weight: bold\">0.23229832</span> <span style=\"color: #008080; text-decoration-color: #008080; font-weight: bold\">0.02593219</span> <span style=\"color: #008080; text-decoration-color: #008080; font-weight: bold\">0.1147983</span>  <span style=\"color: #808000; text-decoration-color: #808000\">...</span> <span style=\"color: #008080; text-decoration-color: #008080; font-weight: bold\">0</span>.         <span style=\"color: #008080; text-decoration-color: #008080; font-weight: bold\">0.35163697</span> <span style=\"color: #008080; text-decoration-color: #008080; font-weight: bold\">0.15915859</span><span style=\"font-weight: bold\">]</span>\n",
       " <span style=\"font-weight: bold\">[</span><span style=\"color: #008080; text-decoration-color: #008080; font-weight: bold\">0.26322716</span> <span style=\"color: #008080; text-decoration-color: #008080; font-weight: bold\">0.37618034</span> <span style=\"color: #008080; text-decoration-color: #008080; font-weight: bold\">0.46441039</span> <span style=\"color: #808000; text-decoration-color: #808000\">...</span> <span style=\"color: #008080; text-decoration-color: #008080; font-weight: bold\">0.35163697</span> <span style=\"color: #008080; text-decoration-color: #008080; font-weight: bold\">0</span>.         <span style=\"color: #008080; text-decoration-color: #008080; font-weight: bold\">0.19267098</span><span style=\"font-weight: bold\">]</span>\n",
       " <span style=\"font-weight: bold\">[</span><span style=\"color: #008080; text-decoration-color: #008080; font-weight: bold\">0.16817392</span> <span style=\"color: #008080; text-decoration-color: #008080; font-weight: bold\">0.18351917</span> <span style=\"color: #008080; text-decoration-color: #008080; font-weight: bold\">0.27182689</span> <span style=\"color: #808000; text-decoration-color: #808000\">...</span> <span style=\"color: #008080; text-decoration-color: #008080; font-weight: bold\">0.15915859</span> <span style=\"color: #008080; text-decoration-color: #008080; font-weight: bold\">0.19267098</span> <span style=\"color: #008080; text-decoration-color: #008080; font-weight: bold\">0</span>.        <span style=\"font-weight: bold\">]]</span>\n",
       "</pre>\n"
      ],
      "text/plain": [
       "\u001b[1m[\u001b[0m\u001b[1m[\u001b[0m\u001b[1;36m0\u001b[0m.         \u001b[1;36m0.24321456\u001b[0m \u001b[1;36m0.30512739\u001b[0m \u001b[33m...\u001b[0m \u001b[1;36m0.23229832\u001b[0m \u001b[1;36m0.26322716\u001b[0m \u001b[1;36m0.16817392\u001b[0m\u001b[1m]\u001b[0m\n",
       " \u001b[1m[\u001b[0m\u001b[1;36m0.24321456\u001b[0m \u001b[1;36m0\u001b[0m.         \u001b[1;36m0.08912278\u001b[0m \u001b[33m...\u001b[0m \u001b[1;36m0.02593219\u001b[0m \u001b[1;36m0.37618034\u001b[0m \u001b[1;36m0.18351917\u001b[0m\u001b[1m]\u001b[0m\n",
       " \u001b[1m[\u001b[0m\u001b[1;36m0.30512739\u001b[0m \u001b[1;36m0.08912278\u001b[0m \u001b[1;36m0\u001b[0m.         \u001b[33m...\u001b[0m \u001b[1;36m0.1147983\u001b[0m  \u001b[1;36m0.46441039\u001b[0m \u001b[1;36m0.27182689\u001b[0m\u001b[1m]\u001b[0m\n",
       " \u001b[33m...\u001b[0m\n",
       " \u001b[1m[\u001b[0m\u001b[1;36m0.23229832\u001b[0m \u001b[1;36m0.02593219\u001b[0m \u001b[1;36m0.1147983\u001b[0m  \u001b[33m...\u001b[0m \u001b[1;36m0\u001b[0m.         \u001b[1;36m0.35163697\u001b[0m \u001b[1;36m0.15915859\u001b[0m\u001b[1m]\u001b[0m\n",
       " \u001b[1m[\u001b[0m\u001b[1;36m0.26322716\u001b[0m \u001b[1;36m0.37618034\u001b[0m \u001b[1;36m0.46441039\u001b[0m \u001b[33m...\u001b[0m \u001b[1;36m0.35163697\u001b[0m \u001b[1;36m0\u001b[0m.         \u001b[1;36m0.19267098\u001b[0m\u001b[1m]\u001b[0m\n",
       " \u001b[1m[\u001b[0m\u001b[1;36m0.16817392\u001b[0m \u001b[1;36m0.18351917\u001b[0m \u001b[1;36m0.27182689\u001b[0m \u001b[33m...\u001b[0m \u001b[1;36m0.15915859\u001b[0m \u001b[1;36m0.19267098\u001b[0m \u001b[1;36m0\u001b[0m.        \u001b[1m]\u001b[0m\u001b[1m]\u001b[0m\n"
      ]
     },
     "metadata": {},
     "output_type": "display_data"
    }
   ],
   "source": [
    "print(spatial.distance_matrix(X,X)/2)"
   ]
  }
 ],
 "metadata": {
  "kernelspec": {
   "display_name": "Python 3: Topological Data Analysis",
   "language": "python",
   "name": "az1"
  },
  "language_info": {
   "codemirror_mode": {
    "name": "ipython",
    "version": 3
   },
   "file_extension": ".py",
   "mimetype": "text/x-python",
   "name": "python",
   "nbconvert_exporter": "python",
   "pygments_lexer": "ipython3",
   "version": "3.9.7"
  }
 },
 "nbformat": 4,
 "nbformat_minor": 5
}
