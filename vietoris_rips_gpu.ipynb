{
 "cells": [
  {
   "cell_type": "code",
   "execution_count": 1,
   "id": "5cfdbe9b",
   "metadata": {},
   "outputs": [],
   "source": [
    "import json\n",
    "import numpy as np\n",
    "import matplotlib.pyplot as plt\n",
    "import tensorflow as tf\n",
    "from tqdm.notebook import tqdm\n",
    "from functools import partial\n",
    "import gudhi as gd\n",
    "\n",
    "with open(\"data/drugbank.json\", mode = \"r\") as drugbank:\n",
    "    db = json.load(drugbank)"
   ]
  },
  {
   "cell_type": "code",
   "execution_count": 2,
   "id": "dc3ec9c1",
   "metadata": {},
   "outputs": [
    {
     "data": {
      "application/vnd.jupyter.widget-view+json": {
       "model_id": "e07d5c60d4fe417f8ef948c6c1347028",
       "version_major": 2,
       "version_minor": 0
      },
      "text/plain": [
       "  0%|          | 0/9701 [00:00<?, ?it/s]"
      ]
     },
     "metadata": {},
     "output_type": "display_data"
    },
    {
     "ename": "KeyboardInterrupt",
     "evalue": "",
     "output_type": "error",
     "traceback": [
      "\u001b[0;31m---------------------------------------------------------------------------\u001b[0m",
      "\u001b[0;31mKeyboardInterrupt\u001b[0m                         Traceback (most recent call last)",
      "\u001b[0;32m/tmp/ipykernel_11241/3433362011.py\u001b[0m in \u001b[0;36m<module>\u001b[0;34m\u001b[0m\n\u001b[1;32m     34\u001b[0m     \u001b[0;32mreturn\u001b[0m \u001b[0;34m(\u001b[0m\u001b[0mmm_range\u001b[0m\u001b[0;34m,\u001b[0m \u001b[0mmixtures\u001b[0m\u001b[0;34m)\u001b[0m\u001b[0;34m\u001b[0m\u001b[0;34m\u001b[0m\u001b[0m\n\u001b[1;32m     35\u001b[0m \u001b[0;34m\u001b[0m\u001b[0m\n\u001b[0;32m---> 36\u001b[0;31m \u001b[0mpoint_clouds\u001b[0m \u001b[0;34m=\u001b[0m \u001b[0;34m[\u001b[0m \u001b[0mbuild_point_cloud\u001b[0m\u001b[0;34m(\u001b[0m\u001b[0mms\u001b[0m\u001b[0;34m,\u001b[0m \u001b[0;36m1e3\u001b[0m\u001b[0;34m,\u001b[0m \u001b[0;36m4\u001b[0m\u001b[0;34m)\u001b[0m \u001b[0;32mfor\u001b[0m \u001b[0mms\u001b[0m \u001b[0;32min\u001b[0m \u001b[0mtqdm\u001b[0m\u001b[0;34m(\u001b[0m\u001b[0mlist\u001b[0m\u001b[0;34m(\u001b[0m\u001b[0mdb\u001b[0m\u001b[0;34m.\u001b[0m\u001b[0mvalues\u001b[0m\u001b[0;34m(\u001b[0m\u001b[0;34m)\u001b[0m\u001b[0;34m)\u001b[0m\u001b[0;34m)\u001b[0m \u001b[0;34m]\u001b[0m\u001b[0;34m\u001b[0m\u001b[0;34m\u001b[0m\u001b[0m\n\u001b[0m",
      "\u001b[0;32m/tmp/ipykernel_11241/3433362011.py\u001b[0m in \u001b[0;36m<listcomp>\u001b[0;34m(.0)\u001b[0m\n\u001b[1;32m     34\u001b[0m     \u001b[0;32mreturn\u001b[0m \u001b[0;34m(\u001b[0m\u001b[0mmm_range\u001b[0m\u001b[0;34m,\u001b[0m \u001b[0mmixtures\u001b[0m\u001b[0;34m)\u001b[0m\u001b[0;34m\u001b[0m\u001b[0;34m\u001b[0m\u001b[0m\n\u001b[1;32m     35\u001b[0m \u001b[0;34m\u001b[0m\u001b[0m\n\u001b[0;32m---> 36\u001b[0;31m \u001b[0mpoint_clouds\u001b[0m \u001b[0;34m=\u001b[0m \u001b[0;34m[\u001b[0m \u001b[0mbuild_point_cloud\u001b[0m\u001b[0;34m(\u001b[0m\u001b[0mms\u001b[0m\u001b[0;34m,\u001b[0m \u001b[0;36m1e3\u001b[0m\u001b[0;34m,\u001b[0m \u001b[0;36m4\u001b[0m\u001b[0;34m)\u001b[0m \u001b[0;32mfor\u001b[0m \u001b[0mms\u001b[0m \u001b[0;32min\u001b[0m \u001b[0mtqdm\u001b[0m\u001b[0;34m(\u001b[0m\u001b[0mlist\u001b[0m\u001b[0;34m(\u001b[0m\u001b[0mdb\u001b[0m\u001b[0;34m.\u001b[0m\u001b[0mvalues\u001b[0m\u001b[0;34m(\u001b[0m\u001b[0;34m)\u001b[0m\u001b[0;34m)\u001b[0m\u001b[0;34m)\u001b[0m \u001b[0;34m]\u001b[0m\u001b[0;34m\u001b[0m\u001b[0;34m\u001b[0m\u001b[0m\n\u001b[0m",
      "\u001b[0;32m/tmp/ipykernel_11241/3433362011.py\u001b[0m in \u001b[0;36mbuild_point_cloud\u001b[0;34m(ms, num, sigma)\u001b[0m\n\u001b[1;32m     25\u001b[0m     \u001b[0mmixtures\u001b[0m \u001b[0;34m=\u001b[0m \u001b[0mnp\u001b[0m\u001b[0;34m.\u001b[0m\u001b[0mzeros\u001b[0m\u001b[0;34m(\u001b[0m\u001b[0;34m(\u001b[0m\u001b[0mnum\u001b[0m\u001b[0;34m,\u001b[0m \u001b[0mlen\u001b[0m\u001b[0;34m(\u001b[0m\u001b[0menergies\u001b[0m\u001b[0;34m)\u001b[0m\u001b[0;34m)\u001b[0m\u001b[0;34m)\u001b[0m\u001b[0;34m\u001b[0m\u001b[0;34m\u001b[0m\u001b[0m\n\u001b[1;32m     26\u001b[0m     \u001b[0;32mfor\u001b[0m \u001b[0midx\u001b[0m\u001b[0;34m,\u001b[0m \u001b[0menergy\u001b[0m \u001b[0;32min\u001b[0m \u001b[0menumerate\u001b[0m\u001b[0;34m(\u001b[0m\u001b[0menergies\u001b[0m\u001b[0;34m)\u001b[0m\u001b[0;34m:\u001b[0m\u001b[0;34m\u001b[0m\u001b[0;34m\u001b[0m\u001b[0m\n\u001b[0;32m---> 27\u001b[0;31m         mix = [\n\u001b[0m\u001b[1;32m     28\u001b[0m             \u001b[0mintens\u001b[0m \u001b[0;34m*\u001b[0m \u001b[0mnp\u001b[0m\u001b[0;34m.\u001b[0m\u001b[0mexp\u001b[0m\u001b[0;34m(\u001b[0m\u001b[0;34m-\u001b[0m\u001b[0;36m.5\u001b[0m\u001b[0;34m*\u001b[0m\u001b[0mnp\u001b[0m\u001b[0;34m.\u001b[0m\u001b[0mpower\u001b[0m\u001b[0;34m(\u001b[0m\u001b[0;34m(\u001b[0m\u001b[0mx_def\u001b[0m \u001b[0;34m-\u001b[0m \u001b[0mpeak\u001b[0m\u001b[0;34m)\u001b[0m\u001b[0;34m/\u001b[0m\u001b[0msigma\u001b[0m\u001b[0;34m,\u001b[0m\u001b[0;36m2\u001b[0m\u001b[0;34m)\u001b[0m\u001b[0;34m)\u001b[0m\u001b[0;34m\u001b[0m\u001b[0;34m\u001b[0m\u001b[0m\n\u001b[1;32m     29\u001b[0m             \u001b[0;32mfor\u001b[0m \u001b[0mpeak\u001b[0m\u001b[0;34m,\u001b[0m\u001b[0mintens\u001b[0m \u001b[0;32min\u001b[0m \u001b[0mzip\u001b[0m\u001b[0;34m(\u001b[0m\u001b[0menergy\u001b[0m\u001b[0;34m[\u001b[0m\u001b[0;34m\"mz\"\u001b[0m\u001b[0;34m]\u001b[0m\u001b[0;34m,\u001b[0m \u001b[0menergy\u001b[0m\u001b[0;34m[\u001b[0m\u001b[0;34m\"intens\"\u001b[0m\u001b[0;34m]\u001b[0m\u001b[0;34m)\u001b[0m\u001b[0;34m\u001b[0m\u001b[0;34m\u001b[0m\u001b[0m\n",
      "\u001b[0;32m/tmp/ipykernel_11241/3433362011.py\u001b[0m in \u001b[0;36m<listcomp>\u001b[0;34m(.0)\u001b[0m\n\u001b[1;32m     26\u001b[0m     \u001b[0;32mfor\u001b[0m \u001b[0midx\u001b[0m\u001b[0;34m,\u001b[0m \u001b[0menergy\u001b[0m \u001b[0;32min\u001b[0m \u001b[0menumerate\u001b[0m\u001b[0;34m(\u001b[0m\u001b[0menergies\u001b[0m\u001b[0;34m)\u001b[0m\u001b[0;34m:\u001b[0m\u001b[0;34m\u001b[0m\u001b[0;34m\u001b[0m\u001b[0m\n\u001b[1;32m     27\u001b[0m         mix = [\n\u001b[0;32m---> 28\u001b[0;31m             \u001b[0mintens\u001b[0m \u001b[0;34m*\u001b[0m \u001b[0mnp\u001b[0m\u001b[0;34m.\u001b[0m\u001b[0mexp\u001b[0m\u001b[0;34m(\u001b[0m\u001b[0;34m-\u001b[0m\u001b[0;36m.5\u001b[0m\u001b[0;34m*\u001b[0m\u001b[0mnp\u001b[0m\u001b[0;34m.\u001b[0m\u001b[0mpower\u001b[0m\u001b[0;34m(\u001b[0m\u001b[0;34m(\u001b[0m\u001b[0mx_def\u001b[0m \u001b[0;34m-\u001b[0m \u001b[0mpeak\u001b[0m\u001b[0;34m)\u001b[0m\u001b[0;34m/\u001b[0m\u001b[0msigma\u001b[0m\u001b[0;34m,\u001b[0m\u001b[0;36m2\u001b[0m\u001b[0;34m)\u001b[0m\u001b[0;34m)\u001b[0m\u001b[0;34m\u001b[0m\u001b[0;34m\u001b[0m\u001b[0m\n\u001b[0m\u001b[1;32m     29\u001b[0m             \u001b[0;32mfor\u001b[0m \u001b[0mpeak\u001b[0m\u001b[0;34m,\u001b[0m\u001b[0mintens\u001b[0m \u001b[0;32min\u001b[0m \u001b[0mzip\u001b[0m\u001b[0;34m(\u001b[0m\u001b[0menergy\u001b[0m\u001b[0;34m[\u001b[0m\u001b[0;34m\"mz\"\u001b[0m\u001b[0;34m]\u001b[0m\u001b[0;34m,\u001b[0m \u001b[0menergy\u001b[0m\u001b[0;34m[\u001b[0m\u001b[0;34m\"intens\"\u001b[0m\u001b[0;34m]\u001b[0m\u001b[0;34m)\u001b[0m\u001b[0;34m\u001b[0m\u001b[0;34m\u001b[0m\u001b[0m\n\u001b[1;32m     30\u001b[0m         ]\n",
      "\u001b[0;31mKeyboardInterrupt\u001b[0m: "
     ]
    }
   ],
   "source": [
    "%matplotlib inline\n",
    "def build_point_cloud(\n",
    "    ms : dict,\n",
    "    num : int,\n",
    "    sigma : float\n",
    "):\n",
    "    def molmass_range(\n",
    "        ms : dict\n",
    "    ):\n",
    "        return (\n",
    "            min([ min(v[\"mz\"]) for k,v in ms.items() if k.startswith(\"energy\") ]),\n",
    "            max([ max(v[\"mz\"]) for k,v in ms.items() if k.startswith(\"energy\") ])\n",
    "        )\n",
    "    \n",
    "    assert sigma > 0\n",
    "    assert num > 0\n",
    "    num = int(num)\n",
    "    # equidistant sampling\n",
    "    mm_range = molmass_range(ms)\n",
    "    x_def = np.linspace(\n",
    "        *mm_range,\n",
    "        num = num,\n",
    "    )\n",
    "    energies = [v for k,v in ms.items() if k.startswith(\"energy\")]\n",
    "    mixtures = np.zeros((num, len(energies)))\n",
    "    for idx, energy in enumerate(energies):        \n",
    "        mix = [\n",
    "            intens * np.exp(-.5*np.power((x_def - peak)/sigma,2))\n",
    "            for peak,intens in zip(energy[\"mz\"], energy[\"intens\"])\n",
    "        ]\n",
    "        mix = np.sum(mix, axis = 0)\n",
    "        mixtures[:,idx] = mix / mix.max()\n",
    "        \n",
    "    return (mm_range, mixtures)\n",
    "\n",
    "point_clouds = [ build_point_cloud(ms, 1e3, 4) for ms in tqdm(list(db.values())) ]"
   ]
  },
  {
   "cell_type": "code",
   "execution_count": null,
   "id": "18ed69cf",
   "metadata": {},
   "outputs": [],
   "source": [
    "from random import choice\n",
    "mm_range, mx = choice(point_clouds)\n",
    "fig = plt.figure(figsize = (20,10))\n",
    "x_def = np.linspace(\n",
    "    *mm_range,\n",
    "    num = int(1e3),\n",
    ")\n",
    "for idx in range(mx.shape[1]):\n",
    "    ax = fig.add_subplot(1,mx.shape[1],idx+1)\n",
    "    ax.plot(x_def, mx[:,idx])\n",
    "plt.show()"
   ]
  },
  {
   "cell_type": "code",
   "execution_count": null,
   "id": "59654aed",
   "metadata": {},
   "outputs": [],
   "source": [
    "%matplotlib inline\n",
    "_, mx = choice(point_clouds)\n",
    "fig = plt.figure(figsize=(10,10))\n",
    "ax = fig.add_subplot(projection = \"3d\")\n",
    "ax.scatter(mx[:,0], mx[:,1], mx[:,2], s = 10, marker = \".\")"
   ]
  },
  {
   "cell_type": "markdown",
   "id": "45c52ddb",
   "metadata": {},
   "source": [
    "def tf_distance_matrix(pc):\n",
    "    _, mx = pc\n",
    "    mx = tf.convert_to_tensor(mx, dtype=tf.float32)\n",
    "    t1 = tf.reshape(mx, (1,mx.shape[0],mx.shape[1]))\n",
    "    t2 = tf.reshape(mx, (mx.shape[0],1,mx.shape[1]))\n",
    "    result = tf.norm(t1-t2, ord='euclidean', axis=2,)\n",
    "    skeleton = gd.RipsComplex(\n",
    "        distance_matrix = result,\n",
    "        max_edge_length = .3\n",
    "    )\n",
    "    st = skeleton.create_simplex_tree(max_dimension = 2)"
   ]
  },
  {
   "cell_type": "code",
   "execution_count": null,
   "id": "cc359d2d",
   "metadata": {},
   "outputs": [],
   "source": [
    "_, mx = choice(point_clouds)\n",
    "mx = tf.convert_to_tensor(mx, dtype=tf.float32)\n",
    "t1 = tf.reshape(mx, (1,mx.shape[0],mx.shape[1]))\n",
    "t2 = tf.reshape(mx, (mx.shape[0],1,mx.shape[1]))\n",
    "\n",
    "result = tf.norm(t1-t2, ord='euclidean', axis=2,)\n",
    "\n",
    "fig = plt.figure()\n",
    "result = result.numpy()\n",
    "result = (result < 0.4)\n",
    "for i in range(result.shape[0]):\n",
    "    for j in range(result.shape[1]):\n",
    "        if i == j:\n",
    "            result[i,j] = False\n",
    "        \n",
    "plt.imshow(result)"
   ]
  },
  {
   "cell_type": "code",
   "execution_count": null,
   "id": "649a5413",
   "metadata": {},
   "outputs": [],
   "source": [
    "import networkx as nx\n",
    "%matplotlib inline\n",
    "\n",
    "G = nx.Graph(result)\n",
    "\n",
    "fig = plt.figure(figsize=(10,10))\n",
    "nx.draw(G, pos = { idx : pos for idx,pos in enumerate(mx[:,:2]) }, node_size = 10)"
   ]
  }
 ],
 "metadata": {
  "kernelspec": {
   "display_name": "Python 3: Topological Data Analysis",
   "language": "python",
   "name": "az1"
  },
  "language_info": {
   "codemirror_mode": {
    "name": "ipython",
    "version": 3
   },
   "file_extension": ".py",
   "mimetype": "text/x-python",
   "name": "python",
   "nbconvert_exporter": "python",
   "pygments_lexer": "ipython3",
   "version": "3.9.7"
  }
 },
 "nbformat": 4,
 "nbformat_minor": 5
}
