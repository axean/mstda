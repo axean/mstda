{
 "cells": [
  {
   "cell_type": "code",
   "execution_count": 1,
   "id": "0b4a78c3",
   "metadata": {},
   "outputs": [],
   "source": [
    "from gtda.homology import EuclideanCechPersistence,VietorisRipsPersistence\n",
    "#from gtda.diagrams import PersistenceImage\n",
    "from gtda.pipeline import Pipeline\n",
    "from gtda.diagrams import Filtering"
   ]
  },
  {
   "cell_type": "code",
   "execution_count": 2,
   "id": "a3168c59",
   "metadata": {},
   "outputs": [
    {
     "data": {
      "text/plain": [
       "4"
      ]
     },
     "execution_count": 2,
     "metadata": {},
     "output_type": "execute_result"
    }
   ],
   "source": [
    "import tensorflow as tf\n",
    "import gudhi as gd\n",
    "import pandas as pd\n",
    "import numpy as np\n",
    "import matplotlib.pyplot as plt\n",
    "import utils\n",
    "import scipy.spatial as spatial\n",
    "import json\n",
    "from rich import print\n",
    "from random import choice, sample\n",
    "from tqdm.notebook import tqdm\n",
    "from rdkit import Chem\n",
    "from rdkit.Chem import Descriptors\n",
    "from gc import collect\n",
    "from pickle import load\n",
    "\n",
    "with open(\"9701_cech_persistence_entropy_012.pickle\", mode = \"rb\") as data:\n",
    "    save_dict = load(data)\n",
    "    train_molecules = save_dict[\"train_molecules\"]\n",
    "    train_data = save_dict[\"train_data\"]\n",
    "    \n",
    "    test_molecules = save_dict[\"test_molecules\"]\n",
    "    test_data = save_dict[\"test_data\"]\n",
    "    \n",
    "%matplotlib inline\n",
    "del save_dict\n",
    "collect()"
   ]
  },
  {
   "cell_type": "code",
   "execution_count": 3,
   "id": "98a9159f",
   "metadata": {},
   "outputs": [
    {
     "data": {
      "text/html": [
       "<pre style=\"white-space:pre;overflow-x:auto;line-height:normal;font-family:Menlo,'DejaVu Sans Mono',consolas,'Courier New',monospace\"><span style=\"font-weight: bold\">(</span><span style=\"color: #008080; text-decoration-color: #008080; font-weight: bold\">7761</span>, <span style=\"color: #008080; text-decoration-color: #008080; font-weight: bold\">9</span><span style=\"font-weight: bold\">)</span>\n",
       "<span style=\"font-weight: bold\">(</span><span style=\"color: #008080; text-decoration-color: #008080; font-weight: bold\">1940</span>, <span style=\"color: #008080; text-decoration-color: #008080; font-weight: bold\">9</span><span style=\"font-weight: bold\">)</span>\n",
       "</pre>\n"
      ],
      "text/plain": [
       "\u001b[1m(\u001b[0m\u001b[1;36m7761\u001b[0m, \u001b[1;36m9\u001b[0m\u001b[1m)\u001b[0m\n",
       "\u001b[1m(\u001b[0m\u001b[1;36m1940\u001b[0m, \u001b[1;36m9\u001b[0m\u001b[1m)\u001b[0m\n"
      ]
     },
     "metadata": {},
     "output_type": "display_data"
    }
   ],
   "source": [
    "print(train_data.shape, test_data.shape)"
   ]
  },
  {
   "cell_type": "markdown",
   "id": "c347a34c",
   "metadata": {},
   "source": [
    "# Extract descriptors\n",
    "(this can be done from rdkit or from the descriptor .csv)"
   ]
  },
  {
   "cell_type": "code",
   "execution_count": 4,
   "id": "e167fe10",
   "metadata": {},
   "outputs": [
    {
     "data": {
      "text/html": [
       "<pre style=\"white-space:pre;overflow-x:auto;line-height:normal;font-family:Menlo,'DejaVu Sans Mono',consolas,'Courier New',monospace\"><span style=\"color: #008080; text-decoration-color: #008080; font-weight: bold\">126</span>\n",
       "</pre>\n"
      ],
      "text/plain": [
       "\u001b[1;36m126\u001b[0m\n"
      ]
     },
     "metadata": {},
     "output_type": "display_data"
    }
   ],
   "source": [
    "df = pd.read_csv(\"data/Drugbank_some_descriptors.csv\")\n",
    "cntr = 0\n",
    "for d in df:\n",
    "    cntr += 1\n",
    "print(cntr)"
   ]
  },
  {
   "cell_type": "markdown",
   "id": "26e180ac",
   "metadata": {},
   "source": [
    "### Filter descriptors which are unavailable"
   ]
  },
  {
   "cell_type": "code",
   "execution_count": 5,
   "id": "05265045",
   "metadata": {
    "scrolled": false
   },
   "outputs": [
    {
     "data": {
      "text/html": [
       "<pre style=\"white-space:pre;overflow-x:auto;line-height:normal;font-family:Menlo,'DejaVu Sans Mono',consolas,'Courier New',monospace\"><span style=\"font-weight: bold\">[</span><span style=\"color: #008000; text-decoration-color: #008000\">'OEselma Descriptors;ring_count'</span>, <span style=\"color: #008000; text-decoration-color: #008000\">'OEselma Descriptors;carbon_count'</span><span style=\"font-weight: bold\">]</span>\n",
       "</pre>\n"
      ],
      "text/plain": [
       "\u001b[1m[\u001b[0m\u001b[32m'OEselma Descriptors;ring_count'\u001b[0m, \u001b[32m'OEselma Descriptors;carbon_count'\u001b[0m\u001b[1m]\u001b[0m\n"
      ]
     },
     "metadata": {},
     "output_type": "display_data"
    }
   ],
   "source": [
    "descriptors = list()\n",
    "\n",
    "#---- consider only descriptors which have few missing values and which are floating point\n",
    "for d in df:\n",
    "    if df[d].isna().sum() < 800 and df[d].dtype == np.float64:\n",
    "        descriptors.append(d)\n",
    "\n",
    "filter_descriptors = filter(lambda d : \"OEselma Descriptors;ring_count\" not in d and \"OEselma Descriptors;carbon_count\" not in d, descriptors)\n",
    "descriptors = list(set(descriptors) - set(filter_descriptors))\n",
    "num_descriptors = len(descriptors)\n",
    "\n",
    "#---- select only smiles which have these descriptor values\n",
    "train_smiles = set(train_molecules)\n",
    "test_smiles = set(test_molecules)\n",
    "\n",
    "for i,d in enumerate(descriptors):\n",
    "    avail_rows = df[np.logical_not(df[d].isna())]\n",
    "    train_smiles = set(avail_rows[\"SMILES\"]).intersection(train_smiles)\n",
    "    test_smiles = set(avail_rows[\"SMILES\"]).intersection(test_smiles)\n",
    "\n",
    "train_idxs = np.asarray(sorted([ train_molecules.index(t) for t in train_smiles ]))\n",
    "test_idxs = np.asarray(sorted([ test_molecules.index(t) for t in test_smiles ]))\n",
    "\n",
    "train_molecules = np.asarray(train_molecules)\n",
    "train_molecules = train_molecules[train_idxs]\n",
    "train_data = train_data[train_idxs]\n",
    "\n",
    "test_molecules = np.asarray(test_molecules)\n",
    "test_molecules = test_molecules[test_idxs]\n",
    "test_data = test_data[test_idxs]\n",
    "#----\n",
    "print(descriptors)"
   ]
  },
  {
   "cell_type": "code",
   "execution_count": 6,
   "id": "cc81e5d5",
   "metadata": {},
   "outputs": [
    {
     "data": {
      "text/html": [
       "<pre style=\"white-space:pre;overflow-x:auto;line-height:normal;font-family:Menlo,'DejaVu Sans Mono',consolas,'Courier New',monospace\"><span style=\"font-weight: bold\">(</span><span style=\"color: #008080; text-decoration-color: #008080; font-weight: bold\">7754</span>, <span style=\"color: #008080; text-decoration-color: #008080; font-weight: bold\">9</span><span style=\"font-weight: bold\">)</span>\n",
       "<span style=\"font-weight: bold\">(</span><span style=\"color: #008080; text-decoration-color: #008080; font-weight: bold\">1939</span>, <span style=\"color: #008080; text-decoration-color: #008080; font-weight: bold\">9</span><span style=\"font-weight: bold\">)</span>\n",
       "</pre>\n"
      ],
      "text/plain": [
       "\u001b[1m(\u001b[0m\u001b[1;36m7754\u001b[0m, \u001b[1;36m9\u001b[0m\u001b[1m)\u001b[0m\n",
       "\u001b[1m(\u001b[0m\u001b[1;36m1939\u001b[0m, \u001b[1;36m9\u001b[0m\u001b[1m)\u001b[0m\n"
      ]
     },
     "metadata": {},
     "output_type": "display_data"
    }
   ],
   "source": [
    "print(train_data.shape, test_data.shape)"
   ]
  },
  {
   "cell_type": "markdown",
   "id": "26e1d54c",
   "metadata": {},
   "source": [
    "### Build numpy arrays of descriptors"
   ]
  },
  {
   "cell_type": "code",
   "execution_count": 7,
   "id": "2be4c341",
   "metadata": {},
   "outputs": [
    {
     "data": {
      "application/vnd.jupyter.widget-view+json": {
       "model_id": "2e8934c2efa54e33afbce75896c12468",
       "version_major": 2,
       "version_minor": 0
      },
      "text/plain": [
       "  0%|          | 0/7754 [00:00<?, ?it/s]"
      ]
     },
     "metadata": {},
     "output_type": "display_data"
    },
    {
     "data": {
      "application/vnd.jupyter.widget-view+json": {
       "model_id": "1d250da8a9ca48169eb5a6a78f55f184",
       "version_major": 2,
       "version_minor": 0
      },
      "text/plain": [
       "  0%|          | 0/1939 [00:00<?, ?it/s]"
      ]
     },
     "metadata": {},
     "output_type": "display_data"
    }
   ],
   "source": [
    "collect()\n",
    "train_labels = np.empty((train_data.shape[0], num_descriptors))\n",
    "test_labels = np.empty((test_data.shape[0], num_descriptors))\n",
    "train_labels[:] = np.nan\n",
    "test_labels[:] = np.nan\n",
    "\n",
    "for i,mol in enumerate(tqdm(train_molecules)):\n",
    "    data_row = df.loc[df['SMILES'] == mol, descriptors ]\n",
    "    data_vec = [ r.to_list()[-1] for l,r in data_row.items() ]\n",
    "    train_labels[i,:] = np.asarray(data_vec)\n",
    "\n",
    "for i,mol in enumerate(tqdm(test_molecules)):\n",
    "    data_row = df.loc[df['SMILES'] == mol, descriptors ]\n",
    "    data_vec = [ r.to_list()[-1] for l,r in data_row.items() ]\n",
    "    test_labels[i,:] = np.asarray(data_vec)"
   ]
  },
  {
   "cell_type": "code",
   "execution_count": 8,
   "id": "8fefb6cf",
   "metadata": {},
   "outputs": [
    {
     "data": {
      "text/html": [
       "<pre style=\"white-space:pre;overflow-x:auto;line-height:normal;font-family:Menlo,'DejaVu Sans Mono',consolas,'Courier New',monospace\"><span style=\"font-weight: bold\">(</span><span style=\"color: #008080; text-decoration-color: #008080; font-weight: bold\">7754</span>, <span style=\"color: #008080; text-decoration-color: #008080; font-weight: bold\">2</span><span style=\"font-weight: bold\">)</span>\n",
       "<span style=\"font-weight: bold\">(</span><span style=\"color: #008080; text-decoration-color: #008080; font-weight: bold\">1939</span>, <span style=\"color: #008080; text-decoration-color: #008080; font-weight: bold\">2</span><span style=\"font-weight: bold\">)</span>\n",
       "</pre>\n"
      ],
      "text/plain": [
       "\u001b[1m(\u001b[0m\u001b[1;36m7754\u001b[0m, \u001b[1;36m2\u001b[0m\u001b[1m)\u001b[0m\n",
       "\u001b[1m(\u001b[0m\u001b[1;36m1939\u001b[0m, \u001b[1;36m2\u001b[0m\u001b[1m)\u001b[0m\n"
      ]
     },
     "metadata": {},
     "output_type": "display_data"
    }
   ],
   "source": [
    "print(train_labels.shape, test_labels.shape)"
   ]
  },
  {
   "cell_type": "code",
   "execution_count": 9,
   "id": "cd107505",
   "metadata": {},
   "outputs": [
    {
     "data": {
      "text/html": [
       "<pre style=\"white-space:pre;overflow-x:auto;line-height:normal;font-family:Menlo,'DejaVu Sans Mono',consolas,'Courier New',monospace\"><span style=\"color: #00ff00; text-decoration-color: #00ff00; font-style: italic\">True</span> <span style=\"color: #00ff00; text-decoration-color: #00ff00; font-style: italic\">True</span>\n",
       "</pre>\n"
      ],
      "text/plain": [
       "\u001b[3;92mTrue\u001b[0m \u001b[3;92mTrue\u001b[0m\n"
      ]
     },
     "metadata": {},
     "output_type": "display_data"
    }
   ],
   "source": [
    "print(not np.isnan(train_labels).any(), not np.isnan(test_labels).any())"
   ]
  },
  {
   "cell_type": "code",
   "execution_count": 10,
   "id": "19245bbb",
   "metadata": {},
   "outputs": [
    {
     "data": {
      "text/html": [
       "<pre style=\"white-space:pre;overflow-x:auto;line-height:normal;font-family:Menlo,'DejaVu Sans Mono',consolas,'Courier New',monospace\"><span style=\"font-weight: bold\">[</span><span style=\"color: #008080; text-decoration-color: #008080; font-weight: bold\">0</span>. <span style=\"color: #008080; text-decoration-color: #008080; font-weight: bold\">6</span>.<span style=\"font-weight: bold\">]</span>\n",
       "</pre>\n"
      ],
      "text/plain": [
       "\u001b[1m[\u001b[0m\u001b[1;36m0\u001b[0m. \u001b[1;36m6\u001b[0m.\u001b[1m]\u001b[0m\n"
      ]
     },
     "metadata": {},
     "output_type": "display_data"
    }
   ],
   "source": [
    "with np.printoptions(2, suppress = True):\n",
    "    print(choice(train_labels))"
   ]
  },
  {
   "cell_type": "markdown",
   "id": "3a99dffe",
   "metadata": {},
   "source": [
    "# Setup OLS model"
   ]
  },
  {
   "cell_type": "code",
   "execution_count": 11,
   "id": "e3b2b210",
   "metadata": {},
   "outputs": [
    {
     "data": {
      "text/plain": [
       "0.3585688571168597"
      ]
     },
     "execution_count": 11,
     "metadata": {},
     "output_type": "execute_result"
    }
   ],
   "source": [
    "from sklearn import linear_model\n",
    "\n",
    "#creating a regression object\n",
    "reg = linear_model.LinearRegression()\n",
    "\n",
    "#runnin OLS on your data, assuming that you already have arrays x and y\n",
    "reg.fit( train_data, train_labels )\n",
    "reg.score(train_data, train_labels)"
   ]
  },
  {
   "cell_type": "code",
   "execution_count": 12,
   "id": "4f2389b0",
   "metadata": {},
   "outputs": [
    {
     "data": {
      "text/plain": [
       "(2, 9)"
      ]
     },
     "execution_count": 12,
     "metadata": {},
     "output_type": "execute_result"
    }
   ],
   "source": [
    "reg.coef_.shape"
   ]
  },
  {
   "cell_type": "code",
   "execution_count": 13,
   "id": "77eecd99",
   "metadata": {},
   "outputs": [
    {
     "name": "stderr",
     "output_type": "stream",
     "text": [
      "2022-01-11 15:48:39.812265: I tensorflow/core/platform/cpu_feature_guard.cc:151] This TensorFlow binary is optimized with oneAPI Deep Neural Network Library (oneDNN) to use the following CPU instructions in performance-critical operations:  AVX2 FMA\n",
      "To enable them in other operations, rebuild TensorFlow with the appropriate compiler flags.\n",
      "2022-01-11 15:48:40.247443: I tensorflow/core/common_runtime/gpu/gpu_device.cc:1525] Created device /job:localhost/replica:0/task:0/device:GPU:0 with 17 MB memory:  -> device: 0, name: NVIDIA GeForce GTX 1070 Ti, pci bus id: 0000:01:00.0, compute capability: 6.1\n"
     ]
    },
    {
     "data": {
      "text/plain": [
       "3.438525915145874"
      ]
     },
     "execution_count": 13,
     "metadata": {},
     "output_type": "execute_result"
    }
   ],
   "source": [
    "# Using 'auto'/'sum_over_batch_size' reduction type.\n",
    "mae = tf.keras.losses.MeanAbsoluteError()\n",
    "mae(test_labels, reg.predict(test_data)).numpy()"
   ]
  },
  {
   "cell_type": "code",
   "execution_count": 14,
   "id": "fe30a3bc",
   "metadata": {
    "scrolled": false
   },
   "outputs": [
    {
     "data": {
      "text/html": [
       "<pre style=\"white-space:pre;overflow-x:auto;line-height:normal;font-family:Menlo,'DejaVu Sans Mono',consolas,'Courier New',monospace\"><span style=\"color: #008080; text-decoration-color: #008080; font-weight: bold\">3.438525768996398</span>\n",
       "</pre>\n"
      ],
      "text/plain": [
       "\u001b[1;36m3.438525768996398\u001b[0m\n"
      ]
     },
     "metadata": {},
     "output_type": "display_data"
    },
    {
     "data": {
      "text/html": [
       "<div>\n",
       "<style scoped>\n",
       "    .dataframe tbody tr th:only-of-type {\n",
       "        vertical-align: middle;\n",
       "    }\n",
       "\n",
       "    .dataframe tbody tr th {\n",
       "        vertical-align: top;\n",
       "    }\n",
       "\n",
       "    .dataframe thead th {\n",
       "        text-align: right;\n",
       "    }\n",
       "</style>\n",
       "<table border=\"1\" class=\"dataframe\">\n",
       "  <thead>\n",
       "    <tr style=\"text-align: right;\">\n",
       "      <th></th>\n",
       "      <th>Descriptor</th>\n",
       "      <th>_sigma</th>\n",
       "      <th>Average</th>\n",
       "      <th>Test Average</th>\n",
       "      <th>MAE</th>\n",
       "      <th>Gauss MAE</th>\n",
       "      <th>MAE/sigma</th>\n",
       "      <th>(GMAE*MAE)/sigma</th>\n",
       "    </tr>\n",
       "  </thead>\n",
       "  <tbody>\n",
       "    <tr>\n",
       "      <th>1</th>\n",
       "      <td>OEselma Descriptors;carbon_count</td>\n",
       "      <td>11.377305</td>\n",
       "      <td>17.636929</td>\n",
       "      <td>18.03507</td>\n",
       "      <td>5.706187</td>\n",
       "      <td>12.058898</td>\n",
       "      <td>0.501541</td>\n",
       "      <td>6.048034</td>\n",
       "    </tr>\n",
       "    <tr>\n",
       "      <th>0</th>\n",
       "      <td>OEselma Descriptors;ring_count</td>\n",
       "      <td>1.811629</td>\n",
       "      <td>2.602073</td>\n",
       "      <td>2.65704</td>\n",
       "      <td>1.170865</td>\n",
       "      <td>1.990166</td>\n",
       "      <td>0.646305</td>\n",
       "      <td>1.286253</td>\n",
       "    </tr>\n",
       "  </tbody>\n",
       "</table>\n",
       "</div>"
      ],
      "text/plain": [
       "                         Descriptor     _sigma    Average  Test Average  \\\n",
       "1  OEselma Descriptors;carbon_count  11.377305  17.636929      18.03507   \n",
       "0    OEselma Descriptors;ring_count   1.811629   2.602073       2.65704   \n",
       "\n",
       "        MAE  Gauss MAE  MAE/sigma  (GMAE*MAE)/sigma  \n",
       "1  5.706187  12.058898   0.501541          6.048034  \n",
       "0  1.170865   1.990166   0.646305          1.286253  "
      ]
     },
     "execution_count": 14,
     "metadata": {},
     "output_type": "execute_result"
    }
   ],
   "source": [
    "predicted = reg.predict(test_data)\n",
    "\n",
    "out_dict = dict()\n",
    "out_dict[\"Descriptor\"] = list()\n",
    "out_dict[\"_sigma\"] = list()\n",
    "out_dict[\"Average\"] = list()\n",
    "out_dict[\"Test Average\"] = test_labels.mean(axis = 0)\n",
    "out_dict[\"MAE\"] = np.abs(test_labels-predicted).mean(axis = 0)\n",
    "out_dict[\"Gauss MAE\"] = list()\n",
    "\n",
    "for i,d in enumerate(descriptors):\n",
    "    out_dict[\"Descriptor\"].append(d)\n",
    "    out_dict[\"Average\"].append(df[d].mean(skipna = True)) # population mean for this descriptor\n",
    "    out_dict[\"_sigma\"].append(df[d].std(skipna = True)) # population mean for this descriptor\n",
    "    out_dict[\"Gauss MAE\"].append(np.abs(\n",
    "        test_labels[:,i] - np.random.normal(\n",
    "            loc = df[d].mean(skipna = True),\n",
    "            scale = df[d].std(skipna = True),\n",
    "            size = (test_labels.shape[0],1)\n",
    "        )\n",
    "    ).mean())\n",
    "    \n",
    "out_dict[\"MAE/sigma\"] = out_dict[\"MAE\"]/out_dict[\"_sigma\"]\n",
    "out_dict[\"(GMAE*MAE)/sigma\"] = out_dict[\"MAE/sigma\"] * out_dict[\"Gauss MAE\"]\n",
    "    \n",
    "#out_dict[\"abs avg diff\"] = np.abs(out_dict[\"Average\"] - out_dict[\"Test Average\"])\n",
    "\n",
    "pd.set_option(\"display.max_rows\", None, \"display.max_columns\", None)\n",
    "out_df = pd.DataFrame(data = out_dict)\n",
    "print(out_dict[\"MAE\"].sum()/len(descriptors)) # THIS IS WHAT tf.keras.losses.MeanAbsoluteError() DOES\n",
    "out_df = out_df.sort_values(\"MAE/sigma\")\n",
    "out_df"
   ]
  },
  {
   "cell_type": "code",
   "execution_count": 15,
   "id": "f5f3743b",
   "metadata": {},
   "outputs": [
    {
     "data": {
      "text/html": [
       "<div>\n",
       "<style scoped>\n",
       "    .dataframe tbody tr th:only-of-type {\n",
       "        vertical-align: middle;\n",
       "    }\n",
       "\n",
       "    .dataframe tbody tr th {\n",
       "        vertical-align: top;\n",
       "    }\n",
       "\n",
       "    .dataframe thead th {\n",
       "        text-align: right;\n",
       "    }\n",
       "</style>\n",
       "<table border=\"1\" class=\"dataframe\">\n",
       "  <thead>\n",
       "    <tr style=\"text-align: right;\">\n",
       "      <th></th>\n",
       "      <th>Descriptors</th>\n",
       "      <th>sigma</th>\n",
       "      <th>Avg</th>\n",
       "      <th>Test avg</th>\n",
       "      <th>MAE</th>\n",
       "      <th>MAE/sigma</th>\n",
       "    </tr>\n",
       "  </thead>\n",
       "  <tbody>\n",
       "    <tr>\n",
       "      <th>1</th>\n",
       "      <td>OEselma Descriptors;carbon_count</td>\n",
       "      <td>11.377305</td>\n",
       "      <td>17.636929</td>\n",
       "      <td>18.03507</td>\n",
       "      <td>5.706187</td>\n",
       "      <td>0.501541</td>\n",
       "    </tr>\n",
       "    <tr>\n",
       "      <th>0</th>\n",
       "      <td>OEselma Descriptors;ring_count</td>\n",
       "      <td>1.811629</td>\n",
       "      <td>2.602073</td>\n",
       "      <td>2.65704</td>\n",
       "      <td>1.170865</td>\n",
       "      <td>0.646305</td>\n",
       "    </tr>\n",
       "  </tbody>\n",
       "</table>\n",
       "</div>"
      ],
      "text/plain": [
       "                        Descriptors      sigma        Avg  Test avg       MAE  \\\n",
       "1  OEselma Descriptors;carbon_count  11.377305  17.636929  18.03507  5.706187   \n",
       "0    OEselma Descriptors;ring_count   1.811629   2.602073   2.65704  1.170865   \n",
       "\n",
       "   MAE/sigma  \n",
       "1   0.501541  \n",
       "0   0.646305  "
      ]
     },
     "execution_count": 15,
     "metadata": {},
     "output_type": "execute_result"
    }
   ],
   "source": [
    "latex_dict = dict()\n",
    "latex_dict[\"Descriptors\"] = out_dict[\"Descriptor\"]\n",
    "latex_dict[\"sigma\"]       = out_dict[\"_sigma\"]\n",
    "latex_dict[\"Avg\"]         = out_dict[\"Average\"]\n",
    "latex_dict[\"Test avg\"]    = out_dict[\"Test Average\"]\n",
    "latex_dict[\"MAE\"]         = out_dict[\"MAE\"] \n",
    "latex_dict[\"MAE/sigma\"]   = out_dict[\"MAE/sigma\"]\n",
    "latex_df = pd.DataFrame(data = latex_dict)\n",
    "latex_df = latex_df.sort_values(\"MAE/sigma\")\n",
    "latex_df"
   ]
  },
  {
   "cell_type": "code",
   "execution_count": 16,
   "id": "a20afa1c",
   "metadata": {
    "scrolled": false
   },
   "outputs": [
    {
     "data": {
      "text/html": [
       "<pre style=\"white-space:pre;overflow-x:auto;line-height:normal;font-family:Menlo,'DejaVu Sans Mono',consolas,'Courier New',monospace\">\\begin<span style=\"font-weight: bold\">{</span>tabular<span style=\"font-weight: bold\">}{</span>llrrrrr<span style=\"font-weight: bold\">}</span>\n",
       "\\toprule\n",
       "<span style=\"font-weight: bold\">{}</span> &amp;                       Descriptors &amp;      sigma &amp;        Avg &amp;  Test avg &amp;       MAE &amp;  \n",
       "MAE/sigma \\\\\n",
       "\\midrule\n",
       "<span style=\"color: #008080; text-decoration-color: #008080; font-weight: bold\">1</span> &amp;  OEselma Descriptors;carbon\\_count &amp;  <span style=\"color: #008080; text-decoration-color: #008080; font-weight: bold\">11.377305</span> &amp;  <span style=\"color: #008080; text-decoration-color: #008080; font-weight: bold\">17.636929</span> &amp;  <span style=\"color: #008080; text-decoration-color: #008080; font-weight: bold\">18.03507</span> &amp;  <span style=\"color: #008080; text-decoration-color: #008080; font-weight: bold\">5.706187</span> &amp;   \n",
       "<span style=\"color: #008080; text-decoration-color: #008080; font-weight: bold\">0.501541</span> \\\\\n",
       "<span style=\"color: #008080; text-decoration-color: #008080; font-weight: bold\">0</span> &amp;    OEselma Descriptors;ring\\_count &amp;   <span style=\"color: #008080; text-decoration-color: #008080; font-weight: bold\">1.811629</span> &amp;   <span style=\"color: #008080; text-decoration-color: #008080; font-weight: bold\">2.602073</span> &amp;   <span style=\"color: #008080; text-decoration-color: #008080; font-weight: bold\">2.65704</span> &amp;  <span style=\"color: #008080; text-decoration-color: #008080; font-weight: bold\">1.170865</span> &amp;   \n",
       "<span style=\"color: #008080; text-decoration-color: #008080; font-weight: bold\">0.646305</span> \\\\\n",
       "\\bottomrule\n",
       "\\end<span style=\"font-weight: bold\">{</span>tabular<span style=\"font-weight: bold\">}</span>\n",
       "\n",
       "</pre>\n"
      ],
      "text/plain": [
       "\\begin\u001b[1m{\u001b[0mtabular\u001b[1m}\u001b[0m\u001b[1m{\u001b[0mllrrrrr\u001b[1m}\u001b[0m\n",
       "\\toprule\n",
       "\u001b[1m{\u001b[0m\u001b[1m}\u001b[0m &                       Descriptors &      sigma &        Avg &  Test avg &       MAE &  \n",
       "MAE/sigma \\\\\n",
       "\\midrule\n",
       "\u001b[1;36m1\u001b[0m &  OEselma Descriptors;carbon\\_count &  \u001b[1;36m11.377305\u001b[0m &  \u001b[1;36m17.636929\u001b[0m &  \u001b[1;36m18.03507\u001b[0m &  \u001b[1;36m5.706187\u001b[0m &   \n",
       "\u001b[1;36m0.501541\u001b[0m \\\\\n",
       "\u001b[1;36m0\u001b[0m &    OEselma Descriptors;ring\\_count &   \u001b[1;36m1.811629\u001b[0m &   \u001b[1;36m2.602073\u001b[0m &   \u001b[1;36m2.65704\u001b[0m &  \u001b[1;36m1.170865\u001b[0m &   \n",
       "\u001b[1;36m0.646305\u001b[0m \\\\\n",
       "\\bottomrule\n",
       "\\end\u001b[1m{\u001b[0mtabular\u001b[1m}\u001b[0m\n",
       "\n"
      ]
     },
     "metadata": {},
     "output_type": "display_data"
    }
   ],
   "source": [
    "print(latex_df.to_latex())"
   ]
  }
 ],
 "metadata": {
  "kernelspec": {
   "display_name": "Python 3: Topological Data Analysis",
   "language": "python",
   "name": "az1"
  },
  "language_info": {
   "codemirror_mode": {
    "name": "ipython",
    "version": 3
   },
   "file_extension": ".py",
   "mimetype": "text/x-python",
   "name": "python",
   "nbconvert_exporter": "python",
   "pygments_lexer": "ipython3",
   "version": "3.9.7"
  }
 },
 "nbformat": 4,
 "nbformat_minor": 5
}
